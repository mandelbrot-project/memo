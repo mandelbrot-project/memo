{
 "cells": [
  {
   "cell_type": "markdown",
   "metadata": {},
   "source": [
    "# MEMO Tutorial on the Qemistree Evaluation Dataset"
   ]
  },
  {
   "cell_type": "markdown",
   "metadata": {},
   "source": [
    "In this tutorial, we will use the Qemistree published dataset (https://doi.org/10.1038/s41589-020-00677-3) to apply the MS2 BasEd SaMple VectOrization (MEMO) method\n",
    "\n",
    "The dataset is constitued of 2 fecal samples, 1 tomato sample and 1 plasma sample, plus different binary/quaternary mixtures of these four samples. Samples were profiled in UHPLC-MS/MS (Q-Exactive spectrometer) using 2 different LC-methods. Each sample was acquired in triplicates using each LC-method (see Qemistree paper for details)."
   ]
  },
  {
   "cell_type": "markdown",
   "metadata": {},
   "source": [
    "## First we import the needed packages\n",
    "Be sure to have first installed memo using 'pip install memo' within the memo environment. \n",
    "Also make sure to launch this notebook using the memo conda environement."
   ]
  },
  {
   "cell_type": "code",
   "execution_count": 1,
   "metadata": {
    "scrolled": true
   },
   "outputs": [],
   "source": [
    "import pandas as pd\n",
    "import numpy as np\n",
    "import memo_ms as memo\n",
    "import plotly.express as px"
   ]
  },
  {
   "cell_type": "code",
   "execution_count": 2,
   "metadata": {
    "tags": [
     "parameters"
    ]
   },
   "outputs": [],
   "source": [
    "# this cell is tagged 'parameters'\n",
    "fake_parameter = 'foo'"
   ]
  },
  {
   "cell_type": "markdown",
   "metadata": {},
   "source": [
    "With this step we import metadata:"
   ]
  },
  {
   "cell_type": "code",
   "execution_count": 6,
   "metadata": {},
   "outputs": [
    {
     "data": {
      "text/plain": [
       "'/Users/pma/Dropbox/git_repos/mandelbrot_project/memo/tutorial'"
      ]
     },
     "execution_count": 6,
     "metadata": {},
     "output_type": "execute_result"
    }
   ],
   "source": [
    "pwd()"
   ]
  },
  {
   "cell_type": "code",
   "execution_count": 7,
   "metadata": {},
   "outputs": [
    {
     "data": {
      "text/html": [
       "<div>\n",
       "<style scoped>\n",
       "    .dataframe tbody tr th:only-of-type {\n",
       "        vertical-align: middle;\n",
       "    }\n",
       "\n",
       "    .dataframe tbody tr th {\n",
       "        vertical-align: top;\n",
       "    }\n",
       "\n",
       "    .dataframe thead th {\n",
       "        text-align: right;\n",
       "    }\n",
       "</style>\n",
       "<table border=\"1\" class=\"dataframe\">\n",
       "  <thead>\n",
       "    <tr style=\"text-align: right;\">\n",
       "      <th></th>\n",
       "      <th>Filename</th>\n",
       "      <th>Experiment</th>\n",
       "      <th>Samplename</th>\n",
       "      <th>Triplicate_number</th>\n",
       "      <th>Proportion_Fecal_1</th>\n",
       "      <th>Proportion_Fecal_2</th>\n",
       "      <th>Proportion_Tomato</th>\n",
       "      <th>Proportion_NIST_1950_SRM</th>\n",
       "      <th>contains</th>\n",
       "      <th>instrument</th>\n",
       "      <th>blank_qc</th>\n",
       "    </tr>\n",
       "  </thead>\n",
       "  <tbody>\n",
       "    <tr>\n",
       "      <th>0</th>\n",
       "      <td>QEC18_Blank_resusp_20181226235330.mzML</td>\n",
       "      <td>C18</td>\n",
       "      <td>QE_C18_BLANK</td>\n",
       "      <td>1</td>\n",
       "      <td>0</td>\n",
       "      <td>0</td>\n",
       "      <td>0</td>\n",
       "      <td>0</td>\n",
       "      <td>What is it? :)</td>\n",
       "      <td>QE</td>\n",
       "      <td>yes</td>\n",
       "    </tr>\n",
       "    <tr>\n",
       "      <th>1</th>\n",
       "      <td>QEC18_Blank_resusp_20181227024429.mzML</td>\n",
       "      <td>C18</td>\n",
       "      <td>QE_C18_BLANK</td>\n",
       "      <td>2</td>\n",
       "      <td>0</td>\n",
       "      <td>0</td>\n",
       "      <td>0</td>\n",
       "      <td>0</td>\n",
       "      <td>What is it? :)</td>\n",
       "      <td>QE</td>\n",
       "      <td>yes</td>\n",
       "    </tr>\n",
       "    <tr>\n",
       "      <th>2</th>\n",
       "      <td>QEC18_Blank_resusp_20181227051626.mzML</td>\n",
       "      <td>C18</td>\n",
       "      <td>QE_C18_BLANK</td>\n",
       "      <td>3</td>\n",
       "      <td>0</td>\n",
       "      <td>0</td>\n",
       "      <td>0</td>\n",
       "      <td>0</td>\n",
       "      <td>What is it? :)</td>\n",
       "      <td>QE</td>\n",
       "      <td>yes</td>\n",
       "    </tr>\n",
       "    <tr>\n",
       "      <th>3</th>\n",
       "      <td>QEC18_Blank_resusp_20181227072924.mzML</td>\n",
       "      <td>C18</td>\n",
       "      <td>QE_C18_BLANK</td>\n",
       "      <td>4</td>\n",
       "      <td>0</td>\n",
       "      <td>0</td>\n",
       "      <td>0</td>\n",
       "      <td>0</td>\n",
       "      <td>What is it? :)</td>\n",
       "      <td>QE</td>\n",
       "      <td>yes</td>\n",
       "    </tr>\n",
       "    <tr>\n",
       "      <th>4</th>\n",
       "      <td>QEC18_Blank_resusp_20181227100129.mzML</td>\n",
       "      <td>C18</td>\n",
       "      <td>QE_C18_BLANK</td>\n",
       "      <td>5</td>\n",
       "      <td>0</td>\n",
       "      <td>0</td>\n",
       "      <td>0</td>\n",
       "      <td>0</td>\n",
       "      <td>What is it? :)</td>\n",
       "      <td>QE</td>\n",
       "      <td>yes</td>\n",
       "    </tr>\n",
       "    <tr>\n",
       "      <th>...</th>\n",
       "      <td>...</td>\n",
       "      <td>...</td>\n",
       "      <td>...</td>\n",
       "      <td>...</td>\n",
       "      <td>...</td>\n",
       "      <td>...</td>\n",
       "      <td>...</td>\n",
       "      <td>...</td>\n",
       "      <td>...</td>\n",
       "      <td>...</td>\n",
       "      <td>...</td>\n",
       "    </tr>\n",
       "    <tr>\n",
       "      <th>565</th>\n",
       "      <td>C18_F1-3_To-1_GC5_01_19577.mzML</td>\n",
       "      <td>C18-RTshift</td>\n",
       "      <td>qTOF_C18-RTshift_F1-3_To-1</td>\n",
       "      <td>2</td>\n",
       "      <td>75</td>\n",
       "      <td>0</td>\n",
       "      <td>25</td>\n",
       "      <td>0</td>\n",
       "      <td>Fecal_1 + Tomato</td>\n",
       "      <td>qTOF</td>\n",
       "      <td>no</td>\n",
       "    </tr>\n",
       "    <tr>\n",
       "      <th>566</th>\n",
       "      <td>C18_F1-3_To-1_GC5_01_19584.mzML</td>\n",
       "      <td>C18-RTshift</td>\n",
       "      <td>qTOF_C18-RTshift_F1-3_To-1</td>\n",
       "      <td>3</td>\n",
       "      <td>75</td>\n",
       "      <td>0</td>\n",
       "      <td>25</td>\n",
       "      <td>0</td>\n",
       "      <td>Fecal_1 + Tomato</td>\n",
       "      <td>qTOF</td>\n",
       "      <td>no</td>\n",
       "    </tr>\n",
       "    <tr>\n",
       "      <th>567</th>\n",
       "      <td>C18_F1-3_F2-1_GB4_01_19512.mzML</td>\n",
       "      <td>C18-RTshift</td>\n",
       "      <td>qTOF_C18-RTshift_F1-3_F2-1</td>\n",
       "      <td>1</td>\n",
       "      <td>75</td>\n",
       "      <td>25</td>\n",
       "      <td>0</td>\n",
       "      <td>0</td>\n",
       "      <td>Fecal_1 + Fecal_2</td>\n",
       "      <td>qTOF</td>\n",
       "      <td>no</td>\n",
       "    </tr>\n",
       "    <tr>\n",
       "      <th>568</th>\n",
       "      <td>C18_F1-3_F2-1_GB4_01_19547.mzML</td>\n",
       "      <td>C18-RTshift</td>\n",
       "      <td>qTOF_C18-RTshift_F1-3_F2-1</td>\n",
       "      <td>2</td>\n",
       "      <td>75</td>\n",
       "      <td>25</td>\n",
       "      <td>0</td>\n",
       "      <td>0</td>\n",
       "      <td>Fecal_1 + Fecal_2</td>\n",
       "      <td>qTOF</td>\n",
       "      <td>no</td>\n",
       "    </tr>\n",
       "    <tr>\n",
       "      <th>569</th>\n",
       "      <td>C18_F1-3_F2-1_GB4_01_19562.mzML</td>\n",
       "      <td>C18-RTshift</td>\n",
       "      <td>qTOF_C18-RTshift_F1-3_F2-1</td>\n",
       "      <td>3</td>\n",
       "      <td>75</td>\n",
       "      <td>25</td>\n",
       "      <td>0</td>\n",
       "      <td>0</td>\n",
       "      <td>Fecal_1 + Fecal_2</td>\n",
       "      <td>qTOF</td>\n",
       "      <td>no</td>\n",
       "    </tr>\n",
       "  </tbody>\n",
       "</table>\n",
       "<p>570 rows × 11 columns</p>\n",
       "</div>"
      ],
      "text/plain": [
       "                                   Filename   Experiment  \\\n",
       "0    QEC18_Blank_resusp_20181226235330.mzML          C18   \n",
       "1    QEC18_Blank_resusp_20181227024429.mzML          C18   \n",
       "2    QEC18_Blank_resusp_20181227051626.mzML          C18   \n",
       "3    QEC18_Blank_resusp_20181227072924.mzML          C18   \n",
       "4    QEC18_Blank_resusp_20181227100129.mzML          C18   \n",
       "..                                      ...          ...   \n",
       "565         C18_F1-3_To-1_GC5_01_19577.mzML  C18-RTshift   \n",
       "566         C18_F1-3_To-1_GC5_01_19584.mzML  C18-RTshift   \n",
       "567         C18_F1-3_F2-1_GB4_01_19512.mzML  C18-RTshift   \n",
       "568         C18_F1-3_F2-1_GB4_01_19547.mzML  C18-RTshift   \n",
       "569         C18_F1-3_F2-1_GB4_01_19562.mzML  C18-RTshift   \n",
       "\n",
       "                     Samplename  Triplicate_number  Proportion_Fecal_1  \\\n",
       "0                  QE_C18_BLANK                  1                   0   \n",
       "1                  QE_C18_BLANK                  2                   0   \n",
       "2                  QE_C18_BLANK                  3                   0   \n",
       "3                  QE_C18_BLANK                  4                   0   \n",
       "4                  QE_C18_BLANK                  5                   0   \n",
       "..                          ...                ...                 ...   \n",
       "565  qTOF_C18-RTshift_F1-3_To-1                  2                  75   \n",
       "566  qTOF_C18-RTshift_F1-3_To-1                  3                  75   \n",
       "567  qTOF_C18-RTshift_F1-3_F2-1                  1                  75   \n",
       "568  qTOF_C18-RTshift_F1-3_F2-1                  2                  75   \n",
       "569  qTOF_C18-RTshift_F1-3_F2-1                  3                  75   \n",
       "\n",
       "     Proportion_Fecal_2  Proportion_Tomato  Proportion_NIST_1950_SRM  \\\n",
       "0                     0                  0                         0   \n",
       "1                     0                  0                         0   \n",
       "2                     0                  0                         0   \n",
       "3                     0                  0                         0   \n",
       "4                     0                  0                         0   \n",
       "..                  ...                ...                       ...   \n",
       "565                   0                 25                         0   \n",
       "566                   0                 25                         0   \n",
       "567                  25                  0                         0   \n",
       "568                  25                  0                         0   \n",
       "569                  25                  0                         0   \n",
       "\n",
       "              contains instrument blank_qc  \n",
       "0       What is it? :)         QE      yes  \n",
       "1       What is it? :)         QE      yes  \n",
       "2       What is it? :)         QE      yes  \n",
       "3       What is it? :)         QE      yes  \n",
       "4       What is it? :)         QE      yes  \n",
       "..                 ...        ...      ...  \n",
       "565   Fecal_1 + Tomato       qTOF       no  \n",
       "566   Fecal_1 + Tomato       qTOF       no  \n",
       "567  Fecal_1 + Fecal_2       qTOF       no  \n",
       "568  Fecal_1 + Fecal_2       qTOF       no  \n",
       "569  Fecal_1 + Fecal_2       qTOF       no  \n",
       "\n",
       "[570 rows x 11 columns]"
      ]
     },
     "execution_count": 7,
     "metadata": {},
     "output_type": "execute_result"
    }
   ],
   "source": [
    "\n",
    "def conditions(df_meta):\n",
    "    if ((df_meta['Proportion_Fecal_1']>0) & (df_meta['Proportion_Fecal_2']==0)& (df_meta['Proportion_Tomato']==0) & (df_meta['Proportion_NIST_1950_SRM']==0)):\n",
    "        return 'Fecal_1'\n",
    "    if ((df_meta['Proportion_Fecal_1']==0) & (df_meta['Proportion_Fecal_2']>0)& (df_meta['Proportion_Tomato']==0) & (df_meta['Proportion_NIST_1950_SRM']==0)):\n",
    "        return 'Fecal_2'\n",
    "    if ((df_meta['Proportion_Fecal_1']==0) & (df_meta['Proportion_Fecal_2']==0)& (df_meta['Proportion_Tomato']>0) & (df_meta['Proportion_NIST_1950_SRM']==0)):\n",
    "        return 'Tomato'\n",
    "    if ((df_meta['Proportion_Fecal_1']==0) & (df_meta['Proportion_Fecal_2']==0)& (df_meta['Proportion_Tomato']==0) & (df_meta['Proportion_NIST_1950_SRM']>0)):\n",
    "        return 'Plasma'\n",
    "    if ((df_meta['Proportion_Fecal_1']>0) & (df_meta['Proportion_Fecal_2']>0)& (df_meta['Proportion_Tomato']==0) & (df_meta['Proportion_NIST_1950_SRM']==0)):\n",
    "        return 'Fecal_1 + Fecal_2'\n",
    "    if ((df_meta['Proportion_Fecal_1']>0) & (df_meta['Proportion_Fecal_2']==0)& (df_meta['Proportion_Tomato']>0) & (df_meta['Proportion_NIST_1950_SRM']==0)):\n",
    "        return 'Fecal_1 + Tomato'\n",
    "    if ((df_meta['Proportion_Fecal_1']>0) & (df_meta['Proportion_Fecal_2']==0)& (df_meta['Proportion_Tomato']==0) & (df_meta['Proportion_NIST_1950_SRM']>0)):\n",
    "        return 'Fecal_1 + Plasma'\n",
    "    if ((df_meta['Proportion_Fecal_1']==0) & (df_meta['Proportion_Fecal_2']>0)& (df_meta['Proportion_Tomato']>0) & (df_meta['Proportion_NIST_1950_SRM']==0)):\n",
    "        return 'Fecal_2 + Tomato'\n",
    "    if ((df_meta['Proportion_Fecal_1']==0) & (df_meta['Proportion_Fecal_2']>0)& (df_meta['Proportion_Tomato']==0) & (df_meta['Proportion_NIST_1950_SRM']>0)):\n",
    "        return 'Fecal_2 + Plasma'\n",
    "    if ((df_meta['Proportion_Fecal_1']==0) & (df_meta['Proportion_Fecal_2']==0)& (df_meta['Proportion_Tomato']>0) & (df_meta['Proportion_NIST_1950_SRM']>0)):\n",
    "        return 'Tomato + Plasma'\n",
    "    if ((df_meta['Proportion_Fecal_1']>0) & (df_meta['Proportion_Fecal_2']>0)& (df_meta['Proportion_Tomato']>0) & (df_meta['Proportion_NIST_1950_SRM']>0)):\n",
    "        return 'Fecal_1 + Fecal_2 + Tomato + Plasma' \n",
    "    else:\n",
    "        return 'What is it? :)'\n",
    "\n",
    "\n",
    "df_meta = pd.read_csv(\"../data/1901_gradient_benchmarking_dataset_v4_sample_metadata.txt\", sep='\\t')\n",
    "df_meta['Samplename'] = df_meta['Samplename'].str[:-6]\n",
    "df_meta['Samplename'] = df_meta['Samplename'].str.replace('BLANK_', 'BLANK')\n",
    "df_meta = df_meta[['Filename', 'Experiment', 'Samplename', 'Triplicate_number', 'Proportion_Fecal_1', 'Proportion_Fecal_2', 'Proportion_Tomato', 'Proportion_NIST_1950_SRM']]\n",
    "df_meta['contains'] = df_meta.apply(conditions, axis=1)\n",
    "df_meta['instrument'] = np.where(df_meta['Samplename'].str.contains('qTOF'), 'qTOF', 'QE')\n",
    "df_meta['blank_qc'] = np.where(df_meta['Samplename'].str.contains('blank|qcmix', case = False), 'yes', 'no')\n",
    "df_meta\n"
   ]
  },
  {
   "cell_type": "markdown",
   "metadata": {},
   "source": [
    "## Import feature_quant table\n",
    "To compute the MEMO matrix of the dataset, we need the table reporting presence/absence of each metabolite in each sample. This information is in the quant table and we create a memo.FeatureTable dataclass object to load it."
   ]
  },
  {
   "cell_type": "code",
   "execution_count": 8,
   "metadata": {},
   "outputs": [
    {
     "data": {
      "text/html": [
       "<div>\n",
       "<style scoped>\n",
       "    .dataframe tbody tr th:only-of-type {\n",
       "        vertical-align: middle;\n",
       "    }\n",
       "\n",
       "    .dataframe tbody tr th {\n",
       "        vertical-align: top;\n",
       "    }\n",
       "\n",
       "    .dataframe thead th {\n",
       "        text-align: right;\n",
       "    }\n",
       "</style>\n",
       "<table border=\"1\" class=\"dataframe\">\n",
       "  <thead>\n",
       "    <tr style=\"text-align: right;\">\n",
       "      <th>feature_id</th>\n",
       "      <th>1</th>\n",
       "      <th>2</th>\n",
       "      <th>3</th>\n",
       "      <th>4</th>\n",
       "      <th>5</th>\n",
       "      <th>6</th>\n",
       "      <th>7</th>\n",
       "      <th>8</th>\n",
       "      <th>9</th>\n",
       "      <th>10</th>\n",
       "      <th>...</th>\n",
       "      <th>7023</th>\n",
       "      <th>7024</th>\n",
       "      <th>7025</th>\n",
       "      <th>7026</th>\n",
       "      <th>7027</th>\n",
       "      <th>7028</th>\n",
       "      <th>7029</th>\n",
       "      <th>7030</th>\n",
       "      <th>7031</th>\n",
       "      <th>7032</th>\n",
       "    </tr>\n",
       "    <tr>\n",
       "      <th>filename</th>\n",
       "      <th></th>\n",
       "      <th></th>\n",
       "      <th></th>\n",
       "      <th></th>\n",
       "      <th></th>\n",
       "      <th></th>\n",
       "      <th></th>\n",
       "      <th></th>\n",
       "      <th></th>\n",
       "      <th></th>\n",
       "      <th></th>\n",
       "      <th></th>\n",
       "      <th></th>\n",
       "      <th></th>\n",
       "      <th></th>\n",
       "      <th></th>\n",
       "      <th></th>\n",
       "      <th></th>\n",
       "      <th></th>\n",
       "      <th></th>\n",
       "      <th></th>\n",
       "    </tr>\n",
       "  </thead>\n",
       "  <tbody>\n",
       "    <tr>\n",
       "      <th>QEC18_Blank_resusp_20181227024429.mzML</th>\n",
       "      <td>8.739521e+08</td>\n",
       "      <td>1.481579e+08</td>\n",
       "      <td>9.837010e+07</td>\n",
       "      <td>8.224197e+07</td>\n",
       "      <td>7.315887e+07</td>\n",
       "      <td>7.114766e+07</td>\n",
       "      <td>1.555986e+08</td>\n",
       "      <td>1.176479e+08</td>\n",
       "      <td>4.639512e+07</td>\n",
       "      <td>1.054225e+08</td>\n",
       "      <td>...</td>\n",
       "      <td>0.000000e+00</td>\n",
       "      <td>0.000000e+00</td>\n",
       "      <td>0.000000e+00</td>\n",
       "      <td>0.000000e+00</td>\n",
       "      <td>0.000000e+00</td>\n",
       "      <td>0.000000e+00</td>\n",
       "      <td>0.000000e+00</td>\n",
       "      <td>7.638457e+03</td>\n",
       "      <td>0.000000e+00</td>\n",
       "      <td>0.000000e+00</td>\n",
       "    </tr>\n",
       "    <tr>\n",
       "      <th>QEC18_Blank_resusp_20181227200515.mzML</th>\n",
       "      <td>1.205125e+09</td>\n",
       "      <td>3.421555e+08</td>\n",
       "      <td>2.866821e+07</td>\n",
       "      <td>8.136892e+07</td>\n",
       "      <td>7.267058e+07</td>\n",
       "      <td>1.397751e+08</td>\n",
       "      <td>1.432423e+08</td>\n",
       "      <td>3.201985e+07</td>\n",
       "      <td>1.318607e+08</td>\n",
       "      <td>1.307877e+04</td>\n",
       "      <td>...</td>\n",
       "      <td>1.403758e+03</td>\n",
       "      <td>0.000000e+00</td>\n",
       "      <td>0.000000e+00</td>\n",
       "      <td>0.000000e+00</td>\n",
       "      <td>0.000000e+00</td>\n",
       "      <td>0.000000e+00</td>\n",
       "      <td>0.000000e+00</td>\n",
       "      <td>2.869926e+03</td>\n",
       "      <td>0.000000e+00</td>\n",
       "      <td>0.000000e+00</td>\n",
       "    </tr>\n",
       "    <tr>\n",
       "      <th>QEC18_Blank_resusp_20181227180406.mzML</th>\n",
       "      <td>8.856410e+08</td>\n",
       "      <td>2.189828e+08</td>\n",
       "      <td>1.133203e+08</td>\n",
       "      <td>1.442344e+08</td>\n",
       "      <td>2.595832e+08</td>\n",
       "      <td>1.260566e+08</td>\n",
       "      <td>1.637546e+08</td>\n",
       "      <td>6.510952e+07</td>\n",
       "      <td>9.251141e+07</td>\n",
       "      <td>5.368852e+07</td>\n",
       "      <td>...</td>\n",
       "      <td>5.255234e+02</td>\n",
       "      <td>0.000000e+00</td>\n",
       "      <td>2.501361e+03</td>\n",
       "      <td>0.000000e+00</td>\n",
       "      <td>0.000000e+00</td>\n",
       "      <td>0.000000e+00</td>\n",
       "      <td>0.000000e+00</td>\n",
       "      <td>5.820253e+03</td>\n",
       "      <td>0.000000e+00</td>\n",
       "      <td>0.000000e+00</td>\n",
       "    </tr>\n",
       "    <tr>\n",
       "      <th>QEC18_Blank_resusp_20181227100129.mzML</th>\n",
       "      <td>1.672233e+09</td>\n",
       "      <td>3.215060e+08</td>\n",
       "      <td>2.621886e+08</td>\n",
       "      <td>2.304763e+08</td>\n",
       "      <td>0.000000e+00</td>\n",
       "      <td>1.504232e+08</td>\n",
       "      <td>1.600571e+08</td>\n",
       "      <td>1.044643e+08</td>\n",
       "      <td>1.385671e+08</td>\n",
       "      <td>5.633343e+03</td>\n",
       "      <td>...</td>\n",
       "      <td>0.000000e+00</td>\n",
       "      <td>0.000000e+00</td>\n",
       "      <td>1.025391e+03</td>\n",
       "      <td>0.000000e+00</td>\n",
       "      <td>0.000000e+00</td>\n",
       "      <td>0.000000e+00</td>\n",
       "      <td>0.000000e+00</td>\n",
       "      <td>2.094878e+03</td>\n",
       "      <td>0.000000e+00</td>\n",
       "      <td>0.000000e+00</td>\n",
       "    </tr>\n",
       "    <tr>\n",
       "      <th>QEC18_Blank_resusp_20181226235330.mzML</th>\n",
       "      <td>3.730564e+08</td>\n",
       "      <td>1.466751e+08</td>\n",
       "      <td>4.948088e+07</td>\n",
       "      <td>0.000000e+00</td>\n",
       "      <td>2.946699e+08</td>\n",
       "      <td>4.121042e+07</td>\n",
       "      <td>1.494343e+08</td>\n",
       "      <td>1.815754e+08</td>\n",
       "      <td>2.512913e+07</td>\n",
       "      <td>4.915055e+07</td>\n",
       "      <td>...</td>\n",
       "      <td>0.000000e+00</td>\n",
       "      <td>0.000000e+00</td>\n",
       "      <td>0.000000e+00</td>\n",
       "      <td>0.000000e+00</td>\n",
       "      <td>0.000000e+00</td>\n",
       "      <td>0.000000e+00</td>\n",
       "      <td>0.000000e+00</td>\n",
       "      <td>6.407866e+03</td>\n",
       "      <td>0.000000e+00</td>\n",
       "      <td>0.000000e+00</td>\n",
       "    </tr>\n",
       "    <tr>\n",
       "      <th>...</th>\n",
       "      <td>...</td>\n",
       "      <td>...</td>\n",
       "      <td>...</td>\n",
       "      <td>...</td>\n",
       "      <td>...</td>\n",
       "      <td>...</td>\n",
       "      <td>...</td>\n",
       "      <td>...</td>\n",
       "      <td>...</td>\n",
       "      <td>...</td>\n",
       "      <td>...</td>\n",
       "      <td>...</td>\n",
       "      <td>...</td>\n",
       "      <td>...</td>\n",
       "      <td>...</td>\n",
       "      <td>...</td>\n",
       "      <td>...</td>\n",
       "      <td>...</td>\n",
       "      <td>...</td>\n",
       "      <td>...</td>\n",
       "      <td>...</td>\n",
       "    </tr>\n",
       "    <tr>\n",
       "      <th>QEC18RT_F1.mzML</th>\n",
       "      <td>2.651802e+05</td>\n",
       "      <td>5.065530e+05</td>\n",
       "      <td>0.000000e+00</td>\n",
       "      <td>4.924721e+05</td>\n",
       "      <td>2.399147e+05</td>\n",
       "      <td>0.000000e+00</td>\n",
       "      <td>1.089271e+06</td>\n",
       "      <td>2.190487e+04</td>\n",
       "      <td>1.182916e+05</td>\n",
       "      <td>1.174440e+08</td>\n",
       "      <td>...</td>\n",
       "      <td>2.796922e+06</td>\n",
       "      <td>3.081157e+07</td>\n",
       "      <td>2.221418e+07</td>\n",
       "      <td>1.504250e+07</td>\n",
       "      <td>6.198181e+06</td>\n",
       "      <td>4.512574e+06</td>\n",
       "      <td>1.276397e+07</td>\n",
       "      <td>8.826358e+06</td>\n",
       "      <td>3.281628e+06</td>\n",
       "      <td>2.809365e+07</td>\n",
       "    </tr>\n",
       "    <tr>\n",
       "      <th>QEC18RT_F1_20181229114729.mzML</th>\n",
       "      <td>5.304884e+05</td>\n",
       "      <td>2.502201e+05</td>\n",
       "      <td>0.000000e+00</td>\n",
       "      <td>8.183989e+03</td>\n",
       "      <td>8.817621e+05</td>\n",
       "      <td>0.000000e+00</td>\n",
       "      <td>2.379306e+06</td>\n",
       "      <td>1.395917e+05</td>\n",
       "      <td>1.935925e+05</td>\n",
       "      <td>1.171058e+08</td>\n",
       "      <td>...</td>\n",
       "      <td>1.961899e+06</td>\n",
       "      <td>3.297185e+07</td>\n",
       "      <td>0.000000e+00</td>\n",
       "      <td>1.277410e+07</td>\n",
       "      <td>1.953058e+05</td>\n",
       "      <td>6.209425e+05</td>\n",
       "      <td>6.744892e+06</td>\n",
       "      <td>6.012722e+06</td>\n",
       "      <td>7.457704e+05</td>\n",
       "      <td>9.571486e+05</td>\n",
       "    </tr>\n",
       "    <tr>\n",
       "      <th>QEC18RT_F2_20181229083715.mzML</th>\n",
       "      <td>4.728289e+05</td>\n",
       "      <td>1.238884e+05</td>\n",
       "      <td>0.000000e+00</td>\n",
       "      <td>4.191255e+04</td>\n",
       "      <td>1.300201e+05</td>\n",
       "      <td>1.692591e+03</td>\n",
       "      <td>1.445742e+06</td>\n",
       "      <td>6.468152e+04</td>\n",
       "      <td>1.403810e+05</td>\n",
       "      <td>8.159880e+04</td>\n",
       "      <td>...</td>\n",
       "      <td>0.000000e+00</td>\n",
       "      <td>0.000000e+00</td>\n",
       "      <td>0.000000e+00</td>\n",
       "      <td>0.000000e+00</td>\n",
       "      <td>1.256565e+07</td>\n",
       "      <td>4.468508e+06</td>\n",
       "      <td>0.000000e+00</td>\n",
       "      <td>9.674889e+06</td>\n",
       "      <td>0.000000e+00</td>\n",
       "      <td>0.000000e+00</td>\n",
       "    </tr>\n",
       "    <tr>\n",
       "      <th>QEC18RT_F2_20181228211241.mzML</th>\n",
       "      <td>5.962238e+05</td>\n",
       "      <td>1.094719e+05</td>\n",
       "      <td>0.000000e+00</td>\n",
       "      <td>0.000000e+00</td>\n",
       "      <td>2.797098e+05</td>\n",
       "      <td>0.000000e+00</td>\n",
       "      <td>2.403209e+06</td>\n",
       "      <td>1.863481e+05</td>\n",
       "      <td>2.045858e+05</td>\n",
       "      <td>6.336701e+04</td>\n",
       "      <td>...</td>\n",
       "      <td>2.484767e+07</td>\n",
       "      <td>0.000000e+00</td>\n",
       "      <td>0.000000e+00</td>\n",
       "      <td>2.604867e+04</td>\n",
       "      <td>3.165211e+06</td>\n",
       "      <td>5.771853e+05</td>\n",
       "      <td>4.531521e+06</td>\n",
       "      <td>1.059177e+07</td>\n",
       "      <td>1.394515e+06</td>\n",
       "      <td>6.244577e+07</td>\n",
       "    </tr>\n",
       "    <tr>\n",
       "      <th>QEC18RT_F1_20181228113615.mzML</th>\n",
       "      <td>5.971862e+05</td>\n",
       "      <td>2.389570e+05</td>\n",
       "      <td>0.000000e+00</td>\n",
       "      <td>5.393931e+05</td>\n",
       "      <td>2.718625e+05</td>\n",
       "      <td>0.000000e+00</td>\n",
       "      <td>1.754395e+06</td>\n",
       "      <td>2.882695e+04</td>\n",
       "      <td>1.681624e+05</td>\n",
       "      <td>1.153195e+08</td>\n",
       "      <td>...</td>\n",
       "      <td>4.690067e+05</td>\n",
       "      <td>5.940147e+06</td>\n",
       "      <td>1.998262e+07</td>\n",
       "      <td>1.632595e+07</td>\n",
       "      <td>6.457048e+06</td>\n",
       "      <td>6.262678e+06</td>\n",
       "      <td>1.224795e+06</td>\n",
       "      <td>5.639867e+06</td>\n",
       "      <td>2.448436e+05</td>\n",
       "      <td>0.000000e+00</td>\n",
       "    </tr>\n",
       "  </tbody>\n",
       "</table>\n",
       "<p>198 rows × 7032 columns</p>\n",
       "</div>"
      ],
      "text/plain": [
       "feature_id                                      1             2     \\\n",
       "filename                                                             \n",
       "QEC18_Blank_resusp_20181227024429.mzML  8.739521e+08  1.481579e+08   \n",
       "QEC18_Blank_resusp_20181227200515.mzML  1.205125e+09  3.421555e+08   \n",
       "QEC18_Blank_resusp_20181227180406.mzML  8.856410e+08  2.189828e+08   \n",
       "QEC18_Blank_resusp_20181227100129.mzML  1.672233e+09  3.215060e+08   \n",
       "QEC18_Blank_resusp_20181226235330.mzML  3.730564e+08  1.466751e+08   \n",
       "...                                              ...           ...   \n",
       "QEC18RT_F1.mzML                         2.651802e+05  5.065530e+05   \n",
       "QEC18RT_F1_20181229114729.mzML          5.304884e+05  2.502201e+05   \n",
       "QEC18RT_F2_20181229083715.mzML          4.728289e+05  1.238884e+05   \n",
       "QEC18RT_F2_20181228211241.mzML          5.962238e+05  1.094719e+05   \n",
       "QEC18RT_F1_20181228113615.mzML          5.971862e+05  2.389570e+05   \n",
       "\n",
       "feature_id                                      3             4     \\\n",
       "filename                                                             \n",
       "QEC18_Blank_resusp_20181227024429.mzML  9.837010e+07  8.224197e+07   \n",
       "QEC18_Blank_resusp_20181227200515.mzML  2.866821e+07  8.136892e+07   \n",
       "QEC18_Blank_resusp_20181227180406.mzML  1.133203e+08  1.442344e+08   \n",
       "QEC18_Blank_resusp_20181227100129.mzML  2.621886e+08  2.304763e+08   \n",
       "QEC18_Blank_resusp_20181226235330.mzML  4.948088e+07  0.000000e+00   \n",
       "...                                              ...           ...   \n",
       "QEC18RT_F1.mzML                         0.000000e+00  4.924721e+05   \n",
       "QEC18RT_F1_20181229114729.mzML          0.000000e+00  8.183989e+03   \n",
       "QEC18RT_F2_20181229083715.mzML          0.000000e+00  4.191255e+04   \n",
       "QEC18RT_F2_20181228211241.mzML          0.000000e+00  0.000000e+00   \n",
       "QEC18RT_F1_20181228113615.mzML          0.000000e+00  5.393931e+05   \n",
       "\n",
       "feature_id                                      5             6     \\\n",
       "filename                                                             \n",
       "QEC18_Blank_resusp_20181227024429.mzML  7.315887e+07  7.114766e+07   \n",
       "QEC18_Blank_resusp_20181227200515.mzML  7.267058e+07  1.397751e+08   \n",
       "QEC18_Blank_resusp_20181227180406.mzML  2.595832e+08  1.260566e+08   \n",
       "QEC18_Blank_resusp_20181227100129.mzML  0.000000e+00  1.504232e+08   \n",
       "QEC18_Blank_resusp_20181226235330.mzML  2.946699e+08  4.121042e+07   \n",
       "...                                              ...           ...   \n",
       "QEC18RT_F1.mzML                         2.399147e+05  0.000000e+00   \n",
       "QEC18RT_F1_20181229114729.mzML          8.817621e+05  0.000000e+00   \n",
       "QEC18RT_F2_20181229083715.mzML          1.300201e+05  1.692591e+03   \n",
       "QEC18RT_F2_20181228211241.mzML          2.797098e+05  0.000000e+00   \n",
       "QEC18RT_F1_20181228113615.mzML          2.718625e+05  0.000000e+00   \n",
       "\n",
       "feature_id                                      7             8     \\\n",
       "filename                                                             \n",
       "QEC18_Blank_resusp_20181227024429.mzML  1.555986e+08  1.176479e+08   \n",
       "QEC18_Blank_resusp_20181227200515.mzML  1.432423e+08  3.201985e+07   \n",
       "QEC18_Blank_resusp_20181227180406.mzML  1.637546e+08  6.510952e+07   \n",
       "QEC18_Blank_resusp_20181227100129.mzML  1.600571e+08  1.044643e+08   \n",
       "QEC18_Blank_resusp_20181226235330.mzML  1.494343e+08  1.815754e+08   \n",
       "...                                              ...           ...   \n",
       "QEC18RT_F1.mzML                         1.089271e+06  2.190487e+04   \n",
       "QEC18RT_F1_20181229114729.mzML          2.379306e+06  1.395917e+05   \n",
       "QEC18RT_F2_20181229083715.mzML          1.445742e+06  6.468152e+04   \n",
       "QEC18RT_F2_20181228211241.mzML          2.403209e+06  1.863481e+05   \n",
       "QEC18RT_F1_20181228113615.mzML          1.754395e+06  2.882695e+04   \n",
       "\n",
       "feature_id                                      9             10    ...  \\\n",
       "filename                                                            ...   \n",
       "QEC18_Blank_resusp_20181227024429.mzML  4.639512e+07  1.054225e+08  ...   \n",
       "QEC18_Blank_resusp_20181227200515.mzML  1.318607e+08  1.307877e+04  ...   \n",
       "QEC18_Blank_resusp_20181227180406.mzML  9.251141e+07  5.368852e+07  ...   \n",
       "QEC18_Blank_resusp_20181227100129.mzML  1.385671e+08  5.633343e+03  ...   \n",
       "QEC18_Blank_resusp_20181226235330.mzML  2.512913e+07  4.915055e+07  ...   \n",
       "...                                              ...           ...  ...   \n",
       "QEC18RT_F1.mzML                         1.182916e+05  1.174440e+08  ...   \n",
       "QEC18RT_F1_20181229114729.mzML          1.935925e+05  1.171058e+08  ...   \n",
       "QEC18RT_F2_20181229083715.mzML          1.403810e+05  8.159880e+04  ...   \n",
       "QEC18RT_F2_20181228211241.mzML          2.045858e+05  6.336701e+04  ...   \n",
       "QEC18RT_F1_20181228113615.mzML          1.681624e+05  1.153195e+08  ...   \n",
       "\n",
       "feature_id                                      7023          7024  \\\n",
       "filename                                                             \n",
       "QEC18_Blank_resusp_20181227024429.mzML  0.000000e+00  0.000000e+00   \n",
       "QEC18_Blank_resusp_20181227200515.mzML  1.403758e+03  0.000000e+00   \n",
       "QEC18_Blank_resusp_20181227180406.mzML  5.255234e+02  0.000000e+00   \n",
       "QEC18_Blank_resusp_20181227100129.mzML  0.000000e+00  0.000000e+00   \n",
       "QEC18_Blank_resusp_20181226235330.mzML  0.000000e+00  0.000000e+00   \n",
       "...                                              ...           ...   \n",
       "QEC18RT_F1.mzML                         2.796922e+06  3.081157e+07   \n",
       "QEC18RT_F1_20181229114729.mzML          1.961899e+06  3.297185e+07   \n",
       "QEC18RT_F2_20181229083715.mzML          0.000000e+00  0.000000e+00   \n",
       "QEC18RT_F2_20181228211241.mzML          2.484767e+07  0.000000e+00   \n",
       "QEC18RT_F1_20181228113615.mzML          4.690067e+05  5.940147e+06   \n",
       "\n",
       "feature_id                                      7025          7026  \\\n",
       "filename                                                             \n",
       "QEC18_Blank_resusp_20181227024429.mzML  0.000000e+00  0.000000e+00   \n",
       "QEC18_Blank_resusp_20181227200515.mzML  0.000000e+00  0.000000e+00   \n",
       "QEC18_Blank_resusp_20181227180406.mzML  2.501361e+03  0.000000e+00   \n",
       "QEC18_Blank_resusp_20181227100129.mzML  1.025391e+03  0.000000e+00   \n",
       "QEC18_Blank_resusp_20181226235330.mzML  0.000000e+00  0.000000e+00   \n",
       "...                                              ...           ...   \n",
       "QEC18RT_F1.mzML                         2.221418e+07  1.504250e+07   \n",
       "QEC18RT_F1_20181229114729.mzML          0.000000e+00  1.277410e+07   \n",
       "QEC18RT_F2_20181229083715.mzML          0.000000e+00  0.000000e+00   \n",
       "QEC18RT_F2_20181228211241.mzML          0.000000e+00  2.604867e+04   \n",
       "QEC18RT_F1_20181228113615.mzML          1.998262e+07  1.632595e+07   \n",
       "\n",
       "feature_id                                      7027          7028  \\\n",
       "filename                                                             \n",
       "QEC18_Blank_resusp_20181227024429.mzML  0.000000e+00  0.000000e+00   \n",
       "QEC18_Blank_resusp_20181227200515.mzML  0.000000e+00  0.000000e+00   \n",
       "QEC18_Blank_resusp_20181227180406.mzML  0.000000e+00  0.000000e+00   \n",
       "QEC18_Blank_resusp_20181227100129.mzML  0.000000e+00  0.000000e+00   \n",
       "QEC18_Blank_resusp_20181226235330.mzML  0.000000e+00  0.000000e+00   \n",
       "...                                              ...           ...   \n",
       "QEC18RT_F1.mzML                         6.198181e+06  4.512574e+06   \n",
       "QEC18RT_F1_20181229114729.mzML          1.953058e+05  6.209425e+05   \n",
       "QEC18RT_F2_20181229083715.mzML          1.256565e+07  4.468508e+06   \n",
       "QEC18RT_F2_20181228211241.mzML          3.165211e+06  5.771853e+05   \n",
       "QEC18RT_F1_20181228113615.mzML          6.457048e+06  6.262678e+06   \n",
       "\n",
       "feature_id                                      7029          7030  \\\n",
       "filename                                                             \n",
       "QEC18_Blank_resusp_20181227024429.mzML  0.000000e+00  7.638457e+03   \n",
       "QEC18_Blank_resusp_20181227200515.mzML  0.000000e+00  2.869926e+03   \n",
       "QEC18_Blank_resusp_20181227180406.mzML  0.000000e+00  5.820253e+03   \n",
       "QEC18_Blank_resusp_20181227100129.mzML  0.000000e+00  2.094878e+03   \n",
       "QEC18_Blank_resusp_20181226235330.mzML  0.000000e+00  6.407866e+03   \n",
       "...                                              ...           ...   \n",
       "QEC18RT_F1.mzML                         1.276397e+07  8.826358e+06   \n",
       "QEC18RT_F1_20181229114729.mzML          6.744892e+06  6.012722e+06   \n",
       "QEC18RT_F2_20181229083715.mzML          0.000000e+00  9.674889e+06   \n",
       "QEC18RT_F2_20181228211241.mzML          4.531521e+06  1.059177e+07   \n",
       "QEC18RT_F1_20181228113615.mzML          1.224795e+06  5.639867e+06   \n",
       "\n",
       "feature_id                                      7031          7032  \n",
       "filename                                                            \n",
       "QEC18_Blank_resusp_20181227024429.mzML  0.000000e+00  0.000000e+00  \n",
       "QEC18_Blank_resusp_20181227200515.mzML  0.000000e+00  0.000000e+00  \n",
       "QEC18_Blank_resusp_20181227180406.mzML  0.000000e+00  0.000000e+00  \n",
       "QEC18_Blank_resusp_20181227100129.mzML  0.000000e+00  0.000000e+00  \n",
       "QEC18_Blank_resusp_20181226235330.mzML  0.000000e+00  0.000000e+00  \n",
       "...                                              ...           ...  \n",
       "QEC18RT_F1.mzML                         3.281628e+06  2.809365e+07  \n",
       "QEC18RT_F1_20181229114729.mzML          7.457704e+05  9.571486e+05  \n",
       "QEC18RT_F2_20181229083715.mzML          0.000000e+00  0.000000e+00  \n",
       "QEC18RT_F2_20181228211241.mzML          1.394515e+06  6.244577e+07  \n",
       "QEC18RT_F1_20181228113615.mzML          2.448436e+05  0.000000e+00  \n",
       "\n",
       "[198 rows x 7032 columns]"
      ]
     },
     "execution_count": 8,
     "metadata": {},
     "output_type": "execute_result"
    }
   ],
   "source": [
    "feat_table_qe = memo.FeatureTable(path=\"../data/quantification_table-00000.csv\", software='mzmine')\n",
    "feat_table_qe.feature_table"
   ]
  },
  {
   "cell_type": "markdown",
   "metadata": {},
   "source": [
    "## Import spectra\n",
    "Since MEMO relies on the occurence of MS2 fragments/losses in samples to compare them, we obviously need to importthe features' fragmentation spectra. Losses are computed and spectra translated into documents. Store in memo.SpectraDocuments dataclass object."
   ]
  },
  {
   "cell_type": "code",
   "execution_count": 9,
   "metadata": {},
   "outputs": [
    {
     "data": {
      "text/html": [
       "<div>\n",
       "<style scoped>\n",
       "    .dataframe tbody tr th:only-of-type {\n",
       "        vertical-align: middle;\n",
       "    }\n",
       "\n",
       "    .dataframe tbody tr th {\n",
       "        vertical-align: top;\n",
       "    }\n",
       "\n",
       "    .dataframe thead th {\n",
       "        text-align: right;\n",
       "    }\n",
       "</style>\n",
       "<table border=\"1\" class=\"dataframe\">\n",
       "  <thead>\n",
       "    <tr style=\"text-align: right;\">\n",
       "      <th></th>\n",
       "      <th>scans</th>\n",
       "      <th>pepmass</th>\n",
       "      <th>charge</th>\n",
       "      <th>collision_energy</th>\n",
       "      <th>precursor_mz</th>\n",
       "      <th>documents</th>\n",
       "    </tr>\n",
       "  </thead>\n",
       "  <tbody>\n",
       "    <tr>\n",
       "      <th>0</th>\n",
       "      <td>1</td>\n",
       "      <td>(338.342, None)</td>\n",
       "      <td>[1+]</td>\n",
       "      <td>0.0</td>\n",
       "      <td>338.3420</td>\n",
       "      <td>[peak@71.05, peak@71.09, peak@72.08, peak@78.7...</td>\n",
       "    </tr>\n",
       "    <tr>\n",
       "      <th>1</th>\n",
       "      <td>2</td>\n",
       "      <td>(278.1905, None)</td>\n",
       "      <td>[1+]</td>\n",
       "      <td>0.0</td>\n",
       "      <td>278.1905</td>\n",
       "      <td>[peak@84.08, peak@91.05, peak@105.07, peak@115...</td>\n",
       "    </tr>\n",
       "    <tr>\n",
       "      <th>2</th>\n",
       "      <td>3</td>\n",
       "      <td>(702.2131, None)</td>\n",
       "      <td>[1+]</td>\n",
       "      <td>0.0</td>\n",
       "      <td>702.2131</td>\n",
       "      <td>[peak@73.05, peak@79.02, peak@80.97, peak@81.0...</td>\n",
       "    </tr>\n",
       "    <tr>\n",
       "      <th>3</th>\n",
       "      <td>4</td>\n",
       "      <td>(663.452, None)</td>\n",
       "      <td>[1+]</td>\n",
       "      <td>0.0</td>\n",
       "      <td>663.4520</td>\n",
       "      <td>[peak@91.05, peak@147.12, peak@251.05, peak@30...</td>\n",
       "    </tr>\n",
       "    <tr>\n",
       "      <th>4</th>\n",
       "      <td>5</td>\n",
       "      <td>(663.4555, None)</td>\n",
       "      <td>[1+]</td>\n",
       "      <td>0.0</td>\n",
       "      <td>663.4555</td>\n",
       "      <td>[peak@91.05, peak@147.12, peak@251.05, peak@30...</td>\n",
       "    </tr>\n",
       "    <tr>\n",
       "      <th>...</th>\n",
       "      <td>...</td>\n",
       "      <td>...</td>\n",
       "      <td>...</td>\n",
       "      <td>...</td>\n",
       "      <td>...</td>\n",
       "      <td>...</td>\n",
       "    </tr>\n",
       "    <tr>\n",
       "      <th>6564</th>\n",
       "      <td>7028</td>\n",
       "      <td>(381.3165, None)</td>\n",
       "      <td>[1+]</td>\n",
       "      <td>0.0</td>\n",
       "      <td>381.3165</td>\n",
       "      <td>[peak@70.07, peak@71.05, peak@71.09, peak@72.3...</td>\n",
       "    </tr>\n",
       "    <tr>\n",
       "      <th>6565</th>\n",
       "      <td>7029</td>\n",
       "      <td>(453.3377, None)</td>\n",
       "      <td>[1+]</td>\n",
       "      <td>0.0</td>\n",
       "      <td>453.3377</td>\n",
       "      <td>[peak@71.05, peak@79.05, peak@81.03, peak@81.0...</td>\n",
       "    </tr>\n",
       "    <tr>\n",
       "      <th>6566</th>\n",
       "      <td>7030</td>\n",
       "      <td>(165.0911, None)</td>\n",
       "      <td>[1+]</td>\n",
       "      <td>0.0</td>\n",
       "      <td>165.0911</td>\n",
       "      <td>[peak@81.07, peak@83.05, peak@91.05, peak@95.0...</td>\n",
       "    </tr>\n",
       "    <tr>\n",
       "      <th>6567</th>\n",
       "      <td>7031</td>\n",
       "      <td>(501.3573, None)</td>\n",
       "      <td>[1+]</td>\n",
       "      <td>0.0</td>\n",
       "      <td>501.3573</td>\n",
       "      <td>[peak@81.07, peak@95.09, peak@105.07, peak@198...</td>\n",
       "    </tr>\n",
       "    <tr>\n",
       "      <th>6568</th>\n",
       "      <td>7032</td>\n",
       "      <td>(487.3776, None)</td>\n",
       "      <td>[1+]</td>\n",
       "      <td>0.0</td>\n",
       "      <td>487.3776</td>\n",
       "      <td>[peak@81.07, peak@91.05, peak@92.33, peak@93.0...</td>\n",
       "    </tr>\n",
       "  </tbody>\n",
       "</table>\n",
       "<p>6569 rows × 6 columns</p>\n",
       "</div>"
      ],
      "text/plain": [
       "      scans           pepmass charge collision_energy  precursor_mz  \\\n",
       "0         1   (338.342, None)   [1+]              0.0      338.3420   \n",
       "1         2  (278.1905, None)   [1+]              0.0      278.1905   \n",
       "2         3  (702.2131, None)   [1+]              0.0      702.2131   \n",
       "3         4   (663.452, None)   [1+]              0.0      663.4520   \n",
       "4         5  (663.4555, None)   [1+]              0.0      663.4555   \n",
       "...     ...               ...    ...              ...           ...   \n",
       "6564   7028  (381.3165, None)   [1+]              0.0      381.3165   \n",
       "6565   7029  (453.3377, None)   [1+]              0.0      453.3377   \n",
       "6566   7030  (165.0911, None)   [1+]              0.0      165.0911   \n",
       "6567   7031  (501.3573, None)   [1+]              0.0      501.3573   \n",
       "6568   7032  (487.3776, None)   [1+]              0.0      487.3776   \n",
       "\n",
       "                                              documents  \n",
       "0     [peak@71.05, peak@71.09, peak@72.08, peak@78.7...  \n",
       "1     [peak@84.08, peak@91.05, peak@105.07, peak@115...  \n",
       "2     [peak@73.05, peak@79.02, peak@80.97, peak@81.0...  \n",
       "3     [peak@91.05, peak@147.12, peak@251.05, peak@30...  \n",
       "4     [peak@91.05, peak@147.12, peak@251.05, peak@30...  \n",
       "...                                                 ...  \n",
       "6564  [peak@70.07, peak@71.05, peak@71.09, peak@72.3...  \n",
       "6565  [peak@71.05, peak@79.05, peak@81.03, peak@81.0...  \n",
       "6566  [peak@81.07, peak@83.05, peak@91.05, peak@95.0...  \n",
       "6567  [peak@81.07, peak@95.09, peak@105.07, peak@198...  \n",
       "6568  [peak@81.07, peak@91.05, peak@92.33, peak@93.0...  \n",
       "\n",
       "[6569 rows x 6 columns]"
      ]
     },
     "execution_count": 9,
     "metadata": {},
     "output_type": "execute_result"
    }
   ],
   "source": [
    "spectra_qe = memo.SpectraDocuments(path=\"../data/qemistree_specs_ms.mgf\", min_relative_intensity = 0.01,\n",
    "            max_relative_intensity = 1, min_peaks_required=5, losses_from = 10, losses_to = 200, n_decimals = 2)\n",
    "spectra_qe.document"
   ]
  },
  {
   "cell_type": "markdown",
   "metadata": {},
   "source": [
    "## Generation of MEMO matrix\n",
    "\n",
    "Using the generated documents and the quant table, we can now obtain the MEMO matrix. The MEMO matrix is stored in the MemoContainer object, along with the feature table and the documents"
   ]
  },
  {
   "cell_type": "code",
   "execution_count": 10,
   "metadata": {},
   "outputs": [
    {
     "name": "stdout",
     "output_type": "stream",
     "text": [
      "generating memo_matrix from input featuretable and spectradocument\n"
     ]
    },
    {
     "name": "stderr",
     "output_type": "stream",
     "text": [
      "100%|██████████| 198/198 [00:05<00:00, 34.00it/s]\n"
     ]
    },
    {
     "data": {
      "text/html": [
       "<div>\n",
       "<style scoped>\n",
       "    .dataframe tbody tr th:only-of-type {\n",
       "        vertical-align: middle;\n",
       "    }\n",
       "\n",
       "    .dataframe tbody tr th {\n",
       "        vertical-align: top;\n",
       "    }\n",
       "\n",
       "    .dataframe thead th {\n",
       "        text-align: right;\n",
       "    }\n",
       "</style>\n",
       "<table border=\"1\" class=\"dataframe\">\n",
       "  <thead>\n",
       "    <tr style=\"text-align: right;\">\n",
       "      <th></th>\n",
       "      <th>peak@71.05</th>\n",
       "      <th>peak@71.09</th>\n",
       "      <th>peak@72.08</th>\n",
       "      <th>peak@78.74</th>\n",
       "      <th>peak@79.05</th>\n",
       "      <th>peak@81.07</th>\n",
       "      <th>peak@83.09</th>\n",
       "      <th>peak@85.10</th>\n",
       "      <th>peak@86.06</th>\n",
       "      <th>peak@86.10</th>\n",
       "      <th>...</th>\n",
       "      <th>loss@43.89</th>\n",
       "      <th>loss@75.01</th>\n",
       "      <th>loss@118.02</th>\n",
       "      <th>peak@131.23</th>\n",
       "      <th>peak@138.34</th>\n",
       "      <th>peak@177.88</th>\n",
       "      <th>peak@235.22</th>\n",
       "      <th>peak@262.41</th>\n",
       "      <th>peak@345.96</th>\n",
       "      <th>peak@444.82</th>\n",
       "    </tr>\n",
       "    <tr>\n",
       "      <th>filename</th>\n",
       "      <th></th>\n",
       "      <th></th>\n",
       "      <th></th>\n",
       "      <th></th>\n",
       "      <th></th>\n",
       "      <th></th>\n",
       "      <th></th>\n",
       "      <th></th>\n",
       "      <th></th>\n",
       "      <th></th>\n",
       "      <th></th>\n",
       "      <th></th>\n",
       "      <th></th>\n",
       "      <th></th>\n",
       "      <th></th>\n",
       "      <th></th>\n",
       "      <th></th>\n",
       "      <th></th>\n",
       "      <th></th>\n",
       "      <th></th>\n",
       "      <th></th>\n",
       "    </tr>\n",
       "  </thead>\n",
       "  <tbody>\n",
       "    <tr>\n",
       "      <th>QEC18_Blank_resusp_20181227024429.mzML</th>\n",
       "      <td>749.0</td>\n",
       "      <td>1288.0</td>\n",
       "      <td>80.0</td>\n",
       "      <td>2.0</td>\n",
       "      <td>1807.0</td>\n",
       "      <td>2321.0</td>\n",
       "      <td>1906.0</td>\n",
       "      <td>869.0</td>\n",
       "      <td>64.0</td>\n",
       "      <td>447.0</td>\n",
       "      <td>...</td>\n",
       "      <td>0.0</td>\n",
       "      <td>0.0</td>\n",
       "      <td>0.0</td>\n",
       "      <td>0.0</td>\n",
       "      <td>0.0</td>\n",
       "      <td>0.0</td>\n",
       "      <td>0.0</td>\n",
       "      <td>0.0</td>\n",
       "      <td>0.0</td>\n",
       "      <td>0.0</td>\n",
       "    </tr>\n",
       "    <tr>\n",
       "      <th>QEC18_Blank_resusp_20181227200515.mzML</th>\n",
       "      <td>737.0</td>\n",
       "      <td>1260.0</td>\n",
       "      <td>74.0</td>\n",
       "      <td>3.0</td>\n",
       "      <td>1780.0</td>\n",
       "      <td>2348.0</td>\n",
       "      <td>1862.0</td>\n",
       "      <td>842.0</td>\n",
       "      <td>61.0</td>\n",
       "      <td>450.0</td>\n",
       "      <td>...</td>\n",
       "      <td>0.0</td>\n",
       "      <td>0.0</td>\n",
       "      <td>0.0</td>\n",
       "      <td>0.0</td>\n",
       "      <td>0.0</td>\n",
       "      <td>0.0</td>\n",
       "      <td>0.0</td>\n",
       "      <td>0.0</td>\n",
       "      <td>0.0</td>\n",
       "      <td>0.0</td>\n",
       "    </tr>\n",
       "    <tr>\n",
       "      <th>QEC18_Blank_resusp_20181227180406.mzML</th>\n",
       "      <td>776.0</td>\n",
       "      <td>1342.0</td>\n",
       "      <td>77.0</td>\n",
       "      <td>3.0</td>\n",
       "      <td>1973.0</td>\n",
       "      <td>2541.0</td>\n",
       "      <td>2031.0</td>\n",
       "      <td>906.0</td>\n",
       "      <td>62.0</td>\n",
       "      <td>447.0</td>\n",
       "      <td>...</td>\n",
       "      <td>0.0</td>\n",
       "      <td>0.0</td>\n",
       "      <td>0.0</td>\n",
       "      <td>0.0</td>\n",
       "      <td>0.0</td>\n",
       "      <td>0.0</td>\n",
       "      <td>0.0</td>\n",
       "      <td>0.0</td>\n",
       "      <td>0.0</td>\n",
       "      <td>0.0</td>\n",
       "    </tr>\n",
       "    <tr>\n",
       "      <th>QEC18_Blank_resusp_20181227100129.mzML</th>\n",
       "      <td>773.0</td>\n",
       "      <td>1350.0</td>\n",
       "      <td>77.0</td>\n",
       "      <td>3.0</td>\n",
       "      <td>1931.0</td>\n",
       "      <td>2542.0</td>\n",
       "      <td>2023.0</td>\n",
       "      <td>907.0</td>\n",
       "      <td>63.0</td>\n",
       "      <td>457.0</td>\n",
       "      <td>...</td>\n",
       "      <td>0.0</td>\n",
       "      <td>0.0</td>\n",
       "      <td>0.0</td>\n",
       "      <td>0.0</td>\n",
       "      <td>0.0</td>\n",
       "      <td>0.0</td>\n",
       "      <td>0.0</td>\n",
       "      <td>0.0</td>\n",
       "      <td>0.0</td>\n",
       "      <td>0.0</td>\n",
       "    </tr>\n",
       "    <tr>\n",
       "      <th>QEC18_Blank_resusp_20181226235330.mzML</th>\n",
       "      <td>707.0</td>\n",
       "      <td>1228.0</td>\n",
       "      <td>75.0</td>\n",
       "      <td>2.0</td>\n",
       "      <td>1693.0</td>\n",
       "      <td>2175.0</td>\n",
       "      <td>1786.0</td>\n",
       "      <td>825.0</td>\n",
       "      <td>63.0</td>\n",
       "      <td>414.0</td>\n",
       "      <td>...</td>\n",
       "      <td>0.0</td>\n",
       "      <td>0.0</td>\n",
       "      <td>0.0</td>\n",
       "      <td>0.0</td>\n",
       "      <td>0.0</td>\n",
       "      <td>0.0</td>\n",
       "      <td>0.0</td>\n",
       "      <td>0.0</td>\n",
       "      <td>0.0</td>\n",
       "      <td>0.0</td>\n",
       "    </tr>\n",
       "    <tr>\n",
       "      <th>...</th>\n",
       "      <td>...</td>\n",
       "      <td>...</td>\n",
       "      <td>...</td>\n",
       "      <td>...</td>\n",
       "      <td>...</td>\n",
       "      <td>...</td>\n",
       "      <td>...</td>\n",
       "      <td>...</td>\n",
       "      <td>...</td>\n",
       "      <td>...</td>\n",
       "      <td>...</td>\n",
       "      <td>...</td>\n",
       "      <td>...</td>\n",
       "      <td>...</td>\n",
       "      <td>...</td>\n",
       "      <td>...</td>\n",
       "      <td>...</td>\n",
       "      <td>...</td>\n",
       "      <td>...</td>\n",
       "      <td>...</td>\n",
       "      <td>...</td>\n",
       "    </tr>\n",
       "    <tr>\n",
       "      <th>QEC18RT_F1.mzML</th>\n",
       "      <td>954.0</td>\n",
       "      <td>1713.0</td>\n",
       "      <td>122.0</td>\n",
       "      <td>1.0</td>\n",
       "      <td>2700.0</td>\n",
       "      <td>3649.0</td>\n",
       "      <td>2855.0</td>\n",
       "      <td>1101.0</td>\n",
       "      <td>72.0</td>\n",
       "      <td>558.0</td>\n",
       "      <td>...</td>\n",
       "      <td>0.0</td>\n",
       "      <td>0.0</td>\n",
       "      <td>0.0</td>\n",
       "      <td>0.0</td>\n",
       "      <td>0.0</td>\n",
       "      <td>0.0</td>\n",
       "      <td>0.0</td>\n",
       "      <td>0.0</td>\n",
       "      <td>0.0</td>\n",
       "      <td>0.0</td>\n",
       "    </tr>\n",
       "    <tr>\n",
       "      <th>QEC18RT_F1_20181229114729.mzML</th>\n",
       "      <td>961.0</td>\n",
       "      <td>1711.0</td>\n",
       "      <td>118.0</td>\n",
       "      <td>2.0</td>\n",
       "      <td>2706.0</td>\n",
       "      <td>3659.0</td>\n",
       "      <td>2869.0</td>\n",
       "      <td>1088.0</td>\n",
       "      <td>72.0</td>\n",
       "      <td>594.0</td>\n",
       "      <td>...</td>\n",
       "      <td>0.0</td>\n",
       "      <td>0.0</td>\n",
       "      <td>0.0</td>\n",
       "      <td>0.0</td>\n",
       "      <td>0.0</td>\n",
       "      <td>0.0</td>\n",
       "      <td>0.0</td>\n",
       "      <td>0.0</td>\n",
       "      <td>0.0</td>\n",
       "      <td>0.0</td>\n",
       "    </tr>\n",
       "    <tr>\n",
       "      <th>QEC18RT_F2_20181229083715.mzML</th>\n",
       "      <td>861.0</td>\n",
       "      <td>1626.0</td>\n",
       "      <td>118.0</td>\n",
       "      <td>1.0</td>\n",
       "      <td>2544.0</td>\n",
       "      <td>3482.0</td>\n",
       "      <td>2728.0</td>\n",
       "      <td>1039.0</td>\n",
       "      <td>73.0</td>\n",
       "      <td>571.0</td>\n",
       "      <td>...</td>\n",
       "      <td>0.0</td>\n",
       "      <td>0.0</td>\n",
       "      <td>0.0</td>\n",
       "      <td>0.0</td>\n",
       "      <td>0.0</td>\n",
       "      <td>0.0</td>\n",
       "      <td>0.0</td>\n",
       "      <td>0.0</td>\n",
       "      <td>0.0</td>\n",
       "      <td>0.0</td>\n",
       "    </tr>\n",
       "    <tr>\n",
       "      <th>QEC18RT_F2_20181228211241.mzML</th>\n",
       "      <td>863.0</td>\n",
       "      <td>1631.0</td>\n",
       "      <td>116.0</td>\n",
       "      <td>1.0</td>\n",
       "      <td>2567.0</td>\n",
       "      <td>3493.0</td>\n",
       "      <td>2755.0</td>\n",
       "      <td>1042.0</td>\n",
       "      <td>73.0</td>\n",
       "      <td>583.0</td>\n",
       "      <td>...</td>\n",
       "      <td>0.0</td>\n",
       "      <td>0.0</td>\n",
       "      <td>0.0</td>\n",
       "      <td>0.0</td>\n",
       "      <td>0.0</td>\n",
       "      <td>0.0</td>\n",
       "      <td>0.0</td>\n",
       "      <td>0.0</td>\n",
       "      <td>0.0</td>\n",
       "      <td>0.0</td>\n",
       "    </tr>\n",
       "    <tr>\n",
       "      <th>QEC18RT_F1_20181228113615.mzML</th>\n",
       "      <td>948.0</td>\n",
       "      <td>1698.0</td>\n",
       "      <td>120.0</td>\n",
       "      <td>1.0</td>\n",
       "      <td>2695.0</td>\n",
       "      <td>3628.0</td>\n",
       "      <td>2832.0</td>\n",
       "      <td>1085.0</td>\n",
       "      <td>75.0</td>\n",
       "      <td>561.0</td>\n",
       "      <td>...</td>\n",
       "      <td>0.0</td>\n",
       "      <td>0.0</td>\n",
       "      <td>0.0</td>\n",
       "      <td>0.0</td>\n",
       "      <td>0.0</td>\n",
       "      <td>0.0</td>\n",
       "      <td>0.0</td>\n",
       "      <td>0.0</td>\n",
       "      <td>0.0</td>\n",
       "      <td>0.0</td>\n",
       "    </tr>\n",
       "  </tbody>\n",
       "</table>\n",
       "<p>198 rows × 30324 columns</p>\n",
       "</div>"
      ],
      "text/plain": [
       "                                        peak@71.05  peak@71.09  peak@72.08  \\\n",
       "filename                                                                     \n",
       "QEC18_Blank_resusp_20181227024429.mzML       749.0      1288.0        80.0   \n",
       "QEC18_Blank_resusp_20181227200515.mzML       737.0      1260.0        74.0   \n",
       "QEC18_Blank_resusp_20181227180406.mzML       776.0      1342.0        77.0   \n",
       "QEC18_Blank_resusp_20181227100129.mzML       773.0      1350.0        77.0   \n",
       "QEC18_Blank_resusp_20181226235330.mzML       707.0      1228.0        75.0   \n",
       "...                                            ...         ...         ...   \n",
       "QEC18RT_F1.mzML                              954.0      1713.0       122.0   \n",
       "QEC18RT_F1_20181229114729.mzML               961.0      1711.0       118.0   \n",
       "QEC18RT_F2_20181229083715.mzML               861.0      1626.0       118.0   \n",
       "QEC18RT_F2_20181228211241.mzML               863.0      1631.0       116.0   \n",
       "QEC18RT_F1_20181228113615.mzML               948.0      1698.0       120.0   \n",
       "\n",
       "                                        peak@78.74  peak@79.05  peak@81.07  \\\n",
       "filename                                                                     \n",
       "QEC18_Blank_resusp_20181227024429.mzML         2.0      1807.0      2321.0   \n",
       "QEC18_Blank_resusp_20181227200515.mzML         3.0      1780.0      2348.0   \n",
       "QEC18_Blank_resusp_20181227180406.mzML         3.0      1973.0      2541.0   \n",
       "QEC18_Blank_resusp_20181227100129.mzML         3.0      1931.0      2542.0   \n",
       "QEC18_Blank_resusp_20181226235330.mzML         2.0      1693.0      2175.0   \n",
       "...                                            ...         ...         ...   \n",
       "QEC18RT_F1.mzML                                1.0      2700.0      3649.0   \n",
       "QEC18RT_F1_20181229114729.mzML                 2.0      2706.0      3659.0   \n",
       "QEC18RT_F2_20181229083715.mzML                 1.0      2544.0      3482.0   \n",
       "QEC18RT_F2_20181228211241.mzML                 1.0      2567.0      3493.0   \n",
       "QEC18RT_F1_20181228113615.mzML                 1.0      2695.0      3628.0   \n",
       "\n",
       "                                        peak@83.09  peak@85.10  peak@86.06  \\\n",
       "filename                                                                     \n",
       "QEC18_Blank_resusp_20181227024429.mzML      1906.0       869.0        64.0   \n",
       "QEC18_Blank_resusp_20181227200515.mzML      1862.0       842.0        61.0   \n",
       "QEC18_Blank_resusp_20181227180406.mzML      2031.0       906.0        62.0   \n",
       "QEC18_Blank_resusp_20181227100129.mzML      2023.0       907.0        63.0   \n",
       "QEC18_Blank_resusp_20181226235330.mzML      1786.0       825.0        63.0   \n",
       "...                                            ...         ...         ...   \n",
       "QEC18RT_F1.mzML                             2855.0      1101.0        72.0   \n",
       "QEC18RT_F1_20181229114729.mzML              2869.0      1088.0        72.0   \n",
       "QEC18RT_F2_20181229083715.mzML              2728.0      1039.0        73.0   \n",
       "QEC18RT_F2_20181228211241.mzML              2755.0      1042.0        73.0   \n",
       "QEC18RT_F1_20181228113615.mzML              2832.0      1085.0        75.0   \n",
       "\n",
       "                                        peak@86.10  ...  loss@43.89  \\\n",
       "filename                                            ...               \n",
       "QEC18_Blank_resusp_20181227024429.mzML       447.0  ...         0.0   \n",
       "QEC18_Blank_resusp_20181227200515.mzML       450.0  ...         0.0   \n",
       "QEC18_Blank_resusp_20181227180406.mzML       447.0  ...         0.0   \n",
       "QEC18_Blank_resusp_20181227100129.mzML       457.0  ...         0.0   \n",
       "QEC18_Blank_resusp_20181226235330.mzML       414.0  ...         0.0   \n",
       "...                                            ...  ...         ...   \n",
       "QEC18RT_F1.mzML                              558.0  ...         0.0   \n",
       "QEC18RT_F1_20181229114729.mzML               594.0  ...         0.0   \n",
       "QEC18RT_F2_20181229083715.mzML               571.0  ...         0.0   \n",
       "QEC18RT_F2_20181228211241.mzML               583.0  ...         0.0   \n",
       "QEC18RT_F1_20181228113615.mzML               561.0  ...         0.0   \n",
       "\n",
       "                                        loss@75.01  loss@118.02  peak@131.23  \\\n",
       "filename                                                                       \n",
       "QEC18_Blank_resusp_20181227024429.mzML         0.0          0.0          0.0   \n",
       "QEC18_Blank_resusp_20181227200515.mzML         0.0          0.0          0.0   \n",
       "QEC18_Blank_resusp_20181227180406.mzML         0.0          0.0          0.0   \n",
       "QEC18_Blank_resusp_20181227100129.mzML         0.0          0.0          0.0   \n",
       "QEC18_Blank_resusp_20181226235330.mzML         0.0          0.0          0.0   \n",
       "...                                            ...          ...          ...   \n",
       "QEC18RT_F1.mzML                                0.0          0.0          0.0   \n",
       "QEC18RT_F1_20181229114729.mzML                 0.0          0.0          0.0   \n",
       "QEC18RT_F2_20181229083715.mzML                 0.0          0.0          0.0   \n",
       "QEC18RT_F2_20181228211241.mzML                 0.0          0.0          0.0   \n",
       "QEC18RT_F1_20181228113615.mzML                 0.0          0.0          0.0   \n",
       "\n",
       "                                        peak@138.34  peak@177.88  peak@235.22  \\\n",
       "filename                                                                        \n",
       "QEC18_Blank_resusp_20181227024429.mzML          0.0          0.0          0.0   \n",
       "QEC18_Blank_resusp_20181227200515.mzML          0.0          0.0          0.0   \n",
       "QEC18_Blank_resusp_20181227180406.mzML          0.0          0.0          0.0   \n",
       "QEC18_Blank_resusp_20181227100129.mzML          0.0          0.0          0.0   \n",
       "QEC18_Blank_resusp_20181226235330.mzML          0.0          0.0          0.0   \n",
       "...                                             ...          ...          ...   \n",
       "QEC18RT_F1.mzML                                 0.0          0.0          0.0   \n",
       "QEC18RT_F1_20181229114729.mzML                  0.0          0.0          0.0   \n",
       "QEC18RT_F2_20181229083715.mzML                  0.0          0.0          0.0   \n",
       "QEC18RT_F2_20181228211241.mzML                  0.0          0.0          0.0   \n",
       "QEC18RT_F1_20181228113615.mzML                  0.0          0.0          0.0   \n",
       "\n",
       "                                        peak@262.41  peak@345.96  peak@444.82  \n",
       "filename                                                                       \n",
       "QEC18_Blank_resusp_20181227024429.mzML          0.0          0.0          0.0  \n",
       "QEC18_Blank_resusp_20181227200515.mzML          0.0          0.0          0.0  \n",
       "QEC18_Blank_resusp_20181227180406.mzML          0.0          0.0          0.0  \n",
       "QEC18_Blank_resusp_20181227100129.mzML          0.0          0.0          0.0  \n",
       "QEC18_Blank_resusp_20181226235330.mzML          0.0          0.0          0.0  \n",
       "...                                             ...          ...          ...  \n",
       "QEC18RT_F1.mzML                                 0.0          0.0          0.0  \n",
       "QEC18RT_F1_20181229114729.mzML                  0.0          0.0          0.0  \n",
       "QEC18RT_F2_20181229083715.mzML                  0.0          0.0          0.0  \n",
       "QEC18RT_F2_20181228211241.mzML                  0.0          0.0          0.0  \n",
       "QEC18RT_F1_20181228113615.mzML                  0.0          0.0          0.0  \n",
       "\n",
       "[198 rows x 30324 columns]"
      ]
     },
     "execution_count": 10,
     "metadata": {},
     "output_type": "execute_result"
    }
   ],
   "source": [
    "memo_qe = memo.MemoMatrix()\n",
    "memo_qe.memo_from_aligned_samples(feat_table_qe, spectra_qe)\n",
    "memo_qe.memo_matrix"
   ]
  },
  {
   "cell_type": "code",
   "execution_count": 11,
   "metadata": {},
   "outputs": [
    {
     "data": {
      "text/html": [
       "<div>\n",
       "<style scoped>\n",
       "    .dataframe tbody tr th:only-of-type {\n",
       "        vertical-align: middle;\n",
       "    }\n",
       "\n",
       "    .dataframe tbody tr th {\n",
       "        vertical-align: top;\n",
       "    }\n",
       "\n",
       "    .dataframe thead th {\n",
       "        text-align: right;\n",
       "    }\n",
       "</style>\n",
       "<table border=\"1\" class=\"dataframe\">\n",
       "  <thead>\n",
       "    <tr style=\"text-align: right;\">\n",
       "      <th></th>\n",
       "      <th>peak@71.05</th>\n",
       "      <th>peak@71.09</th>\n",
       "      <th>peak@72.08</th>\n",
       "      <th>peak@78.74</th>\n",
       "      <th>peak@79.05</th>\n",
       "      <th>peak@81.07</th>\n",
       "      <th>peak@83.09</th>\n",
       "      <th>peak@85.10</th>\n",
       "      <th>peak@86.06</th>\n",
       "      <th>peak@86.10</th>\n",
       "      <th>...</th>\n",
       "      <th>loss@43.89</th>\n",
       "      <th>loss@75.01</th>\n",
       "      <th>loss@118.02</th>\n",
       "      <th>peak@131.23</th>\n",
       "      <th>peak@138.34</th>\n",
       "      <th>peak@177.88</th>\n",
       "      <th>peak@235.22</th>\n",
       "      <th>peak@262.41</th>\n",
       "      <th>peak@345.96</th>\n",
       "      <th>peak@444.82</th>\n",
       "    </tr>\n",
       "    <tr>\n",
       "      <th>filename</th>\n",
       "      <th></th>\n",
       "      <th></th>\n",
       "      <th></th>\n",
       "      <th></th>\n",
       "      <th></th>\n",
       "      <th></th>\n",
       "      <th></th>\n",
       "      <th></th>\n",
       "      <th></th>\n",
       "      <th></th>\n",
       "      <th></th>\n",
       "      <th></th>\n",
       "      <th></th>\n",
       "      <th></th>\n",
       "      <th></th>\n",
       "      <th></th>\n",
       "      <th></th>\n",
       "      <th></th>\n",
       "      <th></th>\n",
       "      <th></th>\n",
       "      <th></th>\n",
       "    </tr>\n",
       "  </thead>\n",
       "  <tbody>\n",
       "    <tr>\n",
       "      <th>QEC18_F1-1_F2-1.mzML</th>\n",
       "      <td>899.0</td>\n",
       "      <td>1620.0</td>\n",
       "      <td>111.0</td>\n",
       "      <td>2.0</td>\n",
       "      <td>2559.0</td>\n",
       "      <td>3467.0</td>\n",
       "      <td>2717.0</td>\n",
       "      <td>1047.0</td>\n",
       "      <td>76.0</td>\n",
       "      <td>561.0</td>\n",
       "      <td>...</td>\n",
       "      <td>0.0</td>\n",
       "      <td>0.0</td>\n",
       "      <td>0.0</td>\n",
       "      <td>0.0</td>\n",
       "      <td>0.0</td>\n",
       "      <td>0.0</td>\n",
       "      <td>0.0</td>\n",
       "      <td>0.0</td>\n",
       "      <td>0.0</td>\n",
       "      <td>0.0</td>\n",
       "    </tr>\n",
       "    <tr>\n",
       "      <th>QEC18_F1-1_NIST-3.mzML</th>\n",
       "      <td>878.0</td>\n",
       "      <td>1610.0</td>\n",
       "      <td>107.0</td>\n",
       "      <td>2.0</td>\n",
       "      <td>2511.0</td>\n",
       "      <td>3429.0</td>\n",
       "      <td>2669.0</td>\n",
       "      <td>1036.0</td>\n",
       "      <td>75.0</td>\n",
       "      <td>552.0</td>\n",
       "      <td>...</td>\n",
       "      <td>0.0</td>\n",
       "      <td>0.0</td>\n",
       "      <td>0.0</td>\n",
       "      <td>0.0</td>\n",
       "      <td>0.0</td>\n",
       "      <td>0.0</td>\n",
       "      <td>0.0</td>\n",
       "      <td>0.0</td>\n",
       "      <td>0.0</td>\n",
       "      <td>0.0</td>\n",
       "    </tr>\n",
       "    <tr>\n",
       "      <th>QEC18_F1-1_F2-1_20181227143118.mzML</th>\n",
       "      <td>903.0</td>\n",
       "      <td>1656.0</td>\n",
       "      <td>117.0</td>\n",
       "      <td>1.0</td>\n",
       "      <td>2605.0</td>\n",
       "      <td>3576.0</td>\n",
       "      <td>2764.0</td>\n",
       "      <td>1058.0</td>\n",
       "      <td>73.0</td>\n",
       "      <td>605.0</td>\n",
       "      <td>...</td>\n",
       "      <td>0.0</td>\n",
       "      <td>0.0</td>\n",
       "      <td>0.0</td>\n",
       "      <td>0.0</td>\n",
       "      <td>0.0</td>\n",
       "      <td>0.0</td>\n",
       "      <td>0.0</td>\n",
       "      <td>0.0</td>\n",
       "      <td>0.0</td>\n",
       "      <td>0.0</td>\n",
       "    </tr>\n",
       "    <tr>\n",
       "      <th>QEC18_F1-1_F2-1_20181227084526.mzML</th>\n",
       "      <td>919.0</td>\n",
       "      <td>1680.0</td>\n",
       "      <td>113.0</td>\n",
       "      <td>3.0</td>\n",
       "      <td>2660.0</td>\n",
       "      <td>3636.0</td>\n",
       "      <td>2816.0</td>\n",
       "      <td>1071.0</td>\n",
       "      <td>74.0</td>\n",
       "      <td>582.0</td>\n",
       "      <td>...</td>\n",
       "      <td>0.0</td>\n",
       "      <td>0.0</td>\n",
       "      <td>0.0</td>\n",
       "      <td>0.0</td>\n",
       "      <td>0.0</td>\n",
       "      <td>0.0</td>\n",
       "      <td>0.0</td>\n",
       "      <td>0.0</td>\n",
       "      <td>0.0</td>\n",
       "      <td>0.0</td>\n",
       "    </tr>\n",
       "    <tr>\n",
       "      <th>QEC18_F1-1_F2-1_NIST-2_To-1.mzML</th>\n",
       "      <td>1006.0</td>\n",
       "      <td>1718.0</td>\n",
       "      <td>114.0</td>\n",
       "      <td>3.0</td>\n",
       "      <td>2996.0</td>\n",
       "      <td>4011.0</td>\n",
       "      <td>2984.0</td>\n",
       "      <td>1096.0</td>\n",
       "      <td>72.0</td>\n",
       "      <td>651.0</td>\n",
       "      <td>...</td>\n",
       "      <td>0.0</td>\n",
       "      <td>0.0</td>\n",
       "      <td>0.0</td>\n",
       "      <td>0.0</td>\n",
       "      <td>0.0</td>\n",
       "      <td>0.0</td>\n",
       "      <td>0.0</td>\n",
       "      <td>0.0</td>\n",
       "      <td>0.0</td>\n",
       "      <td>0.0</td>\n",
       "    </tr>\n",
       "    <tr>\n",
       "      <th>...</th>\n",
       "      <td>...</td>\n",
       "      <td>...</td>\n",
       "      <td>...</td>\n",
       "      <td>...</td>\n",
       "      <td>...</td>\n",
       "      <td>...</td>\n",
       "      <td>...</td>\n",
       "      <td>...</td>\n",
       "      <td>...</td>\n",
       "      <td>...</td>\n",
       "      <td>...</td>\n",
       "      <td>...</td>\n",
       "      <td>...</td>\n",
       "      <td>...</td>\n",
       "      <td>...</td>\n",
       "      <td>...</td>\n",
       "      <td>...</td>\n",
       "      <td>...</td>\n",
       "      <td>...</td>\n",
       "      <td>...</td>\n",
       "      <td>...</td>\n",
       "    </tr>\n",
       "    <tr>\n",
       "      <th>QEC18RT_F1.mzML</th>\n",
       "      <td>954.0</td>\n",
       "      <td>1713.0</td>\n",
       "      <td>122.0</td>\n",
       "      <td>1.0</td>\n",
       "      <td>2700.0</td>\n",
       "      <td>3649.0</td>\n",
       "      <td>2855.0</td>\n",
       "      <td>1101.0</td>\n",
       "      <td>72.0</td>\n",
       "      <td>558.0</td>\n",
       "      <td>...</td>\n",
       "      <td>0.0</td>\n",
       "      <td>0.0</td>\n",
       "      <td>0.0</td>\n",
       "      <td>0.0</td>\n",
       "      <td>0.0</td>\n",
       "      <td>0.0</td>\n",
       "      <td>0.0</td>\n",
       "      <td>0.0</td>\n",
       "      <td>0.0</td>\n",
       "      <td>0.0</td>\n",
       "    </tr>\n",
       "    <tr>\n",
       "      <th>QEC18RT_F1_20181229114729.mzML</th>\n",
       "      <td>961.0</td>\n",
       "      <td>1711.0</td>\n",
       "      <td>118.0</td>\n",
       "      <td>2.0</td>\n",
       "      <td>2706.0</td>\n",
       "      <td>3659.0</td>\n",
       "      <td>2869.0</td>\n",
       "      <td>1088.0</td>\n",
       "      <td>72.0</td>\n",
       "      <td>594.0</td>\n",
       "      <td>...</td>\n",
       "      <td>0.0</td>\n",
       "      <td>0.0</td>\n",
       "      <td>0.0</td>\n",
       "      <td>0.0</td>\n",
       "      <td>0.0</td>\n",
       "      <td>0.0</td>\n",
       "      <td>0.0</td>\n",
       "      <td>0.0</td>\n",
       "      <td>0.0</td>\n",
       "      <td>0.0</td>\n",
       "    </tr>\n",
       "    <tr>\n",
       "      <th>QEC18RT_F2_20181229083715.mzML</th>\n",
       "      <td>861.0</td>\n",
       "      <td>1626.0</td>\n",
       "      <td>118.0</td>\n",
       "      <td>1.0</td>\n",
       "      <td>2544.0</td>\n",
       "      <td>3482.0</td>\n",
       "      <td>2728.0</td>\n",
       "      <td>1039.0</td>\n",
       "      <td>73.0</td>\n",
       "      <td>571.0</td>\n",
       "      <td>...</td>\n",
       "      <td>0.0</td>\n",
       "      <td>0.0</td>\n",
       "      <td>0.0</td>\n",
       "      <td>0.0</td>\n",
       "      <td>0.0</td>\n",
       "      <td>0.0</td>\n",
       "      <td>0.0</td>\n",
       "      <td>0.0</td>\n",
       "      <td>0.0</td>\n",
       "      <td>0.0</td>\n",
       "    </tr>\n",
       "    <tr>\n",
       "      <th>QEC18RT_F2_20181228211241.mzML</th>\n",
       "      <td>863.0</td>\n",
       "      <td>1631.0</td>\n",
       "      <td>116.0</td>\n",
       "      <td>1.0</td>\n",
       "      <td>2567.0</td>\n",
       "      <td>3493.0</td>\n",
       "      <td>2755.0</td>\n",
       "      <td>1042.0</td>\n",
       "      <td>73.0</td>\n",
       "      <td>583.0</td>\n",
       "      <td>...</td>\n",
       "      <td>0.0</td>\n",
       "      <td>0.0</td>\n",
       "      <td>0.0</td>\n",
       "      <td>0.0</td>\n",
       "      <td>0.0</td>\n",
       "      <td>0.0</td>\n",
       "      <td>0.0</td>\n",
       "      <td>0.0</td>\n",
       "      <td>0.0</td>\n",
       "      <td>0.0</td>\n",
       "    </tr>\n",
       "    <tr>\n",
       "      <th>QEC18RT_F1_20181228113615.mzML</th>\n",
       "      <td>948.0</td>\n",
       "      <td>1698.0</td>\n",
       "      <td>120.0</td>\n",
       "      <td>1.0</td>\n",
       "      <td>2695.0</td>\n",
       "      <td>3628.0</td>\n",
       "      <td>2832.0</td>\n",
       "      <td>1085.0</td>\n",
       "      <td>75.0</td>\n",
       "      <td>561.0</td>\n",
       "      <td>...</td>\n",
       "      <td>0.0</td>\n",
       "      <td>0.0</td>\n",
       "      <td>0.0</td>\n",
       "      <td>0.0</td>\n",
       "      <td>0.0</td>\n",
       "      <td>0.0</td>\n",
       "      <td>0.0</td>\n",
       "      <td>0.0</td>\n",
       "      <td>0.0</td>\n",
       "      <td>0.0</td>\n",
       "    </tr>\n",
       "  </tbody>\n",
       "</table>\n",
       "<p>171 rows × 30324 columns</p>\n",
       "</div>"
      ],
      "text/plain": [
       "                                     peak@71.05  peak@71.09  peak@72.08  \\\n",
       "filename                                                                  \n",
       "QEC18_F1-1_F2-1.mzML                      899.0      1620.0       111.0   \n",
       "QEC18_F1-1_NIST-3.mzML                    878.0      1610.0       107.0   \n",
       "QEC18_F1-1_F2-1_20181227143118.mzML       903.0      1656.0       117.0   \n",
       "QEC18_F1-1_F2-1_20181227084526.mzML       919.0      1680.0       113.0   \n",
       "QEC18_F1-1_F2-1_NIST-2_To-1.mzML         1006.0      1718.0       114.0   \n",
       "...                                         ...         ...         ...   \n",
       "QEC18RT_F1.mzML                           954.0      1713.0       122.0   \n",
       "QEC18RT_F1_20181229114729.mzML            961.0      1711.0       118.0   \n",
       "QEC18RT_F2_20181229083715.mzML            861.0      1626.0       118.0   \n",
       "QEC18RT_F2_20181228211241.mzML            863.0      1631.0       116.0   \n",
       "QEC18RT_F1_20181228113615.mzML            948.0      1698.0       120.0   \n",
       "\n",
       "                                     peak@78.74  peak@79.05  peak@81.07  \\\n",
       "filename                                                                  \n",
       "QEC18_F1-1_F2-1.mzML                        2.0      2559.0      3467.0   \n",
       "QEC18_F1-1_NIST-3.mzML                      2.0      2511.0      3429.0   \n",
       "QEC18_F1-1_F2-1_20181227143118.mzML         1.0      2605.0      3576.0   \n",
       "QEC18_F1-1_F2-1_20181227084526.mzML         3.0      2660.0      3636.0   \n",
       "QEC18_F1-1_F2-1_NIST-2_To-1.mzML            3.0      2996.0      4011.0   \n",
       "...                                         ...         ...         ...   \n",
       "QEC18RT_F1.mzML                             1.0      2700.0      3649.0   \n",
       "QEC18RT_F1_20181229114729.mzML              2.0      2706.0      3659.0   \n",
       "QEC18RT_F2_20181229083715.mzML              1.0      2544.0      3482.0   \n",
       "QEC18RT_F2_20181228211241.mzML              1.0      2567.0      3493.0   \n",
       "QEC18RT_F1_20181228113615.mzML              1.0      2695.0      3628.0   \n",
       "\n",
       "                                     peak@83.09  peak@85.10  peak@86.06  \\\n",
       "filename                                                                  \n",
       "QEC18_F1-1_F2-1.mzML                     2717.0      1047.0        76.0   \n",
       "QEC18_F1-1_NIST-3.mzML                   2669.0      1036.0        75.0   \n",
       "QEC18_F1-1_F2-1_20181227143118.mzML      2764.0      1058.0        73.0   \n",
       "QEC18_F1-1_F2-1_20181227084526.mzML      2816.0      1071.0        74.0   \n",
       "QEC18_F1-1_F2-1_NIST-2_To-1.mzML         2984.0      1096.0        72.0   \n",
       "...                                         ...         ...         ...   \n",
       "QEC18RT_F1.mzML                          2855.0      1101.0        72.0   \n",
       "QEC18RT_F1_20181229114729.mzML           2869.0      1088.0        72.0   \n",
       "QEC18RT_F2_20181229083715.mzML           2728.0      1039.0        73.0   \n",
       "QEC18RT_F2_20181228211241.mzML           2755.0      1042.0        73.0   \n",
       "QEC18RT_F1_20181228113615.mzML           2832.0      1085.0        75.0   \n",
       "\n",
       "                                     peak@86.10  ...  loss@43.89  loss@75.01  \\\n",
       "filename                                         ...                           \n",
       "QEC18_F1-1_F2-1.mzML                      561.0  ...         0.0         0.0   \n",
       "QEC18_F1-1_NIST-3.mzML                    552.0  ...         0.0         0.0   \n",
       "QEC18_F1-1_F2-1_20181227143118.mzML       605.0  ...         0.0         0.0   \n",
       "QEC18_F1-1_F2-1_20181227084526.mzML       582.0  ...         0.0         0.0   \n",
       "QEC18_F1-1_F2-1_NIST-2_To-1.mzML          651.0  ...         0.0         0.0   \n",
       "...                                         ...  ...         ...         ...   \n",
       "QEC18RT_F1.mzML                           558.0  ...         0.0         0.0   \n",
       "QEC18RT_F1_20181229114729.mzML            594.0  ...         0.0         0.0   \n",
       "QEC18RT_F2_20181229083715.mzML            571.0  ...         0.0         0.0   \n",
       "QEC18RT_F2_20181228211241.mzML            583.0  ...         0.0         0.0   \n",
       "QEC18RT_F1_20181228113615.mzML            561.0  ...         0.0         0.0   \n",
       "\n",
       "                                     loss@118.02  peak@131.23  peak@138.34  \\\n",
       "filename                                                                     \n",
       "QEC18_F1-1_F2-1.mzML                         0.0          0.0          0.0   \n",
       "QEC18_F1-1_NIST-3.mzML                       0.0          0.0          0.0   \n",
       "QEC18_F1-1_F2-1_20181227143118.mzML          0.0          0.0          0.0   \n",
       "QEC18_F1-1_F2-1_20181227084526.mzML          0.0          0.0          0.0   \n",
       "QEC18_F1-1_F2-1_NIST-2_To-1.mzML             0.0          0.0          0.0   \n",
       "...                                          ...          ...          ...   \n",
       "QEC18RT_F1.mzML                              0.0          0.0          0.0   \n",
       "QEC18RT_F1_20181229114729.mzML               0.0          0.0          0.0   \n",
       "QEC18RT_F2_20181229083715.mzML               0.0          0.0          0.0   \n",
       "QEC18RT_F2_20181228211241.mzML               0.0          0.0          0.0   \n",
       "QEC18RT_F1_20181228113615.mzML               0.0          0.0          0.0   \n",
       "\n",
       "                                     peak@177.88  peak@235.22  peak@262.41  \\\n",
       "filename                                                                     \n",
       "QEC18_F1-1_F2-1.mzML                         0.0          0.0          0.0   \n",
       "QEC18_F1-1_NIST-3.mzML                       0.0          0.0          0.0   \n",
       "QEC18_F1-1_F2-1_20181227143118.mzML          0.0          0.0          0.0   \n",
       "QEC18_F1-1_F2-1_20181227084526.mzML          0.0          0.0          0.0   \n",
       "QEC18_F1-1_F2-1_NIST-2_To-1.mzML             0.0          0.0          0.0   \n",
       "...                                          ...          ...          ...   \n",
       "QEC18RT_F1.mzML                              0.0          0.0          0.0   \n",
       "QEC18RT_F1_20181229114729.mzML               0.0          0.0          0.0   \n",
       "QEC18RT_F2_20181229083715.mzML               0.0          0.0          0.0   \n",
       "QEC18RT_F2_20181228211241.mzML               0.0          0.0          0.0   \n",
       "QEC18RT_F1_20181228113615.mzML               0.0          0.0          0.0   \n",
       "\n",
       "                                     peak@345.96  peak@444.82  \n",
       "filename                                                       \n",
       "QEC18_F1-1_F2-1.mzML                         0.0          0.0  \n",
       "QEC18_F1-1_NIST-3.mzML                       0.0          0.0  \n",
       "QEC18_F1-1_F2-1_20181227143118.mzML          0.0          0.0  \n",
       "QEC18_F1-1_F2-1_20181227084526.mzML          0.0          0.0  \n",
       "QEC18_F1-1_F2-1_NIST-2_To-1.mzML             0.0          0.0  \n",
       "...                                          ...          ...  \n",
       "QEC18RT_F1.mzML                              0.0          0.0  \n",
       "QEC18RT_F1_20181229114729.mzML               0.0          0.0  \n",
       "QEC18RT_F2_20181229083715.mzML               0.0          0.0  \n",
       "QEC18RT_F2_20181228211241.mzML               0.0          0.0  \n",
       "QEC18RT_F1_20181228113615.mzML               0.0          0.0  \n",
       "\n",
       "[171 rows x 30324 columns]"
      ]
     },
     "execution_count": 11,
     "metadata": {},
     "output_type": "execute_result"
    }
   ],
   "source": [
    "memo_qe = memo_qe.filter(samples_pattern='blank')\n",
    "feat_table_qe = feat_table_qe.filter(samples_pattern='blank')\n",
    "memo_qe.memo_matrix"
   ]
  },
  {
   "cell_type": "markdown",
   "metadata": {},
   "source": []
  },
  {
   "cell_type": "markdown",
   "metadata": {},
   "source": [
    "## Plotting\n",
    "\n",
    "We can now use the MEMO matrix to generate the PCoA of our samples"
   ]
  },
  {
   "cell_type": "code",
   "execution_count": 20,
   "metadata": {},
   "outputs": [
    {
     "data": {
      "application/vnd.plotly.v1+json": {
       "config": {
        "plotlyServerURL": "https://plot.ly"
       },
       "data": [
        {
         "hovertemplate": "<b>%{hovertext}</b><br><br>contains=Plasma<br>PC1 (58.4 %)=%{x}<br>PC2 (14.9 %)=%{y}<extra></extra>",
         "hovertext": [
          "QEC18_NIST_20181227102029.mzML",
          "QEC18_NIST_20181227182328.mzML",
          "QEC18_NIST.mzML",
          "QEC18RT_NIST_20181228191835.mzML",
          "QEC18RT_NIST_20181229031403.mzML",
          "QEC18RT_NIST.mzML"
         ],
         "legendgroup": "Plasma",
         "marker": {
          "color": "#1F77B4",
          "symbol": "circle"
         },
         "mode": "markers",
         "name": "Plasma",
         "orientation": "v",
         "showlegend": true,
         "type": "scatter",
         "x": [
          -0.1344438444557192,
          -0.14112582028637652,
          -0.12207712697439504,
          -0.12805103859244213,
          -0.12695485434936216,
          -0.11755735136925202
         ],
         "xaxis": "x",
         "y": [
          -0.061121013963013934,
          -0.059837776835512876,
          -0.07121243642676205,
          -0.04685358010170582,
          -0.0416460284666637,
          -0.05148615201563484
         ],
         "yaxis": "y"
        },
        {
         "hovertemplate": "<b>%{hovertext}</b><br><br>contains=Tomato<br>PC1 (58.4 %)=%{x}<br>PC2 (14.9 %)=%{y}<extra></extra>",
         "hovertext": [
          "QEC18_To_20181227204313.mzML",
          "QEC18_To_20181227231513.mzML",
          "QEC18_To.mzML",
          "QEC18RT_To_20181229050805.mzML",
          "QEC18RT_To_20181229074015.mzML",
          "QEC18RT_To.mzML"
         ],
         "legendgroup": "Tomato",
         "marker": {
          "color": "#FF7F0E",
          "symbol": "circle"
         },
         "mode": "markers",
         "name": "Tomato",
         "orientation": "v",
         "showlegend": true,
         "type": "scatter",
         "x": [
          -0.12051375127783162,
          -0.1006803287373018,
          -0.11321026276424086,
          -0.08669610564166559,
          -0.08778307616403555,
          -0.08432369390780205
         ],
         "xaxis": "x",
         "y": [
          0.03309441966314135,
          0.03097223732373301,
          0.03459797767546699,
          0.034627841273837015,
          0.03466827573170998,
          0.0369194996409128
         ],
         "yaxis": "y"
        },
        {
         "hovertemplate": "<b>%{hovertext}</b><br><br>contains=Tomato + Plasma<br>PC1 (58.4 %)=%{x}<br>PC2 (14.9 %)=%{y}<extra></extra>",
         "hovertext": [
          "QEC18_To-1_NIST-3_20181227172525.mzML",
          "QEC18_To-1_NIST-3_20181227214013.mzML",
          "QEC18_To-1_NIST-3.mzML",
          "QEC18_To-1_NIST-1_20181227111754.mzML",
          "QEC18_To-1_NIST-1_20181228010915.mzML",
          "QEC18_To-1_NIST-1.mzML",
          "QEC18_To-3_NIST-1_20181227074824.mzML",
          "QEC18_To-3_NIST-1_20181227160801.mzML",
          "QEC18_To-3_NIST-1.mzML",
          "QEC18RT_To-1_NIST-3_20181229021701.mzML",
          "QEC18RT_To-1_NIST-3_20181229060507.mzML",
          "QEC18RT_To-1_NIST-3.mzML",
          "QEC18RT_To-1_NIST-1_20181228201537.mzML",
          "QEC18RT_To-1_NIST-1_20181229093419.mzML",
          "QEC18RT_To-1_NIST-1.mzML",
          "QEC18RT_To-3_NIST-1_20181228162117.mzML",
          "QEC18RT_To-3_NIST-1_20181229010055.mzML",
          "QEC18RT_To-3_NIST-1.mzML"
         ],
         "legendgroup": "Tomato + Plasma",
         "marker": {
          "color": "#2CA02C",
          "symbol": "circle"
         },
         "mode": "markers",
         "name": "Tomato + Plasma",
         "orientation": "v",
         "showlegend": true,
         "type": "scatter",
         "x": [
          -0.08053190220278711,
          -0.10037730606699106,
          -0.08415413307633714,
          -0.10547799146636844,
          -0.10557777546162092,
          -0.1332148571269278,
          -0.1041476550353853,
          -0.12196112254772518,
          -0.0895209820991762,
          -0.0697736493697269,
          -0.07355192036287117,
          -0.07524481838987396,
          -0.09789988761463497,
          -0.08419434985424214,
          -0.10172187878663004,
          -0.08622098210317186,
          -0.09863740829335607,
          -0.08498619324365378
         ],
         "xaxis": "x",
         "y": [
          0.02099210062048224,
          0.021802986270035445,
          0.0224992772698216,
          0.03167364801208487,
          0.026084746015816573,
          0.03279480812465636,
          0.030435405074325284,
          0.03244729182198004,
          0.028851039228003562,
          0.026931985061756796,
          0.028421915874805404,
          0.028337313957389827,
          0.033962615157851594,
          0.030969060413453535,
          0.03534065005344564,
          0.03597572859080079,
          0.03856326439860907,
          0.030680790486962265
         ],
         "yaxis": "y"
        },
        {
         "hovertemplate": "<b>%{hovertext}</b><br><br>contains=Fecal_2<br>PC1 (58.4 %)=%{x}<br>PC2 (14.9 %)=%{y}<extra></extra>",
         "hovertext": [
          "QEC18_F2_20181227121553.mzML",
          "QEC18_F2_20181228001213.mzML",
          "QEC18_F2.mzML",
          "QEC18RT_F2_20181228211241.mzML",
          "QEC18RT_F2_20181229083715.mzML",
          "QEC18RT_F2.mzML"
         ],
         "legendgroup": "Fecal_2",
         "marker": {
          "color": "#D62728",
          "symbol": "circle"
         },
         "mode": "markers",
         "name": "Fecal_2",
         "orientation": "v",
         "showlegend": true,
         "type": "scatter",
         "x": [
          -0.011375202139796049,
          -0.019914043267400507,
          -0.01475299205737475,
          0.0013340541497665719,
          -0.0036616183328295362,
          -0.006739366358035156
         ],
         "xaxis": "x",
         "y": [
          -0.02870350903730297,
          -0.029798041331356082,
          -0.027194335889114088,
          -0.019279727965714002,
          -0.02115900185151542,
          -0.021572923409456476
         ],
         "yaxis": "y"
        },
        {
         "hovertemplate": "<b>%{hovertext}</b><br><br>contains=Fecal_2 + Plasma<br>PC1 (58.4 %)=%{x}<br>PC2 (14.9 %)=%{y}<extra></extra>",
         "hovertext": [
          "QEC18_F2-1_NIST-3_20181227103932.mzML",
          "QEC18_F2-1_NIST-3_20181227145038.mzML",
          "QEC18_F2-1_NIST-3.mzML",
          "QEC18_F2-1_NIST-1_20181227212113.mzML",
          "QEC18_F2-1_NIST-1_20181227233413.mzML",
          "QEC18_F2-1_NIST-1.mzML",
          "QEC18_F2-3_NIST-1_20181227162723.mzML",
          "QEC18_F2-3_NIST-1_20181228005015.mzML",
          "QEC18_F2-3_NIST-1.mzML",
          "QEC18RT_F2-1_NIST-3_20181228193737.mzML",
          "QEC18RT_F2-1_NIST-3_20181228234449.mzML",
          "QEC18RT_F2-1_NIST-3.mzML",
          "QEC18RT_F2-1_NIST-1_20181229054607.mzML",
          "QEC18RT_F2-1_NIST-1_20181229075915.mzML",
          "QEC18RT_F2-1_NIST-1.mzML",
          "QEC18RT_F2-3_NIST-1_20181229011957.mzML",
          "QEC18RT_F2-3_NIST-1_20181229091519.mzML",
          "QEC18RT_F2-3_NIST-1.mzML"
         ],
         "legendgroup": "Fecal_2 + Plasma",
         "marker": {
          "color": "#9467BD",
          "symbol": "circle"
         },
         "mode": "markers",
         "name": "Fecal_2 + Plasma",
         "orientation": "v",
         "showlegend": true,
         "type": "scatter",
         "x": [
          -0.022089011461683995,
          -0.019779377673557103,
          -0.05467731027312188,
          -0.016458272160996476,
          -0.01817001235218993,
          -0.009656874596560491,
          -0.018547198654195258,
          -0.011755569716169598,
          -0.008145006413220449,
          -0.015539612900950846,
          -0.004419961781330487,
          -0.010964442426809645,
          -0.0023481161955387696,
          -0.0006500309542824896,
          0.003588109242788305,
          -0.0023622288964446,
          0.004371186904479251,
          -0.0036799451350476233
         ],
         "xaxis": "x",
         "y": [
          -0.030631999086665373,
          -0.033177043930914946,
          -0.031307126898562576,
          -0.030512502370683266,
          -0.026280495043637102,
          -0.024160450202848006,
          -0.028847438979486873,
          -0.02748661489016647,
          -0.030202635752931542,
          -0.021241803995951887,
          -0.021663493751101513,
          -0.018907653094984295,
          -0.017478013160363935,
          -0.014242855896841544,
          -0.01402338852812673,
          -0.016192325748971087,
          -0.01701327920456682,
          -0.02132112079673788
         ],
         "yaxis": "y"
        },
        {
         "hovertemplate": "<b>%{hovertext}</b><br><br>contains=Fecal_2 + Tomato<br>PC1 (58.4 %)=%{x}<br>PC2 (14.9 %)=%{y}<extra></extra>",
         "hovertext": [
          "QEC18_F2-1_To-3_20181226223728.mzML",
          "QEC18_F2-1_To-3_20181227041925.mzML",
          "QEC18_F2-1_To-3.mzML",
          "QEC18_F2-1_To-1_20181227150959.mzML",
          "QEC18_F2-1_To-1_20181228014719.mzML",
          "QEC18_F2-1_To-1.mzML",
          "QEC18_F2-3_To-1_20181227082626.mzML",
          "QEC18_F2-3_To-1_20181227164643.mzML",
          "QEC18_F2-3_To-1.mzML",
          "QEC18RT_F2-1_To-3_20181228071021.mzML",
          "QEC18RT_F2-1_To-3_20181228125213.mzML",
          "QEC18RT_F2-1_To-3.mzML",
          "QEC18RT_F2-1_To-1_20181229000349.mzML",
          "QEC18RT_F2-1_To-1_20181229101223.mzML",
          "QEC18RT_F2-1_To-1.mzML",
          "QEC18RT_F2-3_To-1_20181228165919.mzML",
          "QEC18RT_F2-3_To-1_20181229013857.mzML",
          "QEC18RT_F2-3_To-1.mzML"
         ],
         "legendgroup": "Fecal_2 + Tomato",
         "marker": {
          "color": "#8C564B",
          "symbol": "circle"
         },
         "mode": "markers",
         "name": "Fecal_2 + Tomato",
         "orientation": "v",
         "showlegend": true,
         "type": "scatter",
         "x": [
          -0.009015449122128623,
          0.006465558693861271,
          -0.009638681125640711,
          0.002869459772684753,
          0.005341812279255413,
          0.004778687751119141,
          0.01192269404885437,
          0.0052143800784919345,
          0.0022790402563631087,
          0.008008587040183682,
          0.008768165128099862,
          0.0066121631674174244,
          0.015714513311761418,
          0.018063699614244904,
          0.014833976303248867,
          0.01897744858987534,
          0.016244071779147447,
          0.014496634332365265
         ],
         "xaxis": "x",
         "y": [
          0.019216133080337972,
          0.021866860436299818,
          0.01917144172853923,
          0.015115857508772706,
          0.017852779303918716,
          0.017051830755397866,
          0.013374426257146127,
          0.011750592074517029,
          0.008472379649585839,
          0.02560293409113149,
          0.026958039293662393,
          0.02499865724310095,
          0.023595012406604457,
          0.024514170154096168,
          0.026290718731934816,
          0.023640819671412083,
          0.022474035740630074,
          0.019397187113128357
         ],
         "yaxis": "y"
        },
        {
         "hovertemplate": "<b>%{hovertext}</b><br><br>contains=Fecal_1<br>PC1 (58.4 %)=%{x}<br>PC2 (14.9 %)=%{y}<extra></extra>",
         "hovertext": [
          "QEC18_F1_20181227030329.mzML",
          "QEC18_F1_20181228032223.mzML",
          "QEC18_F1.mzML",
          "QEC18RT_F1_20181228113615.mzML",
          "QEC18RT_F1_20181229114729.mzML",
          "QEC18RT_F1.mzML"
         ],
         "legendgroup": "Fecal_1",
         "marker": {
          "color": "#E377C2",
          "symbol": "circle"
         },
         "mode": "markers",
         "name": "Fecal_1",
         "orientation": "v",
         "showlegend": true,
         "type": "scatter",
         "x": [
          0.016741184893292318,
          0.015607008184881421,
          0.015297414763521805,
          0.0262035604447366,
          0.0313200054763324,
          0.029405210028001078
         ],
         "xaxis": "x",
         "y": [
          -0.03343640645521207,
          -0.03545958690608757,
          -0.03373988237380099,
          -0.024041923133828937,
          -0.023672126661515098,
          -0.02183544504143764
         ],
         "yaxis": "y"
        },
        {
         "hovertemplate": "<b>%{hovertext}</b><br><br>contains=Fecal_1 + Fecal_2 + Tomato + Plasma<br>PC1 (58.4 %)=%{x}<br>PC2 (14.9 %)=%{y}<extra></extra>",
         "hovertext": [
          "QEC18_F1-1_F2-1_NIST-2_To-1_20181227152919.mzML",
          "QEC18_F1-1_F2-1_NIST-2_To-1_20181227225613.mzML",
          "QEC18_F1-1_F2-1_NIST-2_To-1.mzML",
          "QEC18_F1-1_F2-1_NIST-1_To-2_20181227113714.mzML",
          "QEC18_F1-1_F2-1_NIST-1_To-2_20181227184249.mzML",
          "QEC18_F1-1_F2-1_NIST-1_To-2.mzML",
          "QEC18_F1-1_F2-2_NIST-1_To-1_20181227065123.mzML",
          "QEC18_F1-1_F2-2_NIST-1_To-1_20181228034123.mzML",
          "QEC18_F1-1_F2-2_NIST-1_To-1.mzML",
          "QEC18_Qcmix_begin.mzML",
          "QEC18_Qcmix_middle.mzML",
          "QEC18_Qcmix_end.mzML",
          "QEC18_Qcmix_end_20181228041923.mzML",
          "QEC18RT_Qcmix_begin.mzML",
          "QEC18RT_Qcmix_middle.mzML",
          "QEC18RT_Qcmix_end.mzML",
          "QEC18_F1-1_F2-1_NIST-1_To-1_20181227125436.mzML",
          "QEC18_F1-1_F2-1_NIST-1_To-1_20181227135238.mzML",
          "QEC18_F1-1_F2-1_NIST-1_To-1.mzML",
          "QEC18_F1-2_F2-1_NIST-1_To-1_20181228020619.mzML",
          "QEC18_F1-2_F2-1_NIST-1_To-1_20181228022521.mzML",
          "QEC18_F1-2_F2-1_NIST-1_To-1.mzML",
          "QEC18RT_F1-1_F2-1_NIST-2_To-1_20181229002251.mzML",
          "QEC18RT_F1-1_F2-1_NIST-2_To-1_20181229072113.mzML",
          "QEC18RT_F1-1_F2-1_NIST-2_To-1.mzML",
          "QEC18RT_F1-1_F2-1_NIST-1_To-2_20181228203439.mzML",
          "QEC18RT_F1-1_F2-1_NIST-1_To-2_20181229033303.mzML",
          "QEC18RT_F1-1_F2-1_NIST-1_To-2.mzML",
          "QEC18RT_F1-1_F2-2_NIST-1_To-1_20181228152413.mzML",
          "QEC18RT_F1-1_F2-2_NIST-1_To-1_20181229120629.mzML",
          "QEC18RT_F1-1_F2-2_NIST-1_To-1.mzML",
          "QEC18RT_F1-1_F2-1_NIST-1_To-1_20181228215043.mzML",
          "QEC18RT_F1-1_F2-1_NIST-1_To-1_20181228224749.mzML",
          "QEC18RT_F1-1_F2-1_NIST-1_To-1.mzML",
          "QEC18RT_F1-2_F2-1_NIST-1_To-1_20181229103125.mzML",
          "QEC18RT_F1-2_F2-1_NIST-1_To-1_20181229105027.mzML",
          "QEC18RT_F1-2_F2-1_NIST-1_To-1.mzML"
         ],
         "legendgroup": "Fecal_1 + Fecal_2 + Tomato + Plasma",
         "marker": {
          "color": "#7F7F7F",
          "symbol": "circle"
         },
         "mode": "markers",
         "name": "Fecal_1 + Fecal_2 + Tomato + Plasma",
         "orientation": "v",
         "showlegend": true,
         "type": "scatter",
         "x": [
          0.036653909839701834,
          0.037736087760887514,
          0.042499421909667844,
          0.038724571068654935,
          0.038568264959102594,
          0.03858381722656699,
          0.04193027051912555,
          0.03913138098109621,
          0.039591575760036614,
          0.03117076115421537,
          0.04370958265951017,
          0.041782519264003185,
          0.04170000053479999,
          0.02925894619782052,
          0.04877453745174413,
          0.04664333007237536,
          0.041559327291565126,
          0.043535649150420526,
          0.04172794510628411,
          0.03615674578637401,
          0.04194240444551043,
          0.03636606154148597,
          0.04620182327116292,
          0.04396005417435466,
          0.04867526942320435,
          0.05111564734272827,
          0.04474312976970478,
          0.0488606986865846,
          0.05160653516101082,
          0.046774210597849634,
          0.04522874542663161,
          0.050158872918078995,
          0.047375985616665,
          0.045130667449952276,
          0.048576089245629867,
          0.049817512108980166,
          0.05036570038302781
         ],
         "xaxis": "x",
         "y": [
          0.011318947714025807,
          0.012336843582303431,
          0.015618472327989432,
          0.016951946963610905,
          0.015697239933528246,
          0.017234622291253488,
          0.012894954889018623,
          0.012056543597447416,
          0.012211681805102521,
          0.009126240156928731,
          0.016517502310029155,
          0.014501040844108245,
          0.016077261917909445,
          0.014150336890028902,
          0.021913408981017235,
          0.020884203951394578,
          0.01320729417519603,
          0.015476231842006015,
          0.014987127784454317,
          0.010330283734112516,
          0.013230164947302172,
          0.011161038036665342,
          0.020940113850324033,
          0.020271852289540815,
          0.022206617654452074,
          0.022690889518689663,
          0.021011315811082905,
          0.023517713414427096,
          0.021858056198343315,
          0.01883035565281422,
          0.019187810678177368,
          0.02150552741675932,
          0.021006921174294244,
          0.019284935720988272,
          0.01999886907675563,
          0.020409950110802797,
          0.021202806230076008
         ],
         "yaxis": "y"
        },
        {
         "hovertemplate": "<b>%{hovertext}</b><br><br>contains=Fecal_1 + Plasma<br>PC1 (58.4 %)=%{x}<br>PC2 (14.9 %)=%{y}<extra></extra>",
         "hovertext": [
          "QEC18_F1-1_NIST-3_20181227133316.mzML",
          "QEC18_F1-1_NIST-3_20181228012817.mzML",
          "QEC18_F1-1_NIST-3.mzML",
          "QEC18_F1-1_NIST-1_20181227210213.mzML",
          "QEC18_F1-1_NIST-1_20181227215913.mzML",
          "QEC18_F1-1_NIST-1.mzML",
          "QEC18_F1-3_NIST-1_20181227045725.mzML",
          "QEC18_F1-3_NIST-1_20181227170603.mzML",
          "QEC18_F1-3_NIST-1.mzML",
          "QEC18RT_F1-1_NIST-3_20181228222847.mzML",
          "QEC18RT_F1-1_NIST-3_20181229095321.mzML",
          "QEC18RT_F1-1_NIST-3.mzML",
          "QEC18RT_F1-1_NIST-1_20181229052705.mzML",
          "QEC18RT_F1-1_NIST-1_20181229062407.mzML",
          "QEC18RT_F1-1_NIST-1.mzML",
          "QEC18RT_F1-3_NIST-1_20181228133015.mzML",
          "QEC18RT_F1-3_NIST-1_20181229015759.mzML",
          "QEC18RT_F1-3_NIST-1.mzML"
         ],
         "legendgroup": "Fecal_1 + Plasma",
         "marker": {
          "color": "#BCBD22",
          "symbol": "circle"
         },
         "mode": "markers",
         "name": "Fecal_1 + Plasma",
         "orientation": "v",
         "showlegend": true,
         "type": "scatter",
         "x": [
          -0.00000706677867207765,
          0.006236415607837545,
          -0.0033405893376011126,
          0.011130774161126825,
          0.009287375378016147,
          0.008300203307838821,
          0.023072662371570494,
          0.017531568721440797,
          0.016292796860460607,
          0.021431430905796803,
          0.026064916889390815,
          0.018997534673200957,
          0.02524260061374768,
          0.024283326633319318,
          0.021813676628048798,
          0.030053580172582372,
          0.026625338964787096,
          0.027802207125606004
         ],
         "xaxis": "x",
         "y": [
          -0.037551283437762234,
          -0.032898367613014276,
          -0.04179876422794688,
          -0.032230544773340905,
          -0.035489941271553534,
          -0.03666268370838938,
          -0.03127955299607595,
          -0.03333202738769293,
          -0.0349766428539156,
          -0.025319331241906565,
          -0.021893452027797557,
          -0.025403368379144975,
          -0.0222499645164704,
          -0.022262218265462076,
          -0.025304112428299292,
          -0.0210577012235331,
          -0.0244552909886849,
          -0.02349089347640511
         ],
         "yaxis": "y"
        },
        {
         "hovertemplate": "<b>%{hovertext}</b><br><br>contains=Fecal_1 + Tomato<br>PC1 (58.4 %)=%{x}<br>PC2 (14.9 %)=%{y}<extra></extra>",
         "hovertext": [
          "QEC18_F1-1_To-3_20181227174446.mzML",
          "QEC18_F1-1_To-3_20181227223713.mzML",
          "QEC18_F1-1_To-3.mzML",
          "QEC18_F1-1_To-1_20181227043825.mzML",
          "QEC18_F1-1_To-1_20181227123513.mzML",
          "QEC18_F1-1_To-1.mzML",
          "QEC18_F1-3_To-1_20181228003115.mzML",
          "QEC18_F1-3_To-1_20181228024423.mzML",
          "QEC18_F1-3_To-1.mzML",
          "QEC18RT_F1-1_To-3_20181229023601.mzML",
          "QEC18RT_F1-1_To-3_20181229070211.mzML",
          "QEC18RT_F1-1_To-3.mzML",
          "QEC18RT_F1-1_To-1_20181228131115.mzML",
          "QEC18RT_F1-1_To-1_20181228213143.mzML",
          "QEC18RT_F1-1_To-1.mzML",
          "QEC18RT_F1-3_To-1_20181229085617.mzML",
          "QEC18RT_F1-3_To-1_20181229110929.mzML",
          "QEC18RT_F1-3_To-1.mzML"
         ],
         "legendgroup": "Fecal_1 + Tomato",
         "marker": {
          "color": "#17BECF",
          "symbol": "circle"
         },
         "mode": "markers",
         "name": "Fecal_1 + Tomato",
         "orientation": "v",
         "showlegend": true,
         "type": "scatter",
         "x": [
          0.030002635474745593,
          0.03290814029644617,
          0.019875933151137722,
          0.03695431994255233,
          0.03383794641574882,
          0.03851547740497872,
          0.03837077700233177,
          0.03725038521311989,
          0.04071138587642295,
          0.03799617151674466,
          0.03780903024013791,
          0.042112389139652394,
          0.04222869931298922,
          0.045564303013302256,
          0.03777588929070676,
          0.0460247518398779,
          0.043716922652075135,
          0.04363452187393135
         ],
         "xaxis": "x",
         "y": [
          0.018366332042291218,
          0.01810193997440574,
          0.005906717979788757,
          0.017255046580853424,
          0.01535379218944161,
          0.017995337524291534,
          0.01145693890903852,
          0.013407573173586648,
          0.01420962266667227,
          0.023047207183445835,
          0.023267459324968612,
          0.0231862083617566,
          0.021873335921921054,
          0.02149879919177807,
          0.020329657678105705,
          0.01901244281724611,
          0.01694831798400994,
          0.02001748385224417
         ],
         "yaxis": "y"
        },
        {
         "hovertemplate": "<b>%{hovertext}</b><br><br>contains=Fecal_1 + Fecal_2<br>PC1 (58.4 %)=%{x}<br>PC2 (14.9 %)=%{y}<extra></extra>",
         "hovertext": [
          "QEC18_F1-1_F2-3_20181227012831.mzML",
          "QEC18_F1-1_F2-3_20181227071023.mzML",
          "QEC18_F1-1_F2-3.mzML",
          "QEC18_F1-1_F2-1_20181227084526.mzML",
          "QEC18_F1-1_F2-1_20181227143118.mzML",
          "QEC18_F1-1_F2-1.mzML",
          "QEC18_F1-3_F2-1_20181227131356.mzML",
          "QEC18_F1-3_F2-1_20181227190209.mzML",
          "QEC18_F1-3_F2-1.mzML",
          "QEC18RT_F1-1_F2-3_20181228100117.mzML",
          "QEC18RT_F1-1_F2-3_20181228154315.mzML",
          "QEC18RT_F1-1_F2-3.mzML",
          "QEC18RT_F1-1_F2-1_20181228171821.mzML",
          "QEC18RT_F1-1_F2-1_20181228232549.mzML",
          "QEC18RT_F1-1_F2-1.mzML",
          "QEC18RT_F1-3_F2-1_20181228220945.mzML",
          "QEC18RT_F1-3_F2-1_20181229035205.mzML",
          "QEC18RT_F1-3_F2-1.mzML"
         ],
         "legendgroup": "Fecal_1 + Fecal_2",
         "marker": {
          "color": "#1F77B4",
          "symbol": "circle"
         },
         "mode": "markers",
         "name": "Fecal_1 + Fecal_2",
         "orientation": "v",
         "showlegend": true,
         "type": "scatter",
         "x": [
          0.022852416419463645,
          0.02487547716851443,
          0.019759175594781582,
          0.021953596211875755,
          0.014832494805483792,
          0.008878293333788891,
          0.022875364654818816,
          0.019554669290375613,
          0.023410133064060378,
          0.03277833183950784,
          0.0332329072768548,
          0.029121033794555835,
          0.030568099228452654,
          0.029650815964813504,
          0.030201240772282714,
          0.034854526031945054,
          0.030926860337406666,
          0.027721844781539412
         ],
         "xaxis": "x",
         "y": [
          -0.024351796800271743,
          -0.02611601238243219,
          -0.030321244719470068,
          -0.030099253000011324,
          -0.03172513083479201,
          -0.03763124407624474,
          -0.02940669888373662,
          -0.03149909697574298,
          -0.0294412966750527,
          -0.016016006267471686,
          -0.018021975045211112,
          -0.019397504015975984,
          -0.0197394137384999,
          -0.021399224525933323,
          -0.02200216090919686,
          -0.020830643907029822,
          -0.021478879886029686,
          -0.022156227150427567
         ],
         "yaxis": "y"
        }
       ],
       "layout": {
        "height": 650,
        "legend": {
         "title": {
          "text": "contains"
         },
         "tracegroupgap": 0
        },
        "template": {
         "data": {
          "bar": [
           {
            "error_x": {
             "color": "rgb(36,36,36)"
            },
            "error_y": {
             "color": "rgb(36,36,36)"
            },
            "marker": {
             "line": {
              "color": "white",
              "width": 0.5
             },
             "pattern": {
              "fillmode": "overlay",
              "size": 10,
              "solidity": 0.2
             }
            },
            "type": "bar"
           }
          ],
          "barpolar": [
           {
            "marker": {
             "line": {
              "color": "white",
              "width": 0.5
             },
             "pattern": {
              "fillmode": "overlay",
              "size": 10,
              "solidity": 0.2
             }
            },
            "type": "barpolar"
           }
          ],
          "carpet": [
           {
            "aaxis": {
             "endlinecolor": "rgb(36,36,36)",
             "gridcolor": "white",
             "linecolor": "white",
             "minorgridcolor": "white",
             "startlinecolor": "rgb(36,36,36)"
            },
            "baxis": {
             "endlinecolor": "rgb(36,36,36)",
             "gridcolor": "white",
             "linecolor": "white",
             "minorgridcolor": "white",
             "startlinecolor": "rgb(36,36,36)"
            },
            "type": "carpet"
           }
          ],
          "choropleth": [
           {
            "colorbar": {
             "outlinewidth": 1,
             "tickcolor": "rgb(36,36,36)",
             "ticks": "outside"
            },
            "type": "choropleth"
           }
          ],
          "contour": [
           {
            "colorbar": {
             "outlinewidth": 1,
             "tickcolor": "rgb(36,36,36)",
             "ticks": "outside"
            },
            "colorscale": [
             [
              0,
              "#440154"
             ],
             [
              0.1111111111111111,
              "#482878"
             ],
             [
              0.2222222222222222,
              "#3e4989"
             ],
             [
              0.3333333333333333,
              "#31688e"
             ],
             [
              0.4444444444444444,
              "#26828e"
             ],
             [
              0.5555555555555556,
              "#1f9e89"
             ],
             [
              0.6666666666666666,
              "#35b779"
             ],
             [
              0.7777777777777778,
              "#6ece58"
             ],
             [
              0.8888888888888888,
              "#b5de2b"
             ],
             [
              1,
              "#fde725"
             ]
            ],
            "type": "contour"
           }
          ],
          "contourcarpet": [
           {
            "colorbar": {
             "outlinewidth": 1,
             "tickcolor": "rgb(36,36,36)",
             "ticks": "outside"
            },
            "type": "contourcarpet"
           }
          ],
          "heatmap": [
           {
            "colorbar": {
             "outlinewidth": 1,
             "tickcolor": "rgb(36,36,36)",
             "ticks": "outside"
            },
            "colorscale": [
             [
              0,
              "#440154"
             ],
             [
              0.1111111111111111,
              "#482878"
             ],
             [
              0.2222222222222222,
              "#3e4989"
             ],
             [
              0.3333333333333333,
              "#31688e"
             ],
             [
              0.4444444444444444,
              "#26828e"
             ],
             [
              0.5555555555555556,
              "#1f9e89"
             ],
             [
              0.6666666666666666,
              "#35b779"
             ],
             [
              0.7777777777777778,
              "#6ece58"
             ],
             [
              0.8888888888888888,
              "#b5de2b"
             ],
             [
              1,
              "#fde725"
             ]
            ],
            "type": "heatmap"
           }
          ],
          "heatmapgl": [
           {
            "colorbar": {
             "outlinewidth": 1,
             "tickcolor": "rgb(36,36,36)",
             "ticks": "outside"
            },
            "colorscale": [
             [
              0,
              "#440154"
             ],
             [
              0.1111111111111111,
              "#482878"
             ],
             [
              0.2222222222222222,
              "#3e4989"
             ],
             [
              0.3333333333333333,
              "#31688e"
             ],
             [
              0.4444444444444444,
              "#26828e"
             ],
             [
              0.5555555555555556,
              "#1f9e89"
             ],
             [
              0.6666666666666666,
              "#35b779"
             ],
             [
              0.7777777777777778,
              "#6ece58"
             ],
             [
              0.8888888888888888,
              "#b5de2b"
             ],
             [
              1,
              "#fde725"
             ]
            ],
            "type": "heatmapgl"
           }
          ],
          "histogram": [
           {
            "marker": {
             "line": {
              "color": "white",
              "width": 0.6
             }
            },
            "type": "histogram"
           }
          ],
          "histogram2d": [
           {
            "colorbar": {
             "outlinewidth": 1,
             "tickcolor": "rgb(36,36,36)",
             "ticks": "outside"
            },
            "colorscale": [
             [
              0,
              "#440154"
             ],
             [
              0.1111111111111111,
              "#482878"
             ],
             [
              0.2222222222222222,
              "#3e4989"
             ],
             [
              0.3333333333333333,
              "#31688e"
             ],
             [
              0.4444444444444444,
              "#26828e"
             ],
             [
              0.5555555555555556,
              "#1f9e89"
             ],
             [
              0.6666666666666666,
              "#35b779"
             ],
             [
              0.7777777777777778,
              "#6ece58"
             ],
             [
              0.8888888888888888,
              "#b5de2b"
             ],
             [
              1,
              "#fde725"
             ]
            ],
            "type": "histogram2d"
           }
          ],
          "histogram2dcontour": [
           {
            "colorbar": {
             "outlinewidth": 1,
             "tickcolor": "rgb(36,36,36)",
             "ticks": "outside"
            },
            "colorscale": [
             [
              0,
              "#440154"
             ],
             [
              0.1111111111111111,
              "#482878"
             ],
             [
              0.2222222222222222,
              "#3e4989"
             ],
             [
              0.3333333333333333,
              "#31688e"
             ],
             [
              0.4444444444444444,
              "#26828e"
             ],
             [
              0.5555555555555556,
              "#1f9e89"
             ],
             [
              0.6666666666666666,
              "#35b779"
             ],
             [
              0.7777777777777778,
              "#6ece58"
             ],
             [
              0.8888888888888888,
              "#b5de2b"
             ],
             [
              1,
              "#fde725"
             ]
            ],
            "type": "histogram2dcontour"
           }
          ],
          "mesh3d": [
           {
            "colorbar": {
             "outlinewidth": 1,
             "tickcolor": "rgb(36,36,36)",
             "ticks": "outside"
            },
            "type": "mesh3d"
           }
          ],
          "parcoords": [
           {
            "line": {
             "colorbar": {
              "outlinewidth": 1,
              "tickcolor": "rgb(36,36,36)",
              "ticks": "outside"
             }
            },
            "type": "parcoords"
           }
          ],
          "pie": [
           {
            "automargin": true,
            "type": "pie"
           }
          ],
          "scatter": [
           {
            "marker": {
             "colorbar": {
              "outlinewidth": 1,
              "tickcolor": "rgb(36,36,36)",
              "ticks": "outside"
             }
            },
            "type": "scatter"
           }
          ],
          "scatter3d": [
           {
            "line": {
             "colorbar": {
              "outlinewidth": 1,
              "tickcolor": "rgb(36,36,36)",
              "ticks": "outside"
             }
            },
            "marker": {
             "colorbar": {
              "outlinewidth": 1,
              "tickcolor": "rgb(36,36,36)",
              "ticks": "outside"
             }
            },
            "type": "scatter3d"
           }
          ],
          "scattercarpet": [
           {
            "marker": {
             "colorbar": {
              "outlinewidth": 1,
              "tickcolor": "rgb(36,36,36)",
              "ticks": "outside"
             }
            },
            "type": "scattercarpet"
           }
          ],
          "scattergeo": [
           {
            "marker": {
             "colorbar": {
              "outlinewidth": 1,
              "tickcolor": "rgb(36,36,36)",
              "ticks": "outside"
             }
            },
            "type": "scattergeo"
           }
          ],
          "scattergl": [
           {
            "marker": {
             "colorbar": {
              "outlinewidth": 1,
              "tickcolor": "rgb(36,36,36)",
              "ticks": "outside"
             }
            },
            "type": "scattergl"
           }
          ],
          "scattermapbox": [
           {
            "marker": {
             "colorbar": {
              "outlinewidth": 1,
              "tickcolor": "rgb(36,36,36)",
              "ticks": "outside"
             }
            },
            "type": "scattermapbox"
           }
          ],
          "scatterpolar": [
           {
            "marker": {
             "colorbar": {
              "outlinewidth": 1,
              "tickcolor": "rgb(36,36,36)",
              "ticks": "outside"
             }
            },
            "type": "scatterpolar"
           }
          ],
          "scatterpolargl": [
           {
            "marker": {
             "colorbar": {
              "outlinewidth": 1,
              "tickcolor": "rgb(36,36,36)",
              "ticks": "outside"
             }
            },
            "type": "scatterpolargl"
           }
          ],
          "scatterternary": [
           {
            "marker": {
             "colorbar": {
              "outlinewidth": 1,
              "tickcolor": "rgb(36,36,36)",
              "ticks": "outside"
             }
            },
            "type": "scatterternary"
           }
          ],
          "surface": [
           {
            "colorbar": {
             "outlinewidth": 1,
             "tickcolor": "rgb(36,36,36)",
             "ticks": "outside"
            },
            "colorscale": [
             [
              0,
              "#440154"
             ],
             [
              0.1111111111111111,
              "#482878"
             ],
             [
              0.2222222222222222,
              "#3e4989"
             ],
             [
              0.3333333333333333,
              "#31688e"
             ],
             [
              0.4444444444444444,
              "#26828e"
             ],
             [
              0.5555555555555556,
              "#1f9e89"
             ],
             [
              0.6666666666666666,
              "#35b779"
             ],
             [
              0.7777777777777778,
              "#6ece58"
             ],
             [
              0.8888888888888888,
              "#b5de2b"
             ],
             [
              1,
              "#fde725"
             ]
            ],
            "type": "surface"
           }
          ],
          "table": [
           {
            "cells": {
             "fill": {
              "color": "rgb(237,237,237)"
             },
             "line": {
              "color": "white"
             }
            },
            "header": {
             "fill": {
              "color": "rgb(217,217,217)"
             },
             "line": {
              "color": "white"
             }
            },
            "type": "table"
           }
          ]
         },
         "layout": {
          "annotationdefaults": {
           "arrowhead": 0,
           "arrowwidth": 1
          },
          "autotypenumbers": "strict",
          "coloraxis": {
           "colorbar": {
            "outlinewidth": 1,
            "tickcolor": "rgb(36,36,36)",
            "ticks": "outside"
           }
          },
          "colorscale": {
           "diverging": [
            [
             0,
             "rgb(103,0,31)"
            ],
            [
             0.1,
             "rgb(178,24,43)"
            ],
            [
             0.2,
             "rgb(214,96,77)"
            ],
            [
             0.3,
             "rgb(244,165,130)"
            ],
            [
             0.4,
             "rgb(253,219,199)"
            ],
            [
             0.5,
             "rgb(247,247,247)"
            ],
            [
             0.6,
             "rgb(209,229,240)"
            ],
            [
             0.7,
             "rgb(146,197,222)"
            ],
            [
             0.8,
             "rgb(67,147,195)"
            ],
            [
             0.9,
             "rgb(33,102,172)"
            ],
            [
             1,
             "rgb(5,48,97)"
            ]
           ],
           "sequential": [
            [
             0,
             "#440154"
            ],
            [
             0.1111111111111111,
             "#482878"
            ],
            [
             0.2222222222222222,
             "#3e4989"
            ],
            [
             0.3333333333333333,
             "#31688e"
            ],
            [
             0.4444444444444444,
             "#26828e"
            ],
            [
             0.5555555555555556,
             "#1f9e89"
            ],
            [
             0.6666666666666666,
             "#35b779"
            ],
            [
             0.7777777777777778,
             "#6ece58"
            ],
            [
             0.8888888888888888,
             "#b5de2b"
            ],
            [
             1,
             "#fde725"
            ]
           ],
           "sequentialminus": [
            [
             0,
             "#440154"
            ],
            [
             0.1111111111111111,
             "#482878"
            ],
            [
             0.2222222222222222,
             "#3e4989"
            ],
            [
             0.3333333333333333,
             "#31688e"
            ],
            [
             0.4444444444444444,
             "#26828e"
            ],
            [
             0.5555555555555556,
             "#1f9e89"
            ],
            [
             0.6666666666666666,
             "#35b779"
            ],
            [
             0.7777777777777778,
             "#6ece58"
            ],
            [
             0.8888888888888888,
             "#b5de2b"
            ],
            [
             1,
             "#fde725"
            ]
           ]
          },
          "colorway": [
           "#1F77B4",
           "#FF7F0E",
           "#2CA02C",
           "#D62728",
           "#9467BD",
           "#8C564B",
           "#E377C2",
           "#7F7F7F",
           "#BCBD22",
           "#17BECF"
          ],
          "font": {
           "color": "rgb(36,36,36)"
          },
          "geo": {
           "bgcolor": "white",
           "lakecolor": "white",
           "landcolor": "white",
           "showlakes": true,
           "showland": true,
           "subunitcolor": "white"
          },
          "hoverlabel": {
           "align": "left"
          },
          "hovermode": "closest",
          "mapbox": {
           "style": "light"
          },
          "paper_bgcolor": "white",
          "plot_bgcolor": "white",
          "polar": {
           "angularaxis": {
            "gridcolor": "rgb(232,232,232)",
            "linecolor": "rgb(36,36,36)",
            "showgrid": false,
            "showline": true,
            "ticks": "outside"
           },
           "bgcolor": "white",
           "radialaxis": {
            "gridcolor": "rgb(232,232,232)",
            "linecolor": "rgb(36,36,36)",
            "showgrid": false,
            "showline": true,
            "ticks": "outside"
           }
          },
          "scene": {
           "xaxis": {
            "backgroundcolor": "white",
            "gridcolor": "rgb(232,232,232)",
            "gridwidth": 2,
            "linecolor": "rgb(36,36,36)",
            "showbackground": true,
            "showgrid": false,
            "showline": true,
            "ticks": "outside",
            "zeroline": false,
            "zerolinecolor": "rgb(36,36,36)"
           },
           "yaxis": {
            "backgroundcolor": "white",
            "gridcolor": "rgb(232,232,232)",
            "gridwidth": 2,
            "linecolor": "rgb(36,36,36)",
            "showbackground": true,
            "showgrid": false,
            "showline": true,
            "ticks": "outside",
            "zeroline": false,
            "zerolinecolor": "rgb(36,36,36)"
           },
           "zaxis": {
            "backgroundcolor": "white",
            "gridcolor": "rgb(232,232,232)",
            "gridwidth": 2,
            "linecolor": "rgb(36,36,36)",
            "showbackground": true,
            "showgrid": false,
            "showline": true,
            "ticks": "outside",
            "zeroline": false,
            "zerolinecolor": "rgb(36,36,36)"
           }
          },
          "shapedefaults": {
           "fillcolor": "black",
           "line": {
            "width": 0
           },
           "opacity": 0.3
          },
          "ternary": {
           "aaxis": {
            "gridcolor": "rgb(232,232,232)",
            "linecolor": "rgb(36,36,36)",
            "showgrid": false,
            "showline": true,
            "ticks": "outside"
           },
           "baxis": {
            "gridcolor": "rgb(232,232,232)",
            "linecolor": "rgb(36,36,36)",
            "showgrid": false,
            "showline": true,
            "ticks": "outside"
           },
           "bgcolor": "white",
           "caxis": {
            "gridcolor": "rgb(232,232,232)",
            "linecolor": "rgb(36,36,36)",
            "showgrid": false,
            "showline": true,
            "ticks": "outside"
           }
          },
          "title": {
           "x": 0.05
          },
          "xaxis": {
           "automargin": true,
           "gridcolor": "rgb(232,232,232)",
           "linecolor": "rgb(36,36,36)",
           "showgrid": false,
           "showline": true,
           "ticks": "outside",
           "title": {
            "standoff": 15
           },
           "zeroline": false,
           "zerolinecolor": "rgb(36,36,36)"
          },
          "yaxis": {
           "automargin": true,
           "gridcolor": "rgb(232,232,232)",
           "linecolor": "rgb(36,36,36)",
           "showgrid": false,
           "showline": true,
           "ticks": "outside",
           "title": {
            "standoff": 15
           },
           "zeroline": false,
           "zerolinecolor": "rgb(36,36,36)"
          }
         }
        },
        "title": {
         "text": "2D PCoA"
        },
        "width": 1000,
        "xaxis": {
         "anchor": "y",
         "domain": [
          0,
          1
         ],
         "title": {
          "text": "PC1 (58.4 %)"
         }
        },
        "yaxis": {
         "anchor": "x",
         "domain": [
          0,
          1
         ],
         "title": {
          "text": "PC2 (14.9 %)"
         }
        }
       }
      }
     },
     "metadata": {},
     "output_type": "display_data"
    }
   ],
   "source": [
    "\n",
    "memo.visualization.plot_pcoa_2d(\n",
    "    matrix= memo_qe.memo_matrix,\n",
    "    df_metadata=df_meta,\n",
    "    metric= 'braycurtis',\n",
    "    filename_col = 'Filename',\n",
    "    group_col='contains',\n",
    "    norm = False,\n",
    "    scaling= False,\n",
    "    pc_to_plot = [1,2]\n",
    ")"
   ]
  },
  {
   "cell_type": "code",
   "execution_count": 21,
   "metadata": {},
   "outputs": [
    {
     "data": {
      "application/vnd.plotly.v1+json": {
       "config": {
        "plotlyServerURL": "https://plot.ly"
       },
       "data": [
        {
         "hovertemplate": "<b>%{hovertext}</b><br><br>contains=Plasma<br>PC1 (58.4 %)=%{x}<br>PC2 (14.9 %)=%{y}<br>PC3 (13.0 %)=%{z}<extra></extra>",
         "hovertext": [
          "QEC18_NIST_20181227102029.mzML",
          "QEC18_NIST_20181227182328.mzML",
          "QEC18_NIST.mzML",
          "QEC18RT_NIST_20181228191835.mzML",
          "QEC18RT_NIST_20181229031403.mzML",
          "QEC18RT_NIST.mzML"
         ],
         "legendgroup": "Plasma",
         "marker": {
          "color": "#1F77B4",
          "symbol": "circle"
         },
         "mode": "markers",
         "name": "Plasma",
         "scene": "scene",
         "showlegend": true,
         "type": "scatter3d",
         "x": [
          -0.1344438444557192,
          -0.14112582028637652,
          -0.12207712697439504,
          -0.12805103859244213,
          -0.12695485434936216,
          -0.11755735136925202
         ],
         "y": [
          -0.061121013963013934,
          -0.059837776835512876,
          -0.07121243642676205,
          -0.04685358010170582,
          -0.0416460284666637,
          -0.05148615201563484
         ],
         "z": [
          -0.013464493768823183,
          -0.01571659491464112,
          -0.010482614282532528,
          0.04743288095508382,
          0.04944243366808591,
          0.04669053977874896
         ]
        },
        {
         "hovertemplate": "<b>%{hovertext}</b><br><br>contains=Tomato<br>PC1 (58.4 %)=%{x}<br>PC2 (14.9 %)=%{y}<br>PC3 (13.0 %)=%{z}<extra></extra>",
         "hovertext": [
          "QEC18_To_20181227204313.mzML",
          "QEC18_To_20181227231513.mzML",
          "QEC18_To.mzML",
          "QEC18RT_To_20181229050805.mzML",
          "QEC18RT_To_20181229074015.mzML",
          "QEC18RT_To.mzML"
         ],
         "legendgroup": "Tomato",
         "marker": {
          "color": "#FF7F0E",
          "symbol": "circle"
         },
         "mode": "markers",
         "name": "Tomato",
         "scene": "scene",
         "showlegend": true,
         "type": "scatter3d",
         "x": [
          -0.12051375127783162,
          -0.1006803287373018,
          -0.11321026276424086,
          -0.08669610564166559,
          -0.08778307616403555,
          -0.08432369390780205
         ],
         "y": [
          0.03309441966314135,
          0.03097223732373301,
          0.03459797767546699,
          0.034627841273837015,
          0.03466827573170998,
          0.0369194996409128
         ],
         "z": [
          -0.034087323410317,
          -0.02694371980389874,
          -0.027551099608765162,
          0.027974423480913398,
          0.027583830360648005,
          0.02654802659519242
         ]
        },
        {
         "hovertemplate": "<b>%{hovertext}</b><br><br>contains=Tomato + Plasma<br>PC1 (58.4 %)=%{x}<br>PC2 (14.9 %)=%{y}<br>PC3 (13.0 %)=%{z}<extra></extra>",
         "hovertext": [
          "QEC18_To-1_NIST-3_20181227172525.mzML",
          "QEC18_To-1_NIST-3_20181227214013.mzML",
          "QEC18_To-1_NIST-3.mzML",
          "QEC18_To-1_NIST-1_20181227111754.mzML",
          "QEC18_To-1_NIST-1_20181228010915.mzML",
          "QEC18_To-1_NIST-1.mzML",
          "QEC18_To-3_NIST-1_20181227074824.mzML",
          "QEC18_To-3_NIST-1_20181227160801.mzML",
          "QEC18_To-3_NIST-1.mzML",
          "QEC18RT_To-1_NIST-3_20181229021701.mzML",
          "QEC18RT_To-1_NIST-3_20181229060507.mzML",
          "QEC18RT_To-1_NIST-3.mzML",
          "QEC18RT_To-1_NIST-1_20181228201537.mzML",
          "QEC18RT_To-1_NIST-1_20181229093419.mzML",
          "QEC18RT_To-1_NIST-1.mzML",
          "QEC18RT_To-3_NIST-1_20181228162117.mzML",
          "QEC18RT_To-3_NIST-1_20181229010055.mzML",
          "QEC18RT_To-3_NIST-1.mzML"
         ],
         "legendgroup": "Tomato + Plasma",
         "marker": {
          "color": "#2CA02C",
          "symbol": "circle"
         },
         "mode": "markers",
         "name": "Tomato + Plasma",
         "scene": "scene",
         "showlegend": true,
         "type": "scatter3d",
         "x": [
          -0.08053190220278711,
          -0.10037730606699106,
          -0.08415413307633714,
          -0.10547799146636844,
          -0.10557777546162092,
          -0.1332148571269278,
          -0.1041476550353853,
          -0.12196112254772518,
          -0.0895209820991762,
          -0.0697736493697269,
          -0.07355192036287117,
          -0.07524481838987396,
          -0.09789988761463497,
          -0.08419434985424214,
          -0.10172187878663004,
          -0.08622098210317186,
          -0.09863740829335607,
          -0.08498619324365378
         ],
         "y": [
          0.02099210062048224,
          0.021802986270035445,
          0.0224992772698216,
          0.03167364801208487,
          0.026084746015816573,
          0.03279480812465636,
          0.030435405074325284,
          0.03244729182198004,
          0.028851039228003562,
          0.026931985061756796,
          0.028421915874805404,
          0.028337313957389827,
          0.033962615157851594,
          0.030969060413453535,
          0.03534065005344564,
          0.03597572859080079,
          0.03856326439860907,
          0.030680790486962265
         ],
         "z": [
          -0.027537185832016232,
          -0.02924862967062794,
          -0.02600725808287446,
          -0.031472721726613966,
          -0.030316135238704897,
          -0.036340894564139914,
          -0.03007945177692635,
          -0.03342922823242895,
          -0.027097385308547082,
          0.0309869699874132,
          0.03215520861569933,
          0.03108387494828081,
          0.03170433108755747,
          0.032164845881801955,
          0.034225299598026296,
          0.028624732784420882,
          0.03298509534712632,
          0.030756381014069852
         ]
        },
        {
         "hovertemplate": "<b>%{hovertext}</b><br><br>contains=Fecal_2<br>PC1 (58.4 %)=%{x}<br>PC2 (14.9 %)=%{y}<br>PC3 (13.0 %)=%{z}<extra></extra>",
         "hovertext": [
          "QEC18_F2_20181227121553.mzML",
          "QEC18_F2_20181228001213.mzML",
          "QEC18_F2.mzML",
          "QEC18RT_F2_20181228211241.mzML",
          "QEC18RT_F2_20181229083715.mzML",
          "QEC18RT_F2.mzML"
         ],
         "legendgroup": "Fecal_2",
         "marker": {
          "color": "#D62728",
          "symbol": "circle"
         },
         "mode": "markers",
         "name": "Fecal_2",
         "scene": "scene",
         "showlegend": true,
         "type": "scatter3d",
         "x": [
          -0.011375202139796049,
          -0.019914043267400507,
          -0.01475299205737475,
          0.0013340541497665719,
          -0.0036616183328295362,
          -0.006739366358035156
         ],
         "y": [
          -0.02870350903730297,
          -0.029798041331356082,
          -0.027194335889114088,
          -0.019279727965714002,
          -0.02115900185151542,
          -0.021572923409456476
         ],
         "z": [
          -0.01365316725150859,
          -0.014795839071859572,
          -0.01395441059069349,
          0.022358936782965178,
          0.02287351362507045,
          0.02386000517043185
         ]
        },
        {
         "hovertemplate": "<b>%{hovertext}</b><br><br>contains=Fecal_2 + Plasma<br>PC1 (58.4 %)=%{x}<br>PC2 (14.9 %)=%{y}<br>PC3 (13.0 %)=%{z}<extra></extra>",
         "hovertext": [
          "QEC18_F2-1_NIST-3_20181227103932.mzML",
          "QEC18_F2-1_NIST-3_20181227145038.mzML",
          "QEC18_F2-1_NIST-3.mzML",
          "QEC18_F2-1_NIST-1_20181227212113.mzML",
          "QEC18_F2-1_NIST-1_20181227233413.mzML",
          "QEC18_F2-1_NIST-1.mzML",
          "QEC18_F2-3_NIST-1_20181227162723.mzML",
          "QEC18_F2-3_NIST-1_20181228005015.mzML",
          "QEC18_F2-3_NIST-1.mzML",
          "QEC18RT_F2-1_NIST-3_20181228193737.mzML",
          "QEC18RT_F2-1_NIST-3_20181228234449.mzML",
          "QEC18RT_F2-1_NIST-3.mzML",
          "QEC18RT_F2-1_NIST-1_20181229054607.mzML",
          "QEC18RT_F2-1_NIST-1_20181229075915.mzML",
          "QEC18RT_F2-1_NIST-1.mzML",
          "QEC18RT_F2-3_NIST-1_20181229011957.mzML",
          "QEC18RT_F2-3_NIST-1_20181229091519.mzML",
          "QEC18RT_F2-3_NIST-1.mzML"
         ],
         "legendgroup": "Fecal_2 + Plasma",
         "marker": {
          "color": "#9467BD",
          "symbol": "circle"
         },
         "mode": "markers",
         "name": "Fecal_2 + Plasma",
         "scene": "scene",
         "showlegend": true,
         "type": "scatter3d",
         "x": [
          -0.022089011461683995,
          -0.019779377673557103,
          -0.05467731027312188,
          -0.016458272160996476,
          -0.01817001235218993,
          -0.009656874596560491,
          -0.018547198654195258,
          -0.011755569716169598,
          -0.008145006413220449,
          -0.015539612900950846,
          -0.004419961781330487,
          -0.010964442426809645,
          -0.0023481161955387696,
          -0.0006500309542824896,
          0.003588109242788305,
          -0.0023622288964446,
          0.004371186904479251,
          -0.0036799451350476233
         ],
         "y": [
          -0.030631999086665373,
          -0.033177043930914946,
          -0.031307126898562576,
          -0.030512502370683266,
          -0.026280495043637102,
          -0.024160450202848006,
          -0.028847438979486873,
          -0.02748661489016647,
          -0.030202635752931542,
          -0.021241803995951887,
          -0.021663493751101513,
          -0.018907653094984295,
          -0.017478013160363935,
          -0.014242855896841544,
          -0.01402338852812673,
          -0.016192325748971087,
          -0.01701327920456682,
          -0.02132112079673788
         ],
         "z": [
          -0.014281846732667193,
          -0.01536792017395587,
          -0.016061537444573202,
          -0.016118962151913264,
          -0.016504551006093608,
          -0.01566808469818609,
          -0.014862080700708675,
          -0.014520715603428354,
          -0.013055867322398974,
          0.026093425879645762,
          0.02585119737725203,
          0.026197868661876986,
          0.02584167903408531,
          0.024826084825879495,
          0.02393355209131079,
          0.024013796233844968,
          0.021406238842322095,
          0.022475112685605713
         ]
        },
        {
         "hovertemplate": "<b>%{hovertext}</b><br><br>contains=Fecal_2 + Tomato<br>PC1 (58.4 %)=%{x}<br>PC2 (14.9 %)=%{y}<br>PC3 (13.0 %)=%{z}<extra></extra>",
         "hovertext": [
          "QEC18_F2-1_To-3_20181226223728.mzML",
          "QEC18_F2-1_To-3_20181227041925.mzML",
          "QEC18_F2-1_To-3.mzML",
          "QEC18_F2-1_To-1_20181227150959.mzML",
          "QEC18_F2-1_To-1_20181228014719.mzML",
          "QEC18_F2-1_To-1.mzML",
          "QEC18_F2-3_To-1_20181227082626.mzML",
          "QEC18_F2-3_To-1_20181227164643.mzML",
          "QEC18_F2-3_To-1.mzML",
          "QEC18RT_F2-1_To-3_20181228071021.mzML",
          "QEC18RT_F2-1_To-3_20181228125213.mzML",
          "QEC18RT_F2-1_To-3.mzML",
          "QEC18RT_F2-1_To-1_20181229000349.mzML",
          "QEC18RT_F2-1_To-1_20181229101223.mzML",
          "QEC18RT_F2-1_To-1.mzML",
          "QEC18RT_F2-3_To-1_20181228165919.mzML",
          "QEC18RT_F2-3_To-1_20181229013857.mzML",
          "QEC18RT_F2-3_To-1.mzML"
         ],
         "legendgroup": "Fecal_2 + Tomato",
         "marker": {
          "color": "#8C564B",
          "symbol": "circle"
         },
         "mode": "markers",
         "name": "Fecal_2 + Tomato",
         "scene": "scene",
         "showlegend": true,
         "type": "scatter3d",
         "x": [
          -0.009015449122128623,
          0.006465558693861271,
          -0.009638681125640711,
          0.002869459772684753,
          0.005341812279255413,
          0.004778687751119141,
          0.01192269404885437,
          0.0052143800784919345,
          0.0022790402563631087,
          0.008008587040183682,
          0.008768165128099862,
          0.0066121631674174244,
          0.015714513311761418,
          0.018063699614244904,
          0.014833976303248867,
          0.01897744858987534,
          0.016244071779147447,
          0.014496634332365265
         ],
         "y": [
          0.019216133080337972,
          0.021866860436299818,
          0.01917144172853923,
          0.015115857508772706,
          0.017852779303918716,
          0.017051830755397866,
          0.013374426257146127,
          0.011750592074517029,
          0.008472379649585839,
          0.02560293409113149,
          0.026958039293662393,
          0.02499865724310095,
          0.023595012406604457,
          0.024514170154096168,
          0.026290718731934816,
          0.023640819671412083,
          0.022474035740630074,
          0.019397187113128357
         ],
         "z": [
          -0.025596622413333575,
          -0.02512661021283227,
          -0.027999649978313394,
          -0.023783575525568694,
          -0.024062106190255287,
          -0.023546817245624133,
          -0.02250280916140188,
          -0.02148173063933943,
          -0.02275229595159326,
          0.018791276837407167,
          0.01880117771945426,
          0.01936724515121711,
          0.018792611343582864,
          0.017168057106547643,
          0.016850210924961424,
          0.01758511850166563,
          0.018939465997739758,
          0.019662022588164307
         ]
        },
        {
         "hovertemplate": "<b>%{hovertext}</b><br><br>contains=Fecal_1<br>PC1 (58.4 %)=%{x}<br>PC2 (14.9 %)=%{y}<br>PC3 (13.0 %)=%{z}<extra></extra>",
         "hovertext": [
          "QEC18_F1_20181227030329.mzML",
          "QEC18_F1_20181228032223.mzML",
          "QEC18_F1.mzML",
          "QEC18RT_F1_20181228113615.mzML",
          "QEC18RT_F1_20181229114729.mzML",
          "QEC18RT_F1.mzML"
         ],
         "legendgroup": "Fecal_1",
         "marker": {
          "color": "#E377C2",
          "symbol": "circle"
         },
         "mode": "markers",
         "name": "Fecal_1",
         "scene": "scene",
         "showlegend": true,
         "type": "scatter3d",
         "x": [
          0.016741184893292318,
          0.015607008184881421,
          0.015297414763521805,
          0.0262035604447366,
          0.0313200054763324,
          0.029405210028001078
         ],
         "y": [
          -0.03343640645521207,
          -0.03545958690608757,
          -0.03373988237380099,
          -0.024041923133828937,
          -0.023672126661515098,
          -0.02183544504143764
         ],
         "z": [
          -0.016585184514507207,
          -0.0164950004050267,
          -0.017848964853997628,
          0.02086001438427356,
          0.019527220306958123,
          0.02125146679211885
         ]
        },
        {
         "hovertemplate": "<b>%{hovertext}</b><br><br>contains=Fecal_1 + Fecal_2 + Tomato + Plasma<br>PC1 (58.4 %)=%{x}<br>PC2 (14.9 %)=%{y}<br>PC3 (13.0 %)=%{z}<extra></extra>",
         "hovertext": [
          "QEC18_F1-1_F2-1_NIST-2_To-1_20181227152919.mzML",
          "QEC18_F1-1_F2-1_NIST-2_To-1_20181227225613.mzML",
          "QEC18_F1-1_F2-1_NIST-2_To-1.mzML",
          "QEC18_F1-1_F2-1_NIST-1_To-2_20181227113714.mzML",
          "QEC18_F1-1_F2-1_NIST-1_To-2_20181227184249.mzML",
          "QEC18_F1-1_F2-1_NIST-1_To-2.mzML",
          "QEC18_F1-1_F2-2_NIST-1_To-1_20181227065123.mzML",
          "QEC18_F1-1_F2-2_NIST-1_To-1_20181228034123.mzML",
          "QEC18_F1-1_F2-2_NIST-1_To-1.mzML",
          "QEC18_Qcmix_begin.mzML",
          "QEC18_Qcmix_middle.mzML",
          "QEC18_Qcmix_end.mzML",
          "QEC18_Qcmix_end_20181228041923.mzML",
          "QEC18RT_Qcmix_begin.mzML",
          "QEC18RT_Qcmix_middle.mzML",
          "QEC18RT_Qcmix_end.mzML",
          "QEC18_F1-1_F2-1_NIST-1_To-1_20181227125436.mzML",
          "QEC18_F1-1_F2-1_NIST-1_To-1_20181227135238.mzML",
          "QEC18_F1-1_F2-1_NIST-1_To-1.mzML",
          "QEC18_F1-2_F2-1_NIST-1_To-1_20181228020619.mzML",
          "QEC18_F1-2_F2-1_NIST-1_To-1_20181228022521.mzML",
          "QEC18_F1-2_F2-1_NIST-1_To-1.mzML",
          "QEC18RT_F1-1_F2-1_NIST-2_To-1_20181229002251.mzML",
          "QEC18RT_F1-1_F2-1_NIST-2_To-1_20181229072113.mzML",
          "QEC18RT_F1-1_F2-1_NIST-2_To-1.mzML",
          "QEC18RT_F1-1_F2-1_NIST-1_To-2_20181228203439.mzML",
          "QEC18RT_F1-1_F2-1_NIST-1_To-2_20181229033303.mzML",
          "QEC18RT_F1-1_F2-1_NIST-1_To-2.mzML",
          "QEC18RT_F1-1_F2-2_NIST-1_To-1_20181228152413.mzML",
          "QEC18RT_F1-1_F2-2_NIST-1_To-1_20181229120629.mzML",
          "QEC18RT_F1-1_F2-2_NIST-1_To-1.mzML",
          "QEC18RT_F1-1_F2-1_NIST-1_To-1_20181228215043.mzML",
          "QEC18RT_F1-1_F2-1_NIST-1_To-1_20181228224749.mzML",
          "QEC18RT_F1-1_F2-1_NIST-1_To-1.mzML",
          "QEC18RT_F1-2_F2-1_NIST-1_To-1_20181229103125.mzML",
          "QEC18RT_F1-2_F2-1_NIST-1_To-1_20181229105027.mzML",
          "QEC18RT_F1-2_F2-1_NIST-1_To-1.mzML"
         ],
         "legendgroup": "Fecal_1 + Fecal_2 + Tomato + Plasma",
         "marker": {
          "color": "#7F7F7F",
          "symbol": "circle"
         },
         "mode": "markers",
         "name": "Fecal_1 + Fecal_2 + Tomato + Plasma",
         "scene": "scene",
         "showlegend": true,
         "type": "scatter3d",
         "x": [
          0.036653909839701834,
          0.037736087760887514,
          0.042499421909667844,
          0.038724571068654935,
          0.038568264959102594,
          0.03858381722656699,
          0.04193027051912555,
          0.03913138098109621,
          0.039591575760036614,
          0.03117076115421537,
          0.04370958265951017,
          0.041782519264003185,
          0.04170000053479999,
          0.02925894619782052,
          0.04877453745174413,
          0.04664333007237536,
          0.041559327291565126,
          0.043535649150420526,
          0.04172794510628411,
          0.03615674578637401,
          0.04194240444551043,
          0.03636606154148597,
          0.04620182327116292,
          0.04396005417435466,
          0.04867526942320435,
          0.05111564734272827,
          0.04474312976970478,
          0.0488606986865846,
          0.05160653516101082,
          0.046774210597849634,
          0.04522874542663161,
          0.050158872918078995,
          0.047375985616665,
          0.045130667449952276,
          0.048576089245629867,
          0.049817512108980166,
          0.05036570038302781
         ],
         "y": [
          0.011318947714025807,
          0.012336843582303431,
          0.015618472327989432,
          0.016951946963610905,
          0.015697239933528246,
          0.017234622291253488,
          0.012894954889018623,
          0.012056543597447416,
          0.012211681805102521,
          0.009126240156928731,
          0.016517502310029155,
          0.014501040844108245,
          0.016077261917909445,
          0.014150336890028902,
          0.021913408981017235,
          0.020884203951394578,
          0.01320729417519603,
          0.015476231842006015,
          0.014987127784454317,
          0.010330283734112516,
          0.013230164947302172,
          0.011161038036665342,
          0.020940113850324033,
          0.020271852289540815,
          0.022206617654452074,
          0.022690889518689663,
          0.021011315811082905,
          0.023517713414427096,
          0.021858056198343315,
          0.01883035565281422,
          0.019187810678177368,
          0.02150552741675932,
          0.021006921174294244,
          0.019284935720988272,
          0.01999886907675563,
          0.020409950110802797,
          0.021202806230076008
         ],
         "z": [
          -0.029137574154320132,
          -0.03089749827392397,
          -0.030440247673440286,
          -0.02923537136059973,
          -0.029374989698388802,
          -0.0296273472759002,
          -0.02672650036811755,
          -0.02943467189889761,
          -0.030188058621577075,
          -0.027415298575763684,
          -0.029913188953991345,
          -0.030658761132641148,
          -0.029464939202478047,
          0.022893636021797347,
          0.021854942138064663,
          0.021090473415831427,
          -0.02903391314261735,
          -0.03057904539101441,
          -0.03004012189892763,
          -0.027725144295972545,
          -0.028724508826788425,
          -0.027984903703736227,
          0.02113772261026253,
          0.021978172016214166,
          0.021153757294348277,
          0.02036567131823055,
          0.02207073064365173,
          0.020410834738285588,
          0.020520133463744334,
          0.02027402682493129,
          0.021446469190253534,
          0.021408735854051748,
          0.020863044914214982,
          0.022035086919171255,
          0.020507910903045354,
          0.020431695843196235,
          0.020686400010654585
         ]
        },
        {
         "hovertemplate": "<b>%{hovertext}</b><br><br>contains=Fecal_1 + Plasma<br>PC1 (58.4 %)=%{x}<br>PC2 (14.9 %)=%{y}<br>PC3 (13.0 %)=%{z}<extra></extra>",
         "hovertext": [
          "QEC18_F1-1_NIST-3_20181227133316.mzML",
          "QEC18_F1-1_NIST-3_20181228012817.mzML",
          "QEC18_F1-1_NIST-3.mzML",
          "QEC18_F1-1_NIST-1_20181227210213.mzML",
          "QEC18_F1-1_NIST-1_20181227215913.mzML",
          "QEC18_F1-1_NIST-1.mzML",
          "QEC18_F1-3_NIST-1_20181227045725.mzML",
          "QEC18_F1-3_NIST-1_20181227170603.mzML",
          "QEC18_F1-3_NIST-1.mzML",
          "QEC18RT_F1-1_NIST-3_20181228222847.mzML",
          "QEC18RT_F1-1_NIST-3_20181229095321.mzML",
          "QEC18RT_F1-1_NIST-3.mzML",
          "QEC18RT_F1-1_NIST-1_20181229052705.mzML",
          "QEC18RT_F1-1_NIST-1_20181229062407.mzML",
          "QEC18RT_F1-1_NIST-1.mzML",
          "QEC18RT_F1-3_NIST-1_20181228133015.mzML",
          "QEC18RT_F1-3_NIST-1_20181229015759.mzML",
          "QEC18RT_F1-3_NIST-1.mzML"
         ],
         "legendgroup": "Fecal_1 + Plasma",
         "marker": {
          "color": "#BCBD22",
          "symbol": "circle"
         },
         "mode": "markers",
         "name": "Fecal_1 + Plasma",
         "scene": "scene",
         "showlegend": true,
         "type": "scatter3d",
         "x": [
          -0.00000706677867207765,
          0.006236415607837545,
          -0.0033405893376011126,
          0.011130774161126825,
          0.009287375378016147,
          0.008300203307838821,
          0.023072662371570494,
          0.017531568721440797,
          0.016292796860460607,
          0.021431430905796803,
          0.026064916889390815,
          0.018997534673200957,
          0.02524260061374768,
          0.024283326633319318,
          0.021813676628048798,
          0.030053580172582372,
          0.026625338964787096,
          0.027802207125606004
         ],
         "y": [
          -0.037551283437762234,
          -0.032898367613014276,
          -0.04179876422794688,
          -0.032230544773340905,
          -0.035489941271553534,
          -0.03666268370838938,
          -0.03127955299607595,
          -0.03333202738769293,
          -0.0349766428539156,
          -0.025319331241906565,
          -0.021893452027797557,
          -0.025403368379144975,
          -0.0222499645164704,
          -0.022262218265462076,
          -0.025304112428299292,
          -0.0210577012235331,
          -0.0244552909886849,
          -0.02349089347640511
         ],
         "z": [
          -0.020406097942280977,
          -0.018864069159735306,
          -0.019964087170497465,
          -0.019855653519952166,
          -0.01943173632683872,
          -0.020092002617337113,
          -0.018524452511625718,
          -0.017955887488284885,
          -0.020015207942047097,
          0.024564770630651284,
          0.024427848526593465,
          0.025338534838482397,
          0.02477519401364609,
          0.024617805182533984,
          0.022991549471288616,
          0.021772242291425607,
          0.023746878218870504,
          0.022602795725774626
         ]
        },
        {
         "hovertemplate": "<b>%{hovertext}</b><br><br>contains=Fecal_1 + Tomato<br>PC1 (58.4 %)=%{x}<br>PC2 (14.9 %)=%{y}<br>PC3 (13.0 %)=%{z}<extra></extra>",
         "hovertext": [
          "QEC18_F1-1_To-3_20181227174446.mzML",
          "QEC18_F1-1_To-3_20181227223713.mzML",
          "QEC18_F1-1_To-3.mzML",
          "QEC18_F1-1_To-1_20181227043825.mzML",
          "QEC18_F1-1_To-1_20181227123513.mzML",
          "QEC18_F1-1_To-1.mzML",
          "QEC18_F1-3_To-1_20181228003115.mzML",
          "QEC18_F1-3_To-1_20181228024423.mzML",
          "QEC18_F1-3_To-1.mzML",
          "QEC18RT_F1-1_To-3_20181229023601.mzML",
          "QEC18RT_F1-1_To-3_20181229070211.mzML",
          "QEC18RT_F1-1_To-3.mzML",
          "QEC18RT_F1-1_To-1_20181228131115.mzML",
          "QEC18RT_F1-1_To-1_20181228213143.mzML",
          "QEC18RT_F1-1_To-1.mzML",
          "QEC18RT_F1-3_To-1_20181229085617.mzML",
          "QEC18RT_F1-3_To-1_20181229110929.mzML",
          "QEC18RT_F1-3_To-1.mzML"
         ],
         "legendgroup": "Fecal_1 + Tomato",
         "marker": {
          "color": "#17BECF",
          "symbol": "circle"
         },
         "mode": "markers",
         "name": "Fecal_1 + Tomato",
         "scene": "scene",
         "showlegend": true,
         "type": "scatter3d",
         "x": [
          0.030002635474745593,
          0.03290814029644617,
          0.019875933151137722,
          0.03695431994255233,
          0.03383794641574882,
          0.03851547740497872,
          0.03837077700233177,
          0.03725038521311989,
          0.04071138587642295,
          0.03799617151674466,
          0.03780903024013791,
          0.042112389139652394,
          0.04222869931298922,
          0.045564303013302256,
          0.03777588929070676,
          0.0460247518398779,
          0.043716922652075135,
          0.04363452187393135
         ],
         "y": [
          0.018366332042291218,
          0.01810193997440574,
          0.005906717979788757,
          0.017255046580853424,
          0.01535379218944161,
          0.017995337524291534,
          0.01145693890903852,
          0.013407573173586648,
          0.01420962266667227,
          0.023047207183445835,
          0.023267459324968612,
          0.0231862083617566,
          0.021873335921921054,
          0.02149879919177807,
          0.020329657678105705,
          0.01901244281724611,
          0.01694831798400994,
          0.02001748385224417
         ],
         "z": [
          -0.030137682068665093,
          -0.029940332792586996,
          -0.024488257436386576,
          -0.028870362473547084,
          -0.027648667249505914,
          -0.029866752019989406,
          -0.027512907680878045,
          -0.02811313043398644,
          -0.02723367149289436,
          0.020314487659129205,
          0.019730749410994414,
          0.018800555431981898,
          0.018690642914658134,
          0.01862033518844694,
          0.018881254569727852,
          0.01926707227085164,
          0.019669112343103555,
          0.01869161877673284
         ]
        },
        {
         "hovertemplate": "<b>%{hovertext}</b><br><br>contains=Fecal_1 + Fecal_2<br>PC1 (58.4 %)=%{x}<br>PC2 (14.9 %)=%{y}<br>PC3 (13.0 %)=%{z}<extra></extra>",
         "hovertext": [
          "QEC18_F1-1_F2-3_20181227012831.mzML",
          "QEC18_F1-1_F2-3_20181227071023.mzML",
          "QEC18_F1-1_F2-3.mzML",
          "QEC18_F1-1_F2-1_20181227084526.mzML",
          "QEC18_F1-1_F2-1_20181227143118.mzML",
          "QEC18_F1-1_F2-1.mzML",
          "QEC18_F1-3_F2-1_20181227131356.mzML",
          "QEC18_F1-3_F2-1_20181227190209.mzML",
          "QEC18_F1-3_F2-1.mzML",
          "QEC18RT_F1-1_F2-3_20181228100117.mzML",
          "QEC18RT_F1-1_F2-3_20181228154315.mzML",
          "QEC18RT_F1-1_F2-3.mzML",
          "QEC18RT_F1-1_F2-1_20181228171821.mzML",
          "QEC18RT_F1-1_F2-1_20181228232549.mzML",
          "QEC18RT_F1-1_F2-1.mzML",
          "QEC18RT_F1-3_F2-1_20181228220945.mzML",
          "QEC18RT_F1-3_F2-1_20181229035205.mzML",
          "QEC18RT_F1-3_F2-1.mzML"
         ],
         "legendgroup": "Fecal_1 + Fecal_2",
         "marker": {
          "color": "#1F77B4",
          "symbol": "circle"
         },
         "mode": "markers",
         "name": "Fecal_1 + Fecal_2",
         "scene": "scene",
         "showlegend": true,
         "type": "scatter3d",
         "x": [
          0.022852416419463645,
          0.02487547716851443,
          0.019759175594781582,
          0.021953596211875755,
          0.014832494805483792,
          0.008878293333788891,
          0.022875364654818816,
          0.019554669290375613,
          0.023410133064060378,
          0.03277833183950784,
          0.0332329072768548,
          0.029121033794555835,
          0.030568099228452654,
          0.029650815964813504,
          0.030201240772282714,
          0.034854526031945054,
          0.030926860337406666,
          0.027721844781539412
         ],
         "y": [
          -0.024351796800271743,
          -0.02611601238243219,
          -0.030321244719470068,
          -0.030099253000011324,
          -0.03172513083479201,
          -0.03763124407624474,
          -0.02940669888373662,
          -0.03149909697574298,
          -0.0294412966750527,
          -0.016016006267471686,
          -0.018021975045211112,
          -0.019397504015975984,
          -0.0197394137384999,
          -0.021399224525933323,
          -0.02200216090919686,
          -0.020830643907029822,
          -0.021478879886029686,
          -0.022156227150427567
         ],
         "z": [
          -0.018747098651542195,
          -0.017771510611918718,
          -0.01748634157023261,
          -0.017939037284440938,
          -0.01818931043902611,
          -0.015434639110269698,
          -0.018825598243567866,
          -0.019190515994117825,
          -0.01898786940608296,
          0.02209906189986177,
          0.021803898692960257,
          0.022692373306829723,
          0.022293214628312984,
          0.022181386862825617,
          0.0214880967853586,
          0.021552042562157484,
          0.02281392500109437,
          0.0212529858572776
         ]
        }
       ],
       "layout": {
        "height": 650,
        "legend": {
         "title": {
          "text": "contains"
         },
         "tracegroupgap": 0
        },
        "scene": {
         "domain": {
          "x": [
           0,
           1
          ],
          "y": [
           0,
           1
          ]
         },
         "xaxis": {
          "title": {
           "text": "PC1 (58.4 %)"
          }
         },
         "yaxis": {
          "title": {
           "text": "PC2 (14.9 %)"
          }
         },
         "zaxis": {
          "title": {
           "text": "PC3 (13.0 %)"
          }
         }
        },
        "template": {
         "data": {
          "bar": [
           {
            "error_x": {
             "color": "rgb(36,36,36)"
            },
            "error_y": {
             "color": "rgb(36,36,36)"
            },
            "marker": {
             "line": {
              "color": "white",
              "width": 0.5
             },
             "pattern": {
              "fillmode": "overlay",
              "size": 10,
              "solidity": 0.2
             }
            },
            "type": "bar"
           }
          ],
          "barpolar": [
           {
            "marker": {
             "line": {
              "color": "white",
              "width": 0.5
             },
             "pattern": {
              "fillmode": "overlay",
              "size": 10,
              "solidity": 0.2
             }
            },
            "type": "barpolar"
           }
          ],
          "carpet": [
           {
            "aaxis": {
             "endlinecolor": "rgb(36,36,36)",
             "gridcolor": "white",
             "linecolor": "white",
             "minorgridcolor": "white",
             "startlinecolor": "rgb(36,36,36)"
            },
            "baxis": {
             "endlinecolor": "rgb(36,36,36)",
             "gridcolor": "white",
             "linecolor": "white",
             "minorgridcolor": "white",
             "startlinecolor": "rgb(36,36,36)"
            },
            "type": "carpet"
           }
          ],
          "choropleth": [
           {
            "colorbar": {
             "outlinewidth": 1,
             "tickcolor": "rgb(36,36,36)",
             "ticks": "outside"
            },
            "type": "choropleth"
           }
          ],
          "contour": [
           {
            "colorbar": {
             "outlinewidth": 1,
             "tickcolor": "rgb(36,36,36)",
             "ticks": "outside"
            },
            "colorscale": [
             [
              0,
              "#440154"
             ],
             [
              0.1111111111111111,
              "#482878"
             ],
             [
              0.2222222222222222,
              "#3e4989"
             ],
             [
              0.3333333333333333,
              "#31688e"
             ],
             [
              0.4444444444444444,
              "#26828e"
             ],
             [
              0.5555555555555556,
              "#1f9e89"
             ],
             [
              0.6666666666666666,
              "#35b779"
             ],
             [
              0.7777777777777778,
              "#6ece58"
             ],
             [
              0.8888888888888888,
              "#b5de2b"
             ],
             [
              1,
              "#fde725"
             ]
            ],
            "type": "contour"
           }
          ],
          "contourcarpet": [
           {
            "colorbar": {
             "outlinewidth": 1,
             "tickcolor": "rgb(36,36,36)",
             "ticks": "outside"
            },
            "type": "contourcarpet"
           }
          ],
          "heatmap": [
           {
            "colorbar": {
             "outlinewidth": 1,
             "tickcolor": "rgb(36,36,36)",
             "ticks": "outside"
            },
            "colorscale": [
             [
              0,
              "#440154"
             ],
             [
              0.1111111111111111,
              "#482878"
             ],
             [
              0.2222222222222222,
              "#3e4989"
             ],
             [
              0.3333333333333333,
              "#31688e"
             ],
             [
              0.4444444444444444,
              "#26828e"
             ],
             [
              0.5555555555555556,
              "#1f9e89"
             ],
             [
              0.6666666666666666,
              "#35b779"
             ],
             [
              0.7777777777777778,
              "#6ece58"
             ],
             [
              0.8888888888888888,
              "#b5de2b"
             ],
             [
              1,
              "#fde725"
             ]
            ],
            "type": "heatmap"
           }
          ],
          "heatmapgl": [
           {
            "colorbar": {
             "outlinewidth": 1,
             "tickcolor": "rgb(36,36,36)",
             "ticks": "outside"
            },
            "colorscale": [
             [
              0,
              "#440154"
             ],
             [
              0.1111111111111111,
              "#482878"
             ],
             [
              0.2222222222222222,
              "#3e4989"
             ],
             [
              0.3333333333333333,
              "#31688e"
             ],
             [
              0.4444444444444444,
              "#26828e"
             ],
             [
              0.5555555555555556,
              "#1f9e89"
             ],
             [
              0.6666666666666666,
              "#35b779"
             ],
             [
              0.7777777777777778,
              "#6ece58"
             ],
             [
              0.8888888888888888,
              "#b5de2b"
             ],
             [
              1,
              "#fde725"
             ]
            ],
            "type": "heatmapgl"
           }
          ],
          "histogram": [
           {
            "marker": {
             "line": {
              "color": "white",
              "width": 0.6
             }
            },
            "type": "histogram"
           }
          ],
          "histogram2d": [
           {
            "colorbar": {
             "outlinewidth": 1,
             "tickcolor": "rgb(36,36,36)",
             "ticks": "outside"
            },
            "colorscale": [
             [
              0,
              "#440154"
             ],
             [
              0.1111111111111111,
              "#482878"
             ],
             [
              0.2222222222222222,
              "#3e4989"
             ],
             [
              0.3333333333333333,
              "#31688e"
             ],
             [
              0.4444444444444444,
              "#26828e"
             ],
             [
              0.5555555555555556,
              "#1f9e89"
             ],
             [
              0.6666666666666666,
              "#35b779"
             ],
             [
              0.7777777777777778,
              "#6ece58"
             ],
             [
              0.8888888888888888,
              "#b5de2b"
             ],
             [
              1,
              "#fde725"
             ]
            ],
            "type": "histogram2d"
           }
          ],
          "histogram2dcontour": [
           {
            "colorbar": {
             "outlinewidth": 1,
             "tickcolor": "rgb(36,36,36)",
             "ticks": "outside"
            },
            "colorscale": [
             [
              0,
              "#440154"
             ],
             [
              0.1111111111111111,
              "#482878"
             ],
             [
              0.2222222222222222,
              "#3e4989"
             ],
             [
              0.3333333333333333,
              "#31688e"
             ],
             [
              0.4444444444444444,
              "#26828e"
             ],
             [
              0.5555555555555556,
              "#1f9e89"
             ],
             [
              0.6666666666666666,
              "#35b779"
             ],
             [
              0.7777777777777778,
              "#6ece58"
             ],
             [
              0.8888888888888888,
              "#b5de2b"
             ],
             [
              1,
              "#fde725"
             ]
            ],
            "type": "histogram2dcontour"
           }
          ],
          "mesh3d": [
           {
            "colorbar": {
             "outlinewidth": 1,
             "tickcolor": "rgb(36,36,36)",
             "ticks": "outside"
            },
            "type": "mesh3d"
           }
          ],
          "parcoords": [
           {
            "line": {
             "colorbar": {
              "outlinewidth": 1,
              "tickcolor": "rgb(36,36,36)",
              "ticks": "outside"
             }
            },
            "type": "parcoords"
           }
          ],
          "pie": [
           {
            "automargin": true,
            "type": "pie"
           }
          ],
          "scatter": [
           {
            "marker": {
             "colorbar": {
              "outlinewidth": 1,
              "tickcolor": "rgb(36,36,36)",
              "ticks": "outside"
             }
            },
            "type": "scatter"
           }
          ],
          "scatter3d": [
           {
            "line": {
             "colorbar": {
              "outlinewidth": 1,
              "tickcolor": "rgb(36,36,36)",
              "ticks": "outside"
             }
            },
            "marker": {
             "colorbar": {
              "outlinewidth": 1,
              "tickcolor": "rgb(36,36,36)",
              "ticks": "outside"
             }
            },
            "type": "scatter3d"
           }
          ],
          "scattercarpet": [
           {
            "marker": {
             "colorbar": {
              "outlinewidth": 1,
              "tickcolor": "rgb(36,36,36)",
              "ticks": "outside"
             }
            },
            "type": "scattercarpet"
           }
          ],
          "scattergeo": [
           {
            "marker": {
             "colorbar": {
              "outlinewidth": 1,
              "tickcolor": "rgb(36,36,36)",
              "ticks": "outside"
             }
            },
            "type": "scattergeo"
           }
          ],
          "scattergl": [
           {
            "marker": {
             "colorbar": {
              "outlinewidth": 1,
              "tickcolor": "rgb(36,36,36)",
              "ticks": "outside"
             }
            },
            "type": "scattergl"
           }
          ],
          "scattermapbox": [
           {
            "marker": {
             "colorbar": {
              "outlinewidth": 1,
              "tickcolor": "rgb(36,36,36)",
              "ticks": "outside"
             }
            },
            "type": "scattermapbox"
           }
          ],
          "scatterpolar": [
           {
            "marker": {
             "colorbar": {
              "outlinewidth": 1,
              "tickcolor": "rgb(36,36,36)",
              "ticks": "outside"
             }
            },
            "type": "scatterpolar"
           }
          ],
          "scatterpolargl": [
           {
            "marker": {
             "colorbar": {
              "outlinewidth": 1,
              "tickcolor": "rgb(36,36,36)",
              "ticks": "outside"
             }
            },
            "type": "scatterpolargl"
           }
          ],
          "scatterternary": [
           {
            "marker": {
             "colorbar": {
              "outlinewidth": 1,
              "tickcolor": "rgb(36,36,36)",
              "ticks": "outside"
             }
            },
            "type": "scatterternary"
           }
          ],
          "surface": [
           {
            "colorbar": {
             "outlinewidth": 1,
             "tickcolor": "rgb(36,36,36)",
             "ticks": "outside"
            },
            "colorscale": [
             [
              0,
              "#440154"
             ],
             [
              0.1111111111111111,
              "#482878"
             ],
             [
              0.2222222222222222,
              "#3e4989"
             ],
             [
              0.3333333333333333,
              "#31688e"
             ],
             [
              0.4444444444444444,
              "#26828e"
             ],
             [
              0.5555555555555556,
              "#1f9e89"
             ],
             [
              0.6666666666666666,
              "#35b779"
             ],
             [
              0.7777777777777778,
              "#6ece58"
             ],
             [
              0.8888888888888888,
              "#b5de2b"
             ],
             [
              1,
              "#fde725"
             ]
            ],
            "type": "surface"
           }
          ],
          "table": [
           {
            "cells": {
             "fill": {
              "color": "rgb(237,237,237)"
             },
             "line": {
              "color": "white"
             }
            },
            "header": {
             "fill": {
              "color": "rgb(217,217,217)"
             },
             "line": {
              "color": "white"
             }
            },
            "type": "table"
           }
          ]
         },
         "layout": {
          "annotationdefaults": {
           "arrowhead": 0,
           "arrowwidth": 1
          },
          "autotypenumbers": "strict",
          "coloraxis": {
           "colorbar": {
            "outlinewidth": 1,
            "tickcolor": "rgb(36,36,36)",
            "ticks": "outside"
           }
          },
          "colorscale": {
           "diverging": [
            [
             0,
             "rgb(103,0,31)"
            ],
            [
             0.1,
             "rgb(178,24,43)"
            ],
            [
             0.2,
             "rgb(214,96,77)"
            ],
            [
             0.3,
             "rgb(244,165,130)"
            ],
            [
             0.4,
             "rgb(253,219,199)"
            ],
            [
             0.5,
             "rgb(247,247,247)"
            ],
            [
             0.6,
             "rgb(209,229,240)"
            ],
            [
             0.7,
             "rgb(146,197,222)"
            ],
            [
             0.8,
             "rgb(67,147,195)"
            ],
            [
             0.9,
             "rgb(33,102,172)"
            ],
            [
             1,
             "rgb(5,48,97)"
            ]
           ],
           "sequential": [
            [
             0,
             "#440154"
            ],
            [
             0.1111111111111111,
             "#482878"
            ],
            [
             0.2222222222222222,
             "#3e4989"
            ],
            [
             0.3333333333333333,
             "#31688e"
            ],
            [
             0.4444444444444444,
             "#26828e"
            ],
            [
             0.5555555555555556,
             "#1f9e89"
            ],
            [
             0.6666666666666666,
             "#35b779"
            ],
            [
             0.7777777777777778,
             "#6ece58"
            ],
            [
             0.8888888888888888,
             "#b5de2b"
            ],
            [
             1,
             "#fde725"
            ]
           ],
           "sequentialminus": [
            [
             0,
             "#440154"
            ],
            [
             0.1111111111111111,
             "#482878"
            ],
            [
             0.2222222222222222,
             "#3e4989"
            ],
            [
             0.3333333333333333,
             "#31688e"
            ],
            [
             0.4444444444444444,
             "#26828e"
            ],
            [
             0.5555555555555556,
             "#1f9e89"
            ],
            [
             0.6666666666666666,
             "#35b779"
            ],
            [
             0.7777777777777778,
             "#6ece58"
            ],
            [
             0.8888888888888888,
             "#b5de2b"
            ],
            [
             1,
             "#fde725"
            ]
           ]
          },
          "colorway": [
           "#1F77B4",
           "#FF7F0E",
           "#2CA02C",
           "#D62728",
           "#9467BD",
           "#8C564B",
           "#E377C2",
           "#7F7F7F",
           "#BCBD22",
           "#17BECF"
          ],
          "font": {
           "color": "rgb(36,36,36)"
          },
          "geo": {
           "bgcolor": "white",
           "lakecolor": "white",
           "landcolor": "white",
           "showlakes": true,
           "showland": true,
           "subunitcolor": "white"
          },
          "hoverlabel": {
           "align": "left"
          },
          "hovermode": "closest",
          "mapbox": {
           "style": "light"
          },
          "paper_bgcolor": "white",
          "plot_bgcolor": "white",
          "polar": {
           "angularaxis": {
            "gridcolor": "rgb(232,232,232)",
            "linecolor": "rgb(36,36,36)",
            "showgrid": false,
            "showline": true,
            "ticks": "outside"
           },
           "bgcolor": "white",
           "radialaxis": {
            "gridcolor": "rgb(232,232,232)",
            "linecolor": "rgb(36,36,36)",
            "showgrid": false,
            "showline": true,
            "ticks": "outside"
           }
          },
          "scene": {
           "xaxis": {
            "backgroundcolor": "white",
            "gridcolor": "rgb(232,232,232)",
            "gridwidth": 2,
            "linecolor": "rgb(36,36,36)",
            "showbackground": true,
            "showgrid": false,
            "showline": true,
            "ticks": "outside",
            "zeroline": false,
            "zerolinecolor": "rgb(36,36,36)"
           },
           "yaxis": {
            "backgroundcolor": "white",
            "gridcolor": "rgb(232,232,232)",
            "gridwidth": 2,
            "linecolor": "rgb(36,36,36)",
            "showbackground": true,
            "showgrid": false,
            "showline": true,
            "ticks": "outside",
            "zeroline": false,
            "zerolinecolor": "rgb(36,36,36)"
           },
           "zaxis": {
            "backgroundcolor": "white",
            "gridcolor": "rgb(232,232,232)",
            "gridwidth": 2,
            "linecolor": "rgb(36,36,36)",
            "showbackground": true,
            "showgrid": false,
            "showline": true,
            "ticks": "outside",
            "zeroline": false,
            "zerolinecolor": "rgb(36,36,36)"
           }
          },
          "shapedefaults": {
           "fillcolor": "black",
           "line": {
            "width": 0
           },
           "opacity": 0.3
          },
          "ternary": {
           "aaxis": {
            "gridcolor": "rgb(232,232,232)",
            "linecolor": "rgb(36,36,36)",
            "showgrid": false,
            "showline": true,
            "ticks": "outside"
           },
           "baxis": {
            "gridcolor": "rgb(232,232,232)",
            "linecolor": "rgb(36,36,36)",
            "showgrid": false,
            "showline": true,
            "ticks": "outside"
           },
           "bgcolor": "white",
           "caxis": {
            "gridcolor": "rgb(232,232,232)",
            "linecolor": "rgb(36,36,36)",
            "showgrid": false,
            "showline": true,
            "ticks": "outside"
           }
          },
          "title": {
           "x": 0.05
          },
          "xaxis": {
           "automargin": true,
           "gridcolor": "rgb(232,232,232)",
           "linecolor": "rgb(36,36,36)",
           "showgrid": false,
           "showline": true,
           "ticks": "outside",
           "title": {
            "standoff": 15
           },
           "zeroline": false,
           "zerolinecolor": "rgb(36,36,36)"
          },
          "yaxis": {
           "automargin": true,
           "gridcolor": "rgb(232,232,232)",
           "linecolor": "rgb(36,36,36)",
           "showgrid": false,
           "showline": true,
           "ticks": "outside",
           "title": {
            "standoff": 15
           },
           "zeroline": false,
           "zerolinecolor": "rgb(36,36,36)"
          }
         }
        },
        "title": {
         "text": "3D PCoA"
        },
        "width": 1000
       }
      }
     },
     "metadata": {},
     "output_type": "display_data"
    }
   ],
   "source": [
    "memo.visualization.plot_pcoa_3d(\n",
    "    matrix= memo_qe.memo_matrix,\n",
    "    df_metadata=df_meta,\n",
    "    metric= 'braycurtis',\n",
    "    filename_col = 'Filename',\n",
    "    group_col='contains',\n",
    "    norm = False,\n",
    "    scaling= False,\n",
    "    pc_to_plot = [1,2,3]\n",
    ")"
   ]
  },
  {
   "cell_type": "code",
   "execution_count": 22,
   "metadata": {},
   "outputs": [
    {
     "data": {
      "application/vnd.plotly.v1+json": {
       "config": {
        "plotlyServerURL": "https://plot.ly"
       },
       "data": [
        {
         "hoverinfo": "text",
         "marker": {
          "color": "rgb(61,153,112)"
         },
         "mode": "lines",
         "showlegend": false,
         "type": "scatter",
         "x": [
          15,
          15,
          25,
          25
         ],
         "xaxis": "x",
         "y": [
          0,
          473.0887865929608,
          473.0887865929608,
          0
         ],
         "yaxis": "y2"
        },
        {
         "hoverinfo": "text",
         "marker": {
          "color": "rgb(61,153,112)"
         },
         "mode": "lines",
         "showlegend": false,
         "type": "scatter",
         "x": [
          35,
          35,
          45,
          45
         ],
         "xaxis": "x",
         "y": [
          0,
          383.6091761154835,
          383.6091761154835,
          0
         ],
         "yaxis": "y2"
        },
        {
         "hoverinfo": "text",
         "marker": {
          "color": "rgb(61,153,112)"
         },
         "mode": "lines",
         "showlegend": false,
         "type": "scatter",
         "x": [
          65,
          65,
          75,
          75
         ],
         "xaxis": "x",
         "y": [
          0,
          280.4478561158919,
          280.4478561158919,
          0
         ],
         "yaxis": "y2"
        },
        {
         "hoverinfo": "text",
         "marker": {
          "color": "rgb(61,153,112)"
         },
         "mode": "lines",
         "showlegend": false,
         "type": "scatter",
         "x": [
          55,
          55,
          70,
          70
         ],
         "xaxis": "x",
         "y": [
          0,
          502.8449065069666,
          502.8449065069666,
          280.4478561158919
         ],
         "yaxis": "y2"
        },
        {
         "hoverinfo": "text",
         "marker": {
          "color": "rgb(61,153,112)"
         },
         "mode": "lines",
         "showlegend": false,
         "type": "scatter",
         "x": [
          40,
          40,
          62.5,
          62.5
         ],
         "xaxis": "x",
         "y": [
          383.6091761154835,
          626.5780079128217,
          626.5780079128217,
          502.8449065069666
         ],
         "yaxis": "y2"
        },
        {
         "hoverinfo": "text",
         "marker": {
          "color": "rgb(61,153,112)"
         },
         "mode": "lines",
         "showlegend": false,
         "type": "scatter",
         "x": [
          20,
          20,
          51.25,
          51.25
         ],
         "xaxis": "x",
         "y": [
          473.0887865929608,
          1001.7556730917117,
          1001.7556730917117,
          626.5780079128217
         ],
         "yaxis": "y2"
        },
        {
         "hoverinfo": "text",
         "marker": {
          "color": "rgb(61,153,112)"
         },
         "mode": "lines",
         "showlegend": false,
         "type": "scatter",
         "x": [
          5,
          5,
          35.625,
          35.625
         ],
         "xaxis": "x",
         "y": [
          0,
          1562.934922326765,
          1562.934922326765,
          1001.7556730917117
         ],
         "yaxis": "y2"
        },
        {
         "hoverinfo": "text",
         "marker": {
          "color": "rgb(61,153,112)"
         },
         "mode": "lines",
         "showlegend": false,
         "type": "scatter",
         "x": [
          95,
          95,
          105,
          105
         ],
         "xaxis": "x",
         "y": [
          0,
          531.7123282377418,
          531.7123282377418,
          0
         ],
         "yaxis": "y2"
        },
        {
         "hoverinfo": "text",
         "marker": {
          "color": "rgb(61,153,112)"
         },
         "mode": "lines",
         "showlegend": false,
         "type": "scatter",
         "x": [
          85,
          85,
          100,
          100
         ],
         "xaxis": "x",
         "y": [
          0,
          1713.3081061696598,
          1713.3081061696598,
          531.7123282377418
         ],
         "yaxis": "y2"
        },
        {
         "hoverinfo": "text",
         "marker": {
          "color": "rgb(61,153,112)"
         },
         "mode": "lines",
         "showlegend": false,
         "type": "scatter",
         "x": [
          20.3125,
          20.3125,
          92.5,
          92.5
         ],
         "xaxis": "x",
         "y": [
          1562.934922326765,
          3430.091698571054,
          3430.091698571054,
          1713.3081061696598
         ],
         "yaxis": "y2"
        },
        {
         "hoverinfo": "text",
         "marker": {
          "color": "rgb(255,65,54)"
         },
         "mode": "lines",
         "showlegend": false,
         "type": "scatter",
         "x": [
          135,
          135,
          145,
          145
         ],
         "xaxis": "x",
         "y": [
          0,
          185.2079911882854,
          185.2079911882854,
          0
         ],
         "yaxis": "y2"
        },
        {
         "hoverinfo": "text",
         "marker": {
          "color": "rgb(255,65,54)"
         },
         "mode": "lines",
         "showlegend": false,
         "type": "scatter",
         "x": [
          125,
          125,
          140,
          140
         ],
         "xaxis": "x",
         "y": [
          0,
          278.6120361123451,
          278.6120361123451,
          185.2079911882854
         ],
         "yaxis": "y2"
        },
        {
         "hoverinfo": "text",
         "marker": {
          "color": "rgb(255,65,54)"
         },
         "mode": "lines",
         "showlegend": false,
         "type": "scatter",
         "x": [
          115,
          115,
          132.5,
          132.5
         ],
         "xaxis": "x",
         "y": [
          0,
          390.20165726625675,
          390.20165726625675,
          278.6120361123451
         ],
         "yaxis": "y2"
        },
        {
         "hoverinfo": "text",
         "marker": {
          "color": "rgb(255,65,54)"
         },
         "mode": "lines",
         "showlegend": false,
         "type": "scatter",
         "x": [
          155,
          155,
          165,
          165
         ],
         "xaxis": "x",
         "y": [
          0,
          189.93419913222579,
          189.93419913222579,
          0
         ],
         "yaxis": "y2"
        },
        {
         "hoverinfo": "text",
         "marker": {
          "color": "rgb(255,65,54)"
         },
         "mode": "lines",
         "showlegend": false,
         "type": "scatter",
         "x": [
          175,
          175,
          185,
          185
         ],
         "xaxis": "x",
         "y": [
          0,
          140.70181235506527,
          140.70181235506527,
          0
         ],
         "yaxis": "y2"
        },
        {
         "hoverinfo": "text",
         "marker": {
          "color": "rgb(255,65,54)"
         },
         "mode": "lines",
         "showlegend": false,
         "type": "scatter",
         "x": [
          205,
          205,
          215,
          215
         ],
         "xaxis": "x",
         "y": [
          0,
          156.7992346920099,
          156.7992346920099,
          0
         ],
         "yaxis": "y2"
        },
        {
         "hoverinfo": "text",
         "marker": {
          "color": "rgb(255,65,54)"
         },
         "mode": "lines",
         "showlegend": false,
         "type": "scatter",
         "x": [
          195,
          195,
          210,
          210
         ],
         "xaxis": "x",
         "y": [
          0,
          182.19952433161475,
          182.19952433161475,
          156.7992346920099
         ],
         "yaxis": "y2"
        },
        {
         "hoverinfo": "text",
         "marker": {
          "color": "rgb(255,65,54)"
         },
         "mode": "lines",
         "showlegend": false,
         "type": "scatter",
         "x": [
          180,
          180,
          202.5,
          202.5
         ],
         "xaxis": "x",
         "y": [
          140.70181235506527,
          240.8209570060989,
          240.8209570060989,
          182.19952433161475
         ],
         "yaxis": "y2"
        },
        {
         "hoverinfo": "text",
         "marker": {
          "color": "rgb(255,65,54)"
         },
         "mode": "lines",
         "showlegend": false,
         "type": "scatter",
         "x": [
          160,
          160,
          191.25,
          191.25
         ],
         "xaxis": "x",
         "y": [
          189.93419913222579,
          445.0923178718898,
          445.0923178718898,
          240.8209570060989
         ],
         "yaxis": "y2"
        },
        {
         "hoverinfo": "text",
         "marker": {
          "color": "rgb(255,65,54)"
         },
         "mode": "lines",
         "showlegend": false,
         "type": "scatter",
         "x": [
          123.75,
          123.75,
          175.625,
          175.625
         ],
         "xaxis": "x",
         "y": [
          390.20165726625675,
          788.2960746437225,
          788.2960746437225,
          445.0923178718898
         ],
         "yaxis": "y2"
        },
        {
         "hoverinfo": "text",
         "marker": {
          "color": "rgb(255,65,54)"
         },
         "mode": "lines",
         "showlegend": false,
         "type": "scatter",
         "x": [
          235,
          235,
          245,
          245
         ],
         "xaxis": "x",
         "y": [
          0,
          276.1322147088239,
          276.1322147088239,
          0
         ],
         "yaxis": "y2"
        },
        {
         "hoverinfo": "text",
         "marker": {
          "color": "rgb(255,65,54)"
         },
         "mode": "lines",
         "showlegend": false,
         "type": "scatter",
         "x": [
          225,
          225,
          240,
          240
         ],
         "xaxis": "x",
         "y": [
          0,
          432.2873272874574,
          432.2873272874574,
          276.1322147088239
         ],
         "yaxis": "y2"
        },
        {
         "hoverinfo": "text",
         "marker": {
          "color": "rgb(255,65,54)"
         },
         "mode": "lines",
         "showlegend": false,
         "type": "scatter",
         "x": [
          265,
          265,
          275,
          275
         ],
         "xaxis": "x",
         "y": [
          0,
          254.98431324299148,
          254.98431324299148,
          0
         ],
         "yaxis": "y2"
        },
        {
         "hoverinfo": "text",
         "marker": {
          "color": "rgb(255,65,54)"
         },
         "mode": "lines",
         "showlegend": false,
         "type": "scatter",
         "x": [
          255,
          255,
          270,
          270
         ],
         "xaxis": "x",
         "y": [
          0,
          318.6497554787492,
          318.6497554787492,
          254.98431324299148
         ],
         "yaxis": "y2"
        },
        {
         "hoverinfo": "text",
         "marker": {
          "color": "rgb(255,65,54)"
         },
         "mode": "lines",
         "showlegend": false,
         "type": "scatter",
         "x": [
          305,
          305,
          315,
          315
         ],
         "xaxis": "x",
         "y": [
          0,
          220.32702966272657,
          220.32702966272657,
          0
         ],
         "yaxis": "y2"
        },
        {
         "hoverinfo": "text",
         "marker": {
          "color": "rgb(255,65,54)"
         },
         "mode": "lines",
         "showlegend": false,
         "type": "scatter",
         "x": [
          295,
          295,
          310,
          310
         ],
         "xaxis": "x",
         "y": [
          0,
          285.5053998321806,
          285.5053998321806,
          220.32702966272657
         ],
         "yaxis": "y2"
        },
        {
         "hoverinfo": "text",
         "marker": {
          "color": "rgb(255,65,54)"
         },
         "mode": "lines",
         "showlegend": false,
         "type": "scatter",
         "x": [
          285,
          285,
          302.5,
          302.5
         ],
         "xaxis": "x",
         "y": [
          0,
          495.34146471567135,
          495.34146471567135,
          285.5053998321806
         ],
         "yaxis": "y2"
        },
        {
         "hoverinfo": "text",
         "marker": {
          "color": "rgb(255,65,54)"
         },
         "mode": "lines",
         "showlegend": false,
         "type": "scatter",
         "x": [
          262.5,
          262.5,
          293.75,
          293.75
         ],
         "xaxis": "x",
         "y": [
          318.6497554787492,
          637.490821595925,
          637.490821595925,
          495.34146471567135
         ],
         "yaxis": "y2"
        },
        {
         "hoverinfo": "text",
         "marker": {
          "color": "rgb(255,65,54)"
         },
         "mode": "lines",
         "showlegend": false,
         "type": "scatter",
         "x": [
          232.5,
          232.5,
          278.125,
          278.125
         ],
         "xaxis": "x",
         "y": [
          432.2873272874574,
          1036.7971606736548,
          1036.7971606736548,
          637.490821595925
         ],
         "yaxis": "y2"
        },
        {
         "hoverinfo": "text",
         "marker": {
          "color": "rgb(255,65,54)"
         },
         "mode": "lines",
         "showlegend": false,
         "type": "scatter",
         "x": [
          149.6875,
          149.6875,
          255.3125,
          255.3125
         ],
         "xaxis": "x",
         "y": [
          788.2960746437225,
          2244.6390724051757,
          2244.6390724051757,
          1036.7971606736548
         ],
         "yaxis": "y2"
        },
        {
         "hoverinfo": "text",
         "marker": {
          "color": "rgb(255,65,54)"
         },
         "mode": "lines",
         "showlegend": false,
         "type": "scatter",
         "x": [
          335,
          335,
          345,
          345
         ],
         "xaxis": "x",
         "y": [
          0,
          177.06778363101515,
          177.06778363101515,
          0
         ],
         "yaxis": "y2"
        },
        {
         "hoverinfo": "text",
         "marker": {
          "color": "rgb(255,65,54)"
         },
         "mode": "lines",
         "showlegend": false,
         "type": "scatter",
         "x": [
          325,
          325,
          340,
          340
         ],
         "xaxis": "x",
         "y": [
          0,
          218.89190635258,
          218.89190635258,
          177.06778363101515
         ],
         "yaxis": "y2"
        },
        {
         "hoverinfo": "text",
         "marker": {
          "color": "rgb(255,65,54)"
         },
         "mode": "lines",
         "showlegend": false,
         "type": "scatter",
         "x": [
          375,
          375,
          385,
          385
         ],
         "xaxis": "x",
         "y": [
          0,
          201.77214872226543,
          201.77214872226543,
          0
         ],
         "yaxis": "y2"
        },
        {
         "hoverinfo": "text",
         "marker": {
          "color": "rgb(255,65,54)"
         },
         "mode": "lines",
         "showlegend": false,
         "type": "scatter",
         "x": [
          365,
          365,
          380,
          380
         ],
         "xaxis": "x",
         "y": [
          0,
          223.15316115469514,
          223.15316115469514,
          201.77214872226543
         ],
         "yaxis": "y2"
        },
        {
         "hoverinfo": "text",
         "marker": {
          "color": "rgb(255,65,54)"
         },
         "mode": "lines",
         "showlegend": false,
         "type": "scatter",
         "x": [
          355,
          355,
          372.5,
          372.5
         ],
         "xaxis": "x",
         "y": [
          0,
          263.1637639696367,
          263.1637639696367,
          223.15316115469514
         ],
         "yaxis": "y2"
        },
        {
         "hoverinfo": "text",
         "marker": {
          "color": "rgb(255,65,54)"
         },
         "mode": "lines",
         "showlegend": false,
         "type": "scatter",
         "x": [
          332.5,
          332.5,
          363.75,
          363.75
         ],
         "xaxis": "x",
         "y": [
          218.89190635258,
          321.42491532312204,
          321.42491532312204,
          263.1637639696367
         ],
         "yaxis": "y2"
        },
        {
         "hoverinfo": "text",
         "marker": {
          "color": "rgb(255,65,54)"
         },
         "mode": "lines",
         "showlegend": false,
         "type": "scatter",
         "x": [
          405,
          405,
          415,
          415
         ],
         "xaxis": "x",
         "y": [
          0,
          143.5548675594109,
          143.5548675594109,
          0
         ],
         "yaxis": "y2"
        },
        {
         "hoverinfo": "text",
         "marker": {
          "color": "rgb(255,65,54)"
         },
         "mode": "lines",
         "showlegend": false,
         "type": "scatter",
         "x": [
          395,
          395,
          410,
          410
         ],
         "xaxis": "x",
         "y": [
          0,
          158.9339485446706,
          158.9339485446706,
          143.5548675594109
         ],
         "yaxis": "y2"
        },
        {
         "hoverinfo": "text",
         "marker": {
          "color": "rgb(255,65,54)"
         },
         "mode": "lines",
         "showlegend": false,
         "type": "scatter",
         "x": [
          435,
          435,
          445,
          445
         ],
         "xaxis": "x",
         "y": [
          0,
          135.827095971312,
          135.827095971312,
          0
         ],
         "yaxis": "y2"
        },
        {
         "hoverinfo": "text",
         "marker": {
          "color": "rgb(255,65,54)"
         },
         "mode": "lines",
         "showlegend": false,
         "type": "scatter",
         "x": [
          425,
          425,
          440,
          440
         ],
         "xaxis": "x",
         "y": [
          0,
          208.3818610148206,
          208.3818610148206,
          135.827095971312
         ],
         "yaxis": "y2"
        },
        {
         "hoverinfo": "text",
         "marker": {
          "color": "rgb(255,65,54)"
         },
         "mode": "lines",
         "showlegend": false,
         "type": "scatter",
         "x": [
          455,
          455,
          465,
          465
         ],
         "xaxis": "x",
         "y": [
          0,
          223.02466231338633,
          223.02466231338633,
          0
         ],
         "yaxis": "y2"
        },
        {
         "hoverinfo": "text",
         "marker": {
          "color": "rgb(255,65,54)"
         },
         "mode": "lines",
         "showlegend": false,
         "type": "scatter",
         "x": [
          432.5,
          432.5,
          460,
          460
         ],
         "xaxis": "x",
         "y": [
          208.3818610148206,
          354.7618919782676,
          354.7618919782676,
          223.02466231338633
         ],
         "yaxis": "y2"
        },
        {
         "hoverinfo": "text",
         "marker": {
          "color": "rgb(255,65,54)"
         },
         "mode": "lines",
         "showlegend": false,
         "type": "scatter",
         "x": [
          402.5,
          402.5,
          446.25,
          446.25
         ],
         "xaxis": "x",
         "y": [
          158.9339485446706,
          616.5950859356568,
          616.5950859356568,
          354.7618919782676
         ],
         "yaxis": "y2"
        },
        {
         "hoverinfo": "text",
         "marker": {
          "color": "rgb(255,65,54)"
         },
         "mode": "lines",
         "showlegend": false,
         "type": "scatter",
         "x": [
          348.125,
          348.125,
          424.375,
          424.375
         ],
         "xaxis": "x",
         "y": [
          321.42491532312204,
          988.9320959884914,
          988.9320959884914,
          616.5950859356568
         ],
         "yaxis": "y2"
        },
        {
         "hoverinfo": "text",
         "marker": {
          "color": "rgb(255,65,54)"
         },
         "mode": "lines",
         "showlegend": false,
         "type": "scatter",
         "x": [
          485,
          485,
          495,
          495
         ],
         "xaxis": "x",
         "y": [
          0,
          415.76555893916947,
          415.76555893916947,
          0
         ],
         "yaxis": "y2"
        },
        {
         "hoverinfo": "text",
         "marker": {
          "color": "rgb(255,65,54)"
         },
         "mode": "lines",
         "showlegend": false,
         "type": "scatter",
         "x": [
          475,
          475,
          490,
          490
         ],
         "xaxis": "x",
         "y": [
          0,
          443.43545189801864,
          443.43545189801864,
          415.76555893916947
         ],
         "yaxis": "y2"
        },
        {
         "hoverinfo": "text",
         "marker": {
          "color": "rgb(255,65,54)"
         },
         "mode": "lines",
         "showlegend": false,
         "type": "scatter",
         "x": [
          515,
          515,
          525,
          525
         ],
         "xaxis": "x",
         "y": [
          0,
          227.13872413131145,
          227.13872413131145,
          0
         ],
         "yaxis": "y2"
        },
        {
         "hoverinfo": "text",
         "marker": {
          "color": "rgb(255,65,54)"
         },
         "mode": "lines",
         "showlegend": false,
         "type": "scatter",
         "x": [
          505,
          505,
          520,
          520
         ],
         "xaxis": "x",
         "y": [
          0,
          317.98742113486185,
          317.98742113486185,
          227.13872413131145
         ],
         "yaxis": "y2"
        },
        {
         "hoverinfo": "text",
         "marker": {
          "color": "rgb(255,65,54)"
         },
         "mode": "lines",
         "showlegend": false,
         "type": "scatter",
         "x": [
          545,
          545,
          555,
          555
         ],
         "xaxis": "x",
         "y": [
          0,
          282.57742301889584,
          282.57742301889584,
          0
         ],
         "yaxis": "y2"
        },
        {
         "hoverinfo": "text",
         "marker": {
          "color": "rgb(255,65,54)"
         },
         "mode": "lines",
         "showlegend": false,
         "type": "scatter",
         "x": [
          535,
          535,
          550,
          550
         ],
         "xaxis": "x",
         "y": [
          0,
          555.665966806198,
          555.665966806198,
          282.57742301889584
         ],
         "yaxis": "y2"
        },
        {
         "hoverinfo": "text",
         "marker": {
          "color": "rgb(255,65,54)"
         },
         "mode": "lines",
         "showlegend": false,
         "type": "scatter",
         "x": [
          512.5,
          512.5,
          542.5,
          542.5
         ],
         "xaxis": "x",
         "y": [
          317.98742113486185,
          891.833878402624,
          891.833878402624,
          555.665966806198
         ],
         "yaxis": "y2"
        },
        {
         "hoverinfo": "text",
         "marker": {
          "color": "rgb(255,65,54)"
         },
         "mode": "lines",
         "showlegend": false,
         "type": "scatter",
         "x": [
          482.5,
          482.5,
          527.5,
          527.5
         ],
         "xaxis": "x",
         "y": [
          443.43545189801864,
          1343.3807683932687,
          1343.3807683932687,
          891.833878402624
         ],
         "yaxis": "y2"
        },
        {
         "hoverinfo": "text",
         "marker": {
          "color": "rgb(255,65,54)"
         },
         "mode": "lines",
         "showlegend": false,
         "type": "scatter",
         "x": [
          386.25,
          386.25,
          505,
          505
         ],
         "xaxis": "x",
         "y": [
          988.9320959884914,
          3232.929094146325,
          3232.929094146325,
          1343.3807683932687
         ],
         "yaxis": "y2"
        },
        {
         "hoverinfo": "text",
         "marker": {
          "color": "rgb(255,65,54)"
         },
         "mode": "lines",
         "showlegend": false,
         "type": "scatter",
         "x": [
          202.5,
          202.5,
          445.625,
          445.625
         ],
         "xaxis": "x",
         "y": [
          2244.6390724051757,
          6903.816613593309,
          6903.816613593309,
          3232.929094146325
         ],
         "yaxis": "y2"
        },
        {
         "hoverinfo": "text",
         "marker": {
          "color": "rgb(0,116,217)"
         },
         "mode": "lines",
         "showlegend": false,
         "type": "scatter",
         "x": [
          56.40625,
          56.40625,
          324.0625,
          324.0625
         ],
         "xaxis": "x",
         "y": [
          3430.091698571054,
          12415.024834968553,
          12415.024834968553,
          6903.816613593309
         ],
         "yaxis": "y2"
        },
        {
         "hoverinfo": "text",
         "marker": {
          "color": "rgb(61,153,112)"
         },
         "mode": "lines",
         "showlegend": false,
         "type": "scatter",
         "x": [
          0,
          -473.0887865929608,
          -473.0887865929608,
          0
         ],
         "xaxis": "x2",
         "y": [
          15,
          15,
          25,
          25
         ],
         "yaxis": "y"
        },
        {
         "hoverinfo": "text",
         "marker": {
          "color": "rgb(61,153,112)"
         },
         "mode": "lines",
         "showlegend": false,
         "type": "scatter",
         "x": [
          0,
          -383.6091761154835,
          -383.6091761154835,
          0
         ],
         "xaxis": "x2",
         "y": [
          35,
          35,
          45,
          45
         ],
         "yaxis": "y"
        },
        {
         "hoverinfo": "text",
         "marker": {
          "color": "rgb(61,153,112)"
         },
         "mode": "lines",
         "showlegend": false,
         "type": "scatter",
         "x": [
          0,
          -280.4478561158919,
          -280.4478561158919,
          0
         ],
         "xaxis": "x2",
         "y": [
          65,
          65,
          75,
          75
         ],
         "yaxis": "y"
        },
        {
         "hoverinfo": "text",
         "marker": {
          "color": "rgb(61,153,112)"
         },
         "mode": "lines",
         "showlegend": false,
         "type": "scatter",
         "x": [
          0,
          -502.8449065069666,
          -502.8449065069666,
          -280.4478561158919
         ],
         "xaxis": "x2",
         "y": [
          55,
          55,
          70,
          70
         ],
         "yaxis": "y"
        },
        {
         "hoverinfo": "text",
         "marker": {
          "color": "rgb(61,153,112)"
         },
         "mode": "lines",
         "showlegend": false,
         "type": "scatter",
         "x": [
          -383.6091761154835,
          -626.5780079128217,
          -626.5780079128217,
          -502.8449065069666
         ],
         "xaxis": "x2",
         "y": [
          40,
          40,
          62.5,
          62.5
         ],
         "yaxis": "y"
        },
        {
         "hoverinfo": "text",
         "marker": {
          "color": "rgb(61,153,112)"
         },
         "mode": "lines",
         "showlegend": false,
         "type": "scatter",
         "x": [
          -473.0887865929608,
          -1001.7556730917117,
          -1001.7556730917117,
          -626.5780079128217
         ],
         "xaxis": "x2",
         "y": [
          20,
          20,
          51.25,
          51.25
         ],
         "yaxis": "y"
        },
        {
         "hoverinfo": "text",
         "marker": {
          "color": "rgb(61,153,112)"
         },
         "mode": "lines",
         "showlegend": false,
         "type": "scatter",
         "x": [
          0,
          -1562.934922326765,
          -1562.934922326765,
          -1001.7556730917117
         ],
         "xaxis": "x2",
         "y": [
          5,
          5,
          35.625,
          35.625
         ],
         "yaxis": "y"
        },
        {
         "hoverinfo": "text",
         "marker": {
          "color": "rgb(61,153,112)"
         },
         "mode": "lines",
         "showlegend": false,
         "type": "scatter",
         "x": [
          0,
          -531.7123282377418,
          -531.7123282377418,
          0
         ],
         "xaxis": "x2",
         "y": [
          95,
          95,
          105,
          105
         ],
         "yaxis": "y"
        },
        {
         "hoverinfo": "text",
         "marker": {
          "color": "rgb(61,153,112)"
         },
         "mode": "lines",
         "showlegend": false,
         "type": "scatter",
         "x": [
          0,
          -1713.3081061696598,
          -1713.3081061696598,
          -531.7123282377418
         ],
         "xaxis": "x2",
         "y": [
          85,
          85,
          100,
          100
         ],
         "yaxis": "y"
        },
        {
         "hoverinfo": "text",
         "marker": {
          "color": "rgb(61,153,112)"
         },
         "mode": "lines",
         "showlegend": false,
         "type": "scatter",
         "x": [
          -1562.934922326765,
          -3430.091698571054,
          -3430.091698571054,
          -1713.3081061696598
         ],
         "xaxis": "x2",
         "y": [
          20.3125,
          20.3125,
          92.5,
          92.5
         ],
         "yaxis": "y"
        },
        {
         "hoverinfo": "text",
         "marker": {
          "color": "rgb(255,65,54)"
         },
         "mode": "lines",
         "showlegend": false,
         "type": "scatter",
         "x": [
          0,
          -185.2079911882854,
          -185.2079911882854,
          0
         ],
         "xaxis": "x2",
         "y": [
          135,
          135,
          145,
          145
         ],
         "yaxis": "y"
        },
        {
         "hoverinfo": "text",
         "marker": {
          "color": "rgb(255,65,54)"
         },
         "mode": "lines",
         "showlegend": false,
         "type": "scatter",
         "x": [
          0,
          -278.6120361123451,
          -278.6120361123451,
          -185.2079911882854
         ],
         "xaxis": "x2",
         "y": [
          125,
          125,
          140,
          140
         ],
         "yaxis": "y"
        },
        {
         "hoverinfo": "text",
         "marker": {
          "color": "rgb(255,65,54)"
         },
         "mode": "lines",
         "showlegend": false,
         "type": "scatter",
         "x": [
          0,
          -390.20165726625675,
          -390.20165726625675,
          -278.6120361123451
         ],
         "xaxis": "x2",
         "y": [
          115,
          115,
          132.5,
          132.5
         ],
         "yaxis": "y"
        },
        {
         "hoverinfo": "text",
         "marker": {
          "color": "rgb(255,65,54)"
         },
         "mode": "lines",
         "showlegend": false,
         "type": "scatter",
         "x": [
          0,
          -189.93419913222579,
          -189.93419913222579,
          0
         ],
         "xaxis": "x2",
         "y": [
          155,
          155,
          165,
          165
         ],
         "yaxis": "y"
        },
        {
         "hoverinfo": "text",
         "marker": {
          "color": "rgb(255,65,54)"
         },
         "mode": "lines",
         "showlegend": false,
         "type": "scatter",
         "x": [
          0,
          -140.70181235506527,
          -140.70181235506527,
          0
         ],
         "xaxis": "x2",
         "y": [
          175,
          175,
          185,
          185
         ],
         "yaxis": "y"
        },
        {
         "hoverinfo": "text",
         "marker": {
          "color": "rgb(255,65,54)"
         },
         "mode": "lines",
         "showlegend": false,
         "type": "scatter",
         "x": [
          0,
          -156.7992346920099,
          -156.7992346920099,
          0
         ],
         "xaxis": "x2",
         "y": [
          205,
          205,
          215,
          215
         ],
         "yaxis": "y"
        },
        {
         "hoverinfo": "text",
         "marker": {
          "color": "rgb(255,65,54)"
         },
         "mode": "lines",
         "showlegend": false,
         "type": "scatter",
         "x": [
          0,
          -182.19952433161475,
          -182.19952433161475,
          -156.7992346920099
         ],
         "xaxis": "x2",
         "y": [
          195,
          195,
          210,
          210
         ],
         "yaxis": "y"
        },
        {
         "hoverinfo": "text",
         "marker": {
          "color": "rgb(255,65,54)"
         },
         "mode": "lines",
         "showlegend": false,
         "type": "scatter",
         "x": [
          -140.70181235506527,
          -240.8209570060989,
          -240.8209570060989,
          -182.19952433161475
         ],
         "xaxis": "x2",
         "y": [
          180,
          180,
          202.5,
          202.5
         ],
         "yaxis": "y"
        },
        {
         "hoverinfo": "text",
         "marker": {
          "color": "rgb(255,65,54)"
         },
         "mode": "lines",
         "showlegend": false,
         "type": "scatter",
         "x": [
          -189.93419913222579,
          -445.0923178718898,
          -445.0923178718898,
          -240.8209570060989
         ],
         "xaxis": "x2",
         "y": [
          160,
          160,
          191.25,
          191.25
         ],
         "yaxis": "y"
        },
        {
         "hoverinfo": "text",
         "marker": {
          "color": "rgb(255,65,54)"
         },
         "mode": "lines",
         "showlegend": false,
         "type": "scatter",
         "x": [
          -390.20165726625675,
          -788.2960746437225,
          -788.2960746437225,
          -445.0923178718898
         ],
         "xaxis": "x2",
         "y": [
          123.75,
          123.75,
          175.625,
          175.625
         ],
         "yaxis": "y"
        },
        {
         "hoverinfo": "text",
         "marker": {
          "color": "rgb(255,65,54)"
         },
         "mode": "lines",
         "showlegend": false,
         "type": "scatter",
         "x": [
          0,
          -276.1322147088239,
          -276.1322147088239,
          0
         ],
         "xaxis": "x2",
         "y": [
          235,
          235,
          245,
          245
         ],
         "yaxis": "y"
        },
        {
         "hoverinfo": "text",
         "marker": {
          "color": "rgb(255,65,54)"
         },
         "mode": "lines",
         "showlegend": false,
         "type": "scatter",
         "x": [
          0,
          -432.2873272874574,
          -432.2873272874574,
          -276.1322147088239
         ],
         "xaxis": "x2",
         "y": [
          225,
          225,
          240,
          240
         ],
         "yaxis": "y"
        },
        {
         "hoverinfo": "text",
         "marker": {
          "color": "rgb(255,65,54)"
         },
         "mode": "lines",
         "showlegend": false,
         "type": "scatter",
         "x": [
          0,
          -254.98431324299148,
          -254.98431324299148,
          0
         ],
         "xaxis": "x2",
         "y": [
          265,
          265,
          275,
          275
         ],
         "yaxis": "y"
        },
        {
         "hoverinfo": "text",
         "marker": {
          "color": "rgb(255,65,54)"
         },
         "mode": "lines",
         "showlegend": false,
         "type": "scatter",
         "x": [
          0,
          -318.6497554787492,
          -318.6497554787492,
          -254.98431324299148
         ],
         "xaxis": "x2",
         "y": [
          255,
          255,
          270,
          270
         ],
         "yaxis": "y"
        },
        {
         "hoverinfo": "text",
         "marker": {
          "color": "rgb(255,65,54)"
         },
         "mode": "lines",
         "showlegend": false,
         "type": "scatter",
         "x": [
          0,
          -220.32702966272657,
          -220.32702966272657,
          0
         ],
         "xaxis": "x2",
         "y": [
          305,
          305,
          315,
          315
         ],
         "yaxis": "y"
        },
        {
         "hoverinfo": "text",
         "marker": {
          "color": "rgb(255,65,54)"
         },
         "mode": "lines",
         "showlegend": false,
         "type": "scatter",
         "x": [
          0,
          -285.5053998321806,
          -285.5053998321806,
          -220.32702966272657
         ],
         "xaxis": "x2",
         "y": [
          295,
          295,
          310,
          310
         ],
         "yaxis": "y"
        },
        {
         "hoverinfo": "text",
         "marker": {
          "color": "rgb(255,65,54)"
         },
         "mode": "lines",
         "showlegend": false,
         "type": "scatter",
         "x": [
          0,
          -495.34146471567135,
          -495.34146471567135,
          -285.5053998321806
         ],
         "xaxis": "x2",
         "y": [
          285,
          285,
          302.5,
          302.5
         ],
         "yaxis": "y"
        },
        {
         "hoverinfo": "text",
         "marker": {
          "color": "rgb(255,65,54)"
         },
         "mode": "lines",
         "showlegend": false,
         "type": "scatter",
         "x": [
          -318.6497554787492,
          -637.490821595925,
          -637.490821595925,
          -495.34146471567135
         ],
         "xaxis": "x2",
         "y": [
          262.5,
          262.5,
          293.75,
          293.75
         ],
         "yaxis": "y"
        },
        {
         "hoverinfo": "text",
         "marker": {
          "color": "rgb(255,65,54)"
         },
         "mode": "lines",
         "showlegend": false,
         "type": "scatter",
         "x": [
          -432.2873272874574,
          -1036.7971606736548,
          -1036.7971606736548,
          -637.490821595925
         ],
         "xaxis": "x2",
         "y": [
          232.5,
          232.5,
          278.125,
          278.125
         ],
         "yaxis": "y"
        },
        {
         "hoverinfo": "text",
         "marker": {
          "color": "rgb(255,65,54)"
         },
         "mode": "lines",
         "showlegend": false,
         "type": "scatter",
         "x": [
          -788.2960746437225,
          -2244.6390724051757,
          -2244.6390724051757,
          -1036.7971606736548
         ],
         "xaxis": "x2",
         "y": [
          149.6875,
          149.6875,
          255.3125,
          255.3125
         ],
         "yaxis": "y"
        },
        {
         "hoverinfo": "text",
         "marker": {
          "color": "rgb(255,65,54)"
         },
         "mode": "lines",
         "showlegend": false,
         "type": "scatter",
         "x": [
          0,
          -177.06778363101515,
          -177.06778363101515,
          0
         ],
         "xaxis": "x2",
         "y": [
          335,
          335,
          345,
          345
         ],
         "yaxis": "y"
        },
        {
         "hoverinfo": "text",
         "marker": {
          "color": "rgb(255,65,54)"
         },
         "mode": "lines",
         "showlegend": false,
         "type": "scatter",
         "x": [
          0,
          -218.89190635258,
          -218.89190635258,
          -177.06778363101515
         ],
         "xaxis": "x2",
         "y": [
          325,
          325,
          340,
          340
         ],
         "yaxis": "y"
        },
        {
         "hoverinfo": "text",
         "marker": {
          "color": "rgb(255,65,54)"
         },
         "mode": "lines",
         "showlegend": false,
         "type": "scatter",
         "x": [
          0,
          -201.77214872226543,
          -201.77214872226543,
          0
         ],
         "xaxis": "x2",
         "y": [
          375,
          375,
          385,
          385
         ],
         "yaxis": "y"
        },
        {
         "hoverinfo": "text",
         "marker": {
          "color": "rgb(255,65,54)"
         },
         "mode": "lines",
         "showlegend": false,
         "type": "scatter",
         "x": [
          0,
          -223.15316115469514,
          -223.15316115469514,
          -201.77214872226543
         ],
         "xaxis": "x2",
         "y": [
          365,
          365,
          380,
          380
         ],
         "yaxis": "y"
        },
        {
         "hoverinfo": "text",
         "marker": {
          "color": "rgb(255,65,54)"
         },
         "mode": "lines",
         "showlegend": false,
         "type": "scatter",
         "x": [
          0,
          -263.1637639696367,
          -263.1637639696367,
          -223.15316115469514
         ],
         "xaxis": "x2",
         "y": [
          355,
          355,
          372.5,
          372.5
         ],
         "yaxis": "y"
        },
        {
         "hoverinfo": "text",
         "marker": {
          "color": "rgb(255,65,54)"
         },
         "mode": "lines",
         "showlegend": false,
         "type": "scatter",
         "x": [
          -218.89190635258,
          -321.42491532312204,
          -321.42491532312204,
          -263.1637639696367
         ],
         "xaxis": "x2",
         "y": [
          332.5,
          332.5,
          363.75,
          363.75
         ],
         "yaxis": "y"
        },
        {
         "hoverinfo": "text",
         "marker": {
          "color": "rgb(255,65,54)"
         },
         "mode": "lines",
         "showlegend": false,
         "type": "scatter",
         "x": [
          0,
          -143.5548675594109,
          -143.5548675594109,
          0
         ],
         "xaxis": "x2",
         "y": [
          405,
          405,
          415,
          415
         ],
         "yaxis": "y"
        },
        {
         "hoverinfo": "text",
         "marker": {
          "color": "rgb(255,65,54)"
         },
         "mode": "lines",
         "showlegend": false,
         "type": "scatter",
         "x": [
          0,
          -158.9339485446706,
          -158.9339485446706,
          -143.5548675594109
         ],
         "xaxis": "x2",
         "y": [
          395,
          395,
          410,
          410
         ],
         "yaxis": "y"
        },
        {
         "hoverinfo": "text",
         "marker": {
          "color": "rgb(255,65,54)"
         },
         "mode": "lines",
         "showlegend": false,
         "type": "scatter",
         "x": [
          0,
          -135.827095971312,
          -135.827095971312,
          0
         ],
         "xaxis": "x2",
         "y": [
          435,
          435,
          445,
          445
         ],
         "yaxis": "y"
        },
        {
         "hoverinfo": "text",
         "marker": {
          "color": "rgb(255,65,54)"
         },
         "mode": "lines",
         "showlegend": false,
         "type": "scatter",
         "x": [
          0,
          -208.3818610148206,
          -208.3818610148206,
          -135.827095971312
         ],
         "xaxis": "x2",
         "y": [
          425,
          425,
          440,
          440
         ],
         "yaxis": "y"
        },
        {
         "hoverinfo": "text",
         "marker": {
          "color": "rgb(255,65,54)"
         },
         "mode": "lines",
         "showlegend": false,
         "type": "scatter",
         "x": [
          0,
          -223.02466231338633,
          -223.02466231338633,
          0
         ],
         "xaxis": "x2",
         "y": [
          455,
          455,
          465,
          465
         ],
         "yaxis": "y"
        },
        {
         "hoverinfo": "text",
         "marker": {
          "color": "rgb(255,65,54)"
         },
         "mode": "lines",
         "showlegend": false,
         "type": "scatter",
         "x": [
          -208.3818610148206,
          -354.7618919782676,
          -354.7618919782676,
          -223.02466231338633
         ],
         "xaxis": "x2",
         "y": [
          432.5,
          432.5,
          460,
          460
         ],
         "yaxis": "y"
        },
        {
         "hoverinfo": "text",
         "marker": {
          "color": "rgb(255,65,54)"
         },
         "mode": "lines",
         "showlegend": false,
         "type": "scatter",
         "x": [
          -158.9339485446706,
          -616.5950859356568,
          -616.5950859356568,
          -354.7618919782676
         ],
         "xaxis": "x2",
         "y": [
          402.5,
          402.5,
          446.25,
          446.25
         ],
         "yaxis": "y"
        },
        {
         "hoverinfo": "text",
         "marker": {
          "color": "rgb(255,65,54)"
         },
         "mode": "lines",
         "showlegend": false,
         "type": "scatter",
         "x": [
          -321.42491532312204,
          -988.9320959884914,
          -988.9320959884914,
          -616.5950859356568
         ],
         "xaxis": "x2",
         "y": [
          348.125,
          348.125,
          424.375,
          424.375
         ],
         "yaxis": "y"
        },
        {
         "hoverinfo": "text",
         "marker": {
          "color": "rgb(255,65,54)"
         },
         "mode": "lines",
         "showlegend": false,
         "type": "scatter",
         "x": [
          0,
          -415.76555893916947,
          -415.76555893916947,
          0
         ],
         "xaxis": "x2",
         "y": [
          485,
          485,
          495,
          495
         ],
         "yaxis": "y"
        },
        {
         "hoverinfo": "text",
         "marker": {
          "color": "rgb(255,65,54)"
         },
         "mode": "lines",
         "showlegend": false,
         "type": "scatter",
         "x": [
          0,
          -443.43545189801864,
          -443.43545189801864,
          -415.76555893916947
         ],
         "xaxis": "x2",
         "y": [
          475,
          475,
          490,
          490
         ],
         "yaxis": "y"
        },
        {
         "hoverinfo": "text",
         "marker": {
          "color": "rgb(255,65,54)"
         },
         "mode": "lines",
         "showlegend": false,
         "type": "scatter",
         "x": [
          0,
          -227.13872413131145,
          -227.13872413131145,
          0
         ],
         "xaxis": "x2",
         "y": [
          515,
          515,
          525,
          525
         ],
         "yaxis": "y"
        },
        {
         "hoverinfo": "text",
         "marker": {
          "color": "rgb(255,65,54)"
         },
         "mode": "lines",
         "showlegend": false,
         "type": "scatter",
         "x": [
          0,
          -317.98742113486185,
          -317.98742113486185,
          -227.13872413131145
         ],
         "xaxis": "x2",
         "y": [
          505,
          505,
          520,
          520
         ],
         "yaxis": "y"
        },
        {
         "hoverinfo": "text",
         "marker": {
          "color": "rgb(255,65,54)"
         },
         "mode": "lines",
         "showlegend": false,
         "type": "scatter",
         "x": [
          0,
          -282.57742301889584,
          -282.57742301889584,
          0
         ],
         "xaxis": "x2",
         "y": [
          545,
          545,
          555,
          555
         ],
         "yaxis": "y"
        },
        {
         "hoverinfo": "text",
         "marker": {
          "color": "rgb(255,65,54)"
         },
         "mode": "lines",
         "showlegend": false,
         "type": "scatter",
         "x": [
          0,
          -555.665966806198,
          -555.665966806198,
          -282.57742301889584
         ],
         "xaxis": "x2",
         "y": [
          535,
          535,
          550,
          550
         ],
         "yaxis": "y"
        },
        {
         "hoverinfo": "text",
         "marker": {
          "color": "rgb(255,65,54)"
         },
         "mode": "lines",
         "showlegend": false,
         "type": "scatter",
         "x": [
          -317.98742113486185,
          -891.833878402624,
          -891.833878402624,
          -555.665966806198
         ],
         "xaxis": "x2",
         "y": [
          512.5,
          512.5,
          542.5,
          542.5
         ],
         "yaxis": "y"
        },
        {
         "hoverinfo": "text",
         "marker": {
          "color": "rgb(255,65,54)"
         },
         "mode": "lines",
         "showlegend": false,
         "type": "scatter",
         "x": [
          -443.43545189801864,
          -1343.3807683932687,
          -1343.3807683932687,
          -891.833878402624
         ],
         "xaxis": "x2",
         "y": [
          482.5,
          482.5,
          527.5,
          527.5
         ],
         "yaxis": "y"
        },
        {
         "hoverinfo": "text",
         "marker": {
          "color": "rgb(255,65,54)"
         },
         "mode": "lines",
         "showlegend": false,
         "type": "scatter",
         "x": [
          -988.9320959884914,
          -3232.929094146325,
          -3232.929094146325,
          -1343.3807683932687
         ],
         "xaxis": "x2",
         "y": [
          386.25,
          386.25,
          505,
          505
         ],
         "yaxis": "y"
        },
        {
         "hoverinfo": "text",
         "marker": {
          "color": "rgb(255,65,54)"
         },
         "mode": "lines",
         "showlegend": false,
         "type": "scatter",
         "x": [
          -2244.6390724051757,
          -6903.816613593309,
          -6903.816613593309,
          -3232.929094146325
         ],
         "xaxis": "x2",
         "y": [
          202.5,
          202.5,
          445.625,
          445.625
         ],
         "yaxis": "y"
        },
        {
         "hoverinfo": "text",
         "marker": {
          "color": "rgb(0,116,217)"
         },
         "mode": "lines",
         "showlegend": false,
         "type": "scatter",
         "x": [
          -3430.091698571054,
          -12415.024834968553,
          -12415.024834968553,
          -6903.816613593309
         ],
         "xaxis": "x2",
         "y": [
          56.40625,
          56.40625,
          324.0625,
          324.0625
         ],
         "yaxis": "y"
        },
        {
         "colorbar": {
          "len": 0.4,
          "title": {
           "text": "Distance"
          },
          "y": 0.2,
          "ypad": 5
         },
         "colorscale": [
          [
           0,
           "rgb(255,255,204)"
          ],
          [
           0.125,
           "rgb(255,237,160)"
          ],
          [
           0.25,
           "rgb(254,217,118)"
          ],
          [
           0.375,
           "rgb(254,178,76)"
          ],
          [
           0.5,
           "rgb(253,141,60)"
          ],
          [
           0.625,
           "rgb(252,78,42)"
          ],
          [
           0.75,
           "rgb(227,26,28)"
          ],
          [
           0.875,
           "rgb(189,0,38)"
          ],
          [
           1,
           "rgb(128,0,38)"
          ]
         ],
         "reversescale": true,
         "showlegend": false,
         "type": "heatmap",
         "x": [
          5,
          15,
          25,
          35,
          45,
          55,
          65,
          75,
          85,
          95,
          105,
          115,
          125,
          135,
          145,
          155,
          165,
          175,
          185,
          195,
          205,
          215,
          225,
          235,
          245,
          255,
          265,
          275,
          285,
          295,
          305,
          315,
          325,
          335,
          345,
          355,
          365,
          375,
          385,
          395,
          405,
          415,
          425,
          435,
          445,
          455,
          465,
          475,
          485,
          495,
          505,
          515,
          525,
          535,
          545,
          555
         ],
         "y": [
          5,
          15,
          25,
          35,
          45,
          55,
          65,
          75,
          85,
          95,
          105,
          115,
          125,
          135,
          145,
          155,
          165,
          175,
          185,
          195,
          205,
          215,
          225,
          235,
          245,
          255,
          265,
          275,
          285,
          295,
          305,
          315,
          325,
          335,
          345,
          355,
          365,
          375,
          385,
          395,
          405,
          415,
          425,
          435,
          445,
          455,
          465,
          475,
          485,
          495,
          505,
          515,
          525,
          535,
          545,
          555
         ],
         "z": [
          [
           0,
           0.10313780102869577,
           0.09969746216155435,
           0.08343314696849757,
           0.0859607961222706,
           0.09258945856362713,
           0.09367551247417766,
           0.09510846252513565,
           0.11474986259796054,
           0.1205724381155472,
           0.12237378919131492,
           0.08971802577820173,
           0.08441292313731073,
           0.08485828515144817,
           0.08577563693343393,
           0.09709466585578026,
           0.09734268261967156,
           0.10235767024652184,
           0.10241979258920664,
           0.10102322745374516,
           0.10317836268479963,
           0.1019273748352467,
           0.07252200989457379,
           0.07688201059541229,
           0.0781647660412912,
           0.056268867135540704,
           0.06182057584615718,
           0.062648964216967,
           0.08303659559887158,
           0.07248583303345105,
           0.07516466792958316,
           0.07612223675295823,
           0.11632700089409986,
           0.11971050963896364,
           0.11903105526047475,
           0.11273081741425194,
           0.1150940431628079,
           0.11798208124179616,
           0.11876145101323557,
           0.13235468710901183,
           0.1322033402663294,
           0.133097374870789,
           0.12727473742399115,
           0.12855091832589124,
           0.1289297302069615,
           0.1290369078154683,
           0.12474140652565507,
           0.10541701979905989,
           0.09912618018610736,
           0.1160619061810589,
           0.10046497490443679,
           0.10412853831137141,
           0.10233056113182296,
           0.07620981916181697,
           0.08715113419806972,
           0.08072131476641431
          ],
          [
           0.10313780102869577,
           0,
           0.06192645888579547,
           0.056004784122907214,
           0.04564158576227463,
           0.07749056939234969,
           0.06805652958380105,
           0.07093687257177127,
           0.05626956177077591,
           0.12390985353968825,
           0.12206383893059276,
           0.15258915011479576,
           0.15164613643969213,
           0.14898435727494133,
           0.15028794054904004,
           0.15667830906891997,
           0.1585936753606573,
           0.16192934573463505,
           0.1635872671725633,
           0.1613381580114964,
           0.16287795668633673,
           0.16306159366566828,
           0.1404652762564977,
           0.1458633507282876,
           0.1455807050543541,
           0.12505443745214148,
           0.1266063215338992,
           0.12900907026227781,
           0.14269295447488234,
           0.13281386061931036,
           0.1356978131539335,
           0.13883124065129243,
           0.15478608861362553,
           0.15752121660876003,
           0.15738910586520918,
           0.15325085407609373,
           0.1555037456046476,
           0.15335170581634133,
           0.15565103708743952,
           0.1742821765358742,
           0.17366610822235276,
           0.17504468169833862,
           0.16775268806963745,
           0.17010587439481345,
           0.16998522760327844,
           0.1654048147150469,
           0.1619850420990985,
           0.1502528055723406,
           0.13971915727622852,
           0.15718212871882162,
           0.13370562298105226,
           0.1414523852271584,
           0.14176766827279833,
           0.11064496879835749,
           0.12151759275647361,
           0.12365721412026165
          ],
          [
           0.09969746216155435,
           0.06192645888579547,
           0,
           0.06597332993045364,
           0.0647429815259251,
           0.04469342370009531,
           0.04336627372867532,
           0.03573338832430064,
           0.08137731734160378,
           0.12733306438562542,
           0.10193204530313124,
           0.15076722654617583,
           0.1477205756263514,
           0.14579500891973826,
           0.14786524336344573,
           0.1356531682504633,
           0.13935419067033,
           0.14322709163346614,
           0.14570609886691022,
           0.14328479374904865,
           0.1445719964629747,
           0.1438722526773801,
           0.1372650680492547,
           0.14242360715961386,
           0.14403557621041246,
           0.12197133640929321,
           0.12444362729746822,
           0.12690380010453428,
           0.12056497062432046,
           0.10970493212101066,
           0.11648749888274057,
           0.11952519379844961,
           0.156566409278792,
           0.160947993436448,
           0.16008196196452584,
           0.15451759011281646,
           0.15867415564539472,
           0.1566718497008262,
           0.15746572944949527,
           0.151094624519963,
           0.15100810447934238,
           0.1527828124474474,
           0.14636712651134023,
           0.1464683231659716,
           0.14591003199698852,
           0.1432759155451664,
           0.1403878246919869,
           0.1507874933595258,
           0.14114362927486518,
           0.13272223831938,
           0.10835039620681976,
           0.11938660751940769,
           0.11823198361381233,
           0.11868300766084165,
           0.12695801388517183,
           0.1260604574452517
          ],
          [
           0.08343314696849757,
           0.056004784122907214,
           0.06597332993045364,
           0,
           0.033479925041189615,
           0.05798456668804435,
           0.05975536142457117,
           0.05942515065516381,
           0.06802361190078436,
           0.11039253989737025,
           0.11414821096219288,
           0.12244463086926224,
           0.12043088303639095,
           0.1193242103544903,
           0.11864111025371578,
           0.1267456214798241,
           0.12800917227890665,
           0.13290142567748348,
           0.1337134392972557,
           0.13173966015727942,
           0.13373303929676253,
           0.13201009277233447,
           0.10908946888985703,
           0.11370182684515266,
           0.11664674881962267,
           0.09742136356378732,
           0.09612835289538828,
           0.10015886284312987,
           0.1126647609198318,
           0.10499843439728258,
           0.11019352686019353,
           0.11047810809743772,
           0.12242074012218981,
           0.12542867083050313,
           0.12521624941442056,
           0.12127076337919353,
           0.12416939752027994,
           0.12339619360198034,
           0.12701603564712313,
           0.1426322677478104,
           0.14273259753913103,
           0.14420623794376994,
           0.13763239921409895,
           0.13990011477037634,
           0.14013492590134927,
           0.13830614693986398,
           0.13378643450814579,
           0.11799238951893827,
           0.10921471960226303,
           0.12789253908531992,
           0.1106530905781663,
           0.11538285172759023,
           0.11553303927617485,
           0.08601615959162583,
           0.09682549462059192,
           0.09463375753049924
          ],
          [
           0.0859607961222706,
           0.04564158576227463,
           0.0647429815259251,
           0.033479925041189615,
           0,
           0.06339583568186848,
           0.05747899586262913,
           0.059197337866186285,
           0.06345290734399416,
           0.11863722148292599,
           0.12102511414001917,
           0.12984813140650256,
           0.12739612807872194,
           0.1254718275355218,
           0.12595761654667537,
           0.13363366868187018,
           0.13521969192024205,
           0.1390910212136162,
           0.14057215888640165,
           0.1382267872891898,
           0.13984742373116926,
           0.13931498862947533,
           0.1162570510874255,
           0.12175397893003662,
           0.12304725321193008,
           0.10302561748528263,
           0.10384421474675132,
           0.10711103118943435,
           0.11966261067389307,
           0.11174012993503249,
           0.11461129765119764,
           0.11618933082718744,
           0.12947977524532492,
           0.13369245928287385,
           0.13187319884726226,
           0.12857142857142856,
           0.13007053603276367,
           0.1290297913134625,
           0.13280673606195145,
           0.14959214888918,
           0.14936175083727507,
           0.15067244719121853,
           0.14410755106143755,
           0.14673847439528298,
           0.14673375798071991,
           0.142434674811623,
           0.13897175535567538,
           0.12365658326071621,
           0.1155323075512286,
           0.13383193216833678,
           0.11335792296071039,
           0.1184147657213317,
           0.11978838595989535,
           0.08695978332109382,
           0.09931267474370922,
           0.09912398790361916
          ],
          [
           0.09258945856362713,
           0.07749056939234969,
           0.04469342370009531,
           0.05798456668804435,
           0.06339583568186848,
           0,
           0.03928845768485739,
           0.035129754695421664,
           0.09856981418294924,
           0.12723957630325253,
           0.1011568616700477,
           0.12613961707718702,
           0.12412323758988555,
           0.12236767216846899,
           0.12415255710461356,
           0.11247886241352806,
           0.11528368351842432,
           0.12036860744069151,
           0.12251996295514492,
           0.12009573565392094,
           0.12158430343438659,
           0.12025236785590314,
           0.11462500493155009,
           0.11842737503525956,
           0.11980327484923593,
           0.10072763419483101,
           0.10210636317298628,
           0.10549765389760812,
           0.09625324378699375,
           0.0871173685935273,
           0.09521303535817163,
           0.09573288236913517,
           0.13155109351328764,
           0.13598271488548427,
           0.13527321108942622,
           0.13024233542064514,
           0.1342115512044579,
           0.1320457683452203,
           0.13366746970158483,
           0.12515707785042723,
           0.1248480689703,
           0.1264794167314054,
           0.12104050752156378,
           0.12227804465264151,
           0.12241404642962092,
           0.11953071949455286,
           0.11518763420323608,
           0.12678802429140743,
           0.11692018439025495,
           0.10886527012788193,
           0.08947268337376613,
           0.0964846159117385,
           0.09673305921115426,
           0.09874742621825669,
           0.10472467526489025,
           0.10366612830485412
          ],
          [
           0.09367551247417766,
           0.06805652958380105,
           0.04336627372867532,
           0.05975536142457117,
           0.05747899586262913,
           0.03928845768485739,
           0,
           0.03385098623566789,
           0.09189668354626747,
           0.13595515954665907,
           0.11530140065863644,
           0.13688530143336913,
           0.1333339815075885,
           0.13178522437781698,
           0.1349388827628276,
           0.12523777477817413,
           0.1278152245087505,
           0.130306265198608,
           0.1327486426824175,
           0.1306117576383059,
           0.1318429758765919,
           0.13208224593480242,
           0.1253809803428124,
           0.12913091512779964,
           0.12875692507093012,
           0.1082533790176792,
           0.11244966315911124,
           0.11484396851400487,
           0.10734827927514871,
           0.10019988007195682,
           0.10424320610258855,
           0.10610374251914263,
           0.14149026706220402,
           0.14593720022785003,
           0.14481873954266591,
           0.14021529532902743,
           0.1430737543439006,
           0.14052438116942334,
           0.14211008951566664,
           0.13617336085912954,
           0.13629986265156327,
           0.138262313226342,
           0.13144816341117477,
           0.13452857341813287,
           0.1344055055348908,
           0.129058874921128,
           0.12597648188865293,
           0.13533046161274018,
           0.1261767222935387,
           0.1206617392242971,
           0.0964637539150671,
           0.1032268007474619,
           0.10561905424307762,
           0.10169638733058826,
           0.11186006328991051,
           0.11037065938353492
          ],
          [
           0.09510846252513565,
           0.07093687257177127,
           0.03573338832430064,
           0.05942515065516381,
           0.059197337866186285,
           0.035129754695421664,
           0.03385098623566789,
           0,
           0.09301933577895377,
           0.12951485264131793,
           0.10587596471394618,
           0.13530548915843751,
           0.13223481428437997,
           0.13030774269079243,
           0.13186660536278527,
           0.12131044160838957,
           0.12387807799399568,
           0.127768747071448,
           0.12986922943589546,
           0.12810720719852792,
           0.1289854652566517,
           0.12834390905842244,
           0.12110824850446014,
           0.12666674549589496,
           0.12811529328490562,
           0.10798761435268474,
           0.11063831484243522,
           0.11244174585498391,
           0.10598118253102441,
           0.09625774344470026,
           0.10134172084268007,
           0.10384303505930216,
           0.14208672642230213,
           0.14589576486752445,
           0.1447653100519218,
           0.13972374852235622,
           0.14290679422976307,
           0.14163985578107388,
           0.1424208897427655,
           0.1368124118476728,
           0.13697635625047339,
           0.13839321149114242,
           0.13144155638544566,
           0.1320266684505095,
           0.13167156570191926,
           0.12906184559802883,
           0.12650302717416811,
           0.13527734318234577,
           0.12643392522274705,
           0.11815001648657765,
           0.09372410009377469,
           0.10375552552488872,
           0.10268253308457471,
           0.10424399253325958,
           0.11257768651076586,
           0.11121566300106005
          ],
          [
           0.11474986259796054,
           0.05626956177077591,
           0.08137731734160378,
           0.06802361190078436,
           0.06345290734399416,
           0.09856981418294924,
           0.09189668354626747,
           0.09301933577895377,
           0,
           0.12328043575656111,
           0.12354427777959442,
           0.17448832004137071,
           0.17044527346017543,
           0.16861358525620956,
           0.17005003092486787,
           0.17744938210949665,
           0.1786897813327709,
           0.18292744223264568,
           0.1841642370063372,
           0.18213175779515728,
           0.1836207747322797,
           0.18285842043035228,
           0.15883223440471048,
           0.1634650190864815,
           0.16802496321351845,
           0.14323716282623017,
           0.14482500156155656,
           0.14965519113247217,
           0.16192088909347976,
           0.15297636828131625,
           0.15609303649980424,
           0.15746729269424156,
           0.1735892839126757,
           0.1783668230982736,
           0.1769306303636691,
           0.17266486008767565,
           0.17537776636274133,
           0.17443076050163805,
           0.17713453911391863,
           0.19413285990416135,
           0.19400356463741253,
           0.19555214871253992,
           0.18864305840784848,
           0.19148228248211613,
           0.19133715157274947,
           0.18796574200688973,
           0.1838844712263201,
           0.1672921798725644,
           0.16101125901308802,
           0.17840247668238285,
           0.1561427005966151,
           0.1612647760552028,
           0.1627665987254469,
           0.12751248899545797,
           0.14257230335291413,
           0.14161308783127402
          ],
          [
           0.1205724381155472,
           0.12390985353968825,
           0.12733306438562542,
           0.11039253989737025,
           0.11863722148292599,
           0.12723957630325253,
           0.13595515954665907,
           0.12951485264131793,
           0.12328043575656111,
           0,
           0.06456177882112397,
           0.1578360267227818,
           0.15713171292494663,
           0.15241278678684894,
           0.1505726455667715,
           0.16122275907243783,
           0.16347084789707741,
           0.17136658553893014,
           0.17064612160521153,
           0.16904335742191864,
           0.17050317655278333,
           0.1688106398104748,
           0.13210160980029015,
           0.14481464374732128,
           0.14246524435945027,
           0.14126367928244857,
           0.14094926736377347,
           0.1388121970025032,
           0.16001097617255874,
           0.14994452135135422,
           0.1517901591558575,
           0.1524970692663379,
           0.18933560329981994,
           0.19115055313927543,
           0.1900774343863496,
           0.18523091488249624,
           0.1876603144129542,
           0.1898489003433726,
           0.19042597562031274,
           0.20304452195800285,
           0.2020258753884515,
           0.20276529017098582,
           0.19705313261491353,
           0.19751261292971958,
           0.197776460298546,
           0.19696066921910674,
           0.19160846901802958,
           0.18133190745861022,
           0.16948964728020743,
           0.18424173217971804,
           0.17875923105657884,
           0.18431531980201038,
           0.17981612842057618,
           0.16614698588623475,
           0.17086556886534343,
           0.16680639812135006
          ],
          [
           0.12237378919131492,
           0.12206383893059276,
           0.10193204530313124,
           0.11414821096219288,
           0.12102511414001917,
           0.1011568616700477,
           0.11530140065863644,
           0.10587596471394618,
           0.12354427777959442,
           0.06456177882112397,
           0,
           0.16160302157165493,
           0.15868297608964754,
           0.15556349201462225,
           0.1562331713689573,
           0.14397254834078343,
           0.14949955244527627,
           0.15733112843213373,
           0.157311065189106,
           0.15489290874321673,
           0.15800553143605212,
           0.155089613483137,
           0.14021169006564277,
           0.1497451979615837,
           0.1496144171747389,
           0.13989591360618184,
           0.1424435848378769,
           0.14056756513342955,
           0.14114494217567874,
           0.12997613175105774,
           0.13749393511040725,
           0.13596210231956343,
           0.19030383697805384,
           0.19346171591186653,
           0.1921453449183474,
           0.18564219366680168,
           0.1897295989258895,
           0.19038969745632567,
           0.19007299839950034,
           0.18706979612286584,
           0.18561641062031542,
           0.18704130804638894,
           0.18124901536325072,
           0.18175962501067075,
           0.18121620965785004,
           0.1805704854452272,
           0.17580338040432286,
           0.1819194645959328,
           0.17066853720390654,
           0.16568244198619314,
           0.16130293000476323,
           0.16843987717568595,
           0.16424097925374975,
           0.165335081663423,
           0.16819141735756404,
           0.16375997695621886
          ],
          [
           0.08971802577820173,
           0.15258915011479576,
           0.15076722654617583,
           0.12244463086926224,
           0.12984813140650256,
           0.12613961707718702,
           0.13688530143336913,
           0.13530548915843751,
           0.17448832004137071,
           0.1578360267227818,
           0.16160302157165493,
           0,
           0.02291126855963273,
           0.02277021698210254,
           0.02173149617218073,
           0.04720733121483736,
           0.046044644360005584,
           0.04582568505747535,
           0.04440957628081336,
           0.044199042185394125,
           0.04501438901416121,
           0.04561124983759213,
           0.04179193840762705,
           0.02887299941260506,
           0.03294037637312182,
           0.055335098225303074,
           0.05149266039914234,
           0.04791298101741372,
           0.06001942071204446,
           0.0674047649241593,
           0.06566678759997717,
           0.06223412924408927,
           0.049900825080235266,
           0.05002471033990445,
           0.047297494761054215,
           0.04381513311682132,
           0.045004332650926425,
           0.049274672680314616,
           0.04712398012561331,
           0.07369272734100553,
           0.07304492484060332,
           0.07278192049510071,
           0.06785853812170099,
           0.06981656323090503,
           0.06968968580279473,
           0.06962978813727504,
           0.0669738591664543,
           0.04519806490612844,
           0.04253740157133313,
           0.06462025936236587,
           0.0741830299555683,
           0.0727405483477263,
           0.06909370730516907,
           0.07101472183311622,
           0.06102621083538651,
           0.05571700985440357
          ],
          [
           0.08441292313731073,
           0.15164613643969213,
           0.1477205756263514,
           0.12043088303639095,
           0.12739612807872194,
           0.12412323758988555,
           0.1333339815075885,
           0.13223481428437997,
           0.17044527346017543,
           0.15713171292494663,
           0.15868297608964754,
           0.02291126855963273,
           0,
           0.02148976621700731,
           0.023368365082551586,
           0.046856241889296664,
           0.045566688484970544,
           0.045143492388649085,
           0.044235547427821806,
           0.04367812812607546,
           0.0456788380393075,
           0.045949380436705885,
           0.040228135900231124,
           0.027441655530025234,
           0.0326288434812622,
           0.04464011980832155,
           0.04516307148641684,
           0.04185124845246508,
           0.0526382819237389,
           0.06172392852066724,
           0.058731265571563065,
           0.054995742395624325,
           0.051718236227659815,
           0.053721386211625734,
           0.0517285721436573,
           0.04685363645997835,
           0.04862974286447176,
           0.05447457345446488,
           0.05099776733092039,
           0.07431172534825052,
           0.07408353754422188,
           0.0736405215653816,
           0.06903267167446868,
           0.07096500544850132,
           0.07116598496048634,
           0.07103957694033743,
           0.06883880749259774,
           0.04360314092349028,
           0.04650944615259347,
           0.06525563901853158,
           0.07145607311851172,
           0.06922776389238254,
           0.06628959640244916,
           0.066954714564361,
           0.0571835677874586,
           0.05015603256739903
          ],
          [
           0.08485828515144817,
           0.14898435727494133,
           0.14579500891973826,
           0.1193242103544903,
           0.1254718275355218,
           0.12236767216846899,
           0.13178522437781698,
           0.13030774269079243,
           0.16861358525620956,
           0.15241278678684894,
           0.15556349201462225,
           0.02277021698210254,
           0.02148976621700731,
           0,
           0.01727624134275232,
           0.04814838985693257,
           0.047402575057548496,
           0.05067858991316349,
           0.04981537561234802,
           0.04891513212006278,
           0.04949133505648233,
           0.049731613451368215,
           0.034654605996640456,
           0.021374614184087603,
           0.0287591654433812,
           0.04969788180327501,
           0.04868963854974924,
           0.04516510354518183,
           0.057288889133235474,
           0.0629841609859684,
           0.06039308047193507,
           0.05808421395858961,
           0.05891097467783741,
           0.060788950050048834,
           0.057547455099706976,
           0.053334639525852115,
           0.05563457339962688,
           0.05820299495031367,
           0.05476652185372205,
           0.08103043364974298,
           0.08077020031976574,
           0.08053679695506792,
           0.07478268131929316,
           0.07716692910378448,
           0.07678197975362511,
           0.07566420780090864,
           0.07292269185062102,
           0.051325139066501796,
           0.04979196896825878,
           0.07030513713223788,
           0.07628410151401209,
           0.0750409647559363,
           0.07221996029415474,
           0.07194003955213457,
           0.06350981584433635,
           0.057038354002828646
          ],
          [
           0.08577563693343393,
           0.15028794054904004,
           0.14786524336344573,
           0.11864111025371578,
           0.12595761654667537,
           0.12415255710461356,
           0.1349388827628276,
           0.13186660536278527,
           0.17005003092486787,
           0.1505726455667715,
           0.1562331713689573,
           0.02173149617218073,
           0.023368365082551586,
           0.01727624134275232,
           0,
           0.048172589199788715,
           0.04751870078562276,
           0.051608252155574366,
           0.05031589619760216,
           0.04946793831023372,
           0.04981787092185334,
           0.0494720846101617,
           0.03145673262333502,
           0.02181905356218055,
           0.0303454149641883,
           0.05268544874524658,
           0.05026723721673688,
           0.04555621084491526,
           0.059235730521588224,
           0.06518084762933193,
           0.06316885434871528,
           0.060460971930551034,
           0.058078390975118695,
           0.05790555267973539,
           0.05572340875742765,
           0.051908828725655186,
           0.053033614718652415,
           0.057537725592520114,
           0.055720354851689344,
           0.08163437512377325,
           0.08117859912121995,
           0.08074908482304283,
           0.07536273154739993,
           0.07756065192043479,
           0.07738817509239293,
           0.07648083017028241,
           0.07375222582552327,
           0.050828806974986374,
           0.049495686204749624,
           0.07070272177864044,
           0.07782887087470458,
           0.07706650984667021,
           0.0736600642148068,
           0.07260283016791742,
           0.06539750646498793,
           0.05861096901291945
          ],
          [
           0.09709466585578026,
           0.15667830906891997,
           0.1356531682504633,
           0.1267456214798241,
           0.13363366868187018,
           0.11247886241352806,
           0.12523777477817413,
           0.12131044160838957,
           0.17744938210949665,
           0.16122275907243783,
           0.14397254834078343,
           0.04720733121483736,
           0.046856241889296664,
           0.04814838985693257,
           0.048172589199788715,
           0,
           0.01806703418257687,
           0.026025808063681308,
           0.024297625860418347,
           0.020646210699788115,
           0.023814205579409883,
           0.02113396164352216,
           0.05951919706278482,
           0.050694299008404435,
           0.05134987031015965,
           0.06630364079023175,
           0.061408660209831795,
           0.058161766334236385,
           0.04283231576936025,
           0.046895655320625965,
           0.04883391363227671,
           0.046430345284303086,
           0.07407503471267587,
           0.07484158482385198,
           0.07425055418591643,
           0.06894094995812176,
           0.07220087059178398,
           0.07399820965091655,
           0.0711572304144669,
           0.05912421897097015,
           0.05701044225201367,
           0.05678164229347923,
           0.051823967202121075,
           0.051980415726054705,
           0.05044948667069278,
           0.0528798660672506,
           0.048390915865200466,
           0.066978563780277,
           0.06331619500863998,
           0.04337792483548212,
           0.06220948123673939,
           0.0640129332034303,
           0.05835856037672385,
           0.08286764464333296,
           0.07328662983584283,
           0.06951083895379905
          ],
          [
           0.09734268261967156,
           0.1585936753606573,
           0.13935419067033,
           0.12800917227890665,
           0.13521969192024205,
           0.11528368351842432,
           0.1278152245087505,
           0.12387807799399568,
           0.1786897813327709,
           0.16347084789707741,
           0.14949955244527627,
           0.046044644360005584,
           0.045566688484970544,
           0.047402575057548496,
           0.04751870078562276,
           0.01806703418257687,
           0,
           0.024042225015825466,
           0.02115653843550622,
           0.022090203296869736,
           0.018829172984431954,
           0.01635473540763602,
           0.05992903552831667,
           0.049571529938322145,
           0.051712213148410055,
           0.06568879564042816,
           0.06113530692719675,
           0.05841812888678296,
           0.04290311437557951,
           0.0496345060251631,
           0.04877818871397916,
           0.04589202848610154,
           0.07222450650791074,
           0.07265570925319477,
           0.07260975984186097,
           0.06767964194009302,
           0.07065560027989276,
           0.072463567543629,
           0.06996604767184035,
           0.057371377680345274,
           0.0567287770486915,
           0.05557562981318382,
           0.05051900485072243,
           0.0516017423427894,
           0.0510615189677019,
           0.0550889058579688,
           0.0509307175944851,
           0.06556354018994145,
           0.06333103969179119,
           0.04592687215084593,
           0.06396237338233232,
           0.06444085122465606,
           0.057652398206059996,
           0.08247074933129607,
           0.07245934430173827,
           0.06902603153074346
          ],
          [
           0.10235767024652184,
           0.16192934573463505,
           0.14322709163346614,
           0.13290142567748348,
           0.1390910212136162,
           0.12036860744069151,
           0.130306265198608,
           0.127768747071448,
           0.18292744223264568,
           0.17136658553893014,
           0.15733112843213373,
           0.04582568505747535,
           0.045143492388649085,
           0.05067858991316349,
           0.051608252155574366,
           0.026025808063681308,
           0.024042225015825466,
           0,
           0.013916311231857801,
           0.01916166817564509,
           0.01851714005182247,
           0.019014399047153158,
           0.06658376460691623,
           0.055910892072174534,
           0.05586296805967987,
           0.06794378235001566,
           0.06433194590678756,
           0.06154150081948022,
           0.04092290762805884,
           0.0508191081310573,
           0.045325353078595976,
           0.044979304560290284,
           0.06657246385510145,
           0.06731339482720018,
           0.06605963893378626,
           0.062102574883938944,
           0.06445762108690681,
           0.06776037543722879,
           0.06397517129912222,
           0.04914270170099543,
           0.048190311583502884,
           0.04770436958561695,
           0.044086843539700445,
           0.04071164565492164,
           0.04221982647979876,
           0.047258114969080105,
           0.04513246222271333,
           0.060273155023803905,
           0.060428062833107456,
           0.04040500791520887,
           0.056315086163063084,
           0.054936150789578905,
           0.04721646704887325,
           0.07980403579169033,
           0.06840948046996105,
           0.06537115121664865
          ],
          [
           0.10241979258920664,
           0.1635872671725633,
           0.14570609886691022,
           0.1337134392972557,
           0.14057215888640165,
           0.12251996295514492,
           0.1327486426824175,
           0.12986922943589546,
           0.1841642370063372,
           0.17064612160521153,
           0.157311065189106,
           0.04440957628081336,
           0.044235547427821806,
           0.04981537561234802,
           0.05031589619760216,
           0.024297625860418347,
           0.02115653843550622,
           0.013916311231857801,
           0,
           0.016817602930760088,
           0.016816467001733164,
           0.01685630974110932,
           0.06525968154692863,
           0.05457620761535188,
           0.05418794051100633,
           0.06765356868849111,
           0.06443863620622405,
           0.06116564988845587,
           0.0430550450119287,
           0.05286824340997702,
           0.048509547140436836,
           0.046484986130816544,
           0.06705060914609913,
           0.06719842657342658,
           0.06664021331435989,
           0.0626360971344076,
           0.06481904454420245,
           0.06774730269815948,
           0.06418602094762407,
           0.05019581735488626,
           0.049360624676063995,
           0.04847022383282078,
           0.04354794246117019,
           0.04315037365325934,
           0.0431949456323857,
           0.048403739344670405,
           0.04590273070800413,
           0.0603720938293429,
           0.060727907201038114,
           0.040835710806485286,
           0.05953280488152605,
           0.057881092200110625,
           0.050599514859853326,
           0.08060059669342932,
           0.06911422098112187,
           0.06589652416885214
          ],
          [
           0.10102322745374516,
           0.1613381580114964,
           0.14328479374904865,
           0.13173966015727942,
           0.1382267872891898,
           0.12009573565392094,
           0.1306117576383059,
           0.12810720719852792,
           0.18213175779515728,
           0.16904335742191864,
           0.15489290874321673,
           0.044199042185394125,
           0.04367812812607546,
           0.04891513212006278,
           0.04946793831023372,
           0.020646210699788115,
           0.022090203296869736,
           0.01916166817564509,
           0.016817602930760088,
           0,
           0.019262239917255255,
           0.0180057315116242,
           0.06376182331184305,
           0.05384708359115255,
           0.052609675866785846,
           0.06768467320959204,
           0.0630567220569974,
           0.060287123319721726,
           0.04376010628613251,
           0.05246488016648319,
           0.0500824568475831,
           0.04840896170721397,
           0.06787790921850179,
           0.06785905211505518,
           0.06735655548369214,
           0.06292147988951113,
           0.06554101531964752,
           0.06788272944891077,
           0.06468102800960172,
           0.05245345144831875,
           0.05090185811672305,
           0.05025125628140704,
           0.04528356184094226,
           0.04586312336877657,
           0.044571827267068424,
           0.04756621208477895,
           0.04509833016436097,
           0.06123064653154637,
           0.05995824781151869,
           0.04052697070161241,
           0.05893196838657802,
           0.05985163498529079,
           0.05425268285419525,
           0.08060049028469776,
           0.06978947068543102,
           0.06655196712105332
          ],
          [
           0.10317836268479963,
           0.16287795668633673,
           0.1445719964629747,
           0.13373303929676253,
           0.13984742373116926,
           0.12158430343438659,
           0.1318429758765919,
           0.1289854652566517,
           0.1836207747322797,
           0.17050317655278333,
           0.15800553143605212,
           0.04501438901416121,
           0.0456788380393075,
           0.04949133505648233,
           0.04981787092185334,
           0.023814205579409883,
           0.018829172984431954,
           0.01851714005182247,
           0.016816467001733164,
           0.019262239917255255,
           0,
           0.013977647125653261,
           0.06449261293075974,
           0.05388394366604648,
           0.05412728235558683,
           0.06921223437032992,
           0.06556445230754047,
           0.06271756575524173,
           0.04555170301684497,
           0.05565534888154084,
           0.05092291586313295,
           0.04956588756542734,
           0.06844158052289086,
           0.06794836903031891,
           0.06778103201113908,
           0.06368760592452478,
           0.06569466229792714,
           0.06841277075075024,
           0.06517033488373696,
           0.05247152691343058,
           0.051966062423333785,
           0.05039736317018857,
           0.04440377808067734,
           0.04657269564591802,
           0.04558401628808523,
           0.04867200275410965,
           0.04615187754622104,
           0.061612510860121636,
           0.061365074899781984,
           0.043362083249757995,
           0.061595944470552916,
           0.06091834673489711,
           0.05431113511516022,
           0.08121722554622579,
           0.0705472533826348,
           0.06783993460865576
          ],
          [
           0.1019273748352467,
           0.16306159366566828,
           0.1438722526773801,
           0.13201009277233447,
           0.13931498862947533,
           0.12025236785590314,
           0.13208224593480242,
           0.12834390905842244,
           0.18285842043035228,
           0.1688106398104748,
           0.155089613483137,
           0.04561124983759213,
           0.045949380436705885,
           0.049731613451368215,
           0.0494720846101617,
           0.02113396164352216,
           0.01635473540763602,
           0.019014399047153158,
           0.01685630974110932,
           0.0180057315116242,
           0.013977647125653261,
           0,
           0.063730482631282,
           0.053380564129548363,
           0.05386906165325169,
           0.06874372675208124,
           0.06444944444545989,
           0.061434785317214566,
           0.043830373905234456,
           0.053286456404823095,
           0.049529792079935346,
           0.04725637597621291,
           0.06975042637569495,
           0.06963965675727028,
           0.06907065517489737,
           0.06480586545896388,
           0.06749224726781837,
           0.07037689933012872,
           0.06683382729528707,
           0.05332899695034217,
           0.05199938663895184,
           0.05091752335096077,
           0.04590995866009257,
           0.04659221915593036,
           0.046172514499609234,
           0.05102595882393445,
           0.04781091447366146,
           0.06334300658592107,
           0.06242329400594306,
           0.04408996956244931,
           0.0633969560454681,
           0.062349822444943755,
           0.0552699000422857,
           0.08258795900320379,
           0.07204657238922639,
           0.06865384822225648
          ],
          [
           0.07252200989457379,
           0.1404652762564977,
           0.1372650680492547,
           0.10908946888985703,
           0.1162570510874255,
           0.11462500493155009,
           0.1253809803428124,
           0.12110824850446014,
           0.15883223440471048,
           0.13210160980029015,
           0.14021169006564277,
           0.04179193840762705,
           0.040228135900231124,
           0.034654605996640456,
           0.03145673262333502,
           0.05951919706278482,
           0.05992903552831667,
           0.06658376460691623,
           0.06525968154692863,
           0.06376182331184305,
           0.06449261293075974,
           0.063730482631282,
           0,
           0.02708646423537538,
           0.030584269662921347,
           0.05087970111130173,
           0.050536398250452585,
           0.044779791373332725,
           0.0673009299418903,
           0.06376758910043774,
           0.06176456079504274,
           0.061895689899085164,
           0.07606677064541771,
           0.07646003397910091,
           0.07463483265225322,
           0.07089808511471163,
           0.07206565978391484,
           0.07473217498905299,
           0.07481737247139648,
           0.09764258955439942,
           0.09729684175041611,
           0.09764758723296746,
           0.09092678645370668,
           0.09327975451674014,
           0.0929286862513028,
           0.09151338133887917,
           0.0880685464892388,
           0.06358762650153378,
           0.05933371542161507,
           0.08294734418479992,
           0.0865928845299109,
           0.08793728220448371,
           0.0849955267442031,
           0.07741442988807687,
           0.07494502337197352,
           0.06881073440055656
          ],
          [
           0.07688201059541229,
           0.1458633507282876,
           0.14242360715961386,
           0.11370182684515266,
           0.12175397893003662,
           0.11842737503525956,
           0.12913091512779964,
           0.12666674549589496,
           0.1634650190864815,
           0.14481464374732128,
           0.1497451979615837,
           0.02887299941260506,
           0.027441655530025234,
           0.021374614184087603,
           0.02181905356218055,
           0.050694299008404435,
           0.049571529938322145,
           0.055910892072174534,
           0.05457620761535188,
           0.05384708359115255,
           0.05388394366604648,
           0.053380564129548363,
           0.02708646423537538,
           0,
           0.030232579628722705,
           0.047422021195565295,
           0.04412844002518432,
           0.04110637836989952,
           0.05858678842330069,
           0.0598442290195844,
           0.05924507320689442,
           0.05590082921517715,
           0.06158429551510235,
           0.06363560332030024,
           0.0628673370886741,
           0.05639729900214892,
           0.06042833053458932,
           0.06210586393924221,
           0.06013919812065006,
           0.08594651739137969,
           0.0859933305703004,
           0.085720524093139,
           0.07946433096419378,
           0.0820961886527939,
           0.08192499934577238,
           0.08149113906748608,
           0.07797587714279175,
           0.05304130742868466,
           0.05232773640415356,
           0.07403434238663247,
           0.07988975701397333,
           0.07916608761097564,
           0.07625292044975379,
           0.07193595024917879,
           0.06551067786780787,
           0.05994269257249718
          ],
          [
           0.0781647660412912,
           0.1455807050543541,
           0.14403557621041246,
           0.11664674881962267,
           0.12304725321193008,
           0.11980327484923593,
           0.12875692507093012,
           0.12811529328490562,
           0.16802496321351845,
           0.14246524435945027,
           0.1496144171747389,
           0.03294037637312182,
           0.0326288434812622,
           0.0287591654433812,
           0.0303454149641883,
           0.05134987031015965,
           0.051712213148410055,
           0.05586296805967987,
           0.05418794051100633,
           0.052609675866785846,
           0.05412728235558683,
           0.05386906165325169,
           0.030584269662921347,
           0.030232579628722705,
           0,
           0.05119797758744293,
           0.04990965774579726,
           0.04480966848862432,
           0.05960979122999788,
           0.062392947764130895,
           0.05925080185384101,
           0.05733009708737864,
           0.06901697150141414,
           0.06942015031392579,
           0.06661554782937512,
           0.06448645562392946,
           0.06401635612185522,
           0.06767147003411579,
           0.06761962532197519,
           0.08721745704825716,
           0.08614866627478669,
           0.08608003225481302,
           0.08066404469963054,
           0.08298256689336059,
           0.08261189068131715,
           0.08076682437134883,
           0.07738975976156255,
           0.059693441174278584,
           0.05188880866944681,
           0.07380549038888028,
           0.07999788196327397,
           0.08028486191365802,
           0.0763168116983776,
           0.07311769804639172,
           0.0682593981123543,
           0.06250755607985083
          ],
          [
           0.056268867135540704,
           0.12505443745214148,
           0.12197133640929321,
           0.09742136356378732,
           0.10302561748528263,
           0.10072763419483101,
           0.1082533790176792,
           0.10798761435268474,
           0.14323716282623017,
           0.14126367928244857,
           0.13989591360618184,
           0.055335098225303074,
           0.04464011980832155,
           0.04969788180327501,
           0.05268544874524658,
           0.06630364079023175,
           0.06568879564042816,
           0.06794378235001566,
           0.06765356868849111,
           0.06768467320959204,
           0.06921223437032992,
           0.06874372675208124,
           0.05087970111130173,
           0.047422021195565295,
           0.05119797758744293,
           0,
           0.027289999752756294,
           0.025961545794977007,
           0.05141557745975964,
           0.0470749368595344,
           0.04514399972473171,
           0.0456319720263773,
           0.08129694305238368,
           0.08366096443462982,
           0.08355582135457827,
           0.07795684474213282,
           0.07860055161417752,
           0.08340221479948799,
           0.08194470515674024,
           0.09782053660562048,
           0.09770232808124239,
           0.0982248228002855,
           0.09258091073356926,
           0.09402207828920817,
           0.09445165880992618,
           0.09466660471831967,
           0.09121235842891103,
           0.07223597687293831,
           0.0701440951671124,
           0.08425680853492176,
           0.07121294030879438,
           0.07249851754453812,
           0.07040500513365983,
           0.055664669936328307,
           0.052139260655488316,
           0.04272656785852742
          ],
          [
           0.06182057584615718,
           0.1266063215338992,
           0.12444362729746822,
           0.09612835289538828,
           0.10384421474675132,
           0.10210636317298628,
           0.11244966315911124,
           0.11063831484243522,
           0.14482500156155656,
           0.14094926736377347,
           0.1424435848378769,
           0.05149266039914234,
           0.04516307148641684,
           0.04868963854974924,
           0.05026723721673688,
           0.061408660209831795,
           0.06113530692719675,
           0.06433194590678756,
           0.06443863620622405,
           0.0630567220569974,
           0.06556445230754047,
           0.06444944444545989,
           0.050536398250452585,
           0.04412844002518432,
           0.04990965774579726,
           0.027289999752756294,
           0,
           0.02039105354091334,
           0.04781457890485107,
           0.046231734847125276,
           0.04595714553443142,
           0.0459162452454845,
           0.07234394377842084,
           0.07338654873364014,
           0.07492481766630509,
           0.06712120808586572,
           0.07108343252281359,
           0.0760099634155834,
           0.07396739014901894,
           0.09135831004461628,
           0.09127225388660044,
           0.09150055589113287,
           0.08684250954880884,
           0.08695514288734628,
           0.08792706208783363,
           0.0883160714886504,
           0.08479587824747238,
           0.06498856571717718,
           0.06297971379603036,
           0.07774295571135738,
           0.06745133544590312,
           0.0704868237418931,
           0.06704643364779357,
           0.05370374173217763,
           0.04661441343759476,
           0.04314369847965956
          ],
          [
           0.062648964216967,
           0.12900907026227781,
           0.12690380010453428,
           0.10015886284312987,
           0.10711103118943435,
           0.10549765389760812,
           0.11484396851400487,
           0.11244174585498391,
           0.14965519113247217,
           0.1388121970025032,
           0.14056756513342955,
           0.04791298101741372,
           0.04185124845246508,
           0.04516510354518183,
           0.04555621084491526,
           0.058161766334236385,
           0.05841812888678296,
           0.06154150081948022,
           0.06116564988845587,
           0.060287123319721726,
           0.06271756575524173,
           0.061434785317214566,
           0.044779791373332725,
           0.04110637836989952,
           0.04480966848862432,
           0.025961545794977007,
           0.02039105354091334,
           0,
           0.04805444167243564,
           0.04599394726774818,
           0.042184451647675945,
           0.04254275407163666,
           0.07593360922373507,
           0.07637331319252413,
           0.07677157697842744,
           0.07096583587837886,
           0.07265551347810108,
           0.07908124814917926,
           0.07681435037458072,
           0.09256304814457941,
           0.09173992912011296,
           0.09231589994138562,
           0.08750876149614494,
           0.08754598225875097,
           0.08791620431559083,
           0.08858297065693534,
           0.08519478851990685,
           0.06755037153600477,
           0.06591995123491058,
           0.07866834356203524,
           0.0693341450141583,
           0.07130369264981273,
           0.06756375132490529,
           0.05824094383267332,
           0.05122914578789129,
           0.04650155646776206
          ],
          [
           0.08303659559887158,
           0.14269295447488234,
           0.12056497062432046,
           0.1126647609198318,
           0.11966261067389307,
           0.09625324378699375,
           0.10734827927514871,
           0.10598118253102441,
           0.16192088909347976,
           0.16001097617255874,
           0.14114494217567874,
           0.06001942071204446,
           0.0526382819237389,
           0.057288889133235474,
           0.059235730521588224,
           0.04283231576936025,
           0.04290311437557951,
           0.04092290762805884,
           0.0430550450119287,
           0.04376010628613251,
           0.04555170301684497,
           0.043830373905234456,
           0.0673009299418903,
           0.05858678842330069,
           0.05960979122999788,
           0.05141557745975964,
           0.04781457890485107,
           0.04805444167243564,
           0,
           0.029486272408726966,
           0.029000824960575863,
           0.02437808631929397,
           0.07815306343515664,
           0.08070009263064054,
           0.07962872837199729,
           0.07507159500143103,
           0.07746797128713911,
           0.08107616351695109,
           0.07900352131182005,
           0.06720008312983841,
           0.06586652017724295,
           0.06724297066702686,
           0.06392557704162803,
           0.06319938386263761,
           0.0630008978460412,
           0.06867162477607079,
           0.06507110197058807,
           0.0710023497129602,
           0.06844098979889454,
           0.05537807310856956,
           0.04687738752701316,
           0.045025547241204555,
           0.04049594100211766,
           0.06646936504919933,
           0.05948992030345364,
           0.054635903593790204
          ],
          [
           0.07248583303345105,
           0.13281386061931036,
           0.10970493212101066,
           0.10499843439728258,
           0.11174012993503249,
           0.0871173685935273,
           0.10019988007195682,
           0.09625774344470026,
           0.15297636828131625,
           0.14994452135135422,
           0.12997613175105774,
           0.0674047649241593,
           0.06172392852066724,
           0.0629841609859684,
           0.06518084762933193,
           0.046895655320625965,
           0.0496345060251631,
           0.0508191081310573,
           0.05286824340997702,
           0.05246488016648319,
           0.05565534888154084,
           0.053286456404823095,
           0.06376758910043774,
           0.0598442290195844,
           0.062392947764130895,
           0.0470749368595344,
           0.046231734847125276,
           0.04599394726774818,
           0.029486272408726966,
           0,
           0.02550675547387048,
           0.0273176182781897,
           0.08980879646114899,
           0.09278878321861037,
           0.09192304018847301,
           0.08585988077687327,
           0.089577927095045,
           0.09166771628120682,
           0.08972630359747248,
           0.08224250820423407,
           0.08087157881421148,
           0.08278644489155282,
           0.0777536955582471,
           0.07510278068800783,
           0.0754523535109986,
           0.07924157083904511,
           0.07555100424247398,
           0.0818555747210936,
           0.07655533654945605,
           0.06404655574935784,
           0.05078758685601971,
           0.055285998653435205,
           0.050685951838438985,
           0.07056836649865567,
           0.06548759989383976,
           0.06108286458082602
          ],
          [
           0.07516466792958316,
           0.1356978131539335,
           0.11648749888274057,
           0.11019352686019353,
           0.11461129765119764,
           0.09521303535817163,
           0.10424320610258855,
           0.10134172084268007,
           0.15609303649980424,
           0.1517901591558575,
           0.13749393511040725,
           0.06566678759997717,
           0.058731265571563065,
           0.06039308047193507,
           0.06316885434871528,
           0.04883391363227671,
           0.04877818871397916,
           0.045325353078595976,
           0.048509547140436836,
           0.0500824568475831,
           0.05092291586313295,
           0.049529792079935346,
           0.06176456079504274,
           0.05924507320689442,
           0.05925080185384101,
           0.04514399972473171,
           0.04595714553443142,
           0.042184451647675945,
           0.029000824960575863,
           0.02550675547387048,
           0,
           0.021575058732734846,
           0.08967561570889727,
           0.092378855015168,
           0.09066356657286047,
           0.08595018321814556,
           0.08808428471004885,
           0.09262580497229811,
           0.08941460002385102,
           0.08272565580793109,
           0.08190863130025772,
           0.08264788454908141,
           0.07796249312492237,
           0.07530593423011493,
           0.07645331434664172,
           0.07930797670007934,
           0.0758070859104072,
           0.08075643356593103,
           0.07779992434602963,
           0.0666483901978007,
           0.05123136129362747,
           0.05309877281043643,
           0.04569285635501305,
           0.07003883750164168,
           0.06456080993731925,
           0.060242975672747244
          ],
          [
           0.07612223675295823,
           0.13883124065129243,
           0.11952519379844961,
           0.11047810809743772,
           0.11618933082718744,
           0.09573288236913517,
           0.10610374251914263,
           0.10384303505930216,
           0.15746729269424156,
           0.1524970692663379,
           0.13596210231956343,
           0.06223412924408927,
           0.054995742395624325,
           0.05808421395858961,
           0.060460971930551034,
           0.046430345284303086,
           0.04589202848610154,
           0.044979304560290284,
           0.046484986130816544,
           0.04840896170721397,
           0.04956588756542734,
           0.04725637597621291,
           0.061895689899085164,
           0.05590082921517715,
           0.05733009708737864,
           0.0456319720263773,
           0.0459162452454845,
           0.04254275407163666,
           0.02437808631929397,
           0.0273176182781897,
           0.021575058732734846,
           0,
           0.0858049744112107,
           0.08828874474639306,
           0.08669153001226718,
           0.08238558740139598,
           0.08409898245806556,
           0.08862061833436159,
           0.08579318646498084,
           0.07805880963421143,
           0.07693519808948869,
           0.07795747837527643,
           0.07311977470117202,
           0.07218926993818586,
           0.07226831545385685,
           0.07704203869442587,
           0.07364569851947719,
           0.07697750207255367,
           0.07480161170147354,
           0.0641560738326658,
           0.051477767745992754,
           0.05101739469664101,
           0.04554128950177676,
           0.06804284483112406,
           0.0626489740303145,
           0.057568423149863115
          ],
          [
           0.11632700089409986,
           0.15478608861362553,
           0.156566409278792,
           0.12242074012218981,
           0.12947977524532492,
           0.13155109351328764,
           0.14149026706220402,
           0.14208672642230213,
           0.1735892839126757,
           0.18933560329981994,
           0.19030383697805384,
           0.049900825080235266,
           0.051718236227659815,
           0.05891097467783741,
           0.058078390975118695,
           0.07407503471267587,
           0.07222450650791074,
           0.06657246385510145,
           0.06705060914609913,
           0.06787790921850179,
           0.06844158052289086,
           0.06975042637569495,
           0.07606677064541771,
           0.06158429551510235,
           0.06901697150141414,
           0.08129694305238368,
           0.07234394377842084,
           0.07593360922373507,
           0.07815306343515664,
           0.08980879646114899,
           0.08967561570889727,
           0.0858049744112107,
           0,
           0.015568834476263746,
           0.016049442180983496,
           0.016898786115284784,
           0.01775226864188308,
           0.01695897666516764,
           0.018665341369614452,
           0.046821749415223005,
           0.0473026169196108,
           0.047023060416278364,
           0.04610232731372096,
           0.046706332482719486,
           0.04789682585794465,
           0.04657625592851606,
           0.04781041270032635,
           0.023070128952481894,
           0.03547088902691159,
           0.055058759962177496,
           0.06745647634719361,
           0.060502308548229196,
           0.06218404772995653,
           0.06327623632799155,
           0.046519135390070555,
           0.05178951310471811
          ],
          [
           0.11971050963896364,
           0.15752121660876003,
           0.160947993436448,
           0.12542867083050313,
           0.13369245928287385,
           0.13598271488548427,
           0.14593720022785003,
           0.14589576486752445,
           0.1783668230982736,
           0.19115055313927543,
           0.19346171591186653,
           0.05002471033990445,
           0.053721386211625734,
           0.060788950050048834,
           0.05790555267973539,
           0.07484158482385198,
           0.07265570925319477,
           0.06731339482720018,
           0.06719842657342658,
           0.06785905211505518,
           0.06794836903031891,
           0.06963965675727028,
           0.07646003397910091,
           0.06363560332030024,
           0.06942015031392579,
           0.08366096443462982,
           0.07338654873364014,
           0.07637331319252413,
           0.08070009263064054,
           0.09278878321861037,
           0.092378855015168,
           0.08828874474639306,
           0.015568834476263746,
           0,
           0.015500706082574412,
           0.016813624149781686,
           0.016863400802449233,
           0.018431144683323648,
           0.018388427691356343,
           0.046499850371768604,
           0.047028338748817504,
           0.0462829456281022,
           0.04655252136702559,
           0.047001465281429955,
           0.04741718084780735,
           0.04757442071068352,
           0.049937163390206166,
           0.02573759358781954,
           0.03846343014627941,
           0.0571760350050488,
           0.07029161268983766,
           0.064434826144385,
           0.0654597221674978,
           0.06683102194177842,
           0.050828677951987776,
           0.055605568678000546
          ],
          [
           0.11903105526047475,
           0.15738910586520918,
           0.16008196196452584,
           0.12521624941442056,
           0.13187319884726226,
           0.13527321108942622,
           0.14481873954266591,
           0.1447653100519218,
           0.1769306303636691,
           0.1900774343863496,
           0.1921453449183474,
           0.047297494761054215,
           0.0517285721436573,
           0.057547455099706976,
           0.05572340875742765,
           0.07425055418591643,
           0.07260975984186097,
           0.06605963893378626,
           0.06664021331435989,
           0.06735655548369214,
           0.06778103201113908,
           0.06907065517489737,
           0.07463483265225322,
           0.0628673370886741,
           0.06661554782937512,
           0.08355582135457827,
           0.07492481766630509,
           0.07677157697842744,
           0.07962872837199729,
           0.09192304018847301,
           0.09066356657286047,
           0.08669153001226718,
           0.016049442180983496,
           0.015500706082574412,
           0,
           0.01899752351327357,
           0.014623539186189971,
           0.01965245244046639,
           0.019557951985186246,
           0.04677635339132268,
           0.04667306113973242,
           0.04646681576979706,
           0.04623363859134165,
           0.04689278359738308,
           0.04703733416430745,
           0.04638427069531463,
           0.04877600222028282,
           0.02505232532747424,
           0.03663430596662442,
           0.05702277168131448,
           0.0697201632596709,
           0.062385308537153183,
           0.06421684555211933,
           0.06551079952142062,
           0.05142577424781446,
           0.054230152712719366
          ],
          [
           0.11273081741425194,
           0.15325085407609373,
           0.15451759011281646,
           0.12127076337919353,
           0.12857142857142856,
           0.13024233542064514,
           0.14021529532902743,
           0.13972374852235622,
           0.17266486008767565,
           0.18523091488249624,
           0.18564219366680168,
           0.04381513311682132,
           0.04685363645997835,
           0.053334639525852115,
           0.051908828725655186,
           0.06894094995812176,
           0.06767964194009302,
           0.062102574883938944,
           0.0626360971344076,
           0.06292147988951113,
           0.06368760592452478,
           0.06480586545896388,
           0.07089808511471163,
           0.05639729900214892,
           0.06448645562392946,
           0.07795684474213282,
           0.06712120808586572,
           0.07096583587837886,
           0.07507159500143103,
           0.08585988077687327,
           0.08595018321814556,
           0.08238558740139598,
           0.016898786115284784,
           0.016813624149781686,
           0.01899752351327357,
           0,
           0.018498568333788497,
           0.019454471516143445,
           0.016198789154335064,
           0.05008676225154258,
           0.05031640531720131,
           0.05017930650474947,
           0.04701778536608184,
           0.047899430034624685,
           0.048572448370299455,
           0.0478246741282449,
           0.04747195359135356,
           0.020153356188003325,
           0.03191729477586419,
           0.05259425278970612,
           0.06514386958372055,
           0.05968030377688112,
           0.06040778537030256,
           0.06213310514101792,
           0.045823748408295256,
           0.04935045022441527
          ],
          [
           0.1150940431628079,
           0.1555037456046476,
           0.15867415564539472,
           0.12416939752027994,
           0.13007053603276367,
           0.1342115512044579,
           0.1430737543439006,
           0.14290679422976307,
           0.17537776636274133,
           0.1876603144129542,
           0.1897295989258895,
           0.045004332650926425,
           0.04862974286447176,
           0.05563457339962688,
           0.053033614718652415,
           0.07220087059178398,
           0.07065560027989276,
           0.06445762108690681,
           0.06481904454420245,
           0.06554101531964752,
           0.06569466229792714,
           0.06749224726781837,
           0.07206565978391484,
           0.06042833053458932,
           0.06401635612185522,
           0.07860055161417752,
           0.07108343252281359,
           0.07265551347810108,
           0.07746797128713911,
           0.089577927095045,
           0.08808428471004885,
           0.08409898245806556,
           0.01775226864188308,
           0.016863400802449233,
           0.014623539186189971,
           0.018498568333788497,
           0,
           0.020380017364589595,
           0.02009549539910122,
           0.04934319315280515,
           0.04934686752868571,
           0.0488271465112011,
           0.04690534091837194,
           0.04840394390185486,
           0.048736206773179525,
           0.048231489759937164,
           0.04923431748253861,
           0.022722558121885197,
           0.035310775424560084,
           0.05621477055368417,
           0.06841505131128849,
           0.061528333765901166,
           0.06287232704294136,
           0.06304616265569203,
           0.04826089439716717,
           0.04991943431941555
          ],
          [
           0.11798208124179616,
           0.15335170581634133,
           0.1566718497008262,
           0.12339619360198034,
           0.1290297913134625,
           0.1320457683452203,
           0.14052438116942334,
           0.14163985578107388,
           0.17443076050163805,
           0.1898489003433726,
           0.19038969745632567,
           0.049274672680314616,
           0.05447457345446488,
           0.05820299495031367,
           0.057537725592520114,
           0.07399820965091655,
           0.072463567543629,
           0.06776037543722879,
           0.06774730269815948,
           0.06788272944891077,
           0.06841277075075024,
           0.07037689933012872,
           0.07473217498905299,
           0.06210586393924221,
           0.06767147003411579,
           0.08340221479948799,
           0.0760099634155834,
           0.07908124814917926,
           0.08107616351695109,
           0.09166771628120682,
           0.09262580497229811,
           0.08862061833436159,
           0.01695897666516764,
           0.018431144683323648,
           0.01965245244046639,
           0.019454471516143445,
           0.020380017364589595,
           0,
           0.017086481106680294,
           0.04931322220680633,
           0.05017956095569728,
           0.04949141121620349,
           0.04694120487142988,
           0.04913244861477529,
           0.04963091381451113,
           0.04686709721788685,
           0.04773529387108402,
           0.02572153894617327,
           0.032249819811991064,
           0.05500945115662545,
           0.067903862862998,
           0.06285955614612465,
           0.06455305123107773,
           0.06274506363979264,
           0.04899833877567249,
           0.054276135896069264
          ],
          [
           0.11876145101323557,
           0.15565103708743952,
           0.15746572944949527,
           0.12701603564712313,
           0.13280673606195145,
           0.13366746970158483,
           0.14211008951566664,
           0.1424208897427655,
           0.17713453911391863,
           0.19042597562031274,
           0.19007299839950034,
           0.04712398012561331,
           0.05099776733092039,
           0.05476652185372205,
           0.055720354851689344,
           0.0711572304144669,
           0.06996604767184035,
           0.06397517129912222,
           0.06418602094762407,
           0.06468102800960172,
           0.06517033488373696,
           0.06683382729528707,
           0.07481737247139648,
           0.06013919812065006,
           0.06761962532197519,
           0.08194470515674024,
           0.07396739014901894,
           0.07681435037458072,
           0.07900352131182005,
           0.08972630359747248,
           0.08941460002385102,
           0.08579318646498084,
           0.018665341369614452,
           0.018388427691356343,
           0.019557951985186246,
           0.016198789154335064,
           0.02009549539910122,
           0.017086481106680294,
           0,
           0.04818244964112063,
           0.048628934439386345,
           0.048248536933438946,
           0.04461474088509325,
           0.046564240419996406,
           0.04706205427356473,
           0.04498906069018772,
           0.04653501416078663,
           0.024736400883189874,
           0.034841523192705816,
           0.05420138618487657,
           0.0673192577931374,
           0.06210450858069185,
           0.06281938371545916,
           0.06602790792457869,
           0.049306489554501974,
           0.0540920651642928
          ],
          [
           0.13235468710901183,
           0.1742821765358742,
           0.151094624519963,
           0.1426322677478104,
           0.14959214888918,
           0.12515707785042723,
           0.13617336085912954,
           0.1368124118476728,
           0.19413285990416135,
           0.20304452195800285,
           0.18706979612286584,
           0.07369272734100553,
           0.07431172534825052,
           0.08103043364974298,
           0.08163437512377325,
           0.05912421897097015,
           0.057371377680345274,
           0.04914270170099543,
           0.05019581735488626,
           0.05245345144831875,
           0.05247152691343058,
           0.05332899695034217,
           0.09764258955439942,
           0.08594651739137969,
           0.08721745704825716,
           0.09782053660562048,
           0.09135831004461628,
           0.09256304814457941,
           0.06720008312983841,
           0.08224250820423407,
           0.08272565580793109,
           0.07805880963421143,
           0.046821749415223005,
           0.046499850371768604,
           0.04677635339132268,
           0.05008676225154258,
           0.04934319315280515,
           0.04931322220680633,
           0.04818244964112063,
           0,
           0.013542070776266919,
           0.015240715628235809,
           0.02037861786834941,
           0.01934025286796501,
           0.01869963535793364,
           0.0235526143947522,
           0.026266108102992233,
           0.05320368136845213,
           0.06292611407583122,
           0.03429177981737392,
           0.05727044357091206,
           0.04816993675135515,
           0.0503511304167043,
           0.08657952274025796,
           0.0715797868608092,
           0.0747839119457292
          ],
          [
           0.1322033402663294,
           0.17366610822235276,
           0.15100810447934238,
           0.14273259753913103,
           0.14936175083727507,
           0.1248480689703,
           0.13629986265156327,
           0.13697635625047339,
           0.19400356463741253,
           0.2020258753884515,
           0.18561641062031542,
           0.07304492484060332,
           0.07408353754422188,
           0.08077020031976574,
           0.08117859912121995,
           0.05701044225201367,
           0.0567287770486915,
           0.048190311583502884,
           0.049360624676063995,
           0.05090185811672305,
           0.051966062423333785,
           0.05199938663895184,
           0.09729684175041611,
           0.0859933305703004,
           0.08614866627478669,
           0.09770232808124239,
           0.09127225388660044,
           0.09173992912011296,
           0.06586652017724295,
           0.08087157881421148,
           0.08190863130025772,
           0.07693519808948869,
           0.0473026169196108,
           0.047028338748817504,
           0.04667306113973242,
           0.05031640531720131,
           0.04934686752868571,
           0.05017956095569728,
           0.048628934439386345,
           0.013542070776266919,
           0,
           0.012128175667049662,
           0.02019732066257507,
           0.017930553063143007,
           0.017265803101980576,
           0.02252246291468724,
           0.024973833297336812,
           0.05375044650159739,
           0.06283657628274603,
           0.03312074808564388,
           0.057138399233239545,
           0.04886013429393636,
           0.04948249697341722,
           0.08701258080211302,
           0.07175099834921331,
           0.07498529598915858
          ],
          [
           0.133097374870789,
           0.17504468169833862,
           0.1527828124474474,
           0.14420623794376994,
           0.15067244719121853,
           0.1264794167314054,
           0.138262313226342,
           0.13839321149114242,
           0.19555214871253992,
           0.20276529017098582,
           0.18704130804638894,
           0.07278192049510071,
           0.0736405215653816,
           0.08053679695506792,
           0.08074908482304283,
           0.05678164229347923,
           0.05557562981318382,
           0.04770436958561695,
           0.04847022383282078,
           0.05025125628140704,
           0.05039736317018857,
           0.05091752335096077,
           0.09764758723296746,
           0.085720524093139,
           0.08608003225481302,
           0.0982248228002855,
           0.09150055589113287,
           0.09231589994138562,
           0.06724297066702686,
           0.08278644489155282,
           0.08264788454908141,
           0.07795747837527643,
           0.047023060416278364,
           0.0462829456281022,
           0.04646681576979706,
           0.05017930650474947,
           0.0488271465112011,
           0.04949141121620349,
           0.048248536933438946,
           0.015240715628235809,
           0.012128175667049662,
           0,
           0.019791206399662344,
           0.01788220351392127,
           0.01783021787367409,
           0.0235154488531549,
           0.024963391674220764,
           0.05383694125575049,
           0.06323489221861958,
           0.03501303258229276,
           0.05958245166154083,
           0.05131072647422737,
           0.05056553106075838,
           0.08787411528550493,
           0.07250126630799349,
           0.07580178935392844
          ],
          [
           0.12727473742399115,
           0.16775268806963745,
           0.14636712651134023,
           0.13763239921409895,
           0.14410755106143755,
           0.12104050752156378,
           0.13144816341117477,
           0.13144155638544566,
           0.18864305840784848,
           0.19705313261491353,
           0.18124901536325072,
           0.06785853812170099,
           0.06903267167446868,
           0.07478268131929316,
           0.07536273154739993,
           0.051823967202121075,
           0.05051900485072243,
           0.044086843539700445,
           0.04354794246117019,
           0.04528356184094226,
           0.04440377808067734,
           0.04590995866009257,
           0.09092678645370668,
           0.07946433096419378,
           0.08066404469963054,
           0.09258091073356926,
           0.08684250954880884,
           0.08750876149614494,
           0.06392557704162803,
           0.0777536955582471,
           0.07796249312492237,
           0.07311977470117202,
           0.04610232731372096,
           0.04655252136702559,
           0.04623363859134165,
           0.04701778536608184,
           0.04690534091837194,
           0.04694120487142988,
           0.04461474088509325,
           0.02037861786834941,
           0.02019732066257507,
           0.019791206399662344,
           0,
           0.01839766351497702,
           0.01699482621869265,
           0.020009664894769293,
           0.020034545783205127,
           0.049614905996704,
           0.057732344536671656,
           0.029389277546645963,
           0.05308479226525637,
           0.04558525642563605,
           0.04515590315242566,
           0.08137812194635033,
           0.06692412022321845,
           0.07057147610531132
          ],
          [
           0.12855091832589124,
           0.17010587439481345,
           0.1464683231659716,
           0.13990011477037634,
           0.14673847439528298,
           0.12227804465264151,
           0.13452857341813287,
           0.1320266684505095,
           0.19148228248211613,
           0.19751261292971958,
           0.18175962501067075,
           0.06981656323090503,
           0.07096500544850132,
           0.07716692910378448,
           0.07756065192043479,
           0.051980415726054705,
           0.0516017423427894,
           0.04071164565492164,
           0.04315037365325934,
           0.04586312336877657,
           0.04657269564591802,
           0.04659221915593036,
           0.09327975451674014,
           0.0820961886527939,
           0.08298256689336059,
           0.09402207828920817,
           0.08695514288734628,
           0.08754598225875097,
           0.06319938386263761,
           0.07510278068800783,
           0.07530593423011493,
           0.07218926993818586,
           0.046706332482719486,
           0.047001465281429955,
           0.04689278359738308,
           0.047899430034624685,
           0.04840394390185486,
           0.04913244861477529,
           0.046564240419996406,
           0.01934025286796501,
           0.017930553063143007,
           0.01788220351392127,
           0.01839766351497702,
           0,
           0.0122281776289754,
           0.02144535400547732,
           0.02350074405383242,
           0.05172509266888054,
           0.06004253231930129,
           0.029408495488182373,
           0.052355750168083165,
           0.0464277591864583,
           0.04292250907326674,
           0.08414392722914049,
           0.0684623476887953,
           0.07222238553304364
          ],
          [
           0.1289297302069615,
           0.16998522760327844,
           0.14591003199698852,
           0.14013492590134927,
           0.14673375798071991,
           0.12241404642962092,
           0.1344055055348908,
           0.13167156570191926,
           0.19133715157274947,
           0.197776460298546,
           0.18121620965785004,
           0.06968968580279473,
           0.07116598496048634,
           0.07678197975362511,
           0.07738817509239293,
           0.05044948667069278,
           0.0510615189677019,
           0.04221982647979876,
           0.0431949456323857,
           0.044571827267068424,
           0.04558401628808523,
           0.046172514499609234,
           0.0929286862513028,
           0.08192499934577238,
           0.08261189068131715,
           0.09445165880992618,
           0.08792706208783363,
           0.08791620431559083,
           0.0630008978460412,
           0.0754523535109986,
           0.07645331434664172,
           0.07226831545385685,
           0.04789682585794465,
           0.04741718084780735,
           0.04703733416430745,
           0.048572448370299455,
           0.048736206773179525,
           0.04963091381451113,
           0.04706205427356473,
           0.01869963535793364,
           0.017265803101980576,
           0.01783021787367409,
           0.01699482621869265,
           0.0122281776289754,
           0,
           0.019837427589396526,
           0.022097305679395232,
           0.051954549422801845,
           0.05963701570396131,
           0.028390603753174124,
           0.05169145536051552,
           0.04627902918401774,
           0.04396539303332395,
           0.08447695336128137,
           0.06898904044458379,
           0.07239692184191222
          ],
          [
           0.1290369078154683,
           0.1654048147150469,
           0.1432759155451664,
           0.13830614693986398,
           0.142434674811623,
           0.11953071949455286,
           0.129058874921128,
           0.12906184559802883,
           0.18796574200688973,
           0.19696066921910674,
           0.1805704854452272,
           0.06962978813727504,
           0.07103957694033743,
           0.07566420780090864,
           0.07648083017028241,
           0.0528798660672506,
           0.0550889058579688,
           0.047258114969080105,
           0.048403739344670405,
           0.04756621208477895,
           0.04867200275410965,
           0.05102595882393445,
           0.09151338133887917,
           0.08149113906748608,
           0.08076682437134883,
           0.09466660471831967,
           0.0883160714886504,
           0.08858297065693534,
           0.06867162477607079,
           0.07924157083904511,
           0.07930797670007934,
           0.07704203869442587,
           0.04657625592851606,
           0.04757442071068352,
           0.04638427069531463,
           0.0478246741282449,
           0.048231489759937164,
           0.04686709721788685,
           0.04498906069018772,
           0.0235526143947522,
           0.02252246291468724,
           0.0235154488531549,
           0.020009664894769293,
           0.02144535400547732,
           0.019837427589396526,
           0,
           0.015203893270683,
           0.05051155638585582,
           0.05705787649739406,
           0.02974479081172463,
           0.05016605367422989,
           0.046220147984204936,
           0.047486476242979705,
           0.08188315451209019,
           0.0668219270045713,
           0.07141715207206706
          ],
          [
           0.12474140652565507,
           0.1619850420990985,
           0.1403878246919869,
           0.13378643450814579,
           0.13897175535567538,
           0.11518763420323608,
           0.12597648188865293,
           0.12650302717416811,
           0.1838844712263201,
           0.19160846901802958,
           0.17580338040432286,
           0.0669738591664543,
           0.06883880749259774,
           0.07292269185062102,
           0.07375222582552327,
           0.048390915865200466,
           0.0509307175944851,
           0.04513246222271333,
           0.04590273070800413,
           0.04509833016436097,
           0.04615187754622104,
           0.04781091447366146,
           0.0880685464892388,
           0.07797587714279175,
           0.07738975976156255,
           0.09121235842891103,
           0.08479587824747238,
           0.08519478851990685,
           0.06507110197058807,
           0.07555100424247398,
           0.0758070859104072,
           0.07364569851947719,
           0.04781041270032635,
           0.049937163390206166,
           0.04877600222028282,
           0.04747195359135356,
           0.04923431748253861,
           0.04773529387108402,
           0.04653501416078663,
           0.026266108102992233,
           0.024973833297336812,
           0.024963391674220764,
           0.020034545783205127,
           0.02350074405383242,
           0.022097305679395232,
           0.015203893270683,
           0,
           0.04928783131509865,
           0.054424286032447616,
           0.025513144139320227,
           0.04885821146191747,
           0.04440439693981827,
           0.04442921473543573,
           0.07936799170118625,
           0.06441026781989599,
           0.06897081466843102
          ],
          [
           0.10541701979905989,
           0.1502528055723406,
           0.1507874933595258,
           0.11799238951893827,
           0.12365658326071621,
           0.12678802429140743,
           0.13533046161274018,
           0.13527734318234577,
           0.1672921798725644,
           0.18133190745861022,
           0.1819194645959328,
           0.04519806490612844,
           0.04360314092349028,
           0.051325139066501796,
           0.050828806974986374,
           0.066978563780277,
           0.06556354018994145,
           0.060273155023803905,
           0.0603720938293429,
           0.06123064653154637,
           0.061612510860121636,
           0.06334300658592107,
           0.06358762650153378,
           0.05304130742868466,
           0.059693441174278584,
           0.07223597687293831,
           0.06498856571717718,
           0.06755037153600477,
           0.0710023497129602,
           0.0818555747210936,
           0.08075643356593103,
           0.07697750207255367,
           0.023070128952481894,
           0.02573759358781954,
           0.02505232532747424,
           0.020153356188003325,
           0.022722558121885197,
           0.02572153894617327,
           0.024736400883189874,
           0.05320368136845213,
           0.05375044650159739,
           0.05383694125575049,
           0.049614905996704,
           0.05172509266888054,
           0.051954549422801845,
           0.05051155638585582,
           0.04928783131509865,
           0,
           0.02824228527359176,
           0.05069541587457748,
           0.061463203054358984,
           0.05473335831147746,
           0.05655901636493278,
           0.055831353498102906,
           0.042256473317217,
           0.04391471086675064
          ],
          [
           0.09912618018610736,
           0.13971915727622852,
           0.14114362927486518,
           0.10921471960226303,
           0.1155323075512286,
           0.11692018439025495,
           0.1261767222935387,
           0.12643392522274705,
           0.16101125901308802,
           0.16948964728020743,
           0.17066853720390654,
           0.04253740157133313,
           0.04650944615259347,
           0.04979196896825878,
           0.049495686204749624,
           0.06331619500863998,
           0.06333103969179119,
           0.060428062833107456,
           0.060727907201038114,
           0.05995824781151869,
           0.061365074899781984,
           0.06242329400594306,
           0.05933371542161507,
           0.05232773640415356,
           0.05188880866944681,
           0.0701440951671124,
           0.06297971379603036,
           0.06591995123491058,
           0.06844098979889454,
           0.07655533654945605,
           0.07779992434602963,
           0.07480161170147354,
           0.03547088902691159,
           0.03846343014627941,
           0.03663430596662442,
           0.03191729477586419,
           0.035310775424560084,
           0.032249819811991064,
           0.034841523192705816,
           0.06292611407583122,
           0.06283657628274603,
           0.06323489221861958,
           0.057732344536671656,
           0.06004253231930129,
           0.05963701570396131,
           0.05705787649739406,
           0.054424286032447616,
           0.02824228527359176,
           0,
           0.05113721776903844,
           0.05943900621733598,
           0.057834471816401174,
           0.057286149189645766,
           0.054959804766006315,
           0.04388048727031059,
           0.04486981469054137
          ],
          [
           0.1160619061810589,
           0.15718212871882162,
           0.13272223831938,
           0.12789253908531992,
           0.13383193216833678,
           0.10886527012788193,
           0.1206617392242971,
           0.11815001648657765,
           0.17840247668238285,
           0.18424173217971804,
           0.16568244198619314,
           0.06462025936236587,
           0.06525563901853158,
           0.07030513713223788,
           0.07070272177864044,
           0.04337792483548212,
           0.04592687215084593,
           0.04040500791520887,
           0.040835710806485286,
           0.04052697070161241,
           0.043362083249757995,
           0.04408996956244931,
           0.08294734418479992,
           0.07403434238663247,
           0.07380549038888028,
           0.08425680853492176,
           0.07774295571135738,
           0.07866834356203524,
           0.05537807310856956,
           0.06404655574935784,
           0.0666483901978007,
           0.0641560738326658,
           0.055058759962177496,
           0.0571760350050488,
           0.05702277168131448,
           0.05259425278970612,
           0.05621477055368417,
           0.05500945115662545,
           0.05420138618487657,
           0.03429177981737392,
           0.03312074808564388,
           0.03501303258229276,
           0.029389277546645963,
           0.029408495488182373,
           0.028390603753174124,
           0.02974479081172463,
           0.025513144139320227,
           0.05069541587457748,
           0.05113721776903844,
           0,
           0.04196570272889426,
           0.0407059245497868,
           0.037243931604535256,
           0.0752453924945048,
           0.06005375750211716,
           0.06359261000723784
          ],
          [
           0.10046497490443679,
           0.13370562298105226,
           0.10835039620681976,
           0.1106530905781663,
           0.11335792296071039,
           0.08947268337376613,
           0.0964637539150671,
           0.09372410009377469,
           0.1561427005966151,
           0.17875923105657884,
           0.16130293000476323,
           0.0741830299555683,
           0.07145607311851172,
           0.07628410151401209,
           0.07782887087470458,
           0.06220948123673939,
           0.06396237338233232,
           0.056315086163063084,
           0.05953280488152605,
           0.05893196838657802,
           0.061595944470552916,
           0.0633969560454681,
           0.0865928845299109,
           0.07988975701397333,
           0.07999788196327397,
           0.07121294030879438,
           0.06745133544590312,
           0.0693341450141583,
           0.04687738752701316,
           0.05078758685601971,
           0.05123136129362747,
           0.051477767745992754,
           0.06745647634719361,
           0.07029161268983766,
           0.0697201632596709,
           0.06514386958372055,
           0.06841505131128849,
           0.067903862862998,
           0.0673192577931374,
           0.05727044357091206,
           0.057138399233239545,
           0.05958245166154083,
           0.05308479226525637,
           0.052355750168083165,
           0.05169145536051552,
           0.05016605367422989,
           0.04885821146191747,
           0.061463203054358984,
           0.05943900621733598,
           0.04196570272889426,
           0,
           0.023125562977694934,
           0.023537891158044215,
           0.05386289544304398,
           0.04371446279878197,
           0.04796398054660784
          ],
          [
           0.10412853831137141,
           0.1414523852271584,
           0.11938660751940769,
           0.11538285172759023,
           0.1184147657213317,
           0.0964846159117385,
           0.1032268007474619,
           0.10375552552488872,
           0.1612647760552028,
           0.18431531980201038,
           0.16843987717568595,
           0.0727405483477263,
           0.06922776389238254,
           0.0750409647559363,
           0.07706650984667021,
           0.0640129332034303,
           0.06444085122465606,
           0.054936150789578905,
           0.057881092200110625,
           0.05985163498529079,
           0.06091834673489711,
           0.062349822444943755,
           0.08793728220448371,
           0.07916608761097564,
           0.08028486191365802,
           0.07249851754453812,
           0.0704868237418931,
           0.07130369264981273,
           0.045025547241204555,
           0.055285998653435205,
           0.05309877281043643,
           0.05101739469664101,
           0.060502308548229196,
           0.064434826144385,
           0.062385308537153183,
           0.05968030377688112,
           0.061528333765901166,
           0.06285955614612465,
           0.06210450858069185,
           0.04816993675135515,
           0.04886013429393636,
           0.05131072647422737,
           0.04558525642563605,
           0.0464277591864583,
           0.04627902918401774,
           0.046220147984204936,
           0.04440439693981827,
           0.05473335831147746,
           0.057834471816401174,
           0.0407059245497868,
           0.023125562977694934,
           0,
           0.019688865558140856,
           0.05682225140265011,
           0.046059077322103584,
           0.04873352944123562
          ],
          [
           0.10233056113182296,
           0.14176766827279833,
           0.11823198361381233,
           0.11553303927617485,
           0.11978838595989535,
           0.09673305921115426,
           0.10561905424307762,
           0.10268253308457471,
           0.1627665987254469,
           0.17981612842057618,
           0.16424097925374975,
           0.06909370730516907,
           0.06628959640244916,
           0.07221996029415474,
           0.0736600642148068,
           0.05835856037672385,
           0.057652398206059996,
           0.04721646704887325,
           0.050599514859853326,
           0.05425268285419525,
           0.05431113511516022,
           0.0552699000422857,
           0.0849955267442031,
           0.07625292044975379,
           0.0763168116983776,
           0.07040500513365983,
           0.06704643364779357,
           0.06756375132490529,
           0.04049594100211766,
           0.050685951838438985,
           0.04569285635501305,
           0.04554128950177676,
           0.06218404772995653,
           0.0654597221674978,
           0.06421684555211933,
           0.06040778537030256,
           0.06287232704294136,
           0.06455305123107773,
           0.06281938371545916,
           0.0503511304167043,
           0.04948249697341722,
           0.05056553106075838,
           0.04515590315242566,
           0.04292250907326674,
           0.04396539303332395,
           0.047486476242979705,
           0.04442921473543573,
           0.05655901636493278,
           0.057286149189645766,
           0.037243931604535256,
           0.023537891158044215,
           0.019688865558140856,
           0,
           0.059576922239874645,
           0.046853566529492456,
           0.048968212105880704
          ],
          [
           0.07620981916181697,
           0.11064496879835749,
           0.11868300766084165,
           0.08601615959162583,
           0.08695978332109382,
           0.09874742621825669,
           0.10169638733058826,
           0.10424399253325958,
           0.12751248899545797,
           0.16614698588623475,
           0.165335081663423,
           0.07101472183311622,
           0.066954714564361,
           0.07194003955213457,
           0.07260283016791742,
           0.08286764464333296,
           0.08247074933129607,
           0.07980403579169033,
           0.08060059669342932,
           0.08060049028469776,
           0.08121722554622579,
           0.08258795900320379,
           0.07741442988807687,
           0.07193595024917879,
           0.07311769804639172,
           0.055664669936328307,
           0.05370374173217763,
           0.05824094383267332,
           0.06646936504919933,
           0.07056836649865567,
           0.07003883750164168,
           0.06804284483112406,
           0.06327623632799155,
           0.06683102194177842,
           0.06551079952142062,
           0.06213310514101792,
           0.06304616265569203,
           0.06274506363979264,
           0.06602790792457869,
           0.08657952274025796,
           0.08701258080211302,
           0.08787411528550493,
           0.08137812194635033,
           0.08414392722914049,
           0.08447695336128137,
           0.08188315451209019,
           0.07936799170118625,
           0.055831353498102906,
           0.054959804766006315,
           0.0752453924945048,
           0.05386289544304398,
           0.05682225140265011,
           0.059576922239874645,
           0,
           0.03065139683939353,
           0.030820363402099593
          ],
          [
           0.08715113419806972,
           0.12151759275647361,
           0.12695801388517183,
           0.09682549462059192,
           0.09931267474370922,
           0.10472467526489025,
           0.11186006328991051,
           0.11257768651076586,
           0.14257230335291413,
           0.17086556886534343,
           0.16819141735756404,
           0.06102621083538651,
           0.0571835677874586,
           0.06350981584433635,
           0.06539750646498793,
           0.07328662983584283,
           0.07245934430173827,
           0.06840948046996105,
           0.06911422098112187,
           0.06978947068543102,
           0.0705472533826348,
           0.07204657238922639,
           0.07494502337197352,
           0.06551067786780787,
           0.0682593981123543,
           0.052139260655488316,
           0.04661441343759476,
           0.05122914578789129,
           0.05948992030345364,
           0.06548759989383976,
           0.06456080993731925,
           0.0626489740303145,
           0.046519135390070555,
           0.050828677951987776,
           0.05142577424781446,
           0.045823748408295256,
           0.04826089439716717,
           0.04899833877567249,
           0.049306489554501974,
           0.0715797868608092,
           0.07175099834921331,
           0.07250126630799349,
           0.06692412022321845,
           0.0684623476887953,
           0.06898904044458379,
           0.0668219270045713,
           0.06441026781989599,
           0.042256473317217,
           0.04388048727031059,
           0.06005375750211716,
           0.04371446279878197,
           0.046059077322103584,
           0.046853566529492456,
           0.03065139683939353,
           0,
           0.021954454688975555
          ],
          [
           0.08072131476641431,
           0.12365721412026165,
           0.1260604574452517,
           0.09463375753049924,
           0.09912398790361916,
           0.10366612830485412,
           0.11037065938353492,
           0.11121566300106005,
           0.14161308783127402,
           0.16680639812135006,
           0.16375997695621886,
           0.05571700985440357,
           0.05015603256739903,
           0.057038354002828646,
           0.05861096901291945,
           0.06951083895379905,
           0.06902603153074346,
           0.06537115121664865,
           0.06589652416885214,
           0.06655196712105332,
           0.06783993460865576,
           0.06865384822225648,
           0.06881073440055656,
           0.05994269257249718,
           0.06250755607985083,
           0.04272656785852742,
           0.04314369847965956,
           0.04650155646776206,
           0.054635903593790204,
           0.06108286458082602,
           0.060242975672747244,
           0.057568423149863115,
           0.05178951310471811,
           0.055605568678000546,
           0.054230152712719366,
           0.04935045022441527,
           0.04991943431941555,
           0.054276135896069264,
           0.0540920651642928,
           0.0747839119457292,
           0.07498529598915858,
           0.07580178935392844,
           0.07057147610531132,
           0.07222238553304364,
           0.07239692184191222,
           0.07141715207206706,
           0.06897081466843102,
           0.04391471086675064,
           0.04486981469054137,
           0.06359261000723784,
           0.04796398054660784,
           0.04873352944123562,
           0.048968212105880704,
           0.030820363402099593,
           0.021954454688975555,
           0
          ]
         ]
        },
        {
         "marker": {
          "color": "#636EFA"
         },
         "mode": "markers",
         "name": "Plasma",
         "type": "scatter",
         "x": [
          95,
          105
         ],
         "xaxis": "x",
         "y": [
          1,
          1
         ],
         "yaxis": "y3"
        },
        {
         "marker": {
          "color": "#EF553B"
         },
         "mode": "markers",
         "name": "Tomato",
         "type": "scatter",
         "x": [
          15,
          65
         ],
         "xaxis": "x",
         "y": [
          1,
          1
         ],
         "yaxis": "y3"
        },
        {
         "marker": {
          "color": "#00CC96"
         },
         "mode": "markers",
         "name": "Tomato + Plasma",
         "type": "scatter",
         "x": [
          25,
          35,
          45,
          55,
          75,
          85
         ],
         "xaxis": "x",
         "y": [
          1,
          1,
          1,
          1,
          1,
          1
         ],
         "yaxis": "y3"
        },
        {
         "marker": {
          "color": "#AB63FA"
         },
         "mode": "markers",
         "name": "Fecal_2",
         "type": "scatter",
         "x": [
          255,
          305
         ],
         "xaxis": "x",
         "y": [
          1,
          1
         ],
         "yaxis": "y3"
        },
        {
         "marker": {
          "color": "#FFA15A"
         },
         "mode": "markers",
         "name": "Fecal_2 + Plasma",
         "type": "scatter",
         "x": [
          5,
          265,
          275,
          285,
          295,
          315
         ],
         "xaxis": "x",
         "y": [
          1,
          1,
          1,
          1,
          1,
          1
         ],
         "yaxis": "y3"
        },
        {
         "marker": {
          "color": "#19D3F3"
         },
         "mode": "markers",
         "name": "Fecal_2 + Tomato",
         "type": "scatter",
         "x": [
          505,
          515,
          525,
          535,
          545,
          555
         ],
         "xaxis": "x",
         "y": [
          1,
          1,
          1,
          1,
          1,
          1
         ],
         "yaxis": "y3"
        },
        {
         "marker": {
          "color": "#FF6692"
         },
         "mode": "markers",
         "name": "Fecal_1",
         "type": "scatter",
         "x": [
          135,
          205
         ],
         "xaxis": "x",
         "y": [
          1,
          1
         ],
         "yaxis": "y3"
        },
        {
         "marker": {
          "color": "#B6E880"
         },
         "mode": "markers",
         "name": "Fecal_1 + Fecal_2 + Tomato + Plasma",
         "type": "scatter",
         "x": [
          325,
          335,
          345,
          355,
          365,
          395,
          405,
          415,
          435,
          445,
          475,
          495
         ],
         "xaxis": "x",
         "y": [
          1,
          1,
          1,
          1,
          1,
          1,
          1,
          1,
          1,
          1,
          1,
          1
         ],
         "yaxis": "y3"
        },
        {
         "marker": {
          "color": "#FF97FF"
         },
         "mode": "markers",
         "name": "Fecal_1 + Plasma",
         "type": "scatter",
         "x": [
          145,
          155,
          165,
          215,
          225,
          235
         ],
         "xaxis": "x",
         "y": [
          1,
          1,
          1,
          1,
          1,
          1
         ],
         "yaxis": "y3"
        },
        {
         "marker": {
          "color": "#FECB52"
         },
         "mode": "markers",
         "name": "Fecal_1 + Tomato",
         "type": "scatter",
         "x": [
          375,
          385,
          425,
          455,
          465,
          485
         ],
         "xaxis": "x",
         "y": [
          1,
          1,
          1,
          1,
          1,
          1
         ],
         "yaxis": "y3"
        },
        {
         "marker": {
          "color": "#636EFA"
         },
         "mode": "markers",
         "name": "Fecal_1 + Fecal_2",
         "type": "scatter",
         "x": [
          115,
          125,
          175,
          185,
          195,
          245
         ],
         "xaxis": "x",
         "y": [
          1,
          1,
          1,
          1,
          1,
          1
         ],
         "yaxis": "y3"
        }
       ],
       "layout": {
        "autosize": false,
        "height": 800,
        "hovermode": "closest",
        "legend": {
         "orientation": "v",
         "x": 1,
         "y": 1
        },
        "paper_bgcolor": "rgb(255,255,255)",
        "plot_bgcolor": "rgba(0,0,0,0)",
        "showlegend": true,
        "template": {
         "data": {
          "bar": [
           {
            "error_x": {
             "color": "#2a3f5f"
            },
            "error_y": {
             "color": "#2a3f5f"
            },
            "marker": {
             "line": {
              "color": "#E5ECF6",
              "width": 0.5
             },
             "pattern": {
              "fillmode": "overlay",
              "size": 10,
              "solidity": 0.2
             }
            },
            "type": "bar"
           }
          ],
          "barpolar": [
           {
            "marker": {
             "line": {
              "color": "#E5ECF6",
              "width": 0.5
             },
             "pattern": {
              "fillmode": "overlay",
              "size": 10,
              "solidity": 0.2
             }
            },
            "type": "barpolar"
           }
          ],
          "carpet": [
           {
            "aaxis": {
             "endlinecolor": "#2a3f5f",
             "gridcolor": "white",
             "linecolor": "white",
             "minorgridcolor": "white",
             "startlinecolor": "#2a3f5f"
            },
            "baxis": {
             "endlinecolor": "#2a3f5f",
             "gridcolor": "white",
             "linecolor": "white",
             "minorgridcolor": "white",
             "startlinecolor": "#2a3f5f"
            },
            "type": "carpet"
           }
          ],
          "choropleth": [
           {
            "colorbar": {
             "outlinewidth": 0,
             "ticks": ""
            },
            "type": "choropleth"
           }
          ],
          "contour": [
           {
            "colorbar": {
             "outlinewidth": 0,
             "ticks": ""
            },
            "colorscale": [
             [
              0,
              "#0d0887"
             ],
             [
              0.1111111111111111,
              "#46039f"
             ],
             [
              0.2222222222222222,
              "#7201a8"
             ],
             [
              0.3333333333333333,
              "#9c179e"
             ],
             [
              0.4444444444444444,
              "#bd3786"
             ],
             [
              0.5555555555555556,
              "#d8576b"
             ],
             [
              0.6666666666666666,
              "#ed7953"
             ],
             [
              0.7777777777777778,
              "#fb9f3a"
             ],
             [
              0.8888888888888888,
              "#fdca26"
             ],
             [
              1,
              "#f0f921"
             ]
            ],
            "type": "contour"
           }
          ],
          "contourcarpet": [
           {
            "colorbar": {
             "outlinewidth": 0,
             "ticks": ""
            },
            "type": "contourcarpet"
           }
          ],
          "heatmap": [
           {
            "colorbar": {
             "outlinewidth": 0,
             "ticks": ""
            },
            "colorscale": [
             [
              0,
              "#0d0887"
             ],
             [
              0.1111111111111111,
              "#46039f"
             ],
             [
              0.2222222222222222,
              "#7201a8"
             ],
             [
              0.3333333333333333,
              "#9c179e"
             ],
             [
              0.4444444444444444,
              "#bd3786"
             ],
             [
              0.5555555555555556,
              "#d8576b"
             ],
             [
              0.6666666666666666,
              "#ed7953"
             ],
             [
              0.7777777777777778,
              "#fb9f3a"
             ],
             [
              0.8888888888888888,
              "#fdca26"
             ],
             [
              1,
              "#f0f921"
             ]
            ],
            "type": "heatmap"
           }
          ],
          "heatmapgl": [
           {
            "colorbar": {
             "outlinewidth": 0,
             "ticks": ""
            },
            "colorscale": [
             [
              0,
              "#0d0887"
             ],
             [
              0.1111111111111111,
              "#46039f"
             ],
             [
              0.2222222222222222,
              "#7201a8"
             ],
             [
              0.3333333333333333,
              "#9c179e"
             ],
             [
              0.4444444444444444,
              "#bd3786"
             ],
             [
              0.5555555555555556,
              "#d8576b"
             ],
             [
              0.6666666666666666,
              "#ed7953"
             ],
             [
              0.7777777777777778,
              "#fb9f3a"
             ],
             [
              0.8888888888888888,
              "#fdca26"
             ],
             [
              1,
              "#f0f921"
             ]
            ],
            "type": "heatmapgl"
           }
          ],
          "histogram": [
           {
            "marker": {
             "pattern": {
              "fillmode": "overlay",
              "size": 10,
              "solidity": 0.2
             }
            },
            "type": "histogram"
           }
          ],
          "histogram2d": [
           {
            "colorbar": {
             "outlinewidth": 0,
             "ticks": ""
            },
            "colorscale": [
             [
              0,
              "#0d0887"
             ],
             [
              0.1111111111111111,
              "#46039f"
             ],
             [
              0.2222222222222222,
              "#7201a8"
             ],
             [
              0.3333333333333333,
              "#9c179e"
             ],
             [
              0.4444444444444444,
              "#bd3786"
             ],
             [
              0.5555555555555556,
              "#d8576b"
             ],
             [
              0.6666666666666666,
              "#ed7953"
             ],
             [
              0.7777777777777778,
              "#fb9f3a"
             ],
             [
              0.8888888888888888,
              "#fdca26"
             ],
             [
              1,
              "#f0f921"
             ]
            ],
            "type": "histogram2d"
           }
          ],
          "histogram2dcontour": [
           {
            "colorbar": {
             "outlinewidth": 0,
             "ticks": ""
            },
            "colorscale": [
             [
              0,
              "#0d0887"
             ],
             [
              0.1111111111111111,
              "#46039f"
             ],
             [
              0.2222222222222222,
              "#7201a8"
             ],
             [
              0.3333333333333333,
              "#9c179e"
             ],
             [
              0.4444444444444444,
              "#bd3786"
             ],
             [
              0.5555555555555556,
              "#d8576b"
             ],
             [
              0.6666666666666666,
              "#ed7953"
             ],
             [
              0.7777777777777778,
              "#fb9f3a"
             ],
             [
              0.8888888888888888,
              "#fdca26"
             ],
             [
              1,
              "#f0f921"
             ]
            ],
            "type": "histogram2dcontour"
           }
          ],
          "mesh3d": [
           {
            "colorbar": {
             "outlinewidth": 0,
             "ticks": ""
            },
            "type": "mesh3d"
           }
          ],
          "parcoords": [
           {
            "line": {
             "colorbar": {
              "outlinewidth": 0,
              "ticks": ""
             }
            },
            "type": "parcoords"
           }
          ],
          "pie": [
           {
            "automargin": true,
            "type": "pie"
           }
          ],
          "scatter": [
           {
            "marker": {
             "colorbar": {
              "outlinewidth": 0,
              "ticks": ""
             }
            },
            "type": "scatter"
           }
          ],
          "scatter3d": [
           {
            "line": {
             "colorbar": {
              "outlinewidth": 0,
              "ticks": ""
             }
            },
            "marker": {
             "colorbar": {
              "outlinewidth": 0,
              "ticks": ""
             }
            },
            "type": "scatter3d"
           }
          ],
          "scattercarpet": [
           {
            "marker": {
             "colorbar": {
              "outlinewidth": 0,
              "ticks": ""
             }
            },
            "type": "scattercarpet"
           }
          ],
          "scattergeo": [
           {
            "marker": {
             "colorbar": {
              "outlinewidth": 0,
              "ticks": ""
             }
            },
            "type": "scattergeo"
           }
          ],
          "scattergl": [
           {
            "marker": {
             "colorbar": {
              "outlinewidth": 0,
              "ticks": ""
             }
            },
            "type": "scattergl"
           }
          ],
          "scattermapbox": [
           {
            "marker": {
             "colorbar": {
              "outlinewidth": 0,
              "ticks": ""
             }
            },
            "type": "scattermapbox"
           }
          ],
          "scatterpolar": [
           {
            "marker": {
             "colorbar": {
              "outlinewidth": 0,
              "ticks": ""
             }
            },
            "type": "scatterpolar"
           }
          ],
          "scatterpolargl": [
           {
            "marker": {
             "colorbar": {
              "outlinewidth": 0,
              "ticks": ""
             }
            },
            "type": "scatterpolargl"
           }
          ],
          "scatterternary": [
           {
            "marker": {
             "colorbar": {
              "outlinewidth": 0,
              "ticks": ""
             }
            },
            "type": "scatterternary"
           }
          ],
          "surface": [
           {
            "colorbar": {
             "outlinewidth": 0,
             "ticks": ""
            },
            "colorscale": [
             [
              0,
              "#0d0887"
             ],
             [
              0.1111111111111111,
              "#46039f"
             ],
             [
              0.2222222222222222,
              "#7201a8"
             ],
             [
              0.3333333333333333,
              "#9c179e"
             ],
             [
              0.4444444444444444,
              "#bd3786"
             ],
             [
              0.5555555555555556,
              "#d8576b"
             ],
             [
              0.6666666666666666,
              "#ed7953"
             ],
             [
              0.7777777777777778,
              "#fb9f3a"
             ],
             [
              0.8888888888888888,
              "#fdca26"
             ],
             [
              1,
              "#f0f921"
             ]
            ],
            "type": "surface"
           }
          ],
          "table": [
           {
            "cells": {
             "fill": {
              "color": "#EBF0F8"
             },
             "line": {
              "color": "white"
             }
            },
            "header": {
             "fill": {
              "color": "#C8D4E3"
             },
             "line": {
              "color": "white"
             }
            },
            "type": "table"
           }
          ]
         },
         "layout": {
          "annotationdefaults": {
           "arrowcolor": "#2a3f5f",
           "arrowhead": 0,
           "arrowwidth": 1
          },
          "autotypenumbers": "strict",
          "coloraxis": {
           "colorbar": {
            "outlinewidth": 0,
            "ticks": ""
           }
          },
          "colorscale": {
           "diverging": [
            [
             0,
             "#8e0152"
            ],
            [
             0.1,
             "#c51b7d"
            ],
            [
             0.2,
             "#de77ae"
            ],
            [
             0.3,
             "#f1b6da"
            ],
            [
             0.4,
             "#fde0ef"
            ],
            [
             0.5,
             "#f7f7f7"
            ],
            [
             0.6,
             "#e6f5d0"
            ],
            [
             0.7,
             "#b8e186"
            ],
            [
             0.8,
             "#7fbc41"
            ],
            [
             0.9,
             "#4d9221"
            ],
            [
             1,
             "#276419"
            ]
           ],
           "sequential": [
            [
             0,
             "#0d0887"
            ],
            [
             0.1111111111111111,
             "#46039f"
            ],
            [
             0.2222222222222222,
             "#7201a8"
            ],
            [
             0.3333333333333333,
             "#9c179e"
            ],
            [
             0.4444444444444444,
             "#bd3786"
            ],
            [
             0.5555555555555556,
             "#d8576b"
            ],
            [
             0.6666666666666666,
             "#ed7953"
            ],
            [
             0.7777777777777778,
             "#fb9f3a"
            ],
            [
             0.8888888888888888,
             "#fdca26"
            ],
            [
             1,
             "#f0f921"
            ]
           ],
           "sequentialminus": [
            [
             0,
             "#0d0887"
            ],
            [
             0.1111111111111111,
             "#46039f"
            ],
            [
             0.2222222222222222,
             "#7201a8"
            ],
            [
             0.3333333333333333,
             "#9c179e"
            ],
            [
             0.4444444444444444,
             "#bd3786"
            ],
            [
             0.5555555555555556,
             "#d8576b"
            ],
            [
             0.6666666666666666,
             "#ed7953"
            ],
            [
             0.7777777777777778,
             "#fb9f3a"
            ],
            [
             0.8888888888888888,
             "#fdca26"
            ],
            [
             1,
             "#f0f921"
            ]
           ]
          },
          "colorway": [
           "#636efa",
           "#EF553B",
           "#00cc96",
           "#ab63fa",
           "#FFA15A",
           "#19d3f3",
           "#FF6692",
           "#B6E880",
           "#FF97FF",
           "#FECB52"
          ],
          "font": {
           "color": "#2a3f5f"
          },
          "geo": {
           "bgcolor": "white",
           "lakecolor": "white",
           "landcolor": "#E5ECF6",
           "showlakes": true,
           "showland": true,
           "subunitcolor": "white"
          },
          "hoverlabel": {
           "align": "left"
          },
          "hovermode": "closest",
          "mapbox": {
           "style": "light"
          },
          "paper_bgcolor": "white",
          "plot_bgcolor": "#E5ECF6",
          "polar": {
           "angularaxis": {
            "gridcolor": "white",
            "linecolor": "white",
            "ticks": ""
           },
           "bgcolor": "#E5ECF6",
           "radialaxis": {
            "gridcolor": "white",
            "linecolor": "white",
            "ticks": ""
           }
          },
          "scene": {
           "xaxis": {
            "backgroundcolor": "#E5ECF6",
            "gridcolor": "white",
            "gridwidth": 2,
            "linecolor": "white",
            "showbackground": true,
            "ticks": "",
            "zerolinecolor": "white"
           },
           "yaxis": {
            "backgroundcolor": "#E5ECF6",
            "gridcolor": "white",
            "gridwidth": 2,
            "linecolor": "white",
            "showbackground": true,
            "ticks": "",
            "zerolinecolor": "white"
           },
           "zaxis": {
            "backgroundcolor": "#E5ECF6",
            "gridcolor": "white",
            "gridwidth": 2,
            "linecolor": "white",
            "showbackground": true,
            "ticks": "",
            "zerolinecolor": "white"
           }
          },
          "shapedefaults": {
           "line": {
            "color": "#2a3f5f"
           }
          },
          "ternary": {
           "aaxis": {
            "gridcolor": "white",
            "linecolor": "white",
            "ticks": ""
           },
           "baxis": {
            "gridcolor": "white",
            "linecolor": "white",
            "ticks": ""
           },
           "bgcolor": "#E5ECF6",
           "caxis": {
            "gridcolor": "white",
            "linecolor": "white",
            "ticks": ""
           }
          },
          "title": {
           "x": 0.05
          },
          "xaxis": {
           "automargin": true,
           "gridcolor": "white",
           "linecolor": "white",
           "ticks": "",
           "title": {
            "standoff": 15
           },
           "zerolinecolor": "white",
           "zerolinewidth": 2
          },
          "yaxis": {
           "automargin": true,
           "gridcolor": "white",
           "linecolor": "white",
           "ticks": "",
           "title": {
            "standoff": 15
           },
           "zerolinecolor": "white",
           "zerolinewidth": 2
          }
         }
        },
        "title": {
         "font": {
          "size": 15
         },
         "text": "Heatmap",
         "x": 0.5
        },
        "width": 1200,
        "xaxis": {
         "domain": [
          0.15,
          1
         ],
         "mirror": false,
         "rangemode": "tozero",
         "showgrid": false,
         "showline": false,
         "showticklabels": true,
         "tickangle": 45,
         "tickmode": "array",
         "ticks": "",
         "ticktext": [
          "Fecal_2 + Plasma",
          "Tomato",
          "Tomato + Plasma",
          "Tomato + Plasma",
          "Tomato + Plasma",
          "Tomato + Plasma",
          "Tomato",
          "Tomato + Plasma",
          "Tomato + Plasma",
          "Plasma",
          "Plasma",
          "Fecal_1 + Fecal_2",
          "Fecal_1 + Fecal_2",
          "Fecal_1",
          "Fecal_1 + Plasma",
          "Fecal_1 + Plasma",
          "Fecal_1 + Plasma",
          "Fecal_1 + Fecal_2",
          "Fecal_1 + Fecal_2",
          "Fecal_1 + Fecal_2",
          "Fecal_1",
          "Fecal_1 + Plasma",
          "Fecal_1 + Plasma",
          "Fecal_1 + Plasma",
          "Fecal_1 + Fecal_2",
          "Fecal_2",
          "Fecal_2 + Plasma",
          "Fecal_2 + Plasma",
          "Fecal_2 + Plasma",
          "Fecal_2 + Plasma",
          "Fecal_2",
          "Fecal_2 + Plasma",
          "Fecal_1 + Fecal_2 + Tomato + Plasma",
          "Fecal_1 + Fecal_2 + Tomato + Plasma",
          "Fecal_1 + Fecal_2 + Tomato + Plasma",
          "Fecal_1 + Fecal_2 + Tomato + Plasma",
          "Fecal_1 + Fecal_2 + Tomato + Plasma",
          "Fecal_1 + Tomato",
          "Fecal_1 + Tomato",
          "Fecal_1 + Fecal_2 + Tomato + Plasma",
          "Fecal_1 + Fecal_2 + Tomato + Plasma",
          "Fecal_1 + Fecal_2 + Tomato + Plasma",
          "Fecal_1 + Tomato",
          "Fecal_1 + Fecal_2 + Tomato + Plasma",
          "Fecal_1 + Fecal_2 + Tomato + Plasma",
          "Fecal_1 + Tomato",
          "Fecal_1 + Tomato",
          "Fecal_1 + Fecal_2 + Tomato + Plasma",
          "Fecal_1 + Tomato",
          "Fecal_1 + Fecal_2 + Tomato + Plasma",
          "Fecal_2 + Tomato",
          "Fecal_2 + Tomato",
          "Fecal_2 + Tomato",
          "Fecal_2 + Tomato",
          "Fecal_2 + Tomato",
          "Fecal_2 + Tomato"
         ],
         "tickvals": [
          5,
          15,
          25,
          35,
          45,
          55,
          65,
          75,
          85,
          95,
          105,
          115,
          125,
          135,
          145,
          155,
          165,
          175,
          185,
          195,
          205,
          215,
          225,
          235,
          245,
          255,
          265,
          275,
          285,
          295,
          305,
          315,
          325,
          335,
          345,
          355,
          365,
          375,
          385,
          395,
          405,
          415,
          425,
          435,
          445,
          455,
          465,
          475,
          485,
          495,
          505,
          515,
          525,
          535,
          545,
          555
         ],
         "type": "linear",
         "zeroline": false
        },
        "xaxis2": {
         "domain": [
          0,
          0.14
         ],
         "mirror": false,
         "showgrid": false,
         "showline": false,
         "showticklabels": false,
         "tickangle": 45,
         "ticks": "",
         "zeroline": false
        },
        "yaxis": {
         "domain": [
          0,
          0.87
         ],
         "mirror": false,
         "rangemode": "tozero",
         "showgrid": false,
         "showline": false,
         "showticklabels": false,
         "ticks": "",
         "type": "linear",
         "zeroline": false
        },
        "yaxis2": {
         "domain": [
          0.89,
          1
         ],
         "mirror": false,
         "showgrid": false,
         "showline": false,
         "showticklabels": false,
         "ticks": "",
         "zeroline": false
        },
        "yaxis3": {
         "domain": [
          0.84,
          0.9
         ],
         "mirror": false,
         "showgrid": false,
         "showline": false,
         "showticklabels": false,
         "ticks": "",
         "zeroline": false
        }
       }
      }
     },
     "metadata": {},
     "output_type": "display_data"
    }
   ],
   "source": [
    "df_meta_sub = df_meta[df_meta['Triplicate_number'] == 1]\n",
    "\n",
    "memo.visualization.plot_heatmap(\n",
    "    matrix= memo_qe.memo_matrix,\n",
    "    df_metadata=df_meta_sub,\n",
    "    filename_col = 'Filename',\n",
    "    group_col = 'contains',\n",
    "    plotly_discrete_cm = px.colors.qualitative.Plotly,\n",
    "    linkage_method='ward',\n",
    "    linkage_metric = 'euclidean',\n",
    "    heatmap_metric = 'braycurtis',\n",
    "    norm = False,\n",
    "    scaling= False\n",
    ")"
   ]
  },
  {
   "cell_type": "code",
   "execution_count": 23,
   "metadata": {},
   "outputs": [
    {
     "data": {
      "image/png": "[encoded data removed]",
      "text/plain": [
       "<Figure size 960x640 with 1 Axes>"
      ]
     },
     "metadata": {},
     "output_type": "display_data"
    }
   ],
   "source": [
    "memo.visualization.plot_hca(\n",
    "    matrix= memo_qe.memo_matrix,\n",
    "    df_metadata=df_meta_sub,\n",
    "    filename_col = 'Filename',\n",
    "    group_col = 'contains',\n",
    "    linkage_method='ward',\n",
    "    linkage_metric = 'euclidean',\n",
    "    norm = False,\n",
    "    scaling= False\n",
    ")"
   ]
  },
  {
   "cell_type": "markdown",
   "metadata": {},
   "source": [
    "## Merge MEMO matrix from different MzMine projects"
   ]
  },
  {
   "cell_type": "markdown",
   "metadata": {},
   "source": [
    "First, we load as before the spectra and feature matrix to generate the memo matrix of the different projects to merge.\n",
    "\n",
    "In this case, we will once again use the Qemistree dataset and compare for the same samples data aquired on a QToF with some on a Q-Exactive (Orbitrap)."
   ]
  },
  {
   "cell_type": "code",
   "execution_count": 20,
   "metadata": {},
   "outputs": [
    {
     "name": "stderr",
     "output_type": "stream",
     "text": [
      " 17%|█▋        | 17/99 [00:00<00:00, 163.83it/s]"
     ]
    },
    {
     "name": "stdout",
     "output_type": "stream",
     "text": [
      "generating memo_matrix from input featuretable and spectradocument\n"
     ]
    },
    {
     "name": "stderr",
     "output_type": "stream",
     "text": [
      "100%|██████████| 99/99 [00:00<00:00, 116.90it/s]\n"
     ]
    }
   ],
   "source": [
    "# Generate MEMO matrix for QE data\n",
    "\n",
    "feat_table_qe = memo.FeatureTable(path=\"../data/qe_qtof_coanalysis/qe_quant_nogapF.csv\", software='mzmine')\n",
    "spectra_qe = memo.SpectraDocuments(path=\"../data/qe_qtof_coanalysis/qe_spectra_nogapF.mgf\", min_relative_intensity = 0.01,\n",
    "            max_relative_intensity = 1, min_peaks_required=5, losses_from = 10, losses_to = 200, n_decimals = 2)\n",
    "memo_qe = memo.MemoMatrix()\n",
    "memo_qe.memo_from_aligned_samples(feat_table_qe, spectra_qe)"
   ]
  },
  {
   "cell_type": "code",
   "execution_count": 16,
   "metadata": {},
   "outputs": [
    {
     "name": "stdout",
     "output_type": "stream",
     "text": [
      "generating memo_matrix from input featuretable and spectradocument\n"
     ]
    },
    {
     "name": "stderr",
     "output_type": "stream",
     "text": [
      "100%|██████████| 97/97 [00:00<00:00, 167.50it/s]\n"
     ]
    }
   ],
   "source": [
    "# Generate MEMO matrix for QToF data\n",
    "\n",
    "feat_table_qtof = memo.FeatureTable(path=\"../data/qe_qtof_coanalysis/qtof_quant_nogapF.csv\", software='mzmine')\n",
    "spectra_qtof = memo.SpectraDocuments(path=\"../data/qe_qtof_coanalysis/qtof_spectra_nogapF.mgf\", min_relative_intensity = 0.01,\n",
    "            max_relative_intensity = 1, min_peaks_required=5, losses_from = 10, losses_to = 200, n_decimals = 2)\n",
    "memo_qtof = memo.MemoMatrix()\n",
    "memo_qtof.memo_from_aligned_samples(feat_table_qtof, spectra_qtof)"
   ]
  },
  {
   "cell_type": "code",
   "execution_count": 17,
   "metadata": {},
   "outputs": [],
   "source": [
    "memo_qe = memo_qe.filter(samples_pattern='blank')\n",
    "memo_qtof = memo_qtof.filter(samples_pattern='blank')"
   ]
  },
  {
   "cell_type": "markdown",
   "metadata": {},
   "source": [
    "Now, let's merge our 2 MEMO matrix. There is one paramater, drop_not_in_common, to decide wether to keep only shared peaks/losses or all of them."
   ]
  },
  {
   "cell_type": "code",
   "execution_count": 18,
   "metadata": {},
   "outputs": [],
   "source": [
    "memo_merged = memo_qe.merge_memo(memo_qtof, drop_not_in_common=True)"
   ]
  },
  {
   "cell_type": "markdown",
   "metadata": {},
   "source": [
    "PCoA plot of the first 2 components show that the main parameter to discriminate our samples is the Instrument"
   ]
  },
  {
   "cell_type": "code",
   "execution_count": 24,
   "metadata": {},
   "outputs": [
    {
     "name": "stderr",
     "output_type": "stream",
     "text": [
      "/opt/anaconda3/envs/memo-dev/lib/python3.8/site-packages/skbio/stats/ordination/_principal_coordinate_analysis.py:143: RuntimeWarning:\n",
      "\n",
      "The result contains negative eigenvalues. Please compare their magnitude with the magnitude of some of the largest positive eigenvalues. If the negative ones are smaller, it's probably safe to ignore them, but if they are large in magnitude, the results won't be useful. See the Notes section for more details. The smallest eigenvalue is -0.01383077322511608 and the largest is 8.867659014047995.\n",
      "\n"
     ]
    },
    {
     "data": {
      "application/vnd.plotly.v1+json": {
       "config": {
        "plotlyServerURL": "https://plot.ly"
       },
       "data": [
        {
         "hovertemplate": "<b>%{hovertext}</b><br><br>contains=Plasma<br>PC1 (75.6 %)=%{x}<br>PC2 (9.8 %)=%{y}<extra></extra>",
         "hovertext": [
          "QEC18_NIST_20181227102029.mzML",
          "QEC18_NIST_20181227182328.mzML",
          "QEC18_NIST.mzML",
          "QEC18RT_NIST_20181228191835.mzML",
          "QEC18RT_NIST_20181229031403.mzML",
          "QEC18RT_NIST.mzML",
          "C18_NIST_GA4_01_19419.mzML",
          "C18_NIST_GA4_01_19439.mzML",
          "C18_NIST_GA4_01_19461.mzML"
         ],
         "legendgroup": "Plasma",
         "marker": {
          "color": "#1F77B4",
          "symbol": "circle"
         },
         "mode": "markers",
         "name": "Plasma",
         "orientation": "v",
         "showlegend": true,
         "type": "scatter",
         "x": [
          -0.13485213875548263,
          -0.13142053460608435,
          -0.14190890047641255,
          -0.13450977696692468,
          -0.13414613745917775,
          -0.1399457190865219,
          0.28676933556712725,
          0.29840244009597106,
          0.2832119851270809
         ],
         "xaxis": "x",
         "y": [
          0.007255991012152586,
          0.004759979994369901,
          0.019861659090815626,
          -0.000014253883127897373,
          -0.003252749614827391,
          0.009746953050731373,
          -0.014268092467233269,
          -0.005365859764307393,
          -0.012071306812526697
         ],
         "yaxis": "y"
        },
        {
         "hovertemplate": "<b>%{hovertext}</b><br><br>contains=Tomato<br>PC1 (75.6 %)=%{x}<br>PC2 (9.8 %)=%{y}<extra></extra>",
         "hovertext": [
          "QEC18_To_20181227204313.mzML",
          "QEC18_To_20181227231513.mzML",
          "QEC18_To.mzML",
          "QEC18RT_To_20181229050805.mzML",
          "QEC18RT_To_20181229074015.mzML",
          "QEC18RT_To.mzML",
          "C18_To_GA3_01_19427.mzML",
          "C18_To_GA3_01_19465.mzML",
          "C18_To_GA3_01_19475.mzML"
         ],
         "legendgroup": "Tomato",
         "marker": {
          "color": "#FF7F0E",
          "symbol": "circle"
         },
         "mode": "markers",
         "name": "Tomato",
         "orientation": "v",
         "showlegend": true,
         "type": "scatter",
         "x": [
          -0.13812072695037655,
          -0.1364744359656568,
          -0.13731124349362606,
          -0.13760261915246144,
          -0.1382365410127272,
          -0.13770077850028797,
          0.30974167274708747,
          0.3108676093992179,
          0.3114017470327285
         ],
         "xaxis": "x",
         "y": [
          -0.04007421356060026,
          -0.03548485705193661,
          -0.03867472685340778,
          -0.03474343068322861,
          -0.034635704806198465,
          -0.035924141950364405,
          -0.2644417164702465,
          -0.2630289222734151,
          -0.26657914456472803
         ],
         "yaxis": "y"
        },
        {
         "hovertemplate": "<b>%{hovertext}</b><br><br>contains=Tomato + Plasma<br>PC1 (75.6 %)=%{x}<br>PC2 (9.8 %)=%{y}<extra></extra>",
         "hovertext": [
          "QEC18_To-1_NIST-3_20181227172525.mzML",
          "QEC18_To-1_NIST-3_20181227214013.mzML",
          "QEC18_To-1_NIST-3.mzML",
          "QEC18_To-1_NIST-1_20181227111754.mzML",
          "QEC18_To-1_NIST-1_20181228010915.mzML",
          "QEC18_To-1_NIST-1.mzML",
          "QEC18_To-3_NIST-1_20181227074824.mzML",
          "QEC18_To-3_NIST-1_20181227160801.mzML",
          "QEC18_To-3_NIST-1.mzML",
          "QEC18RT_To-1_NIST-3_20181229021701.mzML",
          "QEC18RT_To-1_NIST-3_20181229060507.mzML",
          "QEC18RT_To-1_NIST-3.mzML",
          "QEC18RT_To-1_NIST-1_20181228201537.mzML",
          "QEC18RT_To-1_NIST-1_20181229093419.mzML",
          "QEC18RT_To-1_NIST-1.mzML",
          "QEC18RT_To-3_NIST-1_20181228162117.mzML",
          "QEC18RT_To-3_NIST-1_20181229010055.mzML",
          "QEC18RT_To-3_NIST-1.mzML",
          "C18_To-1_NIST-3_GC3_01_19450.mzML",
          "C18_To-1_NIST-3_GC3_01_19459.mzML",
          "C18_To-1_NIST-3_GC3_01_19468.mzML",
          "C18_To-1_NIST-1_GC1_01_19402.mzML",
          "C18_To-1_NIST-1_GC1_01_19442.mzML",
          "C18_To-1_NIST-1_GC1_01_19481.mzML",
          "C18_To-3_NIST-1_GC2_01_19412.mzML",
          "C18_To-3_NIST-1_GC2_01_19432.mzML",
          "C18_To-3_NIST-1_GC2_01_19455.mzML"
         ],
         "legendgroup": "Tomato + Plasma",
         "marker": {
          "color": "#2CA02C",
          "symbol": "circle"
         },
         "mode": "markers",
         "name": "Tomato + Plasma",
         "orientation": "v",
         "showlegend": true,
         "type": "scatter",
         "x": [
          -0.1321078775782286,
          -0.13160350787544878,
          -0.13134102386498167,
          -0.13181650502588993,
          -0.13238978015766892,
          -0.1290495042713894,
          -0.13097978484845577,
          -0.13104465993040965,
          -0.13429811157227672,
          -0.13358614792562745,
          -0.13261490933280318,
          -0.13578112768811446,
          -0.1381401882291524,
          -0.13670304612631476,
          -0.1348850180440769,
          -0.138393760927545,
          -0.13742168011330136,
          -0.13724839762352448,
          0.3244646505709469,
          0.31667291960706323,
          0.3241268505445352,
          0.3134598503854351,
          0.3194548894196486,
          0.3160467062001434,
          0.3150479648938831,
          0.31606822054794825,
          0.31377330327668707
         ],
         "xaxis": "x",
         "y": [
          -0.029425887039683133,
          -0.032755643379425485,
          -0.030916238289015397,
          -0.03747015494607918,
          -0.03376875904712227,
          -0.041368504278674396,
          -0.036487727535300316,
          -0.040177929302048075,
          -0.03370193935189334,
          -0.02917048428162532,
          -0.03044338200416809,
          -0.0312623831631779,
          -0.03563642801838596,
          -0.03303274428185052,
          -0.03548571806360462,
          -0.03734262087042576,
          -0.03864388768035952,
          -0.030679891489171246,
          -0.2230311017319486,
          -0.22635806716006235,
          -0.23289133525987954,
          -0.23634419003381346,
          -0.23707437740929208,
          -0.23593995550083802,
          -0.24369979052423466,
          -0.23618715803741094,
          -0.2438523824235034
         ],
         "yaxis": "y"
        },
        {
         "hovertemplate": "<b>%{hovertext}</b><br><br>contains=Fecal_2<br>PC1 (75.6 %)=%{x}<br>PC2 (9.8 %)=%{y}<extra></extra>",
         "hovertext": [
          "QEC18_F2_20181227121553.mzML",
          "QEC18_F2_20181228001213.mzML",
          "QEC18_F2.mzML",
          "QEC18RT_F2_20181228211241.mzML",
          "QEC18RT_F2_20181229083715.mzML",
          "QEC18RT_F2.mzML",
          "C18_F2_GA2_01_19405.mzML",
          "C18_F2_GA2_01_19444.mzML",
          "C18_F2_GA2_01_19478.mzML"
         ],
         "legendgroup": "Fecal_2",
         "marker": {
          "color": "#D62728",
          "symbol": "circle"
         },
         "mode": "markers",
         "name": "Fecal_2",
         "orientation": "v",
         "showlegend": true,
         "type": "scatter",
         "x": [
          -0.13429610558165606,
          -0.13239212224244,
          -0.1325104783826197,
          -0.134384510614098,
          -0.1350068991583636,
          -0.1361564222111428,
          0.2615168046222459,
          0.26066404586339886,
          0.2640868807489838
         ],
         "xaxis": "x",
         "y": [
          0.004305094045064746,
          0.00646882517742057,
          0.003630644655932025,
          0.003310035300928173,
          0.005053649908587344,
          0.003810645896819537,
          0.06930267715225329,
          0.06960619233594947,
          0.08214416286883028
         ],
         "yaxis": "y"
        },
        {
         "hovertemplate": "<b>%{hovertext}</b><br><br>contains=Fecal_2 + Plasma<br>PC1 (75.6 %)=%{x}<br>PC2 (9.8 %)=%{y}<extra></extra>",
         "hovertext": [
          "QEC18_F2-1_NIST-3_20181227103932.mzML",
          "QEC18_F2-1_NIST-3_20181227145038.mzML",
          "QEC18_F2-1_NIST-3.mzML",
          "QEC18_F2-1_NIST-1_20181227212113.mzML",
          "QEC18_F2-1_NIST-1_20181227233413.mzML",
          "QEC18_F2-1_NIST-1.mzML",
          "QEC18_F2-3_NIST-1_20181227162723.mzML",
          "QEC18_F2-3_NIST-1_20181228005015.mzML",
          "QEC18_F2-3_NIST-1.mzML",
          "QEC18RT_F2-1_NIST-3_20181228193737.mzML",
          "QEC18RT_F2-1_NIST-3_20181228234449.mzML",
          "QEC18RT_F2-1_NIST-3.mzML",
          "QEC18RT_F2-1_NIST-1_20181229054607.mzML",
          "QEC18RT_F2-1_NIST-1_20181229075915.mzML",
          "QEC18RT_F2-1_NIST-1.mzML",
          "QEC18RT_F2-3_NIST-1_20181229011957.mzML",
          "QEC18RT_F2-3_NIST-1_20181229091519.mzML",
          "QEC18RT_F2-3_NIST-1.mzML",
          "C18_F2-1_NIST-3_GD4_01_19403.mzML",
          "C18_F2-1_NIST-3_GD4_01_19440.mzML",
          "C18_F2-1_NIST-3_GD4_01_19452.mzML",
          "C18_F2-1_NIST-1_GD2_01_19428.mzML",
          "C18_F2-1_NIST-1_GD2_01_19467.mzML",
          "C18_F2-1_NIST-1_GD2_01_19476.mzML",
          "C18_F2-3_NIST-1_GD3_01_19436.mzML",
          "C18_F2-3_NIST-1_GD3_01_19456.mzML",
          "C18_F2-3_NIST-1_GD3_01_19480.mzML"
         ],
         "legendgroup": "Fecal_2 + Plasma",
         "marker": {
          "color": "#9467BD",
          "symbol": "circle"
         },
         "mode": "markers",
         "name": "Fecal_2 + Plasma",
         "orientation": "v",
         "showlegend": true,
         "type": "scatter",
         "x": [
          -0.130381668726348,
          -0.1336328791580912,
          -0.13165907880782357,
          -0.13261442839688342,
          -0.13208898831993252,
          -0.13112000464611953,
          -0.1335283635891544,
          -0.13265883286179428,
          -0.1330151551322957,
          -0.13273972592603775,
          -0.13239992366706246,
          -0.13214487612625986,
          -0.13413557162806225,
          -0.1330872411369446,
          -0.13215312188794887,
          -0.13357779857441368,
          -0.13269048454185176,
          -0.13433910530210602,
          0.27828685113138873,
          0.27985635459152136,
          0.27483480704785934,
          0.26650864189117346,
          0.2765115367898142,
          0.2781844063488369,
          0.26798649507530165,
          0.26486220993603216,
          0.26833020828708837
         ],
         "xaxis": "x",
         "y": [
          0.007778968112875456,
          0.009121247358716522,
          0.0011663893749815771,
          0.006814461735017129,
          0.004178349469644598,
          0.0033741366242197863,
          0.005396942538840437,
          0.007075598563851414,
          0.008503757598966738,
          0.00294299860459912,
          0.004392810484018851,
          0.001621425290952124,
          0.0011159458008071286,
          0.0005515815099405758,
          0.00031011338913354406,
          0.0013347559144910683,
          0.004398318713076883,
          0.004342664299998857,
          0.060930076943083056,
          0.06374361384395132,
          0.06407332270556075,
          0.06259220532772182,
          0.0649189312397841,
          0.06217797453220087,
          0.0679206202454384,
          0.07376720290663283,
          0.07832234242660385
         ],
         "yaxis": "y"
        },
        {
         "hovertemplate": "<b>%{hovertext}</b><br><br>contains=Fecal_2 + Tomato<br>PC1 (75.6 %)=%{x}<br>PC2 (9.8 %)=%{y}<extra></extra>",
         "hovertext": [
          "QEC18_F2-1_To-3_20181226223728.mzML",
          "QEC18_F2-1_To-3_20181227041925.mzML",
          "QEC18_F2-1_To-3.mzML",
          "QEC18_F2-1_To-1_20181227150959.mzML",
          "QEC18_F2-1_To-1_20181228014719.mzML",
          "QEC18_F2-1_To-1.mzML",
          "QEC18_F2-3_To-1_20181227082626.mzML",
          "QEC18_F2-3_To-1_20181227164643.mzML",
          "QEC18_F2-3_To-1.mzML",
          "QEC18RT_F2-1_To-3_20181228071021.mzML",
          "QEC18RT_F2-1_To-3_20181228125213.mzML",
          "QEC18RT_F2-1_To-3.mzML",
          "QEC18RT_F2-1_To-1_20181229000349.mzML",
          "QEC18RT_F2-1_To-1_20181229101223.mzML",
          "QEC18RT_F2-1_To-1.mzML",
          "QEC18RT_F2-3_To-1_20181228165919.mzML",
          "QEC18RT_F2-3_To-1_20181229013857.mzML",
          "QEC18RT_F2-3_To-1.mzML",
          "C18_F2-1_To-3_GB8_01_19401.mzML",
          "C18_F2-1_To-3_GB8_01_19404.mzML",
          "C18_F2-1_To-3_GB8_01_19422.mzML",
          "C18_F2-1_To-1_GB6_01_19438.mzML",
          "C18_F2-1_To-1_GB6_01_19453.mzML",
          "C18_F2-1_To-1_GB6_01_19483.mzML",
          "C18_F2-3_To-1_GB7_01_19409.mzML",
          "C18_F2-3_To-1_GB7_01_19434.mzML",
          "C18_F2-3_To-1_GB7_01_19457.mzML"
         ],
         "legendgroup": "Fecal_2 + Tomato",
         "marker": {
          "color": "#8C564B",
          "symbol": "circle"
         },
         "mode": "markers",
         "name": "Fecal_2 + Tomato",
         "orientation": "v",
         "showlegend": true,
         "type": "scatter",
         "x": [
          -0.1315206021441966,
          -0.13189606914858285,
          -0.131529744325807,
          -0.13004693445382462,
          -0.132858158176749,
          -0.13087906717585915,
          -0.12984702933926554,
          -0.13198305564265017,
          -0.1301253456649351,
          -0.13168206562373655,
          -0.13476702733001986,
          -0.13374101110245518,
          -0.13333978280994158,
          -0.1316713026100491,
          -0.13278595290616105,
          -0.13295630831783023,
          -0.13454187120437372,
          -0.1331855598491421,
          0.2760142121293209,
          0.2845102341767559,
          0.28509265588954563,
          0.2760372270838468,
          0.2777294690685517,
          0.28125411620115864,
          0.268096130836937,
          0.2693567078945706,
          0.2705116597127338
         ],
         "xaxis": "x",
         "y": [
          -0.019320894019313764,
          -0.016755446555652666,
          -0.018518929970042477,
          -0.016272746436181252,
          -0.015517053022329013,
          -0.015069972692743891,
          -0.011626024275574711,
          -0.014560510711242656,
          -0.011804675088703654,
          -0.018038635066227004,
          -0.016931246836648498,
          -0.016761626932870893,
          -0.01452463608801051,
          -0.013975109619851081,
          -0.01530152942414971,
          -0.013991398436126427,
          -0.013269662161018554,
          -0.012584141073042706,
          -0.09662482812806475,
          -0.08592704569502338,
          -0.07901789414753939,
          -0.04312602556492691,
          -0.04803449853782318,
          -0.04940049882042266,
          -0.008210679194015538,
          -0.012069520422440127,
          -0.011281675407243336
         ],
         "yaxis": "y"
        },
        {
         "hovertemplate": "<b>%{hovertext}</b><br><br>contains=Fecal_1<br>PC1 (75.6 %)=%{x}<br>PC2 (9.8 %)=%{y}<extra></extra>",
         "hovertext": [
          "QEC18_F1_20181227030329.mzML",
          "QEC18_F1_20181228032223.mzML",
          "QEC18_F1.mzML",
          "QEC18RT_F1_20181228113615.mzML",
          "QEC18RT_F1_20181229114729.mzML",
          "QEC18RT_F1.mzML",
          "C18_F1_GA1_01_19410.mzML",
          "C18_F1_GA1_01_19418.mzML",
          "C18_F1_GA1_01_19488.mzML"
         ],
         "legendgroup": "Fecal_1",
         "marker": {
          "color": "#E377C2",
          "symbol": "circle"
         },
         "mode": "markers",
         "name": "Fecal_1",
         "orientation": "v",
         "showlegend": true,
         "type": "scatter",
         "x": [
          -0.1300571723312909,
          -0.13001437397015903,
          -0.13052088390953204,
          -0.12911998860488877,
          -0.12803777602119157,
          -0.12806921974893845,
          0.25398541040519107,
          0.24907387037124115,
          0.2525437641729303
         ],
         "xaxis": "x",
         "y": [
          0.020579376880082545,
          0.02278937803324742,
          0.020297487313146383,
          0.018617139011841557,
          0.017404609628638514,
          0.016680462934580968,
          0.11199723501916711,
          0.11054563305377083,
          0.12334566380197827
         ],
         "yaxis": "y"
        },
        {
         "hovertemplate": "<b>%{hovertext}</b><br><br>contains=Fecal_1 + Fecal_2 + Tomato + Plasma<br>PC1 (75.6 %)=%{x}<br>PC2 (9.8 %)=%{y}<extra></extra>",
         "hovertext": [
          "QEC18_F1-1_F2-1_NIST-2_To-1_20181227152919.mzML",
          "QEC18_F1-1_F2-1_NIST-2_To-1_20181227225613.mzML",
          "QEC18_F1-1_F2-1_NIST-2_To-1.mzML",
          "QEC18_F1-1_F2-1_NIST-1_To-2_20181227113714.mzML",
          "QEC18_F1-1_F2-1_NIST-1_To-2_20181227184249.mzML",
          "QEC18_F1-1_F2-1_NIST-1_To-2.mzML",
          "QEC18_F1-1_F2-2_NIST-1_To-1_20181227065123.mzML",
          "QEC18_F1-1_F2-2_NIST-1_To-1_20181228034123.mzML",
          "QEC18_F1-1_F2-2_NIST-1_To-1.mzML",
          "QEC18_Qcmix_begin.mzML",
          "QEC18_Qcmix_middle.mzML",
          "QEC18_Qcmix_end.mzML",
          "QEC18_Qcmix_end_20181228041923.mzML",
          "QEC18RT_Qcmix_begin.mzML",
          "QEC18RT_Qcmix_middle.mzML",
          "QEC18RT_Qcmix_end.mzML",
          "QEC18_F1-1_F2-1_NIST-1_To-1_20181227125436.mzML",
          "QEC18_F1-1_F2-1_NIST-1_To-1_20181227135238.mzML",
          "QEC18_F1-1_F2-1_NIST-1_To-1.mzML",
          "QEC18_F1-2_F2-1_NIST-1_To-1_20181228020619.mzML",
          "QEC18_F1-2_F2-1_NIST-1_To-1_20181228022521.mzML",
          "QEC18_F1-2_F2-1_NIST-1_To-1.mzML",
          "QEC18RT_F1-1_F2-1_NIST-2_To-1_20181229002251.mzML",
          "QEC18RT_F1-1_F2-1_NIST-2_To-1_20181229072113.mzML",
          "QEC18RT_F1-1_F2-1_NIST-2_To-1.mzML",
          "QEC18RT_F1-1_F2-1_NIST-1_To-2_20181228203439.mzML",
          "QEC18RT_F1-1_F2-1_NIST-1_To-2_20181229033303.mzML",
          "QEC18RT_F1-1_F2-1_NIST-1_To-2.mzML",
          "QEC18RT_F1-1_F2-2_NIST-1_To-1_20181228152413.mzML",
          "QEC18RT_F1-1_F2-2_NIST-1_To-1_20181229120629.mzML",
          "QEC18RT_F1-1_F2-2_NIST-1_To-1.mzML",
          "QEC18RT_F1-1_F2-1_NIST-1_To-1_20181228215043.mzML",
          "QEC18RT_F1-1_F2-1_NIST-1_To-1_20181228224749.mzML",
          "QEC18RT_F1-1_F2-1_NIST-1_To-1.mzML",
          "QEC18RT_F1-2_F2-1_NIST-1_To-1_20181229103125.mzML",
          "QEC18RT_F1-2_F2-1_NIST-1_To-1_20181229105027.mzML",
          "QEC18RT_F1-2_F2-1_NIST-1_To-1.mzML",
          "C18_F1-1_F2-1_NIST-2_To-1_GA7_01_19426.mzML",
          "C18_F1-1_F2-1_NIST-2_To-1_GA7_01_19454.mzML",
          "C18_F1-1_F2-1_NIST-2_To-1_GA7_01_19474.mzML",
          "C18_F1-1_F2-1_NIST-1_To-2_GB1_01_19441.mzML",
          "C18_F1-1_F2-1_NIST-1_To-2_GB1_01_19443.mzML",
          "C18_F1-1_F2-1_NIST-1_To-2_GB1_01_19462.mzML",
          "C18_F1-1_F2-2_NIST-1_To-1_GA8_01_19414.mzML",
          "C18_F1-1_F2-2_NIST-1_To-1_GA8_01_19429.mzML",
          "C18_F1-1_F2-2_NIST-1_To-1_GA8_01_19489.mzML",
          "C18_F1-1_F2-1_NIST-1_To-1_GA6_01_19415.mzML",
          "C18_F1-1_F2-1_NIST-1_To-1_GA6_01_19447.mzML",
          "C18_F1-1_F2-1_NIST-1_To-1_GA6_01_19491.mzML",
          "C18_F1-2_F2-1_NIST-1_To-1_GB2_01_19425.mzML",
          "C18_F1-2_F2-1_NIST-1_To-1_GB2_01_19484.mzML",
          "C18_F1-2_F2-1_NIST-1_To-1_GB2_01_19485.mzML"
         ],
         "legendgroup": "Fecal_1 + Fecal_2 + Tomato + Plasma",
         "marker": {
          "color": "#7F7F7F",
          "symbol": "circle"
         },
         "mode": "markers",
         "name": "Fecal_1 + Fecal_2 + Tomato + Plasma",
         "orientation": "v",
         "showlegend": true,
         "type": "scatter",
         "x": [
          -0.12556509864928192,
          -0.1261881522268799,
          -0.12487430687477946,
          -0.1255264757718082,
          -0.1259646255197818,
          -0.12567335602500163,
          -0.1250666680562042,
          -0.12611748386169178,
          -0.12654657004701003,
          -0.126848564894296,
          -0.1256563581346225,
          -0.12605496025073679,
          -0.12565887685780108,
          -0.12665457683816947,
          -0.12621088690249238,
          -0.1273157074829911,
          -0.12586817189549837,
          -0.12554265989770816,
          -0.1272210930454027,
          -0.12660428403083165,
          -0.12484554852294034,
          -0.1251557563730147,
          -0.12654243793404424,
          -0.12838527057614307,
          -0.1269479726890654,
          -0.12576973583208917,
          -0.12684951776380207,
          -0.1265222616585894,
          -0.12535383315831847,
          -0.12748352386084472,
          -0.12682493580588675,
          -0.12640939718117927,
          -0.12700866435037253,
          -0.12731236145122038,
          -0.12662604535056615,
          -0.1258109534148624,
          -0.12643244826677896,
          0.25906393402198274,
          0.25905406109065765,
          0.26507489852335253,
          0.2618093129821599,
          0.2644525051126906,
          0.2604857320406864,
          0.26007149401256036,
          0.2605503774966173,
          0.2609514995323683,
          0.2640152853922255,
          0.260382691195088,
          0.2653791957476316,
          0.2584420952548467,
          0.26501249204358984,
          0.26436283863296495
         ],
         "xaxis": "x",
         "y": [
          -0.004094618017220084,
          -0.003903918417473625,
          -0.004726188151978456,
          -0.006480635691185622,
          -0.005434101580852749,
          -0.005568492553889779,
          -0.0038877171539001528,
          -0.0013066573517216701,
          -0.0029313055128100288,
          -0.0034234011875508715,
          -0.004602981722880971,
          -0.004660833497830285,
          -0.004537557398345842,
          -0.003161409780028989,
          -0.004784706311376378,
          -0.003566237959912181,
          -0.002564054054198095,
          -0.004302631702141981,
          -0.0029673062660684714,
          -0.0025762495582308414,
          -0.0030830081684251527,
          -0.0025939415543048895,
          -0.00454824998838888,
          -0.0029677268139754794,
          -0.004641340755289946,
          -0.00460681406276346,
          -0.004686344245068428,
          -0.005874836037301088,
          -0.005451850513072754,
          -0.0024595138640137637,
          -0.003852568077758785,
          -0.004189972518460225,
          -0.004047399771264411,
          -0.0032352561461517337,
          -0.0036452976245797087,
          -0.0032622365248781873,
          -0.0038715271063667314,
          0.03197382542251617,
          0.04153650383002761,
          0.033306523653989686,
          0.018637826826627492,
          0.01128327943998234,
          0.005487118590976485,
          0.032383203287636664,
          0.03515751222445055,
          0.04342869018857462,
          0.03429357313468391,
          0.03285373885291752,
          0.03415443374803361,
          0.04929988022493446,
          0.05501727117548974,
          0.05091485125435671
         ],
         "yaxis": "y"
        },
        {
         "hovertemplate": "<b>%{hovertext}</b><br><br>contains=Fecal_1 + Plasma<br>PC1 (75.6 %)=%{x}<br>PC2 (9.8 %)=%{y}<extra></extra>",
         "hovertext": [
          "QEC18_F1-1_NIST-3_20181227133316.mzML",
          "QEC18_F1-1_NIST-3_20181228012817.mzML",
          "QEC18_F1-1_NIST-3.mzML",
          "QEC18_F1-1_NIST-1_20181227210213.mzML",
          "QEC18_F1-1_NIST-1_20181227215913.mzML",
          "QEC18_F1-1_NIST-1.mzML",
          "QEC18_F1-3_NIST-1_20181227045725.mzML",
          "QEC18_F1-3_NIST-1_20181227170603.mzML",
          "QEC18_F1-3_NIST-1.mzML",
          "QEC18RT_F1-1_NIST-3_20181228222847.mzML",
          "QEC18RT_F1-1_NIST-3_20181229095321.mzML",
          "QEC18RT_F1-1_NIST-3.mzML",
          "QEC18RT_F1-1_NIST-1_20181229052705.mzML",
          "QEC18RT_F1-1_NIST-1_20181229062407.mzML",
          "QEC18RT_F1-1_NIST-1.mzML",
          "QEC18RT_F1-3_NIST-1_20181228133015.mzML",
          "QEC18RT_F1-3_NIST-1_20181229015759.mzML",
          "QEC18RT_F1-3_NIST-1.mzML",
          "C18_F1-1_NIST-3_GD1_01_19400.mzML",
          "C18_F1-1_NIST-3_GD1_01_19449.mzML",
          "C18_F1-1_NIST-3_GD1_01_19482.mzML",
          "C18_F1-1_NIST-1_GC7_01_19464.mzML",
          "C18_F1-1_NIST-1_GC7_01_19466.mzML",
          "C18_F1-1_NIST-1_GC7_01_19469.mzML",
          "C18_F1-3_NIST-1_GC8_01_19407.mzML",
          "C18_F1-3_NIST-1_GC8_01_19424.mzML",
          "C18_F1-3_NIST-1_GC8_01_19458.mzML"
         ],
         "legendgroup": "Fecal_1 + Plasma",
         "marker": {
          "color": "#BCBD22",
          "symbol": "circle"
         },
         "mode": "markers",
         "name": "Fecal_1 + Plasma",
         "orientation": "v",
         "showlegend": true,
         "type": "scatter",
         "x": [
          -0.12996785495014326,
          -0.12866854053774812,
          -0.1330974214586521,
          -0.12835840326648779,
          -0.12857451754357582,
          -0.12854186905654896,
          -0.12907993906617865,
          -0.1288703685955265,
          -0.13031420372395705,
          -0.12698057705598573,
          -0.12816792902189098,
          -0.1293556948937089,
          -0.12667094188395078,
          -0.12803737592654318,
          -0.12773181758161525,
          -0.12798572504864766,
          -0.1290972497703042,
          -0.12752274843857261,
          0.2532643531718236,
          0.25550835993524346,
          0.2549589320818029,
          0.2523099905676925,
          0.25291596457932625,
          0.25310759178542763,
          0.2500400624640127,
          0.2500802546339966,
          0.24957366020166377
         ],
         "xaxis": "x",
         "y": [
          0.02093618310584014,
          0.018421371893500856,
          0.024101547545313417,
          0.017888834433322245,
          0.01989810316214523,
          0.02123582610387862,
          0.01979720497958625,
          0.020677835501908163,
          0.02118870158192382,
          0.017155372118113375,
          0.014505791470535767,
          0.016907706500831166,
          0.01602161962229172,
          0.015187733435390337,
          0.01775533137488317,
          0.016307715721520177,
          0.018208002016352528,
          0.017063657770556625,
          0.11697439858852166,
          0.11438266960911277,
          0.11155582933440852,
          0.11712622362783762,
          0.12194454975862289,
          0.11698526037659057,
          0.11806862047094069,
          0.11601270510437649,
          0.11909603534798242
         ],
         "yaxis": "y"
        },
        {
         "hovertemplate": "<b>%{hovertext}</b><br><br>contains=Fecal_1 + Tomato<br>PC1 (75.6 %)=%{x}<br>PC2 (9.8 %)=%{y}<extra></extra>",
         "hovertext": [
          "QEC18_F1-1_To-3_20181227174446.mzML",
          "QEC18_F1-1_To-3_20181227223713.mzML",
          "QEC18_F1-1_To-3.mzML",
          "QEC18_F1-1_To-1_20181227043825.mzML",
          "QEC18_F1-1_To-1_20181227123513.mzML",
          "QEC18_F1-1_To-1.mzML",
          "QEC18_F1-3_To-1_20181228003115.mzML",
          "QEC18_F1-3_To-1_20181228024423.mzML",
          "QEC18_F1-3_To-1.mzML",
          "QEC18RT_F1-1_To-3_20181229023601.mzML",
          "QEC18RT_F1-1_To-3_20181229070211.mzML",
          "QEC18RT_F1-1_To-3.mzML",
          "QEC18RT_F1-1_To-1_20181228131115.mzML",
          "QEC18RT_F1-1_To-1_20181228213143.mzML",
          "QEC18RT_F1-1_To-1.mzML",
          "QEC18RT_F1-3_To-1_20181229085617.mzML",
          "QEC18RT_F1-3_To-1_20181229110929.mzML",
          "QEC18RT_F1-3_To-1.mzML",
          "C18_F1-1_To-3_GC6_01_19420.mzML",
          "C18_F1-1_To-3_GC6_01_19460.mzML",
          "C18_F1-1_To-3_GC6_01_19473.mzML",
          "C18_F1-1_To-1_GC4_01_19421.mzML",
          "C18_F1-1_To-1_GC4_01_19423.mzML",
          "C18_F1-1_To-1_GC4_01_19445.mzML",
          "C18_F1-3_To-1_GC5_01_19433.mzML",
          "C18_F1-3_To-1_GC5_01_19479.mzML",
          "C18_F1-3_To-1_GC5_01_19486.mzML"
         ],
         "legendgroup": "Fecal_1 + Tomato",
         "marker": {
          "color": "#17BECF",
          "symbol": "circle"
         },
         "mode": "markers",
         "name": "Fecal_1 + Tomato",
         "orientation": "v",
         "showlegend": true,
         "type": "scatter",
         "x": [
          -0.1270225850990318,
          -0.1260622544583488,
          -0.12859666614552856,
          -0.12520297292372748,
          -0.12671220487502477,
          -0.12522189546485935,
          -0.12511742263780035,
          -0.12623590481813587,
          -0.12602609948745233,
          -0.12818179782084613,
          -0.1291386992394752,
          -0.12814381943732464,
          -0.12728966690107474,
          -0.12607859390135612,
          -0.12850544318820686,
          -0.12742121211384877,
          -0.1268945521342226,
          -0.12623685220834574,
          0.2672775916215883,
          0.26722169417272124,
          0.2708124188997094,
          0.265972809428195,
          0.2603678855081399,
          0.26275831521984994,
          0.26026786247917866,
          0.2601103865810491,
          0.25934486194770545
         ],
         "xaxis": "x",
         "y": [
          -0.007740735781702312,
          -0.007668580354823756,
          -0.004618535840189767,
          -0.005748037006413847,
          -0.006733796535225233,
          -0.00612372103412331,
          -0.0020663016495747555,
          -0.003601402067247555,
          -0.002856034853246351,
          -0.006528654408646937,
          -0.006589256345033337,
          -0.004699866115747528,
          -0.004808943989671799,
          -0.0033691849726305845,
          -0.00483636656156465,
          -0.0018043590198788381,
          -0.0016410076289605766,
          -0.005009187666777646,
          -0.010442103469961297,
          -0.02119766722213903,
          -0.020668272124257023,
          0.008239860283162922,
          0.01328582504984777,
          0.014828452223310928,
          0.03372729446209966,
          0.04827815085770832,
          0.04138128785087799
         ],
         "yaxis": "y"
        },
        {
         "hovertemplate": "<b>%{hovertext}</b><br><br>contains=Fecal_1 + Fecal_2<br>PC1 (75.6 %)=%{x}<br>PC2 (9.8 %)=%{y}<extra></extra>",
         "hovertext": [
          "QEC18_F1-1_F2-3_20181227012831.mzML",
          "QEC18_F1-1_F2-3_20181227071023.mzML",
          "QEC18_F1-1_F2-3.mzML",
          "QEC18_F1-1_F2-1_20181227084526.mzML",
          "QEC18_F1-1_F2-1_20181227143118.mzML",
          "QEC18_F1-1_F2-1.mzML",
          "QEC18_F1-3_F2-1_20181227131356.mzML",
          "QEC18_F1-3_F2-1_20181227190209.mzML",
          "QEC18_F1-3_F2-1.mzML",
          "QEC18RT_F1-1_F2-3_20181228100117.mzML",
          "QEC18RT_F1-1_F2-3_20181228154315.mzML",
          "QEC18RT_F1-1_F2-3.mzML",
          "QEC18RT_F1-1_F2-1_20181228171821.mzML",
          "QEC18RT_F1-1_F2-1_20181228232549.mzML",
          "QEC18RT_F1-1_F2-1.mzML",
          "QEC18RT_F1-3_F2-1_20181228220945.mzML",
          "QEC18RT_F1-3_F2-1_20181229035205.mzML",
          "QEC18RT_F1-3_F2-1.mzML",
          "C18_F1-1_F2-3_GB5_01_19406.mzML",
          "C18_F1-1_F2-3_GB5_01_19413.mzML",
          "C18_F1-1_F2-3_GB5_01_19430.mzML",
          "C18_F1-1_F2-1_GB3_01_19411.mzML",
          "C18_F1-1_F2-1_GB3_01_19435.mzML",
          "C18_F1-1_F2-1_GB3_01_19451.mzML",
          "C18_F1-3_F2-1_GB4_01_19416.mzML",
          "C18_F1-3_F2-1_GB4_01_19448.mzML",
          "C18_F1-3_F2-1_GB4_01_19463.mzML"
         ],
         "legendgroup": "Fecal_1 + Fecal_2",
         "marker": {
          "color": "#1F77B4",
          "symbol": "circle"
         },
         "mode": "markers",
         "name": "Fecal_1 + Fecal_2",
         "orientation": "v",
         "showlegend": true,
         "type": "scatter",
         "x": [
          -0.12838551420175717,
          -0.1288752639294194,
          -0.12853301070717393,
          -0.1285921064272601,
          -0.12788978173880558,
          -0.13352861202070182,
          -0.1302928097719321,
          -0.13010975540024655,
          -0.1281216703478993,
          -0.12746260274708757,
          -0.1276754064836218,
          -0.1293171587645954,
          -0.12803167674544408,
          -0.1295984845853927,
          -0.12741962760986944,
          -0.12684885784950656,
          -0.12795490257451564,
          -0.1266632165975531,
          0.25606964469957677,
          0.2505636562567708,
          0.2535388761592143,
          0.24846409073759812,
          0.2551184626412444,
          0.25102747834792494,
          0.25154939810896904,
          0.25189517313718063,
          0.24880345908315993
         ],
         "xaxis": "x",
         "y": [
          0.014471144202409325,
          0.014720644281569136,
          0.017220176054211403,
          0.018576612788479555,
          0.01728652936280009,
          0.021360556741006904,
          0.018987112561910668,
          0.019746466929838998,
          0.01910799936288029,
          0.01283162095919442,
          0.013893830633960658,
          0.014859591076306678,
          0.014396939507277216,
          0.0165241721747791,
          0.016328072411633268,
          0.01684488168871731,
          0.016538852339525123,
          0.016396914104992274,
          0.10571342798333275,
          0.10816007374769032,
          0.109608002620349,
          0.11339557087491432,
          0.10643306291926276,
          0.10775106137374099,
          0.1189143106697106,
          0.1140259179194351,
          0.11212787832601095
         ],
         "yaxis": "y"
        }
       ],
       "layout": {
        "height": 650,
        "legend": {
         "title": {
          "text": "contains"
         },
         "tracegroupgap": 0
        },
        "template": {
         "data": {
          "bar": [
           {
            "error_x": {
             "color": "rgb(36,36,36)"
            },
            "error_y": {
             "color": "rgb(36,36,36)"
            },
            "marker": {
             "line": {
              "color": "white",
              "width": 0.5
             },
             "pattern": {
              "fillmode": "overlay",
              "size": 10,
              "solidity": 0.2
             }
            },
            "type": "bar"
           }
          ],
          "barpolar": [
           {
            "marker": {
             "line": {
              "color": "white",
              "width": 0.5
             },
             "pattern": {
              "fillmode": "overlay",
              "size": 10,
              "solidity": 0.2
             }
            },
            "type": "barpolar"
           }
          ],
          "carpet": [
           {
            "aaxis": {
             "endlinecolor": "rgb(36,36,36)",
             "gridcolor": "white",
             "linecolor": "white",
             "minorgridcolor": "white",
             "startlinecolor": "rgb(36,36,36)"
            },
            "baxis": {
             "endlinecolor": "rgb(36,36,36)",
             "gridcolor": "white",
             "linecolor": "white",
             "minorgridcolor": "white",
             "startlinecolor": "rgb(36,36,36)"
            },
            "type": "carpet"
           }
          ],
          "choropleth": [
           {
            "colorbar": {
             "outlinewidth": 1,
             "tickcolor": "rgb(36,36,36)",
             "ticks": "outside"
            },
            "type": "choropleth"
           }
          ],
          "contour": [
           {
            "colorbar": {
             "outlinewidth": 1,
             "tickcolor": "rgb(36,36,36)",
             "ticks": "outside"
            },
            "colorscale": [
             [
              0,
              "#440154"
             ],
             [
              0.1111111111111111,
              "#482878"
             ],
             [
              0.2222222222222222,
              "#3e4989"
             ],
             [
              0.3333333333333333,
              "#31688e"
             ],
             [
              0.4444444444444444,
              "#26828e"
             ],
             [
              0.5555555555555556,
              "#1f9e89"
             ],
             [
              0.6666666666666666,
              "#35b779"
             ],
             [
              0.7777777777777778,
              "#6ece58"
             ],
             [
              0.8888888888888888,
              "#b5de2b"
             ],
             [
              1,
              "#fde725"
             ]
            ],
            "type": "contour"
           }
          ],
          "contourcarpet": [
           {
            "colorbar": {
             "outlinewidth": 1,
             "tickcolor": "rgb(36,36,36)",
             "ticks": "outside"
            },
            "type": "contourcarpet"
           }
          ],
          "heatmap": [
           {
            "colorbar": {
             "outlinewidth": 1,
             "tickcolor": "rgb(36,36,36)",
             "ticks": "outside"
            },
            "colorscale": [
             [
              0,
              "#440154"
             ],
             [
              0.1111111111111111,
              "#482878"
             ],
             [
              0.2222222222222222,
              "#3e4989"
             ],
             [
              0.3333333333333333,
              "#31688e"
             ],
             [
              0.4444444444444444,
              "#26828e"
             ],
             [
              0.5555555555555556,
              "#1f9e89"
             ],
             [
              0.6666666666666666,
              "#35b779"
             ],
             [
              0.7777777777777778,
              "#6ece58"
             ],
             [
              0.8888888888888888,
              "#b5de2b"
             ],
             [
              1,
              "#fde725"
             ]
            ],
            "type": "heatmap"
           }
          ],
          "heatmapgl": [
           {
            "colorbar": {
             "outlinewidth": 1,
             "tickcolor": "rgb(36,36,36)",
             "ticks": "outside"
            },
            "colorscale": [
             [
              0,
              "#440154"
             ],
             [
              0.1111111111111111,
              "#482878"
             ],
             [
              0.2222222222222222,
              "#3e4989"
             ],
             [
              0.3333333333333333,
              "#31688e"
             ],
             [
              0.4444444444444444,
              "#26828e"
             ],
             [
              0.5555555555555556,
              "#1f9e89"
             ],
             [
              0.6666666666666666,
              "#35b779"
             ],
             [
              0.7777777777777778,
              "#6ece58"
             ],
             [
              0.8888888888888888,
              "#b5de2b"
             ],
             [
              1,
              "#fde725"
             ]
            ],
            "type": "heatmapgl"
           }
          ],
          "histogram": [
           {
            "marker": {
             "line": {
              "color": "white",
              "width": 0.6
             }
            },
            "type": "histogram"
           }
          ],
          "histogram2d": [
           {
            "colorbar": {
             "outlinewidth": 1,
             "tickcolor": "rgb(36,36,36)",
             "ticks": "outside"
            },
            "colorscale": [
             [
              0,
              "#440154"
             ],
             [
              0.1111111111111111,
              "#482878"
             ],
             [
              0.2222222222222222,
              "#3e4989"
             ],
             [
              0.3333333333333333,
              "#31688e"
             ],
             [
              0.4444444444444444,
              "#26828e"
             ],
             [
              0.5555555555555556,
              "#1f9e89"
             ],
             [
              0.6666666666666666,
              "#35b779"
             ],
             [
              0.7777777777777778,
              "#6ece58"
             ],
             [
              0.8888888888888888,
              "#b5de2b"
             ],
             [
              1,
              "#fde725"
             ]
            ],
            "type": "histogram2d"
           }
          ],
          "histogram2dcontour": [
           {
            "colorbar": {
             "outlinewidth": 1,
             "tickcolor": "rgb(36,36,36)",
             "ticks": "outside"
            },
            "colorscale": [
             [
              0,
              "#440154"
             ],
             [
              0.1111111111111111,
              "#482878"
             ],
             [
              0.2222222222222222,
              "#3e4989"
             ],
             [
              0.3333333333333333,
              "#31688e"
             ],
             [
              0.4444444444444444,
              "#26828e"
             ],
             [
              0.5555555555555556,
              "#1f9e89"
             ],
             [
              0.6666666666666666,
              "#35b779"
             ],
             [
              0.7777777777777778,
              "#6ece58"
             ],
             [
              0.8888888888888888,
              "#b5de2b"
             ],
             [
              1,
              "#fde725"
             ]
            ],
            "type": "histogram2dcontour"
           }
          ],
          "mesh3d": [
           {
            "colorbar": {
             "outlinewidth": 1,
             "tickcolor": "rgb(36,36,36)",
             "ticks": "outside"
            },
            "type": "mesh3d"
           }
          ],
          "parcoords": [
           {
            "line": {
             "colorbar": {
              "outlinewidth": 1,
              "tickcolor": "rgb(36,36,36)",
              "ticks": "outside"
             }
            },
            "type": "parcoords"
           }
          ],
          "pie": [
           {
            "automargin": true,
            "type": "pie"
           }
          ],
          "scatter": [
           {
            "marker": {
             "colorbar": {
              "outlinewidth": 1,
              "tickcolor": "rgb(36,36,36)",
              "ticks": "outside"
             }
            },
            "type": "scatter"
           }
          ],
          "scatter3d": [
           {
            "line": {
             "colorbar": {
              "outlinewidth": 1,
              "tickcolor": "rgb(36,36,36)",
              "ticks": "outside"
             }
            },
            "marker": {
             "colorbar": {
              "outlinewidth": 1,
              "tickcolor": "rgb(36,36,36)",
              "ticks": "outside"
             }
            },
            "type": "scatter3d"
           }
          ],
          "scattercarpet": [
           {
            "marker": {
             "colorbar": {
              "outlinewidth": 1,
              "tickcolor": "rgb(36,36,36)",
              "ticks": "outside"
             }
            },
            "type": "scattercarpet"
           }
          ],
          "scattergeo": [
           {
            "marker": {
             "colorbar": {
              "outlinewidth": 1,
              "tickcolor": "rgb(36,36,36)",
              "ticks": "outside"
             }
            },
            "type": "scattergeo"
           }
          ],
          "scattergl": [
           {
            "marker": {
             "colorbar": {
              "outlinewidth": 1,
              "tickcolor": "rgb(36,36,36)",
              "ticks": "outside"
             }
            },
            "type": "scattergl"
           }
          ],
          "scattermapbox": [
           {
            "marker": {
             "colorbar": {
              "outlinewidth": 1,
              "tickcolor": "rgb(36,36,36)",
              "ticks": "outside"
             }
            },
            "type": "scattermapbox"
           }
          ],
          "scatterpolar": [
           {
            "marker": {
             "colorbar": {
              "outlinewidth": 1,
              "tickcolor": "rgb(36,36,36)",
              "ticks": "outside"
             }
            },
            "type": "scatterpolar"
           }
          ],
          "scatterpolargl": [
           {
            "marker": {
             "colorbar": {
              "outlinewidth": 1,
              "tickcolor": "rgb(36,36,36)",
              "ticks": "outside"
             }
            },
            "type": "scatterpolargl"
           }
          ],
          "scatterternary": [
           {
            "marker": {
             "colorbar": {
              "outlinewidth": 1,
              "tickcolor": "rgb(36,36,36)",
              "ticks": "outside"
             }
            },
            "type": "scatterternary"
           }
          ],
          "surface": [
           {
            "colorbar": {
             "outlinewidth": 1,
             "tickcolor": "rgb(36,36,36)",
             "ticks": "outside"
            },
            "colorscale": [
             [
              0,
              "#440154"
             ],
             [
              0.1111111111111111,
              "#482878"
             ],
             [
              0.2222222222222222,
              "#3e4989"
             ],
             [
              0.3333333333333333,
              "#31688e"
             ],
             [
              0.4444444444444444,
              "#26828e"
             ],
             [
              0.5555555555555556,
              "#1f9e89"
             ],
             [
              0.6666666666666666,
              "#35b779"
             ],
             [
              0.7777777777777778,
              "#6ece58"
             ],
             [
              0.8888888888888888,
              "#b5de2b"
             ],
             [
              1,
              "#fde725"
             ]
            ],
            "type": "surface"
           }
          ],
          "table": [
           {
            "cells": {
             "fill": {
              "color": "rgb(237,237,237)"
             },
             "line": {
              "color": "white"
             }
            },
            "header": {
             "fill": {
              "color": "rgb(217,217,217)"
             },
             "line": {
              "color": "white"
             }
            },
            "type": "table"
           }
          ]
         },
         "layout": {
          "annotationdefaults": {
           "arrowhead": 0,
           "arrowwidth": 1
          },
          "autotypenumbers": "strict",
          "coloraxis": {
           "colorbar": {
            "outlinewidth": 1,
            "tickcolor": "rgb(36,36,36)",
            "ticks": "outside"
           }
          },
          "colorscale": {
           "diverging": [
            [
             0,
             "rgb(103,0,31)"
            ],
            [
             0.1,
             "rgb(178,24,43)"
            ],
            [
             0.2,
             "rgb(214,96,77)"
            ],
            [
             0.3,
             "rgb(244,165,130)"
            ],
            [
             0.4,
             "rgb(253,219,199)"
            ],
            [
             0.5,
             "rgb(247,247,247)"
            ],
            [
             0.6,
             "rgb(209,229,240)"
            ],
            [
             0.7,
             "rgb(146,197,222)"
            ],
            [
             0.8,
             "rgb(67,147,195)"
            ],
            [
             0.9,
             "rgb(33,102,172)"
            ],
            [
             1,
             "rgb(5,48,97)"
            ]
           ],
           "sequential": [
            [
             0,
             "#440154"
            ],
            [
             0.1111111111111111,
             "#482878"
            ],
            [
             0.2222222222222222,
             "#3e4989"
            ],
            [
             0.3333333333333333,
             "#31688e"
            ],
            [
             0.4444444444444444,
             "#26828e"
            ],
            [
             0.5555555555555556,
             "#1f9e89"
            ],
            [
             0.6666666666666666,
             "#35b779"
            ],
            [
             0.7777777777777778,
             "#6ece58"
            ],
            [
             0.8888888888888888,
             "#b5de2b"
            ],
            [
             1,
             "#fde725"
            ]
           ],
           "sequentialminus": [
            [
             0,
             "#440154"
            ],
            [
             0.1111111111111111,
             "#482878"
            ],
            [
             0.2222222222222222,
             "#3e4989"
            ],
            [
             0.3333333333333333,
             "#31688e"
            ],
            [
             0.4444444444444444,
             "#26828e"
            ],
            [
             0.5555555555555556,
             "#1f9e89"
            ],
            [
             0.6666666666666666,
             "#35b779"
            ],
            [
             0.7777777777777778,
             "#6ece58"
            ],
            [
             0.8888888888888888,
             "#b5de2b"
            ],
            [
             1,
             "#fde725"
            ]
           ]
          },
          "colorway": [
           "#1F77B4",
           "#FF7F0E",
           "#2CA02C",
           "#D62728",
           "#9467BD",
           "#8C564B",
           "#E377C2",
           "#7F7F7F",
           "#BCBD22",
           "#17BECF"
          ],
          "font": {
           "color": "rgb(36,36,36)"
          },
          "geo": {
           "bgcolor": "white",
           "lakecolor": "white",
           "landcolor": "white",
           "showlakes": true,
           "showland": true,
           "subunitcolor": "white"
          },
          "hoverlabel": {
           "align": "left"
          },
          "hovermode": "closest",
          "mapbox": {
           "style": "light"
          },
          "paper_bgcolor": "white",
          "plot_bgcolor": "white",
          "polar": {
           "angularaxis": {
            "gridcolor": "rgb(232,232,232)",
            "linecolor": "rgb(36,36,36)",
            "showgrid": false,
            "showline": true,
            "ticks": "outside"
           },
           "bgcolor": "white",
           "radialaxis": {
            "gridcolor": "rgb(232,232,232)",
            "linecolor": "rgb(36,36,36)",
            "showgrid": false,
            "showline": true,
            "ticks": "outside"
           }
          },
          "scene": {
           "xaxis": {
            "backgroundcolor": "white",
            "gridcolor": "rgb(232,232,232)",
            "gridwidth": 2,
            "linecolor": "rgb(36,36,36)",
            "showbackground": true,
            "showgrid": false,
            "showline": true,
            "ticks": "outside",
            "zeroline": false,
            "zerolinecolor": "rgb(36,36,36)"
           },
           "yaxis": {
            "backgroundcolor": "white",
            "gridcolor": "rgb(232,232,232)",
            "gridwidth": 2,
            "linecolor": "rgb(36,36,36)",
            "showbackground": true,
            "showgrid": false,
            "showline": true,
            "ticks": "outside",
            "zeroline": false,
            "zerolinecolor": "rgb(36,36,36)"
           },
           "zaxis": {
            "backgroundcolor": "white",
            "gridcolor": "rgb(232,232,232)",
            "gridwidth": 2,
            "linecolor": "rgb(36,36,36)",
            "showbackground": true,
            "showgrid": false,
            "showline": true,
            "ticks": "outside",
            "zeroline": false,
            "zerolinecolor": "rgb(36,36,36)"
           }
          },
          "shapedefaults": {
           "fillcolor": "black",
           "line": {
            "width": 0
           },
           "opacity": 0.3
          },
          "ternary": {
           "aaxis": {
            "gridcolor": "rgb(232,232,232)",
            "linecolor": "rgb(36,36,36)",
            "showgrid": false,
            "showline": true,
            "ticks": "outside"
           },
           "baxis": {
            "gridcolor": "rgb(232,232,232)",
            "linecolor": "rgb(36,36,36)",
            "showgrid": false,
            "showline": true,
            "ticks": "outside"
           },
           "bgcolor": "white",
           "caxis": {
            "gridcolor": "rgb(232,232,232)",
            "linecolor": "rgb(36,36,36)",
            "showgrid": false,
            "showline": true,
            "ticks": "outside"
           }
          },
          "title": {
           "x": 0.05
          },
          "xaxis": {
           "automargin": true,
           "gridcolor": "rgb(232,232,232)",
           "linecolor": "rgb(36,36,36)",
           "showgrid": false,
           "showline": true,
           "ticks": "outside",
           "title": {
            "standoff": 15
           },
           "zeroline": false,
           "zerolinecolor": "rgb(36,36,36)"
          },
          "yaxis": {
           "automargin": true,
           "gridcolor": "rgb(232,232,232)",
           "linecolor": "rgb(36,36,36)",
           "showgrid": false,
           "showline": true,
           "ticks": "outside",
           "title": {
            "standoff": 15
           },
           "zeroline": false,
           "zerolinecolor": "rgb(36,36,36)"
          }
         }
        },
        "title": {
         "text": "2D PCoA"
        },
        "width": 1000,
        "xaxis": {
         "anchor": "y",
         "domain": [
          0,
          1
         ],
         "title": {
          "text": "PC1 (75.6 %)"
         }
        },
        "yaxis": {
         "anchor": "x",
         "domain": [
          0,
          1
         ],
         "title": {
          "text": "PC2 (9.8 %)"
         }
        }
       }
      }
     },
     "metadata": {},
     "output_type": "display_data"
    }
   ],
   "source": [
    "\n",
    "memo.visualization.plot_pcoa_2d(\n",
    "    matrix= memo_merged.memo_matrix,\n",
    "    df_metadata=df_meta,\n",
    "    metric= 'braycurtis',\n",
    "    filename_col = 'Filename',\n",
    "    group_col='contains',\n",
    "    norm = True,\n",
    "    scaling= False,\n",
    "    pc_to_plot = [1,2]\n",
    ")"
   ]
  },
  {
   "cell_type": "markdown",
   "metadata": {},
   "source": [
    "But when looking at component 2 and 3, we see that it is possible to cluster chemically related samples using this approach."
   ]
  },
  {
   "cell_type": "code",
   "execution_count": 25,
   "metadata": {},
   "outputs": [
    {
     "data": {
      "application/vnd.plotly.v1+json": {
       "config": {
        "plotlyServerURL": "https://plot.ly"
       },
       "data": [
        {
         "hovertemplate": "<b>%{hovertext}</b><br><br>contains=Plasma<br>PC2 (9.8 %)=%{x}<br>PC3 (6.2 %)=%{y}<extra></extra>",
         "hovertext": [
          "QEC18_NIST_20181227102029.mzML",
          "QEC18_NIST_20181227182328.mzML",
          "QEC18_NIST.mzML",
          "QEC18RT_NIST_20181228191835.mzML",
          "QEC18RT_NIST_20181229031403.mzML",
          "QEC18RT_NIST.mzML",
          "C18_NIST_GA4_01_19419.mzML",
          "C18_NIST_GA4_01_19439.mzML",
          "C18_NIST_GA4_01_19461.mzML"
         ],
         "legendgroup": "Plasma",
         "marker": {
          "color": "#1F77B4",
          "symbol": "circle"
         },
         "mode": "markers",
         "name": "Plasma",
         "orientation": "v",
         "showlegend": true,
         "type": "scatter",
         "x": [
          0.007255991012152586,
          0.004759979994369901,
          0.019861659090815626,
          -0.000014253883127897373,
          -0.003252749614827391,
          0.009746953050731373,
          -0.014268092467233269,
          -0.005365859764307393,
          -0.012071306812526697
         ],
         "xaxis": "x",
         "y": [
          -0.025945197106086292,
          -0.0243369187538973,
          -0.031923691403393024,
          -0.02871033529041749,
          -0.02654861392966965,
          -0.0316081942444808,
          -0.45932998684381326,
          -0.4203362428027002,
          -0.44293616591886015
         ],
         "yaxis": "y"
        },
        {
         "hovertemplate": "<b>%{hovertext}</b><br><br>contains=Tomato<br>PC2 (9.8 %)=%{x}<br>PC3 (6.2 %)=%{y}<extra></extra>",
         "hovertext": [
          "QEC18_To_20181227204313.mzML",
          "QEC18_To_20181227231513.mzML",
          "QEC18_To.mzML",
          "QEC18RT_To_20181229050805.mzML",
          "QEC18RT_To_20181229074015.mzML",
          "QEC18RT_To.mzML",
          "C18_To_GA3_01_19427.mzML",
          "C18_To_GA3_01_19465.mzML",
          "C18_To_GA3_01_19475.mzML"
         ],
         "legendgroup": "Tomato",
         "marker": {
          "color": "#FF7F0E",
          "symbol": "circle"
         },
         "mode": "markers",
         "name": "Tomato",
         "orientation": "v",
         "showlegend": true,
         "type": "scatter",
         "x": [
          -0.04007421356060026,
          -0.03548485705193661,
          -0.03867472685340778,
          -0.03474343068322861,
          -0.034635704806198465,
          -0.035924141950364405,
          -0.2644417164702465,
          -0.2630289222734151,
          -0.26657914456472803
         ],
         "xaxis": "x",
         "y": [
          -0.0019795967789820908,
          -0.002713434073566954,
          -0.0010251989437397378,
          -0.0019710700511587674,
          -0.003334280521969773,
          -0.003304381986226445,
          0.03975790318301331,
          0.05889169186334956,
          0.06209456886984304
         ],
         "yaxis": "y"
        },
        {
         "hovertemplate": "<b>%{hovertext}</b><br><br>contains=Tomato + Plasma<br>PC2 (9.8 %)=%{x}<br>PC3 (6.2 %)=%{y}<extra></extra>",
         "hovertext": [
          "QEC18_To-1_NIST-3_20181227172525.mzML",
          "QEC18_To-1_NIST-3_20181227214013.mzML",
          "QEC18_To-1_NIST-3.mzML",
          "QEC18_To-1_NIST-1_20181227111754.mzML",
          "QEC18_To-1_NIST-1_20181228010915.mzML",
          "QEC18_To-1_NIST-1.mzML",
          "QEC18_To-3_NIST-1_20181227074824.mzML",
          "QEC18_To-3_NIST-1_20181227160801.mzML",
          "QEC18_To-3_NIST-1.mzML",
          "QEC18RT_To-1_NIST-3_20181229021701.mzML",
          "QEC18RT_To-1_NIST-3_20181229060507.mzML",
          "QEC18RT_To-1_NIST-3.mzML",
          "QEC18RT_To-1_NIST-1_20181228201537.mzML",
          "QEC18RT_To-1_NIST-1_20181229093419.mzML",
          "QEC18RT_To-1_NIST-1.mzML",
          "QEC18RT_To-3_NIST-1_20181228162117.mzML",
          "QEC18RT_To-3_NIST-1_20181229010055.mzML",
          "QEC18RT_To-3_NIST-1.mzML",
          "C18_To-1_NIST-3_GC3_01_19450.mzML",
          "C18_To-1_NIST-3_GC3_01_19459.mzML",
          "C18_To-1_NIST-3_GC3_01_19468.mzML",
          "C18_To-1_NIST-1_GC1_01_19402.mzML",
          "C18_To-1_NIST-1_GC1_01_19442.mzML",
          "C18_To-1_NIST-1_GC1_01_19481.mzML",
          "C18_To-3_NIST-1_GC2_01_19412.mzML",
          "C18_To-3_NIST-1_GC2_01_19432.mzML",
          "C18_To-3_NIST-1_GC2_01_19455.mzML"
         ],
         "legendgroup": "Tomato + Plasma",
         "marker": {
          "color": "#2CA02C",
          "symbol": "circle"
         },
         "mode": "markers",
         "name": "Tomato + Plasma",
         "orientation": "v",
         "showlegend": true,
         "type": "scatter",
         "x": [
          -0.029425887039683133,
          -0.032755643379425485,
          -0.030916238289015397,
          -0.03747015494607918,
          -0.03376875904712227,
          -0.041368504278674396,
          -0.036487727535300316,
          -0.040177929302048075,
          -0.03370193935189334,
          -0.02917048428162532,
          -0.03044338200416809,
          -0.0312623831631779,
          -0.03563642801838596,
          -0.03303274428185052,
          -0.03548571806360462,
          -0.03734262087042576,
          -0.03864388768035952,
          -0.030679891489171246,
          -0.2230311017319486,
          -0.22635806716006235,
          -0.23289133525987954,
          -0.23634419003381346,
          -0.23707437740929208,
          -0.23593995550083802,
          -0.24369979052423466,
          -0.23618715803741094,
          -0.2438523824235034
         ],
         "xaxis": "x",
         "y": [
          -0.004744234047115606,
          -0.007835185464532374,
          -0.006907029619385448,
          -0.005605214274357735,
          -0.004570981443090017,
          -0.00284966068397206,
          -0.003836802146858964,
          -0.005012706509915457,
          -0.0026739134414340885,
          -0.009989285743906956,
          -0.007926592787175328,
          -0.010722317574377799,
          -0.0111987028233968,
          -0.008586790349880294,
          -0.008419458966071956,
          -0.007531382956532614,
          -0.0077855777255176496,
          -0.005623516933339875,
          -0.07166431902224411,
          -0.05139672213268352,
          -0.05900609244526805,
          -0.0011254670688546178,
          -0.024512370111440265,
          -0.008650011959403747,
          0.013723057967575236,
          0.014072236817729974,
          0.01242957342611766
         ],
         "yaxis": "y"
        },
        {
         "hovertemplate": "<b>%{hovertext}</b><br><br>contains=Fecal_2<br>PC2 (9.8 %)=%{x}<br>PC3 (6.2 %)=%{y}<extra></extra>",
         "hovertext": [
          "QEC18_F2_20181227121553.mzML",
          "QEC18_F2_20181228001213.mzML",
          "QEC18_F2.mzML",
          "QEC18RT_F2_20181228211241.mzML",
          "QEC18RT_F2_20181229083715.mzML",
          "QEC18RT_F2.mzML",
          "C18_F2_GA2_01_19405.mzML",
          "C18_F2_GA2_01_19444.mzML",
          "C18_F2_GA2_01_19478.mzML"
         ],
         "legendgroup": "Fecal_2",
         "marker": {
          "color": "#D62728",
          "symbol": "circle"
         },
         "mode": "markers",
         "name": "Fecal_2",
         "orientation": "v",
         "showlegend": true,
         "type": "scatter",
         "x": [
          0.004305094045064746,
          0.00646882517742057,
          0.003630644655932025,
          0.003310035300928173,
          0.005053649908587344,
          0.003810645896819537,
          0.06930267715225329,
          0.06960619233594947,
          0.08214416286883028
         ],
         "xaxis": "x",
         "y": [
          -0.004128744707175847,
          -0.0031902855665042,
          -0.002217398890784805,
          -0.00408174746021046,
          -0.004767742716740221,
          -0.003841104004675781,
          0.028601794046504602,
          0.028535778723825282,
          0.023379694134623555
         ],
         "yaxis": "y"
        },
        {
         "hovertemplate": "<b>%{hovertext}</b><br><br>contains=Fecal_2 + Plasma<br>PC2 (9.8 %)=%{x}<br>PC3 (6.2 %)=%{y}<extra></extra>",
         "hovertext": [
          "QEC18_F2-1_NIST-3_20181227103932.mzML",
          "QEC18_F2-1_NIST-3_20181227145038.mzML",
          "QEC18_F2-1_NIST-3.mzML",
          "QEC18_F2-1_NIST-1_20181227212113.mzML",
          "QEC18_F2-1_NIST-1_20181227233413.mzML",
          "QEC18_F2-1_NIST-1.mzML",
          "QEC18_F2-3_NIST-1_20181227162723.mzML",
          "QEC18_F2-3_NIST-1_20181228005015.mzML",
          "QEC18_F2-3_NIST-1.mzML",
          "QEC18RT_F2-1_NIST-3_20181228193737.mzML",
          "QEC18RT_F2-1_NIST-3_20181228234449.mzML",
          "QEC18RT_F2-1_NIST-3.mzML",
          "QEC18RT_F2-1_NIST-1_20181229054607.mzML",
          "QEC18RT_F2-1_NIST-1_20181229075915.mzML",
          "QEC18RT_F2-1_NIST-1.mzML",
          "QEC18RT_F2-3_NIST-1_20181229011957.mzML",
          "QEC18RT_F2-3_NIST-1_20181229091519.mzML",
          "QEC18RT_F2-3_NIST-1.mzML",
          "C18_F2-1_NIST-3_GD4_01_19403.mzML",
          "C18_F2-1_NIST-3_GD4_01_19440.mzML",
          "C18_F2-1_NIST-3_GD4_01_19452.mzML",
          "C18_F2-1_NIST-1_GD2_01_19428.mzML",
          "C18_F2-1_NIST-1_GD2_01_19467.mzML",
          "C18_F2-1_NIST-1_GD2_01_19476.mzML",
          "C18_F2-3_NIST-1_GD3_01_19436.mzML",
          "C18_F2-3_NIST-1_GD3_01_19456.mzML",
          "C18_F2-3_NIST-1_GD3_01_19480.mzML"
         ],
         "legendgroup": "Fecal_2 + Plasma",
         "marker": {
          "color": "#9467BD",
          "symbol": "circle"
         },
         "mode": "markers",
         "name": "Fecal_2 + Plasma",
         "orientation": "v",
         "showlegend": true,
         "type": "scatter",
         "x": [
          0.007778968112875456,
          0.009121247358716522,
          0.0011663893749815771,
          0.006814461735017129,
          0.004178349469644598,
          0.0033741366242197863,
          0.005396942538840437,
          0.007075598563851414,
          0.008503757598966738,
          0.00294299860459912,
          0.004392810484018851,
          0.001621425290952124,
          0.0011159458008071286,
          0.0005515815099405758,
          0.00031011338913354406,
          0.0013347559144910683,
          0.004398318713076883,
          0.004342664299998857,
          0.060930076943083056,
          0.06374361384395132,
          0.06407332270556075,
          0.06259220532772182,
          0.0649189312397841,
          0.06217797453220087,
          0.0679206202454384,
          0.07376720290663283,
          0.07832234242660385
         ],
         "xaxis": "x",
         "y": [
          -0.004615852771603525,
          -0.007678651516988074,
          -0.007922344405811493,
          -0.00515964236454034,
          -0.00532616941638442,
          -0.0029062154932912457,
          -0.004918450033982925,
          -0.004138451345811173,
          -0.0038971668910197555,
          -0.0070550994220706055,
          -0.0069544859795034105,
          -0.007624509328793027,
          -0.005073710918694941,
          -0.00469421461739994,
          -0.005234888902042606,
          -0.0049082044721780365,
          -0.00470977572769797,
          -0.006264607006350545,
          -0.0701947984531506,
          -0.07752421822692739,
          -0.06978804586689401,
          -0.02578284363356318,
          -0.02617145083193094,
          -0.029968821845751704,
          0.007742159694902208,
          0.013467753957619753,
          0.005736311320054681
         ],
         "yaxis": "y"
        },
        {
         "hovertemplate": "<b>%{hovertext}</b><br><br>contains=Fecal_2 + Tomato<br>PC2 (9.8 %)=%{x}<br>PC3 (6.2 %)=%{y}<extra></extra>",
         "hovertext": [
          "QEC18_F2-1_To-3_20181226223728.mzML",
          "QEC18_F2-1_To-3_20181227041925.mzML",
          "QEC18_F2-1_To-3.mzML",
          "QEC18_F2-1_To-1_20181227150959.mzML",
          "QEC18_F2-1_To-1_20181228014719.mzML",
          "QEC18_F2-1_To-1.mzML",
          "QEC18_F2-3_To-1_20181227082626.mzML",
          "QEC18_F2-3_To-1_20181227164643.mzML",
          "QEC18_F2-3_To-1.mzML",
          "QEC18RT_F2-1_To-3_20181228071021.mzML",
          "QEC18RT_F2-1_To-3_20181228125213.mzML",
          "QEC18RT_F2-1_To-3.mzML",
          "QEC18RT_F2-1_To-1_20181229000349.mzML",
          "QEC18RT_F2-1_To-1_20181229101223.mzML",
          "QEC18RT_F2-1_To-1.mzML",
          "QEC18RT_F2-3_To-1_20181228165919.mzML",
          "QEC18RT_F2-3_To-1_20181229013857.mzML",
          "QEC18RT_F2-3_To-1.mzML",
          "C18_F2-1_To-3_GB8_01_19401.mzML",
          "C18_F2-1_To-3_GB8_01_19404.mzML",
          "C18_F2-1_To-3_GB8_01_19422.mzML",
          "C18_F2-1_To-1_GB6_01_19438.mzML",
          "C18_F2-1_To-1_GB6_01_19453.mzML",
          "C18_F2-1_To-1_GB6_01_19483.mzML",
          "C18_F2-3_To-1_GB7_01_19409.mzML",
          "C18_F2-3_To-1_GB7_01_19434.mzML",
          "C18_F2-3_To-1_GB7_01_19457.mzML"
         ],
         "legendgroup": "Fecal_2 + Tomato",
         "marker": {
          "color": "#8C564B",
          "symbol": "circle"
         },
         "mode": "markers",
         "name": "Fecal_2 + Tomato",
         "orientation": "v",
         "showlegend": true,
         "type": "scatter",
         "x": [
          -0.019320894019313764,
          -0.016755446555652666,
          -0.018518929970042477,
          -0.016272746436181252,
          -0.015517053022329013,
          -0.015069972692743891,
          -0.011626024275574711,
          -0.014560510711242656,
          -0.011804675088703654,
          -0.018038635066227004,
          -0.016931246836648498,
          -0.016761626932870893,
          -0.01452463608801051,
          -0.013975109619851081,
          -0.01530152942414971,
          -0.013991398436126427,
          -0.013269662161018554,
          -0.012584141073042706,
          -0.09662482812806475,
          -0.08592704569502338,
          -0.07901789414753939,
          -0.04312602556492691,
          -0.04803449853782318,
          -0.04940049882042266,
          -0.008210679194015538,
          -0.012069520422440127,
          -0.011281675407243336
         ],
         "xaxis": "x",
         "y": [
          0.008101298634958742,
          0.008276544276397804,
          0.009216920379961618,
          0.005794282565267498,
          0.006775659483383783,
          0.008003384255053975,
          0.005809577019737287,
          0.005213965815532657,
          0.005349485619186623,
          0.005274674398142222,
          0.0039409112504802625,
          0.005826381399715313,
          0.0038201908867528125,
          0.004308042872063815,
          0.005185789244815318,
          0.003848762988152584,
          0.003680988643323842,
          0.003585256177704606,
          0.0543386069728598,
          0.061570051821693575,
          0.0631981670602251,
          0.06925337309519689,
          0.06748507964381649,
          0.0644057502522939,
          0.05943608034362851,
          0.06536328571279247,
          0.0642125117107651
         ],
         "yaxis": "y"
        },
        {
         "hovertemplate": "<b>%{hovertext}</b><br><br>contains=Fecal_1<br>PC2 (9.8 %)=%{x}<br>PC3 (6.2 %)=%{y}<extra></extra>",
         "hovertext": [
          "QEC18_F1_20181227030329.mzML",
          "QEC18_F1_20181228032223.mzML",
          "QEC18_F1.mzML",
          "QEC18RT_F1_20181228113615.mzML",
          "QEC18RT_F1_20181229114729.mzML",
          "QEC18RT_F1.mzML",
          "C18_F1_GA1_01_19410.mzML",
          "C18_F1_GA1_01_19418.mzML",
          "C18_F1_GA1_01_19488.mzML"
         ],
         "legendgroup": "Fecal_1",
         "marker": {
          "color": "#E377C2",
          "symbol": "circle"
         },
         "mode": "markers",
         "name": "Fecal_1",
         "orientation": "v",
         "showlegend": true,
         "type": "scatter",
         "x": [
          0.020579376880082545,
          0.02278937803324742,
          0.020297487313146383,
          0.018617139011841557,
          0.017404609628638514,
          0.016680462934580968,
          0.11199723501916711,
          0.11054563305377083,
          0.12334566380197827
         ],
         "xaxis": "x",
         "y": [
          -0.0022730783944030237,
          -0.0032917634954910476,
          -0.001190213589046067,
          -0.0019486888671552106,
          -0.0017171717273392222,
          -0.0009340868767556283,
          0.015891977393718434,
          0.02201351665929315,
          0.013023113422874754
         ],
         "yaxis": "y"
        },
        {
         "hovertemplate": "<b>%{hovertext}</b><br><br>contains=Fecal_1 + Fecal_2 + Tomato + Plasma<br>PC2 (9.8 %)=%{x}<br>PC3 (6.2 %)=%{y}<extra></extra>",
         "hovertext": [
          "QEC18_F1-1_F2-1_NIST-2_To-1_20181227152919.mzML",
          "QEC18_F1-1_F2-1_NIST-2_To-1_20181227225613.mzML",
          "QEC18_F1-1_F2-1_NIST-2_To-1.mzML",
          "QEC18_F1-1_F2-1_NIST-1_To-2_20181227113714.mzML",
          "QEC18_F1-1_F2-1_NIST-1_To-2_20181227184249.mzML",
          "QEC18_F1-1_F2-1_NIST-1_To-2.mzML",
          "QEC18_F1-1_F2-2_NIST-1_To-1_20181227065123.mzML",
          "QEC18_F1-1_F2-2_NIST-1_To-1_20181228034123.mzML",
          "QEC18_F1-1_F2-2_NIST-1_To-1.mzML",
          "QEC18_Qcmix_begin.mzML",
          "QEC18_Qcmix_middle.mzML",
          "QEC18_Qcmix_end.mzML",
          "QEC18_Qcmix_end_20181228041923.mzML",
          "QEC18RT_Qcmix_begin.mzML",
          "QEC18RT_Qcmix_middle.mzML",
          "QEC18RT_Qcmix_end.mzML",
          "QEC18_F1-1_F2-1_NIST-1_To-1_20181227125436.mzML",
          "QEC18_F1-1_F2-1_NIST-1_To-1_20181227135238.mzML",
          "QEC18_F1-1_F2-1_NIST-1_To-1.mzML",
          "QEC18_F1-2_F2-1_NIST-1_To-1_20181228020619.mzML",
          "QEC18_F1-2_F2-1_NIST-1_To-1_20181228022521.mzML",
          "QEC18_F1-2_F2-1_NIST-1_To-1.mzML",
          "QEC18RT_F1-1_F2-1_NIST-2_To-1_20181229002251.mzML",
          "QEC18RT_F1-1_F2-1_NIST-2_To-1_20181229072113.mzML",
          "QEC18RT_F1-1_F2-1_NIST-2_To-1.mzML",
          "QEC18RT_F1-1_F2-1_NIST-1_To-2_20181228203439.mzML",
          "QEC18RT_F1-1_F2-1_NIST-1_To-2_20181229033303.mzML",
          "QEC18RT_F1-1_F2-1_NIST-1_To-2.mzML",
          "QEC18RT_F1-1_F2-2_NIST-1_To-1_20181228152413.mzML",
          "QEC18RT_F1-1_F2-2_NIST-1_To-1_20181229120629.mzML",
          "QEC18RT_F1-1_F2-2_NIST-1_To-1.mzML",
          "QEC18RT_F1-1_F2-1_NIST-1_To-1_20181228215043.mzML",
          "QEC18RT_F1-1_F2-1_NIST-1_To-1_20181228224749.mzML",
          "QEC18RT_F1-1_F2-1_NIST-1_To-1.mzML",
          "QEC18RT_F1-2_F2-1_NIST-1_To-1_20181229103125.mzML",
          "QEC18RT_F1-2_F2-1_NIST-1_To-1_20181229105027.mzML",
          "QEC18RT_F1-2_F2-1_NIST-1_To-1.mzML",
          "C18_F1-1_F2-1_NIST-2_To-1_GA7_01_19426.mzML",
          "C18_F1-1_F2-1_NIST-2_To-1_GA7_01_19454.mzML",
          "C18_F1-1_F2-1_NIST-2_To-1_GA7_01_19474.mzML",
          "C18_F1-1_F2-1_NIST-1_To-2_GB1_01_19441.mzML",
          "C18_F1-1_F2-1_NIST-1_To-2_GB1_01_19443.mzML",
          "C18_F1-1_F2-1_NIST-1_To-2_GB1_01_19462.mzML",
          "C18_F1-1_F2-2_NIST-1_To-1_GA8_01_19414.mzML",
          "C18_F1-1_F2-2_NIST-1_To-1_GA8_01_19429.mzML",
          "C18_F1-1_F2-2_NIST-1_To-1_GA8_01_19489.mzML",
          "C18_F1-1_F2-1_NIST-1_To-1_GA6_01_19415.mzML",
          "C18_F1-1_F2-1_NIST-1_To-1_GA6_01_19447.mzML",
          "C18_F1-1_F2-1_NIST-1_To-1_GA6_01_19491.mzML",
          "C18_F1-2_F2-1_NIST-1_To-1_GB2_01_19425.mzML",
          "C18_F1-2_F2-1_NIST-1_To-1_GB2_01_19484.mzML",
          "C18_F1-2_F2-1_NIST-1_To-1_GB2_01_19485.mzML"
         ],
         "legendgroup": "Fecal_1 + Fecal_2 + Tomato + Plasma",
         "marker": {
          "color": "#7F7F7F",
          "symbol": "circle"
         },
         "mode": "markers",
         "name": "Fecal_1 + Fecal_2 + Tomato + Plasma",
         "orientation": "v",
         "showlegend": true,
         "type": "scatter",
         "x": [
          -0.004094618017220084,
          -0.003903918417473625,
          -0.004726188151978456,
          -0.006480635691185622,
          -0.005434101580852749,
          -0.005568492553889779,
          -0.0038877171539001528,
          -0.0013066573517216701,
          -0.0029313055128100288,
          -0.0034234011875508715,
          -0.004602981722880971,
          -0.004660833497830285,
          -0.004537557398345842,
          -0.003161409780028989,
          -0.004784706311376378,
          -0.003566237959912181,
          -0.002564054054198095,
          -0.004302631702141981,
          -0.0029673062660684714,
          -0.0025762495582308414,
          -0.0030830081684251527,
          -0.0025939415543048895,
          -0.00454824998838888,
          -0.0029677268139754794,
          -0.004641340755289946,
          -0.00460681406276346,
          -0.004686344245068428,
          -0.005874836037301088,
          -0.005451850513072754,
          -0.0024595138640137637,
          -0.003852568077758785,
          -0.004189972518460225,
          -0.004047399771264411,
          -0.0032352561461517337,
          -0.0036452976245797087,
          -0.0032622365248781873,
          -0.0038715271063667314,
          0.03197382542251617,
          0.04153650383002761,
          0.033306523653989686,
          0.018637826826627492,
          0.01128327943998234,
          0.005487118590976485,
          0.032383203287636664,
          0.03515751222445055,
          0.04342869018857462,
          0.03429357313468391,
          0.03285373885291752,
          0.03415443374803361,
          0.04929988022493446,
          0.05501727117548974,
          0.05091485125435671
         ],
         "xaxis": "x",
         "y": [
          0.006660621323432047,
          0.006552963805875076,
          0.008823927198889081,
          0.007678007633638534,
          0.008099928177387567,
          0.007732668864775144,
          0.006689028364569558,
          0.008149404869978163,
          0.009324703954867945,
          0.007994395567074623,
          0.007547407765767014,
          0.007744361986625452,
          0.007779421397144101,
          0.003862174181352455,
          0.0038334529492368326,
          0.0030638640590905327,
          0.006635490318083749,
          0.008601199440076483,
          0.008472003964611447,
          0.00687778745923346,
          0.007472716151406421,
          0.007282925580927591,
          0.0034354567848353984,
          0.0037834043380206893,
          0.004011733695871538,
          0.004004324043686446,
          0.004495916150049495,
          0.004737659787650586,
          0.004656288069038404,
          0.0038172201306145375,
          0.0038087827599016435,
          0.0036831627511537054,
          0.00354050396181655,
          0.004414299667276063,
          0.0040120385082902795,
          0.004333837770503791,
          0.0049996243590071515,
          0.03595946705424636,
          0.02971746039202132,
          0.028788133414938126,
          0.04152151485557025,
          0.045349952881370774,
          0.04589151383725799,
          0.04178221702227479,
          0.04440580494342834,
          0.037607612863131405,
          0.03191709425495508,
          0.0377564703749996,
          0.03259747032731942,
          0.03564903206284625,
          0.03435046590224785,
          0.03548709952738902
         ],
         "yaxis": "y"
        },
        {
         "hovertemplate": "<b>%{hovertext}</b><br><br>contains=Fecal_1 + Plasma<br>PC2 (9.8 %)=%{x}<br>PC3 (6.2 %)=%{y}<extra></extra>",
         "hovertext": [
          "QEC18_F1-1_NIST-3_20181227133316.mzML",
          "QEC18_F1-1_NIST-3_20181228012817.mzML",
          "QEC18_F1-1_NIST-3.mzML",
          "QEC18_F1-1_NIST-1_20181227210213.mzML",
          "QEC18_F1-1_NIST-1_20181227215913.mzML",
          "QEC18_F1-1_NIST-1.mzML",
          "QEC18_F1-3_NIST-1_20181227045725.mzML",
          "QEC18_F1-3_NIST-1_20181227170603.mzML",
          "QEC18_F1-3_NIST-1.mzML",
          "QEC18RT_F1-1_NIST-3_20181228222847.mzML",
          "QEC18RT_F1-1_NIST-3_20181229095321.mzML",
          "QEC18RT_F1-1_NIST-3.mzML",
          "QEC18RT_F1-1_NIST-1_20181229052705.mzML",
          "QEC18RT_F1-1_NIST-1_20181229062407.mzML",
          "QEC18RT_F1-1_NIST-1.mzML",
          "QEC18RT_F1-3_NIST-1_20181228133015.mzML",
          "QEC18RT_F1-3_NIST-1_20181229015759.mzML",
          "QEC18RT_F1-3_NIST-1.mzML",
          "C18_F1-1_NIST-3_GD1_01_19400.mzML",
          "C18_F1-1_NIST-3_GD1_01_19449.mzML",
          "C18_F1-1_NIST-3_GD1_01_19482.mzML",
          "C18_F1-1_NIST-1_GC7_01_19464.mzML",
          "C18_F1-1_NIST-1_GC7_01_19466.mzML",
          "C18_F1-1_NIST-1_GC7_01_19469.mzML",
          "C18_F1-3_NIST-1_GC8_01_19407.mzML",
          "C18_F1-3_NIST-1_GC8_01_19424.mzML",
          "C18_F1-3_NIST-1_GC8_01_19458.mzML"
         ],
         "legendgroup": "Fecal_1 + Plasma",
         "marker": {
          "color": "#BCBD22",
          "symbol": "circle"
         },
         "mode": "markers",
         "name": "Fecal_1 + Plasma",
         "orientation": "v",
         "showlegend": true,
         "type": "scatter",
         "x": [
          0.02093618310584014,
          0.018421371893500856,
          0.024101547545313417,
          0.017888834433322245,
          0.01989810316214523,
          0.02123582610387862,
          0.01979720497958625,
          0.020677835501908163,
          0.02118870158192382,
          0.017155372118113375,
          0.014505791470535767,
          0.016907706500831166,
          0.01602161962229172,
          0.015187733435390337,
          0.01775533137488317,
          0.016307715721520177,
          0.018208002016352528,
          0.017063657770556625,
          0.11697439858852166,
          0.11438266960911277,
          0.11155582933440852,
          0.11712622362783762,
          0.12194454975862289,
          0.11698526037659057,
          0.11806862047094069,
          0.11601270510437649,
          0.11909603534798242
         ],
         "xaxis": "x",
         "y": [
          -0.004979346765788425,
          -0.0037370727910639484,
          -0.006718530497183199,
          -0.002998189888840445,
          -0.004283588024203146,
          -0.004007060001076905,
          -0.0026999078734940545,
          -0.00366484671776935,
          -0.0030032905491329718,
          -0.005249561094769652,
          -0.004913002610924354,
          -0.004732044753948289,
          -0.003998706811833337,
          -0.0037970649049171522,
          -0.0036779397688076324,
          -0.0034335896153569324,
          -0.004306633765352143,
          -0.0032135839782649893,
          -0.050849588662071656,
          -0.06252700216157839,
          -0.06724933967480476,
          -0.020004394090249712,
          -0.01767540893266061,
          -0.01590912897774098,
          0.005248322425939101,
          0.008446359859896094,
          0.002628772649299858
         ],
         "yaxis": "y"
        },
        {
         "hovertemplate": "<b>%{hovertext}</b><br><br>contains=Fecal_1 + Tomato<br>PC2 (9.8 %)=%{x}<br>PC3 (6.2 %)=%{y}<extra></extra>",
         "hovertext": [
          "QEC18_F1-1_To-3_20181227174446.mzML",
          "QEC18_F1-1_To-3_20181227223713.mzML",
          "QEC18_F1-1_To-3.mzML",
          "QEC18_F1-1_To-1_20181227043825.mzML",
          "QEC18_F1-1_To-1_20181227123513.mzML",
          "QEC18_F1-1_To-1.mzML",
          "QEC18_F1-3_To-1_20181228003115.mzML",
          "QEC18_F1-3_To-1_20181228024423.mzML",
          "QEC18_F1-3_To-1.mzML",
          "QEC18RT_F1-1_To-3_20181229023601.mzML",
          "QEC18RT_F1-1_To-3_20181229070211.mzML",
          "QEC18RT_F1-1_To-3.mzML",
          "QEC18RT_F1-1_To-1_20181228131115.mzML",
          "QEC18RT_F1-1_To-1_20181228213143.mzML",
          "QEC18RT_F1-1_To-1.mzML",
          "QEC18RT_F1-3_To-1_20181229085617.mzML",
          "QEC18RT_F1-3_To-1_20181229110929.mzML",
          "QEC18RT_F1-3_To-1.mzML",
          "C18_F1-1_To-3_GC6_01_19420.mzML",
          "C18_F1-1_To-3_GC6_01_19460.mzML",
          "C18_F1-1_To-3_GC6_01_19473.mzML",
          "C18_F1-1_To-1_GC4_01_19421.mzML",
          "C18_F1-1_To-1_GC4_01_19423.mzML",
          "C18_F1-1_To-1_GC4_01_19445.mzML",
          "C18_F1-3_To-1_GC5_01_19433.mzML",
          "C18_F1-3_To-1_GC5_01_19479.mzML",
          "C18_F1-3_To-1_GC5_01_19486.mzML"
         ],
         "legendgroup": "Fecal_1 + Tomato",
         "marker": {
          "color": "#17BECF",
          "symbol": "circle"
         },
         "mode": "markers",
         "name": "Fecal_1 + Tomato",
         "orientation": "v",
         "showlegend": true,
         "type": "scatter",
         "x": [
          -0.007740735781702312,
          -0.007668580354823756,
          -0.004618535840189767,
          -0.005748037006413847,
          -0.006733796535225233,
          -0.00612372103412331,
          -0.0020663016495747555,
          -0.003601402067247555,
          -0.002856034853246351,
          -0.006528654408646937,
          -0.006589256345033337,
          -0.004699866115747528,
          -0.004808943989671799,
          -0.0033691849726305845,
          -0.00483636656156465,
          -0.0018043590198788381,
          -0.0016410076289605766,
          -0.005009187666777646,
          -0.010442103469961297,
          -0.02119766722213903,
          -0.020668272124257023,
          0.008239860283162922,
          0.01328582504984777,
          0.014828452223310928,
          0.03372729446209966,
          0.04827815085770832,
          0.04138128785087799
         ],
         "xaxis": "x",
         "y": [
          0.009357327401455116,
          0.008803636496468448,
          0.0050270659832989326,
          0.009764968088524392,
          0.008412065750308333,
          0.009323460777494309,
          0.008977823024282865,
          0.007448932963970224,
          0.00932317414992056,
          0.005342840674793098,
          0.006021405577492702,
          0.007596637461970621,
          0.005738134922155421,
          0.006519782486143454,
          0.005813202928316476,
          0.005632840886355727,
          0.004621214393594135,
          0.005109758797803865,
          0.04821714023027243,
          0.043585185888648764,
          0.04326144386088595,
          0.05441229453527344,
          0.056604547858356495,
          0.05410940363714246,
          0.04469112554967884,
          0.040617000699700825,
          0.04208235054246156
         ],
         "yaxis": "y"
        },
        {
         "hovertemplate": "<b>%{hovertext}</b><br><br>contains=Fecal_1 + Fecal_2<br>PC2 (9.8 %)=%{x}<br>PC3 (6.2 %)=%{y}<extra></extra>",
         "hovertext": [
          "QEC18_F1-1_F2-3_20181227012831.mzML",
          "QEC18_F1-1_F2-3_20181227071023.mzML",
          "QEC18_F1-1_F2-3.mzML",
          "QEC18_F1-1_F2-1_20181227084526.mzML",
          "QEC18_F1-1_F2-1_20181227143118.mzML",
          "QEC18_F1-1_F2-1.mzML",
          "QEC18_F1-3_F2-1_20181227131356.mzML",
          "QEC18_F1-3_F2-1_20181227190209.mzML",
          "QEC18_F1-3_F2-1.mzML",
          "QEC18RT_F1-1_F2-3_20181228100117.mzML",
          "QEC18RT_F1-1_F2-3_20181228154315.mzML",
          "QEC18RT_F1-1_F2-3.mzML",
          "QEC18RT_F1-1_F2-1_20181228171821.mzML",
          "QEC18RT_F1-1_F2-1_20181228232549.mzML",
          "QEC18RT_F1-1_F2-1.mzML",
          "QEC18RT_F1-3_F2-1_20181228220945.mzML",
          "QEC18RT_F1-3_F2-1_20181229035205.mzML",
          "QEC18RT_F1-3_F2-1.mzML",
          "C18_F1-1_F2-3_GB5_01_19406.mzML",
          "C18_F1-1_F2-3_GB5_01_19413.mzML",
          "C18_F1-1_F2-3_GB5_01_19430.mzML",
          "C18_F1-1_F2-1_GB3_01_19411.mzML",
          "C18_F1-1_F2-1_GB3_01_19435.mzML",
          "C18_F1-1_F2-1_GB3_01_19451.mzML",
          "C18_F1-3_F2-1_GB4_01_19416.mzML",
          "C18_F1-3_F2-1_GB4_01_19448.mzML",
          "C18_F1-3_F2-1_GB4_01_19463.mzML"
         ],
         "legendgroup": "Fecal_1 + Fecal_2",
         "marker": {
          "color": "#1F77B4",
          "symbol": "circle"
         },
         "mode": "markers",
         "name": "Fecal_1 + Fecal_2",
         "orientation": "v",
         "showlegend": true,
         "type": "scatter",
         "x": [
          0.014471144202409325,
          0.014720644281569136,
          0.017220176054211403,
          0.018576612788479555,
          0.01728652936280009,
          0.021360556741006904,
          0.018987112561910668,
          0.019746466929838998,
          0.01910799936288029,
          0.01283162095919442,
          0.013893830633960658,
          0.014859591076306678,
          0.014396939507277216,
          0.0165241721747791,
          0.016328072411633268,
          0.01684488168871731,
          0.016538852339525123,
          0.016396914104992274,
          0.10571342798333275,
          0.10816007374769032,
          0.109608002620349,
          0.11339557087491432,
          0.10643306291926276,
          0.10775106137374099,
          0.1189143106697106,
          0.1140259179194351,
          0.11212787832601095
         ],
         "xaxis": "x",
         "y": [
          0.003103381208138971,
          0.00021620650411443694,
          -0.00010746003311510565,
          -0.0001443417718625678,
          -0.0018653816598830876,
          -0.0036143583146954483,
          -0.0007202786230014581,
          -0.001757457684602843,
          -0.0013128402562381232,
          -0.0008120612995372986,
          -0.0020007226413367466,
          -0.0009596280023524277,
          -0.001317626193891131,
          -0.0020882127255878262,
          -0.0012435236305831608,
          -0.0029838116050275795,
          -0.0022247939089873508,
          -0.0009523969337723757,
          0.030900186183099067,
          0.027659192899893114,
          0.02897815866053245,
          0.02273533546906931,
          0.02384704227245092,
          0.027921808740792683,
          0.01802377917150236,
          0.02010179277659858,
          0.02375073294588735
         ],
         "yaxis": "y"
        }
       ],
       "layout": {
        "height": 650,
        "legend": {
         "title": {
          "text": "contains"
         },
         "tracegroupgap": 0
        },
        "template": {
         "data": {
          "bar": [
           {
            "error_x": {
             "color": "rgb(36,36,36)"
            },
            "error_y": {
             "color": "rgb(36,36,36)"
            },
            "marker": {
             "line": {
              "color": "white",
              "width": 0.5
             },
             "pattern": {
              "fillmode": "overlay",
              "size": 10,
              "solidity": 0.2
             }
            },
            "type": "bar"
           }
          ],
          "barpolar": [
           {
            "marker": {
             "line": {
              "color": "white",
              "width": 0.5
             },
             "pattern": {
              "fillmode": "overlay",
              "size": 10,
              "solidity": 0.2
             }
            },
            "type": "barpolar"
           }
          ],
          "carpet": [
           {
            "aaxis": {
             "endlinecolor": "rgb(36,36,36)",
             "gridcolor": "white",
             "linecolor": "white",
             "minorgridcolor": "white",
             "startlinecolor": "rgb(36,36,36)"
            },
            "baxis": {
             "endlinecolor": "rgb(36,36,36)",
             "gridcolor": "white",
             "linecolor": "white",
             "minorgridcolor": "white",
             "startlinecolor": "rgb(36,36,36)"
            },
            "type": "carpet"
           }
          ],
          "choropleth": [
           {
            "colorbar": {
             "outlinewidth": 1,
             "tickcolor": "rgb(36,36,36)",
             "ticks": "outside"
            },
            "type": "choropleth"
           }
          ],
          "contour": [
           {
            "colorbar": {
             "outlinewidth": 1,
             "tickcolor": "rgb(36,36,36)",
             "ticks": "outside"
            },
            "colorscale": [
             [
              0,
              "#440154"
             ],
             [
              0.1111111111111111,
              "#482878"
             ],
             [
              0.2222222222222222,
              "#3e4989"
             ],
             [
              0.3333333333333333,
              "#31688e"
             ],
             [
              0.4444444444444444,
              "#26828e"
             ],
             [
              0.5555555555555556,
              "#1f9e89"
             ],
             [
              0.6666666666666666,
              "#35b779"
             ],
             [
              0.7777777777777778,
              "#6ece58"
             ],
             [
              0.8888888888888888,
              "#b5de2b"
             ],
             [
              1,
              "#fde725"
             ]
            ],
            "type": "contour"
           }
          ],
          "contourcarpet": [
           {
            "colorbar": {
             "outlinewidth": 1,
             "tickcolor": "rgb(36,36,36)",
             "ticks": "outside"
            },
            "type": "contourcarpet"
           }
          ],
          "heatmap": [
           {
            "colorbar": {
             "outlinewidth": 1,
             "tickcolor": "rgb(36,36,36)",
             "ticks": "outside"
            },
            "colorscale": [
             [
              0,
              "#440154"
             ],
             [
              0.1111111111111111,
              "#482878"
             ],
             [
              0.2222222222222222,
              "#3e4989"
             ],
             [
              0.3333333333333333,
              "#31688e"
             ],
             [
              0.4444444444444444,
              "#26828e"
             ],
             [
              0.5555555555555556,
              "#1f9e89"
             ],
             [
              0.6666666666666666,
              "#35b779"
             ],
             [
              0.7777777777777778,
              "#6ece58"
             ],
             [
              0.8888888888888888,
              "#b5de2b"
             ],
             [
              1,
              "#fde725"
             ]
            ],
            "type": "heatmap"
           }
          ],
          "heatmapgl": [
           {
            "colorbar": {
             "outlinewidth": 1,
             "tickcolor": "rgb(36,36,36)",
             "ticks": "outside"
            },
            "colorscale": [
             [
              0,
              "#440154"
             ],
             [
              0.1111111111111111,
              "#482878"
             ],
             [
              0.2222222222222222,
              "#3e4989"
             ],
             [
              0.3333333333333333,
              "#31688e"
             ],
             [
              0.4444444444444444,
              "#26828e"
             ],
             [
              0.5555555555555556,
              "#1f9e89"
             ],
             [
              0.6666666666666666,
              "#35b779"
             ],
             [
              0.7777777777777778,
              "#6ece58"
             ],
             [
              0.8888888888888888,
              "#b5de2b"
             ],
             [
              1,
              "#fde725"
             ]
            ],
            "type": "heatmapgl"
           }
          ],
          "histogram": [
           {
            "marker": {
             "line": {
              "color": "white",
              "width": 0.6
             }
            },
            "type": "histogram"
           }
          ],
          "histogram2d": [
           {
            "colorbar": {
             "outlinewidth": 1,
             "tickcolor": "rgb(36,36,36)",
             "ticks": "outside"
            },
            "colorscale": [
             [
              0,
              "#440154"
             ],
             [
              0.1111111111111111,
              "#482878"
             ],
             [
              0.2222222222222222,
              "#3e4989"
             ],
             [
              0.3333333333333333,
              "#31688e"
             ],
             [
              0.4444444444444444,
              "#26828e"
             ],
             [
              0.5555555555555556,
              "#1f9e89"
             ],
             [
              0.6666666666666666,
              "#35b779"
             ],
             [
              0.7777777777777778,
              "#6ece58"
             ],
             [
              0.8888888888888888,
              "#b5de2b"
             ],
             [
              1,
              "#fde725"
             ]
            ],
            "type": "histogram2d"
           }
          ],
          "histogram2dcontour": [
           {
            "colorbar": {
             "outlinewidth": 1,
             "tickcolor": "rgb(36,36,36)",
             "ticks": "outside"
            },
            "colorscale": [
             [
              0,
              "#440154"
             ],
             [
              0.1111111111111111,
              "#482878"
             ],
             [
              0.2222222222222222,
              "#3e4989"
             ],
             [
              0.3333333333333333,
              "#31688e"
             ],
             [
              0.4444444444444444,
              "#26828e"
             ],
             [
              0.5555555555555556,
              "#1f9e89"
             ],
             [
              0.6666666666666666,
              "#35b779"
             ],
             [
              0.7777777777777778,
              "#6ece58"
             ],
             [
              0.8888888888888888,
              "#b5de2b"
             ],
             [
              1,
              "#fde725"
             ]
            ],
            "type": "histogram2dcontour"
           }
          ],
          "mesh3d": [
           {
            "colorbar": {
             "outlinewidth": 1,
             "tickcolor": "rgb(36,36,36)",
             "ticks": "outside"
            },
            "type": "mesh3d"
           }
          ],
          "parcoords": [
           {
            "line": {
             "colorbar": {
              "outlinewidth": 1,
              "tickcolor": "rgb(36,36,36)",
              "ticks": "outside"
             }
            },
            "type": "parcoords"
           }
          ],
          "pie": [
           {
            "automargin": true,
            "type": "pie"
           }
          ],
          "scatter": [
           {
            "marker": {
             "colorbar": {
              "outlinewidth": 1,
              "tickcolor": "rgb(36,36,36)",
              "ticks": "outside"
             }
            },
            "type": "scatter"
           }
          ],
          "scatter3d": [
           {
            "line": {
             "colorbar": {
              "outlinewidth": 1,
              "tickcolor": "rgb(36,36,36)",
              "ticks": "outside"
             }
            },
            "marker": {
             "colorbar": {
              "outlinewidth": 1,
              "tickcolor": "rgb(36,36,36)",
              "ticks": "outside"
             }
            },
            "type": "scatter3d"
           }
          ],
          "scattercarpet": [
           {
            "marker": {
             "colorbar": {
              "outlinewidth": 1,
              "tickcolor": "rgb(36,36,36)",
              "ticks": "outside"
             }
            },
            "type": "scattercarpet"
           }
          ],
          "scattergeo": [
           {
            "marker": {
             "colorbar": {
              "outlinewidth": 1,
              "tickcolor": "rgb(36,36,36)",
              "ticks": "outside"
             }
            },
            "type": "scattergeo"
           }
          ],
          "scattergl": [
           {
            "marker": {
             "colorbar": {
              "outlinewidth": 1,
              "tickcolor": "rgb(36,36,36)",
              "ticks": "outside"
             }
            },
            "type": "scattergl"
           }
          ],
          "scattermapbox": [
           {
            "marker": {
             "colorbar": {
              "outlinewidth": 1,
              "tickcolor": "rgb(36,36,36)",
              "ticks": "outside"
             }
            },
            "type": "scattermapbox"
           }
          ],
          "scatterpolar": [
           {
            "marker": {
             "colorbar": {
              "outlinewidth": 1,
              "tickcolor": "rgb(36,36,36)",
              "ticks": "outside"
             }
            },
            "type": "scatterpolar"
           }
          ],
          "scatterpolargl": [
           {
            "marker": {
             "colorbar": {
              "outlinewidth": 1,
              "tickcolor": "rgb(36,36,36)",
              "ticks": "outside"
             }
            },
            "type": "scatterpolargl"
           }
          ],
          "scatterternary": [
           {
            "marker": {
             "colorbar": {
              "outlinewidth": 1,
              "tickcolor": "rgb(36,36,36)",
              "ticks": "outside"
             }
            },
            "type": "scatterternary"
           }
          ],
          "surface": [
           {
            "colorbar": {
             "outlinewidth": 1,
             "tickcolor": "rgb(36,36,36)",
             "ticks": "outside"
            },
            "colorscale": [
             [
              0,
              "#440154"
             ],
             [
              0.1111111111111111,
              "#482878"
             ],
             [
              0.2222222222222222,
              "#3e4989"
             ],
             [
              0.3333333333333333,
              "#31688e"
             ],
             [
              0.4444444444444444,
              "#26828e"
             ],
             [
              0.5555555555555556,
              "#1f9e89"
             ],
             [
              0.6666666666666666,
              "#35b779"
             ],
             [
              0.7777777777777778,
              "#6ece58"
             ],
             [
              0.8888888888888888,
              "#b5de2b"
             ],
             [
              1,
              "#fde725"
             ]
            ],
            "type": "surface"
           }
          ],
          "table": [
           {
            "cells": {
             "fill": {
              "color": "rgb(237,237,237)"
             },
             "line": {
              "color": "white"
             }
            },
            "header": {
             "fill": {
              "color": "rgb(217,217,217)"
             },
             "line": {
              "color": "white"
             }
            },
            "type": "table"
           }
          ]
         },
         "layout": {
          "annotationdefaults": {
           "arrowhead": 0,
           "arrowwidth": 1
          },
          "autotypenumbers": "strict",
          "coloraxis": {
           "colorbar": {
            "outlinewidth": 1,
            "tickcolor": "rgb(36,36,36)",
            "ticks": "outside"
           }
          },
          "colorscale": {
           "diverging": [
            [
             0,
             "rgb(103,0,31)"
            ],
            [
             0.1,
             "rgb(178,24,43)"
            ],
            [
             0.2,
             "rgb(214,96,77)"
            ],
            [
             0.3,
             "rgb(244,165,130)"
            ],
            [
             0.4,
             "rgb(253,219,199)"
            ],
            [
             0.5,
             "rgb(247,247,247)"
            ],
            [
             0.6,
             "rgb(209,229,240)"
            ],
            [
             0.7,
             "rgb(146,197,222)"
            ],
            [
             0.8,
             "rgb(67,147,195)"
            ],
            [
             0.9,
             "rgb(33,102,172)"
            ],
            [
             1,
             "rgb(5,48,97)"
            ]
           ],
           "sequential": [
            [
             0,
             "#440154"
            ],
            [
             0.1111111111111111,
             "#482878"
            ],
            [
             0.2222222222222222,
             "#3e4989"
            ],
            [
             0.3333333333333333,
             "#31688e"
            ],
            [
             0.4444444444444444,
             "#26828e"
            ],
            [
             0.5555555555555556,
             "#1f9e89"
            ],
            [
             0.6666666666666666,
             "#35b779"
            ],
            [
             0.7777777777777778,
             "#6ece58"
            ],
            [
             0.8888888888888888,
             "#b5de2b"
            ],
            [
             1,
             "#fde725"
            ]
           ],
           "sequentialminus": [
            [
             0,
             "#440154"
            ],
            [
             0.1111111111111111,
             "#482878"
            ],
            [
             0.2222222222222222,
             "#3e4989"
            ],
            [
             0.3333333333333333,
             "#31688e"
            ],
            [
             0.4444444444444444,
             "#26828e"
            ],
            [
             0.5555555555555556,
             "#1f9e89"
            ],
            [
             0.6666666666666666,
             "#35b779"
            ],
            [
             0.7777777777777778,
             "#6ece58"
            ],
            [
             0.8888888888888888,
             "#b5de2b"
            ],
            [
             1,
             "#fde725"
            ]
           ]
          },
          "colorway": [
           "#1F77B4",
           "#FF7F0E",
           "#2CA02C",
           "#D62728",
           "#9467BD",
           "#8C564B",
           "#E377C2",
           "#7F7F7F",
           "#BCBD22",
           "#17BECF"
          ],
          "font": {
           "color": "rgb(36,36,36)"
          },
          "geo": {
           "bgcolor": "white",
           "lakecolor": "white",
           "landcolor": "white",
           "showlakes": true,
           "showland": true,
           "subunitcolor": "white"
          },
          "hoverlabel": {
           "align": "left"
          },
          "hovermode": "closest",
          "mapbox": {
           "style": "light"
          },
          "paper_bgcolor": "white",
          "plot_bgcolor": "white",
          "polar": {
           "angularaxis": {
            "gridcolor": "rgb(232,232,232)",
            "linecolor": "rgb(36,36,36)",
            "showgrid": false,
            "showline": true,
            "ticks": "outside"
           },
           "bgcolor": "white",
           "radialaxis": {
            "gridcolor": "rgb(232,232,232)",
            "linecolor": "rgb(36,36,36)",
            "showgrid": false,
            "showline": true,
            "ticks": "outside"
           }
          },
          "scene": {
           "xaxis": {
            "backgroundcolor": "white",
            "gridcolor": "rgb(232,232,232)",
            "gridwidth": 2,
            "linecolor": "rgb(36,36,36)",
            "showbackground": true,
            "showgrid": false,
            "showline": true,
            "ticks": "outside",
            "zeroline": false,
            "zerolinecolor": "rgb(36,36,36)"
           },
           "yaxis": {
            "backgroundcolor": "white",
            "gridcolor": "rgb(232,232,232)",
            "gridwidth": 2,
            "linecolor": "rgb(36,36,36)",
            "showbackground": true,
            "showgrid": false,
            "showline": true,
            "ticks": "outside",
            "zeroline": false,
            "zerolinecolor": "rgb(36,36,36)"
           },
           "zaxis": {
            "backgroundcolor": "white",
            "gridcolor": "rgb(232,232,232)",
            "gridwidth": 2,
            "linecolor": "rgb(36,36,36)",
            "showbackground": true,
            "showgrid": false,
            "showline": true,
            "ticks": "outside",
            "zeroline": false,
            "zerolinecolor": "rgb(36,36,36)"
           }
          },
          "shapedefaults": {
           "fillcolor": "black",
           "line": {
            "width": 0
           },
           "opacity": 0.3
          },
          "ternary": {
           "aaxis": {
            "gridcolor": "rgb(232,232,232)",
            "linecolor": "rgb(36,36,36)",
            "showgrid": false,
            "showline": true,
            "ticks": "outside"
           },
           "baxis": {
            "gridcolor": "rgb(232,232,232)",
            "linecolor": "rgb(36,36,36)",
            "showgrid": false,
            "showline": true,
            "ticks": "outside"
           },
           "bgcolor": "white",
           "caxis": {
            "gridcolor": "rgb(232,232,232)",
            "linecolor": "rgb(36,36,36)",
            "showgrid": false,
            "showline": true,
            "ticks": "outside"
           }
          },
          "title": {
           "x": 0.05
          },
          "xaxis": {
           "automargin": true,
           "gridcolor": "rgb(232,232,232)",
           "linecolor": "rgb(36,36,36)",
           "showgrid": false,
           "showline": true,
           "ticks": "outside",
           "title": {
            "standoff": 15
           },
           "zeroline": false,
           "zerolinecolor": "rgb(36,36,36)"
          },
          "yaxis": {
           "automargin": true,
           "gridcolor": "rgb(232,232,232)",
           "linecolor": "rgb(36,36,36)",
           "showgrid": false,
           "showline": true,
           "ticks": "outside",
           "title": {
            "standoff": 15
           },
           "zeroline": false,
           "zerolinecolor": "rgb(36,36,36)"
          }
         }
        },
        "title": {
         "text": "2D PCoA"
        },
        "width": 1000,
        "xaxis": {
         "anchor": "y",
         "domain": [
          0,
          1
         ],
         "title": {
          "text": "PC2 (9.8 %)"
         }
        },
        "yaxis": {
         "anchor": "x",
         "domain": [
          0,
          1
         ],
         "title": {
          "text": "PC3 (6.2 %)"
         }
        }
       }
      }
     },
     "metadata": {},
     "output_type": "display_data"
    }
   ],
   "source": [
    "\n",
    "memo.visualization.plot_pcoa_2d(\n",
    "    matrix= memo_merged.memo_matrix,\n",
    "    df_metadata=df_meta,\n",
    "    metric= 'braycurtis',\n",
    "    filename_col = 'Filename',\n",
    "    group_col='contains',\n",
    "    norm = True,\n",
    "    scaling= False,\n",
    "    pc_to_plot = [2,3]\n",
    ")"
   ]
  },
  {
   "cell_type": "code",
   "execution_count": null,
   "metadata": {},
   "outputs": [],
   "source": []
  }
 ],
 "metadata": {
  "celltoolbar": "Tags",
  "interpreter": {
   "hash": "bf27a2d4a0753834bb94f8ff78247bd00bc6063ee2884368a40f3120b4342aed"
  },
  "kernelspec": {
   "display_name": "Python 3.9.6 64-bit ('memo': conda)",
   "name": "python3"
  },
  "language_info": {
   "codemirror_mode": {
    "name": "ipython",
    "version": 3
   },
   "file_extension": ".py",
   "mimetype": "text/x-python",
   "name": "python",
   "nbconvert_exporter": "python",
   "pygments_lexer": "ipython3",
   "version": "3.8.12"
  }
 },
 "nbformat": 4,
 "nbformat_minor": 4
}
