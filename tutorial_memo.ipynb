{
 "cells": [
  {
   "cell_type": "markdown",
   "source": [
    "# MEMO Tutorial on the Qemistree Evaluation Dataset"
   ],
   "metadata": {}
  },
  {
   "cell_type": "markdown",
   "source": [
    "In this tutorial, we will use the Qemistree published dataset (https://doi.org/10.1038/s41589-020-00677-3) to apply the MS2 BasEd SaMple VectOrization (MEMO) method\r\n",
    "\r\n",
    "The dataset is constitued of 2 fecal samples, 1 totmato sample and 1 plasma sample, plus different binary/quaternary mixtures of these four samples. Samples were profile in UHPLC-MS/MS (Q-Exactive spectrometer) using 2 different LC-methods. Each sample was acquired in triplicates using each LC-method (see Qemistree paper for details)."
   ],
   "metadata": {}
  },
  {
   "cell_type": "markdown",
   "source": [
    "## First we import the needed packages\r\n",
    "Be sure to have first installed memo using 'pip install memo' in the root folder"
   ],
   "metadata": {}
  },
  {
   "cell_type": "code",
   "execution_count": 1,
   "source": [
    "import memo as memo\r\n",
    "import pandas as pd\r\n",
    "import numpy as np"
   ],
   "outputs": [
    {
     "output_type": "stream",
     "name": "stderr",
     "text": [
      "C:\\Users\\gaudrya.FARMA\\Anaconda3\\envs\\memo\\lib\\site-packages\\gensim\\similarities\\__init__.py:15: UserWarning: The gensim.similarities.levenshtein submodule is disabled, because the optional Levenshtein package <https://pypi.org/project/python-Levenshtein/> is unavailable. Install Levenhstein (e.g. `pip install python-Levenshtein`) to suppress this warning.\n",
      "  warnings.warn(msg)\n"
     ]
    }
   ],
   "metadata": {
    "scrolled": true
   }
  },
  {
   "cell_type": "markdown",
   "source": [
    "With this step we import metadata:"
   ],
   "metadata": {}
  },
  {
   "cell_type": "code",
   "execution_count": 27,
   "source": [
    "\r\n",
    "def conditions(df_meta):\r\n",
    "    if ((df_meta['Proportion_Fecal_1']>0) & (df_meta['Proportion_Fecal_2']==0)& (df_meta['Proportion_Tomato']==0) & (df_meta['Proportion_NIST_1950_SRM']==0)):\r\n",
    "        return 'Fecal_1'\r\n",
    "    if ((df_meta['Proportion_Fecal_1']==0) & (df_meta['Proportion_Fecal_2']>0)& (df_meta['Proportion_Tomato']==0) & (df_meta['Proportion_NIST_1950_SRM']==0)):\r\n",
    "        return 'Fecal_2'\r\n",
    "    if ((df_meta['Proportion_Fecal_1']==0) & (df_meta['Proportion_Fecal_2']==0)& (df_meta['Proportion_Tomato']>0) & (df_meta['Proportion_NIST_1950_SRM']==0)):\r\n",
    "        return 'Tomato'\r\n",
    "    if ((df_meta['Proportion_Fecal_1']==0) & (df_meta['Proportion_Fecal_2']==0)& (df_meta['Proportion_Tomato']==0) & (df_meta['Proportion_NIST_1950_SRM']>0)):\r\n",
    "        return 'Plasma'\r\n",
    "    if ((df_meta['Proportion_Fecal_1']>0) & (df_meta['Proportion_Fecal_2']>0)& (df_meta['Proportion_Tomato']==0) & (df_meta['Proportion_NIST_1950_SRM']==0)):\r\n",
    "        return 'Fecal_1 + Fecal_2'\r\n",
    "    if ((df_meta['Proportion_Fecal_1']>0) & (df_meta['Proportion_Fecal_2']==0)& (df_meta['Proportion_Tomato']>0) & (df_meta['Proportion_NIST_1950_SRM']==0)):\r\n",
    "        return 'Fecal_1 + Tomato'\r\n",
    "    if ((df_meta['Proportion_Fecal_1']>0) & (df_meta['Proportion_Fecal_2']==0)& (df_meta['Proportion_Tomato']==0) & (df_meta['Proportion_NIST_1950_SRM']>0)):\r\n",
    "        return 'Fecal_1 + Plasma'\r\n",
    "    if ((df_meta['Proportion_Fecal_1']==0) & (df_meta['Proportion_Fecal_2']>0)& (df_meta['Proportion_Tomato']>0) & (df_meta['Proportion_NIST_1950_SRM']==0)):\r\n",
    "        return 'Fecal_2 + Tomato'\r\n",
    "    if ((df_meta['Proportion_Fecal_1']==0) & (df_meta['Proportion_Fecal_2']>0)& (df_meta['Proportion_Tomato']==0) & (df_meta['Proportion_NIST_1950_SRM']>0)):\r\n",
    "        return 'Fecal_2 + Plasma'\r\n",
    "    if ((df_meta['Proportion_Fecal_1']==0) & (df_meta['Proportion_Fecal_2']==0)& (df_meta['Proportion_Tomato']>0) & (df_meta['Proportion_NIST_1950_SRM']>0)):\r\n",
    "        return 'Tomato + Plasma'\r\n",
    "    if ((df_meta['Proportion_Fecal_1']>0) & (df_meta['Proportion_Fecal_2']>0)& (df_meta['Proportion_Tomato']>0) & (df_meta['Proportion_NIST_1950_SRM']>0)):\r\n",
    "        return 'Fecal_1 + Fecal_2 + Tomato + Plasma' \r\n",
    "    else:\r\n",
    "        return 'What is it? :)'\r\n",
    "\r\n",
    "\r\n",
    "df_meta = pd.read_csv(\"data/1901_gradient_benchmarking_dataset_v4_sample_metadata.txt\", sep='\\t')\r\n",
    "df_meta['Samplename'] = df_meta['Samplename'].str[:-6]\r\n",
    "df_meta['Samplename'] = df_meta['Samplename'].str.replace('BLANK_', 'BLANK')\r\n",
    "df_meta = df_meta[['Filename', 'Experiment', 'Samplename', 'Triplicate_number', 'Proportion_Fecal_1', 'Proportion_Fecal_2', 'Proportion_Tomato', 'Proportion_NIST_1950_SRM']]\r\n",
    "df_meta['contains'] = df_meta.apply(conditions, axis=1)\r\n",
    "df_meta['instrument'] = np.where(df_meta['Samplename'].str.contains('qTOF'), 'qTOF', 'QE')\r\n",
    "df_meta['blank_qc'] = np.where(df_meta['Samplename'].str.contains('blank|qcmix', case = False), 'yes', 'no')\r\n",
    "df_meta\r\n"
   ],
   "outputs": [
    {
     "output_type": "execute_result",
     "data": {
      "text/plain": [
       "                                   Filename   Experiment  \\\n",
       "0    QEC18_Blank_resusp_20181226235330.mzML          C18   \n",
       "1    QEC18_Blank_resusp_20181227024429.mzML          C18   \n",
       "2    QEC18_Blank_resusp_20181227051626.mzML          C18   \n",
       "3    QEC18_Blank_resusp_20181227072924.mzML          C18   \n",
       "4    QEC18_Blank_resusp_20181227100129.mzML          C18   \n",
       "..                                      ...          ...   \n",
       "565         C18_F1-3_To-1_GC5_01_19577.mzML  C18-RTshift   \n",
       "566         C18_F1-3_To-1_GC5_01_19584.mzML  C18-RTshift   \n",
       "567         C18_F1-3_F2-1_GB4_01_19512.mzML  C18-RTshift   \n",
       "568         C18_F1-3_F2-1_GB4_01_19547.mzML  C18-RTshift   \n",
       "569         C18_F1-3_F2-1_GB4_01_19562.mzML  C18-RTshift   \n",
       "\n",
       "                     Samplename  Triplicate_number  Proportion_Fecal_1  \\\n",
       "0                  QE_C18_BLANK                  1                   0   \n",
       "1                  QE_C18_BLANK                  2                   0   \n",
       "2                  QE_C18_BLANK                  3                   0   \n",
       "3                  QE_C18_BLANK                  4                   0   \n",
       "4                  QE_C18_BLANK                  5                   0   \n",
       "..                          ...                ...                 ...   \n",
       "565  qTOF_C18-RTshift_F1-3_To-1                  2                  75   \n",
       "566  qTOF_C18-RTshift_F1-3_To-1                  3                  75   \n",
       "567  qTOF_C18-RTshift_F1-3_F2-1                  1                  75   \n",
       "568  qTOF_C18-RTshift_F1-3_F2-1                  2                  75   \n",
       "569  qTOF_C18-RTshift_F1-3_F2-1                  3                  75   \n",
       "\n",
       "     Proportion_Fecal_2  Proportion_Tomato  Proportion_NIST_1950_SRM  \\\n",
       "0                     0                  0                         0   \n",
       "1                     0                  0                         0   \n",
       "2                     0                  0                         0   \n",
       "3                     0                  0                         0   \n",
       "4                     0                  0                         0   \n",
       "..                  ...                ...                       ...   \n",
       "565                   0                 25                         0   \n",
       "566                   0                 25                         0   \n",
       "567                  25                  0                         0   \n",
       "568                  25                  0                         0   \n",
       "569                  25                  0                         0   \n",
       "\n",
       "              contains instrument blank_qc  \n",
       "0       What is it? :)         QE      yes  \n",
       "1       What is it? :)         QE      yes  \n",
       "2       What is it? :)         QE      yes  \n",
       "3       What is it? :)         QE      yes  \n",
       "4       What is it? :)         QE      yes  \n",
       "..                 ...        ...      ...  \n",
       "565   Fecal_1 + Tomato       qTOF       no  \n",
       "566   Fecal_1 + Tomato       qTOF       no  \n",
       "567  Fecal_1 + Fecal_2       qTOF       no  \n",
       "568  Fecal_1 + Fecal_2       qTOF       no  \n",
       "569  Fecal_1 + Fecal_2       qTOF       no  \n",
       "\n",
       "[570 rows x 11 columns]"
      ],
      "text/html": [
       "<div>\n",
       "<style scoped>\n",
       "    .dataframe tbody tr th:only-of-type {\n",
       "        vertical-align: middle;\n",
       "    }\n",
       "\n",
       "    .dataframe tbody tr th {\n",
       "        vertical-align: top;\n",
       "    }\n",
       "\n",
       "    .dataframe thead th {\n",
       "        text-align: right;\n",
       "    }\n",
       "</style>\n",
       "<table border=\"1\" class=\"dataframe\">\n",
       "  <thead>\n",
       "    <tr style=\"text-align: right;\">\n",
       "      <th></th>\n",
       "      <th>Filename</th>\n",
       "      <th>Experiment</th>\n",
       "      <th>Samplename</th>\n",
       "      <th>Triplicate_number</th>\n",
       "      <th>Proportion_Fecal_1</th>\n",
       "      <th>Proportion_Fecal_2</th>\n",
       "      <th>Proportion_Tomato</th>\n",
       "      <th>Proportion_NIST_1950_SRM</th>\n",
       "      <th>contains</th>\n",
       "      <th>instrument</th>\n",
       "      <th>blank_qc</th>\n",
       "    </tr>\n",
       "  </thead>\n",
       "  <tbody>\n",
       "    <tr>\n",
       "      <th>0</th>\n",
       "      <td>QEC18_Blank_resusp_20181226235330.mzML</td>\n",
       "      <td>C18</td>\n",
       "      <td>QE_C18_BLANK</td>\n",
       "      <td>1</td>\n",
       "      <td>0</td>\n",
       "      <td>0</td>\n",
       "      <td>0</td>\n",
       "      <td>0</td>\n",
       "      <td>What is it? :)</td>\n",
       "      <td>QE</td>\n",
       "      <td>yes</td>\n",
       "    </tr>\n",
       "    <tr>\n",
       "      <th>1</th>\n",
       "      <td>QEC18_Blank_resusp_20181227024429.mzML</td>\n",
       "      <td>C18</td>\n",
       "      <td>QE_C18_BLANK</td>\n",
       "      <td>2</td>\n",
       "      <td>0</td>\n",
       "      <td>0</td>\n",
       "      <td>0</td>\n",
       "      <td>0</td>\n",
       "      <td>What is it? :)</td>\n",
       "      <td>QE</td>\n",
       "      <td>yes</td>\n",
       "    </tr>\n",
       "    <tr>\n",
       "      <th>2</th>\n",
       "      <td>QEC18_Blank_resusp_20181227051626.mzML</td>\n",
       "      <td>C18</td>\n",
       "      <td>QE_C18_BLANK</td>\n",
       "      <td>3</td>\n",
       "      <td>0</td>\n",
       "      <td>0</td>\n",
       "      <td>0</td>\n",
       "      <td>0</td>\n",
       "      <td>What is it? :)</td>\n",
       "      <td>QE</td>\n",
       "      <td>yes</td>\n",
       "    </tr>\n",
       "    <tr>\n",
       "      <th>3</th>\n",
       "      <td>QEC18_Blank_resusp_20181227072924.mzML</td>\n",
       "      <td>C18</td>\n",
       "      <td>QE_C18_BLANK</td>\n",
       "      <td>4</td>\n",
       "      <td>0</td>\n",
       "      <td>0</td>\n",
       "      <td>0</td>\n",
       "      <td>0</td>\n",
       "      <td>What is it? :)</td>\n",
       "      <td>QE</td>\n",
       "      <td>yes</td>\n",
       "    </tr>\n",
       "    <tr>\n",
       "      <th>4</th>\n",
       "      <td>QEC18_Blank_resusp_20181227100129.mzML</td>\n",
       "      <td>C18</td>\n",
       "      <td>QE_C18_BLANK</td>\n",
       "      <td>5</td>\n",
       "      <td>0</td>\n",
       "      <td>0</td>\n",
       "      <td>0</td>\n",
       "      <td>0</td>\n",
       "      <td>What is it? :)</td>\n",
       "      <td>QE</td>\n",
       "      <td>yes</td>\n",
       "    </tr>\n",
       "    <tr>\n",
       "      <th>...</th>\n",
       "      <td>...</td>\n",
       "      <td>...</td>\n",
       "      <td>...</td>\n",
       "      <td>...</td>\n",
       "      <td>...</td>\n",
       "      <td>...</td>\n",
       "      <td>...</td>\n",
       "      <td>...</td>\n",
       "      <td>...</td>\n",
       "      <td>...</td>\n",
       "      <td>...</td>\n",
       "    </tr>\n",
       "    <tr>\n",
       "      <th>565</th>\n",
       "      <td>C18_F1-3_To-1_GC5_01_19577.mzML</td>\n",
       "      <td>C18-RTshift</td>\n",
       "      <td>qTOF_C18-RTshift_F1-3_To-1</td>\n",
       "      <td>2</td>\n",
       "      <td>75</td>\n",
       "      <td>0</td>\n",
       "      <td>25</td>\n",
       "      <td>0</td>\n",
       "      <td>Fecal_1 + Tomato</td>\n",
       "      <td>qTOF</td>\n",
       "      <td>no</td>\n",
       "    </tr>\n",
       "    <tr>\n",
       "      <th>566</th>\n",
       "      <td>C18_F1-3_To-1_GC5_01_19584.mzML</td>\n",
       "      <td>C18-RTshift</td>\n",
       "      <td>qTOF_C18-RTshift_F1-3_To-1</td>\n",
       "      <td>3</td>\n",
       "      <td>75</td>\n",
       "      <td>0</td>\n",
       "      <td>25</td>\n",
       "      <td>0</td>\n",
       "      <td>Fecal_1 + Tomato</td>\n",
       "      <td>qTOF</td>\n",
       "      <td>no</td>\n",
       "    </tr>\n",
       "    <tr>\n",
       "      <th>567</th>\n",
       "      <td>C18_F1-3_F2-1_GB4_01_19512.mzML</td>\n",
       "      <td>C18-RTshift</td>\n",
       "      <td>qTOF_C18-RTshift_F1-3_F2-1</td>\n",
       "      <td>1</td>\n",
       "      <td>75</td>\n",
       "      <td>25</td>\n",
       "      <td>0</td>\n",
       "      <td>0</td>\n",
       "      <td>Fecal_1 + Fecal_2</td>\n",
       "      <td>qTOF</td>\n",
       "      <td>no</td>\n",
       "    </tr>\n",
       "    <tr>\n",
       "      <th>568</th>\n",
       "      <td>C18_F1-3_F2-1_GB4_01_19547.mzML</td>\n",
       "      <td>C18-RTshift</td>\n",
       "      <td>qTOF_C18-RTshift_F1-3_F2-1</td>\n",
       "      <td>2</td>\n",
       "      <td>75</td>\n",
       "      <td>25</td>\n",
       "      <td>0</td>\n",
       "      <td>0</td>\n",
       "      <td>Fecal_1 + Fecal_2</td>\n",
       "      <td>qTOF</td>\n",
       "      <td>no</td>\n",
       "    </tr>\n",
       "    <tr>\n",
       "      <th>569</th>\n",
       "      <td>C18_F1-3_F2-1_GB4_01_19562.mzML</td>\n",
       "      <td>C18-RTshift</td>\n",
       "      <td>qTOF_C18-RTshift_F1-3_F2-1</td>\n",
       "      <td>3</td>\n",
       "      <td>75</td>\n",
       "      <td>25</td>\n",
       "      <td>0</td>\n",
       "      <td>0</td>\n",
       "      <td>Fecal_1 + Fecal_2</td>\n",
       "      <td>qTOF</td>\n",
       "      <td>no</td>\n",
       "    </tr>\n",
       "  </tbody>\n",
       "</table>\n",
       "<p>570 rows × 11 columns</p>\n",
       "</div>"
      ]
     },
     "metadata": {},
     "execution_count": 27
    }
   ],
   "metadata": {}
  },
  {
   "cell_type": "markdown",
   "source": [
    "## Import feature_quant table\r\n",
    "To compute the MEMO matrix of the dataset, we need the table reporting presence/absence of each metabolite in each sample. This information is in the quant table and we use the import_mzmine2_quant_table function to import and format it"
   ],
   "metadata": {}
  },
  {
   "cell_type": "code",
   "execution_count": 11,
   "source": [
    "quant = memo.import_mzmine2_quant_table(\"data/quantification_table-00000.csv\")\r\n",
    "quant"
   ],
   "outputs": [
    {
     "output_type": "execute_result",
     "data": {
      "text/plain": [
       "        QEC18_Blank_resusp_20181227024429.mzML  \\\n",
       "row ID                                           \n",
       "1                                 8.739521e+08   \n",
       "2                                 1.481579e+08   \n",
       "3                                 9.837010e+07   \n",
       "4                                 8.224197e+07   \n",
       "5                                 7.315887e+07   \n",
       "...                                        ...   \n",
       "7028                              0.000000e+00   \n",
       "7029                              0.000000e+00   \n",
       "7030                              7.638457e+03   \n",
       "7031                              0.000000e+00   \n",
       "7032                              0.000000e+00   \n",
       "\n",
       "        QEC18_Blank_resusp_20181227200515.mzML  \\\n",
       "row ID                                           \n",
       "1                                 1.205125e+09   \n",
       "2                                 3.421555e+08   \n",
       "3                                 2.866821e+07   \n",
       "4                                 8.136892e+07   \n",
       "5                                 7.267058e+07   \n",
       "...                                        ...   \n",
       "7028                              0.000000e+00   \n",
       "7029                              0.000000e+00   \n",
       "7030                              2.869926e+03   \n",
       "7031                              0.000000e+00   \n",
       "7032                              0.000000e+00   \n",
       "\n",
       "        QEC18_Blank_resusp_20181227180406.mzML  \\\n",
       "row ID                                           \n",
       "1                                 8.856410e+08   \n",
       "2                                 2.189828e+08   \n",
       "3                                 1.133203e+08   \n",
       "4                                 1.442344e+08   \n",
       "5                                 2.595832e+08   \n",
       "...                                        ...   \n",
       "7028                              0.000000e+00   \n",
       "7029                              0.000000e+00   \n",
       "7030                              5.820253e+03   \n",
       "7031                              0.000000e+00   \n",
       "7032                              0.000000e+00   \n",
       "\n",
       "        QEC18_Blank_resusp_20181227100129.mzML  \\\n",
       "row ID                                           \n",
       "1                                 1.672233e+09   \n",
       "2                                 3.215060e+08   \n",
       "3                                 2.621886e+08   \n",
       "4                                 2.304763e+08   \n",
       "5                                 0.000000e+00   \n",
       "...                                        ...   \n",
       "7028                              0.000000e+00   \n",
       "7029                              0.000000e+00   \n",
       "7030                              2.094878e+03   \n",
       "7031                              0.000000e+00   \n",
       "7032                              0.000000e+00   \n",
       "\n",
       "        QEC18_Blank_resusp_20181226235330.mzML  \\\n",
       "row ID                                           \n",
       "1                                 3.730564e+08   \n",
       "2                                 1.466751e+08   \n",
       "3                                 4.948088e+07   \n",
       "4                                 0.000000e+00   \n",
       "5                                 2.946699e+08   \n",
       "...                                        ...   \n",
       "7028                              0.000000e+00   \n",
       "7029                              0.000000e+00   \n",
       "7030                              6.407866e+03   \n",
       "7031                              0.000000e+00   \n",
       "7032                              0.000000e+00   \n",
       "\n",
       "        QEC18_Blank_resusp_20181227154841.mzML  \\\n",
       "row ID                                           \n",
       "1                                 1.694707e+09   \n",
       "2                                 3.779046e+08   \n",
       "3                                 3.325100e+06   \n",
       "4                                 2.873334e+07   \n",
       "5                                 4.263457e+08   \n",
       "...                                        ...   \n",
       "7028                              0.000000e+00   \n",
       "7029                              0.000000e+00   \n",
       "7030                              3.131129e+03   \n",
       "7031                              3.977231e+02   \n",
       "7032                              0.000000e+00   \n",
       "\n",
       "        QEC18_Blank_resusp_20181227072924.mzML  \\\n",
       "row ID                                           \n",
       "1                                 1.250287e+09   \n",
       "2                                 2.547772e+08   \n",
       "3                                 1.912927e+08   \n",
       "4                                 2.817894e+08   \n",
       "5                                 1.223111e+07   \n",
       "...                                        ...   \n",
       "7028                              0.000000e+00   \n",
       "7029                              0.000000e+00   \n",
       "7030                              4.183935e+03   \n",
       "7031                              0.000000e+00   \n",
       "7032                              0.000000e+00   \n",
       "\n",
       "        QEC18_Blank_resusp_20181227235313.mzML  \\\n",
       "row ID                                           \n",
       "1                                 1.174462e+09   \n",
       "2                                 3.116616e+08   \n",
       "3                                 2.064894e+08   \n",
       "4                                 0.000000e+00   \n",
       "5                                 1.622914e+08   \n",
       "...                                        ...   \n",
       "7028                              0.000000e+00   \n",
       "7029                              0.000000e+00   \n",
       "7030                              4.523492e+03   \n",
       "7031                              6.129638e+02   \n",
       "7032                              0.000000e+00   \n",
       "\n",
       "        QEC18_Blank_resusp_20181227051626.mzML  QEC18_F1-1_F2-1.mzML  ...  \\\n",
       "row ID                                                                ...   \n",
       "1                                 1.250107e+09          2.233406e+08  ...   \n",
       "2                                 2.454641e+08          1.667905e+07  ...   \n",
       "3                                 1.669947e+08          3.245482e+06  ...   \n",
       "4                                 1.024043e+08          0.000000e+00  ...   \n",
       "5                                 1.737644e+08          1.116640e+08  ...   \n",
       "...                                        ...                   ...  ...   \n",
       "7028                              0.000000e+00          0.000000e+00  ...   \n",
       "7029                              0.000000e+00          1.416685e+04  ...   \n",
       "7030                              2.258435e+03          3.047024e+03  ...   \n",
       "7031                              0.000000e+00          1.248792e+03  ...   \n",
       "7032                              0.000000e+00          0.000000e+00  ...   \n",
       "\n",
       "        QEC18RT_To_20181229050805.mzML  QEC18RT_QCmix_no_exclusion.mzML  \\\n",
       "row ID                                                                    \n",
       "1                        329089.838818                     5.834382e+05   \n",
       "2                        430302.125590                     4.218561e+05   \n",
       "3                           581.722337                     0.000000e+00   \n",
       "4                        258414.856693                     0.000000e+00   \n",
       "5                        505079.412864                     3.919205e+05   \n",
       "...                                ...                              ...   \n",
       "7028                          0.000000                     1.176028e+06   \n",
       "7029                          0.000000                     4.439594e+06   \n",
       "7030                          0.000000                     4.274993e+06   \n",
       "7031                      13811.598093                     2.247251e+06   \n",
       "7032                          0.000000                     1.915096e+07   \n",
       "\n",
       "        QEC18RT_F2.mzML  QEC18RT_To_20181229074015.mzML  \\\n",
       "row ID                                                    \n",
       "1          1.125321e+06                    1.761620e+06   \n",
       "2          2.769745e+05                    4.475155e+05   \n",
       "3          0.000000e+00                    7.836569e+02   \n",
       "4          2.111572e+05                    2.359778e+05   \n",
       "5          6.063203e+05                    6.117475e+05   \n",
       "...                 ...                             ...   \n",
       "7028       4.565675e+06                    0.000000e+00   \n",
       "7029       1.200933e+06                    0.000000e+00   \n",
       "7030       1.031305e+07                    9.990865e+03   \n",
       "7031       4.406589e+06                    0.000000e+00   \n",
       "7032       4.923490e+07                    3.178934e+04   \n",
       "\n",
       "        QEC18RT_Qcmix_end.mzML  QEC18RT_F1.mzML  \\\n",
       "row ID                                            \n",
       "1                 4.494813e+05     2.651802e+05   \n",
       "2                 3.973298e+05     5.065530e+05   \n",
       "3                 0.000000e+00     0.000000e+00   \n",
       "4                 1.748818e+04     4.924721e+05   \n",
       "5                 1.080398e+06     2.399147e+05   \n",
       "...                        ...              ...   \n",
       "7028              1.620638e+06     4.512574e+06   \n",
       "7029              4.475984e+06     1.276397e+07   \n",
       "7030              4.003327e+06     8.826358e+06   \n",
       "7031              3.351930e+06     3.281628e+06   \n",
       "7032              1.958202e+07     2.809365e+07   \n",
       "\n",
       "        QEC18RT_F1_20181229114729.mzML  QEC18RT_F2_20181229083715.mzML  \\\n",
       "row ID                                                                   \n",
       "1                         5.304884e+05                    4.728289e+05   \n",
       "2                         2.502201e+05                    1.238884e+05   \n",
       "3                         0.000000e+00                    0.000000e+00   \n",
       "4                         8.183989e+03                    4.191255e+04   \n",
       "5                         8.817621e+05                    1.300201e+05   \n",
       "...                                ...                             ...   \n",
       "7028                      6.209425e+05                    4.468508e+06   \n",
       "7029                      6.744892e+06                    0.000000e+00   \n",
       "7030                      6.012722e+06                    9.674889e+06   \n",
       "7031                      7.457704e+05                    0.000000e+00   \n",
       "7032                      9.571486e+05                    0.000000e+00   \n",
       "\n",
       "        QEC18RT_F2_20181228211241.mzML  QEC18RT_F1_20181228113615.mzML  \n",
       "row ID                                                                  \n",
       "1                         5.962238e+05                    5.971862e+05  \n",
       "2                         1.094719e+05                    2.389570e+05  \n",
       "3                         0.000000e+00                    0.000000e+00  \n",
       "4                         0.000000e+00                    5.393931e+05  \n",
       "5                         2.797098e+05                    2.718625e+05  \n",
       "...                                ...                             ...  \n",
       "7028                      5.771853e+05                    6.262678e+06  \n",
       "7029                      4.531521e+06                    1.224795e+06  \n",
       "7030                      1.059177e+07                    5.639867e+06  \n",
       "7031                      1.394515e+06                    2.448436e+05  \n",
       "7032                      6.244577e+07                    0.000000e+00  \n",
       "\n",
       "[7032 rows x 198 columns]"
      ],
      "text/html": [
       "<div>\n",
       "<style scoped>\n",
       "    .dataframe tbody tr th:only-of-type {\n",
       "        vertical-align: middle;\n",
       "    }\n",
       "\n",
       "    .dataframe tbody tr th {\n",
       "        vertical-align: top;\n",
       "    }\n",
       "\n",
       "    .dataframe thead th {\n",
       "        text-align: right;\n",
       "    }\n",
       "</style>\n",
       "<table border=\"1\" class=\"dataframe\">\n",
       "  <thead>\n",
       "    <tr style=\"text-align: right;\">\n",
       "      <th></th>\n",
       "      <th>QEC18_Blank_resusp_20181227024429.mzML</th>\n",
       "      <th>QEC18_Blank_resusp_20181227200515.mzML</th>\n",
       "      <th>QEC18_Blank_resusp_20181227180406.mzML</th>\n",
       "      <th>QEC18_Blank_resusp_20181227100129.mzML</th>\n",
       "      <th>QEC18_Blank_resusp_20181226235330.mzML</th>\n",
       "      <th>QEC18_Blank_resusp_20181227154841.mzML</th>\n",
       "      <th>QEC18_Blank_resusp_20181227072924.mzML</th>\n",
       "      <th>QEC18_Blank_resusp_20181227235313.mzML</th>\n",
       "      <th>QEC18_Blank_resusp_20181227051626.mzML</th>\n",
       "      <th>QEC18_F1-1_F2-1.mzML</th>\n",
       "      <th>...</th>\n",
       "      <th>QEC18RT_To_20181229050805.mzML</th>\n",
       "      <th>QEC18RT_QCmix_no_exclusion.mzML</th>\n",
       "      <th>QEC18RT_F2.mzML</th>\n",
       "      <th>QEC18RT_To_20181229074015.mzML</th>\n",
       "      <th>QEC18RT_Qcmix_end.mzML</th>\n",
       "      <th>QEC18RT_F1.mzML</th>\n",
       "      <th>QEC18RT_F1_20181229114729.mzML</th>\n",
       "      <th>QEC18RT_F2_20181229083715.mzML</th>\n",
       "      <th>QEC18RT_F2_20181228211241.mzML</th>\n",
       "      <th>QEC18RT_F1_20181228113615.mzML</th>\n",
       "    </tr>\n",
       "    <tr>\n",
       "      <th>row ID</th>\n",
       "      <th></th>\n",
       "      <th></th>\n",
       "      <th></th>\n",
       "      <th></th>\n",
       "      <th></th>\n",
       "      <th></th>\n",
       "      <th></th>\n",
       "      <th></th>\n",
       "      <th></th>\n",
       "      <th></th>\n",
       "      <th></th>\n",
       "      <th></th>\n",
       "      <th></th>\n",
       "      <th></th>\n",
       "      <th></th>\n",
       "      <th></th>\n",
       "      <th></th>\n",
       "      <th></th>\n",
       "      <th></th>\n",
       "      <th></th>\n",
       "      <th></th>\n",
       "    </tr>\n",
       "  </thead>\n",
       "  <tbody>\n",
       "    <tr>\n",
       "      <th>1</th>\n",
       "      <td>8.739521e+08</td>\n",
       "      <td>1.205125e+09</td>\n",
       "      <td>8.856410e+08</td>\n",
       "      <td>1.672233e+09</td>\n",
       "      <td>3.730564e+08</td>\n",
       "      <td>1.694707e+09</td>\n",
       "      <td>1.250287e+09</td>\n",
       "      <td>1.174462e+09</td>\n",
       "      <td>1.250107e+09</td>\n",
       "      <td>2.233406e+08</td>\n",
       "      <td>...</td>\n",
       "      <td>329089.838818</td>\n",
       "      <td>5.834382e+05</td>\n",
       "      <td>1.125321e+06</td>\n",
       "      <td>1.761620e+06</td>\n",
       "      <td>4.494813e+05</td>\n",
       "      <td>2.651802e+05</td>\n",
       "      <td>5.304884e+05</td>\n",
       "      <td>4.728289e+05</td>\n",
       "      <td>5.962238e+05</td>\n",
       "      <td>5.971862e+05</td>\n",
       "    </tr>\n",
       "    <tr>\n",
       "      <th>2</th>\n",
       "      <td>1.481579e+08</td>\n",
       "      <td>3.421555e+08</td>\n",
       "      <td>2.189828e+08</td>\n",
       "      <td>3.215060e+08</td>\n",
       "      <td>1.466751e+08</td>\n",
       "      <td>3.779046e+08</td>\n",
       "      <td>2.547772e+08</td>\n",
       "      <td>3.116616e+08</td>\n",
       "      <td>2.454641e+08</td>\n",
       "      <td>1.667905e+07</td>\n",
       "      <td>...</td>\n",
       "      <td>430302.125590</td>\n",
       "      <td>4.218561e+05</td>\n",
       "      <td>2.769745e+05</td>\n",
       "      <td>4.475155e+05</td>\n",
       "      <td>3.973298e+05</td>\n",
       "      <td>5.065530e+05</td>\n",
       "      <td>2.502201e+05</td>\n",
       "      <td>1.238884e+05</td>\n",
       "      <td>1.094719e+05</td>\n",
       "      <td>2.389570e+05</td>\n",
       "    </tr>\n",
       "    <tr>\n",
       "      <th>3</th>\n",
       "      <td>9.837010e+07</td>\n",
       "      <td>2.866821e+07</td>\n",
       "      <td>1.133203e+08</td>\n",
       "      <td>2.621886e+08</td>\n",
       "      <td>4.948088e+07</td>\n",
       "      <td>3.325100e+06</td>\n",
       "      <td>1.912927e+08</td>\n",
       "      <td>2.064894e+08</td>\n",
       "      <td>1.669947e+08</td>\n",
       "      <td>3.245482e+06</td>\n",
       "      <td>...</td>\n",
       "      <td>581.722337</td>\n",
       "      <td>0.000000e+00</td>\n",
       "      <td>0.000000e+00</td>\n",
       "      <td>7.836569e+02</td>\n",
       "      <td>0.000000e+00</td>\n",
       "      <td>0.000000e+00</td>\n",
       "      <td>0.000000e+00</td>\n",
       "      <td>0.000000e+00</td>\n",
       "      <td>0.000000e+00</td>\n",
       "      <td>0.000000e+00</td>\n",
       "    </tr>\n",
       "    <tr>\n",
       "      <th>4</th>\n",
       "      <td>8.224197e+07</td>\n",
       "      <td>8.136892e+07</td>\n",
       "      <td>1.442344e+08</td>\n",
       "      <td>2.304763e+08</td>\n",
       "      <td>0.000000e+00</td>\n",
       "      <td>2.873334e+07</td>\n",
       "      <td>2.817894e+08</td>\n",
       "      <td>0.000000e+00</td>\n",
       "      <td>1.024043e+08</td>\n",
       "      <td>0.000000e+00</td>\n",
       "      <td>...</td>\n",
       "      <td>258414.856693</td>\n",
       "      <td>0.000000e+00</td>\n",
       "      <td>2.111572e+05</td>\n",
       "      <td>2.359778e+05</td>\n",
       "      <td>1.748818e+04</td>\n",
       "      <td>4.924721e+05</td>\n",
       "      <td>8.183989e+03</td>\n",
       "      <td>4.191255e+04</td>\n",
       "      <td>0.000000e+00</td>\n",
       "      <td>5.393931e+05</td>\n",
       "    </tr>\n",
       "    <tr>\n",
       "      <th>5</th>\n",
       "      <td>7.315887e+07</td>\n",
       "      <td>7.267058e+07</td>\n",
       "      <td>2.595832e+08</td>\n",
       "      <td>0.000000e+00</td>\n",
       "      <td>2.946699e+08</td>\n",
       "      <td>4.263457e+08</td>\n",
       "      <td>1.223111e+07</td>\n",
       "      <td>1.622914e+08</td>\n",
       "      <td>1.737644e+08</td>\n",
       "      <td>1.116640e+08</td>\n",
       "      <td>...</td>\n",
       "      <td>505079.412864</td>\n",
       "      <td>3.919205e+05</td>\n",
       "      <td>6.063203e+05</td>\n",
       "      <td>6.117475e+05</td>\n",
       "      <td>1.080398e+06</td>\n",
       "      <td>2.399147e+05</td>\n",
       "      <td>8.817621e+05</td>\n",
       "      <td>1.300201e+05</td>\n",
       "      <td>2.797098e+05</td>\n",
       "      <td>2.718625e+05</td>\n",
       "    </tr>\n",
       "    <tr>\n",
       "      <th>...</th>\n",
       "      <td>...</td>\n",
       "      <td>...</td>\n",
       "      <td>...</td>\n",
       "      <td>...</td>\n",
       "      <td>...</td>\n",
       "      <td>...</td>\n",
       "      <td>...</td>\n",
       "      <td>...</td>\n",
       "      <td>...</td>\n",
       "      <td>...</td>\n",
       "      <td>...</td>\n",
       "      <td>...</td>\n",
       "      <td>...</td>\n",
       "      <td>...</td>\n",
       "      <td>...</td>\n",
       "      <td>...</td>\n",
       "      <td>...</td>\n",
       "      <td>...</td>\n",
       "      <td>...</td>\n",
       "      <td>...</td>\n",
       "      <td>...</td>\n",
       "    </tr>\n",
       "    <tr>\n",
       "      <th>7028</th>\n",
       "      <td>0.000000e+00</td>\n",
       "      <td>0.000000e+00</td>\n",
       "      <td>0.000000e+00</td>\n",
       "      <td>0.000000e+00</td>\n",
       "      <td>0.000000e+00</td>\n",
       "      <td>0.000000e+00</td>\n",
       "      <td>0.000000e+00</td>\n",
       "      <td>0.000000e+00</td>\n",
       "      <td>0.000000e+00</td>\n",
       "      <td>0.000000e+00</td>\n",
       "      <td>...</td>\n",
       "      <td>0.000000</td>\n",
       "      <td>1.176028e+06</td>\n",
       "      <td>4.565675e+06</td>\n",
       "      <td>0.000000e+00</td>\n",
       "      <td>1.620638e+06</td>\n",
       "      <td>4.512574e+06</td>\n",
       "      <td>6.209425e+05</td>\n",
       "      <td>4.468508e+06</td>\n",
       "      <td>5.771853e+05</td>\n",
       "      <td>6.262678e+06</td>\n",
       "    </tr>\n",
       "    <tr>\n",
       "      <th>7029</th>\n",
       "      <td>0.000000e+00</td>\n",
       "      <td>0.000000e+00</td>\n",
       "      <td>0.000000e+00</td>\n",
       "      <td>0.000000e+00</td>\n",
       "      <td>0.000000e+00</td>\n",
       "      <td>0.000000e+00</td>\n",
       "      <td>0.000000e+00</td>\n",
       "      <td>0.000000e+00</td>\n",
       "      <td>0.000000e+00</td>\n",
       "      <td>1.416685e+04</td>\n",
       "      <td>...</td>\n",
       "      <td>0.000000</td>\n",
       "      <td>4.439594e+06</td>\n",
       "      <td>1.200933e+06</td>\n",
       "      <td>0.000000e+00</td>\n",
       "      <td>4.475984e+06</td>\n",
       "      <td>1.276397e+07</td>\n",
       "      <td>6.744892e+06</td>\n",
       "      <td>0.000000e+00</td>\n",
       "      <td>4.531521e+06</td>\n",
       "      <td>1.224795e+06</td>\n",
       "    </tr>\n",
       "    <tr>\n",
       "      <th>7030</th>\n",
       "      <td>7.638457e+03</td>\n",
       "      <td>2.869926e+03</td>\n",
       "      <td>5.820253e+03</td>\n",
       "      <td>2.094878e+03</td>\n",
       "      <td>6.407866e+03</td>\n",
       "      <td>3.131129e+03</td>\n",
       "      <td>4.183935e+03</td>\n",
       "      <td>4.523492e+03</td>\n",
       "      <td>2.258435e+03</td>\n",
       "      <td>3.047024e+03</td>\n",
       "      <td>...</td>\n",
       "      <td>0.000000</td>\n",
       "      <td>4.274993e+06</td>\n",
       "      <td>1.031305e+07</td>\n",
       "      <td>9.990865e+03</td>\n",
       "      <td>4.003327e+06</td>\n",
       "      <td>8.826358e+06</td>\n",
       "      <td>6.012722e+06</td>\n",
       "      <td>9.674889e+06</td>\n",
       "      <td>1.059177e+07</td>\n",
       "      <td>5.639867e+06</td>\n",
       "    </tr>\n",
       "    <tr>\n",
       "      <th>7031</th>\n",
       "      <td>0.000000e+00</td>\n",
       "      <td>0.000000e+00</td>\n",
       "      <td>0.000000e+00</td>\n",
       "      <td>0.000000e+00</td>\n",
       "      <td>0.000000e+00</td>\n",
       "      <td>3.977231e+02</td>\n",
       "      <td>0.000000e+00</td>\n",
       "      <td>6.129638e+02</td>\n",
       "      <td>0.000000e+00</td>\n",
       "      <td>1.248792e+03</td>\n",
       "      <td>...</td>\n",
       "      <td>13811.598093</td>\n",
       "      <td>2.247251e+06</td>\n",
       "      <td>4.406589e+06</td>\n",
       "      <td>0.000000e+00</td>\n",
       "      <td>3.351930e+06</td>\n",
       "      <td>3.281628e+06</td>\n",
       "      <td>7.457704e+05</td>\n",
       "      <td>0.000000e+00</td>\n",
       "      <td>1.394515e+06</td>\n",
       "      <td>2.448436e+05</td>\n",
       "    </tr>\n",
       "    <tr>\n",
       "      <th>7032</th>\n",
       "      <td>0.000000e+00</td>\n",
       "      <td>0.000000e+00</td>\n",
       "      <td>0.000000e+00</td>\n",
       "      <td>0.000000e+00</td>\n",
       "      <td>0.000000e+00</td>\n",
       "      <td>0.000000e+00</td>\n",
       "      <td>0.000000e+00</td>\n",
       "      <td>0.000000e+00</td>\n",
       "      <td>0.000000e+00</td>\n",
       "      <td>0.000000e+00</td>\n",
       "      <td>...</td>\n",
       "      <td>0.000000</td>\n",
       "      <td>1.915096e+07</td>\n",
       "      <td>4.923490e+07</td>\n",
       "      <td>3.178934e+04</td>\n",
       "      <td>1.958202e+07</td>\n",
       "      <td>2.809365e+07</td>\n",
       "      <td>9.571486e+05</td>\n",
       "      <td>0.000000e+00</td>\n",
       "      <td>6.244577e+07</td>\n",
       "      <td>0.000000e+00</td>\n",
       "    </tr>\n",
       "  </tbody>\n",
       "</table>\n",
       "<p>7032 rows × 198 columns</p>\n",
       "</div>"
      ]
     },
     "metadata": {},
     "execution_count": 11
    }
   ],
   "metadata": {}
  },
  {
   "cell_type": "markdown",
   "source": [
    "## Import spectra\r\n",
    "Since MEMO relies on the occurence of MS2 fragments/losses in samples to compare them, we obviously need to importthe features' fragmentation spectra. This is what is done here using load_and_filter_from_mgf function. \r\n"
   ],
   "metadata": {}
  },
  {
   "cell_type": "code",
   "execution_count": 13,
   "source": [
    "spec = memo.load_and_filter_from_mgf(\"data/qemistree_specs_ms.mgf\", min_relative_intensity = 0.01)\r\n",
    "len(spec)"
   ],
   "outputs": [
    {
     "output_type": "execute_result",
     "data": {
      "text/plain": [
       "5826"
      ]
     },
     "metadata": {},
     "execution_count": 13
    }
   ],
   "metadata": {}
  },
  {
   "cell_type": "markdown",
   "source": [
    "## From spectra to documents\r\n",
    "\r\n",
    "This step allows to get the documents (ie peaks and losses) from each spectra we previsouly loaded"
   ],
   "metadata": {}
  },
  {
   "cell_type": "code",
   "execution_count": 14,
   "source": [
    "doc = memo.spec2doc(spec)\r\n",
    "doc"
   ],
   "outputs": [
    {
     "output_type": "execute_result",
     "data": {
      "text/plain": [
       "      scans           pepmass charge collision_energy  \\\n",
       "0         1   (338.342, None)   [1+]              0.0   \n",
       "1         2  (278.1905, None)   [1+]              0.0   \n",
       "2         3  (702.2131, None)   [1+]              0.0   \n",
       "3         4   (663.452, None)   [1+]              0.0   \n",
       "4         5  (663.4555, None)   [1+]              0.0   \n",
       "...     ...               ...    ...              ...   \n",
       "5821   7028  (381.3165, None)   [1+]              0.0   \n",
       "5822   7029  (453.3377, None)   [1+]              0.0   \n",
       "5823   7030  (165.0911, None)   [1+]              0.0   \n",
       "5824   7031  (501.3573, None)   [1+]              0.0   \n",
       "5825   7032  (487.3776, None)   [1+]              0.0   \n",
       "\n",
       "                                              documents  \n",
       "0     [peak@71.05, peak@71.09, peak@72.08, peak@78.7...  \n",
       "1     [peak@84.08, peak@91.05, peak@105.07, peak@115...  \n",
       "2     [peak@73.05, peak@79.02, peak@80.97, peak@81.0...  \n",
       "3     [peak@91.05, peak@147.12, peak@251.05, peak@30...  \n",
       "4     [peak@91.05, peak@147.12, peak@251.05, peak@30...  \n",
       "...                                                 ...  \n",
       "5821  [peak@70.07, peak@71.05, peak@71.09, peak@72.3...  \n",
       "5822  [peak@71.05, peak@79.05, peak@81.03, peak@81.0...  \n",
       "5823  [peak@81.07, peak@83.05, peak@91.05, peak@95.0...  \n",
       "5824  [peak@81.07, peak@95.09, peak@105.07, peak@198...  \n",
       "5825  [peak@81.07, peak@91.05, peak@92.33, peak@93.0...  \n",
       "\n",
       "[5826 rows x 5 columns]"
      ],
      "text/html": [
       "<div>\n",
       "<style scoped>\n",
       "    .dataframe tbody tr th:only-of-type {\n",
       "        vertical-align: middle;\n",
       "    }\n",
       "\n",
       "    .dataframe tbody tr th {\n",
       "        vertical-align: top;\n",
       "    }\n",
       "\n",
       "    .dataframe thead th {\n",
       "        text-align: right;\n",
       "    }\n",
       "</style>\n",
       "<table border=\"1\" class=\"dataframe\">\n",
       "  <thead>\n",
       "    <tr style=\"text-align: right;\">\n",
       "      <th></th>\n",
       "      <th>scans</th>\n",
       "      <th>pepmass</th>\n",
       "      <th>charge</th>\n",
       "      <th>collision_energy</th>\n",
       "      <th>documents</th>\n",
       "    </tr>\n",
       "  </thead>\n",
       "  <tbody>\n",
       "    <tr>\n",
       "      <th>0</th>\n",
       "      <td>1</td>\n",
       "      <td>(338.342, None)</td>\n",
       "      <td>[1+]</td>\n",
       "      <td>0.0</td>\n",
       "      <td>[peak@71.05, peak@71.09, peak@72.08, peak@78.7...</td>\n",
       "    </tr>\n",
       "    <tr>\n",
       "      <th>1</th>\n",
       "      <td>2</td>\n",
       "      <td>(278.1905, None)</td>\n",
       "      <td>[1+]</td>\n",
       "      <td>0.0</td>\n",
       "      <td>[peak@84.08, peak@91.05, peak@105.07, peak@115...</td>\n",
       "    </tr>\n",
       "    <tr>\n",
       "      <th>2</th>\n",
       "      <td>3</td>\n",
       "      <td>(702.2131, None)</td>\n",
       "      <td>[1+]</td>\n",
       "      <td>0.0</td>\n",
       "      <td>[peak@73.05, peak@79.02, peak@80.97, peak@81.0...</td>\n",
       "    </tr>\n",
       "    <tr>\n",
       "      <th>3</th>\n",
       "      <td>4</td>\n",
       "      <td>(663.452, None)</td>\n",
       "      <td>[1+]</td>\n",
       "      <td>0.0</td>\n",
       "      <td>[peak@91.05, peak@147.12, peak@251.05, peak@30...</td>\n",
       "    </tr>\n",
       "    <tr>\n",
       "      <th>4</th>\n",
       "      <td>5</td>\n",
       "      <td>(663.4555, None)</td>\n",
       "      <td>[1+]</td>\n",
       "      <td>0.0</td>\n",
       "      <td>[peak@91.05, peak@147.12, peak@251.05, peak@30...</td>\n",
       "    </tr>\n",
       "    <tr>\n",
       "      <th>...</th>\n",
       "      <td>...</td>\n",
       "      <td>...</td>\n",
       "      <td>...</td>\n",
       "      <td>...</td>\n",
       "      <td>...</td>\n",
       "    </tr>\n",
       "    <tr>\n",
       "      <th>5821</th>\n",
       "      <td>7028</td>\n",
       "      <td>(381.3165, None)</td>\n",
       "      <td>[1+]</td>\n",
       "      <td>0.0</td>\n",
       "      <td>[peak@70.07, peak@71.05, peak@71.09, peak@72.3...</td>\n",
       "    </tr>\n",
       "    <tr>\n",
       "      <th>5822</th>\n",
       "      <td>7029</td>\n",
       "      <td>(453.3377, None)</td>\n",
       "      <td>[1+]</td>\n",
       "      <td>0.0</td>\n",
       "      <td>[peak@71.05, peak@79.05, peak@81.03, peak@81.0...</td>\n",
       "    </tr>\n",
       "    <tr>\n",
       "      <th>5823</th>\n",
       "      <td>7030</td>\n",
       "      <td>(165.0911, None)</td>\n",
       "      <td>[1+]</td>\n",
       "      <td>0.0</td>\n",
       "      <td>[peak@81.07, peak@83.05, peak@91.05, peak@95.0...</td>\n",
       "    </tr>\n",
       "    <tr>\n",
       "      <th>5824</th>\n",
       "      <td>7031</td>\n",
       "      <td>(501.3573, None)</td>\n",
       "      <td>[1+]</td>\n",
       "      <td>0.0</td>\n",
       "      <td>[peak@81.07, peak@95.09, peak@105.07, peak@198...</td>\n",
       "    </tr>\n",
       "    <tr>\n",
       "      <th>5825</th>\n",
       "      <td>7032</td>\n",
       "      <td>(487.3776, None)</td>\n",
       "      <td>[1+]</td>\n",
       "      <td>0.0</td>\n",
       "      <td>[peak@81.07, peak@91.05, peak@92.33, peak@93.0...</td>\n",
       "    </tr>\n",
       "  </tbody>\n",
       "</table>\n",
       "<p>5826 rows × 5 columns</p>\n",
       "</div>"
      ]
     },
     "metadata": {},
     "execution_count": 14
    }
   ],
   "metadata": {}
  },
  {
   "cell_type": "markdown",
   "source": [
    "## Generation of MEMO matrix\r\n",
    "\r\n",
    "Using the generated documents and the quant table, we can now obtain the MEMO matrix"
   ],
   "metadata": {}
  },
  {
   "cell_type": "code",
   "execution_count": 15,
   "source": [
    "memo_matrix = memo.generate_memo(doc, quant)\r\n",
    "memo_matrix"
   ],
   "outputs": [
    {
     "output_type": "execute_result",
     "data": {
      "text/plain": [
       "                                        peak@71.05  peak@71.09  peak@72.08  \\\n",
       "QEC18_Blank_resusp_20181227024429.mzML         749        1245          77   \n",
       "QEC18_Blank_resusp_20181227200515.mzML         734        1215          71   \n",
       "QEC18_Blank_resusp_20181227180406.mzML         774        1297          75   \n",
       "QEC18_Blank_resusp_20181227100129.mzML         771        1303          74   \n",
       "QEC18_Blank_resusp_20181226235330.mzML         707        1187          72   \n",
       "...                                            ...         ...         ...   \n",
       "QEC18RT_F1.mzML                                950        1668         118   \n",
       "QEC18RT_F1_20181229114729.mzML                 957        1668         114   \n",
       "QEC18RT_F2_20181229083715.mzML                 858        1584         114   \n",
       "QEC18RT_F2_20181228211241.mzML                 860        1588         112   \n",
       "QEC18RT_F1_20181228113615.mzML                 945        1654         116   \n",
       "\n",
       "                                        peak@78.74  peak@79.05  peak@81.07  \\\n",
       "QEC18_Blank_resusp_20181227024429.mzML           2        1802        2261   \n",
       "QEC18_Blank_resusp_20181227200515.mzML           3        1775        2285   \n",
       "QEC18_Blank_resusp_20181227180406.mzML           3        1968        2477   \n",
       "QEC18_Blank_resusp_20181227100129.mzML           3        1926        2474   \n",
       "QEC18_Blank_resusp_20181226235330.mzML           2        1688        2115   \n",
       "...                                            ...         ...         ...   \n",
       "QEC18RT_F1.mzML                                  1        2694        3544   \n",
       "QEC18RT_F1_20181229114729.mzML                   2        2700        3553   \n",
       "QEC18RT_F2_20181229083715.mzML                   1        2540        3389   \n",
       "QEC18RT_F2_20181228211241.mzML                   1        2563        3402   \n",
       "QEC18RT_F1_20181228113615.mzML                   1        2689        3526   \n",
       "\n",
       "                                        peak@83.09  peak@85.10  peak@86.06  \\\n",
       "QEC18_Blank_resusp_20181227024429.mzML        1887         864          61   \n",
       "QEC18_Blank_resusp_20181227200515.mzML        1846         836          58   \n",
       "QEC18_Blank_resusp_20181227180406.mzML        2008         899          59   \n",
       "QEC18_Blank_resusp_20181227100129.mzML        2001         900          60   \n",
       "QEC18_Blank_resusp_20181226235330.mzML        1768         820          60   \n",
       "...                                            ...         ...         ...   \n",
       "QEC18RT_F1.mzML                               2837        1093          69   \n",
       "QEC18RT_F1_20181229114729.mzML                2849        1082          69   \n",
       "QEC18RT_F2_20181229083715.mzML                2711        1032          70   \n",
       "QEC18RT_F2_20181228211241.mzML                2737        1035          70   \n",
       "QEC18RT_F1_20181228113615.mzML                2814        1078          72   \n",
       "\n",
       "                                        peak@86.10  ...  peak@604.26  \\\n",
       "QEC18_Blank_resusp_20181227024429.mzML         261  ...          0.0   \n",
       "QEC18_Blank_resusp_20181227200515.mzML         265  ...          0.0   \n",
       "QEC18_Blank_resusp_20181227180406.mzML         271  ...          0.0   \n",
       "QEC18_Blank_resusp_20181227100129.mzML         267  ...          0.0   \n",
       "QEC18_Blank_resusp_20181226235330.mzML         249  ...          0.0   \n",
       "...                                            ...  ...          ...   \n",
       "QEC18RT_F1.mzML                                387  ...          0.0   \n",
       "QEC18RT_F1_20181229114729.mzML                 404  ...          0.0   \n",
       "QEC18RT_F2_20181229083715.mzML                 386  ...          0.0   \n",
       "QEC18RT_F2_20181228211241.mzML                 380  ...          0.0   \n",
       "QEC18RT_F1_20181228113615.mzML                 389  ...          0.0   \n",
       "\n",
       "                                        peak@620.26  peak@679.27  peak@131.23  \\\n",
       "QEC18_Blank_resusp_20181227024429.mzML          0.0          0.0          0.0   \n",
       "QEC18_Blank_resusp_20181227200515.mzML          0.0          0.0          0.0   \n",
       "QEC18_Blank_resusp_20181227180406.mzML          0.0          0.0          0.0   \n",
       "QEC18_Blank_resusp_20181227100129.mzML          0.0          0.0          0.0   \n",
       "QEC18_Blank_resusp_20181226235330.mzML          0.0          0.0          0.0   \n",
       "...                                             ...          ...          ...   \n",
       "QEC18RT_F1.mzML                                 0.0          0.0          0.0   \n",
       "QEC18RT_F1_20181229114729.mzML                  0.0          0.0          0.0   \n",
       "QEC18RT_F2_20181229083715.mzML                  0.0          0.0          0.0   \n",
       "QEC18RT_F2_20181228211241.mzML                  0.0          0.0          0.0   \n",
       "QEC18RT_F1_20181228113615.mzML                  0.0          0.0          0.0   \n",
       "\n",
       "                                        peak@138.34  peak@177.88  peak@235.22  \\\n",
       "QEC18_Blank_resusp_20181227024429.mzML          0.0          0.0          0.0   \n",
       "QEC18_Blank_resusp_20181227200515.mzML          0.0          0.0          0.0   \n",
       "QEC18_Blank_resusp_20181227180406.mzML          0.0          0.0          0.0   \n",
       "QEC18_Blank_resusp_20181227100129.mzML          0.0          0.0          0.0   \n",
       "QEC18_Blank_resusp_20181226235330.mzML          0.0          0.0          0.0   \n",
       "...                                             ...          ...          ...   \n",
       "QEC18RT_F1.mzML                                 0.0          0.0          0.0   \n",
       "QEC18RT_F1_20181229114729.mzML                  0.0          0.0          0.0   \n",
       "QEC18RT_F2_20181229083715.mzML                  0.0          0.0          0.0   \n",
       "QEC18RT_F2_20181228211241.mzML                  0.0          0.0          0.0   \n",
       "QEC18RT_F1_20181228113615.mzML                  0.0          0.0          0.0   \n",
       "\n",
       "                                        peak@262.41  peak@345.96  peak@444.82  \n",
       "QEC18_Blank_resusp_20181227024429.mzML          0.0          0.0          0.0  \n",
       "QEC18_Blank_resusp_20181227200515.mzML          0.0          0.0          0.0  \n",
       "QEC18_Blank_resusp_20181227180406.mzML          0.0          0.0          0.0  \n",
       "QEC18_Blank_resusp_20181227100129.mzML          0.0          0.0          0.0  \n",
       "QEC18_Blank_resusp_20181226235330.mzML          0.0          0.0          0.0  \n",
       "...                                             ...          ...          ...  \n",
       "QEC18RT_F1.mzML                                 0.0          0.0          0.0  \n",
       "QEC18RT_F1_20181229114729.mzML                  0.0          0.0          0.0  \n",
       "QEC18RT_F2_20181229083715.mzML                  0.0          0.0          0.0  \n",
       "QEC18RT_F2_20181228211241.mzML                  0.0          0.0          0.0  \n",
       "QEC18RT_F1_20181228113615.mzML                  0.0          0.0          0.0  \n",
       "\n",
       "[198 rows x 22507 columns]"
      ],
      "text/html": [
       "<div>\n",
       "<style scoped>\n",
       "    .dataframe tbody tr th:only-of-type {\n",
       "        vertical-align: middle;\n",
       "    }\n",
       "\n",
       "    .dataframe tbody tr th {\n",
       "        vertical-align: top;\n",
       "    }\n",
       "\n",
       "    .dataframe thead th {\n",
       "        text-align: right;\n",
       "    }\n",
       "</style>\n",
       "<table border=\"1\" class=\"dataframe\">\n",
       "  <thead>\n",
       "    <tr style=\"text-align: right;\">\n",
       "      <th></th>\n",
       "      <th>peak@71.05</th>\n",
       "      <th>peak@71.09</th>\n",
       "      <th>peak@72.08</th>\n",
       "      <th>peak@78.74</th>\n",
       "      <th>peak@79.05</th>\n",
       "      <th>peak@81.07</th>\n",
       "      <th>peak@83.09</th>\n",
       "      <th>peak@85.10</th>\n",
       "      <th>peak@86.06</th>\n",
       "      <th>peak@86.10</th>\n",
       "      <th>...</th>\n",
       "      <th>peak@604.26</th>\n",
       "      <th>peak@620.26</th>\n",
       "      <th>peak@679.27</th>\n",
       "      <th>peak@131.23</th>\n",
       "      <th>peak@138.34</th>\n",
       "      <th>peak@177.88</th>\n",
       "      <th>peak@235.22</th>\n",
       "      <th>peak@262.41</th>\n",
       "      <th>peak@345.96</th>\n",
       "      <th>peak@444.82</th>\n",
       "    </tr>\n",
       "  </thead>\n",
       "  <tbody>\n",
       "    <tr>\n",
       "      <th>QEC18_Blank_resusp_20181227024429.mzML</th>\n",
       "      <td>749</td>\n",
       "      <td>1245</td>\n",
       "      <td>77</td>\n",
       "      <td>2</td>\n",
       "      <td>1802</td>\n",
       "      <td>2261</td>\n",
       "      <td>1887</td>\n",
       "      <td>864</td>\n",
       "      <td>61</td>\n",
       "      <td>261</td>\n",
       "      <td>...</td>\n",
       "      <td>0.0</td>\n",
       "      <td>0.0</td>\n",
       "      <td>0.0</td>\n",
       "      <td>0.0</td>\n",
       "      <td>0.0</td>\n",
       "      <td>0.0</td>\n",
       "      <td>0.0</td>\n",
       "      <td>0.0</td>\n",
       "      <td>0.0</td>\n",
       "      <td>0.0</td>\n",
       "    </tr>\n",
       "    <tr>\n",
       "      <th>QEC18_Blank_resusp_20181227200515.mzML</th>\n",
       "      <td>734</td>\n",
       "      <td>1215</td>\n",
       "      <td>71</td>\n",
       "      <td>3</td>\n",
       "      <td>1775</td>\n",
       "      <td>2285</td>\n",
       "      <td>1846</td>\n",
       "      <td>836</td>\n",
       "      <td>58</td>\n",
       "      <td>265</td>\n",
       "      <td>...</td>\n",
       "      <td>0.0</td>\n",
       "      <td>0.0</td>\n",
       "      <td>0.0</td>\n",
       "      <td>0.0</td>\n",
       "      <td>0.0</td>\n",
       "      <td>0.0</td>\n",
       "      <td>0.0</td>\n",
       "      <td>0.0</td>\n",
       "      <td>0.0</td>\n",
       "      <td>0.0</td>\n",
       "    </tr>\n",
       "    <tr>\n",
       "      <th>QEC18_Blank_resusp_20181227180406.mzML</th>\n",
       "      <td>774</td>\n",
       "      <td>1297</td>\n",
       "      <td>75</td>\n",
       "      <td>3</td>\n",
       "      <td>1968</td>\n",
       "      <td>2477</td>\n",
       "      <td>2008</td>\n",
       "      <td>899</td>\n",
       "      <td>59</td>\n",
       "      <td>271</td>\n",
       "      <td>...</td>\n",
       "      <td>0.0</td>\n",
       "      <td>0.0</td>\n",
       "      <td>0.0</td>\n",
       "      <td>0.0</td>\n",
       "      <td>0.0</td>\n",
       "      <td>0.0</td>\n",
       "      <td>0.0</td>\n",
       "      <td>0.0</td>\n",
       "      <td>0.0</td>\n",
       "      <td>0.0</td>\n",
       "    </tr>\n",
       "    <tr>\n",
       "      <th>QEC18_Blank_resusp_20181227100129.mzML</th>\n",
       "      <td>771</td>\n",
       "      <td>1303</td>\n",
       "      <td>74</td>\n",
       "      <td>3</td>\n",
       "      <td>1926</td>\n",
       "      <td>2474</td>\n",
       "      <td>2001</td>\n",
       "      <td>900</td>\n",
       "      <td>60</td>\n",
       "      <td>267</td>\n",
       "      <td>...</td>\n",
       "      <td>0.0</td>\n",
       "      <td>0.0</td>\n",
       "      <td>0.0</td>\n",
       "      <td>0.0</td>\n",
       "      <td>0.0</td>\n",
       "      <td>0.0</td>\n",
       "      <td>0.0</td>\n",
       "      <td>0.0</td>\n",
       "      <td>0.0</td>\n",
       "      <td>0.0</td>\n",
       "    </tr>\n",
       "    <tr>\n",
       "      <th>QEC18_Blank_resusp_20181226235330.mzML</th>\n",
       "      <td>707</td>\n",
       "      <td>1187</td>\n",
       "      <td>72</td>\n",
       "      <td>2</td>\n",
       "      <td>1688</td>\n",
       "      <td>2115</td>\n",
       "      <td>1768</td>\n",
       "      <td>820</td>\n",
       "      <td>60</td>\n",
       "      <td>249</td>\n",
       "      <td>...</td>\n",
       "      <td>0.0</td>\n",
       "      <td>0.0</td>\n",
       "      <td>0.0</td>\n",
       "      <td>0.0</td>\n",
       "      <td>0.0</td>\n",
       "      <td>0.0</td>\n",
       "      <td>0.0</td>\n",
       "      <td>0.0</td>\n",
       "      <td>0.0</td>\n",
       "      <td>0.0</td>\n",
       "    </tr>\n",
       "    <tr>\n",
       "      <th>...</th>\n",
       "      <td>...</td>\n",
       "      <td>...</td>\n",
       "      <td>...</td>\n",
       "      <td>...</td>\n",
       "      <td>...</td>\n",
       "      <td>...</td>\n",
       "      <td>...</td>\n",
       "      <td>...</td>\n",
       "      <td>...</td>\n",
       "      <td>...</td>\n",
       "      <td>...</td>\n",
       "      <td>...</td>\n",
       "      <td>...</td>\n",
       "      <td>...</td>\n",
       "      <td>...</td>\n",
       "      <td>...</td>\n",
       "      <td>...</td>\n",
       "      <td>...</td>\n",
       "      <td>...</td>\n",
       "      <td>...</td>\n",
       "      <td>...</td>\n",
       "    </tr>\n",
       "    <tr>\n",
       "      <th>QEC18RT_F1.mzML</th>\n",
       "      <td>950</td>\n",
       "      <td>1668</td>\n",
       "      <td>118</td>\n",
       "      <td>1</td>\n",
       "      <td>2694</td>\n",
       "      <td>3544</td>\n",
       "      <td>2837</td>\n",
       "      <td>1093</td>\n",
       "      <td>69</td>\n",
       "      <td>387</td>\n",
       "      <td>...</td>\n",
       "      <td>0.0</td>\n",
       "      <td>0.0</td>\n",
       "      <td>0.0</td>\n",
       "      <td>0.0</td>\n",
       "      <td>0.0</td>\n",
       "      <td>0.0</td>\n",
       "      <td>0.0</td>\n",
       "      <td>0.0</td>\n",
       "      <td>0.0</td>\n",
       "      <td>0.0</td>\n",
       "    </tr>\n",
       "    <tr>\n",
       "      <th>QEC18RT_F1_20181229114729.mzML</th>\n",
       "      <td>957</td>\n",
       "      <td>1668</td>\n",
       "      <td>114</td>\n",
       "      <td>2</td>\n",
       "      <td>2700</td>\n",
       "      <td>3553</td>\n",
       "      <td>2849</td>\n",
       "      <td>1082</td>\n",
       "      <td>69</td>\n",
       "      <td>404</td>\n",
       "      <td>...</td>\n",
       "      <td>0.0</td>\n",
       "      <td>0.0</td>\n",
       "      <td>0.0</td>\n",
       "      <td>0.0</td>\n",
       "      <td>0.0</td>\n",
       "      <td>0.0</td>\n",
       "      <td>0.0</td>\n",
       "      <td>0.0</td>\n",
       "      <td>0.0</td>\n",
       "      <td>0.0</td>\n",
       "    </tr>\n",
       "    <tr>\n",
       "      <th>QEC18RT_F2_20181229083715.mzML</th>\n",
       "      <td>858</td>\n",
       "      <td>1584</td>\n",
       "      <td>114</td>\n",
       "      <td>1</td>\n",
       "      <td>2540</td>\n",
       "      <td>3389</td>\n",
       "      <td>2711</td>\n",
       "      <td>1032</td>\n",
       "      <td>70</td>\n",
       "      <td>386</td>\n",
       "      <td>...</td>\n",
       "      <td>0.0</td>\n",
       "      <td>0.0</td>\n",
       "      <td>0.0</td>\n",
       "      <td>0.0</td>\n",
       "      <td>0.0</td>\n",
       "      <td>0.0</td>\n",
       "      <td>0.0</td>\n",
       "      <td>0.0</td>\n",
       "      <td>0.0</td>\n",
       "      <td>0.0</td>\n",
       "    </tr>\n",
       "    <tr>\n",
       "      <th>QEC18RT_F2_20181228211241.mzML</th>\n",
       "      <td>860</td>\n",
       "      <td>1588</td>\n",
       "      <td>112</td>\n",
       "      <td>1</td>\n",
       "      <td>2563</td>\n",
       "      <td>3402</td>\n",
       "      <td>2737</td>\n",
       "      <td>1035</td>\n",
       "      <td>70</td>\n",
       "      <td>380</td>\n",
       "      <td>...</td>\n",
       "      <td>0.0</td>\n",
       "      <td>0.0</td>\n",
       "      <td>0.0</td>\n",
       "      <td>0.0</td>\n",
       "      <td>0.0</td>\n",
       "      <td>0.0</td>\n",
       "      <td>0.0</td>\n",
       "      <td>0.0</td>\n",
       "      <td>0.0</td>\n",
       "      <td>0.0</td>\n",
       "    </tr>\n",
       "    <tr>\n",
       "      <th>QEC18RT_F1_20181228113615.mzML</th>\n",
       "      <td>945</td>\n",
       "      <td>1654</td>\n",
       "      <td>116</td>\n",
       "      <td>1</td>\n",
       "      <td>2689</td>\n",
       "      <td>3526</td>\n",
       "      <td>2814</td>\n",
       "      <td>1078</td>\n",
       "      <td>72</td>\n",
       "      <td>389</td>\n",
       "      <td>...</td>\n",
       "      <td>0.0</td>\n",
       "      <td>0.0</td>\n",
       "      <td>0.0</td>\n",
       "      <td>0.0</td>\n",
       "      <td>0.0</td>\n",
       "      <td>0.0</td>\n",
       "      <td>0.0</td>\n",
       "      <td>0.0</td>\n",
       "      <td>0.0</td>\n",
       "      <td>0.0</td>\n",
       "    </tr>\n",
       "  </tbody>\n",
       "</table>\n",
       "<p>198 rows × 22507 columns</p>\n",
       "</div>"
      ]
     },
     "metadata": {},
     "execution_count": 15
    }
   ],
   "metadata": {}
  },
  {
   "cell_type": "markdown",
   "source": [
    "## Filter MEMO matrix\r\n",
    "\r\n",
    "This step allows to filter peaks and losses occuring in blank samples AND to remove blanks samples from the MEMO matrix. In the case of the Qemistree dataset, we just use it to remove the blanks samples"
   ],
   "metadata": {}
  },
  {
   "cell_type": "code",
   "execution_count": 24,
   "source": [
    "memo_matrix_filtered = memo.filter_memo(memo_matrix, 'blank', )\r\n",
    "memo_matrix_filtered"
   ],
   "outputs": [
    {
     "output_type": "execute_result",
     "data": {
      "text/plain": [
       "                                     peak@71.05  peak@71.09  peak@72.08  \\\n",
       "QEC18_F1-1_F2-1.mzML                        897        1577         107   \n",
       "QEC18_F1-1_NIST-3.mzML                      875        1566         103   \n",
       "QEC18_F1-1_F2-1_20181227143118.mzML         900        1611         113   \n",
       "QEC18_F1-1_F2-1_20181227084526.mzML         915        1635         109   \n",
       "QEC18_F1-1_F2-1_NIST-2_To-1.mzML           1002        1671         110   \n",
       "...                                         ...         ...         ...   \n",
       "QEC18RT_F1.mzML                             950        1668         118   \n",
       "QEC18RT_F1_20181229114729.mzML              957        1668         114   \n",
       "QEC18RT_F2_20181229083715.mzML              858        1584         114   \n",
       "QEC18RT_F2_20181228211241.mzML              860        1588         112   \n",
       "QEC18RT_F1_20181228113615.mzML              945        1654         116   \n",
       "\n",
       "                                     peak@78.74  peak@79.05  peak@81.07  \\\n",
       "QEC18_F1-1_F2-1.mzML                          2        2553        3364   \n",
       "QEC18_F1-1_NIST-3.mzML                        2        2505        3330   \n",
       "QEC18_F1-1_F2-1_20181227143118.mzML           1        2598        3474   \n",
       "QEC18_F1-1_F2-1_20181227084526.mzML           3        2653        3532   \n",
       "QEC18_F1-1_F2-1_NIST-2_To-1.mzML              3        2991        3913   \n",
       "...                                         ...         ...         ...   \n",
       "QEC18RT_F1.mzML                               1        2694        3544   \n",
       "QEC18RT_F1_20181229114729.mzML                2        2700        3553   \n",
       "QEC18RT_F2_20181229083715.mzML                1        2540        3389   \n",
       "QEC18RT_F2_20181228211241.mzML                1        2563        3402   \n",
       "QEC18RT_F1_20181228113615.mzML                1        2689        3526   \n",
       "\n",
       "                                     peak@83.09  peak@85.10  peak@86.06  \\\n",
       "QEC18_F1-1_F2-1.mzML                       2695        1040          73   \n",
       "QEC18_F1-1_NIST-3.mzML                     2643        1029          72   \n",
       "QEC18_F1-1_F2-1_20181227143118.mzML        2743        1051          70   \n",
       "QEC18_F1-1_F2-1_20181227084526.mzML        2793        1064          71   \n",
       "QEC18_F1-1_F2-1_NIST-2_To-1.mzML           2961        1087          70   \n",
       "...                                         ...         ...         ...   \n",
       "QEC18RT_F1.mzML                            2837        1093          69   \n",
       "QEC18RT_F1_20181229114729.mzML             2849        1082          69   \n",
       "QEC18RT_F2_20181229083715.mzML             2711        1032          70   \n",
       "QEC18RT_F2_20181228211241.mzML             2737        1035          70   \n",
       "QEC18RT_F1_20181228113615.mzML             2814        1078          72   \n",
       "\n",
       "                                     peak@86.10  ...  peak@604.26  \\\n",
       "QEC18_F1-1_F2-1.mzML                        366  ...            0   \n",
       "QEC18_F1-1_NIST-3.mzML                      387  ...            0   \n",
       "QEC18_F1-1_F2-1_20181227143118.mzML         392  ...            0   \n",
       "QEC18_F1-1_F2-1_20181227084526.mzML         390  ...            0   \n",
       "QEC18_F1-1_F2-1_NIST-2_To-1.mzML            460  ...            0   \n",
       "...                                         ...  ...          ...   \n",
       "QEC18RT_F1.mzML                             387  ...            0   \n",
       "QEC18RT_F1_20181229114729.mzML              404  ...            0   \n",
       "QEC18RT_F2_20181229083715.mzML              386  ...            0   \n",
       "QEC18RT_F2_20181228211241.mzML              380  ...            0   \n",
       "QEC18RT_F1_20181228113615.mzML              389  ...            0   \n",
       "\n",
       "                                     peak@620.26  peak@679.27  peak@131.23  \\\n",
       "QEC18_F1-1_F2-1.mzML                           0            0            0   \n",
       "QEC18_F1-1_NIST-3.mzML                         0            0            0   \n",
       "QEC18_F1-1_F2-1_20181227143118.mzML            0            0            0   \n",
       "QEC18_F1-1_F2-1_20181227084526.mzML            0            0            0   \n",
       "QEC18_F1-1_F2-1_NIST-2_To-1.mzML               0            0            0   \n",
       "...                                          ...          ...          ...   \n",
       "QEC18RT_F1.mzML                                0            0            0   \n",
       "QEC18RT_F1_20181229114729.mzML                 0            0            0   \n",
       "QEC18RT_F2_20181229083715.mzML                 0            0            0   \n",
       "QEC18RT_F2_20181228211241.mzML                 0            0            0   \n",
       "QEC18RT_F1_20181228113615.mzML                 0            0            0   \n",
       "\n",
       "                                     peak@138.34  peak@177.88  peak@235.22  \\\n",
       "QEC18_F1-1_F2-1.mzML                           0            0            0   \n",
       "QEC18_F1-1_NIST-3.mzML                         0            0            0   \n",
       "QEC18_F1-1_F2-1_20181227143118.mzML            0            0            0   \n",
       "QEC18_F1-1_F2-1_20181227084526.mzML            0            0            0   \n",
       "QEC18_F1-1_F2-1_NIST-2_To-1.mzML               0            0            0   \n",
       "...                                          ...          ...          ...   \n",
       "QEC18RT_F1.mzML                                0            0            0   \n",
       "QEC18RT_F1_20181229114729.mzML                 0            0            0   \n",
       "QEC18RT_F2_20181229083715.mzML                 0            0            0   \n",
       "QEC18RT_F2_20181228211241.mzML                 0            0            0   \n",
       "QEC18RT_F1_20181228113615.mzML                 0            0            0   \n",
       "\n",
       "                                     peak@262.41  peak@345.96  peak@444.82  \n",
       "QEC18_F1-1_F2-1.mzML                           0            0            0  \n",
       "QEC18_F1-1_NIST-3.mzML                         0            0            0  \n",
       "QEC18_F1-1_F2-1_20181227143118.mzML            0            0            0  \n",
       "QEC18_F1-1_F2-1_20181227084526.mzML            0            0            0  \n",
       "QEC18_F1-1_F2-1_NIST-2_To-1.mzML               0            0            0  \n",
       "...                                          ...          ...          ...  \n",
       "QEC18RT_F1.mzML                                0            0            0  \n",
       "QEC18RT_F1_20181229114729.mzML                 0            0            0  \n",
       "QEC18RT_F2_20181229083715.mzML                 0            0            0  \n",
       "QEC18RT_F2_20181228211241.mzML                 0            0            0  \n",
       "QEC18RT_F1_20181228113615.mzML                 0            0            0  \n",
       "\n",
       "[171 rows x 22507 columns]"
      ],
      "text/html": [
       "<div>\n",
       "<style scoped>\n",
       "    .dataframe tbody tr th:only-of-type {\n",
       "        vertical-align: middle;\n",
       "    }\n",
       "\n",
       "    .dataframe tbody tr th {\n",
       "        vertical-align: top;\n",
       "    }\n",
       "\n",
       "    .dataframe thead th {\n",
       "        text-align: right;\n",
       "    }\n",
       "</style>\n",
       "<table border=\"1\" class=\"dataframe\">\n",
       "  <thead>\n",
       "    <tr style=\"text-align: right;\">\n",
       "      <th></th>\n",
       "      <th>peak@71.05</th>\n",
       "      <th>peak@71.09</th>\n",
       "      <th>peak@72.08</th>\n",
       "      <th>peak@78.74</th>\n",
       "      <th>peak@79.05</th>\n",
       "      <th>peak@81.07</th>\n",
       "      <th>peak@83.09</th>\n",
       "      <th>peak@85.10</th>\n",
       "      <th>peak@86.06</th>\n",
       "      <th>peak@86.10</th>\n",
       "      <th>...</th>\n",
       "      <th>peak@604.26</th>\n",
       "      <th>peak@620.26</th>\n",
       "      <th>peak@679.27</th>\n",
       "      <th>peak@131.23</th>\n",
       "      <th>peak@138.34</th>\n",
       "      <th>peak@177.88</th>\n",
       "      <th>peak@235.22</th>\n",
       "      <th>peak@262.41</th>\n",
       "      <th>peak@345.96</th>\n",
       "      <th>peak@444.82</th>\n",
       "    </tr>\n",
       "  </thead>\n",
       "  <tbody>\n",
       "    <tr>\n",
       "      <th>QEC18_F1-1_F2-1.mzML</th>\n",
       "      <td>897</td>\n",
       "      <td>1577</td>\n",
       "      <td>107</td>\n",
       "      <td>2</td>\n",
       "      <td>2553</td>\n",
       "      <td>3364</td>\n",
       "      <td>2695</td>\n",
       "      <td>1040</td>\n",
       "      <td>73</td>\n",
       "      <td>366</td>\n",
       "      <td>...</td>\n",
       "      <td>0</td>\n",
       "      <td>0</td>\n",
       "      <td>0</td>\n",
       "      <td>0</td>\n",
       "      <td>0</td>\n",
       "      <td>0</td>\n",
       "      <td>0</td>\n",
       "      <td>0</td>\n",
       "      <td>0</td>\n",
       "      <td>0</td>\n",
       "    </tr>\n",
       "    <tr>\n",
       "      <th>QEC18_F1-1_NIST-3.mzML</th>\n",
       "      <td>875</td>\n",
       "      <td>1566</td>\n",
       "      <td>103</td>\n",
       "      <td>2</td>\n",
       "      <td>2505</td>\n",
       "      <td>3330</td>\n",
       "      <td>2643</td>\n",
       "      <td>1029</td>\n",
       "      <td>72</td>\n",
       "      <td>387</td>\n",
       "      <td>...</td>\n",
       "      <td>0</td>\n",
       "      <td>0</td>\n",
       "      <td>0</td>\n",
       "      <td>0</td>\n",
       "      <td>0</td>\n",
       "      <td>0</td>\n",
       "      <td>0</td>\n",
       "      <td>0</td>\n",
       "      <td>0</td>\n",
       "      <td>0</td>\n",
       "    </tr>\n",
       "    <tr>\n",
       "      <th>QEC18_F1-1_F2-1_20181227143118.mzML</th>\n",
       "      <td>900</td>\n",
       "      <td>1611</td>\n",
       "      <td>113</td>\n",
       "      <td>1</td>\n",
       "      <td>2598</td>\n",
       "      <td>3474</td>\n",
       "      <td>2743</td>\n",
       "      <td>1051</td>\n",
       "      <td>70</td>\n",
       "      <td>392</td>\n",
       "      <td>...</td>\n",
       "      <td>0</td>\n",
       "      <td>0</td>\n",
       "      <td>0</td>\n",
       "      <td>0</td>\n",
       "      <td>0</td>\n",
       "      <td>0</td>\n",
       "      <td>0</td>\n",
       "      <td>0</td>\n",
       "      <td>0</td>\n",
       "      <td>0</td>\n",
       "    </tr>\n",
       "    <tr>\n",
       "      <th>QEC18_F1-1_F2-1_20181227084526.mzML</th>\n",
       "      <td>915</td>\n",
       "      <td>1635</td>\n",
       "      <td>109</td>\n",
       "      <td>3</td>\n",
       "      <td>2653</td>\n",
       "      <td>3532</td>\n",
       "      <td>2793</td>\n",
       "      <td>1064</td>\n",
       "      <td>71</td>\n",
       "      <td>390</td>\n",
       "      <td>...</td>\n",
       "      <td>0</td>\n",
       "      <td>0</td>\n",
       "      <td>0</td>\n",
       "      <td>0</td>\n",
       "      <td>0</td>\n",
       "      <td>0</td>\n",
       "      <td>0</td>\n",
       "      <td>0</td>\n",
       "      <td>0</td>\n",
       "      <td>0</td>\n",
       "    </tr>\n",
       "    <tr>\n",
       "      <th>QEC18_F1-1_F2-1_NIST-2_To-1.mzML</th>\n",
       "      <td>1002</td>\n",
       "      <td>1671</td>\n",
       "      <td>110</td>\n",
       "      <td>3</td>\n",
       "      <td>2991</td>\n",
       "      <td>3913</td>\n",
       "      <td>2961</td>\n",
       "      <td>1087</td>\n",
       "      <td>70</td>\n",
       "      <td>460</td>\n",
       "      <td>...</td>\n",
       "      <td>0</td>\n",
       "      <td>0</td>\n",
       "      <td>0</td>\n",
       "      <td>0</td>\n",
       "      <td>0</td>\n",
       "      <td>0</td>\n",
       "      <td>0</td>\n",
       "      <td>0</td>\n",
       "      <td>0</td>\n",
       "      <td>0</td>\n",
       "    </tr>\n",
       "    <tr>\n",
       "      <th>...</th>\n",
       "      <td>...</td>\n",
       "      <td>...</td>\n",
       "      <td>...</td>\n",
       "      <td>...</td>\n",
       "      <td>...</td>\n",
       "      <td>...</td>\n",
       "      <td>...</td>\n",
       "      <td>...</td>\n",
       "      <td>...</td>\n",
       "      <td>...</td>\n",
       "      <td>...</td>\n",
       "      <td>...</td>\n",
       "      <td>...</td>\n",
       "      <td>...</td>\n",
       "      <td>...</td>\n",
       "      <td>...</td>\n",
       "      <td>...</td>\n",
       "      <td>...</td>\n",
       "      <td>...</td>\n",
       "      <td>...</td>\n",
       "      <td>...</td>\n",
       "    </tr>\n",
       "    <tr>\n",
       "      <th>QEC18RT_F1.mzML</th>\n",
       "      <td>950</td>\n",
       "      <td>1668</td>\n",
       "      <td>118</td>\n",
       "      <td>1</td>\n",
       "      <td>2694</td>\n",
       "      <td>3544</td>\n",
       "      <td>2837</td>\n",
       "      <td>1093</td>\n",
       "      <td>69</td>\n",
       "      <td>387</td>\n",
       "      <td>...</td>\n",
       "      <td>0</td>\n",
       "      <td>0</td>\n",
       "      <td>0</td>\n",
       "      <td>0</td>\n",
       "      <td>0</td>\n",
       "      <td>0</td>\n",
       "      <td>0</td>\n",
       "      <td>0</td>\n",
       "      <td>0</td>\n",
       "      <td>0</td>\n",
       "    </tr>\n",
       "    <tr>\n",
       "      <th>QEC18RT_F1_20181229114729.mzML</th>\n",
       "      <td>957</td>\n",
       "      <td>1668</td>\n",
       "      <td>114</td>\n",
       "      <td>2</td>\n",
       "      <td>2700</td>\n",
       "      <td>3553</td>\n",
       "      <td>2849</td>\n",
       "      <td>1082</td>\n",
       "      <td>69</td>\n",
       "      <td>404</td>\n",
       "      <td>...</td>\n",
       "      <td>0</td>\n",
       "      <td>0</td>\n",
       "      <td>0</td>\n",
       "      <td>0</td>\n",
       "      <td>0</td>\n",
       "      <td>0</td>\n",
       "      <td>0</td>\n",
       "      <td>0</td>\n",
       "      <td>0</td>\n",
       "      <td>0</td>\n",
       "    </tr>\n",
       "    <tr>\n",
       "      <th>QEC18RT_F2_20181229083715.mzML</th>\n",
       "      <td>858</td>\n",
       "      <td>1584</td>\n",
       "      <td>114</td>\n",
       "      <td>1</td>\n",
       "      <td>2540</td>\n",
       "      <td>3389</td>\n",
       "      <td>2711</td>\n",
       "      <td>1032</td>\n",
       "      <td>70</td>\n",
       "      <td>386</td>\n",
       "      <td>...</td>\n",
       "      <td>0</td>\n",
       "      <td>0</td>\n",
       "      <td>0</td>\n",
       "      <td>0</td>\n",
       "      <td>0</td>\n",
       "      <td>0</td>\n",
       "      <td>0</td>\n",
       "      <td>0</td>\n",
       "      <td>0</td>\n",
       "      <td>0</td>\n",
       "    </tr>\n",
       "    <tr>\n",
       "      <th>QEC18RT_F2_20181228211241.mzML</th>\n",
       "      <td>860</td>\n",
       "      <td>1588</td>\n",
       "      <td>112</td>\n",
       "      <td>1</td>\n",
       "      <td>2563</td>\n",
       "      <td>3402</td>\n",
       "      <td>2737</td>\n",
       "      <td>1035</td>\n",
       "      <td>70</td>\n",
       "      <td>380</td>\n",
       "      <td>...</td>\n",
       "      <td>0</td>\n",
       "      <td>0</td>\n",
       "      <td>0</td>\n",
       "      <td>0</td>\n",
       "      <td>0</td>\n",
       "      <td>0</td>\n",
       "      <td>0</td>\n",
       "      <td>0</td>\n",
       "      <td>0</td>\n",
       "      <td>0</td>\n",
       "    </tr>\n",
       "    <tr>\n",
       "      <th>QEC18RT_F1_20181228113615.mzML</th>\n",
       "      <td>945</td>\n",
       "      <td>1654</td>\n",
       "      <td>116</td>\n",
       "      <td>1</td>\n",
       "      <td>2689</td>\n",
       "      <td>3526</td>\n",
       "      <td>2814</td>\n",
       "      <td>1078</td>\n",
       "      <td>72</td>\n",
       "      <td>389</td>\n",
       "      <td>...</td>\n",
       "      <td>0</td>\n",
       "      <td>0</td>\n",
       "      <td>0</td>\n",
       "      <td>0</td>\n",
       "      <td>0</td>\n",
       "      <td>0</td>\n",
       "      <td>0</td>\n",
       "      <td>0</td>\n",
       "      <td>0</td>\n",
       "      <td>0</td>\n",
       "    </tr>\n",
       "  </tbody>\n",
       "</table>\n",
       "<p>171 rows × 22507 columns</p>\n",
       "</div>"
      ]
     },
     "metadata": {},
     "execution_count": 24
    }
   ],
   "metadata": {}
  },
  {
   "cell_type": "markdown",
   "source": [
    "## Plotting\r\n",
    "\r\n",
    "We can now use the MEMO matrix to generate the PCoA of our samples"
   ],
   "metadata": {}
  },
  {
   "cell_type": "code",
   "execution_count": 33,
   "source": [
    "\r\n",
    "plot = memo.plot_pcoa_2d(\r\n",
    "    memo_matrix=memo_matrix_filtered,\r\n",
    "    df_metadata=df_meta,\r\n",
    "    metric= 'braycurtis',\r\n",
    "    filename_col = 'Filename',\r\n",
    "    color='contains',\r\n",
    "    norm = False,\r\n",
    "    scaling= False,\r\n",
    "    pc_to_plot = [1,2,3]\r\n",
    ")"
   ],
   "outputs": [
    {
     "output_type": "stream",
     "name": "stderr",
     "text": [
      "C:\\Users\\gaudrya.FARMA\\Anaconda3\\envs\\memo\\lib\\site-packages\\skbio\\stats\\ordination\\_principal_coordinate_analysis.py:143: RuntimeWarning:\n",
      "\n",
      "The result contains negative eigenvalues. Please compare their magnitude with the magnitude of some of the largest positive eigenvalues. If the negative ones are smaller, it's probably safe to ignore them, but if they are large in magnitude, the results won't be useful. See the Notes section for more details. The smallest eigenvalue is -0.019614578699025866 and the largest is 0.521040583145881.\n",
      "\n"
     ]
    },
    {
     "output_type": "display_data",
     "data": {
      "application/vnd.plotly.v1+json": {
       "config": {
        "plotlyServerURL": "https://plot.ly"
       },
       "data": [
        {
         "hovertemplate": "<b>%{hovertext}</b><br><br>contains=Plasma<br>PC1 (58.6 %)=%{x}<br>PC2 (15.9 %)=%{y}<extra></extra>",
         "hovertext": [
          "QEC18_NIST_20181227102029.mzML",
          "QEC18_NIST_20181227182328.mzML",
          "QEC18_NIST.mzML",
          "QEC18RT_NIST_20181228191835.mzML",
          "QEC18RT_NIST_20181229031403.mzML",
          "QEC18RT_NIST.mzML"
         ],
         "legendgroup": "Plasma",
         "marker": {
          "color": "#1F77B4",
          "symbol": "circle"
         },
         "mode": "markers",
         "name": "Plasma",
         "orientation": "v",
         "showlegend": true,
         "type": "scatter",
         "x": [
          -0.15628833286350025,
          -0.16000672781494904,
          -0.15278813174928027,
          -0.14710760373883924,
          -0.14472815330313007,
          -0.14078893213183544
         ],
         "xaxis": "x",
         "y": [
          -0.05867154430837179,
          -0.05790027451948689,
          -0.0686034734962964,
          -0.049786335642059525,
          -0.044512545641274895,
          -0.053562156508793396
         ],
         "yaxis": "y"
        },
        {
         "hovertemplate": "<b>%{hovertext}</b><br><br>contains=Tomato<br>PC1 (58.6 %)=%{x}<br>PC2 (15.9 %)=%{y}<extra></extra>",
         "hovertext": [
          "QEC18_To_20181227204313.mzML",
          "QEC18_To_20181227231513.mzML",
          "QEC18_To.mzML",
          "QEC18RT_To_20181229050805.mzML",
          "QEC18RT_To_20181229074015.mzML",
          "QEC18RT_To.mzML"
         ],
         "legendgroup": "Tomato",
         "marker": {
          "color": "#FF7F0E",
          "symbol": "circle"
         },
         "mode": "markers",
         "name": "Tomato",
         "orientation": "v",
         "showlegend": true,
         "type": "scatter",
         "x": [
          -0.12224094716537691,
          -0.10186837404477067,
          -0.11307875658641972,
          -0.08856024115025135,
          -0.08793017339285993,
          -0.08355638519621675
         ],
         "xaxis": "x",
         "y": [
          0.04433786506393936,
          0.04146308508587474,
          0.04456894200294379,
          0.0394524908580843,
          0.039116668863789776,
          0.04081675049209952
         ],
         "yaxis": "y"
        },
        {
         "hovertemplate": "<b>%{hovertext}</b><br><br>contains=Tomato + Plasma<br>PC1 (58.6 %)=%{x}<br>PC2 (15.9 %)=%{y}<extra></extra>",
         "hovertext": [
          "QEC18_To-1_NIST-3_20181227172525.mzML",
          "QEC18_To-1_NIST-3_20181227214013.mzML",
          "QEC18_To-1_NIST-3.mzML",
          "QEC18_To-1_NIST-1_20181227111754.mzML",
          "QEC18_To-1_NIST-1_20181228010915.mzML",
          "QEC18_To-1_NIST-1.mzML",
          "QEC18_To-3_NIST-1_20181227074824.mzML",
          "QEC18_To-3_NIST-1_20181227160801.mzML",
          "QEC18_To-3_NIST-1.mzML",
          "QEC18RT_To-1_NIST-3_20181229021701.mzML",
          "QEC18RT_To-1_NIST-3_20181229060507.mzML",
          "QEC18RT_To-1_NIST-3.mzML",
          "QEC18RT_To-1_NIST-1_20181228201537.mzML",
          "QEC18RT_To-1_NIST-1_20181229093419.mzML",
          "QEC18RT_To-1_NIST-1.mzML",
          "QEC18RT_To-3_NIST-1_20181228162117.mzML",
          "QEC18RT_To-3_NIST-1_20181229010055.mzML",
          "QEC18RT_To-3_NIST-1.mzML"
         ],
         "legendgroup": "Tomato + Plasma",
         "marker": {
          "color": "#2CA02C",
          "symbol": "circle"
         },
         "mode": "markers",
         "name": "Tomato + Plasma",
         "orientation": "v",
         "showlegend": true,
         "type": "scatter",
         "x": [
          -0.08321819319473718,
          -0.10265186636725263,
          -0.08652677993768323,
          -0.10505517403735876,
          -0.10666288181079871,
          -0.1332033006138138,
          -0.10432496071423618,
          -0.12347750975463398,
          -0.09107084681083075,
          -0.07233748394715088,
          -0.0747906134567941,
          -0.07651415601780613,
          -0.09845079660994663,
          -0.08483023987166928,
          -0.10215717383910433,
          -0.0866452820585816,
          -0.0982088600082654,
          -0.08661213452535602
         ],
         "xaxis": "x",
         "y": [
          0.030850370921894,
          0.03160090837534868,
          0.03220651968756125,
          0.041290499137944886,
          0.0360085968126359,
          0.04308154218410958,
          0.03958808887290288,
          0.04331980536370336,
          0.0396113469876749,
          0.031207491409176637,
          0.031930055321228265,
          0.032444320670166955,
          0.03716945112568697,
          0.03470419836650927,
          0.038147704592263146,
          0.04017646322871652,
          0.0422229426857043,
          0.03449097994193837
         ],
         "yaxis": "y"
        },
        {
         "hovertemplate": "<b>%{hovertext}</b><br><br>contains=Fecal_2<br>PC1 (58.6 %)=%{x}<br>PC2 (15.9 %)=%{y}<extra></extra>",
         "hovertext": [
          "QEC18_F2_20181227121553.mzML",
          "QEC18_F2_20181228001213.mzML",
          "QEC18_F2.mzML",
          "QEC18RT_F2_20181228211241.mzML",
          "QEC18RT_F2_20181229083715.mzML",
          "QEC18RT_F2.mzML"
         ],
         "legendgroup": "Fecal_2",
         "marker": {
          "color": "#D62728",
          "symbol": "circle"
         },
         "mode": "markers",
         "name": "Fecal_2",
         "orientation": "v",
         "showlegend": true,
         "type": "scatter",
         "x": [
          -0.01533258002246622,
          -0.025512660137641734,
          -0.019317028756992042,
          -0.0035661012805041797,
          -0.009013788323924445,
          -0.012586026844925302
         ],
         "xaxis": "x",
         "y": [
          -0.02898864046681695,
          -0.029609452573014162,
          -0.026851521377139698,
          -0.023109539566505046,
          -0.025228867809484152,
          -0.025481805074487395
         ],
         "yaxis": "y"
        },
        {
         "hovertemplate": "<b>%{hovertext}</b><br><br>contains=Fecal_2 + Plasma<br>PC1 (58.6 %)=%{x}<br>PC2 (15.9 %)=%{y}<extra></extra>",
         "hovertext": [
          "QEC18_F2-1_NIST-3_20181227103932.mzML",
          "QEC18_F2-1_NIST-3_20181227145038.mzML",
          "QEC18_F2-1_NIST-3.mzML",
          "QEC18_F2-1_NIST-1_20181227212113.mzML",
          "QEC18_F2-1_NIST-1_20181227233413.mzML",
          "QEC18_F2-1_NIST-1.mzML",
          "QEC18_F2-3_NIST-1_20181227162723.mzML",
          "QEC18_F2-3_NIST-1_20181228005015.mzML",
          "QEC18_F2-3_NIST-1.mzML",
          "QEC18RT_F2-1_NIST-3_20181228193737.mzML",
          "QEC18RT_F2-1_NIST-3_20181228234449.mzML",
          "QEC18RT_F2-1_NIST-3.mzML",
          "QEC18RT_F2-1_NIST-1_20181229054607.mzML",
          "QEC18RT_F2-1_NIST-1_20181229075915.mzML",
          "QEC18RT_F2-1_NIST-1.mzML",
          "QEC18RT_F2-3_NIST-1_20181229011957.mzML",
          "QEC18RT_F2-3_NIST-1_20181229091519.mzML",
          "QEC18RT_F2-3_NIST-1.mzML"
         ],
         "legendgroup": "Fecal_2 + Plasma",
         "marker": {
          "color": "#9467BD",
          "symbol": "circle"
         },
         "mode": "markers",
         "name": "Fecal_2 + Plasma",
         "orientation": "v",
         "showlegend": true,
         "type": "scatter",
         "x": [
          -0.026674320529672654,
          -0.0255738118969115,
          -0.05958287999904811,
          -0.0218790299676612,
          -0.023049789215398766,
          -0.013394687643477605,
          -0.02466839983034825,
          -0.016466828345723793,
          -0.013282768374514541,
          -0.020520983189582433,
          -0.0083977555013364,
          -0.015015024121816212,
          -0.0064825789280658535,
          -0.0037989631961637084,
          0.00040224280029581326,
          -0.0063603865490392255,
          0.0007386714226982847,
          -0.008935702005802007
         ],
         "xaxis": "x",
         "y": [
          -0.03074007587051559,
          -0.03349298289363797,
          -0.030173862942431337,
          -0.03025169658049939,
          -0.025917324374991516,
          -0.023929268433948783,
          -0.02851275796377961,
          -0.027895559296843828,
          -0.031116266004875808,
          -0.02465495213660431,
          -0.026155265373710854,
          -0.02260947134499186,
          -0.021568388913924916,
          -0.01821385772622357,
          -0.018082361283761974,
          -0.020193536201561314,
          -0.02103709176139459,
          -0.025227821045708053
         ],
         "yaxis": "y"
        },
        {
         "hovertemplate": "<b>%{hovertext}</b><br><br>contains=Fecal_2 + Tomato<br>PC1 (58.6 %)=%{x}<br>PC2 (15.9 %)=%{y}<extra></extra>",
         "hovertext": [
          "QEC18_F2-1_To-3_20181226223728.mzML",
          "QEC18_F2-1_To-3_20181227041925.mzML",
          "QEC18_F2-1_To-3.mzML",
          "QEC18_F2-1_To-1_20181227150959.mzML",
          "QEC18_F2-1_To-1_20181228014719.mzML",
          "QEC18_F2-1_To-1.mzML",
          "QEC18_F2-3_To-1_20181227082626.mzML",
          "QEC18_F2-3_To-1_20181227164643.mzML",
          "QEC18_F2-3_To-1.mzML",
          "QEC18RT_F2-1_To-3_20181228071021.mzML",
          "QEC18RT_F2-1_To-3_20181228125213.mzML",
          "QEC18RT_F2-1_To-3.mzML",
          "QEC18RT_F2-1_To-1_20181229000349.mzML",
          "QEC18RT_F2-1_To-1_20181229101223.mzML",
          "QEC18RT_F2-1_To-1.mzML",
          "QEC18RT_F2-3_To-1_20181228165919.mzML",
          "QEC18RT_F2-3_To-1_20181229013857.mzML",
          "QEC18RT_F2-3_To-1.mzML"
         ],
         "legendgroup": "Fecal_2 + Tomato",
         "marker": {
          "color": "#8C564B",
          "symbol": "circle"
         },
         "mode": "markers",
         "name": "Fecal_2 + Tomato",
         "orientation": "v",
         "showlegend": true,
         "type": "scatter",
         "x": [
          -0.0036282976150318396,
          0.012143120468656728,
          -0.004080992488287858,
          0.006233356316776948,
          0.009540234045246437,
          0.008402713129783647,
          0.015160440319083219,
          0.007092888050038995,
          0.004485773391016902,
          0.012482546356250682,
          0.012441199688789206,
          0.01028022234651536,
          0.01960495003578669,
          0.021674377380374612,
          0.01806115870767171,
          0.02213873270337357,
          0.019357260400298785,
          0.01680585155857856
         ],
         "xaxis": "x",
         "y": [
          0.022583941997678762,
          0.02603160754362635,
          0.02227010738266653,
          0.018967736454360562,
          0.022141589948834594,
          0.020728502426331324,
          0.017103248381723023,
          0.015686307372979574,
          0.012193919311856599,
          0.025712752260685805,
          0.028055404222546744,
          0.025052364367757242,
          0.023806421297831372,
          0.0251772082007512,
          0.027260895275751745,
          0.02463564970069837,
          0.02283475180923026,
          0.019530957427047833
         ],
         "yaxis": "y"
        },
        {
         "hovertemplate": "<b>%{hovertext}</b><br><br>contains=Fecal_1<br>PC1 (58.6 %)=%{x}<br>PC2 (15.9 %)=%{y}<extra></extra>",
         "hovertext": [
          "QEC18_F1_20181227030329.mzML",
          "QEC18_F1_20181228032223.mzML",
          "QEC18_F1.mzML",
          "QEC18RT_F1_20181228113615.mzML",
          "QEC18RT_F1_20181229114729.mzML",
          "QEC18RT_F1.mzML"
         ],
         "legendgroup": "Fecal_1",
         "marker": {
          "color": "#E377C2",
          "symbol": "circle"
         },
         "mode": "markers",
         "name": "Fecal_1",
         "orientation": "v",
         "showlegend": true,
         "type": "scatter",
         "x": [
          0.013361534121340007,
          0.011912306684185187,
          0.011431996477190388,
          0.02405715622221142,
          0.029895616918920488,
          0.02812986594001952
         ],
         "xaxis": "x",
         "y": [
          -0.036350457472423645,
          -0.03884064139141349,
          -0.03658735276784018,
          -0.030617284635011458,
          -0.03003767559068138,
          -0.02882246357666048
         ],
         "yaxis": "y"
        },
        {
         "hovertemplate": "<b>%{hovertext}</b><br><br>contains=Fecal_1 + Fecal_2 + Tomato + Plasma<br>PC1 (58.6 %)=%{x}<br>PC2 (15.9 %)=%{y}<extra></extra>",
         "hovertext": [
          "QEC18_F1-1_F2-1_NIST-2_To-1_20181227152919.mzML",
          "QEC18_F1-1_F2-1_NIST-2_To-1_20181227225613.mzML",
          "QEC18_F1-1_F2-1_NIST-2_To-1.mzML",
          "QEC18_F1-1_F2-1_NIST-1_To-2_20181227113714.mzML",
          "QEC18_F1-1_F2-1_NIST-1_To-2_20181227184249.mzML",
          "QEC18_F1-1_F2-1_NIST-1_To-2.mzML",
          "QEC18_F1-1_F2-2_NIST-1_To-1_20181227065123.mzML",
          "QEC18_F1-1_F2-2_NIST-1_To-1_20181228034123.mzML",
          "QEC18_F1-1_F2-2_NIST-1_To-1.mzML",
          "QEC18_Qcmix_begin.mzML",
          "QEC18_Qcmix_middle.mzML",
          "QEC18_Qcmix_end.mzML",
          "QEC18_Qcmix_end_20181228041923.mzML",
          "QEC18RT_Qcmix_begin.mzML",
          "QEC18RT_Qcmix_middle.mzML",
          "QEC18RT_Qcmix_end.mzML",
          "QEC18_F1-1_F2-1_NIST-1_To-1_20181227125436.mzML",
          "QEC18_F1-1_F2-1_NIST-1_To-1_20181227135238.mzML",
          "QEC18_F1-1_F2-1_NIST-1_To-1.mzML",
          "QEC18_F1-2_F2-1_NIST-1_To-1_20181228020619.mzML",
          "QEC18_F1-2_F2-1_NIST-1_To-1_20181228022521.mzML",
          "QEC18_F1-2_F2-1_NIST-1_To-1.mzML",
          "QEC18RT_F1-1_F2-1_NIST-2_To-1_20181229002251.mzML",
          "QEC18RT_F1-1_F2-1_NIST-2_To-1_20181229072113.mzML",
          "QEC18RT_F1-1_F2-1_NIST-2_To-1.mzML",
          "QEC18RT_F1-1_F2-1_NIST-1_To-2_20181228203439.mzML",
          "QEC18RT_F1-1_F2-1_NIST-1_To-2_20181229033303.mzML",
          "QEC18RT_F1-1_F2-1_NIST-1_To-2.mzML",
          "QEC18RT_F1-1_F2-2_NIST-1_To-1_20181228152413.mzML",
          "QEC18RT_F1-1_F2-2_NIST-1_To-1_20181229120629.mzML",
          "QEC18RT_F1-1_F2-2_NIST-1_To-1.mzML",
          "QEC18RT_F1-1_F2-1_NIST-1_To-1_20181228215043.mzML",
          "QEC18RT_F1-1_F2-1_NIST-1_To-1_20181228224749.mzML",
          "QEC18RT_F1-1_F2-1_NIST-1_To-1.mzML",
          "QEC18RT_F1-2_F2-1_NIST-1_To-1_20181229103125.mzML",
          "QEC18RT_F1-2_F2-1_NIST-1_To-1_20181229105027.mzML",
          "QEC18RT_F1-2_F2-1_NIST-1_To-1.mzML"
         ],
         "legendgroup": "Fecal_1 + Fecal_2 + Tomato + Plasma",
         "marker": {
          "color": "#7F7F7F",
          "symbol": "circle"
         },
         "mode": "markers",
         "name": "Fecal_1 + Fecal_2 + Tomato + Plasma",
         "orientation": "v",
         "showlegend": true,
         "type": "scatter",
         "x": [
          0.041594478987895735,
          0.0436898276481982,
          0.04915652600656792,
          0.044229342306687756,
          0.043758862114404634,
          0.044170071015883536,
          0.04699386271658597,
          0.04422752058481049,
          0.04509802200543976,
          0.03557146384957002,
          0.04984050809979663,
          0.04762510537040839,
          0.04760853682748765,
          0.03313445661250214,
          0.054405230090409436,
          0.05193441046953976,
          0.04688990987446926,
          0.04995173889633196,
          0.0472405349765684,
          0.04067566584854825,
          0.04764235138682972,
          0.04118692630020254,
          0.051967280307003,
          0.04879708450224117,
          0.054658718982310533,
          0.05715453118461447,
          0.050435122178201036,
          0.055246750834206965,
          0.05760023330470477,
          0.0518440239822527,
          0.050650691354112674,
          0.055856201995894736,
          0.05307576109830163,
          0.05021792805443359,
          0.053984317727855856,
          0.055537877121453805,
          0.056418666523957633
         ],
         "xaxis": "x",
         "y": [
          0.014247846224588606,
          0.01518577108556316,
          0.018729436016645513,
          0.02034836283357138,
          0.018982937948667733,
          0.0205466896347521,
          0.015607667221988931,
          0.014840770591464473,
          0.01514549143985292,
          0.011672736223953598,
          0.019700583981598557,
          0.017417095234481362,
          0.01923353613931106,
          0.011746175496533073,
          0.020019155078793465,
          0.019082085986321343,
          0.015895587269335612,
          0.018535033351977884,
          0.018161902530759007,
          0.012964043034532368,
          0.015945148799275895,
          0.013595483374769778,
          0.019315919894622606,
          0.018226527061184737,
          0.020505476361382568,
          0.021050627445638834,
          0.01888263314555585,
          0.022135319831494853,
          0.02007325997364166,
          0.016932308770913094,
          0.01704534247286175,
          0.019776222168532077,
          0.019231240155433562,
          0.017145163742426327,
          0.01815476842485967,
          0.018558754611990764,
          0.019257680347643365
         ],
         "yaxis": "y"
        },
        {
         "hovertemplate": "<b>%{hovertext}</b><br><br>contains=Fecal_1 + Plasma<br>PC1 (58.6 %)=%{x}<br>PC2 (15.9 %)=%{y}<extra></extra>",
         "hovertext": [
          "QEC18_F1-1_NIST-3_20181227133316.mzML",
          "QEC18_F1-1_NIST-3_20181228012817.mzML",
          "QEC18_F1-1_NIST-3.mzML",
          "QEC18_F1-1_NIST-1_20181227210213.mzML",
          "QEC18_F1-1_NIST-1_20181227215913.mzML",
          "QEC18_F1-1_NIST-1.mzML",
          "QEC18_F1-3_NIST-1_20181227045725.mzML",
          "QEC18_F1-3_NIST-1_20181227170603.mzML",
          "QEC18_F1-3_NIST-1.mzML",
          "QEC18RT_F1-1_NIST-3_20181228222847.mzML",
          "QEC18RT_F1-1_NIST-3_20181229095321.mzML",
          "QEC18RT_F1-1_NIST-3.mzML",
          "QEC18RT_F1-1_NIST-1_20181229052705.mzML",
          "QEC18RT_F1-1_NIST-1_20181229062407.mzML",
          "QEC18RT_F1-1_NIST-1.mzML",
          "QEC18RT_F1-3_NIST-1_20181228133015.mzML",
          "QEC18RT_F1-3_NIST-1_20181229015759.mzML",
          "QEC18RT_F1-3_NIST-1.mzML"
         ],
         "legendgroup": "Fecal_1 + Plasma",
         "marker": {
          "color": "#BCBD22",
          "symbol": "circle"
         },
         "mode": "markers",
         "name": "Fecal_1 + Plasma",
         "orientation": "v",
         "showlegend": true,
         "type": "scatter",
         "x": [
          -0.003809926057890582,
          0.0026514671867523504,
          -0.01046762737570524,
          0.00805293945494643,
          0.005157389631590962,
          0.0036599776483444723,
          0.021228354579734467,
          0.01362385634982506,
          0.013311117631240743,
          0.01919027722030356,
          0.024437293306659516,
          0.016285315560886183,
          0.023799178903514958,
          0.022514502487292753,
          0.019604497921396777,
          0.028670608760014087,
          0.02470663325030185,
          0.025778690862018408
         ],
         "xaxis": "x",
         "y": [
          -0.03971626381954704,
          -0.035316209509192086,
          -0.04415536921394721,
          -0.03443039838604512,
          -0.03795468174786693,
          -0.0392082459644826,
          -0.03412130363785067,
          -0.03623135766346846,
          -0.037761508184268856,
          -0.032048613454430476,
          -0.028312154240796715,
          -0.032074551101800367,
          -0.02910083555708148,
          -0.02912652284952421,
          -0.032022756614719955,
          -0.027196906785463156,
          -0.03132108493619644,
          -0.03030980594339635
         ],
         "yaxis": "y"
        },
        {
         "hovertemplate": "<b>%{hovertext}</b><br><br>contains=Fecal_1 + Tomato<br>PC1 (58.6 %)=%{x}<br>PC2 (15.9 %)=%{y}<extra></extra>",
         "hovertext": [
          "QEC18_F1-1_To-3_20181227174446.mzML",
          "QEC18_F1-1_To-3_20181227223713.mzML",
          "QEC18_F1-1_To-3.mzML",
          "QEC18_F1-1_To-1_20181227043825.mzML",
          "QEC18_F1-1_To-1_20181227123513.mzML",
          "QEC18_F1-1_To-1.mzML",
          "QEC18_F1-3_To-1_20181228003115.mzML",
          "QEC18_F1-3_To-1_20181228024423.mzML",
          "QEC18_F1-3_To-1.mzML",
          "QEC18RT_F1-1_To-3_20181229023601.mzML",
          "QEC18RT_F1-1_To-3_20181229070211.mzML",
          "QEC18RT_F1-1_To-3.mzML",
          "QEC18RT_F1-1_To-1_20181228131115.mzML",
          "QEC18RT_F1-1_To-1_20181228213143.mzML",
          "QEC18RT_F1-1_To-1.mzML",
          "QEC18RT_F1-3_To-1_20181229085617.mzML",
          "QEC18RT_F1-3_To-1_20181229110929.mzML",
          "QEC18RT_F1-3_To-1.mzML"
         ],
         "legendgroup": "Fecal_1 + Tomato",
         "marker": {
          "color": "#17BECF",
          "symbol": "circle"
         },
         "mode": "markers",
         "name": "Fecal_1 + Tomato",
         "orientation": "v",
         "showlegend": true,
         "type": "scatter",
         "x": [
          0.03617037501397674,
          0.039244876664156166,
          0.023130518289187687,
          0.043193768749447865,
          0.038995935927579266,
          0.045153269643713634,
          0.043594457229061294,
          0.042612824731232596,
          0.0466790818035571,
          0.04421727957193404,
          0.043567102021159314,
          0.04785727443217223,
          0.04760793601283287,
          0.05152150041259839,
          0.04291381530593089,
          0.051723014436073494,
          0.04874590375021106,
          0.0491464404352008
         ],
         "xaxis": "x",
         "y": [
          0.021743014058089323,
          0.0214147906565849,
          0.008057796899928487,
          0.020162117948664005,
          0.0181893445977099,
          0.02117703744421913,
          0.01385419115556686,
          0.016416935467165935,
          0.016849417586969683,
          0.021401948357504634,
          0.021781313910919853,
          0.022013473455957274,
          0.02080225469952355,
          0.019948276213017525,
          0.019237958533284708,
          0.016960471524508563,
          0.01484331053748965,
          0.018356973792150646
         ],
         "yaxis": "y"
        },
        {
         "hovertemplate": "<b>%{hovertext}</b><br><br>contains=Fecal_1 + Fecal_2<br>PC1 (58.6 %)=%{x}<br>PC2 (15.9 %)=%{y}<extra></extra>",
         "hovertext": [
          "QEC18_F1-1_F2-3_20181227012831.mzML",
          "QEC18_F1-1_F2-3_20181227071023.mzML",
          "QEC18_F1-1_F2-3.mzML",
          "QEC18_F1-1_F2-1_20181227084526.mzML",
          "QEC18_F1-1_F2-1_20181227143118.mzML",
          "QEC18_F1-1_F2-1.mzML",
          "QEC18_F1-3_F2-1_20181227131356.mzML",
          "QEC18_F1-3_F2-1_20181227190209.mzML",
          "QEC18_F1-3_F2-1.mzML",
          "QEC18RT_F1-1_F2-3_20181228100117.mzML",
          "QEC18RT_F1-1_F2-3_20181228154315.mzML",
          "QEC18RT_F1-1_F2-3.mzML",
          "QEC18RT_F1-1_F2-1_20181228171821.mzML",
          "QEC18RT_F1-1_F2-1_20181228232549.mzML",
          "QEC18RT_F1-1_F2-1.mzML",
          "QEC18RT_F1-3_F2-1_20181228220945.mzML",
          "QEC18RT_F1-3_F2-1_20181229035205.mzML",
          "QEC18RT_F1-3_F2-1.mzML"
         ],
         "legendgroup": "Fecal_1 + Fecal_2",
         "marker": {
          "color": "#1F77B4",
          "symbol": "circle"
         },
         "mode": "markers",
         "name": "Fecal_1 + Fecal_2",
         "orientation": "v",
         "showlegend": true,
         "type": "scatter",
         "x": [
          0.021240612118571395,
          0.023573600463131013,
          0.017095837178723525,
          0.019604694792054504,
          0.011022737807549766,
          0.0032416027373243705,
          0.020857914446848022,
          0.01685273179738626,
          0.02212908473420035,
          0.03180278584386775,
          0.03246319429946248,
          0.027811153872101174,
          0.029290163521997252,
          0.028291714283946584,
          0.0280822695933382,
          0.033770018609950554,
          0.029526942612295312,
          0.025770660387998127
         ],
         "xaxis": "x",
         "y": [
          -0.026195178529191107,
          -0.028597222368692166,
          -0.032839836539183,
          -0.032927581606794765,
          -0.03407453322952073,
          -0.04056405628916806,
          -0.03215460626873828,
          -0.03415944721054495,
          -0.03218851376455234,
          -0.02222148379798998,
          -0.024202581404533116,
          -0.026031207140458108,
          -0.02633989390159636,
          -0.028011375296868035,
          -0.0283136329658156,
          -0.027175967226541246,
          -0.028176702175837585,
          -0.028768902287159212
         ],
         "yaxis": "y"
        }
       ],
       "layout": {
        "height": 650,
        "legend": {
         "title": {
          "text": "contains"
         },
         "tracegroupgap": 0
        },
        "template": {
         "data": {
          "bar": [
           {
            "error_x": {
             "color": "rgb(36,36,36)"
            },
            "error_y": {
             "color": "rgb(36,36,36)"
            },
            "marker": {
             "line": {
              "color": "white",
              "width": 0.5
             },
             "pattern": {
              "fillmode": "overlay",
              "size": 10,
              "solidity": 0.2
             }
            },
            "type": "bar"
           }
          ],
          "barpolar": [
           {
            "marker": {
             "line": {
              "color": "white",
              "width": 0.5
             },
             "pattern": {
              "fillmode": "overlay",
              "size": 10,
              "solidity": 0.2
             }
            },
            "type": "barpolar"
           }
          ],
          "carpet": [
           {
            "aaxis": {
             "endlinecolor": "rgb(36,36,36)",
             "gridcolor": "white",
             "linecolor": "white",
             "minorgridcolor": "white",
             "startlinecolor": "rgb(36,36,36)"
            },
            "baxis": {
             "endlinecolor": "rgb(36,36,36)",
             "gridcolor": "white",
             "linecolor": "white",
             "minorgridcolor": "white",
             "startlinecolor": "rgb(36,36,36)"
            },
            "type": "carpet"
           }
          ],
          "choropleth": [
           {
            "colorbar": {
             "outlinewidth": 1,
             "tickcolor": "rgb(36,36,36)",
             "ticks": "outside"
            },
            "type": "choropleth"
           }
          ],
          "contour": [
           {
            "colorbar": {
             "outlinewidth": 1,
             "tickcolor": "rgb(36,36,36)",
             "ticks": "outside"
            },
            "colorscale": [
             [
              0,
              "#440154"
             ],
             [
              0.1111111111111111,
              "#482878"
             ],
             [
              0.2222222222222222,
              "#3e4989"
             ],
             [
              0.3333333333333333,
              "#31688e"
             ],
             [
              0.4444444444444444,
              "#26828e"
             ],
             [
              0.5555555555555556,
              "#1f9e89"
             ],
             [
              0.6666666666666666,
              "#35b779"
             ],
             [
              0.7777777777777778,
              "#6ece58"
             ],
             [
              0.8888888888888888,
              "#b5de2b"
             ],
             [
              1,
              "#fde725"
             ]
            ],
            "type": "contour"
           }
          ],
          "contourcarpet": [
           {
            "colorbar": {
             "outlinewidth": 1,
             "tickcolor": "rgb(36,36,36)",
             "ticks": "outside"
            },
            "type": "contourcarpet"
           }
          ],
          "heatmap": [
           {
            "colorbar": {
             "outlinewidth": 1,
             "tickcolor": "rgb(36,36,36)",
             "ticks": "outside"
            },
            "colorscale": [
             [
              0,
              "#440154"
             ],
             [
              0.1111111111111111,
              "#482878"
             ],
             [
              0.2222222222222222,
              "#3e4989"
             ],
             [
              0.3333333333333333,
              "#31688e"
             ],
             [
              0.4444444444444444,
              "#26828e"
             ],
             [
              0.5555555555555556,
              "#1f9e89"
             ],
             [
              0.6666666666666666,
              "#35b779"
             ],
             [
              0.7777777777777778,
              "#6ece58"
             ],
             [
              0.8888888888888888,
              "#b5de2b"
             ],
             [
              1,
              "#fde725"
             ]
            ],
            "type": "heatmap"
           }
          ],
          "heatmapgl": [
           {
            "colorbar": {
             "outlinewidth": 1,
             "tickcolor": "rgb(36,36,36)",
             "ticks": "outside"
            },
            "colorscale": [
             [
              0,
              "#440154"
             ],
             [
              0.1111111111111111,
              "#482878"
             ],
             [
              0.2222222222222222,
              "#3e4989"
             ],
             [
              0.3333333333333333,
              "#31688e"
             ],
             [
              0.4444444444444444,
              "#26828e"
             ],
             [
              0.5555555555555556,
              "#1f9e89"
             ],
             [
              0.6666666666666666,
              "#35b779"
             ],
             [
              0.7777777777777778,
              "#6ece58"
             ],
             [
              0.8888888888888888,
              "#b5de2b"
             ],
             [
              1,
              "#fde725"
             ]
            ],
            "type": "heatmapgl"
           }
          ],
          "histogram": [
           {
            "marker": {
             "line": {
              "color": "white",
              "width": 0.6
             }
            },
            "type": "histogram"
           }
          ],
          "histogram2d": [
           {
            "colorbar": {
             "outlinewidth": 1,
             "tickcolor": "rgb(36,36,36)",
             "ticks": "outside"
            },
            "colorscale": [
             [
              0,
              "#440154"
             ],
             [
              0.1111111111111111,
              "#482878"
             ],
             [
              0.2222222222222222,
              "#3e4989"
             ],
             [
              0.3333333333333333,
              "#31688e"
             ],
             [
              0.4444444444444444,
              "#26828e"
             ],
             [
              0.5555555555555556,
              "#1f9e89"
             ],
             [
              0.6666666666666666,
              "#35b779"
             ],
             [
              0.7777777777777778,
              "#6ece58"
             ],
             [
              0.8888888888888888,
              "#b5de2b"
             ],
             [
              1,
              "#fde725"
             ]
            ],
            "type": "histogram2d"
           }
          ],
          "histogram2dcontour": [
           {
            "colorbar": {
             "outlinewidth": 1,
             "tickcolor": "rgb(36,36,36)",
             "ticks": "outside"
            },
            "colorscale": [
             [
              0,
              "#440154"
             ],
             [
              0.1111111111111111,
              "#482878"
             ],
             [
              0.2222222222222222,
              "#3e4989"
             ],
             [
              0.3333333333333333,
              "#31688e"
             ],
             [
              0.4444444444444444,
              "#26828e"
             ],
             [
              0.5555555555555556,
              "#1f9e89"
             ],
             [
              0.6666666666666666,
              "#35b779"
             ],
             [
              0.7777777777777778,
              "#6ece58"
             ],
             [
              0.8888888888888888,
              "#b5de2b"
             ],
             [
              1,
              "#fde725"
             ]
            ],
            "type": "histogram2dcontour"
           }
          ],
          "mesh3d": [
           {
            "colorbar": {
             "outlinewidth": 1,
             "tickcolor": "rgb(36,36,36)",
             "ticks": "outside"
            },
            "type": "mesh3d"
           }
          ],
          "parcoords": [
           {
            "line": {
             "colorbar": {
              "outlinewidth": 1,
              "tickcolor": "rgb(36,36,36)",
              "ticks": "outside"
             }
            },
            "type": "parcoords"
           }
          ],
          "pie": [
           {
            "automargin": true,
            "type": "pie"
           }
          ],
          "scatter": [
           {
            "marker": {
             "colorbar": {
              "outlinewidth": 1,
              "tickcolor": "rgb(36,36,36)",
              "ticks": "outside"
             }
            },
            "type": "scatter"
           }
          ],
          "scatter3d": [
           {
            "line": {
             "colorbar": {
              "outlinewidth": 1,
              "tickcolor": "rgb(36,36,36)",
              "ticks": "outside"
             }
            },
            "marker": {
             "colorbar": {
              "outlinewidth": 1,
              "tickcolor": "rgb(36,36,36)",
              "ticks": "outside"
             }
            },
            "type": "scatter3d"
           }
          ],
          "scattercarpet": [
           {
            "marker": {
             "colorbar": {
              "outlinewidth": 1,
              "tickcolor": "rgb(36,36,36)",
              "ticks": "outside"
             }
            },
            "type": "scattercarpet"
           }
          ],
          "scattergeo": [
           {
            "marker": {
             "colorbar": {
              "outlinewidth": 1,
              "tickcolor": "rgb(36,36,36)",
              "ticks": "outside"
             }
            },
            "type": "scattergeo"
           }
          ],
          "scattergl": [
           {
            "marker": {
             "colorbar": {
              "outlinewidth": 1,
              "tickcolor": "rgb(36,36,36)",
              "ticks": "outside"
             }
            },
            "type": "scattergl"
           }
          ],
          "scattermapbox": [
           {
            "marker": {
             "colorbar": {
              "outlinewidth": 1,
              "tickcolor": "rgb(36,36,36)",
              "ticks": "outside"
             }
            },
            "type": "scattermapbox"
           }
          ],
          "scatterpolar": [
           {
            "marker": {
             "colorbar": {
              "outlinewidth": 1,
              "tickcolor": "rgb(36,36,36)",
              "ticks": "outside"
             }
            },
            "type": "scatterpolar"
           }
          ],
          "scatterpolargl": [
           {
            "marker": {
             "colorbar": {
              "outlinewidth": 1,
              "tickcolor": "rgb(36,36,36)",
              "ticks": "outside"
             }
            },
            "type": "scatterpolargl"
           }
          ],
          "scatterternary": [
           {
            "marker": {
             "colorbar": {
              "outlinewidth": 1,
              "tickcolor": "rgb(36,36,36)",
              "ticks": "outside"
             }
            },
            "type": "scatterternary"
           }
          ],
          "surface": [
           {
            "colorbar": {
             "outlinewidth": 1,
             "tickcolor": "rgb(36,36,36)",
             "ticks": "outside"
            },
            "colorscale": [
             [
              0,
              "#440154"
             ],
             [
              0.1111111111111111,
              "#482878"
             ],
             [
              0.2222222222222222,
              "#3e4989"
             ],
             [
              0.3333333333333333,
              "#31688e"
             ],
             [
              0.4444444444444444,
              "#26828e"
             ],
             [
              0.5555555555555556,
              "#1f9e89"
             ],
             [
              0.6666666666666666,
              "#35b779"
             ],
             [
              0.7777777777777778,
              "#6ece58"
             ],
             [
              0.8888888888888888,
              "#b5de2b"
             ],
             [
              1,
              "#fde725"
             ]
            ],
            "type": "surface"
           }
          ],
          "table": [
           {
            "cells": {
             "fill": {
              "color": "rgb(237,237,237)"
             },
             "line": {
              "color": "white"
             }
            },
            "header": {
             "fill": {
              "color": "rgb(217,217,217)"
             },
             "line": {
              "color": "white"
             }
            },
            "type": "table"
           }
          ]
         },
         "layout": {
          "annotationdefaults": {
           "arrowhead": 0,
           "arrowwidth": 1
          },
          "autotypenumbers": "strict",
          "coloraxis": {
           "colorbar": {
            "outlinewidth": 1,
            "tickcolor": "rgb(36,36,36)",
            "ticks": "outside"
           }
          },
          "colorscale": {
           "diverging": [
            [
             0,
             "rgb(103,0,31)"
            ],
            [
             0.1,
             "rgb(178,24,43)"
            ],
            [
             0.2,
             "rgb(214,96,77)"
            ],
            [
             0.3,
             "rgb(244,165,130)"
            ],
            [
             0.4,
             "rgb(253,219,199)"
            ],
            [
             0.5,
             "rgb(247,247,247)"
            ],
            [
             0.6,
             "rgb(209,229,240)"
            ],
            [
             0.7,
             "rgb(146,197,222)"
            ],
            [
             0.8,
             "rgb(67,147,195)"
            ],
            [
             0.9,
             "rgb(33,102,172)"
            ],
            [
             1,
             "rgb(5,48,97)"
            ]
           ],
           "sequential": [
            [
             0,
             "#440154"
            ],
            [
             0.1111111111111111,
             "#482878"
            ],
            [
             0.2222222222222222,
             "#3e4989"
            ],
            [
             0.3333333333333333,
             "#31688e"
            ],
            [
             0.4444444444444444,
             "#26828e"
            ],
            [
             0.5555555555555556,
             "#1f9e89"
            ],
            [
             0.6666666666666666,
             "#35b779"
            ],
            [
             0.7777777777777778,
             "#6ece58"
            ],
            [
             0.8888888888888888,
             "#b5de2b"
            ],
            [
             1,
             "#fde725"
            ]
           ],
           "sequentialminus": [
            [
             0,
             "#440154"
            ],
            [
             0.1111111111111111,
             "#482878"
            ],
            [
             0.2222222222222222,
             "#3e4989"
            ],
            [
             0.3333333333333333,
             "#31688e"
            ],
            [
             0.4444444444444444,
             "#26828e"
            ],
            [
             0.5555555555555556,
             "#1f9e89"
            ],
            [
             0.6666666666666666,
             "#35b779"
            ],
            [
             0.7777777777777778,
             "#6ece58"
            ],
            [
             0.8888888888888888,
             "#b5de2b"
            ],
            [
             1,
             "#fde725"
            ]
           ]
          },
          "colorway": [
           "#1F77B4",
           "#FF7F0E",
           "#2CA02C",
           "#D62728",
           "#9467BD",
           "#8C564B",
           "#E377C2",
           "#7F7F7F",
           "#BCBD22",
           "#17BECF"
          ],
          "font": {
           "color": "rgb(36,36,36)"
          },
          "geo": {
           "bgcolor": "white",
           "lakecolor": "white",
           "landcolor": "white",
           "showlakes": true,
           "showland": true,
           "subunitcolor": "white"
          },
          "hoverlabel": {
           "align": "left"
          },
          "hovermode": "closest",
          "mapbox": {
           "style": "light"
          },
          "paper_bgcolor": "white",
          "plot_bgcolor": "white",
          "polar": {
           "angularaxis": {
            "gridcolor": "rgb(232,232,232)",
            "linecolor": "rgb(36,36,36)",
            "showgrid": false,
            "showline": true,
            "ticks": "outside"
           },
           "bgcolor": "white",
           "radialaxis": {
            "gridcolor": "rgb(232,232,232)",
            "linecolor": "rgb(36,36,36)",
            "showgrid": false,
            "showline": true,
            "ticks": "outside"
           }
          },
          "scene": {
           "xaxis": {
            "backgroundcolor": "white",
            "gridcolor": "rgb(232,232,232)",
            "gridwidth": 2,
            "linecolor": "rgb(36,36,36)",
            "showbackground": true,
            "showgrid": false,
            "showline": true,
            "ticks": "outside",
            "zeroline": false,
            "zerolinecolor": "rgb(36,36,36)"
           },
           "yaxis": {
            "backgroundcolor": "white",
            "gridcolor": "rgb(232,232,232)",
            "gridwidth": 2,
            "linecolor": "rgb(36,36,36)",
            "showbackground": true,
            "showgrid": false,
            "showline": true,
            "ticks": "outside",
            "zeroline": false,
            "zerolinecolor": "rgb(36,36,36)"
           },
           "zaxis": {
            "backgroundcolor": "white",
            "gridcolor": "rgb(232,232,232)",
            "gridwidth": 2,
            "linecolor": "rgb(36,36,36)",
            "showbackground": true,
            "showgrid": false,
            "showline": true,
            "ticks": "outside",
            "zeroline": false,
            "zerolinecolor": "rgb(36,36,36)"
           }
          },
          "shapedefaults": {
           "fillcolor": "black",
           "line": {
            "width": 0
           },
           "opacity": 0.3
          },
          "ternary": {
           "aaxis": {
            "gridcolor": "rgb(232,232,232)",
            "linecolor": "rgb(36,36,36)",
            "showgrid": false,
            "showline": true,
            "ticks": "outside"
           },
           "baxis": {
            "gridcolor": "rgb(232,232,232)",
            "linecolor": "rgb(36,36,36)",
            "showgrid": false,
            "showline": true,
            "ticks": "outside"
           },
           "bgcolor": "white",
           "caxis": {
            "gridcolor": "rgb(232,232,232)",
            "linecolor": "rgb(36,36,36)",
            "showgrid": false,
            "showline": true,
            "ticks": "outside"
           }
          },
          "title": {
           "x": 0.05
          },
          "xaxis": {
           "automargin": true,
           "gridcolor": "rgb(232,232,232)",
           "linecolor": "rgb(36,36,36)",
           "showgrid": false,
           "showline": true,
           "ticks": "outside",
           "title": {
            "standoff": 15
           },
           "zeroline": false,
           "zerolinecolor": "rgb(36,36,36)"
          },
          "yaxis": {
           "automargin": true,
           "gridcolor": "rgb(232,232,232)",
           "linecolor": "rgb(36,36,36)",
           "showgrid": false,
           "showline": true,
           "ticks": "outside",
           "title": {
            "standoff": 15
           },
           "zeroline": false,
           "zerolinecolor": "rgb(36,36,36)"
          }
         }
        },
        "title": {
         "text": "PCoA"
        },
        "width": 1000,
        "xaxis": {
         "anchor": "y",
         "domain": [
          0,
          1
         ],
         "title": {
          "text": "PC1 (58.6 %)"
         }
        },
        "yaxis": {
         "anchor": "x",
         "domain": [
          0,
          1
         ],
         "title": {
          "text": "PC2 (15.9 %)"
         }
        }
       }
      }
     },
     "metadata": {}
    }
   ],
   "metadata": {}
  },
  {
   "cell_type": "code",
   "execution_count": null,
   "source": [],
   "outputs": [],
   "metadata": {}
  }
 ],
 "metadata": {
  "kernelspec": {
   "name": "python3",
   "display_name": "Python 3.9.6 64-bit ('memo': conda)"
  },
  "language_info": {
   "codemirror_mode": {
    "name": "ipython",
    "version": 3
   },
   "file_extension": ".py",
   "mimetype": "text/x-python",
   "name": "python",
   "nbconvert_exporter": "python",
   "pygments_lexer": "ipython3",
   "version": "3.9.6"
  },
  "interpreter": {
   "hash": "bf27a2d4a0753834bb94f8ff78247bd00bc6063ee2884368a40f3120b4342aed"
  }
 },
 "nbformat": 4,
 "nbformat_minor": 4
}