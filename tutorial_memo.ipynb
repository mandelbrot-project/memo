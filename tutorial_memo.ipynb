{
 "cells": [
  {
   "cell_type": "markdown",
   "source": [
    "# MEMO Tutorial on the Qemistree Evaluation Dataset"
   ],
   "metadata": {}
  },
  {
   "cell_type": "markdown",
   "source": [
    "In this tutorial, we will use the Qemistree published dataset (https://doi.org/10.1038/s41589-020-00677-3) to apply the MS2 BasEd SaMple VectOrization (MEMO) method\n",
    "\n",
    "The dataset is constitued of 2 fecal samples, 1 tomato sample and 1 plasma sample, plus different binary/quaternary mixtures of these four samples. Samples were profiled in UHPLC-MS/MS (Q-Exactive spectrometer) using 2 different LC-methods. Each sample was acquired in triplicates using each LC-method (see Qemistree paper for details)."
   ],
   "metadata": {}
  },
  {
   "cell_type": "markdown",
   "source": [
    "## First we import the needed packages\n",
    "Be sure to have first installed memo using 'pip install memo' within the memo environment. \n",
    "Also make sure to launch this notebook using the memo conda environement."
   ],
   "metadata": {}
  },
  {
   "cell_type": "code",
   "execution_count": 1,
   "source": [
    "import pandas as pd\r\n",
    "import numpy as np\r\n",
    "import memo_ms as memo\r\n",
    "import plotly.express as px"
   ],
   "outputs": [
    {
     "output_type": "stream",
     "name": "stderr",
     "text": [
      "C:\\Users\\gaudrya.FARMA\\Anaconda3\\envs\\memo\\lib\\site-packages\\gensim\\similarities\\__init__.py:15: UserWarning: The gensim.similarities.levenshtein submodule is disabled, because the optional Levenshtein package <https://pypi.org/project/python-Levenshtein/> is unavailable. Install Levenhstein (e.g. `pip install python-Levenshtein`) to suppress this warning.\n",
      "  warnings.warn(msg)\n"
     ]
    }
   ],
   "metadata": {
    "scrolled": true
   }
  },
  {
   "cell_type": "markdown",
   "source": [
    "With this step we import metadata:"
   ],
   "metadata": {}
  },
  {
   "cell_type": "code",
   "execution_count": 2,
   "source": [
    "\r\n",
    "def conditions(df_meta):\r\n",
    "    if ((df_meta['Proportion_Fecal_1']>0) & (df_meta['Proportion_Fecal_2']==0)& (df_meta['Proportion_Tomato']==0) & (df_meta['Proportion_NIST_1950_SRM']==0)):\r\n",
    "        return 'Fecal_1'\r\n",
    "    if ((df_meta['Proportion_Fecal_1']==0) & (df_meta['Proportion_Fecal_2']>0)& (df_meta['Proportion_Tomato']==0) & (df_meta['Proportion_NIST_1950_SRM']==0)):\r\n",
    "        return 'Fecal_2'\r\n",
    "    if ((df_meta['Proportion_Fecal_1']==0) & (df_meta['Proportion_Fecal_2']==0)& (df_meta['Proportion_Tomato']>0) & (df_meta['Proportion_NIST_1950_SRM']==0)):\r\n",
    "        return 'Tomato'\r\n",
    "    if ((df_meta['Proportion_Fecal_1']==0) & (df_meta['Proportion_Fecal_2']==0)& (df_meta['Proportion_Tomato']==0) & (df_meta['Proportion_NIST_1950_SRM']>0)):\r\n",
    "        return 'Plasma'\r\n",
    "    if ((df_meta['Proportion_Fecal_1']>0) & (df_meta['Proportion_Fecal_2']>0)& (df_meta['Proportion_Tomato']==0) & (df_meta['Proportion_NIST_1950_SRM']==0)):\r\n",
    "        return 'Fecal_1 + Fecal_2'\r\n",
    "    if ((df_meta['Proportion_Fecal_1']>0) & (df_meta['Proportion_Fecal_2']==0)& (df_meta['Proportion_Tomato']>0) & (df_meta['Proportion_NIST_1950_SRM']==0)):\r\n",
    "        return 'Fecal_1 + Tomato'\r\n",
    "    if ((df_meta['Proportion_Fecal_1']>0) & (df_meta['Proportion_Fecal_2']==0)& (df_meta['Proportion_Tomato']==0) & (df_meta['Proportion_NIST_1950_SRM']>0)):\r\n",
    "        return 'Fecal_1 + Plasma'\r\n",
    "    if ((df_meta['Proportion_Fecal_1']==0) & (df_meta['Proportion_Fecal_2']>0)& (df_meta['Proportion_Tomato']>0) & (df_meta['Proportion_NIST_1950_SRM']==0)):\r\n",
    "        return 'Fecal_2 + Tomato'\r\n",
    "    if ((df_meta['Proportion_Fecal_1']==0) & (df_meta['Proportion_Fecal_2']>0)& (df_meta['Proportion_Tomato']==0) & (df_meta['Proportion_NIST_1950_SRM']>0)):\r\n",
    "        return 'Fecal_2 + Plasma'\r\n",
    "    if ((df_meta['Proportion_Fecal_1']==0) & (df_meta['Proportion_Fecal_2']==0)& (df_meta['Proportion_Tomato']>0) & (df_meta['Proportion_NIST_1950_SRM']>0)):\r\n",
    "        return 'Tomato + Plasma'\r\n",
    "    if ((df_meta['Proportion_Fecal_1']>0) & (df_meta['Proportion_Fecal_2']>0)& (df_meta['Proportion_Tomato']>0) & (df_meta['Proportion_NIST_1950_SRM']>0)):\r\n",
    "        return 'Fecal_1 + Fecal_2 + Tomato + Plasma' \r\n",
    "    else:\r\n",
    "        return 'What is it? :)'\r\n",
    "\r\n",
    "\r\n",
    "df_meta = pd.read_csv(\"data/1901_gradient_benchmarking_dataset_v4_sample_metadata.txt\", sep='\\t')\r\n",
    "df_meta['Samplename'] = df_meta['Samplename'].str[:-6]\r\n",
    "df_meta['Samplename'] = df_meta['Samplename'].str.replace('BLANK_', 'BLANK')\r\n",
    "df_meta = df_meta[['Filename', 'Experiment', 'Samplename', 'Triplicate_number', 'Proportion_Fecal_1', 'Proportion_Fecal_2', 'Proportion_Tomato', 'Proportion_NIST_1950_SRM']]\r\n",
    "df_meta['contains'] = df_meta.apply(conditions, axis=1)\r\n",
    "df_meta['instrument'] = np.where(df_meta['Samplename'].str.contains('qTOF'), 'qTOF', 'QE')\r\n",
    "df_meta['blank_qc'] = np.where(df_meta['Samplename'].str.contains('blank|qcmix', case = False), 'yes', 'no')\r\n",
    "df_meta\r\n"
   ],
   "outputs": [
    {
     "output_type": "execute_result",
     "data": {
      "text/plain": [
       "                                   Filename   Experiment  \\\n",
       "0    QEC18_Blank_resusp_20181226235330.mzML          C18   \n",
       "1    QEC18_Blank_resusp_20181227024429.mzML          C18   \n",
       "2    QEC18_Blank_resusp_20181227051626.mzML          C18   \n",
       "3    QEC18_Blank_resusp_20181227072924.mzML          C18   \n",
       "4    QEC18_Blank_resusp_20181227100129.mzML          C18   \n",
       "..                                      ...          ...   \n",
       "565         C18_F1-3_To-1_GC5_01_19577.mzML  C18-RTshift   \n",
       "566         C18_F1-3_To-1_GC5_01_19584.mzML  C18-RTshift   \n",
       "567         C18_F1-3_F2-1_GB4_01_19512.mzML  C18-RTshift   \n",
       "568         C18_F1-3_F2-1_GB4_01_19547.mzML  C18-RTshift   \n",
       "569         C18_F1-3_F2-1_GB4_01_19562.mzML  C18-RTshift   \n",
       "\n",
       "                     Samplename  Triplicate_number  Proportion_Fecal_1  \\\n",
       "0                  QE_C18_BLANK                  1                   0   \n",
       "1                  QE_C18_BLANK                  2                   0   \n",
       "2                  QE_C18_BLANK                  3                   0   \n",
       "3                  QE_C18_BLANK                  4                   0   \n",
       "4                  QE_C18_BLANK                  5                   0   \n",
       "..                          ...                ...                 ...   \n",
       "565  qTOF_C18-RTshift_F1-3_To-1                  2                  75   \n",
       "566  qTOF_C18-RTshift_F1-3_To-1                  3                  75   \n",
       "567  qTOF_C18-RTshift_F1-3_F2-1                  1                  75   \n",
       "568  qTOF_C18-RTshift_F1-3_F2-1                  2                  75   \n",
       "569  qTOF_C18-RTshift_F1-3_F2-1                  3                  75   \n",
       "\n",
       "     Proportion_Fecal_2  Proportion_Tomato  Proportion_NIST_1950_SRM  \\\n",
       "0                     0                  0                         0   \n",
       "1                     0                  0                         0   \n",
       "2                     0                  0                         0   \n",
       "3                     0                  0                         0   \n",
       "4                     0                  0                         0   \n",
       "..                  ...                ...                       ...   \n",
       "565                   0                 25                         0   \n",
       "566                   0                 25                         0   \n",
       "567                  25                  0                         0   \n",
       "568                  25                  0                         0   \n",
       "569                  25                  0                         0   \n",
       "\n",
       "              contains instrument blank_qc  \n",
       "0       What is it? :)         QE      yes  \n",
       "1       What is it? :)         QE      yes  \n",
       "2       What is it? :)         QE      yes  \n",
       "3       What is it? :)         QE      yes  \n",
       "4       What is it? :)         QE      yes  \n",
       "..                 ...        ...      ...  \n",
       "565   Fecal_1 + Tomato       qTOF       no  \n",
       "566   Fecal_1 + Tomato       qTOF       no  \n",
       "567  Fecal_1 + Fecal_2       qTOF       no  \n",
       "568  Fecal_1 + Fecal_2       qTOF       no  \n",
       "569  Fecal_1 + Fecal_2       qTOF       no  \n",
       "\n",
       "[570 rows x 11 columns]"
      ],
      "text/html": [
       "<div>\n",
       "<style scoped>\n",
       "    .dataframe tbody tr th:only-of-type {\n",
       "        vertical-align: middle;\n",
       "    }\n",
       "\n",
       "    .dataframe tbody tr th {\n",
       "        vertical-align: top;\n",
       "    }\n",
       "\n",
       "    .dataframe thead th {\n",
       "        text-align: right;\n",
       "    }\n",
       "</style>\n",
       "<table border=\"1\" class=\"dataframe\">\n",
       "  <thead>\n",
       "    <tr style=\"text-align: right;\">\n",
       "      <th></th>\n",
       "      <th>Filename</th>\n",
       "      <th>Experiment</th>\n",
       "      <th>Samplename</th>\n",
       "      <th>Triplicate_number</th>\n",
       "      <th>Proportion_Fecal_1</th>\n",
       "      <th>Proportion_Fecal_2</th>\n",
       "      <th>Proportion_Tomato</th>\n",
       "      <th>Proportion_NIST_1950_SRM</th>\n",
       "      <th>contains</th>\n",
       "      <th>instrument</th>\n",
       "      <th>blank_qc</th>\n",
       "    </tr>\n",
       "  </thead>\n",
       "  <tbody>\n",
       "    <tr>\n",
       "      <th>0</th>\n",
       "      <td>QEC18_Blank_resusp_20181226235330.mzML</td>\n",
       "      <td>C18</td>\n",
       "      <td>QE_C18_BLANK</td>\n",
       "      <td>1</td>\n",
       "      <td>0</td>\n",
       "      <td>0</td>\n",
       "      <td>0</td>\n",
       "      <td>0</td>\n",
       "      <td>What is it? :)</td>\n",
       "      <td>QE</td>\n",
       "      <td>yes</td>\n",
       "    </tr>\n",
       "    <tr>\n",
       "      <th>1</th>\n",
       "      <td>QEC18_Blank_resusp_20181227024429.mzML</td>\n",
       "      <td>C18</td>\n",
       "      <td>QE_C18_BLANK</td>\n",
       "      <td>2</td>\n",
       "      <td>0</td>\n",
       "      <td>0</td>\n",
       "      <td>0</td>\n",
       "      <td>0</td>\n",
       "      <td>What is it? :)</td>\n",
       "      <td>QE</td>\n",
       "      <td>yes</td>\n",
       "    </tr>\n",
       "    <tr>\n",
       "      <th>2</th>\n",
       "      <td>QEC18_Blank_resusp_20181227051626.mzML</td>\n",
       "      <td>C18</td>\n",
       "      <td>QE_C18_BLANK</td>\n",
       "      <td>3</td>\n",
       "      <td>0</td>\n",
       "      <td>0</td>\n",
       "      <td>0</td>\n",
       "      <td>0</td>\n",
       "      <td>What is it? :)</td>\n",
       "      <td>QE</td>\n",
       "      <td>yes</td>\n",
       "    </tr>\n",
       "    <tr>\n",
       "      <th>3</th>\n",
       "      <td>QEC18_Blank_resusp_20181227072924.mzML</td>\n",
       "      <td>C18</td>\n",
       "      <td>QE_C18_BLANK</td>\n",
       "      <td>4</td>\n",
       "      <td>0</td>\n",
       "      <td>0</td>\n",
       "      <td>0</td>\n",
       "      <td>0</td>\n",
       "      <td>What is it? :)</td>\n",
       "      <td>QE</td>\n",
       "      <td>yes</td>\n",
       "    </tr>\n",
       "    <tr>\n",
       "      <th>4</th>\n",
       "      <td>QEC18_Blank_resusp_20181227100129.mzML</td>\n",
       "      <td>C18</td>\n",
       "      <td>QE_C18_BLANK</td>\n",
       "      <td>5</td>\n",
       "      <td>0</td>\n",
       "      <td>0</td>\n",
       "      <td>0</td>\n",
       "      <td>0</td>\n",
       "      <td>What is it? :)</td>\n",
       "      <td>QE</td>\n",
       "      <td>yes</td>\n",
       "    </tr>\n",
       "    <tr>\n",
       "      <th>...</th>\n",
       "      <td>...</td>\n",
       "      <td>...</td>\n",
       "      <td>...</td>\n",
       "      <td>...</td>\n",
       "      <td>...</td>\n",
       "      <td>...</td>\n",
       "      <td>...</td>\n",
       "      <td>...</td>\n",
       "      <td>...</td>\n",
       "      <td>...</td>\n",
       "      <td>...</td>\n",
       "    </tr>\n",
       "    <tr>\n",
       "      <th>565</th>\n",
       "      <td>C18_F1-3_To-1_GC5_01_19577.mzML</td>\n",
       "      <td>C18-RTshift</td>\n",
       "      <td>qTOF_C18-RTshift_F1-3_To-1</td>\n",
       "      <td>2</td>\n",
       "      <td>75</td>\n",
       "      <td>0</td>\n",
       "      <td>25</td>\n",
       "      <td>0</td>\n",
       "      <td>Fecal_1 + Tomato</td>\n",
       "      <td>qTOF</td>\n",
       "      <td>no</td>\n",
       "    </tr>\n",
       "    <tr>\n",
       "      <th>566</th>\n",
       "      <td>C18_F1-3_To-1_GC5_01_19584.mzML</td>\n",
       "      <td>C18-RTshift</td>\n",
       "      <td>qTOF_C18-RTshift_F1-3_To-1</td>\n",
       "      <td>3</td>\n",
       "      <td>75</td>\n",
       "      <td>0</td>\n",
       "      <td>25</td>\n",
       "      <td>0</td>\n",
       "      <td>Fecal_1 + Tomato</td>\n",
       "      <td>qTOF</td>\n",
       "      <td>no</td>\n",
       "    </tr>\n",
       "    <tr>\n",
       "      <th>567</th>\n",
       "      <td>C18_F1-3_F2-1_GB4_01_19512.mzML</td>\n",
       "      <td>C18-RTshift</td>\n",
       "      <td>qTOF_C18-RTshift_F1-3_F2-1</td>\n",
       "      <td>1</td>\n",
       "      <td>75</td>\n",
       "      <td>25</td>\n",
       "      <td>0</td>\n",
       "      <td>0</td>\n",
       "      <td>Fecal_1 + Fecal_2</td>\n",
       "      <td>qTOF</td>\n",
       "      <td>no</td>\n",
       "    </tr>\n",
       "    <tr>\n",
       "      <th>568</th>\n",
       "      <td>C18_F1-3_F2-1_GB4_01_19547.mzML</td>\n",
       "      <td>C18-RTshift</td>\n",
       "      <td>qTOF_C18-RTshift_F1-3_F2-1</td>\n",
       "      <td>2</td>\n",
       "      <td>75</td>\n",
       "      <td>25</td>\n",
       "      <td>0</td>\n",
       "      <td>0</td>\n",
       "      <td>Fecal_1 + Fecal_2</td>\n",
       "      <td>qTOF</td>\n",
       "      <td>no</td>\n",
       "    </tr>\n",
       "    <tr>\n",
       "      <th>569</th>\n",
       "      <td>C18_F1-3_F2-1_GB4_01_19562.mzML</td>\n",
       "      <td>C18-RTshift</td>\n",
       "      <td>qTOF_C18-RTshift_F1-3_F2-1</td>\n",
       "      <td>3</td>\n",
       "      <td>75</td>\n",
       "      <td>25</td>\n",
       "      <td>0</td>\n",
       "      <td>0</td>\n",
       "      <td>Fecal_1 + Fecal_2</td>\n",
       "      <td>qTOF</td>\n",
       "      <td>no</td>\n",
       "    </tr>\n",
       "  </tbody>\n",
       "</table>\n",
       "<p>570 rows × 11 columns</p>\n",
       "</div>"
      ]
     },
     "metadata": {},
     "execution_count": 2
    }
   ],
   "metadata": {}
  },
  {
   "cell_type": "markdown",
   "source": [
    "## Import feature_quant table\r\n",
    "To compute the MEMO matrix of the dataset, we need the table reporting presence/absence of each metabolite in each sample. This information is in the quant table and we use the import_mzmine2_quant_table function to import and format it"
   ],
   "metadata": {}
  },
  {
   "cell_type": "code",
   "execution_count": 3,
   "source": [
    "quant = memo.import_mzmine2_quant_table(\"data/quantification_table-00000.csv\")\r\n",
    "quant"
   ],
   "outputs": [
    {
     "output_type": "execute_result",
     "data": {
      "text/plain": [
       "        QEC18_Blank_resusp_20181227024429.mzML  \\\n",
       "row ID                                           \n",
       "1                                 8.739521e+08   \n",
       "2                                 1.481579e+08   \n",
       "3                                 9.837010e+07   \n",
       "4                                 8.224197e+07   \n",
       "5                                 7.315887e+07   \n",
       "...                                        ...   \n",
       "7028                              0.000000e+00   \n",
       "7029                              0.000000e+00   \n",
       "7030                              7.638457e+03   \n",
       "7031                              0.000000e+00   \n",
       "7032                              0.000000e+00   \n",
       "\n",
       "        QEC18_Blank_resusp_20181227200515.mzML  \\\n",
       "row ID                                           \n",
       "1                                 1.205125e+09   \n",
       "2                                 3.421555e+08   \n",
       "3                                 2.866821e+07   \n",
       "4                                 8.136892e+07   \n",
       "5                                 7.267058e+07   \n",
       "...                                        ...   \n",
       "7028                              0.000000e+00   \n",
       "7029                              0.000000e+00   \n",
       "7030                              2.869926e+03   \n",
       "7031                              0.000000e+00   \n",
       "7032                              0.000000e+00   \n",
       "\n",
       "        QEC18_Blank_resusp_20181227180406.mzML  \\\n",
       "row ID                                           \n",
       "1                                 8.856410e+08   \n",
       "2                                 2.189828e+08   \n",
       "3                                 1.133203e+08   \n",
       "4                                 1.442344e+08   \n",
       "5                                 2.595832e+08   \n",
       "...                                        ...   \n",
       "7028                              0.000000e+00   \n",
       "7029                              0.000000e+00   \n",
       "7030                              5.820253e+03   \n",
       "7031                              0.000000e+00   \n",
       "7032                              0.000000e+00   \n",
       "\n",
       "        QEC18_Blank_resusp_20181227100129.mzML  \\\n",
       "row ID                                           \n",
       "1                                 1.672233e+09   \n",
       "2                                 3.215060e+08   \n",
       "3                                 2.621886e+08   \n",
       "4                                 2.304763e+08   \n",
       "5                                 0.000000e+00   \n",
       "...                                        ...   \n",
       "7028                              0.000000e+00   \n",
       "7029                              0.000000e+00   \n",
       "7030                              2.094878e+03   \n",
       "7031                              0.000000e+00   \n",
       "7032                              0.000000e+00   \n",
       "\n",
       "        QEC18_Blank_resusp_20181226235330.mzML  \\\n",
       "row ID                                           \n",
       "1                                 3.730564e+08   \n",
       "2                                 1.466751e+08   \n",
       "3                                 4.948088e+07   \n",
       "4                                 0.000000e+00   \n",
       "5                                 2.946699e+08   \n",
       "...                                        ...   \n",
       "7028                              0.000000e+00   \n",
       "7029                              0.000000e+00   \n",
       "7030                              6.407866e+03   \n",
       "7031                              0.000000e+00   \n",
       "7032                              0.000000e+00   \n",
       "\n",
       "        QEC18_Blank_resusp_20181227154841.mzML  \\\n",
       "row ID                                           \n",
       "1                                 1.694707e+09   \n",
       "2                                 3.779046e+08   \n",
       "3                                 3.325100e+06   \n",
       "4                                 2.873334e+07   \n",
       "5                                 4.263457e+08   \n",
       "...                                        ...   \n",
       "7028                              0.000000e+00   \n",
       "7029                              0.000000e+00   \n",
       "7030                              3.131129e+03   \n",
       "7031                              3.977231e+02   \n",
       "7032                              0.000000e+00   \n",
       "\n",
       "        QEC18_Blank_resusp_20181227072924.mzML  \\\n",
       "row ID                                           \n",
       "1                                 1.250287e+09   \n",
       "2                                 2.547772e+08   \n",
       "3                                 1.912927e+08   \n",
       "4                                 2.817894e+08   \n",
       "5                                 1.223111e+07   \n",
       "...                                        ...   \n",
       "7028                              0.000000e+00   \n",
       "7029                              0.000000e+00   \n",
       "7030                              4.183935e+03   \n",
       "7031                              0.000000e+00   \n",
       "7032                              0.000000e+00   \n",
       "\n",
       "        QEC18_Blank_resusp_20181227235313.mzML  \\\n",
       "row ID                                           \n",
       "1                                 1.174462e+09   \n",
       "2                                 3.116616e+08   \n",
       "3                                 2.064894e+08   \n",
       "4                                 0.000000e+00   \n",
       "5                                 1.622914e+08   \n",
       "...                                        ...   \n",
       "7028                              0.000000e+00   \n",
       "7029                              0.000000e+00   \n",
       "7030                              4.523492e+03   \n",
       "7031                              6.129638e+02   \n",
       "7032                              0.000000e+00   \n",
       "\n",
       "        QEC18_Blank_resusp_20181227051626.mzML  QEC18_F1-1_F2-1.mzML  ...  \\\n",
       "row ID                                                                ...   \n",
       "1                                 1.250107e+09          2.233406e+08  ...   \n",
       "2                                 2.454641e+08          1.667905e+07  ...   \n",
       "3                                 1.669947e+08          3.245482e+06  ...   \n",
       "4                                 1.024043e+08          0.000000e+00  ...   \n",
       "5                                 1.737644e+08          1.116640e+08  ...   \n",
       "...                                        ...                   ...  ...   \n",
       "7028                              0.000000e+00          0.000000e+00  ...   \n",
       "7029                              0.000000e+00          1.416685e+04  ...   \n",
       "7030                              2.258435e+03          3.047024e+03  ...   \n",
       "7031                              0.000000e+00          1.248792e+03  ...   \n",
       "7032                              0.000000e+00          0.000000e+00  ...   \n",
       "\n",
       "        QEC18RT_To_20181229050805.mzML  QEC18RT_QCmix_no_exclusion.mzML  \\\n",
       "row ID                                                                    \n",
       "1                        329089.838818                     5.834382e+05   \n",
       "2                        430302.125590                     4.218561e+05   \n",
       "3                           581.722337                     0.000000e+00   \n",
       "4                        258414.856693                     0.000000e+00   \n",
       "5                        505079.412864                     3.919205e+05   \n",
       "...                                ...                              ...   \n",
       "7028                          0.000000                     1.176028e+06   \n",
       "7029                          0.000000                     4.439594e+06   \n",
       "7030                          0.000000                     4.274993e+06   \n",
       "7031                      13811.598093                     2.247251e+06   \n",
       "7032                          0.000000                     1.915096e+07   \n",
       "\n",
       "        QEC18RT_F2.mzML  QEC18RT_To_20181229074015.mzML  \\\n",
       "row ID                                                    \n",
       "1          1.125321e+06                    1.761620e+06   \n",
       "2          2.769745e+05                    4.475155e+05   \n",
       "3          0.000000e+00                    7.836569e+02   \n",
       "4          2.111572e+05                    2.359778e+05   \n",
       "5          6.063203e+05                    6.117475e+05   \n",
       "...                 ...                             ...   \n",
       "7028       4.565675e+06                    0.000000e+00   \n",
       "7029       1.200933e+06                    0.000000e+00   \n",
       "7030       1.031305e+07                    9.990865e+03   \n",
       "7031       4.406589e+06                    0.000000e+00   \n",
       "7032       4.923490e+07                    3.178934e+04   \n",
       "\n",
       "        QEC18RT_Qcmix_end.mzML  QEC18RT_F1.mzML  \\\n",
       "row ID                                            \n",
       "1                 4.494813e+05     2.651802e+05   \n",
       "2                 3.973298e+05     5.065530e+05   \n",
       "3                 0.000000e+00     0.000000e+00   \n",
       "4                 1.748818e+04     4.924721e+05   \n",
       "5                 1.080398e+06     2.399147e+05   \n",
       "...                        ...              ...   \n",
       "7028              1.620638e+06     4.512574e+06   \n",
       "7029              4.475984e+06     1.276397e+07   \n",
       "7030              4.003327e+06     8.826358e+06   \n",
       "7031              3.351930e+06     3.281628e+06   \n",
       "7032              1.958202e+07     2.809365e+07   \n",
       "\n",
       "        QEC18RT_F1_20181229114729.mzML  QEC18RT_F2_20181229083715.mzML  \\\n",
       "row ID                                                                   \n",
       "1                         5.304884e+05                    4.728289e+05   \n",
       "2                         2.502201e+05                    1.238884e+05   \n",
       "3                         0.000000e+00                    0.000000e+00   \n",
       "4                         8.183989e+03                    4.191255e+04   \n",
       "5                         8.817621e+05                    1.300201e+05   \n",
       "...                                ...                             ...   \n",
       "7028                      6.209425e+05                    4.468508e+06   \n",
       "7029                      6.744892e+06                    0.000000e+00   \n",
       "7030                      6.012722e+06                    9.674889e+06   \n",
       "7031                      7.457704e+05                    0.000000e+00   \n",
       "7032                      9.571486e+05                    0.000000e+00   \n",
       "\n",
       "        QEC18RT_F2_20181228211241.mzML  QEC18RT_F1_20181228113615.mzML  \n",
       "row ID                                                                  \n",
       "1                         5.962238e+05                    5.971862e+05  \n",
       "2                         1.094719e+05                    2.389570e+05  \n",
       "3                         0.000000e+00                    0.000000e+00  \n",
       "4                         0.000000e+00                    5.393931e+05  \n",
       "5                         2.797098e+05                    2.718625e+05  \n",
       "...                                ...                             ...  \n",
       "7028                      5.771853e+05                    6.262678e+06  \n",
       "7029                      4.531521e+06                    1.224795e+06  \n",
       "7030                      1.059177e+07                    5.639867e+06  \n",
       "7031                      1.394515e+06                    2.448436e+05  \n",
       "7032                      6.244577e+07                    0.000000e+00  \n",
       "\n",
       "[7032 rows x 198 columns]"
      ],
      "text/html": [
       "<div>\n",
       "<style scoped>\n",
       "    .dataframe tbody tr th:only-of-type {\n",
       "        vertical-align: middle;\n",
       "    }\n",
       "\n",
       "    .dataframe tbody tr th {\n",
       "        vertical-align: top;\n",
       "    }\n",
       "\n",
       "    .dataframe thead th {\n",
       "        text-align: right;\n",
       "    }\n",
       "</style>\n",
       "<table border=\"1\" class=\"dataframe\">\n",
       "  <thead>\n",
       "    <tr style=\"text-align: right;\">\n",
       "      <th></th>\n",
       "      <th>QEC18_Blank_resusp_20181227024429.mzML</th>\n",
       "      <th>QEC18_Blank_resusp_20181227200515.mzML</th>\n",
       "      <th>QEC18_Blank_resusp_20181227180406.mzML</th>\n",
       "      <th>QEC18_Blank_resusp_20181227100129.mzML</th>\n",
       "      <th>QEC18_Blank_resusp_20181226235330.mzML</th>\n",
       "      <th>QEC18_Blank_resusp_20181227154841.mzML</th>\n",
       "      <th>QEC18_Blank_resusp_20181227072924.mzML</th>\n",
       "      <th>QEC18_Blank_resusp_20181227235313.mzML</th>\n",
       "      <th>QEC18_Blank_resusp_20181227051626.mzML</th>\n",
       "      <th>QEC18_F1-1_F2-1.mzML</th>\n",
       "      <th>...</th>\n",
       "      <th>QEC18RT_To_20181229050805.mzML</th>\n",
       "      <th>QEC18RT_QCmix_no_exclusion.mzML</th>\n",
       "      <th>QEC18RT_F2.mzML</th>\n",
       "      <th>QEC18RT_To_20181229074015.mzML</th>\n",
       "      <th>QEC18RT_Qcmix_end.mzML</th>\n",
       "      <th>QEC18RT_F1.mzML</th>\n",
       "      <th>QEC18RT_F1_20181229114729.mzML</th>\n",
       "      <th>QEC18RT_F2_20181229083715.mzML</th>\n",
       "      <th>QEC18RT_F2_20181228211241.mzML</th>\n",
       "      <th>QEC18RT_F1_20181228113615.mzML</th>\n",
       "    </tr>\n",
       "    <tr>\n",
       "      <th>row ID</th>\n",
       "      <th></th>\n",
       "      <th></th>\n",
       "      <th></th>\n",
       "      <th></th>\n",
       "      <th></th>\n",
       "      <th></th>\n",
       "      <th></th>\n",
       "      <th></th>\n",
       "      <th></th>\n",
       "      <th></th>\n",
       "      <th></th>\n",
       "      <th></th>\n",
       "      <th></th>\n",
       "      <th></th>\n",
       "      <th></th>\n",
       "      <th></th>\n",
       "      <th></th>\n",
       "      <th></th>\n",
       "      <th></th>\n",
       "      <th></th>\n",
       "      <th></th>\n",
       "    </tr>\n",
       "  </thead>\n",
       "  <tbody>\n",
       "    <tr>\n",
       "      <th>1</th>\n",
       "      <td>8.739521e+08</td>\n",
       "      <td>1.205125e+09</td>\n",
       "      <td>8.856410e+08</td>\n",
       "      <td>1.672233e+09</td>\n",
       "      <td>3.730564e+08</td>\n",
       "      <td>1.694707e+09</td>\n",
       "      <td>1.250287e+09</td>\n",
       "      <td>1.174462e+09</td>\n",
       "      <td>1.250107e+09</td>\n",
       "      <td>2.233406e+08</td>\n",
       "      <td>...</td>\n",
       "      <td>329089.838818</td>\n",
       "      <td>5.834382e+05</td>\n",
       "      <td>1.125321e+06</td>\n",
       "      <td>1.761620e+06</td>\n",
       "      <td>4.494813e+05</td>\n",
       "      <td>2.651802e+05</td>\n",
       "      <td>5.304884e+05</td>\n",
       "      <td>4.728289e+05</td>\n",
       "      <td>5.962238e+05</td>\n",
       "      <td>5.971862e+05</td>\n",
       "    </tr>\n",
       "    <tr>\n",
       "      <th>2</th>\n",
       "      <td>1.481579e+08</td>\n",
       "      <td>3.421555e+08</td>\n",
       "      <td>2.189828e+08</td>\n",
       "      <td>3.215060e+08</td>\n",
       "      <td>1.466751e+08</td>\n",
       "      <td>3.779046e+08</td>\n",
       "      <td>2.547772e+08</td>\n",
       "      <td>3.116616e+08</td>\n",
       "      <td>2.454641e+08</td>\n",
       "      <td>1.667905e+07</td>\n",
       "      <td>...</td>\n",
       "      <td>430302.125590</td>\n",
       "      <td>4.218561e+05</td>\n",
       "      <td>2.769745e+05</td>\n",
       "      <td>4.475155e+05</td>\n",
       "      <td>3.973298e+05</td>\n",
       "      <td>5.065530e+05</td>\n",
       "      <td>2.502201e+05</td>\n",
       "      <td>1.238884e+05</td>\n",
       "      <td>1.094719e+05</td>\n",
       "      <td>2.389570e+05</td>\n",
       "    </tr>\n",
       "    <tr>\n",
       "      <th>3</th>\n",
       "      <td>9.837010e+07</td>\n",
       "      <td>2.866821e+07</td>\n",
       "      <td>1.133203e+08</td>\n",
       "      <td>2.621886e+08</td>\n",
       "      <td>4.948088e+07</td>\n",
       "      <td>3.325100e+06</td>\n",
       "      <td>1.912927e+08</td>\n",
       "      <td>2.064894e+08</td>\n",
       "      <td>1.669947e+08</td>\n",
       "      <td>3.245482e+06</td>\n",
       "      <td>...</td>\n",
       "      <td>581.722337</td>\n",
       "      <td>0.000000e+00</td>\n",
       "      <td>0.000000e+00</td>\n",
       "      <td>7.836569e+02</td>\n",
       "      <td>0.000000e+00</td>\n",
       "      <td>0.000000e+00</td>\n",
       "      <td>0.000000e+00</td>\n",
       "      <td>0.000000e+00</td>\n",
       "      <td>0.000000e+00</td>\n",
       "      <td>0.000000e+00</td>\n",
       "    </tr>\n",
       "    <tr>\n",
       "      <th>4</th>\n",
       "      <td>8.224197e+07</td>\n",
       "      <td>8.136892e+07</td>\n",
       "      <td>1.442344e+08</td>\n",
       "      <td>2.304763e+08</td>\n",
       "      <td>0.000000e+00</td>\n",
       "      <td>2.873334e+07</td>\n",
       "      <td>2.817894e+08</td>\n",
       "      <td>0.000000e+00</td>\n",
       "      <td>1.024043e+08</td>\n",
       "      <td>0.000000e+00</td>\n",
       "      <td>...</td>\n",
       "      <td>258414.856693</td>\n",
       "      <td>0.000000e+00</td>\n",
       "      <td>2.111572e+05</td>\n",
       "      <td>2.359778e+05</td>\n",
       "      <td>1.748818e+04</td>\n",
       "      <td>4.924721e+05</td>\n",
       "      <td>8.183989e+03</td>\n",
       "      <td>4.191255e+04</td>\n",
       "      <td>0.000000e+00</td>\n",
       "      <td>5.393931e+05</td>\n",
       "    </tr>\n",
       "    <tr>\n",
       "      <th>5</th>\n",
       "      <td>7.315887e+07</td>\n",
       "      <td>7.267058e+07</td>\n",
       "      <td>2.595832e+08</td>\n",
       "      <td>0.000000e+00</td>\n",
       "      <td>2.946699e+08</td>\n",
       "      <td>4.263457e+08</td>\n",
       "      <td>1.223111e+07</td>\n",
       "      <td>1.622914e+08</td>\n",
       "      <td>1.737644e+08</td>\n",
       "      <td>1.116640e+08</td>\n",
       "      <td>...</td>\n",
       "      <td>505079.412864</td>\n",
       "      <td>3.919205e+05</td>\n",
       "      <td>6.063203e+05</td>\n",
       "      <td>6.117475e+05</td>\n",
       "      <td>1.080398e+06</td>\n",
       "      <td>2.399147e+05</td>\n",
       "      <td>8.817621e+05</td>\n",
       "      <td>1.300201e+05</td>\n",
       "      <td>2.797098e+05</td>\n",
       "      <td>2.718625e+05</td>\n",
       "    </tr>\n",
       "    <tr>\n",
       "      <th>...</th>\n",
       "      <td>...</td>\n",
       "      <td>...</td>\n",
       "      <td>...</td>\n",
       "      <td>...</td>\n",
       "      <td>...</td>\n",
       "      <td>...</td>\n",
       "      <td>...</td>\n",
       "      <td>...</td>\n",
       "      <td>...</td>\n",
       "      <td>...</td>\n",
       "      <td>...</td>\n",
       "      <td>...</td>\n",
       "      <td>...</td>\n",
       "      <td>...</td>\n",
       "      <td>...</td>\n",
       "      <td>...</td>\n",
       "      <td>...</td>\n",
       "      <td>...</td>\n",
       "      <td>...</td>\n",
       "      <td>...</td>\n",
       "      <td>...</td>\n",
       "    </tr>\n",
       "    <tr>\n",
       "      <th>7028</th>\n",
       "      <td>0.000000e+00</td>\n",
       "      <td>0.000000e+00</td>\n",
       "      <td>0.000000e+00</td>\n",
       "      <td>0.000000e+00</td>\n",
       "      <td>0.000000e+00</td>\n",
       "      <td>0.000000e+00</td>\n",
       "      <td>0.000000e+00</td>\n",
       "      <td>0.000000e+00</td>\n",
       "      <td>0.000000e+00</td>\n",
       "      <td>0.000000e+00</td>\n",
       "      <td>...</td>\n",
       "      <td>0.000000</td>\n",
       "      <td>1.176028e+06</td>\n",
       "      <td>4.565675e+06</td>\n",
       "      <td>0.000000e+00</td>\n",
       "      <td>1.620638e+06</td>\n",
       "      <td>4.512574e+06</td>\n",
       "      <td>6.209425e+05</td>\n",
       "      <td>4.468508e+06</td>\n",
       "      <td>5.771853e+05</td>\n",
       "      <td>6.262678e+06</td>\n",
       "    </tr>\n",
       "    <tr>\n",
       "      <th>7029</th>\n",
       "      <td>0.000000e+00</td>\n",
       "      <td>0.000000e+00</td>\n",
       "      <td>0.000000e+00</td>\n",
       "      <td>0.000000e+00</td>\n",
       "      <td>0.000000e+00</td>\n",
       "      <td>0.000000e+00</td>\n",
       "      <td>0.000000e+00</td>\n",
       "      <td>0.000000e+00</td>\n",
       "      <td>0.000000e+00</td>\n",
       "      <td>1.416685e+04</td>\n",
       "      <td>...</td>\n",
       "      <td>0.000000</td>\n",
       "      <td>4.439594e+06</td>\n",
       "      <td>1.200933e+06</td>\n",
       "      <td>0.000000e+00</td>\n",
       "      <td>4.475984e+06</td>\n",
       "      <td>1.276397e+07</td>\n",
       "      <td>6.744892e+06</td>\n",
       "      <td>0.000000e+00</td>\n",
       "      <td>4.531521e+06</td>\n",
       "      <td>1.224795e+06</td>\n",
       "    </tr>\n",
       "    <tr>\n",
       "      <th>7030</th>\n",
       "      <td>7.638457e+03</td>\n",
       "      <td>2.869926e+03</td>\n",
       "      <td>5.820253e+03</td>\n",
       "      <td>2.094878e+03</td>\n",
       "      <td>6.407866e+03</td>\n",
       "      <td>3.131129e+03</td>\n",
       "      <td>4.183935e+03</td>\n",
       "      <td>4.523492e+03</td>\n",
       "      <td>2.258435e+03</td>\n",
       "      <td>3.047024e+03</td>\n",
       "      <td>...</td>\n",
       "      <td>0.000000</td>\n",
       "      <td>4.274993e+06</td>\n",
       "      <td>1.031305e+07</td>\n",
       "      <td>9.990865e+03</td>\n",
       "      <td>4.003327e+06</td>\n",
       "      <td>8.826358e+06</td>\n",
       "      <td>6.012722e+06</td>\n",
       "      <td>9.674889e+06</td>\n",
       "      <td>1.059177e+07</td>\n",
       "      <td>5.639867e+06</td>\n",
       "    </tr>\n",
       "    <tr>\n",
       "      <th>7031</th>\n",
       "      <td>0.000000e+00</td>\n",
       "      <td>0.000000e+00</td>\n",
       "      <td>0.000000e+00</td>\n",
       "      <td>0.000000e+00</td>\n",
       "      <td>0.000000e+00</td>\n",
       "      <td>3.977231e+02</td>\n",
       "      <td>0.000000e+00</td>\n",
       "      <td>6.129638e+02</td>\n",
       "      <td>0.000000e+00</td>\n",
       "      <td>1.248792e+03</td>\n",
       "      <td>...</td>\n",
       "      <td>13811.598093</td>\n",
       "      <td>2.247251e+06</td>\n",
       "      <td>4.406589e+06</td>\n",
       "      <td>0.000000e+00</td>\n",
       "      <td>3.351930e+06</td>\n",
       "      <td>3.281628e+06</td>\n",
       "      <td>7.457704e+05</td>\n",
       "      <td>0.000000e+00</td>\n",
       "      <td>1.394515e+06</td>\n",
       "      <td>2.448436e+05</td>\n",
       "    </tr>\n",
       "    <tr>\n",
       "      <th>7032</th>\n",
       "      <td>0.000000e+00</td>\n",
       "      <td>0.000000e+00</td>\n",
       "      <td>0.000000e+00</td>\n",
       "      <td>0.000000e+00</td>\n",
       "      <td>0.000000e+00</td>\n",
       "      <td>0.000000e+00</td>\n",
       "      <td>0.000000e+00</td>\n",
       "      <td>0.000000e+00</td>\n",
       "      <td>0.000000e+00</td>\n",
       "      <td>0.000000e+00</td>\n",
       "      <td>...</td>\n",
       "      <td>0.000000</td>\n",
       "      <td>1.915096e+07</td>\n",
       "      <td>4.923490e+07</td>\n",
       "      <td>3.178934e+04</td>\n",
       "      <td>1.958202e+07</td>\n",
       "      <td>2.809365e+07</td>\n",
       "      <td>9.571486e+05</td>\n",
       "      <td>0.000000e+00</td>\n",
       "      <td>6.244577e+07</td>\n",
       "      <td>0.000000e+00</td>\n",
       "    </tr>\n",
       "  </tbody>\n",
       "</table>\n",
       "<p>7032 rows × 198 columns</p>\n",
       "</div>"
      ]
     },
     "metadata": {},
     "execution_count": 3
    }
   ],
   "metadata": {}
  },
  {
   "cell_type": "markdown",
   "source": [
    "## Import spectra\r\n",
    "Since MEMO relies on the occurence of MS2 fragments/losses in samples to compare them, we obviously need to importthe features' fragmentation spectra. This is what is done here using load_and_filter_from_mgf function. \r\n"
   ],
   "metadata": {}
  },
  {
   "cell_type": "code",
   "execution_count": 4,
   "source": [
    "spec = memo.load_and_filter_from_mgf(\"data/qemistree_specs_ms.mgf\", min_relative_intensity = 0.01)\r\n",
    "len(spec)"
   ],
   "outputs": [
    {
     "output_type": "execute_result",
     "data": {
      "text/plain": [
       "5826"
      ]
     },
     "metadata": {},
     "execution_count": 4
    }
   ],
   "metadata": {}
  },
  {
   "cell_type": "markdown",
   "source": [
    "## From spectra to documents\r\n",
    "\r\n",
    "This step allows to get the documents (ie peaks and losses) from each spectra we previsouly loaded"
   ],
   "metadata": {}
  },
  {
   "cell_type": "code",
   "execution_count": 5,
   "source": [
    "doc = memo.spec2doc(spec)\r\n",
    "doc"
   ],
   "outputs": [
    {
     "output_type": "execute_result",
     "data": {
      "text/plain": [
       "      scans           pepmass charge collision_energy  \\\n",
       "0         1   (338.342, None)   [1+]              0.0   \n",
       "1         2  (278.1905, None)   [1+]              0.0   \n",
       "2         3  (702.2131, None)   [1+]              0.0   \n",
       "3         4   (663.452, None)   [1+]              0.0   \n",
       "4         5  (663.4555, None)   [1+]              0.0   \n",
       "...     ...               ...    ...              ...   \n",
       "5821   7028  (381.3165, None)   [1+]              0.0   \n",
       "5822   7029  (453.3377, None)   [1+]              0.0   \n",
       "5823   7030  (165.0911, None)   [1+]              0.0   \n",
       "5824   7031  (501.3573, None)   [1+]              0.0   \n",
       "5825   7032  (487.3776, None)   [1+]              0.0   \n",
       "\n",
       "                                              documents  \n",
       "0     [peak@71.05, peak@71.09, peak@72.08, peak@78.7...  \n",
       "1     [peak@84.08, peak@91.05, peak@105.07, peak@115...  \n",
       "2     [peak@73.05, peak@79.02, peak@80.97, peak@81.0...  \n",
       "3     [peak@91.05, peak@147.12, peak@251.05, peak@30...  \n",
       "4     [peak@91.05, peak@147.12, peak@251.05, peak@30...  \n",
       "...                                                 ...  \n",
       "5821  [peak@70.07, peak@71.05, peak@71.09, peak@72.3...  \n",
       "5822  [peak@71.05, peak@79.05, peak@81.03, peak@81.0...  \n",
       "5823  [peak@81.07, peak@83.05, peak@91.05, peak@95.0...  \n",
       "5824  [peak@81.07, peak@95.09, peak@105.07, peak@198...  \n",
       "5825  [peak@81.07, peak@91.05, peak@92.33, peak@93.0...  \n",
       "\n",
       "[5826 rows x 5 columns]"
      ],
      "text/html": [
       "<div>\n",
       "<style scoped>\n",
       "    .dataframe tbody tr th:only-of-type {\n",
       "        vertical-align: middle;\n",
       "    }\n",
       "\n",
       "    .dataframe tbody tr th {\n",
       "        vertical-align: top;\n",
       "    }\n",
       "\n",
       "    .dataframe thead th {\n",
       "        text-align: right;\n",
       "    }\n",
       "</style>\n",
       "<table border=\"1\" class=\"dataframe\">\n",
       "  <thead>\n",
       "    <tr style=\"text-align: right;\">\n",
       "      <th></th>\n",
       "      <th>scans</th>\n",
       "      <th>pepmass</th>\n",
       "      <th>charge</th>\n",
       "      <th>collision_energy</th>\n",
       "      <th>documents</th>\n",
       "    </tr>\n",
       "  </thead>\n",
       "  <tbody>\n",
       "    <tr>\n",
       "      <th>0</th>\n",
       "      <td>1</td>\n",
       "      <td>(338.342, None)</td>\n",
       "      <td>[1+]</td>\n",
       "      <td>0.0</td>\n",
       "      <td>[peak@71.05, peak@71.09, peak@72.08, peak@78.7...</td>\n",
       "    </tr>\n",
       "    <tr>\n",
       "      <th>1</th>\n",
       "      <td>2</td>\n",
       "      <td>(278.1905, None)</td>\n",
       "      <td>[1+]</td>\n",
       "      <td>0.0</td>\n",
       "      <td>[peak@84.08, peak@91.05, peak@105.07, peak@115...</td>\n",
       "    </tr>\n",
       "    <tr>\n",
       "      <th>2</th>\n",
       "      <td>3</td>\n",
       "      <td>(702.2131, None)</td>\n",
       "      <td>[1+]</td>\n",
       "      <td>0.0</td>\n",
       "      <td>[peak@73.05, peak@79.02, peak@80.97, peak@81.0...</td>\n",
       "    </tr>\n",
       "    <tr>\n",
       "      <th>3</th>\n",
       "      <td>4</td>\n",
       "      <td>(663.452, None)</td>\n",
       "      <td>[1+]</td>\n",
       "      <td>0.0</td>\n",
       "      <td>[peak@91.05, peak@147.12, peak@251.05, peak@30...</td>\n",
       "    </tr>\n",
       "    <tr>\n",
       "      <th>4</th>\n",
       "      <td>5</td>\n",
       "      <td>(663.4555, None)</td>\n",
       "      <td>[1+]</td>\n",
       "      <td>0.0</td>\n",
       "      <td>[peak@91.05, peak@147.12, peak@251.05, peak@30...</td>\n",
       "    </tr>\n",
       "    <tr>\n",
       "      <th>...</th>\n",
       "      <td>...</td>\n",
       "      <td>...</td>\n",
       "      <td>...</td>\n",
       "      <td>...</td>\n",
       "      <td>...</td>\n",
       "    </tr>\n",
       "    <tr>\n",
       "      <th>5821</th>\n",
       "      <td>7028</td>\n",
       "      <td>(381.3165, None)</td>\n",
       "      <td>[1+]</td>\n",
       "      <td>0.0</td>\n",
       "      <td>[peak@70.07, peak@71.05, peak@71.09, peak@72.3...</td>\n",
       "    </tr>\n",
       "    <tr>\n",
       "      <th>5822</th>\n",
       "      <td>7029</td>\n",
       "      <td>(453.3377, None)</td>\n",
       "      <td>[1+]</td>\n",
       "      <td>0.0</td>\n",
       "      <td>[peak@71.05, peak@79.05, peak@81.03, peak@81.0...</td>\n",
       "    </tr>\n",
       "    <tr>\n",
       "      <th>5823</th>\n",
       "      <td>7030</td>\n",
       "      <td>(165.0911, None)</td>\n",
       "      <td>[1+]</td>\n",
       "      <td>0.0</td>\n",
       "      <td>[peak@81.07, peak@83.05, peak@91.05, peak@95.0...</td>\n",
       "    </tr>\n",
       "    <tr>\n",
       "      <th>5824</th>\n",
       "      <td>7031</td>\n",
       "      <td>(501.3573, None)</td>\n",
       "      <td>[1+]</td>\n",
       "      <td>0.0</td>\n",
       "      <td>[peak@81.07, peak@95.09, peak@105.07, peak@198...</td>\n",
       "    </tr>\n",
       "    <tr>\n",
       "      <th>5825</th>\n",
       "      <td>7032</td>\n",
       "      <td>(487.3776, None)</td>\n",
       "      <td>[1+]</td>\n",
       "      <td>0.0</td>\n",
       "      <td>[peak@81.07, peak@91.05, peak@92.33, peak@93.0...</td>\n",
       "    </tr>\n",
       "  </tbody>\n",
       "</table>\n",
       "<p>5826 rows × 5 columns</p>\n",
       "</div>"
      ]
     },
     "metadata": {},
     "execution_count": 5
    }
   ],
   "metadata": {}
  },
  {
   "cell_type": "markdown",
   "source": [
    "## Generation of MEMO matrix\r\n",
    "\r\n",
    "Using the generated documents and the quant table, we can now obtain the MEMO matrix"
   ],
   "metadata": {}
  },
  {
   "cell_type": "code",
   "execution_count": 6,
   "source": [
    "memo_matrix = memo.generate_memo(doc, quant)\r\n",
    "memo_matrix"
   ],
   "outputs": [
    {
     "output_type": "execute_result",
     "data": {
      "text/plain": [
       "                                        peak@71.05  peak@71.09  peak@72.08  \\\n",
       "QEC18_Blank_resusp_20181227024429.mzML         749        1245          77   \n",
       "QEC18_Blank_resusp_20181227200515.mzML         734        1215          71   \n",
       "QEC18_Blank_resusp_20181227180406.mzML         774        1297          75   \n",
       "QEC18_Blank_resusp_20181227100129.mzML         771        1303          74   \n",
       "QEC18_Blank_resusp_20181226235330.mzML         707        1187          72   \n",
       "...                                            ...         ...         ...   \n",
       "QEC18RT_F1.mzML                                950        1668         118   \n",
       "QEC18RT_F1_20181229114729.mzML                 957        1668         114   \n",
       "QEC18RT_F2_20181229083715.mzML                 858        1584         114   \n",
       "QEC18RT_F2_20181228211241.mzML                 860        1588         112   \n",
       "QEC18RT_F1_20181228113615.mzML                 945        1654         116   \n",
       "\n",
       "                                        peak@78.74  peak@79.05  peak@81.07  \\\n",
       "QEC18_Blank_resusp_20181227024429.mzML           2        1802        2261   \n",
       "QEC18_Blank_resusp_20181227200515.mzML           3        1775        2285   \n",
       "QEC18_Blank_resusp_20181227180406.mzML           3        1968        2477   \n",
       "QEC18_Blank_resusp_20181227100129.mzML           3        1926        2474   \n",
       "QEC18_Blank_resusp_20181226235330.mzML           2        1688        2115   \n",
       "...                                            ...         ...         ...   \n",
       "QEC18RT_F1.mzML                                  1        2694        3544   \n",
       "QEC18RT_F1_20181229114729.mzML                   2        2700        3553   \n",
       "QEC18RT_F2_20181229083715.mzML                   1        2540        3389   \n",
       "QEC18RT_F2_20181228211241.mzML                   1        2563        3402   \n",
       "QEC18RT_F1_20181228113615.mzML                   1        2689        3526   \n",
       "\n",
       "                                        peak@83.09  peak@85.10  peak@86.06  \\\n",
       "QEC18_Blank_resusp_20181227024429.mzML        1887         864          61   \n",
       "QEC18_Blank_resusp_20181227200515.mzML        1846         836          58   \n",
       "QEC18_Blank_resusp_20181227180406.mzML        2008         899          59   \n",
       "QEC18_Blank_resusp_20181227100129.mzML        2001         900          60   \n",
       "QEC18_Blank_resusp_20181226235330.mzML        1768         820          60   \n",
       "...                                            ...         ...         ...   \n",
       "QEC18RT_F1.mzML                               2837        1093          69   \n",
       "QEC18RT_F1_20181229114729.mzML                2849        1082          69   \n",
       "QEC18RT_F2_20181229083715.mzML                2711        1032          70   \n",
       "QEC18RT_F2_20181228211241.mzML                2737        1035          70   \n",
       "QEC18RT_F1_20181228113615.mzML                2814        1078          72   \n",
       "\n",
       "                                        peak@86.10  ...  peak@604.26  \\\n",
       "QEC18_Blank_resusp_20181227024429.mzML         261  ...          0.0   \n",
       "QEC18_Blank_resusp_20181227200515.mzML         265  ...          0.0   \n",
       "QEC18_Blank_resusp_20181227180406.mzML         271  ...          0.0   \n",
       "QEC18_Blank_resusp_20181227100129.mzML         267  ...          0.0   \n",
       "QEC18_Blank_resusp_20181226235330.mzML         249  ...          0.0   \n",
       "...                                            ...  ...          ...   \n",
       "QEC18RT_F1.mzML                                387  ...          0.0   \n",
       "QEC18RT_F1_20181229114729.mzML                 404  ...          0.0   \n",
       "QEC18RT_F2_20181229083715.mzML                 386  ...          0.0   \n",
       "QEC18RT_F2_20181228211241.mzML                 380  ...          0.0   \n",
       "QEC18RT_F1_20181228113615.mzML                 389  ...          0.0   \n",
       "\n",
       "                                        peak@620.26  peak@679.27  peak@131.23  \\\n",
       "QEC18_Blank_resusp_20181227024429.mzML          0.0          0.0          0.0   \n",
       "QEC18_Blank_resusp_20181227200515.mzML          0.0          0.0          0.0   \n",
       "QEC18_Blank_resusp_20181227180406.mzML          0.0          0.0          0.0   \n",
       "QEC18_Blank_resusp_20181227100129.mzML          0.0          0.0          0.0   \n",
       "QEC18_Blank_resusp_20181226235330.mzML          0.0          0.0          0.0   \n",
       "...                                             ...          ...          ...   \n",
       "QEC18RT_F1.mzML                                 0.0          0.0          0.0   \n",
       "QEC18RT_F1_20181229114729.mzML                  0.0          0.0          0.0   \n",
       "QEC18RT_F2_20181229083715.mzML                  0.0          0.0          0.0   \n",
       "QEC18RT_F2_20181228211241.mzML                  0.0          0.0          0.0   \n",
       "QEC18RT_F1_20181228113615.mzML                  0.0          0.0          0.0   \n",
       "\n",
       "                                        peak@138.34  peak@177.88  peak@235.22  \\\n",
       "QEC18_Blank_resusp_20181227024429.mzML          0.0          0.0          0.0   \n",
       "QEC18_Blank_resusp_20181227200515.mzML          0.0          0.0          0.0   \n",
       "QEC18_Blank_resusp_20181227180406.mzML          0.0          0.0          0.0   \n",
       "QEC18_Blank_resusp_20181227100129.mzML          0.0          0.0          0.0   \n",
       "QEC18_Blank_resusp_20181226235330.mzML          0.0          0.0          0.0   \n",
       "...                                             ...          ...          ...   \n",
       "QEC18RT_F1.mzML                                 0.0          0.0          0.0   \n",
       "QEC18RT_F1_20181229114729.mzML                  0.0          0.0          0.0   \n",
       "QEC18RT_F2_20181229083715.mzML                  0.0          0.0          0.0   \n",
       "QEC18RT_F2_20181228211241.mzML                  0.0          0.0          0.0   \n",
       "QEC18RT_F1_20181228113615.mzML                  0.0          0.0          0.0   \n",
       "\n",
       "                                        peak@262.41  peak@345.96  peak@444.82  \n",
       "QEC18_Blank_resusp_20181227024429.mzML          0.0          0.0          0.0  \n",
       "QEC18_Blank_resusp_20181227200515.mzML          0.0          0.0          0.0  \n",
       "QEC18_Blank_resusp_20181227180406.mzML          0.0          0.0          0.0  \n",
       "QEC18_Blank_resusp_20181227100129.mzML          0.0          0.0          0.0  \n",
       "QEC18_Blank_resusp_20181226235330.mzML          0.0          0.0          0.0  \n",
       "...                                             ...          ...          ...  \n",
       "QEC18RT_F1.mzML                                 0.0          0.0          0.0  \n",
       "QEC18RT_F1_20181229114729.mzML                  0.0          0.0          0.0  \n",
       "QEC18RT_F2_20181229083715.mzML                  0.0          0.0          0.0  \n",
       "QEC18RT_F2_20181228211241.mzML                  0.0          0.0          0.0  \n",
       "QEC18RT_F1_20181228113615.mzML                  0.0          0.0          0.0  \n",
       "\n",
       "[198 rows x 22507 columns]"
      ],
      "text/html": [
       "<div>\n",
       "<style scoped>\n",
       "    .dataframe tbody tr th:only-of-type {\n",
       "        vertical-align: middle;\n",
       "    }\n",
       "\n",
       "    .dataframe tbody tr th {\n",
       "        vertical-align: top;\n",
       "    }\n",
       "\n",
       "    .dataframe thead th {\n",
       "        text-align: right;\n",
       "    }\n",
       "</style>\n",
       "<table border=\"1\" class=\"dataframe\">\n",
       "  <thead>\n",
       "    <tr style=\"text-align: right;\">\n",
       "      <th></th>\n",
       "      <th>peak@71.05</th>\n",
       "      <th>peak@71.09</th>\n",
       "      <th>peak@72.08</th>\n",
       "      <th>peak@78.74</th>\n",
       "      <th>peak@79.05</th>\n",
       "      <th>peak@81.07</th>\n",
       "      <th>peak@83.09</th>\n",
       "      <th>peak@85.10</th>\n",
       "      <th>peak@86.06</th>\n",
       "      <th>peak@86.10</th>\n",
       "      <th>...</th>\n",
       "      <th>peak@604.26</th>\n",
       "      <th>peak@620.26</th>\n",
       "      <th>peak@679.27</th>\n",
       "      <th>peak@131.23</th>\n",
       "      <th>peak@138.34</th>\n",
       "      <th>peak@177.88</th>\n",
       "      <th>peak@235.22</th>\n",
       "      <th>peak@262.41</th>\n",
       "      <th>peak@345.96</th>\n",
       "      <th>peak@444.82</th>\n",
       "    </tr>\n",
       "  </thead>\n",
       "  <tbody>\n",
       "    <tr>\n",
       "      <th>QEC18_Blank_resusp_20181227024429.mzML</th>\n",
       "      <td>749</td>\n",
       "      <td>1245</td>\n",
       "      <td>77</td>\n",
       "      <td>2</td>\n",
       "      <td>1802</td>\n",
       "      <td>2261</td>\n",
       "      <td>1887</td>\n",
       "      <td>864</td>\n",
       "      <td>61</td>\n",
       "      <td>261</td>\n",
       "      <td>...</td>\n",
       "      <td>0.0</td>\n",
       "      <td>0.0</td>\n",
       "      <td>0.0</td>\n",
       "      <td>0.0</td>\n",
       "      <td>0.0</td>\n",
       "      <td>0.0</td>\n",
       "      <td>0.0</td>\n",
       "      <td>0.0</td>\n",
       "      <td>0.0</td>\n",
       "      <td>0.0</td>\n",
       "    </tr>\n",
       "    <tr>\n",
       "      <th>QEC18_Blank_resusp_20181227200515.mzML</th>\n",
       "      <td>734</td>\n",
       "      <td>1215</td>\n",
       "      <td>71</td>\n",
       "      <td>3</td>\n",
       "      <td>1775</td>\n",
       "      <td>2285</td>\n",
       "      <td>1846</td>\n",
       "      <td>836</td>\n",
       "      <td>58</td>\n",
       "      <td>265</td>\n",
       "      <td>...</td>\n",
       "      <td>0.0</td>\n",
       "      <td>0.0</td>\n",
       "      <td>0.0</td>\n",
       "      <td>0.0</td>\n",
       "      <td>0.0</td>\n",
       "      <td>0.0</td>\n",
       "      <td>0.0</td>\n",
       "      <td>0.0</td>\n",
       "      <td>0.0</td>\n",
       "      <td>0.0</td>\n",
       "    </tr>\n",
       "    <tr>\n",
       "      <th>QEC18_Blank_resusp_20181227180406.mzML</th>\n",
       "      <td>774</td>\n",
       "      <td>1297</td>\n",
       "      <td>75</td>\n",
       "      <td>3</td>\n",
       "      <td>1968</td>\n",
       "      <td>2477</td>\n",
       "      <td>2008</td>\n",
       "      <td>899</td>\n",
       "      <td>59</td>\n",
       "      <td>271</td>\n",
       "      <td>...</td>\n",
       "      <td>0.0</td>\n",
       "      <td>0.0</td>\n",
       "      <td>0.0</td>\n",
       "      <td>0.0</td>\n",
       "      <td>0.0</td>\n",
       "      <td>0.0</td>\n",
       "      <td>0.0</td>\n",
       "      <td>0.0</td>\n",
       "      <td>0.0</td>\n",
       "      <td>0.0</td>\n",
       "    </tr>\n",
       "    <tr>\n",
       "      <th>QEC18_Blank_resusp_20181227100129.mzML</th>\n",
       "      <td>771</td>\n",
       "      <td>1303</td>\n",
       "      <td>74</td>\n",
       "      <td>3</td>\n",
       "      <td>1926</td>\n",
       "      <td>2474</td>\n",
       "      <td>2001</td>\n",
       "      <td>900</td>\n",
       "      <td>60</td>\n",
       "      <td>267</td>\n",
       "      <td>...</td>\n",
       "      <td>0.0</td>\n",
       "      <td>0.0</td>\n",
       "      <td>0.0</td>\n",
       "      <td>0.0</td>\n",
       "      <td>0.0</td>\n",
       "      <td>0.0</td>\n",
       "      <td>0.0</td>\n",
       "      <td>0.0</td>\n",
       "      <td>0.0</td>\n",
       "      <td>0.0</td>\n",
       "    </tr>\n",
       "    <tr>\n",
       "      <th>QEC18_Blank_resusp_20181226235330.mzML</th>\n",
       "      <td>707</td>\n",
       "      <td>1187</td>\n",
       "      <td>72</td>\n",
       "      <td>2</td>\n",
       "      <td>1688</td>\n",
       "      <td>2115</td>\n",
       "      <td>1768</td>\n",
       "      <td>820</td>\n",
       "      <td>60</td>\n",
       "      <td>249</td>\n",
       "      <td>...</td>\n",
       "      <td>0.0</td>\n",
       "      <td>0.0</td>\n",
       "      <td>0.0</td>\n",
       "      <td>0.0</td>\n",
       "      <td>0.0</td>\n",
       "      <td>0.0</td>\n",
       "      <td>0.0</td>\n",
       "      <td>0.0</td>\n",
       "      <td>0.0</td>\n",
       "      <td>0.0</td>\n",
       "    </tr>\n",
       "    <tr>\n",
       "      <th>...</th>\n",
       "      <td>...</td>\n",
       "      <td>...</td>\n",
       "      <td>...</td>\n",
       "      <td>...</td>\n",
       "      <td>...</td>\n",
       "      <td>...</td>\n",
       "      <td>...</td>\n",
       "      <td>...</td>\n",
       "      <td>...</td>\n",
       "      <td>...</td>\n",
       "      <td>...</td>\n",
       "      <td>...</td>\n",
       "      <td>...</td>\n",
       "      <td>...</td>\n",
       "      <td>...</td>\n",
       "      <td>...</td>\n",
       "      <td>...</td>\n",
       "      <td>...</td>\n",
       "      <td>...</td>\n",
       "      <td>...</td>\n",
       "      <td>...</td>\n",
       "    </tr>\n",
       "    <tr>\n",
       "      <th>QEC18RT_F1.mzML</th>\n",
       "      <td>950</td>\n",
       "      <td>1668</td>\n",
       "      <td>118</td>\n",
       "      <td>1</td>\n",
       "      <td>2694</td>\n",
       "      <td>3544</td>\n",
       "      <td>2837</td>\n",
       "      <td>1093</td>\n",
       "      <td>69</td>\n",
       "      <td>387</td>\n",
       "      <td>...</td>\n",
       "      <td>0.0</td>\n",
       "      <td>0.0</td>\n",
       "      <td>0.0</td>\n",
       "      <td>0.0</td>\n",
       "      <td>0.0</td>\n",
       "      <td>0.0</td>\n",
       "      <td>0.0</td>\n",
       "      <td>0.0</td>\n",
       "      <td>0.0</td>\n",
       "      <td>0.0</td>\n",
       "    </tr>\n",
       "    <tr>\n",
       "      <th>QEC18RT_F1_20181229114729.mzML</th>\n",
       "      <td>957</td>\n",
       "      <td>1668</td>\n",
       "      <td>114</td>\n",
       "      <td>2</td>\n",
       "      <td>2700</td>\n",
       "      <td>3553</td>\n",
       "      <td>2849</td>\n",
       "      <td>1082</td>\n",
       "      <td>69</td>\n",
       "      <td>404</td>\n",
       "      <td>...</td>\n",
       "      <td>0.0</td>\n",
       "      <td>0.0</td>\n",
       "      <td>0.0</td>\n",
       "      <td>0.0</td>\n",
       "      <td>0.0</td>\n",
       "      <td>0.0</td>\n",
       "      <td>0.0</td>\n",
       "      <td>0.0</td>\n",
       "      <td>0.0</td>\n",
       "      <td>0.0</td>\n",
       "    </tr>\n",
       "    <tr>\n",
       "      <th>QEC18RT_F2_20181229083715.mzML</th>\n",
       "      <td>858</td>\n",
       "      <td>1584</td>\n",
       "      <td>114</td>\n",
       "      <td>1</td>\n",
       "      <td>2540</td>\n",
       "      <td>3389</td>\n",
       "      <td>2711</td>\n",
       "      <td>1032</td>\n",
       "      <td>70</td>\n",
       "      <td>386</td>\n",
       "      <td>...</td>\n",
       "      <td>0.0</td>\n",
       "      <td>0.0</td>\n",
       "      <td>0.0</td>\n",
       "      <td>0.0</td>\n",
       "      <td>0.0</td>\n",
       "      <td>0.0</td>\n",
       "      <td>0.0</td>\n",
       "      <td>0.0</td>\n",
       "      <td>0.0</td>\n",
       "      <td>0.0</td>\n",
       "    </tr>\n",
       "    <tr>\n",
       "      <th>QEC18RT_F2_20181228211241.mzML</th>\n",
       "      <td>860</td>\n",
       "      <td>1588</td>\n",
       "      <td>112</td>\n",
       "      <td>1</td>\n",
       "      <td>2563</td>\n",
       "      <td>3402</td>\n",
       "      <td>2737</td>\n",
       "      <td>1035</td>\n",
       "      <td>70</td>\n",
       "      <td>380</td>\n",
       "      <td>...</td>\n",
       "      <td>0.0</td>\n",
       "      <td>0.0</td>\n",
       "      <td>0.0</td>\n",
       "      <td>0.0</td>\n",
       "      <td>0.0</td>\n",
       "      <td>0.0</td>\n",
       "      <td>0.0</td>\n",
       "      <td>0.0</td>\n",
       "      <td>0.0</td>\n",
       "      <td>0.0</td>\n",
       "    </tr>\n",
       "    <tr>\n",
       "      <th>QEC18RT_F1_20181228113615.mzML</th>\n",
       "      <td>945</td>\n",
       "      <td>1654</td>\n",
       "      <td>116</td>\n",
       "      <td>1</td>\n",
       "      <td>2689</td>\n",
       "      <td>3526</td>\n",
       "      <td>2814</td>\n",
       "      <td>1078</td>\n",
       "      <td>72</td>\n",
       "      <td>389</td>\n",
       "      <td>...</td>\n",
       "      <td>0.0</td>\n",
       "      <td>0.0</td>\n",
       "      <td>0.0</td>\n",
       "      <td>0.0</td>\n",
       "      <td>0.0</td>\n",
       "      <td>0.0</td>\n",
       "      <td>0.0</td>\n",
       "      <td>0.0</td>\n",
       "      <td>0.0</td>\n",
       "      <td>0.0</td>\n",
       "    </tr>\n",
       "  </tbody>\n",
       "</table>\n",
       "<p>198 rows × 22507 columns</p>\n",
       "</div>"
      ]
     },
     "metadata": {},
     "execution_count": 6
    }
   ],
   "metadata": {}
  },
  {
   "cell_type": "markdown",
   "source": [
    "## Filter MEMO matrix\r\n",
    "\r\n",
    "This step allows to filter peaks and losses occuring in blank samples AND to remove blanks samples from the MEMO matrix. In the case of the Qemistree dataset, we just use it to remove the blanks samples"
   ],
   "metadata": {}
  },
  {
   "cell_type": "code",
   "execution_count": 7,
   "source": [
    "memo_matrix_filtered = memo.filter_memo(memo_matrix, 'blank', 100)\r\n",
    "memo_matrix_filtered"
   ],
   "outputs": [
    {
     "output_type": "execute_result",
     "data": {
      "text/plain": [
       "                                     peak@71.05  peak@71.09  peak@72.08  \\\n",
       "QEC18_F1-1_F2-1.mzML                        897        1577         107   \n",
       "QEC18_F1-1_NIST-3.mzML                      875        1566         103   \n",
       "QEC18_F1-1_F2-1_20181227143118.mzML         900        1611         113   \n",
       "QEC18_F1-1_F2-1_20181227084526.mzML         915        1635         109   \n",
       "QEC18_F1-1_F2-1_NIST-2_To-1.mzML           1002        1671         110   \n",
       "...                                         ...         ...         ...   \n",
       "QEC18RT_F1.mzML                             950        1668         118   \n",
       "QEC18RT_F1_20181229114729.mzML              957        1668         114   \n",
       "QEC18RT_F2_20181229083715.mzML              858        1584         114   \n",
       "QEC18RT_F2_20181228211241.mzML              860        1588         112   \n",
       "QEC18RT_F1_20181228113615.mzML              945        1654         116   \n",
       "\n",
       "                                     peak@78.74  peak@79.05  peak@81.07  \\\n",
       "QEC18_F1-1_F2-1.mzML                          2        2553        3364   \n",
       "QEC18_F1-1_NIST-3.mzML                        2        2505        3330   \n",
       "QEC18_F1-1_F2-1_20181227143118.mzML           1        2598        3474   \n",
       "QEC18_F1-1_F2-1_20181227084526.mzML           3        2653        3532   \n",
       "QEC18_F1-1_F2-1_NIST-2_To-1.mzML              3        2991        3913   \n",
       "...                                         ...         ...         ...   \n",
       "QEC18RT_F1.mzML                               1        2694        3544   \n",
       "QEC18RT_F1_20181229114729.mzML                2        2700        3553   \n",
       "QEC18RT_F2_20181229083715.mzML                1        2540        3389   \n",
       "QEC18RT_F2_20181228211241.mzML                1        2563        3402   \n",
       "QEC18RT_F1_20181228113615.mzML                1        2689        3526   \n",
       "\n",
       "                                     peak@83.09  peak@85.10  peak@86.06  \\\n",
       "QEC18_F1-1_F2-1.mzML                       2695        1040          73   \n",
       "QEC18_F1-1_NIST-3.mzML                     2643        1029          72   \n",
       "QEC18_F1-1_F2-1_20181227143118.mzML        2743        1051          70   \n",
       "QEC18_F1-1_F2-1_20181227084526.mzML        2793        1064          71   \n",
       "QEC18_F1-1_F2-1_NIST-2_To-1.mzML           2961        1087          70   \n",
       "...                                         ...         ...         ...   \n",
       "QEC18RT_F1.mzML                            2837        1093          69   \n",
       "QEC18RT_F1_20181229114729.mzML             2849        1082          69   \n",
       "QEC18RT_F2_20181229083715.mzML             2711        1032          70   \n",
       "QEC18RT_F2_20181228211241.mzML             2737        1035          70   \n",
       "QEC18RT_F1_20181228113615.mzML             2814        1078          72   \n",
       "\n",
       "                                     peak@86.10  ...  peak@604.26  \\\n",
       "QEC18_F1-1_F2-1.mzML                        366  ...            0   \n",
       "QEC18_F1-1_NIST-3.mzML                      387  ...            0   \n",
       "QEC18_F1-1_F2-1_20181227143118.mzML         392  ...            0   \n",
       "QEC18_F1-1_F2-1_20181227084526.mzML         390  ...            0   \n",
       "QEC18_F1-1_F2-1_NIST-2_To-1.mzML            460  ...            0   \n",
       "...                                         ...  ...          ...   \n",
       "QEC18RT_F1.mzML                             387  ...            0   \n",
       "QEC18RT_F1_20181229114729.mzML              404  ...            0   \n",
       "QEC18RT_F2_20181229083715.mzML              386  ...            0   \n",
       "QEC18RT_F2_20181228211241.mzML              380  ...            0   \n",
       "QEC18RT_F1_20181228113615.mzML              389  ...            0   \n",
       "\n",
       "                                     peak@620.26  peak@679.27  peak@131.23  \\\n",
       "QEC18_F1-1_F2-1.mzML                           0            0            0   \n",
       "QEC18_F1-1_NIST-3.mzML                         0            0            0   \n",
       "QEC18_F1-1_F2-1_20181227143118.mzML            0            0            0   \n",
       "QEC18_F1-1_F2-1_20181227084526.mzML            0            0            0   \n",
       "QEC18_F1-1_F2-1_NIST-2_To-1.mzML               0            0            0   \n",
       "...                                          ...          ...          ...   \n",
       "QEC18RT_F1.mzML                                0            0            0   \n",
       "QEC18RT_F1_20181229114729.mzML                 0            0            0   \n",
       "QEC18RT_F2_20181229083715.mzML                 0            0            0   \n",
       "QEC18RT_F2_20181228211241.mzML                 0            0            0   \n",
       "QEC18RT_F1_20181228113615.mzML                 0            0            0   \n",
       "\n",
       "                                     peak@138.34  peak@177.88  peak@235.22  \\\n",
       "QEC18_F1-1_F2-1.mzML                           0            0            0   \n",
       "QEC18_F1-1_NIST-3.mzML                         0            0            0   \n",
       "QEC18_F1-1_F2-1_20181227143118.mzML            0            0            0   \n",
       "QEC18_F1-1_F2-1_20181227084526.mzML            0            0            0   \n",
       "QEC18_F1-1_F2-1_NIST-2_To-1.mzML               0            0            0   \n",
       "...                                          ...          ...          ...   \n",
       "QEC18RT_F1.mzML                                0            0            0   \n",
       "QEC18RT_F1_20181229114729.mzML                 0            0            0   \n",
       "QEC18RT_F2_20181229083715.mzML                 0            0            0   \n",
       "QEC18RT_F2_20181228211241.mzML                 0            0            0   \n",
       "QEC18RT_F1_20181228113615.mzML                 0            0            0   \n",
       "\n",
       "                                     peak@262.41  peak@345.96  peak@444.82  \n",
       "QEC18_F1-1_F2-1.mzML                           0            0            0  \n",
       "QEC18_F1-1_NIST-3.mzML                         0            0            0  \n",
       "QEC18_F1-1_F2-1_20181227143118.mzML            0            0            0  \n",
       "QEC18_F1-1_F2-1_20181227084526.mzML            0            0            0  \n",
       "QEC18_F1-1_F2-1_NIST-2_To-1.mzML               0            0            0  \n",
       "...                                          ...          ...          ...  \n",
       "QEC18RT_F1.mzML                                0            0            0  \n",
       "QEC18RT_F1_20181229114729.mzML                 0            0            0  \n",
       "QEC18RT_F2_20181229083715.mzML                 0            0            0  \n",
       "QEC18RT_F2_20181228211241.mzML                 0            0            0  \n",
       "QEC18RT_F1_20181228113615.mzML                 0            0            0  \n",
       "\n",
       "[171 rows x 22507 columns]"
      ],
      "text/html": [
       "<div>\n",
       "<style scoped>\n",
       "    .dataframe tbody tr th:only-of-type {\n",
       "        vertical-align: middle;\n",
       "    }\n",
       "\n",
       "    .dataframe tbody tr th {\n",
       "        vertical-align: top;\n",
       "    }\n",
       "\n",
       "    .dataframe thead th {\n",
       "        text-align: right;\n",
       "    }\n",
       "</style>\n",
       "<table border=\"1\" class=\"dataframe\">\n",
       "  <thead>\n",
       "    <tr style=\"text-align: right;\">\n",
       "      <th></th>\n",
       "      <th>peak@71.05</th>\n",
       "      <th>peak@71.09</th>\n",
       "      <th>peak@72.08</th>\n",
       "      <th>peak@78.74</th>\n",
       "      <th>peak@79.05</th>\n",
       "      <th>peak@81.07</th>\n",
       "      <th>peak@83.09</th>\n",
       "      <th>peak@85.10</th>\n",
       "      <th>peak@86.06</th>\n",
       "      <th>peak@86.10</th>\n",
       "      <th>...</th>\n",
       "      <th>peak@604.26</th>\n",
       "      <th>peak@620.26</th>\n",
       "      <th>peak@679.27</th>\n",
       "      <th>peak@131.23</th>\n",
       "      <th>peak@138.34</th>\n",
       "      <th>peak@177.88</th>\n",
       "      <th>peak@235.22</th>\n",
       "      <th>peak@262.41</th>\n",
       "      <th>peak@345.96</th>\n",
       "      <th>peak@444.82</th>\n",
       "    </tr>\n",
       "  </thead>\n",
       "  <tbody>\n",
       "    <tr>\n",
       "      <th>QEC18_F1-1_F2-1.mzML</th>\n",
       "      <td>897</td>\n",
       "      <td>1577</td>\n",
       "      <td>107</td>\n",
       "      <td>2</td>\n",
       "      <td>2553</td>\n",
       "      <td>3364</td>\n",
       "      <td>2695</td>\n",
       "      <td>1040</td>\n",
       "      <td>73</td>\n",
       "      <td>366</td>\n",
       "      <td>...</td>\n",
       "      <td>0</td>\n",
       "      <td>0</td>\n",
       "      <td>0</td>\n",
       "      <td>0</td>\n",
       "      <td>0</td>\n",
       "      <td>0</td>\n",
       "      <td>0</td>\n",
       "      <td>0</td>\n",
       "      <td>0</td>\n",
       "      <td>0</td>\n",
       "    </tr>\n",
       "    <tr>\n",
       "      <th>QEC18_F1-1_NIST-3.mzML</th>\n",
       "      <td>875</td>\n",
       "      <td>1566</td>\n",
       "      <td>103</td>\n",
       "      <td>2</td>\n",
       "      <td>2505</td>\n",
       "      <td>3330</td>\n",
       "      <td>2643</td>\n",
       "      <td>1029</td>\n",
       "      <td>72</td>\n",
       "      <td>387</td>\n",
       "      <td>...</td>\n",
       "      <td>0</td>\n",
       "      <td>0</td>\n",
       "      <td>0</td>\n",
       "      <td>0</td>\n",
       "      <td>0</td>\n",
       "      <td>0</td>\n",
       "      <td>0</td>\n",
       "      <td>0</td>\n",
       "      <td>0</td>\n",
       "      <td>0</td>\n",
       "    </tr>\n",
       "    <tr>\n",
       "      <th>QEC18_F1-1_F2-1_20181227143118.mzML</th>\n",
       "      <td>900</td>\n",
       "      <td>1611</td>\n",
       "      <td>113</td>\n",
       "      <td>1</td>\n",
       "      <td>2598</td>\n",
       "      <td>3474</td>\n",
       "      <td>2743</td>\n",
       "      <td>1051</td>\n",
       "      <td>70</td>\n",
       "      <td>392</td>\n",
       "      <td>...</td>\n",
       "      <td>0</td>\n",
       "      <td>0</td>\n",
       "      <td>0</td>\n",
       "      <td>0</td>\n",
       "      <td>0</td>\n",
       "      <td>0</td>\n",
       "      <td>0</td>\n",
       "      <td>0</td>\n",
       "      <td>0</td>\n",
       "      <td>0</td>\n",
       "    </tr>\n",
       "    <tr>\n",
       "      <th>QEC18_F1-1_F2-1_20181227084526.mzML</th>\n",
       "      <td>915</td>\n",
       "      <td>1635</td>\n",
       "      <td>109</td>\n",
       "      <td>3</td>\n",
       "      <td>2653</td>\n",
       "      <td>3532</td>\n",
       "      <td>2793</td>\n",
       "      <td>1064</td>\n",
       "      <td>71</td>\n",
       "      <td>390</td>\n",
       "      <td>...</td>\n",
       "      <td>0</td>\n",
       "      <td>0</td>\n",
       "      <td>0</td>\n",
       "      <td>0</td>\n",
       "      <td>0</td>\n",
       "      <td>0</td>\n",
       "      <td>0</td>\n",
       "      <td>0</td>\n",
       "      <td>0</td>\n",
       "      <td>0</td>\n",
       "    </tr>\n",
       "    <tr>\n",
       "      <th>QEC18_F1-1_F2-1_NIST-2_To-1.mzML</th>\n",
       "      <td>1002</td>\n",
       "      <td>1671</td>\n",
       "      <td>110</td>\n",
       "      <td>3</td>\n",
       "      <td>2991</td>\n",
       "      <td>3913</td>\n",
       "      <td>2961</td>\n",
       "      <td>1087</td>\n",
       "      <td>70</td>\n",
       "      <td>460</td>\n",
       "      <td>...</td>\n",
       "      <td>0</td>\n",
       "      <td>0</td>\n",
       "      <td>0</td>\n",
       "      <td>0</td>\n",
       "      <td>0</td>\n",
       "      <td>0</td>\n",
       "      <td>0</td>\n",
       "      <td>0</td>\n",
       "      <td>0</td>\n",
       "      <td>0</td>\n",
       "    </tr>\n",
       "    <tr>\n",
       "      <th>...</th>\n",
       "      <td>...</td>\n",
       "      <td>...</td>\n",
       "      <td>...</td>\n",
       "      <td>...</td>\n",
       "      <td>...</td>\n",
       "      <td>...</td>\n",
       "      <td>...</td>\n",
       "      <td>...</td>\n",
       "      <td>...</td>\n",
       "      <td>...</td>\n",
       "      <td>...</td>\n",
       "      <td>...</td>\n",
       "      <td>...</td>\n",
       "      <td>...</td>\n",
       "      <td>...</td>\n",
       "      <td>...</td>\n",
       "      <td>...</td>\n",
       "      <td>...</td>\n",
       "      <td>...</td>\n",
       "      <td>...</td>\n",
       "      <td>...</td>\n",
       "    </tr>\n",
       "    <tr>\n",
       "      <th>QEC18RT_F1.mzML</th>\n",
       "      <td>950</td>\n",
       "      <td>1668</td>\n",
       "      <td>118</td>\n",
       "      <td>1</td>\n",
       "      <td>2694</td>\n",
       "      <td>3544</td>\n",
       "      <td>2837</td>\n",
       "      <td>1093</td>\n",
       "      <td>69</td>\n",
       "      <td>387</td>\n",
       "      <td>...</td>\n",
       "      <td>0</td>\n",
       "      <td>0</td>\n",
       "      <td>0</td>\n",
       "      <td>0</td>\n",
       "      <td>0</td>\n",
       "      <td>0</td>\n",
       "      <td>0</td>\n",
       "      <td>0</td>\n",
       "      <td>0</td>\n",
       "      <td>0</td>\n",
       "    </tr>\n",
       "    <tr>\n",
       "      <th>QEC18RT_F1_20181229114729.mzML</th>\n",
       "      <td>957</td>\n",
       "      <td>1668</td>\n",
       "      <td>114</td>\n",
       "      <td>2</td>\n",
       "      <td>2700</td>\n",
       "      <td>3553</td>\n",
       "      <td>2849</td>\n",
       "      <td>1082</td>\n",
       "      <td>69</td>\n",
       "      <td>404</td>\n",
       "      <td>...</td>\n",
       "      <td>0</td>\n",
       "      <td>0</td>\n",
       "      <td>0</td>\n",
       "      <td>0</td>\n",
       "      <td>0</td>\n",
       "      <td>0</td>\n",
       "      <td>0</td>\n",
       "      <td>0</td>\n",
       "      <td>0</td>\n",
       "      <td>0</td>\n",
       "    </tr>\n",
       "    <tr>\n",
       "      <th>QEC18RT_F2_20181229083715.mzML</th>\n",
       "      <td>858</td>\n",
       "      <td>1584</td>\n",
       "      <td>114</td>\n",
       "      <td>1</td>\n",
       "      <td>2540</td>\n",
       "      <td>3389</td>\n",
       "      <td>2711</td>\n",
       "      <td>1032</td>\n",
       "      <td>70</td>\n",
       "      <td>386</td>\n",
       "      <td>...</td>\n",
       "      <td>0</td>\n",
       "      <td>0</td>\n",
       "      <td>0</td>\n",
       "      <td>0</td>\n",
       "      <td>0</td>\n",
       "      <td>0</td>\n",
       "      <td>0</td>\n",
       "      <td>0</td>\n",
       "      <td>0</td>\n",
       "      <td>0</td>\n",
       "    </tr>\n",
       "    <tr>\n",
       "      <th>QEC18RT_F2_20181228211241.mzML</th>\n",
       "      <td>860</td>\n",
       "      <td>1588</td>\n",
       "      <td>112</td>\n",
       "      <td>1</td>\n",
       "      <td>2563</td>\n",
       "      <td>3402</td>\n",
       "      <td>2737</td>\n",
       "      <td>1035</td>\n",
       "      <td>70</td>\n",
       "      <td>380</td>\n",
       "      <td>...</td>\n",
       "      <td>0</td>\n",
       "      <td>0</td>\n",
       "      <td>0</td>\n",
       "      <td>0</td>\n",
       "      <td>0</td>\n",
       "      <td>0</td>\n",
       "      <td>0</td>\n",
       "      <td>0</td>\n",
       "      <td>0</td>\n",
       "      <td>0</td>\n",
       "    </tr>\n",
       "    <tr>\n",
       "      <th>QEC18RT_F1_20181228113615.mzML</th>\n",
       "      <td>945</td>\n",
       "      <td>1654</td>\n",
       "      <td>116</td>\n",
       "      <td>1</td>\n",
       "      <td>2689</td>\n",
       "      <td>3526</td>\n",
       "      <td>2814</td>\n",
       "      <td>1078</td>\n",
       "      <td>72</td>\n",
       "      <td>389</td>\n",
       "      <td>...</td>\n",
       "      <td>0</td>\n",
       "      <td>0</td>\n",
       "      <td>0</td>\n",
       "      <td>0</td>\n",
       "      <td>0</td>\n",
       "      <td>0</td>\n",
       "      <td>0</td>\n",
       "      <td>0</td>\n",
       "      <td>0</td>\n",
       "      <td>0</td>\n",
       "    </tr>\n",
       "  </tbody>\n",
       "</table>\n",
       "<p>171 rows × 22507 columns</p>\n",
       "</div>"
      ]
     },
     "metadata": {},
     "execution_count": 7
    }
   ],
   "metadata": {}
  },
  {
   "cell_type": "markdown",
   "source": [
    "## Plotting\r\n",
    "\r\n",
    "We can now use the MEMO matrix to generate the PCoA of our samples"
   ],
   "metadata": {}
  },
  {
   "cell_type": "code",
   "execution_count": 8,
   "source": [
    "\r\n",
    "plot = memo.plot_pcoa_2d(\r\n",
    "    memo_matrix=memo_matrix_filtered,\r\n",
    "    df_metadata=df_meta,\r\n",
    "    metric= 'braycurtis',\r\n",
    "    filename_col = 'Filename',\r\n",
    "    color='contains',\r\n",
    "    norm = False,\r\n",
    "    scaling= False,\r\n",
    "    pc_to_plot = [1,2]\r\n",
    ")"
   ],
   "outputs": [
    {
     "output_type": "stream",
     "name": "stderr",
     "text": [
      "C:\\Users\\gaudrya.FARMA\\Anaconda3\\envs\\memo\\lib\\site-packages\\skbio\\stats\\ordination\\_principal_coordinate_analysis.py:143: RuntimeWarning: The result contains negative eigenvalues. Please compare their magnitude with the magnitude of some of the largest positive eigenvalues. If the negative ones are smaller, it's probably safe to ignore them, but if they are large in magnitude, the results won't be useful. See the Notes section for more details. The smallest eigenvalue is -0.019614578699025866 and the largest is 0.521040583145881.\n",
      "  warn(\n"
     ]
    },
    {
     "output_type": "display_data",
     "data": {
      "application/vnd.plotly.v1+json": {
       "config": {
        "plotlyServerURL": "https://plot.ly"
       },
       "data": [
        {
         "hovertemplate": "<b>%{hovertext}</b><br><br>contains=Plasma<br>PC1 (58.6 %)=%{x}<br>PC2 (15.9 %)=%{y}<extra></extra>",
         "hovertext": [
          "QEC18_NIST_20181227102029.mzML",
          "QEC18_NIST_20181227182328.mzML",
          "QEC18_NIST.mzML",
          "QEC18RT_NIST_20181228191835.mzML",
          "QEC18RT_NIST_20181229031403.mzML",
          "QEC18RT_NIST.mzML"
         ],
         "legendgroup": "Plasma",
         "marker": {
          "color": "#1F77B4",
          "symbol": "circle"
         },
         "mode": "markers",
         "name": "Plasma",
         "orientation": "v",
         "showlegend": true,
         "type": "scatter",
         "x": [
          -0.15628833286350025,
          -0.16000672781494904,
          -0.15278813174928027,
          -0.14710760373883924,
          -0.14472815330313007,
          -0.14078893213183544
         ],
         "xaxis": "x",
         "y": [
          -0.05867154430837179,
          -0.05790027451948689,
          -0.0686034734962964,
          -0.049786335642059525,
          -0.044512545641274895,
          -0.053562156508793396
         ],
         "yaxis": "y"
        },
        {
         "hovertemplate": "<b>%{hovertext}</b><br><br>contains=Tomato<br>PC1 (58.6 %)=%{x}<br>PC2 (15.9 %)=%{y}<extra></extra>",
         "hovertext": [
          "QEC18_To_20181227204313.mzML",
          "QEC18_To_20181227231513.mzML",
          "QEC18_To.mzML",
          "QEC18RT_To_20181229050805.mzML",
          "QEC18RT_To_20181229074015.mzML",
          "QEC18RT_To.mzML"
         ],
         "legendgroup": "Tomato",
         "marker": {
          "color": "#FF7F0E",
          "symbol": "circle"
         },
         "mode": "markers",
         "name": "Tomato",
         "orientation": "v",
         "showlegend": true,
         "type": "scatter",
         "x": [
          -0.12224094716537691,
          -0.10186837404477067,
          -0.11307875658641972,
          -0.08856024115025135,
          -0.08793017339285993,
          -0.08355638519621675
         ],
         "xaxis": "x",
         "y": [
          0.04433786506393936,
          0.04146308508587474,
          0.04456894200294379,
          0.0394524908580843,
          0.039116668863789776,
          0.04081675049209952
         ],
         "yaxis": "y"
        },
        {
         "hovertemplate": "<b>%{hovertext}</b><br><br>contains=Tomato + Plasma<br>PC1 (58.6 %)=%{x}<br>PC2 (15.9 %)=%{y}<extra></extra>",
         "hovertext": [
          "QEC18_To-1_NIST-3_20181227172525.mzML",
          "QEC18_To-1_NIST-3_20181227214013.mzML",
          "QEC18_To-1_NIST-3.mzML",
          "QEC18_To-1_NIST-1_20181227111754.mzML",
          "QEC18_To-1_NIST-1_20181228010915.mzML",
          "QEC18_To-1_NIST-1.mzML",
          "QEC18_To-3_NIST-1_20181227074824.mzML",
          "QEC18_To-3_NIST-1_20181227160801.mzML",
          "QEC18_To-3_NIST-1.mzML",
          "QEC18RT_To-1_NIST-3_20181229021701.mzML",
          "QEC18RT_To-1_NIST-3_20181229060507.mzML",
          "QEC18RT_To-1_NIST-3.mzML",
          "QEC18RT_To-1_NIST-1_20181228201537.mzML",
          "QEC18RT_To-1_NIST-1_20181229093419.mzML",
          "QEC18RT_To-1_NIST-1.mzML",
          "QEC18RT_To-3_NIST-1_20181228162117.mzML",
          "QEC18RT_To-3_NIST-1_20181229010055.mzML",
          "QEC18RT_To-3_NIST-1.mzML"
         ],
         "legendgroup": "Tomato + Plasma",
         "marker": {
          "color": "#2CA02C",
          "symbol": "circle"
         },
         "mode": "markers",
         "name": "Tomato + Plasma",
         "orientation": "v",
         "showlegend": true,
         "type": "scatter",
         "x": [
          -0.08321819319473718,
          -0.10265186636725263,
          -0.08652677993768323,
          -0.10505517403735876,
          -0.10666288181079871,
          -0.1332033006138138,
          -0.10432496071423618,
          -0.12347750975463398,
          -0.09107084681083075,
          -0.07233748394715088,
          -0.0747906134567941,
          -0.07651415601780613,
          -0.09845079660994663,
          -0.08483023987166928,
          -0.10215717383910433,
          -0.0866452820585816,
          -0.0982088600082654,
          -0.08661213452535602
         ],
         "xaxis": "x",
         "y": [
          0.030850370921894,
          0.03160090837534868,
          0.03220651968756125,
          0.041290499137944886,
          0.0360085968126359,
          0.04308154218410958,
          0.03958808887290288,
          0.04331980536370336,
          0.0396113469876749,
          0.031207491409176637,
          0.031930055321228265,
          0.032444320670166955,
          0.03716945112568697,
          0.03470419836650927,
          0.038147704592263146,
          0.04017646322871652,
          0.0422229426857043,
          0.03449097994193837
         ],
         "yaxis": "y"
        },
        {
         "hovertemplate": "<b>%{hovertext}</b><br><br>contains=Fecal_2<br>PC1 (58.6 %)=%{x}<br>PC2 (15.9 %)=%{y}<extra></extra>",
         "hovertext": [
          "QEC18_F2_20181227121553.mzML",
          "QEC18_F2_20181228001213.mzML",
          "QEC18_F2.mzML",
          "QEC18RT_F2_20181228211241.mzML",
          "QEC18RT_F2_20181229083715.mzML",
          "QEC18RT_F2.mzML"
         ],
         "legendgroup": "Fecal_2",
         "marker": {
          "color": "#D62728",
          "symbol": "circle"
         },
         "mode": "markers",
         "name": "Fecal_2",
         "orientation": "v",
         "showlegend": true,
         "type": "scatter",
         "x": [
          -0.01533258002246622,
          -0.025512660137641734,
          -0.019317028756992042,
          -0.0035661012805041797,
          -0.009013788323924445,
          -0.012586026844925302
         ],
         "xaxis": "x",
         "y": [
          -0.02898864046681695,
          -0.029609452573014162,
          -0.026851521377139698,
          -0.023109539566505046,
          -0.025228867809484152,
          -0.025481805074487395
         ],
         "yaxis": "y"
        },
        {
         "hovertemplate": "<b>%{hovertext}</b><br><br>contains=Fecal_2 + Plasma<br>PC1 (58.6 %)=%{x}<br>PC2 (15.9 %)=%{y}<extra></extra>",
         "hovertext": [
          "QEC18_F2-1_NIST-3_20181227103932.mzML",
          "QEC18_F2-1_NIST-3_20181227145038.mzML",
          "QEC18_F2-1_NIST-3.mzML",
          "QEC18_F2-1_NIST-1_20181227212113.mzML",
          "QEC18_F2-1_NIST-1_20181227233413.mzML",
          "QEC18_F2-1_NIST-1.mzML",
          "QEC18_F2-3_NIST-1_20181227162723.mzML",
          "QEC18_F2-3_NIST-1_20181228005015.mzML",
          "QEC18_F2-3_NIST-1.mzML",
          "QEC18RT_F2-1_NIST-3_20181228193737.mzML",
          "QEC18RT_F2-1_NIST-3_20181228234449.mzML",
          "QEC18RT_F2-1_NIST-3.mzML",
          "QEC18RT_F2-1_NIST-1_20181229054607.mzML",
          "QEC18RT_F2-1_NIST-1_20181229075915.mzML",
          "QEC18RT_F2-1_NIST-1.mzML",
          "QEC18RT_F2-3_NIST-1_20181229011957.mzML",
          "QEC18RT_F2-3_NIST-1_20181229091519.mzML",
          "QEC18RT_F2-3_NIST-1.mzML"
         ],
         "legendgroup": "Fecal_2 + Plasma",
         "marker": {
          "color": "#9467BD",
          "symbol": "circle"
         },
         "mode": "markers",
         "name": "Fecal_2 + Plasma",
         "orientation": "v",
         "showlegend": true,
         "type": "scatter",
         "x": [
          -0.026674320529672654,
          -0.0255738118969115,
          -0.05958287999904811,
          -0.0218790299676612,
          -0.023049789215398766,
          -0.013394687643477605,
          -0.02466839983034825,
          -0.016466828345723793,
          -0.013282768374514541,
          -0.020520983189582433,
          -0.0083977555013364,
          -0.015015024121816212,
          -0.0064825789280658535,
          -0.0037989631961637084,
          0.00040224280029581326,
          -0.0063603865490392255,
          0.0007386714226982847,
          -0.008935702005802007
         ],
         "xaxis": "x",
         "y": [
          -0.03074007587051559,
          -0.03349298289363797,
          -0.030173862942431337,
          -0.03025169658049939,
          -0.025917324374991516,
          -0.023929268433948783,
          -0.02851275796377961,
          -0.027895559296843828,
          -0.031116266004875808,
          -0.02465495213660431,
          -0.026155265373710854,
          -0.02260947134499186,
          -0.021568388913924916,
          -0.01821385772622357,
          -0.018082361283761974,
          -0.020193536201561314,
          -0.02103709176139459,
          -0.025227821045708053
         ],
         "yaxis": "y"
        },
        {
         "hovertemplate": "<b>%{hovertext}</b><br><br>contains=Fecal_2 + Tomato<br>PC1 (58.6 %)=%{x}<br>PC2 (15.9 %)=%{y}<extra></extra>",
         "hovertext": [
          "QEC18_F2-1_To-3_20181226223728.mzML",
          "QEC18_F2-1_To-3_20181227041925.mzML",
          "QEC18_F2-1_To-3.mzML",
          "QEC18_F2-1_To-1_20181227150959.mzML",
          "QEC18_F2-1_To-1_20181228014719.mzML",
          "QEC18_F2-1_To-1.mzML",
          "QEC18_F2-3_To-1_20181227082626.mzML",
          "QEC18_F2-3_To-1_20181227164643.mzML",
          "QEC18_F2-3_To-1.mzML",
          "QEC18RT_F2-1_To-3_20181228071021.mzML",
          "QEC18RT_F2-1_To-3_20181228125213.mzML",
          "QEC18RT_F2-1_To-3.mzML",
          "QEC18RT_F2-1_To-1_20181229000349.mzML",
          "QEC18RT_F2-1_To-1_20181229101223.mzML",
          "QEC18RT_F2-1_To-1.mzML",
          "QEC18RT_F2-3_To-1_20181228165919.mzML",
          "QEC18RT_F2-3_To-1_20181229013857.mzML",
          "QEC18RT_F2-3_To-1.mzML"
         ],
         "legendgroup": "Fecal_2 + Tomato",
         "marker": {
          "color": "#8C564B",
          "symbol": "circle"
         },
         "mode": "markers",
         "name": "Fecal_2 + Tomato",
         "orientation": "v",
         "showlegend": true,
         "type": "scatter",
         "x": [
          -0.0036282976150318396,
          0.012143120468656728,
          -0.004080992488287858,
          0.006233356316776948,
          0.009540234045246437,
          0.008402713129783647,
          0.015160440319083219,
          0.007092888050038995,
          0.004485773391016902,
          0.012482546356250682,
          0.012441199688789206,
          0.01028022234651536,
          0.01960495003578669,
          0.021674377380374612,
          0.01806115870767171,
          0.02213873270337357,
          0.019357260400298785,
          0.01680585155857856
         ],
         "xaxis": "x",
         "y": [
          0.022583941997678762,
          0.02603160754362635,
          0.02227010738266653,
          0.018967736454360562,
          0.022141589948834594,
          0.020728502426331324,
          0.017103248381723023,
          0.015686307372979574,
          0.012193919311856599,
          0.025712752260685805,
          0.028055404222546744,
          0.025052364367757242,
          0.023806421297831372,
          0.0251772082007512,
          0.027260895275751745,
          0.02463564970069837,
          0.02283475180923026,
          0.019530957427047833
         ],
         "yaxis": "y"
        },
        {
         "hovertemplate": "<b>%{hovertext}</b><br><br>contains=Fecal_1<br>PC1 (58.6 %)=%{x}<br>PC2 (15.9 %)=%{y}<extra></extra>",
         "hovertext": [
          "QEC18_F1_20181227030329.mzML",
          "QEC18_F1_20181228032223.mzML",
          "QEC18_F1.mzML",
          "QEC18RT_F1_20181228113615.mzML",
          "QEC18RT_F1_20181229114729.mzML",
          "QEC18RT_F1.mzML"
         ],
         "legendgroup": "Fecal_1",
         "marker": {
          "color": "#E377C2",
          "symbol": "circle"
         },
         "mode": "markers",
         "name": "Fecal_1",
         "orientation": "v",
         "showlegend": true,
         "type": "scatter",
         "x": [
          0.013361534121340007,
          0.011912306684185187,
          0.011431996477190388,
          0.02405715622221142,
          0.029895616918920488,
          0.02812986594001952
         ],
         "xaxis": "x",
         "y": [
          -0.036350457472423645,
          -0.03884064139141349,
          -0.03658735276784018,
          -0.030617284635011458,
          -0.03003767559068138,
          -0.02882246357666048
         ],
         "yaxis": "y"
        },
        {
         "hovertemplate": "<b>%{hovertext}</b><br><br>contains=Fecal_1 + Fecal_2 + Tomato + Plasma<br>PC1 (58.6 %)=%{x}<br>PC2 (15.9 %)=%{y}<extra></extra>",
         "hovertext": [
          "QEC18_F1-1_F2-1_NIST-2_To-1_20181227152919.mzML",
          "QEC18_F1-1_F2-1_NIST-2_To-1_20181227225613.mzML",
          "QEC18_F1-1_F2-1_NIST-2_To-1.mzML",
          "QEC18_F1-1_F2-1_NIST-1_To-2_20181227113714.mzML",
          "QEC18_F1-1_F2-1_NIST-1_To-2_20181227184249.mzML",
          "QEC18_F1-1_F2-1_NIST-1_To-2.mzML",
          "QEC18_F1-1_F2-2_NIST-1_To-1_20181227065123.mzML",
          "QEC18_F1-1_F2-2_NIST-1_To-1_20181228034123.mzML",
          "QEC18_F1-1_F2-2_NIST-1_To-1.mzML",
          "QEC18_Qcmix_begin.mzML",
          "QEC18_Qcmix_middle.mzML",
          "QEC18_Qcmix_end.mzML",
          "QEC18_Qcmix_end_20181228041923.mzML",
          "QEC18RT_Qcmix_begin.mzML",
          "QEC18RT_Qcmix_middle.mzML",
          "QEC18RT_Qcmix_end.mzML",
          "QEC18_F1-1_F2-1_NIST-1_To-1_20181227125436.mzML",
          "QEC18_F1-1_F2-1_NIST-1_To-1_20181227135238.mzML",
          "QEC18_F1-1_F2-1_NIST-1_To-1.mzML",
          "QEC18_F1-2_F2-1_NIST-1_To-1_20181228020619.mzML",
          "QEC18_F1-2_F2-1_NIST-1_To-1_20181228022521.mzML",
          "QEC18_F1-2_F2-1_NIST-1_To-1.mzML",
          "QEC18RT_F1-1_F2-1_NIST-2_To-1_20181229002251.mzML",
          "QEC18RT_F1-1_F2-1_NIST-2_To-1_20181229072113.mzML",
          "QEC18RT_F1-1_F2-1_NIST-2_To-1.mzML",
          "QEC18RT_F1-1_F2-1_NIST-1_To-2_20181228203439.mzML",
          "QEC18RT_F1-1_F2-1_NIST-1_To-2_20181229033303.mzML",
          "QEC18RT_F1-1_F2-1_NIST-1_To-2.mzML",
          "QEC18RT_F1-1_F2-2_NIST-1_To-1_20181228152413.mzML",
          "QEC18RT_F1-1_F2-2_NIST-1_To-1_20181229120629.mzML",
          "QEC18RT_F1-1_F2-2_NIST-1_To-1.mzML",
          "QEC18RT_F1-1_F2-1_NIST-1_To-1_20181228215043.mzML",
          "QEC18RT_F1-1_F2-1_NIST-1_To-1_20181228224749.mzML",
          "QEC18RT_F1-1_F2-1_NIST-1_To-1.mzML",
          "QEC18RT_F1-2_F2-1_NIST-1_To-1_20181229103125.mzML",
          "QEC18RT_F1-2_F2-1_NIST-1_To-1_20181229105027.mzML",
          "QEC18RT_F1-2_F2-1_NIST-1_To-1.mzML"
         ],
         "legendgroup": "Fecal_1 + Fecal_2 + Tomato + Plasma",
         "marker": {
          "color": "#7F7F7F",
          "symbol": "circle"
         },
         "mode": "markers",
         "name": "Fecal_1 + Fecal_2 + Tomato + Plasma",
         "orientation": "v",
         "showlegend": true,
         "type": "scatter",
         "x": [
          0.041594478987895735,
          0.0436898276481982,
          0.04915652600656792,
          0.044229342306687756,
          0.043758862114404634,
          0.044170071015883536,
          0.04699386271658597,
          0.04422752058481049,
          0.04509802200543976,
          0.03557146384957002,
          0.04984050809979663,
          0.04762510537040839,
          0.04760853682748765,
          0.03313445661250214,
          0.054405230090409436,
          0.05193441046953976,
          0.04688990987446926,
          0.04995173889633196,
          0.0472405349765684,
          0.04067566584854825,
          0.04764235138682972,
          0.04118692630020254,
          0.051967280307003,
          0.04879708450224117,
          0.054658718982310533,
          0.05715453118461447,
          0.050435122178201036,
          0.055246750834206965,
          0.05760023330470477,
          0.0518440239822527,
          0.050650691354112674,
          0.055856201995894736,
          0.05307576109830163,
          0.05021792805443359,
          0.053984317727855856,
          0.055537877121453805,
          0.056418666523957633
         ],
         "xaxis": "x",
         "y": [
          0.014247846224588606,
          0.01518577108556316,
          0.018729436016645513,
          0.02034836283357138,
          0.018982937948667733,
          0.0205466896347521,
          0.015607667221988931,
          0.014840770591464473,
          0.01514549143985292,
          0.011672736223953598,
          0.019700583981598557,
          0.017417095234481362,
          0.01923353613931106,
          0.011746175496533073,
          0.020019155078793465,
          0.019082085986321343,
          0.015895587269335612,
          0.018535033351977884,
          0.018161902530759007,
          0.012964043034532368,
          0.015945148799275895,
          0.013595483374769778,
          0.019315919894622606,
          0.018226527061184737,
          0.020505476361382568,
          0.021050627445638834,
          0.01888263314555585,
          0.022135319831494853,
          0.02007325997364166,
          0.016932308770913094,
          0.01704534247286175,
          0.019776222168532077,
          0.019231240155433562,
          0.017145163742426327,
          0.01815476842485967,
          0.018558754611990764,
          0.019257680347643365
         ],
         "yaxis": "y"
        },
        {
         "hovertemplate": "<b>%{hovertext}</b><br><br>contains=Fecal_1 + Plasma<br>PC1 (58.6 %)=%{x}<br>PC2 (15.9 %)=%{y}<extra></extra>",
         "hovertext": [
          "QEC18_F1-1_NIST-3_20181227133316.mzML",
          "QEC18_F1-1_NIST-3_20181228012817.mzML",
          "QEC18_F1-1_NIST-3.mzML",
          "QEC18_F1-1_NIST-1_20181227210213.mzML",
          "QEC18_F1-1_NIST-1_20181227215913.mzML",
          "QEC18_F1-1_NIST-1.mzML",
          "QEC18_F1-3_NIST-1_20181227045725.mzML",
          "QEC18_F1-3_NIST-1_20181227170603.mzML",
          "QEC18_F1-3_NIST-1.mzML",
          "QEC18RT_F1-1_NIST-3_20181228222847.mzML",
          "QEC18RT_F1-1_NIST-3_20181229095321.mzML",
          "QEC18RT_F1-1_NIST-3.mzML",
          "QEC18RT_F1-1_NIST-1_20181229052705.mzML",
          "QEC18RT_F1-1_NIST-1_20181229062407.mzML",
          "QEC18RT_F1-1_NIST-1.mzML",
          "QEC18RT_F1-3_NIST-1_20181228133015.mzML",
          "QEC18RT_F1-3_NIST-1_20181229015759.mzML",
          "QEC18RT_F1-3_NIST-1.mzML"
         ],
         "legendgroup": "Fecal_1 + Plasma",
         "marker": {
          "color": "#BCBD22",
          "symbol": "circle"
         },
         "mode": "markers",
         "name": "Fecal_1 + Plasma",
         "orientation": "v",
         "showlegend": true,
         "type": "scatter",
         "x": [
          -0.003809926057890582,
          0.0026514671867523504,
          -0.01046762737570524,
          0.00805293945494643,
          0.005157389631590962,
          0.0036599776483444723,
          0.021228354579734467,
          0.01362385634982506,
          0.013311117631240743,
          0.01919027722030356,
          0.024437293306659516,
          0.016285315560886183,
          0.023799178903514958,
          0.022514502487292753,
          0.019604497921396777,
          0.028670608760014087,
          0.02470663325030185,
          0.025778690862018408
         ],
         "xaxis": "x",
         "y": [
          -0.03971626381954704,
          -0.035316209509192086,
          -0.04415536921394721,
          -0.03443039838604512,
          -0.03795468174786693,
          -0.0392082459644826,
          -0.03412130363785067,
          -0.03623135766346846,
          -0.037761508184268856,
          -0.032048613454430476,
          -0.028312154240796715,
          -0.032074551101800367,
          -0.02910083555708148,
          -0.02912652284952421,
          -0.032022756614719955,
          -0.027196906785463156,
          -0.03132108493619644,
          -0.03030980594339635
         ],
         "yaxis": "y"
        },
        {
         "hovertemplate": "<b>%{hovertext}</b><br><br>contains=Fecal_1 + Tomato<br>PC1 (58.6 %)=%{x}<br>PC2 (15.9 %)=%{y}<extra></extra>",
         "hovertext": [
          "QEC18_F1-1_To-3_20181227174446.mzML",
          "QEC18_F1-1_To-3_20181227223713.mzML",
          "QEC18_F1-1_To-3.mzML",
          "QEC18_F1-1_To-1_20181227043825.mzML",
          "QEC18_F1-1_To-1_20181227123513.mzML",
          "QEC18_F1-1_To-1.mzML",
          "QEC18_F1-3_To-1_20181228003115.mzML",
          "QEC18_F1-3_To-1_20181228024423.mzML",
          "QEC18_F1-3_To-1.mzML",
          "QEC18RT_F1-1_To-3_20181229023601.mzML",
          "QEC18RT_F1-1_To-3_20181229070211.mzML",
          "QEC18RT_F1-1_To-3.mzML",
          "QEC18RT_F1-1_To-1_20181228131115.mzML",
          "QEC18RT_F1-1_To-1_20181228213143.mzML",
          "QEC18RT_F1-1_To-1.mzML",
          "QEC18RT_F1-3_To-1_20181229085617.mzML",
          "QEC18RT_F1-3_To-1_20181229110929.mzML",
          "QEC18RT_F1-3_To-1.mzML"
         ],
         "legendgroup": "Fecal_1 + Tomato",
         "marker": {
          "color": "#17BECF",
          "symbol": "circle"
         },
         "mode": "markers",
         "name": "Fecal_1 + Tomato",
         "orientation": "v",
         "showlegend": true,
         "type": "scatter",
         "x": [
          0.03617037501397674,
          0.039244876664156166,
          0.023130518289187687,
          0.043193768749447865,
          0.038995935927579266,
          0.045153269643713634,
          0.043594457229061294,
          0.042612824731232596,
          0.0466790818035571,
          0.04421727957193404,
          0.043567102021159314,
          0.04785727443217223,
          0.04760793601283287,
          0.05152150041259839,
          0.04291381530593089,
          0.051723014436073494,
          0.04874590375021106,
          0.0491464404352008
         ],
         "xaxis": "x",
         "y": [
          0.021743014058089323,
          0.0214147906565849,
          0.008057796899928487,
          0.020162117948664005,
          0.0181893445977099,
          0.02117703744421913,
          0.01385419115556686,
          0.016416935467165935,
          0.016849417586969683,
          0.021401948357504634,
          0.021781313910919853,
          0.022013473455957274,
          0.02080225469952355,
          0.019948276213017525,
          0.019237958533284708,
          0.016960471524508563,
          0.01484331053748965,
          0.018356973792150646
         ],
         "yaxis": "y"
        },
        {
         "hovertemplate": "<b>%{hovertext}</b><br><br>contains=Fecal_1 + Fecal_2<br>PC1 (58.6 %)=%{x}<br>PC2 (15.9 %)=%{y}<extra></extra>",
         "hovertext": [
          "QEC18_F1-1_F2-3_20181227012831.mzML",
          "QEC18_F1-1_F2-3_20181227071023.mzML",
          "QEC18_F1-1_F2-3.mzML",
          "QEC18_F1-1_F2-1_20181227084526.mzML",
          "QEC18_F1-1_F2-1_20181227143118.mzML",
          "QEC18_F1-1_F2-1.mzML",
          "QEC18_F1-3_F2-1_20181227131356.mzML",
          "QEC18_F1-3_F2-1_20181227190209.mzML",
          "QEC18_F1-3_F2-1.mzML",
          "QEC18RT_F1-1_F2-3_20181228100117.mzML",
          "QEC18RT_F1-1_F2-3_20181228154315.mzML",
          "QEC18RT_F1-1_F2-3.mzML",
          "QEC18RT_F1-1_F2-1_20181228171821.mzML",
          "QEC18RT_F1-1_F2-1_20181228232549.mzML",
          "QEC18RT_F1-1_F2-1.mzML",
          "QEC18RT_F1-3_F2-1_20181228220945.mzML",
          "QEC18RT_F1-3_F2-1_20181229035205.mzML",
          "QEC18RT_F1-3_F2-1.mzML"
         ],
         "legendgroup": "Fecal_1 + Fecal_2",
         "marker": {
          "color": "#1F77B4",
          "symbol": "circle"
         },
         "mode": "markers",
         "name": "Fecal_1 + Fecal_2",
         "orientation": "v",
         "showlegend": true,
         "type": "scatter",
         "x": [
          0.021240612118571395,
          0.023573600463131013,
          0.017095837178723525,
          0.019604694792054504,
          0.011022737807549766,
          0.0032416027373243705,
          0.020857914446848022,
          0.01685273179738626,
          0.02212908473420035,
          0.03180278584386775,
          0.03246319429946248,
          0.027811153872101174,
          0.029290163521997252,
          0.028291714283946584,
          0.0280822695933382,
          0.033770018609950554,
          0.029526942612295312,
          0.025770660387998127
         ],
         "xaxis": "x",
         "y": [
          -0.026195178529191107,
          -0.028597222368692166,
          -0.032839836539183,
          -0.032927581606794765,
          -0.03407453322952073,
          -0.04056405628916806,
          -0.03215460626873828,
          -0.03415944721054495,
          -0.03218851376455234,
          -0.02222148379798998,
          -0.024202581404533116,
          -0.026031207140458108,
          -0.02633989390159636,
          -0.028011375296868035,
          -0.0283136329658156,
          -0.027175967226541246,
          -0.028176702175837585,
          -0.028768902287159212
         ],
         "yaxis": "y"
        }
       ],
       "layout": {
        "height": 650,
        "legend": {
         "title": {
          "text": "contains"
         },
         "tracegroupgap": 0
        },
        "template": {
         "data": {
          "bar": [
           {
            "error_x": {
             "color": "rgb(36,36,36)"
            },
            "error_y": {
             "color": "rgb(36,36,36)"
            },
            "marker": {
             "line": {
              "color": "white",
              "width": 0.5
             },
             "pattern": {
              "fillmode": "overlay",
              "size": 10,
              "solidity": 0.2
             }
            },
            "type": "bar"
           }
          ],
          "barpolar": [
           {
            "marker": {
             "line": {
              "color": "white",
              "width": 0.5
             },
             "pattern": {
              "fillmode": "overlay",
              "size": 10,
              "solidity": 0.2
             }
            },
            "type": "barpolar"
           }
          ],
          "carpet": [
           {
            "aaxis": {
             "endlinecolor": "rgb(36,36,36)",
             "gridcolor": "white",
             "linecolor": "white",
             "minorgridcolor": "white",
             "startlinecolor": "rgb(36,36,36)"
            },
            "baxis": {
             "endlinecolor": "rgb(36,36,36)",
             "gridcolor": "white",
             "linecolor": "white",
             "minorgridcolor": "white",
             "startlinecolor": "rgb(36,36,36)"
            },
            "type": "carpet"
           }
          ],
          "choropleth": [
           {
            "colorbar": {
             "outlinewidth": 1,
             "tickcolor": "rgb(36,36,36)",
             "ticks": "outside"
            },
            "type": "choropleth"
           }
          ],
          "contour": [
           {
            "colorbar": {
             "outlinewidth": 1,
             "tickcolor": "rgb(36,36,36)",
             "ticks": "outside"
            },
            "colorscale": [
             [
              0,
              "#440154"
             ],
             [
              0.1111111111111111,
              "#482878"
             ],
             [
              0.2222222222222222,
              "#3e4989"
             ],
             [
              0.3333333333333333,
              "#31688e"
             ],
             [
              0.4444444444444444,
              "#26828e"
             ],
             [
              0.5555555555555556,
              "#1f9e89"
             ],
             [
              0.6666666666666666,
              "#35b779"
             ],
             [
              0.7777777777777778,
              "#6ece58"
             ],
             [
              0.8888888888888888,
              "#b5de2b"
             ],
             [
              1,
              "#fde725"
             ]
            ],
            "type": "contour"
           }
          ],
          "contourcarpet": [
           {
            "colorbar": {
             "outlinewidth": 1,
             "tickcolor": "rgb(36,36,36)",
             "ticks": "outside"
            },
            "type": "contourcarpet"
           }
          ],
          "heatmap": [
           {
            "colorbar": {
             "outlinewidth": 1,
             "tickcolor": "rgb(36,36,36)",
             "ticks": "outside"
            },
            "colorscale": [
             [
              0,
              "#440154"
             ],
             [
              0.1111111111111111,
              "#482878"
             ],
             [
              0.2222222222222222,
              "#3e4989"
             ],
             [
              0.3333333333333333,
              "#31688e"
             ],
             [
              0.4444444444444444,
              "#26828e"
             ],
             [
              0.5555555555555556,
              "#1f9e89"
             ],
             [
              0.6666666666666666,
              "#35b779"
             ],
             [
              0.7777777777777778,
              "#6ece58"
             ],
             [
              0.8888888888888888,
              "#b5de2b"
             ],
             [
              1,
              "#fde725"
             ]
            ],
            "type": "heatmap"
           }
          ],
          "heatmapgl": [
           {
            "colorbar": {
             "outlinewidth": 1,
             "tickcolor": "rgb(36,36,36)",
             "ticks": "outside"
            },
            "colorscale": [
             [
              0,
              "#440154"
             ],
             [
              0.1111111111111111,
              "#482878"
             ],
             [
              0.2222222222222222,
              "#3e4989"
             ],
             [
              0.3333333333333333,
              "#31688e"
             ],
             [
              0.4444444444444444,
              "#26828e"
             ],
             [
              0.5555555555555556,
              "#1f9e89"
             ],
             [
              0.6666666666666666,
              "#35b779"
             ],
             [
              0.7777777777777778,
              "#6ece58"
             ],
             [
              0.8888888888888888,
              "#b5de2b"
             ],
             [
              1,
              "#fde725"
             ]
            ],
            "type": "heatmapgl"
           }
          ],
          "histogram": [
           {
            "marker": {
             "line": {
              "color": "white",
              "width": 0.6
             }
            },
            "type": "histogram"
           }
          ],
          "histogram2d": [
           {
            "colorbar": {
             "outlinewidth": 1,
             "tickcolor": "rgb(36,36,36)",
             "ticks": "outside"
            },
            "colorscale": [
             [
              0,
              "#440154"
             ],
             [
              0.1111111111111111,
              "#482878"
             ],
             [
              0.2222222222222222,
              "#3e4989"
             ],
             [
              0.3333333333333333,
              "#31688e"
             ],
             [
              0.4444444444444444,
              "#26828e"
             ],
             [
              0.5555555555555556,
              "#1f9e89"
             ],
             [
              0.6666666666666666,
              "#35b779"
             ],
             [
              0.7777777777777778,
              "#6ece58"
             ],
             [
              0.8888888888888888,
              "#b5de2b"
             ],
             [
              1,
              "#fde725"
             ]
            ],
            "type": "histogram2d"
           }
          ],
          "histogram2dcontour": [
           {
            "colorbar": {
             "outlinewidth": 1,
             "tickcolor": "rgb(36,36,36)",
             "ticks": "outside"
            },
            "colorscale": [
             [
              0,
              "#440154"
             ],
             [
              0.1111111111111111,
              "#482878"
             ],
             [
              0.2222222222222222,
              "#3e4989"
             ],
             [
              0.3333333333333333,
              "#31688e"
             ],
             [
              0.4444444444444444,
              "#26828e"
             ],
             [
              0.5555555555555556,
              "#1f9e89"
             ],
             [
              0.6666666666666666,
              "#35b779"
             ],
             [
              0.7777777777777778,
              "#6ece58"
             ],
             [
              0.8888888888888888,
              "#b5de2b"
             ],
             [
              1,
              "#fde725"
             ]
            ],
            "type": "histogram2dcontour"
           }
          ],
          "mesh3d": [
           {
            "colorbar": {
             "outlinewidth": 1,
             "tickcolor": "rgb(36,36,36)",
             "ticks": "outside"
            },
            "type": "mesh3d"
           }
          ],
          "parcoords": [
           {
            "line": {
             "colorbar": {
              "outlinewidth": 1,
              "tickcolor": "rgb(36,36,36)",
              "ticks": "outside"
             }
            },
            "type": "parcoords"
           }
          ],
          "pie": [
           {
            "automargin": true,
            "type": "pie"
           }
          ],
          "scatter": [
           {
            "marker": {
             "colorbar": {
              "outlinewidth": 1,
              "tickcolor": "rgb(36,36,36)",
              "ticks": "outside"
             }
            },
            "type": "scatter"
           }
          ],
          "scatter3d": [
           {
            "line": {
             "colorbar": {
              "outlinewidth": 1,
              "tickcolor": "rgb(36,36,36)",
              "ticks": "outside"
             }
            },
            "marker": {
             "colorbar": {
              "outlinewidth": 1,
              "tickcolor": "rgb(36,36,36)",
              "ticks": "outside"
             }
            },
            "type": "scatter3d"
           }
          ],
          "scattercarpet": [
           {
            "marker": {
             "colorbar": {
              "outlinewidth": 1,
              "tickcolor": "rgb(36,36,36)",
              "ticks": "outside"
             }
            },
            "type": "scattercarpet"
           }
          ],
          "scattergeo": [
           {
            "marker": {
             "colorbar": {
              "outlinewidth": 1,
              "tickcolor": "rgb(36,36,36)",
              "ticks": "outside"
             }
            },
            "type": "scattergeo"
           }
          ],
          "scattergl": [
           {
            "marker": {
             "colorbar": {
              "outlinewidth": 1,
              "tickcolor": "rgb(36,36,36)",
              "ticks": "outside"
             }
            },
            "type": "scattergl"
           }
          ],
          "scattermapbox": [
           {
            "marker": {
             "colorbar": {
              "outlinewidth": 1,
              "tickcolor": "rgb(36,36,36)",
              "ticks": "outside"
             }
            },
            "type": "scattermapbox"
           }
          ],
          "scatterpolar": [
           {
            "marker": {
             "colorbar": {
              "outlinewidth": 1,
              "tickcolor": "rgb(36,36,36)",
              "ticks": "outside"
             }
            },
            "type": "scatterpolar"
           }
          ],
          "scatterpolargl": [
           {
            "marker": {
             "colorbar": {
              "outlinewidth": 1,
              "tickcolor": "rgb(36,36,36)",
              "ticks": "outside"
             }
            },
            "type": "scatterpolargl"
           }
          ],
          "scatterternary": [
           {
            "marker": {
             "colorbar": {
              "outlinewidth": 1,
              "tickcolor": "rgb(36,36,36)",
              "ticks": "outside"
             }
            },
            "type": "scatterternary"
           }
          ],
          "surface": [
           {
            "colorbar": {
             "outlinewidth": 1,
             "tickcolor": "rgb(36,36,36)",
             "ticks": "outside"
            },
            "colorscale": [
             [
              0,
              "#440154"
             ],
             [
              0.1111111111111111,
              "#482878"
             ],
             [
              0.2222222222222222,
              "#3e4989"
             ],
             [
              0.3333333333333333,
              "#31688e"
             ],
             [
              0.4444444444444444,
              "#26828e"
             ],
             [
              0.5555555555555556,
              "#1f9e89"
             ],
             [
              0.6666666666666666,
              "#35b779"
             ],
             [
              0.7777777777777778,
              "#6ece58"
             ],
             [
              0.8888888888888888,
              "#b5de2b"
             ],
             [
              1,
              "#fde725"
             ]
            ],
            "type": "surface"
           }
          ],
          "table": [
           {
            "cells": {
             "fill": {
              "color": "rgb(237,237,237)"
             },
             "line": {
              "color": "white"
             }
            },
            "header": {
             "fill": {
              "color": "rgb(217,217,217)"
             },
             "line": {
              "color": "white"
             }
            },
            "type": "table"
           }
          ]
         },
         "layout": {
          "annotationdefaults": {
           "arrowhead": 0,
           "arrowwidth": 1
          },
          "autotypenumbers": "strict",
          "coloraxis": {
           "colorbar": {
            "outlinewidth": 1,
            "tickcolor": "rgb(36,36,36)",
            "ticks": "outside"
           }
          },
          "colorscale": {
           "diverging": [
            [
             0,
             "rgb(103,0,31)"
            ],
            [
             0.1,
             "rgb(178,24,43)"
            ],
            [
             0.2,
             "rgb(214,96,77)"
            ],
            [
             0.3,
             "rgb(244,165,130)"
            ],
            [
             0.4,
             "rgb(253,219,199)"
            ],
            [
             0.5,
             "rgb(247,247,247)"
            ],
            [
             0.6,
             "rgb(209,229,240)"
            ],
            [
             0.7,
             "rgb(146,197,222)"
            ],
            [
             0.8,
             "rgb(67,147,195)"
            ],
            [
             0.9,
             "rgb(33,102,172)"
            ],
            [
             1,
             "rgb(5,48,97)"
            ]
           ],
           "sequential": [
            [
             0,
             "#440154"
            ],
            [
             0.1111111111111111,
             "#482878"
            ],
            [
             0.2222222222222222,
             "#3e4989"
            ],
            [
             0.3333333333333333,
             "#31688e"
            ],
            [
             0.4444444444444444,
             "#26828e"
            ],
            [
             0.5555555555555556,
             "#1f9e89"
            ],
            [
             0.6666666666666666,
             "#35b779"
            ],
            [
             0.7777777777777778,
             "#6ece58"
            ],
            [
             0.8888888888888888,
             "#b5de2b"
            ],
            [
             1,
             "#fde725"
            ]
           ],
           "sequentialminus": [
            [
             0,
             "#440154"
            ],
            [
             0.1111111111111111,
             "#482878"
            ],
            [
             0.2222222222222222,
             "#3e4989"
            ],
            [
             0.3333333333333333,
             "#31688e"
            ],
            [
             0.4444444444444444,
             "#26828e"
            ],
            [
             0.5555555555555556,
             "#1f9e89"
            ],
            [
             0.6666666666666666,
             "#35b779"
            ],
            [
             0.7777777777777778,
             "#6ece58"
            ],
            [
             0.8888888888888888,
             "#b5de2b"
            ],
            [
             1,
             "#fde725"
            ]
           ]
          },
          "colorway": [
           "#1F77B4",
           "#FF7F0E",
           "#2CA02C",
           "#D62728",
           "#9467BD",
           "#8C564B",
           "#E377C2",
           "#7F7F7F",
           "#BCBD22",
           "#17BECF"
          ],
          "font": {
           "color": "rgb(36,36,36)"
          },
          "geo": {
           "bgcolor": "white",
           "lakecolor": "white",
           "landcolor": "white",
           "showlakes": true,
           "showland": true,
           "subunitcolor": "white"
          },
          "hoverlabel": {
           "align": "left"
          },
          "hovermode": "closest",
          "mapbox": {
           "style": "light"
          },
          "paper_bgcolor": "white",
          "plot_bgcolor": "white",
          "polar": {
           "angularaxis": {
            "gridcolor": "rgb(232,232,232)",
            "linecolor": "rgb(36,36,36)",
            "showgrid": false,
            "showline": true,
            "ticks": "outside"
           },
           "bgcolor": "white",
           "radialaxis": {
            "gridcolor": "rgb(232,232,232)",
            "linecolor": "rgb(36,36,36)",
            "showgrid": false,
            "showline": true,
            "ticks": "outside"
           }
          },
          "scene": {
           "xaxis": {
            "backgroundcolor": "white",
            "gridcolor": "rgb(232,232,232)",
            "gridwidth": 2,
            "linecolor": "rgb(36,36,36)",
            "showbackground": true,
            "showgrid": false,
            "showline": true,
            "ticks": "outside",
            "zeroline": false,
            "zerolinecolor": "rgb(36,36,36)"
           },
           "yaxis": {
            "backgroundcolor": "white",
            "gridcolor": "rgb(232,232,232)",
            "gridwidth": 2,
            "linecolor": "rgb(36,36,36)",
            "showbackground": true,
            "showgrid": false,
            "showline": true,
            "ticks": "outside",
            "zeroline": false,
            "zerolinecolor": "rgb(36,36,36)"
           },
           "zaxis": {
            "backgroundcolor": "white",
            "gridcolor": "rgb(232,232,232)",
            "gridwidth": 2,
            "linecolor": "rgb(36,36,36)",
            "showbackground": true,
            "showgrid": false,
            "showline": true,
            "ticks": "outside",
            "zeroline": false,
            "zerolinecolor": "rgb(36,36,36)"
           }
          },
          "shapedefaults": {
           "fillcolor": "black",
           "line": {
            "width": 0
           },
           "opacity": 0.3
          },
          "ternary": {
           "aaxis": {
            "gridcolor": "rgb(232,232,232)",
            "linecolor": "rgb(36,36,36)",
            "showgrid": false,
            "showline": true,
            "ticks": "outside"
           },
           "baxis": {
            "gridcolor": "rgb(232,232,232)",
            "linecolor": "rgb(36,36,36)",
            "showgrid": false,
            "showline": true,
            "ticks": "outside"
           },
           "bgcolor": "white",
           "caxis": {
            "gridcolor": "rgb(232,232,232)",
            "linecolor": "rgb(36,36,36)",
            "showgrid": false,
            "showline": true,
            "ticks": "outside"
           }
          },
          "title": {
           "x": 0.05
          },
          "xaxis": {
           "automargin": true,
           "gridcolor": "rgb(232,232,232)",
           "linecolor": "rgb(36,36,36)",
           "showgrid": false,
           "showline": true,
           "ticks": "outside",
           "title": {
            "standoff": 15
           },
           "zeroline": false,
           "zerolinecolor": "rgb(36,36,36)"
          },
          "yaxis": {
           "automargin": true,
           "gridcolor": "rgb(232,232,232)",
           "linecolor": "rgb(36,36,36)",
           "showgrid": false,
           "showline": true,
           "ticks": "outside",
           "title": {
            "standoff": 15
           },
           "zeroline": false,
           "zerolinecolor": "rgb(36,36,36)"
          }
         }
        },
        "title": {
         "text": "PCoA"
        },
        "width": 1000,
        "xaxis": {
         "anchor": "y",
         "domain": [
          0,
          1
         ],
         "title": {
          "text": "PC1 (58.6 %)"
         }
        },
        "yaxis": {
         "anchor": "x",
         "domain": [
          0,
          1
         ],
         "title": {
          "text": "PC2 (15.9 %)"
         }
        }
       }
      }
     },
     "metadata": {}
    }
   ],
   "metadata": {}
  },
  {
   "cell_type": "code",
   "execution_count": 9,
   "source": [
    "df_meta_sub = df_meta[(df_meta['Triplicate_number'] == 2)&(df_meta['Experiment'] == 'C18')]"
   ],
   "outputs": [],
   "metadata": {}
  },
  {
   "cell_type": "code",
   "execution_count": 10,
   "source": [
    "plot = memo.plot_heatmap(\r\n",
    "    memo_matrix=memo_matrix_filtered,\r\n",
    "    df_metadata=df_meta_sub,\r\n",
    "    filename_col = 'Filename',\r\n",
    "    label_col = 'contains',\r\n",
    "    plotly_discrete_cm = px.colors.qualitative.Plotly,\r\n",
    "    linkage_method='ward',\r\n",
    "    linkage_metric = 'euclidean',\r\n",
    "    heatmap_metric = 'braycurtis',\r\n",
    "    norm = False,\r\n",
    "    scaling= False\r\n",
    ")"
   ],
   "outputs": [
    {
     "output_type": "display_data",
     "data": {
      "application/vnd.plotly.v1+json": {
       "config": {
        "plotlyServerURL": "https://plot.ly"
       },
       "data": [
        {
         "hoverinfo": "text",
         "marker": {
          "color": "rgb(61,153,112)"
         },
         "mode": "lines",
         "showlegend": false,
         "type": "scatter",
         "x": [
          35,
          35,
          45,
          45
         ],
         "xaxis": "x",
         "y": [
          0,
          232.70582287514853,
          232.70582287514853,
          0
         ],
         "yaxis": "y2"
        },
        {
         "hoverinfo": "text",
         "marker": {
          "color": "rgb(61,153,112)"
         },
         "mode": "lines",
         "showlegend": false,
         "type": "scatter",
         "x": [
          25,
          25,
          40,
          40
         ],
         "xaxis": "x",
         "y": [
          0,
          510.5173846207394,
          510.5173846207394,
          232.70582287514853
         ],
         "yaxis": "y2"
        },
        {
         "hoverinfo": "text",
         "marker": {
          "color": "rgb(61,153,112)"
         },
         "mode": "lines",
         "showlegend": false,
         "type": "scatter",
         "x": [
          15,
          15,
          32.5,
          32.5
         ],
         "xaxis": "x",
         "y": [
          0,
          856.0026285006372,
          856.0026285006372,
          510.5173846207394
         ],
         "yaxis": "y2"
        },
        {
         "hoverinfo": "text",
         "marker": {
          "color": "rgb(61,153,112)"
         },
         "mode": "lines",
         "showlegend": false,
         "type": "scatter",
         "x": [
          5,
          5,
          23.75,
          23.75
         ],
         "xaxis": "x",
         "y": [
          0,
          2397.710303602168,
          2397.710303602168,
          856.0026285006372
         ],
         "yaxis": "y2"
        },
        {
         "hoverinfo": "text",
         "marker": {
          "color": "rgb(255,65,54)"
         },
         "mode": "lines",
         "showlegend": false,
         "type": "scatter",
         "x": [
          65,
          65,
          75,
          75
         ],
         "xaxis": "x",
         "y": [
          0,
          156.323382767902,
          156.323382767902,
          0
         ],
         "yaxis": "y2"
        },
        {
         "hoverinfo": "text",
         "marker": {
          "color": "rgb(255,65,54)"
         },
         "mode": "lines",
         "showlegend": false,
         "type": "scatter",
         "x": [
          55,
          55,
          70,
          70
         ],
         "xaxis": "x",
         "y": [
          0,
          168.95462901816768,
          168.95462901816768,
          156.323382767902
         ],
         "yaxis": "y2"
        },
        {
         "hoverinfo": "text",
         "marker": {
          "color": "rgb(255,65,54)"
         },
         "mode": "lines",
         "showlegend": false,
         "type": "scatter",
         "x": [
          85,
          85,
          95,
          95
         ],
         "xaxis": "x",
         "y": [
          0,
          213.45725567429184,
          213.45725567429184,
          0
         ],
         "yaxis": "y2"
        },
        {
         "hoverinfo": "text",
         "marker": {
          "color": "rgb(255,65,54)"
         },
         "mode": "lines",
         "showlegend": false,
         "type": "scatter",
         "x": [
          62.5,
          62.5,
          90,
          90
         ],
         "xaxis": "x",
         "y": [
          168.95462901816768,
          258.49048983150874,
          258.49048983150874,
          213.45725567429184
         ],
         "yaxis": "y2"
        },
        {
         "hoverinfo": "text",
         "marker": {
          "color": "rgb(255,65,54)"
         },
         "mode": "lines",
         "showlegend": false,
         "type": "scatter",
         "x": [
          135,
          135,
          145,
          145
         ],
         "xaxis": "x",
         "y": [
          0,
          167.80047675736802,
          167.80047675736802,
          0
         ],
         "yaxis": "y2"
        },
        {
         "hoverinfo": "text",
         "marker": {
          "color": "rgb(255,65,54)"
         },
         "mode": "lines",
         "showlegend": false,
         "type": "scatter",
         "x": [
          125,
          125,
          140,
          140
         ],
         "xaxis": "x",
         "y": [
          0,
          189.0088181364386,
          189.0088181364386,
          167.80047675736802
         ],
         "yaxis": "y2"
        },
        {
         "hoverinfo": "text",
         "marker": {
          "color": "rgb(255,65,54)"
         },
         "mode": "lines",
         "showlegend": false,
         "type": "scatter",
         "x": [
          115,
          115,
          132.5,
          132.5
         ],
         "xaxis": "x",
         "y": [
          0,
          264.79929506451987,
          264.79929506451987,
          189.0088181364386
         ],
         "yaxis": "y2"
        },
        {
         "hoverinfo": "text",
         "marker": {
          "color": "rgb(255,65,54)"
         },
         "mode": "lines",
         "showlegend": false,
         "type": "scatter",
         "x": [
          105,
          105,
          123.75,
          123.75
         ],
         "xaxis": "x",
         "y": [
          0,
          458.3134298708691,
          458.3134298708691,
          264.79929506451987
         ],
         "yaxis": "y2"
        },
        {
         "hoverinfo": "text",
         "marker": {
          "color": "rgb(255,65,54)"
         },
         "mode": "lines",
         "showlegend": false,
         "type": "scatter",
         "x": [
          76.25,
          76.25,
          114.375,
          114.375
         ],
         "xaxis": "x",
         "y": [
          258.49048983150874,
          667.2506275755761,
          667.2506275755761,
          458.3134298708691
         ],
         "yaxis": "y2"
        },
        {
         "hoverinfo": "text",
         "marker": {
          "color": "rgb(255,65,54)"
         },
         "mode": "lines",
         "showlegend": false,
         "type": "scatter",
         "x": [
          175,
          175,
          185,
          185
         ],
         "xaxis": "x",
         "y": [
          0,
          197.33220720399393,
          197.33220720399393,
          0
         ],
         "yaxis": "y2"
        },
        {
         "hoverinfo": "text",
         "marker": {
          "color": "rgb(255,65,54)"
         },
         "mode": "lines",
         "showlegend": false,
         "type": "scatter",
         "x": [
          165,
          165,
          180,
          180
         ],
         "xaxis": "x",
         "y": [
          0,
          233.93446375712438,
          233.93446375712438,
          197.33220720399393
         ],
         "yaxis": "y2"
        },
        {
         "hoverinfo": "text",
         "marker": {
          "color": "rgb(255,65,54)"
         },
         "mode": "lines",
         "showlegend": false,
         "type": "scatter",
         "x": [
          155,
          155,
          172.5,
          172.5
         ],
         "xaxis": "x",
         "y": [
          0,
          343.8206897012841,
          343.8206897012841,
          233.93446375712438
         ],
         "yaxis": "y2"
        },
        {
         "hoverinfo": "text",
         "marker": {
          "color": "rgb(255,65,54)"
         },
         "mode": "lines",
         "showlegend": false,
         "type": "scatter",
         "x": [
          205,
          205,
          215,
          215
         ],
         "xaxis": "x",
         "y": [
          0,
          314.0525433745124,
          314.0525433745124,
          0
         ],
         "yaxis": "y2"
        },
        {
         "hoverinfo": "text",
         "marker": {
          "color": "rgb(255,65,54)"
         },
         "mode": "lines",
         "showlegend": false,
         "type": "scatter",
         "x": [
          195,
          195,
          210,
          210
         ],
         "xaxis": "x",
         "y": [
          0,
          536.9447519686422,
          536.9447519686422,
          314.0525433745124
         ],
         "yaxis": "y2"
        },
        {
         "hoverinfo": "text",
         "marker": {
          "color": "rgb(255,65,54)"
         },
         "mode": "lines",
         "showlegend": false,
         "type": "scatter",
         "x": [
          225,
          225,
          235,
          235
         ],
         "xaxis": "x",
         "y": [
          0,
          164.13104520473877,
          164.13104520473877,
          0
         ],
         "yaxis": "y2"
        },
        {
         "hoverinfo": "text",
         "marker": {
          "color": "rgb(255,65,54)"
         },
         "mode": "lines",
         "showlegend": false,
         "type": "scatter",
         "x": [
          245,
          245,
          255,
          255
         ],
         "xaxis": "x",
         "y": [
          0,
          209.4636006565341,
          209.4636006565341,
          0
         ],
         "yaxis": "y2"
        },
        {
         "hoverinfo": "text",
         "marker": {
          "color": "rgb(255,65,54)"
         },
         "mode": "lines",
         "showlegend": false,
         "type": "scatter",
         "x": [
          230,
          230,
          250,
          250
         ],
         "xaxis": "x",
         "y": [
          164.13104520473877,
          241.58642345959757,
          241.58642345959757,
          209.4636006565341
         ],
         "yaxis": "y2"
        },
        {
         "hoverinfo": "text",
         "marker": {
          "color": "rgb(255,65,54)"
         },
         "mode": "lines",
         "showlegend": false,
         "type": "scatter",
         "x": [
          275,
          275,
          285,
          285
         ],
         "xaxis": "x",
         "y": [
          0,
          203.19694879598956,
          203.19694879598956,
          0
         ],
         "yaxis": "y2"
        },
        {
         "hoverinfo": "text",
         "marker": {
          "color": "rgb(255,65,54)"
         },
         "mode": "lines",
         "showlegend": false,
         "type": "scatter",
         "x": [
          265,
          265,
          280,
          280
         ],
         "xaxis": "x",
         "y": [
          0,
          492.22115625668374,
          492.22115625668374,
          203.19694879598956
         ],
         "yaxis": "y2"
        },
        {
         "hoverinfo": "text",
         "marker": {
          "color": "rgb(255,65,54)"
         },
         "mode": "lines",
         "showlegend": false,
         "type": "scatter",
         "x": [
          240,
          240,
          272.5,
          272.5
         ],
         "xaxis": "x",
         "y": [
          241.58642345959757,
          813.0098693245043,
          813.0098693245043,
          492.22115625668374
         ],
         "yaxis": "y2"
        },
        {
         "hoverinfo": "text",
         "marker": {
          "color": "rgb(255,65,54)"
         },
         "mode": "lines",
         "showlegend": false,
         "type": "scatter",
         "x": [
          202.5,
          202.5,
          256.25,
          256.25
         ],
         "xaxis": "x",
         "y": [
          536.9447519686422,
          1882.2443037628295,
          1882.2443037628295,
          813.0098693245043
         ],
         "yaxis": "y2"
        },
        {
         "hoverinfo": "text",
         "marker": {
          "color": "rgb(255,65,54)"
         },
         "mode": "lines",
         "showlegend": false,
         "type": "scatter",
         "x": [
          163.75,
          163.75,
          229.375,
          229.375
         ],
         "xaxis": "x",
         "y": [
          343.8206897012841,
          2274.1150869231374,
          2274.1150869231374,
          1882.2443037628295
         ],
         "yaxis": "y2"
        },
        {
         "hoverinfo": "text",
         "marker": {
          "color": "rgb(255,65,54)"
         },
         "mode": "lines",
         "showlegend": false,
         "type": "scatter",
         "x": [
          95.3125,
          95.3125,
          196.5625,
          196.5625
         ],
         "xaxis": "x",
         "y": [
          667.2506275755761,
          5473.963712103741,
          5473.963712103741,
          2274.1150869231374
         ],
         "yaxis": "y2"
        },
        {
         "hoverinfo": "text",
         "marker": {
          "color": "rgb(0,116,217)"
         },
         "mode": "lines",
         "showlegend": false,
         "type": "scatter",
         "x": [
          14.375,
          14.375,
          145.9375,
          145.9375
         ],
         "xaxis": "x",
         "y": [
          2397.710303602168,
          8959.254986441058,
          8959.254986441058,
          5473.963712103741
         ],
         "yaxis": "y2"
        },
        {
         "hoverinfo": "text",
         "marker": {
          "color": "rgb(61,153,112)"
         },
         "mode": "lines",
         "showlegend": false,
         "type": "scatter",
         "x": [
          0,
          -232.70582287514853,
          -232.70582287514853,
          0
         ],
         "xaxis": "x2",
         "y": [
          35,
          35,
          45,
          45
         ],
         "yaxis": "y"
        },
        {
         "hoverinfo": "text",
         "marker": {
          "color": "rgb(61,153,112)"
         },
         "mode": "lines",
         "showlegend": false,
         "type": "scatter",
         "x": [
          0,
          -510.5173846207394,
          -510.5173846207394,
          -232.70582287514853
         ],
         "xaxis": "x2",
         "y": [
          25,
          25,
          40,
          40
         ],
         "yaxis": "y"
        },
        {
         "hoverinfo": "text",
         "marker": {
          "color": "rgb(61,153,112)"
         },
         "mode": "lines",
         "showlegend": false,
         "type": "scatter",
         "x": [
          0,
          -856.0026285006372,
          -856.0026285006372,
          -510.5173846207394
         ],
         "xaxis": "x2",
         "y": [
          15,
          15,
          32.5,
          32.5
         ],
         "yaxis": "y"
        },
        {
         "hoverinfo": "text",
         "marker": {
          "color": "rgb(61,153,112)"
         },
         "mode": "lines",
         "showlegend": false,
         "type": "scatter",
         "x": [
          0,
          -2397.710303602168,
          -2397.710303602168,
          -856.0026285006372
         ],
         "xaxis": "x2",
         "y": [
          5,
          5,
          23.75,
          23.75
         ],
         "yaxis": "y"
        },
        {
         "hoverinfo": "text",
         "marker": {
          "color": "rgb(255,65,54)"
         },
         "mode": "lines",
         "showlegend": false,
         "type": "scatter",
         "x": [
          0,
          -156.323382767902,
          -156.323382767902,
          0
         ],
         "xaxis": "x2",
         "y": [
          65,
          65,
          75,
          75
         ],
         "yaxis": "y"
        },
        {
         "hoverinfo": "text",
         "marker": {
          "color": "rgb(255,65,54)"
         },
         "mode": "lines",
         "showlegend": false,
         "type": "scatter",
         "x": [
          0,
          -168.95462901816768,
          -168.95462901816768,
          -156.323382767902
         ],
         "xaxis": "x2",
         "y": [
          55,
          55,
          70,
          70
         ],
         "yaxis": "y"
        },
        {
         "hoverinfo": "text",
         "marker": {
          "color": "rgb(255,65,54)"
         },
         "mode": "lines",
         "showlegend": false,
         "type": "scatter",
         "x": [
          0,
          -213.45725567429184,
          -213.45725567429184,
          0
         ],
         "xaxis": "x2",
         "y": [
          85,
          85,
          95,
          95
         ],
         "yaxis": "y"
        },
        {
         "hoverinfo": "text",
         "marker": {
          "color": "rgb(255,65,54)"
         },
         "mode": "lines",
         "showlegend": false,
         "type": "scatter",
         "x": [
          -168.95462901816768,
          -258.49048983150874,
          -258.49048983150874,
          -213.45725567429184
         ],
         "xaxis": "x2",
         "y": [
          62.5,
          62.5,
          90,
          90
         ],
         "yaxis": "y"
        },
        {
         "hoverinfo": "text",
         "marker": {
          "color": "rgb(255,65,54)"
         },
         "mode": "lines",
         "showlegend": false,
         "type": "scatter",
         "x": [
          0,
          -167.80047675736802,
          -167.80047675736802,
          0
         ],
         "xaxis": "x2",
         "y": [
          135,
          135,
          145,
          145
         ],
         "yaxis": "y"
        },
        {
         "hoverinfo": "text",
         "marker": {
          "color": "rgb(255,65,54)"
         },
         "mode": "lines",
         "showlegend": false,
         "type": "scatter",
         "x": [
          0,
          -189.0088181364386,
          -189.0088181364386,
          -167.80047675736802
         ],
         "xaxis": "x2",
         "y": [
          125,
          125,
          140,
          140
         ],
         "yaxis": "y"
        },
        {
         "hoverinfo": "text",
         "marker": {
          "color": "rgb(255,65,54)"
         },
         "mode": "lines",
         "showlegend": false,
         "type": "scatter",
         "x": [
          0,
          -264.79929506451987,
          -264.79929506451987,
          -189.0088181364386
         ],
         "xaxis": "x2",
         "y": [
          115,
          115,
          132.5,
          132.5
         ],
         "yaxis": "y"
        },
        {
         "hoverinfo": "text",
         "marker": {
          "color": "rgb(255,65,54)"
         },
         "mode": "lines",
         "showlegend": false,
         "type": "scatter",
         "x": [
          0,
          -458.3134298708691,
          -458.3134298708691,
          -264.79929506451987
         ],
         "xaxis": "x2",
         "y": [
          105,
          105,
          123.75,
          123.75
         ],
         "yaxis": "y"
        },
        {
         "hoverinfo": "text",
         "marker": {
          "color": "rgb(255,65,54)"
         },
         "mode": "lines",
         "showlegend": false,
         "type": "scatter",
         "x": [
          -258.49048983150874,
          -667.2506275755761,
          -667.2506275755761,
          -458.3134298708691
         ],
         "xaxis": "x2",
         "y": [
          76.25,
          76.25,
          114.375,
          114.375
         ],
         "yaxis": "y"
        },
        {
         "hoverinfo": "text",
         "marker": {
          "color": "rgb(255,65,54)"
         },
         "mode": "lines",
         "showlegend": false,
         "type": "scatter",
         "x": [
          0,
          -197.33220720399393,
          -197.33220720399393,
          0
         ],
         "xaxis": "x2",
         "y": [
          175,
          175,
          185,
          185
         ],
         "yaxis": "y"
        },
        {
         "hoverinfo": "text",
         "marker": {
          "color": "rgb(255,65,54)"
         },
         "mode": "lines",
         "showlegend": false,
         "type": "scatter",
         "x": [
          0,
          -233.93446375712438,
          -233.93446375712438,
          -197.33220720399393
         ],
         "xaxis": "x2",
         "y": [
          165,
          165,
          180,
          180
         ],
         "yaxis": "y"
        },
        {
         "hoverinfo": "text",
         "marker": {
          "color": "rgb(255,65,54)"
         },
         "mode": "lines",
         "showlegend": false,
         "type": "scatter",
         "x": [
          0,
          -343.8206897012841,
          -343.8206897012841,
          -233.93446375712438
         ],
         "xaxis": "x2",
         "y": [
          155,
          155,
          172.5,
          172.5
         ],
         "yaxis": "y"
        },
        {
         "hoverinfo": "text",
         "marker": {
          "color": "rgb(255,65,54)"
         },
         "mode": "lines",
         "showlegend": false,
         "type": "scatter",
         "x": [
          0,
          -314.0525433745124,
          -314.0525433745124,
          0
         ],
         "xaxis": "x2",
         "y": [
          205,
          205,
          215,
          215
         ],
         "yaxis": "y"
        },
        {
         "hoverinfo": "text",
         "marker": {
          "color": "rgb(255,65,54)"
         },
         "mode": "lines",
         "showlegend": false,
         "type": "scatter",
         "x": [
          0,
          -536.9447519686422,
          -536.9447519686422,
          -314.0525433745124
         ],
         "xaxis": "x2",
         "y": [
          195,
          195,
          210,
          210
         ],
         "yaxis": "y"
        },
        {
         "hoverinfo": "text",
         "marker": {
          "color": "rgb(255,65,54)"
         },
         "mode": "lines",
         "showlegend": false,
         "type": "scatter",
         "x": [
          0,
          -164.13104520473877,
          -164.13104520473877,
          0
         ],
         "xaxis": "x2",
         "y": [
          225,
          225,
          235,
          235
         ],
         "yaxis": "y"
        },
        {
         "hoverinfo": "text",
         "marker": {
          "color": "rgb(255,65,54)"
         },
         "mode": "lines",
         "showlegend": false,
         "type": "scatter",
         "x": [
          0,
          -209.4636006565341,
          -209.4636006565341,
          0
         ],
         "xaxis": "x2",
         "y": [
          245,
          245,
          255,
          255
         ],
         "yaxis": "y"
        },
        {
         "hoverinfo": "text",
         "marker": {
          "color": "rgb(255,65,54)"
         },
         "mode": "lines",
         "showlegend": false,
         "type": "scatter",
         "x": [
          -164.13104520473877,
          -241.58642345959757,
          -241.58642345959757,
          -209.4636006565341
         ],
         "xaxis": "x2",
         "y": [
          230,
          230,
          250,
          250
         ],
         "yaxis": "y"
        },
        {
         "hoverinfo": "text",
         "marker": {
          "color": "rgb(255,65,54)"
         },
         "mode": "lines",
         "showlegend": false,
         "type": "scatter",
         "x": [
          0,
          -203.19694879598956,
          -203.19694879598956,
          0
         ],
         "xaxis": "x2",
         "y": [
          275,
          275,
          285,
          285
         ],
         "yaxis": "y"
        },
        {
         "hoverinfo": "text",
         "marker": {
          "color": "rgb(255,65,54)"
         },
         "mode": "lines",
         "showlegend": false,
         "type": "scatter",
         "x": [
          0,
          -492.22115625668374,
          -492.22115625668374,
          -203.19694879598956
         ],
         "xaxis": "x2",
         "y": [
          265,
          265,
          280,
          280
         ],
         "yaxis": "y"
        },
        {
         "hoverinfo": "text",
         "marker": {
          "color": "rgb(255,65,54)"
         },
         "mode": "lines",
         "showlegend": false,
         "type": "scatter",
         "x": [
          -241.58642345959757,
          -813.0098693245043,
          -813.0098693245043,
          -492.22115625668374
         ],
         "xaxis": "x2",
         "y": [
          240,
          240,
          272.5,
          272.5
         ],
         "yaxis": "y"
        },
        {
         "hoverinfo": "text",
         "marker": {
          "color": "rgb(255,65,54)"
         },
         "mode": "lines",
         "showlegend": false,
         "type": "scatter",
         "x": [
          -536.9447519686422,
          -1882.2443037628295,
          -1882.2443037628295,
          -813.0098693245043
         ],
         "xaxis": "x2",
         "y": [
          202.5,
          202.5,
          256.25,
          256.25
         ],
         "yaxis": "y"
        },
        {
         "hoverinfo": "text",
         "marker": {
          "color": "rgb(255,65,54)"
         },
         "mode": "lines",
         "showlegend": false,
         "type": "scatter",
         "x": [
          -343.8206897012841,
          -2274.1150869231374,
          -2274.1150869231374,
          -1882.2443037628295
         ],
         "xaxis": "x2",
         "y": [
          163.75,
          163.75,
          229.375,
          229.375
         ],
         "yaxis": "y"
        },
        {
         "hoverinfo": "text",
         "marker": {
          "color": "rgb(255,65,54)"
         },
         "mode": "lines",
         "showlegend": false,
         "type": "scatter",
         "x": [
          -667.2506275755761,
          -5473.963712103741,
          -5473.963712103741,
          -2274.1150869231374
         ],
         "xaxis": "x2",
         "y": [
          95.3125,
          95.3125,
          196.5625,
          196.5625
         ],
         "yaxis": "y"
        },
        {
         "hoverinfo": "text",
         "marker": {
          "color": "rgb(0,116,217)"
         },
         "mode": "lines",
         "showlegend": false,
         "type": "scatter",
         "x": [
          -2397.710303602168,
          -8959.254986441058,
          -8959.254986441058,
          -5473.963712103741
         ],
         "xaxis": "x2",
         "y": [
          14.375,
          14.375,
          145.9375,
          145.9375
         ],
         "yaxis": "y"
        },
        {
         "colorbar": {
          "len": 0.4,
          "title": {
           "text": "Distance"
          },
          "y": 0.2,
          "ypad": 5
         },
         "colorscale": [
          [
           0,
           "rgb(255,255,204)"
          ],
          [
           0.125,
           "rgb(255,237,160)"
          ],
          [
           0.25,
           "rgb(254,217,118)"
          ],
          [
           0.375,
           "rgb(254,178,76)"
          ],
          [
           0.5,
           "rgb(253,141,60)"
          ],
          [
           0.625,
           "rgb(252,78,42)"
          ],
          [
           0.75,
           "rgb(227,26,28)"
          ],
          [
           0.875,
           "rgb(189,0,38)"
          ],
          [
           1,
           "rgb(128,0,38)"
          ]
         ],
         "reversescale": true,
         "showlegend": false,
         "type": "heatmap",
         "x": [
          5,
          15,
          25,
          35,
          45,
          55,
          65,
          75,
          85,
          95,
          105,
          115,
          125,
          135,
          145,
          155,
          165,
          175,
          185,
          195,
          205,
          215,
          225,
          235,
          245,
          255,
          265,
          275,
          285
         ],
         "y": [
          5,
          15,
          25,
          35,
          45,
          55,
          65,
          75,
          85,
          95,
          105,
          115,
          125,
          135,
          145,
          155,
          165,
          175,
          185,
          195,
          205,
          215,
          225,
          235,
          245,
          255,
          265,
          275,
          285
         ],
         "z": [
          [
           0,
           0.12141063956963538,
           0.11707471262569202,
           0.11530573884978498,
           0.11794840351334365,
           0.21322426900200886,
           0.2111984904228292,
           0.2152690041736819,
           0.2123342192603171,
           0.21663654510496205,
           0.23111868844316008,
           0.22225967197473698,
           0.21811806723236746,
           0.21744537542880582,
           0.21753937623865652,
           0.1570113080091742,
           0.1443028636963525,
           0.15042389292937988,
           0.14954651889528606,
           0.187838405299354,
           0.19104437518673542,
           0.19558995247793617,
           0.1802183248935989,
           0.18243986708038995,
           0.18422460406510532,
           0.1797858143356605,
           0.15982367011287485,
           0.1746376892190993,
           0.1701875875357452
          ],
          [
           0.12141063956963538,
           0,
           0.057760735235045595,
           0.04084176013516339,
           0.0435847468763193,
           0.1236548055910609,
           0.1246684350132626,
           0.1283608883929113,
           0.11813115050253771,
           0.126398348513153,
           0.14995251412017158,
           0.1316097299059417,
           0.12950484363292947,
           0.12658273685226984,
           0.13070468423919068,
           0.09895454331289885,
           0.09314699355384128,
           0.09252949023921103,
           0.09207291471365685,
           0.08958593831905226,
           0.09515602802877567,
           0.10251265835451398,
           0.12517480572224793,
           0.1246841884085121,
           0.12244604207543883,
           0.12427884981302104,
           0.10974468029927774,
           0.12170627067769137,
           0.11385088
          ],
          [
           0.11707471262569202,
           0.057760735235045595,
           0,
           0.04482433470699169,
           0.045224487889737944,
           0.16595339751077456,
           0.16678834237270154,
           0.16841082148180975,
           0.15661307001358502,
           0.1659197786998617,
           0.18978036977292467,
           0.17374707487087157,
           0.17139985800425986,
           0.16789506120260744,
           0.17310707507183098,
           0.1369640156418187,
           0.13220764284594072,
           0.1321909625943908,
           0.13041636873659315,
           0.12286972617603881,
           0.13187562624921964,
           0.14200074350022227,
           0.16620133028367115,
           0.16387898248430693,
           0.16152404353510058,
           0.16393602625213338,
           0.15038620771551794,
           0.160884237062329,
           0.1552684553036032
          ],
          [
           0.11530573884978498,
           0.04084176013516339,
           0.04482433470699169,
           0,
           0.030851191393870873,
           0.1476986455647432,
           0.14660203558179127,
           0.15059931422247255,
           0.14162183127305997,
           0.1481680688855444,
           0.17049268162002873,
           0.15340708040187515,
           0.15192605820365393,
           0.14741928981923477,
           0.15335032891104802,
           0.12011745078411745,
           0.11332727943930522,
           0.11530410700100904,
           0.11371471665589312,
           0.10822377680703107,
           0.11726982396412428,
           0.12492385178690225,
           0.1477050743499214,
           0.14769933308393854,
           0.14573565212020773,
           0.14780234413178436,
           0.132305267778289,
           0.14450644101190213,
           0.13849630495595172
          ],
          [
           0.11794840351334365,
           0.0435847468763193,
           0.045224487889737944,
           0.030851191393870873,
           0,
           0.14766543034420604,
           0.14663552911071637,
           0.14991951261794498,
           0.14062601257209514,
           0.14710712731014286,
           0.171253210417867,
           0.15490015240732632,
           0.1530002508200833,
           0.14803114681385837,
           0.15151604595733376,
           0.11985204178588348,
           0.11178179165371989,
           0.11553012975410762,
           0.11251667683931359,
           0.10722256194761957,
           0.11586214719561115,
           0.12299621027238508,
           0.14764975815453305,
           0.14711108926820815,
           0.143853782882855,
           0.14469328342151722,
           0.13268465984410627,
           0.14313561027104285,
           0.13674681457837315
          ],
          [
           0.21322426900200886,
           0.1236548055910609,
           0.16595339751077456,
           0.1476986455647432,
           0.14766543034420604,
           0,
           0.017843353859278786,
           0.01783517298547184,
           0.020252897972077678,
           0.020246920036432255,
           0.050638255707251084,
           0.0224577743346504,
           0.01888158579306996,
           0.018025844282766858,
           0.018541527079389653,
           0.0825150788443172,
           0.09044463018117178,
           0.08430614466423933,
           0.08629243311430347,
           0.05986388957492934,
           0.047758077564505265,
           0.042545032974474775,
           0.05308227707662559,
           0.05124549836932749,
           0.047786385900166886,
           0.052075835023173325,
           0.07168893726407448,
           0.059887455211884655,
           0.057215456460031136
          ],
          [
           0.2111984904228292,
           0.1246684350132626,
           0.16678834237270154,
           0.14660203558179127,
           0.14663552911071637,
           0.017843353859278786,
           0,
           0.017260731343904046,
           0.023836819116983706,
           0.020261690739854402,
           0.05134348608551558,
           0.019665304567648995,
           0.018761754633907703,
           0.016709542366346534,
           0.019782083904221308,
           0.08018684495335904,
           0.08863767349136913,
           0.08587029431493227,
           0.08785383901608611,
           0.061784130610821685,
           0.05089640508578695,
           0.04215214359620316,
           0.05130563751041944,
           0.05019801845140932,
           0.04550558356980993,
           0.049981093652478555,
           0.07085092196571408,
           0.05674754453328929,
           0.058348585088720435
          ],
          [
           0.2152690041736819,
           0.1283608883929113,
           0.16841082148180975,
           0.15059931422247255,
           0.14991951261794498,
           0.01783517298547184,
           0.017260731343904046,
           0,
           0.02209154342388204,
           0.018080455411278055,
           0.05026953190645885,
           0.02280777108914823,
           0.017519514310494363,
           0.01972395156770659,
           0.021117581357016604,
           0.08306142897515607,
           0.09308848221665933,
           0.08887741693260748,
           0.09088811886781793,
           0.06211401751159663,
           0.05134870012160226,
           0.04429915555505714,
           0.05353317118023,
           0.04929805750193252,
           0.0473986818118076,
           0.05201905146940249,
           0.07209402521113514,
           0.05811211665877628,
           0.059068928250874654
          ],
          [
           0.2123342192603171,
           0.11813115050253771,
           0.15661307001358502,
           0.14162183127305997,
           0.14062601257209514,
           0.020252897972077678,
           0.023836819116983706,
           0.02209154342388204,
           0,
           0.01944969249584661,
           0.055417134289812243,
           0.029390761911170054,
           0.0262180124548642,
           0.02242174017519715,
           0.02681128285434492,
           0.08393233529697887,
           0.0933219604080037,
           0.0879983757342248,
           0.08892436242373716,
           0.05472927576781129,
           0.04657126877378695,
           0.04256763920942268,
           0.057406589000715304,
           0.05546700596740615,
           0.052500580154616894,
           0.055780597079714965,
           0.0744016964556195,
           0.061020528830779214,
           0.05998249493274369
          ],
          [
           0.21663654510496205,
           0.126398348513153,
           0.1659197786998617,
           0.1481680688855444,
           0.14710712731014286,
           0.020246920036432255,
           0.020261690739854402,
           0.018080455411278055,
           0.01944969249584661,
           0,
           0.051044652772397406,
           0.021989086307002054,
           0.02090904759223242,
           0.017562512476457466,
           0.020201516901033147,
           0.08698826828283959,
           0.09545034375859984,
           0.09192029511992762,
           0.09422508123257203,
           0.06147449224372301,
           0.05213798708628708,
           0.04461107290156799,
           0.05618089361009066,
           0.05664025794356126,
           0.05257593146513162,
           0.05505280232307535,
           0.07675115911046948,
           0.06179940834485043,
           0.06327156964538098
          ],
          [
           0.23111868844316008,
           0.14995251412017158,
           0.18978036977292467,
           0.17049268162002873,
           0.171253210417867,
           0.050638255707251084,
           0.05134348608551558,
           0.05026953190645885,
           0.055417134289812243,
           0.051044652772397406,
           0,
           0.046868505140464825,
           0.04722770623578736,
           0.04817147466149543,
           0.046162017909654976,
           0.10212527680676181,
           0.11148952382722388,
           0.10812687800654669,
           0.10965069132557091,
           0.08681971061601318,
           0.07559343208995181,
           0.06915019627204878,
           0.08041182729361694,
           0.07960899167015328,
           0.07614480640091442,
           0.08052320694022573,
           0.10006216744985463,
           0.0866280710069856,
           0.08869797857004054
          ],
          [
           0.22225967197473698,
           0.1316097299059417,
           0.17374707487087157,
           0.15340708040187515,
           0.15490015240732632,
           0.0224577743346504,
           0.019665304567648995,
           0.02280777108914823,
           0.029390761911170054,
           0.021989086307002054,
           0.046868505140464825,
           0,
           0.0155153662831978,
           0.015410337024564992,
           0.01789438451041479,
           0.0882632706586384,
           0.09910107024314398,
           0.09433297073128868,
           0.09759394682531743,
           0.06903312911739364,
           0.05742620287030435,
           0.04863831354056224,
           0.05983549102993902,
           0.05868428839136009,
           0.05471869024054752,
           0.05988357468827482,
           0.08018145304410151,
           0.06841329281088317,
           0.06873702535729082
          ],
          [
           0.21811806723236746,
           0.12950484363292947,
           0.17139985800425986,
           0.15192605820365393,
           0.1530002508200833,
           0.01888158579306996,
           0.018761754633907703,
           0.017519514310494363,
           0.0262180124548642,
           0.02090904759223242,
           0.04722770623578736,
           0.0155153662831978,
           0,
           0.016613777173326426,
           0.01855974963412873,
           0.08517988348811797,
           0.09573231348607651,
           0.09046327114740954,
           0.09372807961017948,
           0.06599829118871457,
           0.055063754485719804,
           0.046930120718203114,
           0.05589131344586598,
           0.05229848944503377,
           0.051245174135614094,
           0.056894057862112074,
           0.07416645573989278,
           0.06441696185332536,
           0.06343660434011192
          ],
          [
           0.21744537542880582,
           0.12658273685226984,
           0.16789506120260744,
           0.14741928981923477,
           0.14803114681385837,
           0.018025844282766858,
           0.016709542366346534,
           0.01972395156770659,
           0.02242174017519715,
           0.017562512476457466,
           0.04817147466149543,
           0.015410337024564992,
           0.016613777173326426,
           0,
           0.0158470358334323,
           0.08570538584741842,
           0.0939674548654812,
           0.09150143627828768,
           0.09263467638776304,
           0.062459872594063194,
           0.051406663426750904,
           0.045442468490795626,
           0.057634561800589734,
           0.05726335456705546,
           0.05109962355229741,
           0.05660496799763062,
           0.0778800398391678,
           0.06478688554445888,
           0.06447966379047072
          ],
          [
           0.21753937623865652,
           0.13070468423919068,
           0.17310707507183098,
           0.15335032891104802,
           0.15151604595733376,
           0.018541527079389653,
           0.019782083904221308,
           0.021117581357016604,
           0.02681128285434492,
           0.020201516901033147,
           0.046162017909654976,
           0.01789438451041479,
           0.01855974963412873,
           0.0158470358334323,
           0,
           0.08598467443619841,
           0.09342068320074871,
           0.09042923988333516,
           0.09192200557103064,
           0.0664178544721416,
           0.054015503597364706,
           0.04331544126825615,
           0.05681728667916519,
           0.05761735909924441,
           0.05167875598752931,
           0.05375111163275716,
           0.07879624834570459,
           0.06425879882364172,
           0.06422452531825576
          ],
          [
           0.1570113080091742,
           0.09895454331289885,
           0.1369640156418187,
           0.12011745078411745,
           0.11985204178588348,
           0.0825150788443172,
           0.08018684495335904,
           0.08306142897515607,
           0.08393233529697887,
           0.08698826828283959,
           0.10212527680676181,
           0.0882632706586384,
           0.08517988348811797,
           0.08570538584741842,
           0.08598467443619841,
           0,
           0.03161726679984181,
           0.02447290202505625,
           0.026948816253924493,
           0.058249493274368895,
           0.05523523062182387,
           0.058178808902916636,
           0.05637270988144983,
           0.05076868420924562,
           0.04829457872416865,
           0.05012313769476482,
           0.04465524240243261,
           0.05107721030780947,
           0.047093633861569756
          ],
          [
           0.1443028636963525,
           0.09314699355384128,
           0.13220764284594072,
           0.11332727943930522,
           0.11178179165371989,
           0.09044463018117178,
           0.08863767349136913,
           0.09308848221665933,
           0.0933219604080037,
           0.09545034375859984,
           0.11148952382722388,
           0.09910107024314398,
           0.09573231348607651,
           0.0939674548654812,
           0.09342068320074871,
           0.03161726679984181,
           0,
           0.026302312249187845,
           0.026884125965489118,
           0.06576028906275169,
           0.06563814249121082,
           0.06996627605114394,
           0.06198743236252461,
           0.06166676483870334,
           0.059517134833523895,
           0.05739357986797706,
           0.049179833630212874,
           0.057959737929804044,
           0.0523670231901533
          ],
          [
           0.15042389292937988,
           0.09252949023921103,
           0.1321909625943908,
           0.11530410700100904,
           0.11553012975410762,
           0.08430614466423933,
           0.08587029431493227,
           0.08887741693260748,
           0.0879983757342248,
           0.09192029511992762,
           0.10812687800654669,
           0.09433297073128868,
           0.09046327114740954,
           0.09150143627828768,
           0.09042923988333516,
           0.02447290202505625,
           0.026302312249187845,
           0,
           0.020619186846099775,
           0.06111615872326137,
           0.05895257177120962,
           0.062338798765261993,
           0.059468384978773506,
           0.05623653626558492,
           0.055483732479912576,
           0.054775958854936205,
           0.04561631835815292,
           0.05559189981164075,
           0.0478422067329082
          ],
          [
           0.14954651889528606,
           0.09207291471365685,
           0.13041636873659315,
           0.11371471665589312,
           0.11251667683931359,
           0.08629243311430347,
           0.08785383901608611,
           0.09088811886781793,
           0.08892436242373716,
           0.09422508123257203,
           0.10965069132557091,
           0.09759394682531743,
           0.09372807961017948,
           0.09263467638776304,
           0.09192200557103064,
           0.026948816253924493,
           0.026884125965489118,
           0.020619186846099775,
           0,
           0.05919044787950852,
           0.05755789782592747,
           0.06478407329891182,
           0.06250336975115307,
           0.05932284472924338,
           0.05730214436400836,
           0.05730335697515765,
           0.049960070115872,
           0.05692736392346275,
           0.04917813247095936
          ],
          [
           0.187838405299354,
           0.08958593831905226,
           0.12286972617603881,
           0.10822377680703107,
           0.10722256194761957,
           0.05986388957492934,
           0.061784130610821685,
           0.06211401751159663,
           0.05472927576781129,
           0.06147449224372301,
           0.08681971061601318,
           0.06903312911739364,
           0.06599829118871457,
           0.062459872594063194,
           0.0664178544721416,
           0.058249493274368895,
           0.06576028906275169,
           0.06111615872326137,
           0.05919044787950852,
           0,
           0.024030496228322946,
           0.03644458675808225,
           0.07404324144328425,
           0.06898727396102428,
           0.06331206620521908,
           0.06889369752811025,
           0.07776202793081108,
           0.0724731022582808,
           0.06857772559285494
          ],
          [
           0.19104437518673542,
           0.09515602802877567,
           0.13187562624921964,
           0.11726982396412428,
           0.11586214719561115,
           0.047758077564505265,
           0.05089640508578695,
           0.05134870012160226,
           0.04657126877378695,
           0.05213798708628708,
           0.07559343208995181,
           0.05742620287030435,
           0.055063754485719804,
           0.051406663426750904,
           0.054015503597364706,
           0.05523523062182387,
           0.06563814249121082,
           0.05895257177120962,
           0.05755789782592747,
           0.024030496228322946,
           0,
           0.025386259556188177,
           0.06736362354931166,
           0.06258892141992076,
           0.05611603288411727,
           0.06203594394685932,
           0.07504761721530677,
           0.06808467210799753,
           0.06432756875436621
          ],
          [
           0.19558995247793617,
           0.10251265835451398,
           0.14200074350022227,
           0.12492385178690225,
           0.12299621027238508,
           0.042545032974474775,
           0.04215214359620316,
           0.04429915555505714,
           0.04256763920942268,
           0.04461107290156799,
           0.06915019627204878,
           0.04863831354056224,
           0.046930120718203114,
           0.045442468490795626,
           0.04331544126825615,
           0.058178808902916636,
           0.06996627605114394,
           0.062338798765261993,
           0.06478407329891182,
           0.03644458675808225,
           0.025386259556188177,
           0,
           0.06165853704010124,
           0.058274079465502115,
           0.05277980137459764,
           0.056777275999738204,
           0.07418812388937256,
           0.06538095731357058,
           0.06353190737139827
          ],
          [
           0.1802183248935989,
           0.12517480572224793,
           0.16620133028367115,
           0.1477050743499214,
           0.14764975815453305,
           0.05308227707662559,
           0.05130563751041944,
           0.05353317118023,
           0.057406589000715304,
           0.05618089361009066,
           0.08041182729361694,
           0.05983549102993902,
           0.05589131344586598,
           0.057634561800589734,
           0.05681728667916519,
           0.05637270988144983,
           0.06198743236252461,
           0.059468384978773506,
           0.06250336975115307,
           0.07404324144328425,
           0.06736362354931166,
           0.06165853704010124,
           0,
           0.019372382866716782,
           0.026076980223624445,
           0.021040577075192142,
           0.0358791945014797,
           0.022201082109518995,
           0.026844263270933238
          ],
          [
           0.18243986708038995,
           0.1246841884085121,
           0.16387898248430693,
           0.14769933308393854,
           0.14711108926820815,
           0.05124549836932749,
           0.05019801845140932,
           0.04929805750193252,
           0.05546700596740615,
           0.05664025794356126,
           0.07960899167015328,
           0.05868428839136009,
           0.05229848944503377,
           0.05726335456705546,
           0.05761735909924441,
           0.05076868420924562,
           0.06166676483870334,
           0.05623653626558492,
           0.05932284472924338,
           0.06898727396102428,
           0.06258892141992076,
           0.058274079465502115,
           0.019372382866716782,
           0,
           0.020838677338203142,
           0.019664846722919474,
           0.034002938317053574,
           0.022902035471967622,
           0.026459112436331048
          ],
          [
           0.18422460406510532,
           0.12244604207543883,
           0.16152404353510058,
           0.14573565212020773,
           0.143853782882855,
           0.047786385900166886,
           0.04550558356980993,
           0.0473986818118076,
           0.052500580154616894,
           0.05257593146513162,
           0.07614480640091442,
           0.05471869024054752,
           0.051245174135614094,
           0.05109962355229741,
           0.05167875598752931,
           0.04829457872416865,
           0.059517134833523895,
           0.055483732479912576,
           0.05730214436400836,
           0.06331206620521908,
           0.05611603288411727,
           0.05277980137459764,
           0.026076980223624445,
           0.020838677338203142,
           0,
           0.02003636114969145,
           0.04217447390207744,
           0.027467764268868204,
           0.029352597362451313
          ],
          [
           0.1797858143356605,
           0.12427884981302104,
           0.16393602625213338,
           0.14780234413178436,
           0.14469328342151722,
           0.052075835023173325,
           0.049981093652478555,
           0.05201905146940249,
           0.055780597079714965,
           0.05505280232307535,
           0.08052320694022573,
           0.05988357468827482,
           0.056894057862112074,
           0.05660496799763062,
           0.05375111163275716,
           0.05012313769476482,
           0.05739357986797706,
           0.054775958854936205,
           0.05730335697515765,
           0.06889369752811025,
           0.06203594394685932,
           0.056777275999738204,
           0.021040577075192142,
           0.019664846722919474,
           0.02003636114969145,
           0,
           0.037786066705183585,
           0.022232930500622618,
           0.025242356717562173
          ],
          [
           0.15982367011287485,
           0.10974468029927774,
           0.15038620771551794,
           0.132305267778289,
           0.13268465984410627,
           0.07168893726407448,
           0.07085092196571408,
           0.07209402521113514,
           0.0744016964556195,
           0.07675115911046948,
           0.10006216744985463,
           0.08018145304410151,
           0.07416645573989278,
           0.0778800398391678,
           0.07879624834570459,
           0.04465524240243261,
           0.049179833630212874,
           0.04561631835815292,
           0.049960070115872,
           0.07776202793081108,
           0.07504761721530677,
           0.07418812388937256,
           0.0358791945014797,
           0.034002938317053574,
           0.04217447390207744,
           0.037786066705183585,
           0,
           0.031592841261375786,
           0.026298721881141286
          ],
          [
           0.1746376892190993,
           0.12170627067769137,
           0.160884237062329,
           0.14450644101190213,
           0.14313561027104285,
           0.059887455211884655,
           0.05674754453328929,
           0.05811211665877628,
           0.061020528830779214,
           0.06179940834485043,
           0.0866280710069856,
           0.06841329281088317,
           0.06441696185332536,
           0.06478688554445888,
           0.06425879882364172,
           0.05107721030780947,
           0.057959737929804044,
           0.05559189981164075,
           0.05692736392346275,
           0.0724731022582808,
           0.06808467210799753,
           0.06538095731357058,
           0.022201082109518995,
           0.022902035471967622,
           0.027467764268868204,
           0.022232930500622618,
           0.031592841261375786,
           0,
           0.022294610271350934
          ],
          [
           0.1701875875357452,
           0.11385088,
           0.1552684553036032,
           0.13849630495595172,
           0.13674681457837315,
           0.057215456460031136,
           0.058348585088720435,
           0.059068928250874654,
           0.05998249493274369,
           0.06327156964538098,
           0.08869797857004054,
           0.06873702535729082,
           0.06343660434011192,
           0.06447966379047072,
           0.06422452531825576,
           0.047093633861569756,
           0.0523670231901533,
           0.0478422067329082,
           0.04917813247095936,
           0.06857772559285494,
           0.06432756875436621,
           0.06353190737139827,
           0.026844263270933238,
           0.026459112436331048,
           0.029352597362451313,
           0.025242356717562173,
           0.026298721881141286,
           0.022294610271350934,
           0
          ]
         ]
        },
        {
         "marker": {
          "color": "#636EFA"
         },
         "mode": "markers",
         "name": "Plasma",
         "type": "scatter",
         "x": [
          5
         ],
         "xaxis": "x",
         "y": [
          1
         ],
         "yaxis": "y3"
        },
        {
         "marker": {
          "color": "#EF553B"
         },
         "mode": "markers",
         "name": "Tomato",
         "type": "scatter",
         "x": [
          25
         ],
         "xaxis": "x",
         "y": [
          1
         ],
         "yaxis": "y3"
        },
        {
         "marker": {
          "color": "#00CC96"
         },
         "mode": "markers",
         "name": "Tomato + Plasma",
         "type": "scatter",
         "x": [
          15,
          35,
          45
         ],
         "xaxis": "x",
         "y": [
          1,
          1,
          1
         ],
         "yaxis": "y3"
        },
        {
         "marker": {
          "color": "#AB63FA"
         },
         "mode": "markers",
         "name": "Fecal_2",
         "type": "scatter",
         "x": [
          155
         ],
         "xaxis": "x",
         "y": [
          1
         ],
         "yaxis": "y3"
        },
        {
         "marker": {
          "color": "#FFA15A"
         },
         "mode": "markers",
         "name": "Fecal_2 + Plasma",
         "type": "scatter",
         "x": [
          165,
          175,
          185
         ],
         "xaxis": "x",
         "y": [
          1,
          1,
          1
         ],
         "yaxis": "y3"
        },
        {
         "marker": {
          "color": "#19D3F3"
         },
         "mode": "markers",
         "name": "Fecal_2 + Tomato",
         "type": "scatter",
         "x": [
          195,
          205,
          215
         ],
         "xaxis": "x",
         "y": [
          1,
          1,
          1
         ],
         "yaxis": "y3"
        },
        {
         "marker": {
          "color": "#FF6692"
         },
         "mode": "markers",
         "name": "Fecal_1",
         "type": "scatter",
         "x": [
          275
         ],
         "xaxis": "x",
         "y": [
          1
         ],
         "yaxis": "y3"
        },
        {
         "marker": {
          "color": "#B6E880"
         },
         "mode": "markers",
         "name": "Fecal_1 + Fecal_2 + Tomato + Plasma",
         "type": "scatter",
         "x": [
          55,
          65,
          105,
          115,
          125,
          135,
          145
         ],
         "xaxis": "x",
         "y": [
          1,
          1,
          1,
          1,
          1,
          1,
          1
         ],
         "yaxis": "y3"
        },
        {
         "marker": {
          "color": "#FF97FF"
         },
         "mode": "markers",
         "name": "Fecal_1 + Plasma",
         "type": "scatter",
         "x": [
          225,
          265,
          285
         ],
         "xaxis": "x",
         "y": [
          1,
          1,
          1
         ],
         "yaxis": "y3"
        },
        {
         "marker": {
          "color": "#FECB52"
         },
         "mode": "markers",
         "name": "Fecal_1 + Tomato",
         "type": "scatter",
         "x": [
          75,
          85,
          95
         ],
         "xaxis": "x",
         "y": [
          1,
          1,
          1
         ],
         "yaxis": "y3"
        },
        {
         "marker": {
          "color": "#636EFA"
         },
         "mode": "markers",
         "name": "Fecal_1 + Fecal_2",
         "type": "scatter",
         "x": [
          235,
          245,
          255
         ],
         "xaxis": "x",
         "y": [
          1,
          1,
          1
         ],
         "yaxis": "y3"
        }
       ],
       "layout": {
        "autosize": false,
        "height": 800,
        "hovermode": "closest",
        "legend": {
         "orientation": "v",
         "x": 1,
         "y": 1
        },
        "paper_bgcolor": "rgb(255,255,255)",
        "plot_bgcolor": "rgba(0,0,0,0)",
        "showlegend": true,
        "template": {
         "data": {
          "bar": [
           {
            "error_x": {
             "color": "#2a3f5f"
            },
            "error_y": {
             "color": "#2a3f5f"
            },
            "marker": {
             "line": {
              "color": "#E5ECF6",
              "width": 0.5
             },
             "pattern": {
              "fillmode": "overlay",
              "size": 10,
              "solidity": 0.2
             }
            },
            "type": "bar"
           }
          ],
          "barpolar": [
           {
            "marker": {
             "line": {
              "color": "#E5ECF6",
              "width": 0.5
             },
             "pattern": {
              "fillmode": "overlay",
              "size": 10,
              "solidity": 0.2
             }
            },
            "type": "barpolar"
           }
          ],
          "carpet": [
           {
            "aaxis": {
             "endlinecolor": "#2a3f5f",
             "gridcolor": "white",
             "linecolor": "white",
             "minorgridcolor": "white",
             "startlinecolor": "#2a3f5f"
            },
            "baxis": {
             "endlinecolor": "#2a3f5f",
             "gridcolor": "white",
             "linecolor": "white",
             "minorgridcolor": "white",
             "startlinecolor": "#2a3f5f"
            },
            "type": "carpet"
           }
          ],
          "choropleth": [
           {
            "colorbar": {
             "outlinewidth": 0,
             "ticks": ""
            },
            "type": "choropleth"
           }
          ],
          "contour": [
           {
            "colorbar": {
             "outlinewidth": 0,
             "ticks": ""
            },
            "colorscale": [
             [
              0,
              "#0d0887"
             ],
             [
              0.1111111111111111,
              "#46039f"
             ],
             [
              0.2222222222222222,
              "#7201a8"
             ],
             [
              0.3333333333333333,
              "#9c179e"
             ],
             [
              0.4444444444444444,
              "#bd3786"
             ],
             [
              0.5555555555555556,
              "#d8576b"
             ],
             [
              0.6666666666666666,
              "#ed7953"
             ],
             [
              0.7777777777777778,
              "#fb9f3a"
             ],
             [
              0.8888888888888888,
              "#fdca26"
             ],
             [
              1,
              "#f0f921"
             ]
            ],
            "type": "contour"
           }
          ],
          "contourcarpet": [
           {
            "colorbar": {
             "outlinewidth": 0,
             "ticks": ""
            },
            "type": "contourcarpet"
           }
          ],
          "heatmap": [
           {
            "colorbar": {
             "outlinewidth": 0,
             "ticks": ""
            },
            "colorscale": [
             [
              0,
              "#0d0887"
             ],
             [
              0.1111111111111111,
              "#46039f"
             ],
             [
              0.2222222222222222,
              "#7201a8"
             ],
             [
              0.3333333333333333,
              "#9c179e"
             ],
             [
              0.4444444444444444,
              "#bd3786"
             ],
             [
              0.5555555555555556,
              "#d8576b"
             ],
             [
              0.6666666666666666,
              "#ed7953"
             ],
             [
              0.7777777777777778,
              "#fb9f3a"
             ],
             [
              0.8888888888888888,
              "#fdca26"
             ],
             [
              1,
              "#f0f921"
             ]
            ],
            "type": "heatmap"
           }
          ],
          "heatmapgl": [
           {
            "colorbar": {
             "outlinewidth": 0,
             "ticks": ""
            },
            "colorscale": [
             [
              0,
              "#0d0887"
             ],
             [
              0.1111111111111111,
              "#46039f"
             ],
             [
              0.2222222222222222,
              "#7201a8"
             ],
             [
              0.3333333333333333,
              "#9c179e"
             ],
             [
              0.4444444444444444,
              "#bd3786"
             ],
             [
              0.5555555555555556,
              "#d8576b"
             ],
             [
              0.6666666666666666,
              "#ed7953"
             ],
             [
              0.7777777777777778,
              "#fb9f3a"
             ],
             [
              0.8888888888888888,
              "#fdca26"
             ],
             [
              1,
              "#f0f921"
             ]
            ],
            "type": "heatmapgl"
           }
          ],
          "histogram": [
           {
            "marker": {
             "pattern": {
              "fillmode": "overlay",
              "size": 10,
              "solidity": 0.2
             }
            },
            "type": "histogram"
           }
          ],
          "histogram2d": [
           {
            "colorbar": {
             "outlinewidth": 0,
             "ticks": ""
            },
            "colorscale": [
             [
              0,
              "#0d0887"
             ],
             [
              0.1111111111111111,
              "#46039f"
             ],
             [
              0.2222222222222222,
              "#7201a8"
             ],
             [
              0.3333333333333333,
              "#9c179e"
             ],
             [
              0.4444444444444444,
              "#bd3786"
             ],
             [
              0.5555555555555556,
              "#d8576b"
             ],
             [
              0.6666666666666666,
              "#ed7953"
             ],
             [
              0.7777777777777778,
              "#fb9f3a"
             ],
             [
              0.8888888888888888,
              "#fdca26"
             ],
             [
              1,
              "#f0f921"
             ]
            ],
            "type": "histogram2d"
           }
          ],
          "histogram2dcontour": [
           {
            "colorbar": {
             "outlinewidth": 0,
             "ticks": ""
            },
            "colorscale": [
             [
              0,
              "#0d0887"
             ],
             [
              0.1111111111111111,
              "#46039f"
             ],
             [
              0.2222222222222222,
              "#7201a8"
             ],
             [
              0.3333333333333333,
              "#9c179e"
             ],
             [
              0.4444444444444444,
              "#bd3786"
             ],
             [
              0.5555555555555556,
              "#d8576b"
             ],
             [
              0.6666666666666666,
              "#ed7953"
             ],
             [
              0.7777777777777778,
              "#fb9f3a"
             ],
             [
              0.8888888888888888,
              "#fdca26"
             ],
             [
              1,
              "#f0f921"
             ]
            ],
            "type": "histogram2dcontour"
           }
          ],
          "mesh3d": [
           {
            "colorbar": {
             "outlinewidth": 0,
             "ticks": ""
            },
            "type": "mesh3d"
           }
          ],
          "parcoords": [
           {
            "line": {
             "colorbar": {
              "outlinewidth": 0,
              "ticks": ""
             }
            },
            "type": "parcoords"
           }
          ],
          "pie": [
           {
            "automargin": true,
            "type": "pie"
           }
          ],
          "scatter": [
           {
            "marker": {
             "colorbar": {
              "outlinewidth": 0,
              "ticks": ""
             }
            },
            "type": "scatter"
           }
          ],
          "scatter3d": [
           {
            "line": {
             "colorbar": {
              "outlinewidth": 0,
              "ticks": ""
             }
            },
            "marker": {
             "colorbar": {
              "outlinewidth": 0,
              "ticks": ""
             }
            },
            "type": "scatter3d"
           }
          ],
          "scattercarpet": [
           {
            "marker": {
             "colorbar": {
              "outlinewidth": 0,
              "ticks": ""
             }
            },
            "type": "scattercarpet"
           }
          ],
          "scattergeo": [
           {
            "marker": {
             "colorbar": {
              "outlinewidth": 0,
              "ticks": ""
             }
            },
            "type": "scattergeo"
           }
          ],
          "scattergl": [
           {
            "marker": {
             "colorbar": {
              "outlinewidth": 0,
              "ticks": ""
             }
            },
            "type": "scattergl"
           }
          ],
          "scattermapbox": [
           {
            "marker": {
             "colorbar": {
              "outlinewidth": 0,
              "ticks": ""
             }
            },
            "type": "scattermapbox"
           }
          ],
          "scatterpolar": [
           {
            "marker": {
             "colorbar": {
              "outlinewidth": 0,
              "ticks": ""
             }
            },
            "type": "scatterpolar"
           }
          ],
          "scatterpolargl": [
           {
            "marker": {
             "colorbar": {
              "outlinewidth": 0,
              "ticks": ""
             }
            },
            "type": "scatterpolargl"
           }
          ],
          "scatterternary": [
           {
            "marker": {
             "colorbar": {
              "outlinewidth": 0,
              "ticks": ""
             }
            },
            "type": "scatterternary"
           }
          ],
          "surface": [
           {
            "colorbar": {
             "outlinewidth": 0,
             "ticks": ""
            },
            "colorscale": [
             [
              0,
              "#0d0887"
             ],
             [
              0.1111111111111111,
              "#46039f"
             ],
             [
              0.2222222222222222,
              "#7201a8"
             ],
             [
              0.3333333333333333,
              "#9c179e"
             ],
             [
              0.4444444444444444,
              "#bd3786"
             ],
             [
              0.5555555555555556,
              "#d8576b"
             ],
             [
              0.6666666666666666,
              "#ed7953"
             ],
             [
              0.7777777777777778,
              "#fb9f3a"
             ],
             [
              0.8888888888888888,
              "#fdca26"
             ],
             [
              1,
              "#f0f921"
             ]
            ],
            "type": "surface"
           }
          ],
          "table": [
           {
            "cells": {
             "fill": {
              "color": "#EBF0F8"
             },
             "line": {
              "color": "white"
             }
            },
            "header": {
             "fill": {
              "color": "#C8D4E3"
             },
             "line": {
              "color": "white"
             }
            },
            "type": "table"
           }
          ]
         },
         "layout": {
          "annotationdefaults": {
           "arrowcolor": "#2a3f5f",
           "arrowhead": 0,
           "arrowwidth": 1
          },
          "autotypenumbers": "strict",
          "coloraxis": {
           "colorbar": {
            "outlinewidth": 0,
            "ticks": ""
           }
          },
          "colorscale": {
           "diverging": [
            [
             0,
             "#8e0152"
            ],
            [
             0.1,
             "#c51b7d"
            ],
            [
             0.2,
             "#de77ae"
            ],
            [
             0.3,
             "#f1b6da"
            ],
            [
             0.4,
             "#fde0ef"
            ],
            [
             0.5,
             "#f7f7f7"
            ],
            [
             0.6,
             "#e6f5d0"
            ],
            [
             0.7,
             "#b8e186"
            ],
            [
             0.8,
             "#7fbc41"
            ],
            [
             0.9,
             "#4d9221"
            ],
            [
             1,
             "#276419"
            ]
           ],
           "sequential": [
            [
             0,
             "#0d0887"
            ],
            [
             0.1111111111111111,
             "#46039f"
            ],
            [
             0.2222222222222222,
             "#7201a8"
            ],
            [
             0.3333333333333333,
             "#9c179e"
            ],
            [
             0.4444444444444444,
             "#bd3786"
            ],
            [
             0.5555555555555556,
             "#d8576b"
            ],
            [
             0.6666666666666666,
             "#ed7953"
            ],
            [
             0.7777777777777778,
             "#fb9f3a"
            ],
            [
             0.8888888888888888,
             "#fdca26"
            ],
            [
             1,
             "#f0f921"
            ]
           ],
           "sequentialminus": [
            [
             0,
             "#0d0887"
            ],
            [
             0.1111111111111111,
             "#46039f"
            ],
            [
             0.2222222222222222,
             "#7201a8"
            ],
            [
             0.3333333333333333,
             "#9c179e"
            ],
            [
             0.4444444444444444,
             "#bd3786"
            ],
            [
             0.5555555555555556,
             "#d8576b"
            ],
            [
             0.6666666666666666,
             "#ed7953"
            ],
            [
             0.7777777777777778,
             "#fb9f3a"
            ],
            [
             0.8888888888888888,
             "#fdca26"
            ],
            [
             1,
             "#f0f921"
            ]
           ]
          },
          "colorway": [
           "#636efa",
           "#EF553B",
           "#00cc96",
           "#ab63fa",
           "#FFA15A",
           "#19d3f3",
           "#FF6692",
           "#B6E880",
           "#FF97FF",
           "#FECB52"
          ],
          "font": {
           "color": "#2a3f5f"
          },
          "geo": {
           "bgcolor": "white",
           "lakecolor": "white",
           "landcolor": "#E5ECF6",
           "showlakes": true,
           "showland": true,
           "subunitcolor": "white"
          },
          "hoverlabel": {
           "align": "left"
          },
          "hovermode": "closest",
          "mapbox": {
           "style": "light"
          },
          "paper_bgcolor": "white",
          "plot_bgcolor": "#E5ECF6",
          "polar": {
           "angularaxis": {
            "gridcolor": "white",
            "linecolor": "white",
            "ticks": ""
           },
           "bgcolor": "#E5ECF6",
           "radialaxis": {
            "gridcolor": "white",
            "linecolor": "white",
            "ticks": ""
           }
          },
          "scene": {
           "xaxis": {
            "backgroundcolor": "#E5ECF6",
            "gridcolor": "white",
            "gridwidth": 2,
            "linecolor": "white",
            "showbackground": true,
            "ticks": "",
            "zerolinecolor": "white"
           },
           "yaxis": {
            "backgroundcolor": "#E5ECF6",
            "gridcolor": "white",
            "gridwidth": 2,
            "linecolor": "white",
            "showbackground": true,
            "ticks": "",
            "zerolinecolor": "white"
           },
           "zaxis": {
            "backgroundcolor": "#E5ECF6",
            "gridcolor": "white",
            "gridwidth": 2,
            "linecolor": "white",
            "showbackground": true,
            "ticks": "",
            "zerolinecolor": "white"
           }
          },
          "shapedefaults": {
           "line": {
            "color": "#2a3f5f"
           }
          },
          "ternary": {
           "aaxis": {
            "gridcolor": "white",
            "linecolor": "white",
            "ticks": ""
           },
           "baxis": {
            "gridcolor": "white",
            "linecolor": "white",
            "ticks": ""
           },
           "bgcolor": "#E5ECF6",
           "caxis": {
            "gridcolor": "white",
            "linecolor": "white",
            "ticks": ""
           }
          },
          "title": {
           "x": 0.05
          },
          "xaxis": {
           "automargin": true,
           "gridcolor": "white",
           "linecolor": "white",
           "ticks": "",
           "title": {
            "standoff": 15
           },
           "zerolinecolor": "white",
           "zerolinewidth": 2
          },
          "yaxis": {
           "automargin": true,
           "gridcolor": "white",
           "linecolor": "white",
           "ticks": "",
           "title": {
            "standoff": 15
           },
           "zerolinecolor": "white",
           "zerolinewidth": 2
          }
         }
        },
        "title": {
         "font": {
          "size": 15
         },
         "text": "Heatmap",
         "x": 0.5
        },
        "width": 1200,
        "xaxis": {
         "domain": [
          0.15,
          1
         ],
         "mirror": false,
         "rangemode": "tozero",
         "showgrid": false,
         "showline": false,
         "showticklabels": true,
         "tickangle": 45,
         "tickmode": "array",
         "ticks": "",
         "ticktext": [
          "Plasma",
          "Tomato + Plasma",
          "Tomato",
          "Tomato + Plasma",
          "Tomato + Plasma",
          "Fecal_1 + Fecal_2 + Tomato + Plasma",
          "Fecal_1 + Fecal_2 + Tomato + Plasma",
          "Fecal_1 + Tomato",
          "Fecal_1 + Tomato",
          "Fecal_1 + Tomato",
          "Fecal_1 + Fecal_2 + Tomato + Plasma",
          "Fecal_1 + Fecal_2 + Tomato + Plasma",
          "Fecal_1 + Fecal_2 + Tomato + Plasma",
          "Fecal_1 + Fecal_2 + Tomato + Plasma",
          "Fecal_1 + Fecal_2 + Tomato + Plasma",
          "Fecal_2",
          "Fecal_2 + Plasma",
          "Fecal_2 + Plasma",
          "Fecal_2 + Plasma",
          "Fecal_2 + Tomato",
          "Fecal_2 + Tomato",
          "Fecal_2 + Tomato",
          "Fecal_1 + Plasma",
          "Fecal_1 + Fecal_2",
          "Fecal_1 + Fecal_2",
          "Fecal_1 + Fecal_2",
          "Fecal_1 + Plasma",
          "Fecal_1",
          "Fecal_1 + Plasma"
         ],
         "tickvals": [
          5,
          15,
          25,
          35,
          45,
          55,
          65,
          75,
          85,
          95,
          105,
          115,
          125,
          135,
          145,
          155,
          165,
          175,
          185,
          195,
          205,
          215,
          225,
          235,
          245,
          255,
          265,
          275,
          285
         ],
         "type": "linear",
         "zeroline": false
        },
        "xaxis2": {
         "domain": [
          0,
          0.14
         ],
         "mirror": false,
         "showgrid": false,
         "showline": false,
         "showticklabels": false,
         "tickangle": 45,
         "ticks": "",
         "zeroline": false
        },
        "yaxis": {
         "domain": [
          0,
          0.87
         ],
         "mirror": false,
         "rangemode": "tozero",
         "showgrid": false,
         "showline": false,
         "showticklabels": false,
         "ticks": "",
         "type": "linear",
         "zeroline": false
        },
        "yaxis2": {
         "domain": [
          0.89,
          1
         ],
         "mirror": false,
         "showgrid": false,
         "showline": false,
         "showticklabels": false,
         "ticks": "",
         "zeroline": false
        },
        "yaxis3": {
         "domain": [
          0.84,
          0.9
         ],
         "mirror": false,
         "showgrid": false,
         "showline": false,
         "showticklabels": false,
         "ticks": "",
         "zeroline": false
        }
       }
      }
     },
     "metadata": {}
    }
   ],
   "metadata": {}
  },
  {
   "cell_type": "code",
   "execution_count": 14,
   "source": [
    "memo.plot_hca(\r\n",
    "    memo_matrix=memo_matrix_filtered,\r\n",
    "    df_metadata=df_meta_sub,\r\n",
    "    filename_col = 'Filename',\r\n",
    "    label_col = 'contains',\r\n",
    "    plotly_discrete_cm = px.colors.qualitative.Plotly,\r\n",
    "    linkage_method='ward',\r\n",
    "    linkage_metric = 'euclidean',\r\n",
    "    norm = False,\r\n",
    "    scaling= False\r\n",
    ")"
   ],
   "outputs": [
    {
     "output_type": "display_data",
     "data": {
      "text/plain": [
       "<Figure size 960x640 with 1 Axes>"
      ],
      "image/svg+xml": "<?xml version=\"1.0\" encoding=\"utf-8\" standalone=\"no\"?>\r\n<!DOCTYPE svg PUBLIC \"-//W3C//DTD SVG 1.1//EN\"\r\n  \"http://www.w3.org/Graphics/SVG/1.1/DTD/svg11.dtd\">\r\n<svg height=\"474.598125pt\" version=\"1.1\" viewBox=\"0 0 881.9 474.598125\" width=\"881.9pt\" xmlns=\"http://www.w3.org/2000/svg\" xmlns:xlink=\"http://www.w3.org/1999/xlink\">\r\n <metadata>\r\n  <rdf:RDF xmlns:cc=\"http://creativecommons.org/ns#\" xmlns:dc=\"http://purl.org/dc/elements/1.1/\" xmlns:rdf=\"http://www.w3.org/1999/02/22-rdf-syntax-ns#\">\r\n   <cc:Work>\r\n    <dc:type rdf:resource=\"http://purl.org/dc/dcmitype/StillImage\"/>\r\n    <dc:date>2021-08-25T17:08:16.132969</dc:date>\r\n    <dc:format>image/svg+xml</dc:format>\r\n    <dc:creator>\r\n     <cc:Agent>\r\n      <dc:title>Matplotlib v3.4.3, https://matplotlib.org/</dc:title>\r\n     </cc:Agent>\r\n    </dc:creator>\r\n   </cc:Work>\r\n  </rdf:RDF>\r\n </metadata>\r\n <defs>\r\n  <style type=\"text/css\">*{stroke-linecap:butt;stroke-linejoin:round;}</style>\r\n </defs>\r\n <g id=\"figure_1\">\r\n  <g id=\"patch_1\">\r\n   <path d=\"M 0 474.598125 \r\nL 881.9 474.598125 \r\nL 881.9 0 \r\nL 0 0 \r\nz\r\n\" style=\"fill:#ffffff;\"/>\r\n  </g>\r\n  <g id=\"axes_1\">\r\n   <g id=\"patch_2\">\r\n    <path d=\"M 7.2 450.72 \r\nL 676.8 450.72 \r\nL 676.8 7.2 \r\nL 7.2 7.2 \r\nz\r\n\" style=\"fill:#ffffff;\"/>\r\n   </g>\r\n   <g id=\"matplotlib.axis_1\">\r\n    <g id=\"xtick_1\">\r\n     <g id=\"line2d_1\">\r\n      <defs>\r\n       <path d=\"M 0 0 \r\nL 0 3.5 \r\n\" id=\"mdaa94c7a8e\" style=\"stroke:#000000;stroke-width:0.8;\"/>\r\n      </defs>\r\n      <g>\r\n       <use style=\"stroke:#000000;stroke-width:0.8;\" x=\"676.8\" xlink:href=\"#mdaa94c7a8e\" y=\"450.72\"/>\r\n      </g>\r\n     </g>\r\n     <g id=\"text_1\">\r\n      <!-- 0 -->\r\n      <g transform=\"translate(673.61875 465.318437)scale(0.1 -0.1)\">\r\n       <defs>\r\n        <path d=\"M 2034 4250 \r\nQ 1547 4250 1301 3770 \r\nQ 1056 3291 1056 2328 \r\nQ 1056 1369 1301 889 \r\nQ 1547 409 2034 409 \r\nQ 2525 409 2770 889 \r\nQ 3016 1369 3016 2328 \r\nQ 3016 3291 2770 3770 \r\nQ 2525 4250 2034 4250 \r\nz\r\nM 2034 4750 \r\nQ 2819 4750 3233 4129 \r\nQ 3647 3509 3647 2328 \r\nQ 3647 1150 3233 529 \r\nQ 2819 -91 2034 -91 \r\nQ 1250 -91 836 529 \r\nQ 422 1150 422 2328 \r\nQ 422 3509 836 4129 \r\nQ 1250 4750 2034 4750 \r\nz\r\n\" id=\"DejaVuSans-30\" transform=\"scale(0.015625)\"/>\r\n       </defs>\r\n       <use xlink:href=\"#DejaVuSans-30\"/>\r\n      </g>\r\n     </g>\r\n    </g>\r\n    <g id=\"xtick_2\">\r\n     <g id=\"line2d_2\">\r\n      <g>\r\n       <use style=\"stroke:#000000;stroke-width:0.8;\" x=\"534.441224\" xlink:href=\"#mdaa94c7a8e\" y=\"450.72\"/>\r\n      </g>\r\n     </g>\r\n     <g id=\"text_2\">\r\n      <!-- 2000 -->\r\n      <g transform=\"translate(521.716224 465.318437)scale(0.1 -0.1)\">\r\n       <defs>\r\n        <path d=\"M 1228 531 \r\nL 3431 531 \r\nL 3431 0 \r\nL 469 0 \r\nL 469 531 \r\nQ 828 903 1448 1529 \r\nQ 2069 2156 2228 2338 \r\nQ 2531 2678 2651 2914 \r\nQ 2772 3150 2772 3378 \r\nQ 2772 3750 2511 3984 \r\nQ 2250 4219 1831 4219 \r\nQ 1534 4219 1204 4116 \r\nQ 875 4013 500 3803 \r\nL 500 4441 \r\nQ 881 4594 1212 4672 \r\nQ 1544 4750 1819 4750 \r\nQ 2544 4750 2975 4387 \r\nQ 3406 4025 3406 3419 \r\nQ 3406 3131 3298 2873 \r\nQ 3191 2616 2906 2266 \r\nQ 2828 2175 2409 1742 \r\nQ 1991 1309 1228 531 \r\nz\r\n\" id=\"DejaVuSans-32\" transform=\"scale(0.015625)\"/>\r\n       </defs>\r\n       <use xlink:href=\"#DejaVuSans-32\"/>\r\n       <use x=\"63.623047\" xlink:href=\"#DejaVuSans-30\"/>\r\n       <use x=\"127.246094\" xlink:href=\"#DejaVuSans-30\"/>\r\n       <use x=\"190.869141\" xlink:href=\"#DejaVuSans-30\"/>\r\n      </g>\r\n     </g>\r\n    </g>\r\n    <g id=\"xtick_3\">\r\n     <g id=\"line2d_3\">\r\n      <g>\r\n       <use style=\"stroke:#000000;stroke-width:0.8;\" x=\"392.082449\" xlink:href=\"#mdaa94c7a8e\" y=\"450.72\"/>\r\n      </g>\r\n     </g>\r\n     <g id=\"text_3\">\r\n      <!-- 4000 -->\r\n      <g transform=\"translate(379.357449 465.318437)scale(0.1 -0.1)\">\r\n       <defs>\r\n        <path d=\"M 2419 4116 \r\nL 825 1625 \r\nL 2419 1625 \r\nL 2419 4116 \r\nz\r\nM 2253 4666 \r\nL 3047 4666 \r\nL 3047 1625 \r\nL 3713 1625 \r\nL 3713 1100 \r\nL 3047 1100 \r\nL 3047 0 \r\nL 2419 0 \r\nL 2419 1100 \r\nL 313 1100 \r\nL 313 1709 \r\nL 2253 4666 \r\nz\r\n\" id=\"DejaVuSans-34\" transform=\"scale(0.015625)\"/>\r\n       </defs>\r\n       <use xlink:href=\"#DejaVuSans-34\"/>\r\n       <use x=\"63.623047\" xlink:href=\"#DejaVuSans-30\"/>\r\n       <use x=\"127.246094\" xlink:href=\"#DejaVuSans-30\"/>\r\n       <use x=\"190.869141\" xlink:href=\"#DejaVuSans-30\"/>\r\n      </g>\r\n     </g>\r\n    </g>\r\n    <g id=\"xtick_4\">\r\n     <g id=\"line2d_4\">\r\n      <g>\r\n       <use style=\"stroke:#000000;stroke-width:0.8;\" x=\"249.723673\" xlink:href=\"#mdaa94c7a8e\" y=\"450.72\"/>\r\n      </g>\r\n     </g>\r\n     <g id=\"text_4\">\r\n      <!-- 6000 -->\r\n      <g transform=\"translate(236.998673 465.318437)scale(0.1 -0.1)\">\r\n       <defs>\r\n        <path d=\"M 2113 2584 \r\nQ 1688 2584 1439 2293 \r\nQ 1191 2003 1191 1497 \r\nQ 1191 994 1439 701 \r\nQ 1688 409 2113 409 \r\nQ 2538 409 2786 701 \r\nQ 3034 994 3034 1497 \r\nQ 3034 2003 2786 2293 \r\nQ 2538 2584 2113 2584 \r\nz\r\nM 3366 4563 \r\nL 3366 3988 \r\nQ 3128 4100 2886 4159 \r\nQ 2644 4219 2406 4219 \r\nQ 1781 4219 1451 3797 \r\nQ 1122 3375 1075 2522 \r\nQ 1259 2794 1537 2939 \r\nQ 1816 3084 2150 3084 \r\nQ 2853 3084 3261 2657 \r\nQ 3669 2231 3669 1497 \r\nQ 3669 778 3244 343 \r\nQ 2819 -91 2113 -91 \r\nQ 1303 -91 875 529 \r\nQ 447 1150 447 2328 \r\nQ 447 3434 972 4092 \r\nQ 1497 4750 2381 4750 \r\nQ 2619 4750 2861 4703 \r\nQ 3103 4656 3366 4563 \r\nz\r\n\" id=\"DejaVuSans-36\" transform=\"scale(0.015625)\"/>\r\n       </defs>\r\n       <use xlink:href=\"#DejaVuSans-36\"/>\r\n       <use x=\"63.623047\" xlink:href=\"#DejaVuSans-30\"/>\r\n       <use x=\"127.246094\" xlink:href=\"#DejaVuSans-30\"/>\r\n       <use x=\"190.869141\" xlink:href=\"#DejaVuSans-30\"/>\r\n      </g>\r\n     </g>\r\n    </g>\r\n    <g id=\"xtick_5\">\r\n     <g id=\"line2d_5\">\r\n      <g>\r\n       <use style=\"stroke:#000000;stroke-width:0.8;\" x=\"107.364897\" xlink:href=\"#mdaa94c7a8e\" y=\"450.72\"/>\r\n      </g>\r\n     </g>\r\n     <g id=\"text_5\">\r\n      <!-- 8000 -->\r\n      <g transform=\"translate(94.639897 465.318437)scale(0.1 -0.1)\">\r\n       <defs>\r\n        <path d=\"M 2034 2216 \r\nQ 1584 2216 1326 1975 \r\nQ 1069 1734 1069 1313 \r\nQ 1069 891 1326 650 \r\nQ 1584 409 2034 409 \r\nQ 2484 409 2743 651 \r\nQ 3003 894 3003 1313 \r\nQ 3003 1734 2745 1975 \r\nQ 2488 2216 2034 2216 \r\nz\r\nM 1403 2484 \r\nQ 997 2584 770 2862 \r\nQ 544 3141 544 3541 \r\nQ 544 4100 942 4425 \r\nQ 1341 4750 2034 4750 \r\nQ 2731 4750 3128 4425 \r\nQ 3525 4100 3525 3541 \r\nQ 3525 3141 3298 2862 \r\nQ 3072 2584 2669 2484 \r\nQ 3125 2378 3379 2068 \r\nQ 3634 1759 3634 1313 \r\nQ 3634 634 3220 271 \r\nQ 2806 -91 2034 -91 \r\nQ 1263 -91 848 271 \r\nQ 434 634 434 1313 \r\nQ 434 1759 690 2068 \r\nQ 947 2378 1403 2484 \r\nz\r\nM 1172 3481 \r\nQ 1172 3119 1398 2916 \r\nQ 1625 2713 2034 2713 \r\nQ 2441 2713 2670 2916 \r\nQ 2900 3119 2900 3481 \r\nQ 2900 3844 2670 4047 \r\nQ 2441 4250 2034 4250 \r\nQ 1625 4250 1398 4047 \r\nQ 1172 3844 1172 3481 \r\nz\r\n\" id=\"DejaVuSans-38\" transform=\"scale(0.015625)\"/>\r\n       </defs>\r\n       <use xlink:href=\"#DejaVuSans-38\"/>\r\n       <use x=\"63.623047\" xlink:href=\"#DejaVuSans-30\"/>\r\n       <use x=\"127.246094\" xlink:href=\"#DejaVuSans-30\"/>\r\n       <use x=\"190.869141\" xlink:href=\"#DejaVuSans-30\"/>\r\n      </g>\r\n     </g>\r\n    </g>\r\n   </g>\r\n   <g id=\"matplotlib.axis_2\">\r\n    <g id=\"ytick_1\">\r\n     <g id=\"text_6\">\r\n      <!-- Plasma -->\r\n      <g style=\"fill:#636efa;\" transform=\"translate(683.8 446.872322)scale(0.1 -0.1)\">\r\n       <defs>\r\n        <path d=\"M 1259 4147 \r\nL 1259 2394 \r\nL 2053 2394 \r\nQ 2494 2394 2734 2622 \r\nQ 2975 2850 2975 3272 \r\nQ 2975 3691 2734 3919 \r\nQ 2494 4147 2053 4147 \r\nL 1259 4147 \r\nz\r\nM 628 4666 \r\nL 2053 4666 \r\nQ 2838 4666 3239 4311 \r\nQ 3641 3956 3641 3272 \r\nQ 3641 2581 3239 2228 \r\nQ 2838 1875 2053 1875 \r\nL 1259 1875 \r\nL 1259 0 \r\nL 628 0 \r\nL 628 4666 \r\nz\r\n\" id=\"DejaVuSans-50\" transform=\"scale(0.015625)\"/>\r\n        <path d=\"M 603 4863 \r\nL 1178 4863 \r\nL 1178 0 \r\nL 603 0 \r\nL 603 4863 \r\nz\r\n\" id=\"DejaVuSans-6c\" transform=\"scale(0.015625)\"/>\r\n        <path d=\"M 2194 1759 \r\nQ 1497 1759 1228 1600 \r\nQ 959 1441 959 1056 \r\nQ 959 750 1161 570 \r\nQ 1363 391 1709 391 \r\nQ 2188 391 2477 730 \r\nQ 2766 1069 2766 1631 \r\nL 2766 1759 \r\nL 2194 1759 \r\nz\r\nM 3341 1997 \r\nL 3341 0 \r\nL 2766 0 \r\nL 2766 531 \r\nQ 2569 213 2275 61 \r\nQ 1981 -91 1556 -91 \r\nQ 1019 -91 701 211 \r\nQ 384 513 384 1019 \r\nQ 384 1609 779 1909 \r\nQ 1175 2209 1959 2209 \r\nL 2766 2209 \r\nL 2766 2266 \r\nQ 2766 2663 2505 2880 \r\nQ 2244 3097 1772 3097 \r\nQ 1472 3097 1187 3025 \r\nQ 903 2953 641 2809 \r\nL 641 3341 \r\nQ 956 3463 1253 3523 \r\nQ 1550 3584 1831 3584 \r\nQ 2591 3584 2966 3190 \r\nQ 3341 2797 3341 1997 \r\nz\r\n\" id=\"DejaVuSans-61\" transform=\"scale(0.015625)\"/>\r\n        <path d=\"M 2834 3397 \r\nL 2834 2853 \r\nQ 2591 2978 2328 3040 \r\nQ 2066 3103 1784 3103 \r\nQ 1356 3103 1142 2972 \r\nQ 928 2841 928 2578 \r\nQ 928 2378 1081 2264 \r\nQ 1234 2150 1697 2047 \r\nL 1894 2003 \r\nQ 2506 1872 2764 1633 \r\nQ 3022 1394 3022 966 \r\nQ 3022 478 2636 193 \r\nQ 2250 -91 1575 -91 \r\nQ 1294 -91 989 -36 \r\nQ 684 19 347 128 \r\nL 347 722 \r\nQ 666 556 975 473 \r\nQ 1284 391 1588 391 \r\nQ 1994 391 2212 530 \r\nQ 2431 669 2431 922 \r\nQ 2431 1156 2273 1281 \r\nQ 2116 1406 1581 1522 \r\nL 1381 1569 \r\nQ 847 1681 609 1914 \r\nQ 372 2147 372 2553 \r\nQ 372 3047 722 3315 \r\nQ 1072 3584 1716 3584 \r\nQ 2034 3584 2315 3537 \r\nQ 2597 3491 2834 3397 \r\nz\r\n\" id=\"DejaVuSans-73\" transform=\"scale(0.015625)\"/>\r\n        <path d=\"M 3328 2828 \r\nQ 3544 3216 3844 3400 \r\nQ 4144 3584 4550 3584 \r\nQ 5097 3584 5394 3201 \r\nQ 5691 2819 5691 2113 \r\nL 5691 0 \r\nL 5113 0 \r\nL 5113 2094 \r\nQ 5113 2597 4934 2840 \r\nQ 4756 3084 4391 3084 \r\nQ 3944 3084 3684 2787 \r\nQ 3425 2491 3425 1978 \r\nL 3425 0 \r\nL 2847 0 \r\nL 2847 2094 \r\nQ 2847 2600 2669 2842 \r\nQ 2491 3084 2119 3084 \r\nQ 1678 3084 1418 2786 \r\nQ 1159 2488 1159 1978 \r\nL 1159 0 \r\nL 581 0 \r\nL 581 3500 \r\nL 1159 3500 \r\nL 1159 2956 \r\nQ 1356 3278 1631 3431 \r\nQ 1906 3584 2284 3584 \r\nQ 2666 3584 2933 3390 \r\nQ 3200 3197 3328 2828 \r\nz\r\n\" id=\"DejaVuSans-6d\" transform=\"scale(0.015625)\"/>\r\n       </defs>\r\n       <use xlink:href=\"#DejaVuSans-50\"/>\r\n       <use x=\"60.302734\" xlink:href=\"#DejaVuSans-6c\"/>\r\n       <use x=\"88.085938\" xlink:href=\"#DejaVuSans-61\"/>\r\n       <use x=\"149.365234\" xlink:href=\"#DejaVuSans-73\"/>\r\n       <use x=\"201.464844\" xlink:href=\"#DejaVuSans-6d\"/>\r\n       <use x=\"298.876953\" xlink:href=\"#DejaVuSans-61\"/>\r\n      </g>\r\n     </g>\r\n    </g>\r\n    <g id=\"ytick_2\">\r\n     <g id=\"text_7\">\r\n      <!-- Tomato + Plasma -->\r\n      <g style=\"fill:#00cc96;\" transform=\"translate(683.8 431.578529)scale(0.1 -0.1)\">\r\n       <defs>\r\n        <path d=\"M -19 4666 \r\nL 3928 4666 \r\nL 3928 4134 \r\nL 2272 4134 \r\nL 2272 0 \r\nL 1638 0 \r\nL 1638 4134 \r\nL -19 4134 \r\nL -19 4666 \r\nz\r\n\" id=\"DejaVuSans-54\" transform=\"scale(0.015625)\"/>\r\n        <path d=\"M 1959 3097 \r\nQ 1497 3097 1228 2736 \r\nQ 959 2375 959 1747 \r\nQ 959 1119 1226 758 \r\nQ 1494 397 1959 397 \r\nQ 2419 397 2687 759 \r\nQ 2956 1122 2956 1747 \r\nQ 2956 2369 2687 2733 \r\nQ 2419 3097 1959 3097 \r\nz\r\nM 1959 3584 \r\nQ 2709 3584 3137 3096 \r\nQ 3566 2609 3566 1747 \r\nQ 3566 888 3137 398 \r\nQ 2709 -91 1959 -91 \r\nQ 1206 -91 779 398 \r\nQ 353 888 353 1747 \r\nQ 353 2609 779 3096 \r\nQ 1206 3584 1959 3584 \r\nz\r\n\" id=\"DejaVuSans-6f\" transform=\"scale(0.015625)\"/>\r\n        <path d=\"M 1172 4494 \r\nL 1172 3500 \r\nL 2356 3500 \r\nL 2356 3053 \r\nL 1172 3053 \r\nL 1172 1153 \r\nQ 1172 725 1289 603 \r\nQ 1406 481 1766 481 \r\nL 2356 481 \r\nL 2356 0 \r\nL 1766 0 \r\nQ 1100 0 847 248 \r\nQ 594 497 594 1153 \r\nL 594 3053 \r\nL 172 3053 \r\nL 172 3500 \r\nL 594 3500 \r\nL 594 4494 \r\nL 1172 4494 \r\nz\r\n\" id=\"DejaVuSans-74\" transform=\"scale(0.015625)\"/>\r\n        <path id=\"DejaVuSans-20\" transform=\"scale(0.015625)\"/>\r\n        <path d=\"M 2944 4013 \r\nL 2944 2272 \r\nL 4684 2272 \r\nL 4684 1741 \r\nL 2944 1741 \r\nL 2944 0 \r\nL 2419 0 \r\nL 2419 1741 \r\nL 678 1741 \r\nL 678 2272 \r\nL 2419 2272 \r\nL 2419 4013 \r\nL 2944 4013 \r\nz\r\n\" id=\"DejaVuSans-2b\" transform=\"scale(0.015625)\"/>\r\n       </defs>\r\n       <use xlink:href=\"#DejaVuSans-54\"/>\r\n       <use x=\"44.083984\" xlink:href=\"#DejaVuSans-6f\"/>\r\n       <use x=\"105.265625\" xlink:href=\"#DejaVuSans-6d\"/>\r\n       <use x=\"202.677734\" xlink:href=\"#DejaVuSans-61\"/>\r\n       <use x=\"263.957031\" xlink:href=\"#DejaVuSans-74\"/>\r\n       <use x=\"303.166016\" xlink:href=\"#DejaVuSans-6f\"/>\r\n       <use x=\"364.347656\" xlink:href=\"#DejaVuSans-20\"/>\r\n       <use x=\"396.134766\" xlink:href=\"#DejaVuSans-2b\"/>\r\n       <use x=\"479.923828\" xlink:href=\"#DejaVuSans-20\"/>\r\n       <use x=\"511.710938\" xlink:href=\"#DejaVuSans-50\"/>\r\n       <use x=\"572.013672\" xlink:href=\"#DejaVuSans-6c\"/>\r\n       <use x=\"599.796875\" xlink:href=\"#DejaVuSans-61\"/>\r\n       <use x=\"661.076172\" xlink:href=\"#DejaVuSans-73\"/>\r\n       <use x=\"713.175781\" xlink:href=\"#DejaVuSans-6d\"/>\r\n       <use x=\"810.587891\" xlink:href=\"#DejaVuSans-61\"/>\r\n      </g>\r\n     </g>\r\n    </g>\r\n    <g id=\"ytick_3\">\r\n     <g id=\"text_8\">\r\n      <!-- Tomato -->\r\n      <g style=\"fill:#ef553b;\" transform=\"translate(683.8 416.284736)scale(0.1 -0.1)\">\r\n       <use xlink:href=\"#DejaVuSans-54\"/>\r\n       <use x=\"44.083984\" xlink:href=\"#DejaVuSans-6f\"/>\r\n       <use x=\"105.265625\" xlink:href=\"#DejaVuSans-6d\"/>\r\n       <use x=\"202.677734\" xlink:href=\"#DejaVuSans-61\"/>\r\n       <use x=\"263.957031\" xlink:href=\"#DejaVuSans-74\"/>\r\n       <use x=\"303.166016\" xlink:href=\"#DejaVuSans-6f\"/>\r\n      </g>\r\n     </g>\r\n    </g>\r\n    <g id=\"ytick_4\">\r\n     <g id=\"text_9\">\r\n      <!-- Tomato + Plasma -->\r\n      <g style=\"fill:#00cc96;\" transform=\"translate(683.8 400.990943)scale(0.1 -0.1)\">\r\n       <use xlink:href=\"#DejaVuSans-54\"/>\r\n       <use x=\"44.083984\" xlink:href=\"#DejaVuSans-6f\"/>\r\n       <use x=\"105.265625\" xlink:href=\"#DejaVuSans-6d\"/>\r\n       <use x=\"202.677734\" xlink:href=\"#DejaVuSans-61\"/>\r\n       <use x=\"263.957031\" xlink:href=\"#DejaVuSans-74\"/>\r\n       <use x=\"303.166016\" xlink:href=\"#DejaVuSans-6f\"/>\r\n       <use x=\"364.347656\" xlink:href=\"#DejaVuSans-20\"/>\r\n       <use x=\"396.134766\" xlink:href=\"#DejaVuSans-2b\"/>\r\n       <use x=\"479.923828\" xlink:href=\"#DejaVuSans-20\"/>\r\n       <use x=\"511.710938\" xlink:href=\"#DejaVuSans-50\"/>\r\n       <use x=\"572.013672\" xlink:href=\"#DejaVuSans-6c\"/>\r\n       <use x=\"599.796875\" xlink:href=\"#DejaVuSans-61\"/>\r\n       <use x=\"661.076172\" xlink:href=\"#DejaVuSans-73\"/>\r\n       <use x=\"713.175781\" xlink:href=\"#DejaVuSans-6d\"/>\r\n       <use x=\"810.587891\" xlink:href=\"#DejaVuSans-61\"/>\r\n      </g>\r\n     </g>\r\n    </g>\r\n    <g id=\"ytick_5\">\r\n     <g id=\"text_10\">\r\n      <!-- Tomato + Plasma -->\r\n      <g style=\"fill:#00cc96;\" transform=\"translate(683.8 385.69715)scale(0.1 -0.1)\">\r\n       <use xlink:href=\"#DejaVuSans-54\"/>\r\n       <use x=\"44.083984\" xlink:href=\"#DejaVuSans-6f\"/>\r\n       <use x=\"105.265625\" xlink:href=\"#DejaVuSans-6d\"/>\r\n       <use x=\"202.677734\" xlink:href=\"#DejaVuSans-61\"/>\r\n       <use x=\"263.957031\" xlink:href=\"#DejaVuSans-74\"/>\r\n       <use x=\"303.166016\" xlink:href=\"#DejaVuSans-6f\"/>\r\n       <use x=\"364.347656\" xlink:href=\"#DejaVuSans-20\"/>\r\n       <use x=\"396.134766\" xlink:href=\"#DejaVuSans-2b\"/>\r\n       <use x=\"479.923828\" xlink:href=\"#DejaVuSans-20\"/>\r\n       <use x=\"511.710938\" xlink:href=\"#DejaVuSans-50\"/>\r\n       <use x=\"572.013672\" xlink:href=\"#DejaVuSans-6c\"/>\r\n       <use x=\"599.796875\" xlink:href=\"#DejaVuSans-61\"/>\r\n       <use x=\"661.076172\" xlink:href=\"#DejaVuSans-73\"/>\r\n       <use x=\"713.175781\" xlink:href=\"#DejaVuSans-6d\"/>\r\n       <use x=\"810.587891\" xlink:href=\"#DejaVuSans-61\"/>\r\n      </g>\r\n     </g>\r\n    </g>\r\n    <g id=\"ytick_6\">\r\n     <g id=\"text_11\">\r\n      <!-- Fecal_1 + Fecal_2 + Tomato + Plasma -->\r\n      <g style=\"fill:#b6e880;\" transform=\"translate(683.8 370.403357)scale(0.1 -0.1)\">\r\n       <defs>\r\n        <path d=\"M 628 4666 \r\nL 3309 4666 \r\nL 3309 4134 \r\nL 1259 4134 \r\nL 1259 2759 \r\nL 3109 2759 \r\nL 3109 2228 \r\nL 1259 2228 \r\nL 1259 0 \r\nL 628 0 \r\nL 628 4666 \r\nz\r\n\" id=\"DejaVuSans-46\" transform=\"scale(0.015625)\"/>\r\n        <path d=\"M 3597 1894 \r\nL 3597 1613 \r\nL 953 1613 \r\nQ 991 1019 1311 708 \r\nQ 1631 397 2203 397 \r\nQ 2534 397 2845 478 \r\nQ 3156 559 3463 722 \r\nL 3463 178 \r\nQ 3153 47 2828 -22 \r\nQ 2503 -91 2169 -91 \r\nQ 1331 -91 842 396 \r\nQ 353 884 353 1716 \r\nQ 353 2575 817 3079 \r\nQ 1281 3584 2069 3584 \r\nQ 2775 3584 3186 3129 \r\nQ 3597 2675 3597 1894 \r\nz\r\nM 3022 2063 \r\nQ 3016 2534 2758 2815 \r\nQ 2500 3097 2075 3097 \r\nQ 1594 3097 1305 2825 \r\nQ 1016 2553 972 2059 \r\nL 3022 2063 \r\nz\r\n\" id=\"DejaVuSans-65\" transform=\"scale(0.015625)\"/>\r\n        <path d=\"M 3122 3366 \r\nL 3122 2828 \r\nQ 2878 2963 2633 3030 \r\nQ 2388 3097 2138 3097 \r\nQ 1578 3097 1268 2742 \r\nQ 959 2388 959 1747 \r\nQ 959 1106 1268 751 \r\nQ 1578 397 2138 397 \r\nQ 2388 397 2633 464 \r\nQ 2878 531 3122 666 \r\nL 3122 134 \r\nQ 2881 22 2623 -34 \r\nQ 2366 -91 2075 -91 \r\nQ 1284 -91 818 406 \r\nQ 353 903 353 1747 \r\nQ 353 2603 823 3093 \r\nQ 1294 3584 2113 3584 \r\nQ 2378 3584 2631 3529 \r\nQ 2884 3475 3122 3366 \r\nz\r\n\" id=\"DejaVuSans-63\" transform=\"scale(0.015625)\"/>\r\n        <path d=\"M 3263 -1063 \r\nL 3263 -1509 \r\nL -63 -1509 \r\nL -63 -1063 \r\nL 3263 -1063 \r\nz\r\n\" id=\"DejaVuSans-5f\" transform=\"scale(0.015625)\"/>\r\n        <path d=\"M 794 531 \r\nL 1825 531 \r\nL 1825 4091 \r\nL 703 3866 \r\nL 703 4441 \r\nL 1819 4666 \r\nL 2450 4666 \r\nL 2450 531 \r\nL 3481 531 \r\nL 3481 0 \r\nL 794 0 \r\nL 794 531 \r\nz\r\n\" id=\"DejaVuSans-31\" transform=\"scale(0.015625)\"/>\r\n       </defs>\r\n       <use xlink:href=\"#DejaVuSans-46\"/>\r\n       <use x=\"52.019531\" xlink:href=\"#DejaVuSans-65\"/>\r\n       <use x=\"113.542969\" xlink:href=\"#DejaVuSans-63\"/>\r\n       <use x=\"168.523438\" xlink:href=\"#DejaVuSans-61\"/>\r\n       <use x=\"229.802734\" xlink:href=\"#DejaVuSans-6c\"/>\r\n       <use x=\"257.585938\" xlink:href=\"#DejaVuSans-5f\"/>\r\n       <use x=\"307.585938\" xlink:href=\"#DejaVuSans-31\"/>\r\n       <use x=\"371.208984\" xlink:href=\"#DejaVuSans-20\"/>\r\n       <use x=\"402.996094\" xlink:href=\"#DejaVuSans-2b\"/>\r\n       <use x=\"486.785156\" xlink:href=\"#DejaVuSans-20\"/>\r\n       <use x=\"518.572266\" xlink:href=\"#DejaVuSans-46\"/>\r\n       <use x=\"570.591797\" xlink:href=\"#DejaVuSans-65\"/>\r\n       <use x=\"632.115234\" xlink:href=\"#DejaVuSans-63\"/>\r\n       <use x=\"687.095703\" xlink:href=\"#DejaVuSans-61\"/>\r\n       <use x=\"748.375\" xlink:href=\"#DejaVuSans-6c\"/>\r\n       <use x=\"776.158203\" xlink:href=\"#DejaVuSans-5f\"/>\r\n       <use x=\"826.158203\" xlink:href=\"#DejaVuSans-32\"/>\r\n       <use x=\"889.78125\" xlink:href=\"#DejaVuSans-20\"/>\r\n       <use x=\"921.568359\" xlink:href=\"#DejaVuSans-2b\"/>\r\n       <use x=\"1005.357422\" xlink:href=\"#DejaVuSans-20\"/>\r\n       <use x=\"1037.144531\" xlink:href=\"#DejaVuSans-54\"/>\r\n       <use x=\"1081.228516\" xlink:href=\"#DejaVuSans-6f\"/>\r\n       <use x=\"1142.410156\" xlink:href=\"#DejaVuSans-6d\"/>\r\n       <use x=\"1239.822266\" xlink:href=\"#DejaVuSans-61\"/>\r\n       <use x=\"1301.101562\" xlink:href=\"#DejaVuSans-74\"/>\r\n       <use x=\"1340.310547\" xlink:href=\"#DejaVuSans-6f\"/>\r\n       <use x=\"1401.492188\" xlink:href=\"#DejaVuSans-20\"/>\r\n       <use x=\"1433.279297\" xlink:href=\"#DejaVuSans-2b\"/>\r\n       <use x=\"1517.068359\" xlink:href=\"#DejaVuSans-20\"/>\r\n       <use x=\"1548.855469\" xlink:href=\"#DejaVuSans-50\"/>\r\n       <use x=\"1609.158203\" xlink:href=\"#DejaVuSans-6c\"/>\r\n       <use x=\"1636.941406\" xlink:href=\"#DejaVuSans-61\"/>\r\n       <use x=\"1698.220703\" xlink:href=\"#DejaVuSans-73\"/>\r\n       <use x=\"1750.320312\" xlink:href=\"#DejaVuSans-6d\"/>\r\n       <use x=\"1847.732422\" xlink:href=\"#DejaVuSans-61\"/>\r\n      </g>\r\n     </g>\r\n    </g>\r\n    <g id=\"ytick_7\">\r\n     <g id=\"text_12\">\r\n      <!-- Fecal_1 + Fecal_2 + Tomato + Plasma -->\r\n      <g style=\"fill:#b6e880;\" transform=\"translate(683.8 355.109564)scale(0.1 -0.1)\">\r\n       <use xlink:href=\"#DejaVuSans-46\"/>\r\n       <use x=\"52.019531\" xlink:href=\"#DejaVuSans-65\"/>\r\n       <use x=\"113.542969\" xlink:href=\"#DejaVuSans-63\"/>\r\n       <use x=\"168.523438\" xlink:href=\"#DejaVuSans-61\"/>\r\n       <use x=\"229.802734\" xlink:href=\"#DejaVuSans-6c\"/>\r\n       <use x=\"257.585938\" xlink:href=\"#DejaVuSans-5f\"/>\r\n       <use x=\"307.585938\" xlink:href=\"#DejaVuSans-31\"/>\r\n       <use x=\"371.208984\" xlink:href=\"#DejaVuSans-20\"/>\r\n       <use x=\"402.996094\" xlink:href=\"#DejaVuSans-2b\"/>\r\n       <use x=\"486.785156\" xlink:href=\"#DejaVuSans-20\"/>\r\n       <use x=\"518.572266\" xlink:href=\"#DejaVuSans-46\"/>\r\n       <use x=\"570.591797\" xlink:href=\"#DejaVuSans-65\"/>\r\n       <use x=\"632.115234\" xlink:href=\"#DejaVuSans-63\"/>\r\n       <use x=\"687.095703\" xlink:href=\"#DejaVuSans-61\"/>\r\n       <use x=\"748.375\" xlink:href=\"#DejaVuSans-6c\"/>\r\n       <use x=\"776.158203\" xlink:href=\"#DejaVuSans-5f\"/>\r\n       <use x=\"826.158203\" xlink:href=\"#DejaVuSans-32\"/>\r\n       <use x=\"889.78125\" xlink:href=\"#DejaVuSans-20\"/>\r\n       <use x=\"921.568359\" xlink:href=\"#DejaVuSans-2b\"/>\r\n       <use x=\"1005.357422\" xlink:href=\"#DejaVuSans-20\"/>\r\n       <use x=\"1037.144531\" xlink:href=\"#DejaVuSans-54\"/>\r\n       <use x=\"1081.228516\" xlink:href=\"#DejaVuSans-6f\"/>\r\n       <use x=\"1142.410156\" xlink:href=\"#DejaVuSans-6d\"/>\r\n       <use x=\"1239.822266\" xlink:href=\"#DejaVuSans-61\"/>\r\n       <use x=\"1301.101562\" xlink:href=\"#DejaVuSans-74\"/>\r\n       <use x=\"1340.310547\" xlink:href=\"#DejaVuSans-6f\"/>\r\n       <use x=\"1401.492188\" xlink:href=\"#DejaVuSans-20\"/>\r\n       <use x=\"1433.279297\" xlink:href=\"#DejaVuSans-2b\"/>\r\n       <use x=\"1517.068359\" xlink:href=\"#DejaVuSans-20\"/>\r\n       <use x=\"1548.855469\" xlink:href=\"#DejaVuSans-50\"/>\r\n       <use x=\"1609.158203\" xlink:href=\"#DejaVuSans-6c\"/>\r\n       <use x=\"1636.941406\" xlink:href=\"#DejaVuSans-61\"/>\r\n       <use x=\"1698.220703\" xlink:href=\"#DejaVuSans-73\"/>\r\n       <use x=\"1750.320312\" xlink:href=\"#DejaVuSans-6d\"/>\r\n       <use x=\"1847.732422\" xlink:href=\"#DejaVuSans-61\"/>\r\n      </g>\r\n     </g>\r\n    </g>\r\n    <g id=\"ytick_8\">\r\n     <g id=\"text_13\">\r\n      <!-- Fecal_1 + Tomato -->\r\n      <g style=\"fill:#fecb52;\" transform=\"translate(683.8 339.81577)scale(0.1 -0.1)\">\r\n       <use xlink:href=\"#DejaVuSans-46\"/>\r\n       <use x=\"52.019531\" xlink:href=\"#DejaVuSans-65\"/>\r\n       <use x=\"113.542969\" xlink:href=\"#DejaVuSans-63\"/>\r\n       <use x=\"168.523438\" xlink:href=\"#DejaVuSans-61\"/>\r\n       <use x=\"229.802734\" xlink:href=\"#DejaVuSans-6c\"/>\r\n       <use x=\"257.585938\" xlink:href=\"#DejaVuSans-5f\"/>\r\n       <use x=\"307.585938\" xlink:href=\"#DejaVuSans-31\"/>\r\n       <use x=\"371.208984\" xlink:href=\"#DejaVuSans-20\"/>\r\n       <use x=\"402.996094\" xlink:href=\"#DejaVuSans-2b\"/>\r\n       <use x=\"486.785156\" xlink:href=\"#DejaVuSans-20\"/>\r\n       <use x=\"518.572266\" xlink:href=\"#DejaVuSans-54\"/>\r\n       <use x=\"562.65625\" xlink:href=\"#DejaVuSans-6f\"/>\r\n       <use x=\"623.837891\" xlink:href=\"#DejaVuSans-6d\"/>\r\n       <use x=\"721.25\" xlink:href=\"#DejaVuSans-61\"/>\r\n       <use x=\"782.529297\" xlink:href=\"#DejaVuSans-74\"/>\r\n       <use x=\"821.738281\" xlink:href=\"#DejaVuSans-6f\"/>\r\n      </g>\r\n     </g>\r\n    </g>\r\n    <g id=\"ytick_9\">\r\n     <g id=\"text_14\">\r\n      <!-- Fecal_1 + Tomato -->\r\n      <g style=\"fill:#fecb52;\" transform=\"translate(683.8 324.521977)scale(0.1 -0.1)\">\r\n       <use xlink:href=\"#DejaVuSans-46\"/>\r\n       <use x=\"52.019531\" xlink:href=\"#DejaVuSans-65\"/>\r\n       <use x=\"113.542969\" xlink:href=\"#DejaVuSans-63\"/>\r\n       <use x=\"168.523438\" xlink:href=\"#DejaVuSans-61\"/>\r\n       <use x=\"229.802734\" xlink:href=\"#DejaVuSans-6c\"/>\r\n       <use x=\"257.585938\" xlink:href=\"#DejaVuSans-5f\"/>\r\n       <use x=\"307.585938\" xlink:href=\"#DejaVuSans-31\"/>\r\n       <use x=\"371.208984\" xlink:href=\"#DejaVuSans-20\"/>\r\n       <use x=\"402.996094\" xlink:href=\"#DejaVuSans-2b\"/>\r\n       <use x=\"486.785156\" xlink:href=\"#DejaVuSans-20\"/>\r\n       <use x=\"518.572266\" xlink:href=\"#DejaVuSans-54\"/>\r\n       <use x=\"562.65625\" xlink:href=\"#DejaVuSans-6f\"/>\r\n       <use x=\"623.837891\" xlink:href=\"#DejaVuSans-6d\"/>\r\n       <use x=\"721.25\" xlink:href=\"#DejaVuSans-61\"/>\r\n       <use x=\"782.529297\" xlink:href=\"#DejaVuSans-74\"/>\r\n       <use x=\"821.738281\" xlink:href=\"#DejaVuSans-6f\"/>\r\n      </g>\r\n     </g>\r\n    </g>\r\n    <g id=\"ytick_10\">\r\n     <g id=\"text_15\">\r\n      <!-- Fecal_1 + Tomato -->\r\n      <g style=\"fill:#fecb52;\" transform=\"translate(683.8 309.228184)scale(0.1 -0.1)\">\r\n       <use xlink:href=\"#DejaVuSans-46\"/>\r\n       <use x=\"52.019531\" xlink:href=\"#DejaVuSans-65\"/>\r\n       <use x=\"113.542969\" xlink:href=\"#DejaVuSans-63\"/>\r\n       <use x=\"168.523438\" xlink:href=\"#DejaVuSans-61\"/>\r\n       <use x=\"229.802734\" xlink:href=\"#DejaVuSans-6c\"/>\r\n       <use x=\"257.585938\" xlink:href=\"#DejaVuSans-5f\"/>\r\n       <use x=\"307.585938\" xlink:href=\"#DejaVuSans-31\"/>\r\n       <use x=\"371.208984\" xlink:href=\"#DejaVuSans-20\"/>\r\n       <use x=\"402.996094\" xlink:href=\"#DejaVuSans-2b\"/>\r\n       <use x=\"486.785156\" xlink:href=\"#DejaVuSans-20\"/>\r\n       <use x=\"518.572266\" xlink:href=\"#DejaVuSans-54\"/>\r\n       <use x=\"562.65625\" xlink:href=\"#DejaVuSans-6f\"/>\r\n       <use x=\"623.837891\" xlink:href=\"#DejaVuSans-6d\"/>\r\n       <use x=\"721.25\" xlink:href=\"#DejaVuSans-61\"/>\r\n       <use x=\"782.529297\" xlink:href=\"#DejaVuSans-74\"/>\r\n       <use x=\"821.738281\" xlink:href=\"#DejaVuSans-6f\"/>\r\n      </g>\r\n     </g>\r\n    </g>\r\n    <g id=\"ytick_11\">\r\n     <g id=\"text_16\">\r\n      <!-- Fecal_1 + Fecal_2 + Tomato + Plasma -->\r\n      <g style=\"fill:#b6e880;\" transform=\"translate(683.8 293.934391)scale(0.1 -0.1)\">\r\n       <use xlink:href=\"#DejaVuSans-46\"/>\r\n       <use x=\"52.019531\" xlink:href=\"#DejaVuSans-65\"/>\r\n       <use x=\"113.542969\" xlink:href=\"#DejaVuSans-63\"/>\r\n       <use x=\"168.523438\" xlink:href=\"#DejaVuSans-61\"/>\r\n       <use x=\"229.802734\" xlink:href=\"#DejaVuSans-6c\"/>\r\n       <use x=\"257.585938\" xlink:href=\"#DejaVuSans-5f\"/>\r\n       <use x=\"307.585938\" xlink:href=\"#DejaVuSans-31\"/>\r\n       <use x=\"371.208984\" xlink:href=\"#DejaVuSans-20\"/>\r\n       <use x=\"402.996094\" xlink:href=\"#DejaVuSans-2b\"/>\r\n       <use x=\"486.785156\" xlink:href=\"#DejaVuSans-20\"/>\r\n       <use x=\"518.572266\" xlink:href=\"#DejaVuSans-46\"/>\r\n       <use x=\"570.591797\" xlink:href=\"#DejaVuSans-65\"/>\r\n       <use x=\"632.115234\" xlink:href=\"#DejaVuSans-63\"/>\r\n       <use x=\"687.095703\" xlink:href=\"#DejaVuSans-61\"/>\r\n       <use x=\"748.375\" xlink:href=\"#DejaVuSans-6c\"/>\r\n       <use x=\"776.158203\" xlink:href=\"#DejaVuSans-5f\"/>\r\n       <use x=\"826.158203\" xlink:href=\"#DejaVuSans-32\"/>\r\n       <use x=\"889.78125\" xlink:href=\"#DejaVuSans-20\"/>\r\n       <use x=\"921.568359\" xlink:href=\"#DejaVuSans-2b\"/>\r\n       <use x=\"1005.357422\" xlink:href=\"#DejaVuSans-20\"/>\r\n       <use x=\"1037.144531\" xlink:href=\"#DejaVuSans-54\"/>\r\n       <use x=\"1081.228516\" xlink:href=\"#DejaVuSans-6f\"/>\r\n       <use x=\"1142.410156\" xlink:href=\"#DejaVuSans-6d\"/>\r\n       <use x=\"1239.822266\" xlink:href=\"#DejaVuSans-61\"/>\r\n       <use x=\"1301.101562\" xlink:href=\"#DejaVuSans-74\"/>\r\n       <use x=\"1340.310547\" xlink:href=\"#DejaVuSans-6f\"/>\r\n       <use x=\"1401.492188\" xlink:href=\"#DejaVuSans-20\"/>\r\n       <use x=\"1433.279297\" xlink:href=\"#DejaVuSans-2b\"/>\r\n       <use x=\"1517.068359\" xlink:href=\"#DejaVuSans-20\"/>\r\n       <use x=\"1548.855469\" xlink:href=\"#DejaVuSans-50\"/>\r\n       <use x=\"1609.158203\" xlink:href=\"#DejaVuSans-6c\"/>\r\n       <use x=\"1636.941406\" xlink:href=\"#DejaVuSans-61\"/>\r\n       <use x=\"1698.220703\" xlink:href=\"#DejaVuSans-73\"/>\r\n       <use x=\"1750.320312\" xlink:href=\"#DejaVuSans-6d\"/>\r\n       <use x=\"1847.732422\" xlink:href=\"#DejaVuSans-61\"/>\r\n      </g>\r\n     </g>\r\n    </g>\r\n    <g id=\"ytick_12\">\r\n     <g id=\"text_17\">\r\n      <!-- Fecal_1 + Fecal_2 + Tomato + Plasma -->\r\n      <g style=\"fill:#b6e880;\" transform=\"translate(683.8 278.640598)scale(0.1 -0.1)\">\r\n       <use xlink:href=\"#DejaVuSans-46\"/>\r\n       <use x=\"52.019531\" xlink:href=\"#DejaVuSans-65\"/>\r\n       <use x=\"113.542969\" xlink:href=\"#DejaVuSans-63\"/>\r\n       <use x=\"168.523438\" xlink:href=\"#DejaVuSans-61\"/>\r\n       <use x=\"229.802734\" xlink:href=\"#DejaVuSans-6c\"/>\r\n       <use x=\"257.585938\" xlink:href=\"#DejaVuSans-5f\"/>\r\n       <use x=\"307.585938\" xlink:href=\"#DejaVuSans-31\"/>\r\n       <use x=\"371.208984\" xlink:href=\"#DejaVuSans-20\"/>\r\n       <use x=\"402.996094\" xlink:href=\"#DejaVuSans-2b\"/>\r\n       <use x=\"486.785156\" xlink:href=\"#DejaVuSans-20\"/>\r\n       <use x=\"518.572266\" xlink:href=\"#DejaVuSans-46\"/>\r\n       <use x=\"570.591797\" xlink:href=\"#DejaVuSans-65\"/>\r\n       <use x=\"632.115234\" xlink:href=\"#DejaVuSans-63\"/>\r\n       <use x=\"687.095703\" xlink:href=\"#DejaVuSans-61\"/>\r\n       <use x=\"748.375\" xlink:href=\"#DejaVuSans-6c\"/>\r\n       <use x=\"776.158203\" xlink:href=\"#DejaVuSans-5f\"/>\r\n       <use x=\"826.158203\" xlink:href=\"#DejaVuSans-32\"/>\r\n       <use x=\"889.78125\" xlink:href=\"#DejaVuSans-20\"/>\r\n       <use x=\"921.568359\" xlink:href=\"#DejaVuSans-2b\"/>\r\n       <use x=\"1005.357422\" xlink:href=\"#DejaVuSans-20\"/>\r\n       <use x=\"1037.144531\" xlink:href=\"#DejaVuSans-54\"/>\r\n       <use x=\"1081.228516\" xlink:href=\"#DejaVuSans-6f\"/>\r\n       <use x=\"1142.410156\" xlink:href=\"#DejaVuSans-6d\"/>\r\n       <use x=\"1239.822266\" xlink:href=\"#DejaVuSans-61\"/>\r\n       <use x=\"1301.101562\" xlink:href=\"#DejaVuSans-74\"/>\r\n       <use x=\"1340.310547\" xlink:href=\"#DejaVuSans-6f\"/>\r\n       <use x=\"1401.492188\" xlink:href=\"#DejaVuSans-20\"/>\r\n       <use x=\"1433.279297\" xlink:href=\"#DejaVuSans-2b\"/>\r\n       <use x=\"1517.068359\" xlink:href=\"#DejaVuSans-20\"/>\r\n       <use x=\"1548.855469\" xlink:href=\"#DejaVuSans-50\"/>\r\n       <use x=\"1609.158203\" xlink:href=\"#DejaVuSans-6c\"/>\r\n       <use x=\"1636.941406\" xlink:href=\"#DejaVuSans-61\"/>\r\n       <use x=\"1698.220703\" xlink:href=\"#DejaVuSans-73\"/>\r\n       <use x=\"1750.320312\" xlink:href=\"#DejaVuSans-6d\"/>\r\n       <use x=\"1847.732422\" xlink:href=\"#DejaVuSans-61\"/>\r\n      </g>\r\n     </g>\r\n    </g>\r\n    <g id=\"ytick_13\">\r\n     <g id=\"text_18\">\r\n      <!-- Fecal_1 + Fecal_2 + Tomato + Plasma -->\r\n      <g style=\"fill:#b6e880;\" transform=\"translate(683.8 263.346805)scale(0.1 -0.1)\">\r\n       <use xlink:href=\"#DejaVuSans-46\"/>\r\n       <use x=\"52.019531\" xlink:href=\"#DejaVuSans-65\"/>\r\n       <use x=\"113.542969\" xlink:href=\"#DejaVuSans-63\"/>\r\n       <use x=\"168.523438\" xlink:href=\"#DejaVuSans-61\"/>\r\n       <use x=\"229.802734\" xlink:href=\"#DejaVuSans-6c\"/>\r\n       <use x=\"257.585938\" xlink:href=\"#DejaVuSans-5f\"/>\r\n       <use x=\"307.585938\" xlink:href=\"#DejaVuSans-31\"/>\r\n       <use x=\"371.208984\" xlink:href=\"#DejaVuSans-20\"/>\r\n       <use x=\"402.996094\" xlink:href=\"#DejaVuSans-2b\"/>\r\n       <use x=\"486.785156\" xlink:href=\"#DejaVuSans-20\"/>\r\n       <use x=\"518.572266\" xlink:href=\"#DejaVuSans-46\"/>\r\n       <use x=\"570.591797\" xlink:href=\"#DejaVuSans-65\"/>\r\n       <use x=\"632.115234\" xlink:href=\"#DejaVuSans-63\"/>\r\n       <use x=\"687.095703\" xlink:href=\"#DejaVuSans-61\"/>\r\n       <use x=\"748.375\" xlink:href=\"#DejaVuSans-6c\"/>\r\n       <use x=\"776.158203\" xlink:href=\"#DejaVuSans-5f\"/>\r\n       <use x=\"826.158203\" xlink:href=\"#DejaVuSans-32\"/>\r\n       <use x=\"889.78125\" xlink:href=\"#DejaVuSans-20\"/>\r\n       <use x=\"921.568359\" xlink:href=\"#DejaVuSans-2b\"/>\r\n       <use x=\"1005.357422\" xlink:href=\"#DejaVuSans-20\"/>\r\n       <use x=\"1037.144531\" xlink:href=\"#DejaVuSans-54\"/>\r\n       <use x=\"1081.228516\" xlink:href=\"#DejaVuSans-6f\"/>\r\n       <use x=\"1142.410156\" xlink:href=\"#DejaVuSans-6d\"/>\r\n       <use x=\"1239.822266\" xlink:href=\"#DejaVuSans-61\"/>\r\n       <use x=\"1301.101562\" xlink:href=\"#DejaVuSans-74\"/>\r\n       <use x=\"1340.310547\" xlink:href=\"#DejaVuSans-6f\"/>\r\n       <use x=\"1401.492188\" xlink:href=\"#DejaVuSans-20\"/>\r\n       <use x=\"1433.279297\" xlink:href=\"#DejaVuSans-2b\"/>\r\n       <use x=\"1517.068359\" xlink:href=\"#DejaVuSans-20\"/>\r\n       <use x=\"1548.855469\" xlink:href=\"#DejaVuSans-50\"/>\r\n       <use x=\"1609.158203\" xlink:href=\"#DejaVuSans-6c\"/>\r\n       <use x=\"1636.941406\" xlink:href=\"#DejaVuSans-61\"/>\r\n       <use x=\"1698.220703\" xlink:href=\"#DejaVuSans-73\"/>\r\n       <use x=\"1750.320312\" xlink:href=\"#DejaVuSans-6d\"/>\r\n       <use x=\"1847.732422\" xlink:href=\"#DejaVuSans-61\"/>\r\n      </g>\r\n     </g>\r\n    </g>\r\n    <g id=\"ytick_14\">\r\n     <g id=\"text_19\">\r\n      <!-- Fecal_1 + Fecal_2 + Tomato + Plasma -->\r\n      <g style=\"fill:#b6e880;\" transform=\"translate(683.8 248.053012)scale(0.1 -0.1)\">\r\n       <use xlink:href=\"#DejaVuSans-46\"/>\r\n       <use x=\"52.019531\" xlink:href=\"#DejaVuSans-65\"/>\r\n       <use x=\"113.542969\" xlink:href=\"#DejaVuSans-63\"/>\r\n       <use x=\"168.523438\" xlink:href=\"#DejaVuSans-61\"/>\r\n       <use x=\"229.802734\" xlink:href=\"#DejaVuSans-6c\"/>\r\n       <use x=\"257.585938\" xlink:href=\"#DejaVuSans-5f\"/>\r\n       <use x=\"307.585938\" xlink:href=\"#DejaVuSans-31\"/>\r\n       <use x=\"371.208984\" xlink:href=\"#DejaVuSans-20\"/>\r\n       <use x=\"402.996094\" xlink:href=\"#DejaVuSans-2b\"/>\r\n       <use x=\"486.785156\" xlink:href=\"#DejaVuSans-20\"/>\r\n       <use x=\"518.572266\" xlink:href=\"#DejaVuSans-46\"/>\r\n       <use x=\"570.591797\" xlink:href=\"#DejaVuSans-65\"/>\r\n       <use x=\"632.115234\" xlink:href=\"#DejaVuSans-63\"/>\r\n       <use x=\"687.095703\" xlink:href=\"#DejaVuSans-61\"/>\r\n       <use x=\"748.375\" xlink:href=\"#DejaVuSans-6c\"/>\r\n       <use x=\"776.158203\" xlink:href=\"#DejaVuSans-5f\"/>\r\n       <use x=\"826.158203\" xlink:href=\"#DejaVuSans-32\"/>\r\n       <use x=\"889.78125\" xlink:href=\"#DejaVuSans-20\"/>\r\n       <use x=\"921.568359\" xlink:href=\"#DejaVuSans-2b\"/>\r\n       <use x=\"1005.357422\" xlink:href=\"#DejaVuSans-20\"/>\r\n       <use x=\"1037.144531\" xlink:href=\"#DejaVuSans-54\"/>\r\n       <use x=\"1081.228516\" xlink:href=\"#DejaVuSans-6f\"/>\r\n       <use x=\"1142.410156\" xlink:href=\"#DejaVuSans-6d\"/>\r\n       <use x=\"1239.822266\" xlink:href=\"#DejaVuSans-61\"/>\r\n       <use x=\"1301.101562\" xlink:href=\"#DejaVuSans-74\"/>\r\n       <use x=\"1340.310547\" xlink:href=\"#DejaVuSans-6f\"/>\r\n       <use x=\"1401.492188\" xlink:href=\"#DejaVuSans-20\"/>\r\n       <use x=\"1433.279297\" xlink:href=\"#DejaVuSans-2b\"/>\r\n       <use x=\"1517.068359\" xlink:href=\"#DejaVuSans-20\"/>\r\n       <use x=\"1548.855469\" xlink:href=\"#DejaVuSans-50\"/>\r\n       <use x=\"1609.158203\" xlink:href=\"#DejaVuSans-6c\"/>\r\n       <use x=\"1636.941406\" xlink:href=\"#DejaVuSans-61\"/>\r\n       <use x=\"1698.220703\" xlink:href=\"#DejaVuSans-73\"/>\r\n       <use x=\"1750.320312\" xlink:href=\"#DejaVuSans-6d\"/>\r\n       <use x=\"1847.732422\" xlink:href=\"#DejaVuSans-61\"/>\r\n      </g>\r\n     </g>\r\n    </g>\r\n    <g id=\"ytick_15\">\r\n     <g id=\"text_20\">\r\n      <!-- Fecal_1 + Fecal_2 + Tomato + Plasma -->\r\n      <g style=\"fill:#b6e880;\" transform=\"translate(683.8 232.759219)scale(0.1 -0.1)\">\r\n       <use xlink:href=\"#DejaVuSans-46\"/>\r\n       <use x=\"52.019531\" xlink:href=\"#DejaVuSans-65\"/>\r\n       <use x=\"113.542969\" xlink:href=\"#DejaVuSans-63\"/>\r\n       <use x=\"168.523438\" xlink:href=\"#DejaVuSans-61\"/>\r\n       <use x=\"229.802734\" xlink:href=\"#DejaVuSans-6c\"/>\r\n       <use x=\"257.585938\" xlink:href=\"#DejaVuSans-5f\"/>\r\n       <use x=\"307.585938\" xlink:href=\"#DejaVuSans-31\"/>\r\n       <use x=\"371.208984\" xlink:href=\"#DejaVuSans-20\"/>\r\n       <use x=\"402.996094\" xlink:href=\"#DejaVuSans-2b\"/>\r\n       <use x=\"486.785156\" xlink:href=\"#DejaVuSans-20\"/>\r\n       <use x=\"518.572266\" xlink:href=\"#DejaVuSans-46\"/>\r\n       <use x=\"570.591797\" xlink:href=\"#DejaVuSans-65\"/>\r\n       <use x=\"632.115234\" xlink:href=\"#DejaVuSans-63\"/>\r\n       <use x=\"687.095703\" xlink:href=\"#DejaVuSans-61\"/>\r\n       <use x=\"748.375\" xlink:href=\"#DejaVuSans-6c\"/>\r\n       <use x=\"776.158203\" xlink:href=\"#DejaVuSans-5f\"/>\r\n       <use x=\"826.158203\" xlink:href=\"#DejaVuSans-32\"/>\r\n       <use x=\"889.78125\" xlink:href=\"#DejaVuSans-20\"/>\r\n       <use x=\"921.568359\" xlink:href=\"#DejaVuSans-2b\"/>\r\n       <use x=\"1005.357422\" xlink:href=\"#DejaVuSans-20\"/>\r\n       <use x=\"1037.144531\" xlink:href=\"#DejaVuSans-54\"/>\r\n       <use x=\"1081.228516\" xlink:href=\"#DejaVuSans-6f\"/>\r\n       <use x=\"1142.410156\" xlink:href=\"#DejaVuSans-6d\"/>\r\n       <use x=\"1239.822266\" xlink:href=\"#DejaVuSans-61\"/>\r\n       <use x=\"1301.101562\" xlink:href=\"#DejaVuSans-74\"/>\r\n       <use x=\"1340.310547\" xlink:href=\"#DejaVuSans-6f\"/>\r\n       <use x=\"1401.492188\" xlink:href=\"#DejaVuSans-20\"/>\r\n       <use x=\"1433.279297\" xlink:href=\"#DejaVuSans-2b\"/>\r\n       <use x=\"1517.068359\" xlink:href=\"#DejaVuSans-20\"/>\r\n       <use x=\"1548.855469\" xlink:href=\"#DejaVuSans-50\"/>\r\n       <use x=\"1609.158203\" xlink:href=\"#DejaVuSans-6c\"/>\r\n       <use x=\"1636.941406\" xlink:href=\"#DejaVuSans-61\"/>\r\n       <use x=\"1698.220703\" xlink:href=\"#DejaVuSans-73\"/>\r\n       <use x=\"1750.320312\" xlink:href=\"#DejaVuSans-6d\"/>\r\n       <use x=\"1847.732422\" xlink:href=\"#DejaVuSans-61\"/>\r\n      </g>\r\n     </g>\r\n    </g>\r\n    <g id=\"ytick_16\">\r\n     <g id=\"text_21\">\r\n      <!-- Fecal_2 -->\r\n      <g style=\"fill:#ab63fa;\" transform=\"translate(683.8 217.465426)scale(0.1 -0.1)\">\r\n       <use xlink:href=\"#DejaVuSans-46\"/>\r\n       <use x=\"52.019531\" xlink:href=\"#DejaVuSans-65\"/>\r\n       <use x=\"113.542969\" xlink:href=\"#DejaVuSans-63\"/>\r\n       <use x=\"168.523438\" xlink:href=\"#DejaVuSans-61\"/>\r\n       <use x=\"229.802734\" xlink:href=\"#DejaVuSans-6c\"/>\r\n       <use x=\"257.585938\" xlink:href=\"#DejaVuSans-5f\"/>\r\n       <use x=\"307.585938\" xlink:href=\"#DejaVuSans-32\"/>\r\n      </g>\r\n     </g>\r\n    </g>\r\n    <g id=\"ytick_17\">\r\n     <g id=\"text_22\">\r\n      <!-- Fecal_2 + Plasma -->\r\n      <g style=\"fill:#ffa15a;\" transform=\"translate(683.8 202.171633)scale(0.1 -0.1)\">\r\n       <use xlink:href=\"#DejaVuSans-46\"/>\r\n       <use x=\"52.019531\" xlink:href=\"#DejaVuSans-65\"/>\r\n       <use x=\"113.542969\" xlink:href=\"#DejaVuSans-63\"/>\r\n       <use x=\"168.523438\" xlink:href=\"#DejaVuSans-61\"/>\r\n       <use x=\"229.802734\" xlink:href=\"#DejaVuSans-6c\"/>\r\n       <use x=\"257.585938\" xlink:href=\"#DejaVuSans-5f\"/>\r\n       <use x=\"307.585938\" xlink:href=\"#DejaVuSans-32\"/>\r\n       <use x=\"371.208984\" xlink:href=\"#DejaVuSans-20\"/>\r\n       <use x=\"402.996094\" xlink:href=\"#DejaVuSans-2b\"/>\r\n       <use x=\"486.785156\" xlink:href=\"#DejaVuSans-20\"/>\r\n       <use x=\"518.572266\" xlink:href=\"#DejaVuSans-50\"/>\r\n       <use x=\"578.875\" xlink:href=\"#DejaVuSans-6c\"/>\r\n       <use x=\"606.658203\" xlink:href=\"#DejaVuSans-61\"/>\r\n       <use x=\"667.9375\" xlink:href=\"#DejaVuSans-73\"/>\r\n       <use x=\"720.037109\" xlink:href=\"#DejaVuSans-6d\"/>\r\n       <use x=\"817.449219\" xlink:href=\"#DejaVuSans-61\"/>\r\n      </g>\r\n     </g>\r\n    </g>\r\n    <g id=\"ytick_18\">\r\n     <g id=\"text_23\">\r\n      <!-- Fecal_2 + Plasma -->\r\n      <g style=\"fill:#ffa15a;\" transform=\"translate(683.8 186.877839)scale(0.1 -0.1)\">\r\n       <use xlink:href=\"#DejaVuSans-46\"/>\r\n       <use x=\"52.019531\" xlink:href=\"#DejaVuSans-65\"/>\r\n       <use x=\"113.542969\" xlink:href=\"#DejaVuSans-63\"/>\r\n       <use x=\"168.523438\" xlink:href=\"#DejaVuSans-61\"/>\r\n       <use x=\"229.802734\" xlink:href=\"#DejaVuSans-6c\"/>\r\n       <use x=\"257.585938\" xlink:href=\"#DejaVuSans-5f\"/>\r\n       <use x=\"307.585938\" xlink:href=\"#DejaVuSans-32\"/>\r\n       <use x=\"371.208984\" xlink:href=\"#DejaVuSans-20\"/>\r\n       <use x=\"402.996094\" xlink:href=\"#DejaVuSans-2b\"/>\r\n       <use x=\"486.785156\" xlink:href=\"#DejaVuSans-20\"/>\r\n       <use x=\"518.572266\" xlink:href=\"#DejaVuSans-50\"/>\r\n       <use x=\"578.875\" xlink:href=\"#DejaVuSans-6c\"/>\r\n       <use x=\"606.658203\" xlink:href=\"#DejaVuSans-61\"/>\r\n       <use x=\"667.9375\" xlink:href=\"#DejaVuSans-73\"/>\r\n       <use x=\"720.037109\" xlink:href=\"#DejaVuSans-6d\"/>\r\n       <use x=\"817.449219\" xlink:href=\"#DejaVuSans-61\"/>\r\n      </g>\r\n     </g>\r\n    </g>\r\n    <g id=\"ytick_19\">\r\n     <g id=\"text_24\">\r\n      <!-- Fecal_2 + Plasma -->\r\n      <g style=\"fill:#ffa15a;\" transform=\"translate(683.8 171.584046)scale(0.1 -0.1)\">\r\n       <use xlink:href=\"#DejaVuSans-46\"/>\r\n       <use x=\"52.019531\" xlink:href=\"#DejaVuSans-65\"/>\r\n       <use x=\"113.542969\" xlink:href=\"#DejaVuSans-63\"/>\r\n       <use x=\"168.523438\" xlink:href=\"#DejaVuSans-61\"/>\r\n       <use x=\"229.802734\" xlink:href=\"#DejaVuSans-6c\"/>\r\n       <use x=\"257.585938\" xlink:href=\"#DejaVuSans-5f\"/>\r\n       <use x=\"307.585938\" xlink:href=\"#DejaVuSans-32\"/>\r\n       <use x=\"371.208984\" xlink:href=\"#DejaVuSans-20\"/>\r\n       <use x=\"402.996094\" xlink:href=\"#DejaVuSans-2b\"/>\r\n       <use x=\"486.785156\" xlink:href=\"#DejaVuSans-20\"/>\r\n       <use x=\"518.572266\" xlink:href=\"#DejaVuSans-50\"/>\r\n       <use x=\"578.875\" xlink:href=\"#DejaVuSans-6c\"/>\r\n       <use x=\"606.658203\" xlink:href=\"#DejaVuSans-61\"/>\r\n       <use x=\"667.9375\" xlink:href=\"#DejaVuSans-73\"/>\r\n       <use x=\"720.037109\" xlink:href=\"#DejaVuSans-6d\"/>\r\n       <use x=\"817.449219\" xlink:href=\"#DejaVuSans-61\"/>\r\n      </g>\r\n     </g>\r\n    </g>\r\n    <g id=\"ytick_20\">\r\n     <g id=\"text_25\">\r\n      <!-- Fecal_2 + Tomato -->\r\n      <g style=\"fill:#19d3f3;\" transform=\"translate(683.8 156.290253)scale(0.1 -0.1)\">\r\n       <use xlink:href=\"#DejaVuSans-46\"/>\r\n       <use x=\"52.019531\" xlink:href=\"#DejaVuSans-65\"/>\r\n       <use x=\"113.542969\" xlink:href=\"#DejaVuSans-63\"/>\r\n       <use x=\"168.523438\" xlink:href=\"#DejaVuSans-61\"/>\r\n       <use x=\"229.802734\" xlink:href=\"#DejaVuSans-6c\"/>\r\n       <use x=\"257.585938\" xlink:href=\"#DejaVuSans-5f\"/>\r\n       <use x=\"307.585938\" xlink:href=\"#DejaVuSans-32\"/>\r\n       <use x=\"371.208984\" xlink:href=\"#DejaVuSans-20\"/>\r\n       <use x=\"402.996094\" xlink:href=\"#DejaVuSans-2b\"/>\r\n       <use x=\"486.785156\" xlink:href=\"#DejaVuSans-20\"/>\r\n       <use x=\"518.572266\" xlink:href=\"#DejaVuSans-54\"/>\r\n       <use x=\"562.65625\" xlink:href=\"#DejaVuSans-6f\"/>\r\n       <use x=\"623.837891\" xlink:href=\"#DejaVuSans-6d\"/>\r\n       <use x=\"721.25\" xlink:href=\"#DejaVuSans-61\"/>\r\n       <use x=\"782.529297\" xlink:href=\"#DejaVuSans-74\"/>\r\n       <use x=\"821.738281\" xlink:href=\"#DejaVuSans-6f\"/>\r\n      </g>\r\n     </g>\r\n    </g>\r\n    <g id=\"ytick_21\">\r\n     <g id=\"text_26\">\r\n      <!-- Fecal_2 + Tomato -->\r\n      <g style=\"fill:#19d3f3;\" transform=\"translate(683.8 140.99646)scale(0.1 -0.1)\">\r\n       <use xlink:href=\"#DejaVuSans-46\"/>\r\n       <use x=\"52.019531\" xlink:href=\"#DejaVuSans-65\"/>\r\n       <use x=\"113.542969\" xlink:href=\"#DejaVuSans-63\"/>\r\n       <use x=\"168.523438\" xlink:href=\"#DejaVuSans-61\"/>\r\n       <use x=\"229.802734\" xlink:href=\"#DejaVuSans-6c\"/>\r\n       <use x=\"257.585938\" xlink:href=\"#DejaVuSans-5f\"/>\r\n       <use x=\"307.585938\" xlink:href=\"#DejaVuSans-32\"/>\r\n       <use x=\"371.208984\" xlink:href=\"#DejaVuSans-20\"/>\r\n       <use x=\"402.996094\" xlink:href=\"#DejaVuSans-2b\"/>\r\n       <use x=\"486.785156\" xlink:href=\"#DejaVuSans-20\"/>\r\n       <use x=\"518.572266\" xlink:href=\"#DejaVuSans-54\"/>\r\n       <use x=\"562.65625\" xlink:href=\"#DejaVuSans-6f\"/>\r\n       <use x=\"623.837891\" xlink:href=\"#DejaVuSans-6d\"/>\r\n       <use x=\"721.25\" xlink:href=\"#DejaVuSans-61\"/>\r\n       <use x=\"782.529297\" xlink:href=\"#DejaVuSans-74\"/>\r\n       <use x=\"821.738281\" xlink:href=\"#DejaVuSans-6f\"/>\r\n      </g>\r\n     </g>\r\n    </g>\r\n    <g id=\"ytick_22\">\r\n     <g id=\"text_27\">\r\n      <!-- Fecal_2 + Tomato -->\r\n      <g style=\"fill:#19d3f3;\" transform=\"translate(683.8 125.702667)scale(0.1 -0.1)\">\r\n       <use xlink:href=\"#DejaVuSans-46\"/>\r\n       <use x=\"52.019531\" xlink:href=\"#DejaVuSans-65\"/>\r\n       <use x=\"113.542969\" xlink:href=\"#DejaVuSans-63\"/>\r\n       <use x=\"168.523438\" xlink:href=\"#DejaVuSans-61\"/>\r\n       <use x=\"229.802734\" xlink:href=\"#DejaVuSans-6c\"/>\r\n       <use x=\"257.585938\" xlink:href=\"#DejaVuSans-5f\"/>\r\n       <use x=\"307.585938\" xlink:href=\"#DejaVuSans-32\"/>\r\n       <use x=\"371.208984\" xlink:href=\"#DejaVuSans-20\"/>\r\n       <use x=\"402.996094\" xlink:href=\"#DejaVuSans-2b\"/>\r\n       <use x=\"486.785156\" xlink:href=\"#DejaVuSans-20\"/>\r\n       <use x=\"518.572266\" xlink:href=\"#DejaVuSans-54\"/>\r\n       <use x=\"562.65625\" xlink:href=\"#DejaVuSans-6f\"/>\r\n       <use x=\"623.837891\" xlink:href=\"#DejaVuSans-6d\"/>\r\n       <use x=\"721.25\" xlink:href=\"#DejaVuSans-61\"/>\r\n       <use x=\"782.529297\" xlink:href=\"#DejaVuSans-74\"/>\r\n       <use x=\"821.738281\" xlink:href=\"#DejaVuSans-6f\"/>\r\n      </g>\r\n     </g>\r\n    </g>\r\n    <g id=\"ytick_23\">\r\n     <g id=\"text_28\">\r\n      <!-- Fecal_1 + Plasma -->\r\n      <g style=\"fill:#ff97ff;\" transform=\"translate(683.8 110.408874)scale(0.1 -0.1)\">\r\n       <use xlink:href=\"#DejaVuSans-46\"/>\r\n       <use x=\"52.019531\" xlink:href=\"#DejaVuSans-65\"/>\r\n       <use x=\"113.542969\" xlink:href=\"#DejaVuSans-63\"/>\r\n       <use x=\"168.523438\" xlink:href=\"#DejaVuSans-61\"/>\r\n       <use x=\"229.802734\" xlink:href=\"#DejaVuSans-6c\"/>\r\n       <use x=\"257.585938\" xlink:href=\"#DejaVuSans-5f\"/>\r\n       <use x=\"307.585938\" xlink:href=\"#DejaVuSans-31\"/>\r\n       <use x=\"371.208984\" xlink:href=\"#DejaVuSans-20\"/>\r\n       <use x=\"402.996094\" xlink:href=\"#DejaVuSans-2b\"/>\r\n       <use x=\"486.785156\" xlink:href=\"#DejaVuSans-20\"/>\r\n       <use x=\"518.572266\" xlink:href=\"#DejaVuSans-50\"/>\r\n       <use x=\"578.875\" xlink:href=\"#DejaVuSans-6c\"/>\r\n       <use x=\"606.658203\" xlink:href=\"#DejaVuSans-61\"/>\r\n       <use x=\"667.9375\" xlink:href=\"#DejaVuSans-73\"/>\r\n       <use x=\"720.037109\" xlink:href=\"#DejaVuSans-6d\"/>\r\n       <use x=\"817.449219\" xlink:href=\"#DejaVuSans-61\"/>\r\n      </g>\r\n     </g>\r\n    </g>\r\n    <g id=\"ytick_24\">\r\n     <g id=\"text_29\">\r\n      <!-- Fecal_1 + Fecal_2 -->\r\n      <g style=\"fill:#636efa;\" transform=\"translate(683.8 95.115081)scale(0.1 -0.1)\">\r\n       <use xlink:href=\"#DejaVuSans-46\"/>\r\n       <use x=\"52.019531\" xlink:href=\"#DejaVuSans-65\"/>\r\n       <use x=\"113.542969\" xlink:href=\"#DejaVuSans-63\"/>\r\n       <use x=\"168.523438\" xlink:href=\"#DejaVuSans-61\"/>\r\n       <use x=\"229.802734\" xlink:href=\"#DejaVuSans-6c\"/>\r\n       <use x=\"257.585938\" xlink:href=\"#DejaVuSans-5f\"/>\r\n       <use x=\"307.585938\" xlink:href=\"#DejaVuSans-31\"/>\r\n       <use x=\"371.208984\" xlink:href=\"#DejaVuSans-20\"/>\r\n       <use x=\"402.996094\" xlink:href=\"#DejaVuSans-2b\"/>\r\n       <use x=\"486.785156\" xlink:href=\"#DejaVuSans-20\"/>\r\n       <use x=\"518.572266\" xlink:href=\"#DejaVuSans-46\"/>\r\n       <use x=\"570.591797\" xlink:href=\"#DejaVuSans-65\"/>\r\n       <use x=\"632.115234\" xlink:href=\"#DejaVuSans-63\"/>\r\n       <use x=\"687.095703\" xlink:href=\"#DejaVuSans-61\"/>\r\n       <use x=\"748.375\" xlink:href=\"#DejaVuSans-6c\"/>\r\n       <use x=\"776.158203\" xlink:href=\"#DejaVuSans-5f\"/>\r\n       <use x=\"826.158203\" xlink:href=\"#DejaVuSans-32\"/>\r\n      </g>\r\n     </g>\r\n    </g>\r\n    <g id=\"ytick_25\">\r\n     <g id=\"text_30\">\r\n      <!-- Fecal_1 + Fecal_2 -->\r\n      <g style=\"fill:#636efa;\" transform=\"translate(683.8 79.821288)scale(0.1 -0.1)\">\r\n       <use xlink:href=\"#DejaVuSans-46\"/>\r\n       <use x=\"52.019531\" xlink:href=\"#DejaVuSans-65\"/>\r\n       <use x=\"113.542969\" xlink:href=\"#DejaVuSans-63\"/>\r\n       <use x=\"168.523438\" xlink:href=\"#DejaVuSans-61\"/>\r\n       <use x=\"229.802734\" xlink:href=\"#DejaVuSans-6c\"/>\r\n       <use x=\"257.585938\" xlink:href=\"#DejaVuSans-5f\"/>\r\n       <use x=\"307.585938\" xlink:href=\"#DejaVuSans-31\"/>\r\n       <use x=\"371.208984\" xlink:href=\"#DejaVuSans-20\"/>\r\n       <use x=\"402.996094\" xlink:href=\"#DejaVuSans-2b\"/>\r\n       <use x=\"486.785156\" xlink:href=\"#DejaVuSans-20\"/>\r\n       <use x=\"518.572266\" xlink:href=\"#DejaVuSans-46\"/>\r\n       <use x=\"570.591797\" xlink:href=\"#DejaVuSans-65\"/>\r\n       <use x=\"632.115234\" xlink:href=\"#DejaVuSans-63\"/>\r\n       <use x=\"687.095703\" xlink:href=\"#DejaVuSans-61\"/>\r\n       <use x=\"748.375\" xlink:href=\"#DejaVuSans-6c\"/>\r\n       <use x=\"776.158203\" xlink:href=\"#DejaVuSans-5f\"/>\r\n       <use x=\"826.158203\" xlink:href=\"#DejaVuSans-32\"/>\r\n      </g>\r\n     </g>\r\n    </g>\r\n    <g id=\"ytick_26\">\r\n     <g id=\"text_31\">\r\n      <!-- Fecal_1 + Fecal_2 -->\r\n      <g style=\"fill:#636efa;\" transform=\"translate(683.8 64.527495)scale(0.1 -0.1)\">\r\n       <use xlink:href=\"#DejaVuSans-46\"/>\r\n       <use x=\"52.019531\" xlink:href=\"#DejaVuSans-65\"/>\r\n       <use x=\"113.542969\" xlink:href=\"#DejaVuSans-63\"/>\r\n       <use x=\"168.523438\" xlink:href=\"#DejaVuSans-61\"/>\r\n       <use x=\"229.802734\" xlink:href=\"#DejaVuSans-6c\"/>\r\n       <use x=\"257.585938\" xlink:href=\"#DejaVuSans-5f\"/>\r\n       <use x=\"307.585938\" xlink:href=\"#DejaVuSans-31\"/>\r\n       <use x=\"371.208984\" xlink:href=\"#DejaVuSans-20\"/>\r\n       <use x=\"402.996094\" xlink:href=\"#DejaVuSans-2b\"/>\r\n       <use x=\"486.785156\" xlink:href=\"#DejaVuSans-20\"/>\r\n       <use x=\"518.572266\" xlink:href=\"#DejaVuSans-46\"/>\r\n       <use x=\"570.591797\" xlink:href=\"#DejaVuSans-65\"/>\r\n       <use x=\"632.115234\" xlink:href=\"#DejaVuSans-63\"/>\r\n       <use x=\"687.095703\" xlink:href=\"#DejaVuSans-61\"/>\r\n       <use x=\"748.375\" xlink:href=\"#DejaVuSans-6c\"/>\r\n       <use x=\"776.158203\" xlink:href=\"#DejaVuSans-5f\"/>\r\n       <use x=\"826.158203\" xlink:href=\"#DejaVuSans-32\"/>\r\n      </g>\r\n     </g>\r\n    </g>\r\n    <g id=\"ytick_27\">\r\n     <g id=\"text_32\">\r\n      <!-- Fecal_1 + Plasma -->\r\n      <g style=\"fill:#ff97ff;\" transform=\"translate(683.8 49.233702)scale(0.1 -0.1)\">\r\n       <use xlink:href=\"#DejaVuSans-46\"/>\r\n       <use x=\"52.019531\" xlink:href=\"#DejaVuSans-65\"/>\r\n       <use x=\"113.542969\" xlink:href=\"#DejaVuSans-63\"/>\r\n       <use x=\"168.523438\" xlink:href=\"#DejaVuSans-61\"/>\r\n       <use x=\"229.802734\" xlink:href=\"#DejaVuSans-6c\"/>\r\n       <use x=\"257.585938\" xlink:href=\"#DejaVuSans-5f\"/>\r\n       <use x=\"307.585938\" xlink:href=\"#DejaVuSans-31\"/>\r\n       <use x=\"371.208984\" xlink:href=\"#DejaVuSans-20\"/>\r\n       <use x=\"402.996094\" xlink:href=\"#DejaVuSans-2b\"/>\r\n       <use x=\"486.785156\" xlink:href=\"#DejaVuSans-20\"/>\r\n       <use x=\"518.572266\" xlink:href=\"#DejaVuSans-50\"/>\r\n       <use x=\"578.875\" xlink:href=\"#DejaVuSans-6c\"/>\r\n       <use x=\"606.658203\" xlink:href=\"#DejaVuSans-61\"/>\r\n       <use x=\"667.9375\" xlink:href=\"#DejaVuSans-73\"/>\r\n       <use x=\"720.037109\" xlink:href=\"#DejaVuSans-6d\"/>\r\n       <use x=\"817.449219\" xlink:href=\"#DejaVuSans-61\"/>\r\n      </g>\r\n     </g>\r\n    </g>\r\n    <g id=\"ytick_28\">\r\n     <g id=\"text_33\">\r\n      <!-- Fecal_1 -->\r\n      <g style=\"fill:#ff6692;\" transform=\"translate(683.8 33.939908)scale(0.1 -0.1)\">\r\n       <use xlink:href=\"#DejaVuSans-46\"/>\r\n       <use x=\"52.019531\" xlink:href=\"#DejaVuSans-65\"/>\r\n       <use x=\"113.542969\" xlink:href=\"#DejaVuSans-63\"/>\r\n       <use x=\"168.523438\" xlink:href=\"#DejaVuSans-61\"/>\r\n       <use x=\"229.802734\" xlink:href=\"#DejaVuSans-6c\"/>\r\n       <use x=\"257.585938\" xlink:href=\"#DejaVuSans-5f\"/>\r\n       <use x=\"307.585938\" xlink:href=\"#DejaVuSans-31\"/>\r\n      </g>\r\n     </g>\r\n    </g>\r\n    <g id=\"ytick_29\">\r\n     <g id=\"text_34\">\r\n      <!-- Fecal_1 + Plasma -->\r\n      <g style=\"fill:#ff97ff;\" transform=\"translate(683.8 18.646115)scale(0.1 -0.1)\">\r\n       <use xlink:href=\"#DejaVuSans-46\"/>\r\n       <use x=\"52.019531\" xlink:href=\"#DejaVuSans-65\"/>\r\n       <use x=\"113.542969\" xlink:href=\"#DejaVuSans-63\"/>\r\n       <use x=\"168.523438\" xlink:href=\"#DejaVuSans-61\"/>\r\n       <use x=\"229.802734\" xlink:href=\"#DejaVuSans-6c\"/>\r\n       <use x=\"257.585938\" xlink:href=\"#DejaVuSans-5f\"/>\r\n       <use x=\"307.585938\" xlink:href=\"#DejaVuSans-31\"/>\r\n       <use x=\"371.208984\" xlink:href=\"#DejaVuSans-20\"/>\r\n       <use x=\"402.996094\" xlink:href=\"#DejaVuSans-2b\"/>\r\n       <use x=\"486.785156\" xlink:href=\"#DejaVuSans-20\"/>\r\n       <use x=\"518.572266\" xlink:href=\"#DejaVuSans-50\"/>\r\n       <use x=\"578.875\" xlink:href=\"#DejaVuSans-6c\"/>\r\n       <use x=\"606.658203\" xlink:href=\"#DejaVuSans-61\"/>\r\n       <use x=\"667.9375\" xlink:href=\"#DejaVuSans-73\"/>\r\n       <use x=\"720.037109\" xlink:href=\"#DejaVuSans-6d\"/>\r\n       <use x=\"817.449219\" xlink:href=\"#DejaVuSans-61\"/>\r\n      </g>\r\n     </g>\r\n    </g>\r\n   </g>\r\n   <g id=\"LineCollection_1\">\r\n    <path clip-path=\"url(#pdcf14d4cba)\" d=\"M 676.8 397.191724 \r\nL 660.236142 397.191724 \r\nL 660.236142 381.897931 \r\nL 676.8 381.897931 \r\n\" style=\"fill:none;stroke:#ff7f0e;stroke-width:1.5;\"/>\r\n    <path clip-path=\"url(#pdcf14d4cba)\" d=\"M 676.8 412.485517 \r\nL 640.461685 412.485517 \r\nL 640.461685 389.544828 \r\nL 660.236142 389.544828 \r\n\" style=\"fill:none;stroke:#ff7f0e;stroke-width:1.5;\"/>\r\n    <path clip-path=\"url(#pdcf14d4cba)\" d=\"M 676.8 427.77931 \r\nL 615.870257 427.77931 \r\nL 615.870257 401.015172 \r\nL 640.461685 401.015172 \r\n\" style=\"fill:none;stroke:#ff7f0e;stroke-width:1.5;\"/>\r\n    <path clip-path=\"url(#pdcf14d4cba)\" d=\"M 676.8 443.073103 \r\nL 506.132448 443.073103 \r\nL 506.132448 414.397241 \r\nL 615.870257 414.397241 \r\n\" style=\"fill:none;stroke:#ff7f0e;stroke-width:1.5;\"/>\r\n   </g>\r\n   <g id=\"LineCollection_2\">\r\n    <path clip-path=\"url(#pdcf14d4cba)\" d=\"M 676.8 351.310345 \r\nL 665.672997 351.310345 \r\nL 665.672997 336.016552 \r\nL 676.8 336.016552 \r\n\" style=\"fill:none;stroke:#2ca02c;stroke-width:1.5;\"/>\r\n    <path clip-path=\"url(#pdcf14d4cba)\" d=\"M 676.8 366.604138 \r\nL 664.773913 366.604138 \r\nL 664.773913 343.663448 \r\nL 665.672997 343.663448 \r\n\" style=\"fill:none;stroke:#2ca02c;stroke-width:1.5;\"/>\r\n    <path clip-path=\"url(#pdcf14d4cba)\" d=\"M 676.8 320.722759 \r\nL 661.606243 320.722759 \r\nL 661.606243 305.428966 \r\nL 676.8 305.428966 \r\n\" style=\"fill:none;stroke:#2ca02c;stroke-width:1.5;\"/>\r\n    <path clip-path=\"url(#pdcf14d4cba)\" d=\"M 664.773913 355.133793 \r\nL 658.400805 355.133793 \r\nL 658.400805 313.075862 \r\nL 661.606243 313.075862 \r\n\" style=\"fill:none;stroke:#2ca02c;stroke-width:1.5;\"/>\r\n    <path clip-path=\"url(#pdcf14d4cba)\" d=\"M 676.8 244.253793 \r\nL 664.856065 244.253793 \r\nL 664.856065 228.96 \r\nL 676.8 228.96 \r\n\" style=\"fill:none;stroke:#2ca02c;stroke-width:1.5;\"/>\r\n    <path clip-path=\"url(#pdcf14d4cba)\" d=\"M 676.8 259.547586 \r\nL 663.346468 259.547586 \r\nL 663.346468 236.606897 \r\nL 664.856065 236.606897 \r\n\" style=\"fill:none;stroke:#2ca02c;stroke-width:1.5;\"/>\r\n    <path clip-path=\"url(#pdcf14d4cba)\" d=\"M 676.8 274.841379 \r\nL 657.951748 274.841379 \r\nL 657.951748 248.077241 \r\nL 663.346468 248.077241 \r\n\" style=\"fill:none;stroke:#2ca02c;stroke-width:1.5;\"/>\r\n    <path clip-path=\"url(#pdcf14d4cba)\" d=\"M 676.8 290.135172 \r\nL 644.177531 290.135172 \r\nL 644.177531 261.45931 \r\nL 657.951748 261.45931 \r\n\" style=\"fill:none;stroke:#2ca02c;stroke-width:1.5;\"/>\r\n    <path clip-path=\"url(#pdcf14d4cba)\" d=\"M 658.400805 334.104828 \r\nL 629.305509 334.104828 \r\nL 629.305509 275.797241 \r\nL 644.177531 275.797241 \r\n\" style=\"fill:none;stroke:#2ca02c;stroke-width:1.5;\"/>\r\n    <path clip-path=\"url(#pdcf14d4cba)\" d=\"M 676.8 183.078621 \r\nL 662.754014 183.078621 \r\nL 662.754014 167.784828 \r\nL 676.8 167.784828 \r\n\" style=\"fill:none;stroke:#2ca02c;stroke-width:1.5;\"/>\r\n    <path clip-path=\"url(#pdcf14d4cba)\" d=\"M 676.8 198.372414 \r\nL 660.148688 198.372414 \r\nL 660.148688 175.431724 \r\nL 662.754014 175.431724 \r\n\" style=\"fill:none;stroke:#2ca02c;stroke-width:1.5;\"/>\r\n    <path clip-path=\"url(#pdcf14d4cba)\" d=\"M 676.8 213.666207 \r\nL 652.327054 213.666207 \r\nL 652.327054 186.902069 \r\nL 660.148688 186.902069 \r\n\" style=\"fill:none;stroke:#2ca02c;stroke-width:1.5;\"/>\r\n    <path clip-path=\"url(#pdcf14d4cba)\" d=\"M 676.8 137.197241 \r\nL 654.445932 137.197241 \r\nL 654.445932 121.903448 \r\nL 676.8 121.903448 \r\n\" style=\"fill:none;stroke:#2ca02c;stroke-width:1.5;\"/>\r\n    <path clip-path=\"url(#pdcf14d4cba)\" d=\"M 676.8 152.491034 \r\nL 638.580601 152.491034 \r\nL 638.580601 129.550345 \r\nL 654.445932 129.550345 \r\n\" style=\"fill:none;stroke:#2ca02c;stroke-width:1.5;\"/>\r\n    <path clip-path=\"url(#pdcf14d4cba)\" d=\"M 676.8 106.609655 \r\nL 665.117253 106.609655 \r\nL 665.117253 91.315862 \r\nL 676.8 91.315862 \r\n\" style=\"fill:none;stroke:#2ca02c;stroke-width:1.5;\"/>\r\n    <path clip-path=\"url(#pdcf14d4cba)\" d=\"M 676.8 76.022069 \r\nL 661.890509 76.022069 \r\nL 661.890509 60.728276 \r\nL 676.8 60.728276 \r\n\" style=\"fill:none;stroke:#2ca02c;stroke-width:1.5;\"/>\r\n    <path clip-path=\"url(#pdcf14d4cba)\" d=\"M 665.117253 98.962759 \r\nL 659.604026 98.962759 \r\nL 659.604026 68.375172 \r\nL 661.890509 68.375172 \r\n\" style=\"fill:none;stroke:#2ca02c;stroke-width:1.5;\"/>\r\n    <path clip-path=\"url(#pdcf14d4cba)\" d=\"M 676.8 30.14069 \r\nL 662.336566 30.14069 \r\nL 662.336566 14.846897 \r\nL 676.8 14.846897 \r\n\" style=\"fill:none;stroke:#2ca02c;stroke-width:1.5;\"/>\r\n    <path clip-path=\"url(#pdcf14d4cba)\" d=\"M 676.8 45.434483 \r\nL 641.763999 45.434483 \r\nL 641.763999 22.493793 \r\nL 662.336566 22.493793 \r\n\" style=\"fill:none;stroke:#2ca02c;stroke-width:1.5;\"/>\r\n    <path clip-path=\"url(#pdcf14d4cba)\" d=\"M 659.604026 83.668966 \r\nL 618.930455 83.668966 \r\nL 618.930455 33.964138 \r\nL 641.763999 33.964138 \r\n\" style=\"fill:none;stroke:#2ca02c;stroke-width:1.5;\"/>\r\n    <path clip-path=\"url(#pdcf14d4cba)\" d=\"M 638.580601 141.02069 \r\nL 542.823003 141.02069 \r\nL 542.823003 58.816552 \r\nL 618.930455 58.816552 \r\n\" style=\"fill:none;stroke:#2ca02c;stroke-width:1.5;\"/>\r\n    <path clip-path=\"url(#pdcf14d4cba)\" d=\"M 652.327054 200.284138 \r\nL 514.92988 200.284138 \r\nL 514.92988 99.918621 \r\nL 542.823003 99.918621 \r\n\" style=\"fill:none;stroke:#2ca02c;stroke-width:1.5;\"/>\r\n    <path clip-path=\"url(#pdcf14d4cba)\" d=\"M 629.305509 304.951034 \r\nL 287.166614 304.951034 \r\nL 287.166614 150.101379 \r\nL 514.92988 150.101379 \r\n\" style=\"fill:none;stroke:#2ca02c;stroke-width:1.5;\"/>\r\n   </g>\r\n   <g id=\"LineCollection_3\">\r\n    <path clip-path=\"url(#pdcf14d4cba)\" d=\"M 506.132448 428.735172 \r\nL 39.085714 428.735172 \r\nL 39.085714 227.526207 \r\nL 287.166614 227.526207 \r\n\" style=\"fill:none;stroke:#1f77b4;stroke-width:1.5;\"/>\r\n   </g>\r\n   <g id=\"patch_3\">\r\n    <path d=\"M 7.2 450.72 \r\nL 7.2 7.2 \r\n\" style=\"fill:none;stroke:#000000;stroke-linecap:square;stroke-linejoin:miter;stroke-width:0.8;\"/>\r\n   </g>\r\n   <g id=\"patch_4\">\r\n    <path d=\"M 676.8 450.72 \r\nL 676.8 7.2 \r\n\" style=\"fill:none;stroke:#000000;stroke-linecap:square;stroke-linejoin:miter;stroke-width:0.8;\"/>\r\n   </g>\r\n   <g id=\"patch_5\">\r\n    <path d=\"M 7.2 450.72 \r\nL 676.8 450.72 \r\n\" style=\"fill:none;stroke:#000000;stroke-linecap:square;stroke-linejoin:miter;stroke-width:0.8;\"/>\r\n   </g>\r\n   <g id=\"patch_6\">\r\n    <path d=\"M 7.2 7.2 \r\nL 676.8 7.2 \r\n\" style=\"fill:none;stroke:#000000;stroke-linecap:square;stroke-linejoin:miter;stroke-width:0.8;\"/>\r\n   </g>\r\n  </g>\r\n </g>\r\n <defs>\r\n  <clipPath id=\"pdcf14d4cba\">\r\n   <rect height=\"443.52\" width=\"669.6\" x=\"7.2\" y=\"7.2\"/>\r\n  </clipPath>\r\n </defs>\r\n</svg>\r\n",
      "image/png": "[encoded data removed]"
     },
     "metadata": {}
    }
   ],
   "metadata": {}
  },
  {
   "cell_type": "code",
   "execution_count": null,
   "source": [],
   "outputs": [],
   "metadata": {}
  }
 ],
 "metadata": {
  "kernelspec": {
   "name": "python3",
   "display_name": "Python 3.9.6 64-bit ('memo': conda)"
  },
  "language_info": {
   "codemirror_mode": {
    "name": "ipython",
    "version": 3
   },
   "file_extension": ".py",
   "mimetype": "text/x-python",
   "name": "python",
   "nbconvert_exporter": "python",
   "pygments_lexer": "ipython3",
   "version": "3.9.6"
  },
  "interpreter": {
   "hash": "bf27a2d4a0753834bb94f8ff78247bd00bc6063ee2884368a40f3120b4342aed"
  }
 },
 "nbformat": 4,
 "nbformat_minor": 4
}