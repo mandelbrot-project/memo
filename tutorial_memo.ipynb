{
 "cells": [
  {
   "cell_type": "markdown",
   "metadata": {},
   "source": [
    "# MEMO Tutorial on the Qemistree Evaluation Dataset"
   ]
  },
  {
   "cell_type": "markdown",
   "metadata": {},
   "source": [
    "In this tutorial, we will use the Qemistree published dataset (https://doi.org/10.1038/s41589-020-00677-3) to apply the MS2 BasEd SaMple VectOrization (MEMO) method\n",
    "\n",
    "The dataset is constitued of 2 fecal samples, 1 tomato sample and 1 plasma sample, plus different binary/quaternary mixtures of these four samples. Samples were profiled in UHPLC-MS/MS (Q-Exactive spectrometer) using 2 different LC-methods. Each sample was acquired in triplicates using each LC-method (see Qemistree paper for details)."
   ]
  },
  {
   "cell_type": "markdown",
   "metadata": {},
   "source": [
    "## First we import the needed packages\n",
    "Be sure to have first installed memo using 'pip install memo' within the memo environment. \n",
    "Also make sure to launch this notebook using the memo conda environement."
   ]
  },
  {
   "cell_type": "code",
   "execution_count": 1,
   "metadata": {
    "scrolled": true
   },
   "outputs": [
    {
     "name": "stderr",
     "output_type": "stream",
     "text": [
      "C:\\Users\\gaudrya.FARMA\\Anaconda3\\envs\\memo\\lib\\site-packages\\gensim\\similarities\\__init__.py:15: UserWarning: The gensim.similarities.levenshtein submodule is disabled, because the optional Levenshtein package <https://pypi.org/project/python-Levenshtein/> is unavailable. Install Levenhstein (e.g. `pip install python-Levenshtein`) to suppress this warning.\n",
      "  warnings.warn(msg)\n"
     ]
    }
   ],
   "source": [
    "import pandas as pd\n",
    "import numpy as np\n",
    "import memo_ms as memo\n",
    "import plotly.express as px"
   ]
  },
  {
   "cell_type": "code",
   "execution_count": null,
   "metadata": {
    "tags": [
     "parameters"
    ]
   },
   "outputs": [],
   "source": [
    "# this cell is tagged 'parameters'\n",
    "fake_parameter = 'foo'"
   ]
  },
  {
   "cell_type": "markdown",
   "metadata": {},
   "source": [
    "With this step we import metadata:"
   ]
  },
  {
   "cell_type": "code",
   "execution_count": 2,
   "metadata": {},
   "outputs": [
    {
     "data": {
      "text/html": [
       "<div>\n",
       "<style scoped>\n",
       "    .dataframe tbody tr th:only-of-type {\n",
       "        vertical-align: middle;\n",
       "    }\n",
       "\n",
       "    .dataframe tbody tr th {\n",
       "        vertical-align: top;\n",
       "    }\n",
       "\n",
       "    .dataframe thead th {\n",
       "        text-align: right;\n",
       "    }\n",
       "</style>\n",
       "<table border=\"1\" class=\"dataframe\">\n",
       "  <thead>\n",
       "    <tr style=\"text-align: right;\">\n",
       "      <th></th>\n",
       "      <th>Filename</th>\n",
       "      <th>Experiment</th>\n",
       "      <th>Samplename</th>\n",
       "      <th>Triplicate_number</th>\n",
       "      <th>Proportion_Fecal_1</th>\n",
       "      <th>Proportion_Fecal_2</th>\n",
       "      <th>Proportion_Tomato</th>\n",
       "      <th>Proportion_NIST_1950_SRM</th>\n",
       "      <th>contains</th>\n",
       "      <th>instrument</th>\n",
       "      <th>blank_qc</th>\n",
       "    </tr>\n",
       "  </thead>\n",
       "  <tbody>\n",
       "    <tr>\n",
       "      <th>0</th>\n",
       "      <td>QEC18_Blank_resusp_20181226235330.mzML</td>\n",
       "      <td>C18</td>\n",
       "      <td>QE_C18_BLANK</td>\n",
       "      <td>1</td>\n",
       "      <td>0</td>\n",
       "      <td>0</td>\n",
       "      <td>0</td>\n",
       "      <td>0</td>\n",
       "      <td>What is it? :)</td>\n",
       "      <td>QE</td>\n",
       "      <td>yes</td>\n",
       "    </tr>\n",
       "    <tr>\n",
       "      <th>1</th>\n",
       "      <td>QEC18_Blank_resusp_20181227024429.mzML</td>\n",
       "      <td>C18</td>\n",
       "      <td>QE_C18_BLANK</td>\n",
       "      <td>2</td>\n",
       "      <td>0</td>\n",
       "      <td>0</td>\n",
       "      <td>0</td>\n",
       "      <td>0</td>\n",
       "      <td>What is it? :)</td>\n",
       "      <td>QE</td>\n",
       "      <td>yes</td>\n",
       "    </tr>\n",
       "    <tr>\n",
       "      <th>2</th>\n",
       "      <td>QEC18_Blank_resusp_20181227051626.mzML</td>\n",
       "      <td>C18</td>\n",
       "      <td>QE_C18_BLANK</td>\n",
       "      <td>3</td>\n",
       "      <td>0</td>\n",
       "      <td>0</td>\n",
       "      <td>0</td>\n",
       "      <td>0</td>\n",
       "      <td>What is it? :)</td>\n",
       "      <td>QE</td>\n",
       "      <td>yes</td>\n",
       "    </tr>\n",
       "    <tr>\n",
       "      <th>3</th>\n",
       "      <td>QEC18_Blank_resusp_20181227072924.mzML</td>\n",
       "      <td>C18</td>\n",
       "      <td>QE_C18_BLANK</td>\n",
       "      <td>4</td>\n",
       "      <td>0</td>\n",
       "      <td>0</td>\n",
       "      <td>0</td>\n",
       "      <td>0</td>\n",
       "      <td>What is it? :)</td>\n",
       "      <td>QE</td>\n",
       "      <td>yes</td>\n",
       "    </tr>\n",
       "    <tr>\n",
       "      <th>4</th>\n",
       "      <td>QEC18_Blank_resusp_20181227100129.mzML</td>\n",
       "      <td>C18</td>\n",
       "      <td>QE_C18_BLANK</td>\n",
       "      <td>5</td>\n",
       "      <td>0</td>\n",
       "      <td>0</td>\n",
       "      <td>0</td>\n",
       "      <td>0</td>\n",
       "      <td>What is it? :)</td>\n",
       "      <td>QE</td>\n",
       "      <td>yes</td>\n",
       "    </tr>\n",
       "    <tr>\n",
       "      <th>...</th>\n",
       "      <td>...</td>\n",
       "      <td>...</td>\n",
       "      <td>...</td>\n",
       "      <td>...</td>\n",
       "      <td>...</td>\n",
       "      <td>...</td>\n",
       "      <td>...</td>\n",
       "      <td>...</td>\n",
       "      <td>...</td>\n",
       "      <td>...</td>\n",
       "      <td>...</td>\n",
       "    </tr>\n",
       "    <tr>\n",
       "      <th>565</th>\n",
       "      <td>C18_F1-3_To-1_GC5_01_19577.mzML</td>\n",
       "      <td>C18-RTshift</td>\n",
       "      <td>qTOF_C18-RTshift_F1-3_To-1</td>\n",
       "      <td>2</td>\n",
       "      <td>75</td>\n",
       "      <td>0</td>\n",
       "      <td>25</td>\n",
       "      <td>0</td>\n",
       "      <td>Fecal_1 + Tomato</td>\n",
       "      <td>qTOF</td>\n",
       "      <td>no</td>\n",
       "    </tr>\n",
       "    <tr>\n",
       "      <th>566</th>\n",
       "      <td>C18_F1-3_To-1_GC5_01_19584.mzML</td>\n",
       "      <td>C18-RTshift</td>\n",
       "      <td>qTOF_C18-RTshift_F1-3_To-1</td>\n",
       "      <td>3</td>\n",
       "      <td>75</td>\n",
       "      <td>0</td>\n",
       "      <td>25</td>\n",
       "      <td>0</td>\n",
       "      <td>Fecal_1 + Tomato</td>\n",
       "      <td>qTOF</td>\n",
       "      <td>no</td>\n",
       "    </tr>\n",
       "    <tr>\n",
       "      <th>567</th>\n",
       "      <td>C18_F1-3_F2-1_GB4_01_19512.mzML</td>\n",
       "      <td>C18-RTshift</td>\n",
       "      <td>qTOF_C18-RTshift_F1-3_F2-1</td>\n",
       "      <td>1</td>\n",
       "      <td>75</td>\n",
       "      <td>25</td>\n",
       "      <td>0</td>\n",
       "      <td>0</td>\n",
       "      <td>Fecal_1 + Fecal_2</td>\n",
       "      <td>qTOF</td>\n",
       "      <td>no</td>\n",
       "    </tr>\n",
       "    <tr>\n",
       "      <th>568</th>\n",
       "      <td>C18_F1-3_F2-1_GB4_01_19547.mzML</td>\n",
       "      <td>C18-RTshift</td>\n",
       "      <td>qTOF_C18-RTshift_F1-3_F2-1</td>\n",
       "      <td>2</td>\n",
       "      <td>75</td>\n",
       "      <td>25</td>\n",
       "      <td>0</td>\n",
       "      <td>0</td>\n",
       "      <td>Fecal_1 + Fecal_2</td>\n",
       "      <td>qTOF</td>\n",
       "      <td>no</td>\n",
       "    </tr>\n",
       "    <tr>\n",
       "      <th>569</th>\n",
       "      <td>C18_F1-3_F2-1_GB4_01_19562.mzML</td>\n",
       "      <td>C18-RTshift</td>\n",
       "      <td>qTOF_C18-RTshift_F1-3_F2-1</td>\n",
       "      <td>3</td>\n",
       "      <td>75</td>\n",
       "      <td>25</td>\n",
       "      <td>0</td>\n",
       "      <td>0</td>\n",
       "      <td>Fecal_1 + Fecal_2</td>\n",
       "      <td>qTOF</td>\n",
       "      <td>no</td>\n",
       "    </tr>\n",
       "  </tbody>\n",
       "</table>\n",
       "<p>570 rows × 11 columns</p>\n",
       "</div>"
      ],
      "text/plain": [
       "                                   Filename   Experiment  \\\n",
       "0    QEC18_Blank_resusp_20181226235330.mzML          C18   \n",
       "1    QEC18_Blank_resusp_20181227024429.mzML          C18   \n",
       "2    QEC18_Blank_resusp_20181227051626.mzML          C18   \n",
       "3    QEC18_Blank_resusp_20181227072924.mzML          C18   \n",
       "4    QEC18_Blank_resusp_20181227100129.mzML          C18   \n",
       "..                                      ...          ...   \n",
       "565         C18_F1-3_To-1_GC5_01_19577.mzML  C18-RTshift   \n",
       "566         C18_F1-3_To-1_GC5_01_19584.mzML  C18-RTshift   \n",
       "567         C18_F1-3_F2-1_GB4_01_19512.mzML  C18-RTshift   \n",
       "568         C18_F1-3_F2-1_GB4_01_19547.mzML  C18-RTshift   \n",
       "569         C18_F1-3_F2-1_GB4_01_19562.mzML  C18-RTshift   \n",
       "\n",
       "                     Samplename  Triplicate_number  Proportion_Fecal_1  \\\n",
       "0                  QE_C18_BLANK                  1                   0   \n",
       "1                  QE_C18_BLANK                  2                   0   \n",
       "2                  QE_C18_BLANK                  3                   0   \n",
       "3                  QE_C18_BLANK                  4                   0   \n",
       "4                  QE_C18_BLANK                  5                   0   \n",
       "..                          ...                ...                 ...   \n",
       "565  qTOF_C18-RTshift_F1-3_To-1                  2                  75   \n",
       "566  qTOF_C18-RTshift_F1-3_To-1                  3                  75   \n",
       "567  qTOF_C18-RTshift_F1-3_F2-1                  1                  75   \n",
       "568  qTOF_C18-RTshift_F1-3_F2-1                  2                  75   \n",
       "569  qTOF_C18-RTshift_F1-3_F2-1                  3                  75   \n",
       "\n",
       "     Proportion_Fecal_2  Proportion_Tomato  Proportion_NIST_1950_SRM  \\\n",
       "0                     0                  0                         0   \n",
       "1                     0                  0                         0   \n",
       "2                     0                  0                         0   \n",
       "3                     0                  0                         0   \n",
       "4                     0                  0                         0   \n",
       "..                  ...                ...                       ...   \n",
       "565                   0                 25                         0   \n",
       "566                   0                 25                         0   \n",
       "567                  25                  0                         0   \n",
       "568                  25                  0                         0   \n",
       "569                  25                  0                         0   \n",
       "\n",
       "              contains instrument blank_qc  \n",
       "0       What is it? :)         QE      yes  \n",
       "1       What is it? :)         QE      yes  \n",
       "2       What is it? :)         QE      yes  \n",
       "3       What is it? :)         QE      yes  \n",
       "4       What is it? :)         QE      yes  \n",
       "..                 ...        ...      ...  \n",
       "565   Fecal_1 + Tomato       qTOF       no  \n",
       "566   Fecal_1 + Tomato       qTOF       no  \n",
       "567  Fecal_1 + Fecal_2       qTOF       no  \n",
       "568  Fecal_1 + Fecal_2       qTOF       no  \n",
       "569  Fecal_1 + Fecal_2       qTOF       no  \n",
       "\n",
       "[570 rows x 11 columns]"
      ]
     },
     "execution_count": 2,
     "metadata": {},
     "output_type": "execute_result"
    }
   ],
   "source": [
    "\n",
    "def conditions(df_meta):\n",
    "    if ((df_meta['Proportion_Fecal_1']>0) & (df_meta['Proportion_Fecal_2']==0)& (df_meta['Proportion_Tomato']==0) & (df_meta['Proportion_NIST_1950_SRM']==0)):\n",
    "        return 'Fecal_1'\n",
    "    if ((df_meta['Proportion_Fecal_1']==0) & (df_meta['Proportion_Fecal_2']>0)& (df_meta['Proportion_Tomato']==0) & (df_meta['Proportion_NIST_1950_SRM']==0)):\n",
    "        return 'Fecal_2'\n",
    "    if ((df_meta['Proportion_Fecal_1']==0) & (df_meta['Proportion_Fecal_2']==0)& (df_meta['Proportion_Tomato']>0) & (df_meta['Proportion_NIST_1950_SRM']==0)):\n",
    "        return 'Tomato'\n",
    "    if ((df_meta['Proportion_Fecal_1']==0) & (df_meta['Proportion_Fecal_2']==0)& (df_meta['Proportion_Tomato']==0) & (df_meta['Proportion_NIST_1950_SRM']>0)):\n",
    "        return 'Plasma'\n",
    "    if ((df_meta['Proportion_Fecal_1']>0) & (df_meta['Proportion_Fecal_2']>0)& (df_meta['Proportion_Tomato']==0) & (df_meta['Proportion_NIST_1950_SRM']==0)):\n",
    "        return 'Fecal_1 + Fecal_2'\n",
    "    if ((df_meta['Proportion_Fecal_1']>0) & (df_meta['Proportion_Fecal_2']==0)& (df_meta['Proportion_Tomato']>0) & (df_meta['Proportion_NIST_1950_SRM']==0)):\n",
    "        return 'Fecal_1 + Tomato'\n",
    "    if ((df_meta['Proportion_Fecal_1']>0) & (df_meta['Proportion_Fecal_2']==0)& (df_meta['Proportion_Tomato']==0) & (df_meta['Proportion_NIST_1950_SRM']>0)):\n",
    "        return 'Fecal_1 + Plasma'\n",
    "    if ((df_meta['Proportion_Fecal_1']==0) & (df_meta['Proportion_Fecal_2']>0)& (df_meta['Proportion_Tomato']>0) & (df_meta['Proportion_NIST_1950_SRM']==0)):\n",
    "        return 'Fecal_2 + Tomato'\n",
    "    if ((df_meta['Proportion_Fecal_1']==0) & (df_meta['Proportion_Fecal_2']>0)& (df_meta['Proportion_Tomato']==0) & (df_meta['Proportion_NIST_1950_SRM']>0)):\n",
    "        return 'Fecal_2 + Plasma'\n",
    "    if ((df_meta['Proportion_Fecal_1']==0) & (df_meta['Proportion_Fecal_2']==0)& (df_meta['Proportion_Tomato']>0) & (df_meta['Proportion_NIST_1950_SRM']>0)):\n",
    "        return 'Tomato + Plasma'\n",
    "    if ((df_meta['Proportion_Fecal_1']>0) & (df_meta['Proportion_Fecal_2']>0)& (df_meta['Proportion_Tomato']>0) & (df_meta['Proportion_NIST_1950_SRM']>0)):\n",
    "        return 'Fecal_1 + Fecal_2 + Tomato + Plasma' \n",
    "    else:\n",
    "        return 'What is it? :)'\n",
    "\n",
    "\n",
    "df_meta = pd.read_csv(\"data/1901_gradient_benchmarking_dataset_v4_sample_metadata.txt\", sep='\\t')\n",
    "df_meta['Samplename'] = df_meta['Samplename'].str[:-6]\n",
    "df_meta['Samplename'] = df_meta['Samplename'].str.replace('BLANK_', 'BLANK')\n",
    "df_meta = df_meta[['Filename', 'Experiment', 'Samplename', 'Triplicate_number', 'Proportion_Fecal_1', 'Proportion_Fecal_2', 'Proportion_Tomato', 'Proportion_NIST_1950_SRM']]\n",
    "df_meta['contains'] = df_meta.apply(conditions, axis=1)\n",
    "df_meta['instrument'] = np.where(df_meta['Samplename'].str.contains('qTOF'), 'qTOF', 'QE')\n",
    "df_meta['blank_qc'] = np.where(df_meta['Samplename'].str.contains('blank|qcmix', case = False), 'yes', 'no')\n",
    "df_meta\n"
   ]
  },
  {
   "cell_type": "markdown",
   "metadata": {},
   "source": [
    "## Import feature_quant table\n",
    "To compute the MEMO matrix of the dataset, we need the table reporting presence/absence of each metabolite in each sample. This information is in the quant table and we create a memo.FeatureTable dataclass object to load it."
   ]
  },
  {
   "cell_type": "code",
   "execution_count": 3,
   "metadata": {},
   "outputs": [
    {
     "data": {
      "text/html": [
       "<div>\n",
       "<style scoped>\n",
       "    .dataframe tbody tr th:only-of-type {\n",
       "        vertical-align: middle;\n",
       "    }\n",
       "\n",
       "    .dataframe tbody tr th {\n",
       "        vertical-align: top;\n",
       "    }\n",
       "\n",
       "    .dataframe thead th {\n",
       "        text-align: right;\n",
       "    }\n",
       "</style>\n",
       "<table border=\"1\" class=\"dataframe\">\n",
       "  <thead>\n",
       "    <tr style=\"text-align: right;\">\n",
       "      <th>row ID</th>\n",
       "      <th>1</th>\n",
       "      <th>2</th>\n",
       "      <th>3</th>\n",
       "      <th>4</th>\n",
       "      <th>5</th>\n",
       "      <th>6</th>\n",
       "      <th>7</th>\n",
       "      <th>8</th>\n",
       "      <th>9</th>\n",
       "      <th>10</th>\n",
       "      <th>...</th>\n",
       "      <th>7023</th>\n",
       "      <th>7024</th>\n",
       "      <th>7025</th>\n",
       "      <th>7026</th>\n",
       "      <th>7027</th>\n",
       "      <th>7028</th>\n",
       "      <th>7029</th>\n",
       "      <th>7030</th>\n",
       "      <th>7031</th>\n",
       "      <th>7032</th>\n",
       "    </tr>\n",
       "    <tr>\n",
       "      <th>filename</th>\n",
       "      <th></th>\n",
       "      <th></th>\n",
       "      <th></th>\n",
       "      <th></th>\n",
       "      <th></th>\n",
       "      <th></th>\n",
       "      <th></th>\n",
       "      <th></th>\n",
       "      <th></th>\n",
       "      <th></th>\n",
       "      <th></th>\n",
       "      <th></th>\n",
       "      <th></th>\n",
       "      <th></th>\n",
       "      <th></th>\n",
       "      <th></th>\n",
       "      <th></th>\n",
       "      <th></th>\n",
       "      <th></th>\n",
       "      <th></th>\n",
       "      <th></th>\n",
       "    </tr>\n",
       "  </thead>\n",
       "  <tbody>\n",
       "    <tr>\n",
       "      <th>QEC18_Blank_resusp_20181227024429.mzML</th>\n",
       "      <td>8.739521e+08</td>\n",
       "      <td>1.481579e+08</td>\n",
       "      <td>9.837010e+07</td>\n",
       "      <td>8.224197e+07</td>\n",
       "      <td>7.315887e+07</td>\n",
       "      <td>7.114766e+07</td>\n",
       "      <td>1.555986e+08</td>\n",
       "      <td>1.176479e+08</td>\n",
       "      <td>4.639512e+07</td>\n",
       "      <td>1.054225e+08</td>\n",
       "      <td>...</td>\n",
       "      <td>0.000000e+00</td>\n",
       "      <td>0.000000e+00</td>\n",
       "      <td>0.000000e+00</td>\n",
       "      <td>0.000000e+00</td>\n",
       "      <td>0.000000e+00</td>\n",
       "      <td>0.000000e+00</td>\n",
       "      <td>0.000000e+00</td>\n",
       "      <td>7.638457e+03</td>\n",
       "      <td>0.000000e+00</td>\n",
       "      <td>0.000000e+00</td>\n",
       "    </tr>\n",
       "    <tr>\n",
       "      <th>QEC18_Blank_resusp_20181227200515.mzML</th>\n",
       "      <td>1.205125e+09</td>\n",
       "      <td>3.421555e+08</td>\n",
       "      <td>2.866821e+07</td>\n",
       "      <td>8.136892e+07</td>\n",
       "      <td>7.267058e+07</td>\n",
       "      <td>1.397751e+08</td>\n",
       "      <td>1.432423e+08</td>\n",
       "      <td>3.201985e+07</td>\n",
       "      <td>1.318607e+08</td>\n",
       "      <td>1.307877e+04</td>\n",
       "      <td>...</td>\n",
       "      <td>1.403758e+03</td>\n",
       "      <td>0.000000e+00</td>\n",
       "      <td>0.000000e+00</td>\n",
       "      <td>0.000000e+00</td>\n",
       "      <td>0.000000e+00</td>\n",
       "      <td>0.000000e+00</td>\n",
       "      <td>0.000000e+00</td>\n",
       "      <td>2.869926e+03</td>\n",
       "      <td>0.000000e+00</td>\n",
       "      <td>0.000000e+00</td>\n",
       "    </tr>\n",
       "    <tr>\n",
       "      <th>QEC18_Blank_resusp_20181227180406.mzML</th>\n",
       "      <td>8.856410e+08</td>\n",
       "      <td>2.189828e+08</td>\n",
       "      <td>1.133203e+08</td>\n",
       "      <td>1.442344e+08</td>\n",
       "      <td>2.595832e+08</td>\n",
       "      <td>1.260566e+08</td>\n",
       "      <td>1.637546e+08</td>\n",
       "      <td>6.510952e+07</td>\n",
       "      <td>9.251141e+07</td>\n",
       "      <td>5.368852e+07</td>\n",
       "      <td>...</td>\n",
       "      <td>5.255234e+02</td>\n",
       "      <td>0.000000e+00</td>\n",
       "      <td>2.501361e+03</td>\n",
       "      <td>0.000000e+00</td>\n",
       "      <td>0.000000e+00</td>\n",
       "      <td>0.000000e+00</td>\n",
       "      <td>0.000000e+00</td>\n",
       "      <td>5.820253e+03</td>\n",
       "      <td>0.000000e+00</td>\n",
       "      <td>0.000000e+00</td>\n",
       "    </tr>\n",
       "    <tr>\n",
       "      <th>QEC18_Blank_resusp_20181227100129.mzML</th>\n",
       "      <td>1.672233e+09</td>\n",
       "      <td>3.215060e+08</td>\n",
       "      <td>2.621886e+08</td>\n",
       "      <td>2.304763e+08</td>\n",
       "      <td>0.000000e+00</td>\n",
       "      <td>1.504232e+08</td>\n",
       "      <td>1.600571e+08</td>\n",
       "      <td>1.044643e+08</td>\n",
       "      <td>1.385671e+08</td>\n",
       "      <td>5.633343e+03</td>\n",
       "      <td>...</td>\n",
       "      <td>0.000000e+00</td>\n",
       "      <td>0.000000e+00</td>\n",
       "      <td>1.025391e+03</td>\n",
       "      <td>0.000000e+00</td>\n",
       "      <td>0.000000e+00</td>\n",
       "      <td>0.000000e+00</td>\n",
       "      <td>0.000000e+00</td>\n",
       "      <td>2.094878e+03</td>\n",
       "      <td>0.000000e+00</td>\n",
       "      <td>0.000000e+00</td>\n",
       "    </tr>\n",
       "    <tr>\n",
       "      <th>QEC18_Blank_resusp_20181226235330.mzML</th>\n",
       "      <td>3.730564e+08</td>\n",
       "      <td>1.466751e+08</td>\n",
       "      <td>4.948088e+07</td>\n",
       "      <td>0.000000e+00</td>\n",
       "      <td>2.946699e+08</td>\n",
       "      <td>4.121042e+07</td>\n",
       "      <td>1.494343e+08</td>\n",
       "      <td>1.815754e+08</td>\n",
       "      <td>2.512913e+07</td>\n",
       "      <td>4.915055e+07</td>\n",
       "      <td>...</td>\n",
       "      <td>0.000000e+00</td>\n",
       "      <td>0.000000e+00</td>\n",
       "      <td>0.000000e+00</td>\n",
       "      <td>0.000000e+00</td>\n",
       "      <td>0.000000e+00</td>\n",
       "      <td>0.000000e+00</td>\n",
       "      <td>0.000000e+00</td>\n",
       "      <td>6.407866e+03</td>\n",
       "      <td>0.000000e+00</td>\n",
       "      <td>0.000000e+00</td>\n",
       "    </tr>\n",
       "    <tr>\n",
       "      <th>...</th>\n",
       "      <td>...</td>\n",
       "      <td>...</td>\n",
       "      <td>...</td>\n",
       "      <td>...</td>\n",
       "      <td>...</td>\n",
       "      <td>...</td>\n",
       "      <td>...</td>\n",
       "      <td>...</td>\n",
       "      <td>...</td>\n",
       "      <td>...</td>\n",
       "      <td>...</td>\n",
       "      <td>...</td>\n",
       "      <td>...</td>\n",
       "      <td>...</td>\n",
       "      <td>...</td>\n",
       "      <td>...</td>\n",
       "      <td>...</td>\n",
       "      <td>...</td>\n",
       "      <td>...</td>\n",
       "      <td>...</td>\n",
       "      <td>...</td>\n",
       "    </tr>\n",
       "    <tr>\n",
       "      <th>QEC18RT_F1.mzML</th>\n",
       "      <td>2.651802e+05</td>\n",
       "      <td>5.065530e+05</td>\n",
       "      <td>0.000000e+00</td>\n",
       "      <td>4.924721e+05</td>\n",
       "      <td>2.399147e+05</td>\n",
       "      <td>0.000000e+00</td>\n",
       "      <td>1.089271e+06</td>\n",
       "      <td>2.190487e+04</td>\n",
       "      <td>1.182916e+05</td>\n",
       "      <td>1.174440e+08</td>\n",
       "      <td>...</td>\n",
       "      <td>2.796922e+06</td>\n",
       "      <td>3.081157e+07</td>\n",
       "      <td>2.221418e+07</td>\n",
       "      <td>1.504250e+07</td>\n",
       "      <td>6.198181e+06</td>\n",
       "      <td>4.512574e+06</td>\n",
       "      <td>1.276397e+07</td>\n",
       "      <td>8.826358e+06</td>\n",
       "      <td>3.281628e+06</td>\n",
       "      <td>2.809365e+07</td>\n",
       "    </tr>\n",
       "    <tr>\n",
       "      <th>QEC18RT_F1_20181229114729.mzML</th>\n",
       "      <td>5.304884e+05</td>\n",
       "      <td>2.502201e+05</td>\n",
       "      <td>0.000000e+00</td>\n",
       "      <td>8.183989e+03</td>\n",
       "      <td>8.817621e+05</td>\n",
       "      <td>0.000000e+00</td>\n",
       "      <td>2.379306e+06</td>\n",
       "      <td>1.395917e+05</td>\n",
       "      <td>1.935925e+05</td>\n",
       "      <td>1.171058e+08</td>\n",
       "      <td>...</td>\n",
       "      <td>1.961899e+06</td>\n",
       "      <td>3.297185e+07</td>\n",
       "      <td>0.000000e+00</td>\n",
       "      <td>1.277410e+07</td>\n",
       "      <td>1.953058e+05</td>\n",
       "      <td>6.209425e+05</td>\n",
       "      <td>6.744892e+06</td>\n",
       "      <td>6.012722e+06</td>\n",
       "      <td>7.457704e+05</td>\n",
       "      <td>9.571486e+05</td>\n",
       "    </tr>\n",
       "    <tr>\n",
       "      <th>QEC18RT_F2_20181229083715.mzML</th>\n",
       "      <td>4.728289e+05</td>\n",
       "      <td>1.238884e+05</td>\n",
       "      <td>0.000000e+00</td>\n",
       "      <td>4.191255e+04</td>\n",
       "      <td>1.300201e+05</td>\n",
       "      <td>1.692591e+03</td>\n",
       "      <td>1.445742e+06</td>\n",
       "      <td>6.468152e+04</td>\n",
       "      <td>1.403810e+05</td>\n",
       "      <td>8.159880e+04</td>\n",
       "      <td>...</td>\n",
       "      <td>0.000000e+00</td>\n",
       "      <td>0.000000e+00</td>\n",
       "      <td>0.000000e+00</td>\n",
       "      <td>0.000000e+00</td>\n",
       "      <td>1.256565e+07</td>\n",
       "      <td>4.468508e+06</td>\n",
       "      <td>0.000000e+00</td>\n",
       "      <td>9.674889e+06</td>\n",
       "      <td>0.000000e+00</td>\n",
       "      <td>0.000000e+00</td>\n",
       "    </tr>\n",
       "    <tr>\n",
       "      <th>QEC18RT_F2_20181228211241.mzML</th>\n",
       "      <td>5.962238e+05</td>\n",
       "      <td>1.094719e+05</td>\n",
       "      <td>0.000000e+00</td>\n",
       "      <td>0.000000e+00</td>\n",
       "      <td>2.797098e+05</td>\n",
       "      <td>0.000000e+00</td>\n",
       "      <td>2.403209e+06</td>\n",
       "      <td>1.863481e+05</td>\n",
       "      <td>2.045858e+05</td>\n",
       "      <td>6.336701e+04</td>\n",
       "      <td>...</td>\n",
       "      <td>2.484767e+07</td>\n",
       "      <td>0.000000e+00</td>\n",
       "      <td>0.000000e+00</td>\n",
       "      <td>2.604867e+04</td>\n",
       "      <td>3.165211e+06</td>\n",
       "      <td>5.771853e+05</td>\n",
       "      <td>4.531521e+06</td>\n",
       "      <td>1.059177e+07</td>\n",
       "      <td>1.394515e+06</td>\n",
       "      <td>6.244577e+07</td>\n",
       "    </tr>\n",
       "    <tr>\n",
       "      <th>QEC18RT_F1_20181228113615.mzML</th>\n",
       "      <td>5.971862e+05</td>\n",
       "      <td>2.389570e+05</td>\n",
       "      <td>0.000000e+00</td>\n",
       "      <td>5.393931e+05</td>\n",
       "      <td>2.718625e+05</td>\n",
       "      <td>0.000000e+00</td>\n",
       "      <td>1.754395e+06</td>\n",
       "      <td>2.882695e+04</td>\n",
       "      <td>1.681624e+05</td>\n",
       "      <td>1.153195e+08</td>\n",
       "      <td>...</td>\n",
       "      <td>4.690067e+05</td>\n",
       "      <td>5.940147e+06</td>\n",
       "      <td>1.998262e+07</td>\n",
       "      <td>1.632595e+07</td>\n",
       "      <td>6.457048e+06</td>\n",
       "      <td>6.262678e+06</td>\n",
       "      <td>1.224795e+06</td>\n",
       "      <td>5.639867e+06</td>\n",
       "      <td>2.448436e+05</td>\n",
       "      <td>0.000000e+00</td>\n",
       "    </tr>\n",
       "  </tbody>\n",
       "</table>\n",
       "<p>198 rows × 7032 columns</p>\n",
       "</div>"
      ],
      "text/plain": [
       "row ID                                          1             2     \\\n",
       "filename                                                             \n",
       "QEC18_Blank_resusp_20181227024429.mzML  8.739521e+08  1.481579e+08   \n",
       "QEC18_Blank_resusp_20181227200515.mzML  1.205125e+09  3.421555e+08   \n",
       "QEC18_Blank_resusp_20181227180406.mzML  8.856410e+08  2.189828e+08   \n",
       "QEC18_Blank_resusp_20181227100129.mzML  1.672233e+09  3.215060e+08   \n",
       "QEC18_Blank_resusp_20181226235330.mzML  3.730564e+08  1.466751e+08   \n",
       "...                                              ...           ...   \n",
       "QEC18RT_F1.mzML                         2.651802e+05  5.065530e+05   \n",
       "QEC18RT_F1_20181229114729.mzML          5.304884e+05  2.502201e+05   \n",
       "QEC18RT_F2_20181229083715.mzML          4.728289e+05  1.238884e+05   \n",
       "QEC18RT_F2_20181228211241.mzML          5.962238e+05  1.094719e+05   \n",
       "QEC18RT_F1_20181228113615.mzML          5.971862e+05  2.389570e+05   \n",
       "\n",
       "row ID                                          3             4     \\\n",
       "filename                                                             \n",
       "QEC18_Blank_resusp_20181227024429.mzML  9.837010e+07  8.224197e+07   \n",
       "QEC18_Blank_resusp_20181227200515.mzML  2.866821e+07  8.136892e+07   \n",
       "QEC18_Blank_resusp_20181227180406.mzML  1.133203e+08  1.442344e+08   \n",
       "QEC18_Blank_resusp_20181227100129.mzML  2.621886e+08  2.304763e+08   \n",
       "QEC18_Blank_resusp_20181226235330.mzML  4.948088e+07  0.000000e+00   \n",
       "...                                              ...           ...   \n",
       "QEC18RT_F1.mzML                         0.000000e+00  4.924721e+05   \n",
       "QEC18RT_F1_20181229114729.mzML          0.000000e+00  8.183989e+03   \n",
       "QEC18RT_F2_20181229083715.mzML          0.000000e+00  4.191255e+04   \n",
       "QEC18RT_F2_20181228211241.mzML          0.000000e+00  0.000000e+00   \n",
       "QEC18RT_F1_20181228113615.mzML          0.000000e+00  5.393931e+05   \n",
       "\n",
       "row ID                                          5             6     \\\n",
       "filename                                                             \n",
       "QEC18_Blank_resusp_20181227024429.mzML  7.315887e+07  7.114766e+07   \n",
       "QEC18_Blank_resusp_20181227200515.mzML  7.267058e+07  1.397751e+08   \n",
       "QEC18_Blank_resusp_20181227180406.mzML  2.595832e+08  1.260566e+08   \n",
       "QEC18_Blank_resusp_20181227100129.mzML  0.000000e+00  1.504232e+08   \n",
       "QEC18_Blank_resusp_20181226235330.mzML  2.946699e+08  4.121042e+07   \n",
       "...                                              ...           ...   \n",
       "QEC18RT_F1.mzML                         2.399147e+05  0.000000e+00   \n",
       "QEC18RT_F1_20181229114729.mzML          8.817621e+05  0.000000e+00   \n",
       "QEC18RT_F2_20181229083715.mzML          1.300201e+05  1.692591e+03   \n",
       "QEC18RT_F2_20181228211241.mzML          2.797098e+05  0.000000e+00   \n",
       "QEC18RT_F1_20181228113615.mzML          2.718625e+05  0.000000e+00   \n",
       "\n",
       "row ID                                          7             8     \\\n",
       "filename                                                             \n",
       "QEC18_Blank_resusp_20181227024429.mzML  1.555986e+08  1.176479e+08   \n",
       "QEC18_Blank_resusp_20181227200515.mzML  1.432423e+08  3.201985e+07   \n",
       "QEC18_Blank_resusp_20181227180406.mzML  1.637546e+08  6.510952e+07   \n",
       "QEC18_Blank_resusp_20181227100129.mzML  1.600571e+08  1.044643e+08   \n",
       "QEC18_Blank_resusp_20181226235330.mzML  1.494343e+08  1.815754e+08   \n",
       "...                                              ...           ...   \n",
       "QEC18RT_F1.mzML                         1.089271e+06  2.190487e+04   \n",
       "QEC18RT_F1_20181229114729.mzML          2.379306e+06  1.395917e+05   \n",
       "QEC18RT_F2_20181229083715.mzML          1.445742e+06  6.468152e+04   \n",
       "QEC18RT_F2_20181228211241.mzML          2.403209e+06  1.863481e+05   \n",
       "QEC18RT_F1_20181228113615.mzML          1.754395e+06  2.882695e+04   \n",
       "\n",
       "row ID                                          9             10    ...  \\\n",
       "filename                                                            ...   \n",
       "QEC18_Blank_resusp_20181227024429.mzML  4.639512e+07  1.054225e+08  ...   \n",
       "QEC18_Blank_resusp_20181227200515.mzML  1.318607e+08  1.307877e+04  ...   \n",
       "QEC18_Blank_resusp_20181227180406.mzML  9.251141e+07  5.368852e+07  ...   \n",
       "QEC18_Blank_resusp_20181227100129.mzML  1.385671e+08  5.633343e+03  ...   \n",
       "QEC18_Blank_resusp_20181226235330.mzML  2.512913e+07  4.915055e+07  ...   \n",
       "...                                              ...           ...  ...   \n",
       "QEC18RT_F1.mzML                         1.182916e+05  1.174440e+08  ...   \n",
       "QEC18RT_F1_20181229114729.mzML          1.935925e+05  1.171058e+08  ...   \n",
       "QEC18RT_F2_20181229083715.mzML          1.403810e+05  8.159880e+04  ...   \n",
       "QEC18RT_F2_20181228211241.mzML          2.045858e+05  6.336701e+04  ...   \n",
       "QEC18RT_F1_20181228113615.mzML          1.681624e+05  1.153195e+08  ...   \n",
       "\n",
       "row ID                                          7023          7024  \\\n",
       "filename                                                             \n",
       "QEC18_Blank_resusp_20181227024429.mzML  0.000000e+00  0.000000e+00   \n",
       "QEC18_Blank_resusp_20181227200515.mzML  1.403758e+03  0.000000e+00   \n",
       "QEC18_Blank_resusp_20181227180406.mzML  5.255234e+02  0.000000e+00   \n",
       "QEC18_Blank_resusp_20181227100129.mzML  0.000000e+00  0.000000e+00   \n",
       "QEC18_Blank_resusp_20181226235330.mzML  0.000000e+00  0.000000e+00   \n",
       "...                                              ...           ...   \n",
       "QEC18RT_F1.mzML                         2.796922e+06  3.081157e+07   \n",
       "QEC18RT_F1_20181229114729.mzML          1.961899e+06  3.297185e+07   \n",
       "QEC18RT_F2_20181229083715.mzML          0.000000e+00  0.000000e+00   \n",
       "QEC18RT_F2_20181228211241.mzML          2.484767e+07  0.000000e+00   \n",
       "QEC18RT_F1_20181228113615.mzML          4.690067e+05  5.940147e+06   \n",
       "\n",
       "row ID                                          7025          7026  \\\n",
       "filename                                                             \n",
       "QEC18_Blank_resusp_20181227024429.mzML  0.000000e+00  0.000000e+00   \n",
       "QEC18_Blank_resusp_20181227200515.mzML  0.000000e+00  0.000000e+00   \n",
       "QEC18_Blank_resusp_20181227180406.mzML  2.501361e+03  0.000000e+00   \n",
       "QEC18_Blank_resusp_20181227100129.mzML  1.025391e+03  0.000000e+00   \n",
       "QEC18_Blank_resusp_20181226235330.mzML  0.000000e+00  0.000000e+00   \n",
       "...                                              ...           ...   \n",
       "QEC18RT_F1.mzML                         2.221418e+07  1.504250e+07   \n",
       "QEC18RT_F1_20181229114729.mzML          0.000000e+00  1.277410e+07   \n",
       "QEC18RT_F2_20181229083715.mzML          0.000000e+00  0.000000e+00   \n",
       "QEC18RT_F2_20181228211241.mzML          0.000000e+00  2.604867e+04   \n",
       "QEC18RT_F1_20181228113615.mzML          1.998262e+07  1.632595e+07   \n",
       "\n",
       "row ID                                          7027          7028  \\\n",
       "filename                                                             \n",
       "QEC18_Blank_resusp_20181227024429.mzML  0.000000e+00  0.000000e+00   \n",
       "QEC18_Blank_resusp_20181227200515.mzML  0.000000e+00  0.000000e+00   \n",
       "QEC18_Blank_resusp_20181227180406.mzML  0.000000e+00  0.000000e+00   \n",
       "QEC18_Blank_resusp_20181227100129.mzML  0.000000e+00  0.000000e+00   \n",
       "QEC18_Blank_resusp_20181226235330.mzML  0.000000e+00  0.000000e+00   \n",
       "...                                              ...           ...   \n",
       "QEC18RT_F1.mzML                         6.198181e+06  4.512574e+06   \n",
       "QEC18RT_F1_20181229114729.mzML          1.953058e+05  6.209425e+05   \n",
       "QEC18RT_F2_20181229083715.mzML          1.256565e+07  4.468508e+06   \n",
       "QEC18RT_F2_20181228211241.mzML          3.165211e+06  5.771853e+05   \n",
       "QEC18RT_F1_20181228113615.mzML          6.457048e+06  6.262678e+06   \n",
       "\n",
       "row ID                                          7029          7030  \\\n",
       "filename                                                             \n",
       "QEC18_Blank_resusp_20181227024429.mzML  0.000000e+00  7.638457e+03   \n",
       "QEC18_Blank_resusp_20181227200515.mzML  0.000000e+00  2.869926e+03   \n",
       "QEC18_Blank_resusp_20181227180406.mzML  0.000000e+00  5.820253e+03   \n",
       "QEC18_Blank_resusp_20181227100129.mzML  0.000000e+00  2.094878e+03   \n",
       "QEC18_Blank_resusp_20181226235330.mzML  0.000000e+00  6.407866e+03   \n",
       "...                                              ...           ...   \n",
       "QEC18RT_F1.mzML                         1.276397e+07  8.826358e+06   \n",
       "QEC18RT_F1_20181229114729.mzML          6.744892e+06  6.012722e+06   \n",
       "QEC18RT_F2_20181229083715.mzML          0.000000e+00  9.674889e+06   \n",
       "QEC18RT_F2_20181228211241.mzML          4.531521e+06  1.059177e+07   \n",
       "QEC18RT_F1_20181228113615.mzML          1.224795e+06  5.639867e+06   \n",
       "\n",
       "row ID                                          7031          7032  \n",
       "filename                                                            \n",
       "QEC18_Blank_resusp_20181227024429.mzML  0.000000e+00  0.000000e+00  \n",
       "QEC18_Blank_resusp_20181227200515.mzML  0.000000e+00  0.000000e+00  \n",
       "QEC18_Blank_resusp_20181227180406.mzML  0.000000e+00  0.000000e+00  \n",
       "QEC18_Blank_resusp_20181227100129.mzML  0.000000e+00  0.000000e+00  \n",
       "QEC18_Blank_resusp_20181226235330.mzML  0.000000e+00  0.000000e+00  \n",
       "...                                              ...           ...  \n",
       "QEC18RT_F1.mzML                         3.281628e+06  2.809365e+07  \n",
       "QEC18RT_F1_20181229114729.mzML          7.457704e+05  9.571486e+05  \n",
       "QEC18RT_F2_20181229083715.mzML          0.000000e+00  0.000000e+00  \n",
       "QEC18RT_F2_20181228211241.mzML          1.394515e+06  6.244577e+07  \n",
       "QEC18RT_F1_20181228113615.mzML          2.448436e+05  0.000000e+00  \n",
       "\n",
       "[198 rows x 7032 columns]"
      ]
     },
     "execution_count": 3,
     "metadata": {},
     "output_type": "execute_result"
    }
   ],
   "source": [
    "feat_table_qe = memo.FeatureTable(path=\"data/quantification_table-00000.csv\")\n",
    "feat_table_qe.quant_table"
   ]
  },
  {
   "cell_type": "markdown",
   "metadata": {},
   "source": [
    "## Import spectra\n",
    "Since MEMO relies on the occurence of MS2 fragments/losses in samples to compare them, we obviously need to importthe features' fragmentation spectra. Losses are computed and spectra translated into documents. Store in memo.SpectraDocuments dataclass object."
   ]
  },
  {
   "cell_type": "code",
   "execution_count": 4,
   "metadata": {},
   "outputs": [
    {
     "data": {
      "text/html": [
       "<div>\n",
       "<style scoped>\n",
       "    .dataframe tbody tr th:only-of-type {\n",
       "        vertical-align: middle;\n",
       "    }\n",
       "\n",
       "    .dataframe tbody tr th {\n",
       "        vertical-align: top;\n",
       "    }\n",
       "\n",
       "    .dataframe thead th {\n",
       "        text-align: right;\n",
       "    }\n",
       "</style>\n",
       "<table border=\"1\" class=\"dataframe\">\n",
       "  <thead>\n",
       "    <tr style=\"text-align: right;\">\n",
       "      <th></th>\n",
       "      <th>scans</th>\n",
       "      <th>pepmass</th>\n",
       "      <th>charge</th>\n",
       "      <th>collision_energy</th>\n",
       "      <th>precursor_mz</th>\n",
       "      <th>documents</th>\n",
       "    </tr>\n",
       "  </thead>\n",
       "  <tbody>\n",
       "    <tr>\n",
       "      <th>0</th>\n",
       "      <td>1</td>\n",
       "      <td>(338.342, None)</td>\n",
       "      <td>[1+]</td>\n",
       "      <td>0.0</td>\n",
       "      <td>338.3420</td>\n",
       "      <td>[peak@71.05, peak@71.09, peak@72.08, peak@78.7...</td>\n",
       "    </tr>\n",
       "    <tr>\n",
       "      <th>1</th>\n",
       "      <td>2</td>\n",
       "      <td>(278.1905, None)</td>\n",
       "      <td>[1+]</td>\n",
       "      <td>0.0</td>\n",
       "      <td>278.1905</td>\n",
       "      <td>[peak@84.08, peak@91.05, peak@105.07, peak@115...</td>\n",
       "    </tr>\n",
       "    <tr>\n",
       "      <th>2</th>\n",
       "      <td>3</td>\n",
       "      <td>(702.2131, None)</td>\n",
       "      <td>[1+]</td>\n",
       "      <td>0.0</td>\n",
       "      <td>702.2131</td>\n",
       "      <td>[peak@73.05, peak@79.02, peak@80.97, peak@81.0...</td>\n",
       "    </tr>\n",
       "    <tr>\n",
       "      <th>3</th>\n",
       "      <td>4</td>\n",
       "      <td>(663.452, None)</td>\n",
       "      <td>[1+]</td>\n",
       "      <td>0.0</td>\n",
       "      <td>663.4520</td>\n",
       "      <td>[peak@91.05, peak@147.12, peak@251.05, peak@30...</td>\n",
       "    </tr>\n",
       "    <tr>\n",
       "      <th>4</th>\n",
       "      <td>5</td>\n",
       "      <td>(663.4555, None)</td>\n",
       "      <td>[1+]</td>\n",
       "      <td>0.0</td>\n",
       "      <td>663.4555</td>\n",
       "      <td>[peak@91.05, peak@147.12, peak@251.05, peak@30...</td>\n",
       "    </tr>\n",
       "    <tr>\n",
       "      <th>...</th>\n",
       "      <td>...</td>\n",
       "      <td>...</td>\n",
       "      <td>...</td>\n",
       "      <td>...</td>\n",
       "      <td>...</td>\n",
       "      <td>...</td>\n",
       "    </tr>\n",
       "    <tr>\n",
       "      <th>6564</th>\n",
       "      <td>7028</td>\n",
       "      <td>(381.3165, None)</td>\n",
       "      <td>[1+]</td>\n",
       "      <td>0.0</td>\n",
       "      <td>381.3165</td>\n",
       "      <td>[peak@70.07, peak@71.05, peak@71.09, peak@72.3...</td>\n",
       "    </tr>\n",
       "    <tr>\n",
       "      <th>6565</th>\n",
       "      <td>7029</td>\n",
       "      <td>(453.3377, None)</td>\n",
       "      <td>[1+]</td>\n",
       "      <td>0.0</td>\n",
       "      <td>453.3377</td>\n",
       "      <td>[peak@71.05, peak@79.05, peak@81.03, peak@81.0...</td>\n",
       "    </tr>\n",
       "    <tr>\n",
       "      <th>6566</th>\n",
       "      <td>7030</td>\n",
       "      <td>(165.0911, None)</td>\n",
       "      <td>[1+]</td>\n",
       "      <td>0.0</td>\n",
       "      <td>165.0911</td>\n",
       "      <td>[peak@81.07, peak@83.05, peak@91.05, peak@95.0...</td>\n",
       "    </tr>\n",
       "    <tr>\n",
       "      <th>6567</th>\n",
       "      <td>7031</td>\n",
       "      <td>(501.3573, None)</td>\n",
       "      <td>[1+]</td>\n",
       "      <td>0.0</td>\n",
       "      <td>501.3573</td>\n",
       "      <td>[peak@81.07, peak@95.09, peak@105.07, peak@198...</td>\n",
       "    </tr>\n",
       "    <tr>\n",
       "      <th>6568</th>\n",
       "      <td>7032</td>\n",
       "      <td>(487.3776, None)</td>\n",
       "      <td>[1+]</td>\n",
       "      <td>0.0</td>\n",
       "      <td>487.3776</td>\n",
       "      <td>[peak@81.07, peak@91.05, peak@92.33, peak@93.0...</td>\n",
       "    </tr>\n",
       "  </tbody>\n",
       "</table>\n",
       "<p>6569 rows × 6 columns</p>\n",
       "</div>"
      ],
      "text/plain": [
       "      scans           pepmass charge collision_energy  precursor_mz  \\\n",
       "0         1   (338.342, None)   [1+]              0.0      338.3420   \n",
       "1         2  (278.1905, None)   [1+]              0.0      278.1905   \n",
       "2         3  (702.2131, None)   [1+]              0.0      702.2131   \n",
       "3         4   (663.452, None)   [1+]              0.0      663.4520   \n",
       "4         5  (663.4555, None)   [1+]              0.0      663.4555   \n",
       "...     ...               ...    ...              ...           ...   \n",
       "6564   7028  (381.3165, None)   [1+]              0.0      381.3165   \n",
       "6565   7029  (453.3377, None)   [1+]              0.0      453.3377   \n",
       "6566   7030  (165.0911, None)   [1+]              0.0      165.0911   \n",
       "6567   7031  (501.3573, None)   [1+]              0.0      501.3573   \n",
       "6568   7032  (487.3776, None)   [1+]              0.0      487.3776   \n",
       "\n",
       "                                              documents  \n",
       "0     [peak@71.05, peak@71.09, peak@72.08, peak@78.7...  \n",
       "1     [peak@84.08, peak@91.05, peak@105.07, peak@115...  \n",
       "2     [peak@73.05, peak@79.02, peak@80.97, peak@81.0...  \n",
       "3     [peak@91.05, peak@147.12, peak@251.05, peak@30...  \n",
       "4     [peak@91.05, peak@147.12, peak@251.05, peak@30...  \n",
       "...                                                 ...  \n",
       "6564  [peak@70.07, peak@71.05, peak@71.09, peak@72.3...  \n",
       "6565  [peak@71.05, peak@79.05, peak@81.03, peak@81.0...  \n",
       "6566  [peak@81.07, peak@83.05, peak@91.05, peak@95.0...  \n",
       "6567  [peak@81.07, peak@95.09, peak@105.07, peak@198...  \n",
       "6568  [peak@81.07, peak@91.05, peak@92.33, peak@93.0...  \n",
       "\n",
       "[6569 rows x 6 columns]"
      ]
     },
     "execution_count": 4,
     "metadata": {},
     "output_type": "execute_result"
    }
   ],
   "source": [
    "spectra_qe = memo.SpectraDocuments(path=\"data/qemistree_specs_ms.mgf\", min_relative_intensity = 0.01,\n",
    "            max_relative_intensity = 1, min_peaks_required=5, losses_from = 10, losses_to = 200, n_decimals = 2)\n",
    "spectra_qe.document"
   ]
  },
  {
   "cell_type": "markdown",
   "metadata": {},
   "source": [
    "## Generation of MEMO matrix\n",
    "\n",
    "Using the generated documents and the quant table, we can now obtain the MEMO matrix. The MEMO matrix is stored in the MemoContainer object, along with the feature table and the documents"
   ]
  },
  {
   "cell_type": "code",
   "execution_count": 7,
   "metadata": {},
   "outputs": [
    {
     "name": "stdout",
     "output_type": "stream",
     "text": [
      "generating memo_matrix from input featuretable and spectradocument\n"
     ]
    },
    {
     "name": "stderr",
     "output_type": "stream",
     "text": [
      "100%|██████████| 198/198 [00:06<00:00, 30.58it/s]\n"
     ]
    },
    {
     "data": {
      "text/plain": [
       "MemoContainer()"
      ]
     },
     "execution_count": 7,
     "metadata": {},
     "output_type": "execute_result"
    }
   ],
   "source": [
    "memo_qe = memo.MemoContainer()\n",
    "memo_qe.memo_from_aligned_samples(feat_table_qe, spectra_qe)\n",
    "memo_qe.memo_matrix"
   ]
  },
  {
   "cell_type": "code",
   "execution_count": 31,
   "metadata": {},
   "outputs": [
    {
     "data": {
      "text/html": [
       "<div>\n",
       "<style scoped>\n",
       "    .dataframe tbody tr th:only-of-type {\n",
       "        vertical-align: middle;\n",
       "    }\n",
       "\n",
       "    .dataframe tbody tr th {\n",
       "        vertical-align: top;\n",
       "    }\n",
       "\n",
       "    .dataframe thead th {\n",
       "        text-align: right;\n",
       "    }\n",
       "</style>\n",
       "<table border=\"1\" class=\"dataframe\">\n",
       "  <thead>\n",
       "    <tr style=\"text-align: right;\">\n",
       "      <th></th>\n",
       "      <th>peak@71.05</th>\n",
       "      <th>peak@71.09</th>\n",
       "      <th>peak@72.08</th>\n",
       "      <th>peak@78.74</th>\n",
       "      <th>peak@79.05</th>\n",
       "      <th>peak@81.07</th>\n",
       "      <th>peak@83.09</th>\n",
       "      <th>peak@85.10</th>\n",
       "      <th>peak@86.06</th>\n",
       "      <th>peak@86.10</th>\n",
       "      <th>...</th>\n",
       "      <th>peak@604.26</th>\n",
       "      <th>peak@620.26</th>\n",
       "      <th>peak@679.27</th>\n",
       "      <th>peak@131.23</th>\n",
       "      <th>peak@138.34</th>\n",
       "      <th>peak@177.88</th>\n",
       "      <th>peak@235.22</th>\n",
       "      <th>peak@262.41</th>\n",
       "      <th>peak@345.96</th>\n",
       "      <th>peak@444.82</th>\n",
       "    </tr>\n",
       "    <tr>\n",
       "      <th>filename</th>\n",
       "      <th></th>\n",
       "      <th></th>\n",
       "      <th></th>\n",
       "      <th></th>\n",
       "      <th></th>\n",
       "      <th></th>\n",
       "      <th></th>\n",
       "      <th></th>\n",
       "      <th></th>\n",
       "      <th></th>\n",
       "      <th></th>\n",
       "      <th></th>\n",
       "      <th></th>\n",
       "      <th></th>\n",
       "      <th></th>\n",
       "      <th></th>\n",
       "      <th></th>\n",
       "      <th></th>\n",
       "      <th></th>\n",
       "      <th></th>\n",
       "      <th></th>\n",
       "    </tr>\n",
       "  </thead>\n",
       "  <tbody>\n",
       "    <tr>\n",
       "      <th>QEC18_F1-1_F2-1.mzML</th>\n",
       "      <td>899.0</td>\n",
       "      <td>1620.0</td>\n",
       "      <td>111.0</td>\n",
       "      <td>2.0</td>\n",
       "      <td>2559.0</td>\n",
       "      <td>3467.0</td>\n",
       "      <td>2717.0</td>\n",
       "      <td>1047.0</td>\n",
       "      <td>76.0</td>\n",
       "      <td>561.0</td>\n",
       "      <td>...</td>\n",
       "      <td>0.0</td>\n",
       "      <td>0.0</td>\n",
       "      <td>0.0</td>\n",
       "      <td>0.0</td>\n",
       "      <td>0.0</td>\n",
       "      <td>0.0</td>\n",
       "      <td>0.0</td>\n",
       "      <td>0.0</td>\n",
       "      <td>0.0</td>\n",
       "      <td>0.0</td>\n",
       "    </tr>\n",
       "    <tr>\n",
       "      <th>QEC18_F1-1_NIST-3.mzML</th>\n",
       "      <td>878.0</td>\n",
       "      <td>1610.0</td>\n",
       "      <td>107.0</td>\n",
       "      <td>2.0</td>\n",
       "      <td>2511.0</td>\n",
       "      <td>3429.0</td>\n",
       "      <td>2669.0</td>\n",
       "      <td>1036.0</td>\n",
       "      <td>75.0</td>\n",
       "      <td>552.0</td>\n",
       "      <td>...</td>\n",
       "      <td>0.0</td>\n",
       "      <td>0.0</td>\n",
       "      <td>0.0</td>\n",
       "      <td>0.0</td>\n",
       "      <td>0.0</td>\n",
       "      <td>0.0</td>\n",
       "      <td>0.0</td>\n",
       "      <td>0.0</td>\n",
       "      <td>0.0</td>\n",
       "      <td>0.0</td>\n",
       "    </tr>\n",
       "    <tr>\n",
       "      <th>QEC18_F1-1_F2-1_20181227143118.mzML</th>\n",
       "      <td>903.0</td>\n",
       "      <td>1656.0</td>\n",
       "      <td>117.0</td>\n",
       "      <td>1.0</td>\n",
       "      <td>2605.0</td>\n",
       "      <td>3576.0</td>\n",
       "      <td>2764.0</td>\n",
       "      <td>1058.0</td>\n",
       "      <td>73.0</td>\n",
       "      <td>605.0</td>\n",
       "      <td>...</td>\n",
       "      <td>0.0</td>\n",
       "      <td>0.0</td>\n",
       "      <td>0.0</td>\n",
       "      <td>0.0</td>\n",
       "      <td>0.0</td>\n",
       "      <td>0.0</td>\n",
       "      <td>0.0</td>\n",
       "      <td>0.0</td>\n",
       "      <td>0.0</td>\n",
       "      <td>0.0</td>\n",
       "    </tr>\n",
       "    <tr>\n",
       "      <th>QEC18_F1-1_F2-1_20181227084526.mzML</th>\n",
       "      <td>919.0</td>\n",
       "      <td>1680.0</td>\n",
       "      <td>113.0</td>\n",
       "      <td>3.0</td>\n",
       "      <td>2660.0</td>\n",
       "      <td>3636.0</td>\n",
       "      <td>2816.0</td>\n",
       "      <td>1071.0</td>\n",
       "      <td>74.0</td>\n",
       "      <td>582.0</td>\n",
       "      <td>...</td>\n",
       "      <td>0.0</td>\n",
       "      <td>0.0</td>\n",
       "      <td>0.0</td>\n",
       "      <td>0.0</td>\n",
       "      <td>0.0</td>\n",
       "      <td>0.0</td>\n",
       "      <td>0.0</td>\n",
       "      <td>0.0</td>\n",
       "      <td>0.0</td>\n",
       "      <td>0.0</td>\n",
       "    </tr>\n",
       "    <tr>\n",
       "      <th>QEC18_F1-1_F2-1_NIST-2_To-1.mzML</th>\n",
       "      <td>1006.0</td>\n",
       "      <td>1718.0</td>\n",
       "      <td>114.0</td>\n",
       "      <td>3.0</td>\n",
       "      <td>2996.0</td>\n",
       "      <td>4011.0</td>\n",
       "      <td>2984.0</td>\n",
       "      <td>1096.0</td>\n",
       "      <td>72.0</td>\n",
       "      <td>651.0</td>\n",
       "      <td>...</td>\n",
       "      <td>0.0</td>\n",
       "      <td>0.0</td>\n",
       "      <td>0.0</td>\n",
       "      <td>0.0</td>\n",
       "      <td>0.0</td>\n",
       "      <td>0.0</td>\n",
       "      <td>0.0</td>\n",
       "      <td>0.0</td>\n",
       "      <td>0.0</td>\n",
       "      <td>0.0</td>\n",
       "    </tr>\n",
       "    <tr>\n",
       "      <th>...</th>\n",
       "      <td>...</td>\n",
       "      <td>...</td>\n",
       "      <td>...</td>\n",
       "      <td>...</td>\n",
       "      <td>...</td>\n",
       "      <td>...</td>\n",
       "      <td>...</td>\n",
       "      <td>...</td>\n",
       "      <td>...</td>\n",
       "      <td>...</td>\n",
       "      <td>...</td>\n",
       "      <td>...</td>\n",
       "      <td>...</td>\n",
       "      <td>...</td>\n",
       "      <td>...</td>\n",
       "      <td>...</td>\n",
       "      <td>...</td>\n",
       "      <td>...</td>\n",
       "      <td>...</td>\n",
       "      <td>...</td>\n",
       "      <td>...</td>\n",
       "    </tr>\n",
       "    <tr>\n",
       "      <th>QEC18RT_F1.mzML</th>\n",
       "      <td>954.0</td>\n",
       "      <td>1713.0</td>\n",
       "      <td>122.0</td>\n",
       "      <td>1.0</td>\n",
       "      <td>2700.0</td>\n",
       "      <td>3649.0</td>\n",
       "      <td>2855.0</td>\n",
       "      <td>1101.0</td>\n",
       "      <td>72.0</td>\n",
       "      <td>558.0</td>\n",
       "      <td>...</td>\n",
       "      <td>0.0</td>\n",
       "      <td>0.0</td>\n",
       "      <td>0.0</td>\n",
       "      <td>0.0</td>\n",
       "      <td>0.0</td>\n",
       "      <td>0.0</td>\n",
       "      <td>0.0</td>\n",
       "      <td>0.0</td>\n",
       "      <td>0.0</td>\n",
       "      <td>0.0</td>\n",
       "    </tr>\n",
       "    <tr>\n",
       "      <th>QEC18RT_F1_20181229114729.mzML</th>\n",
       "      <td>961.0</td>\n",
       "      <td>1711.0</td>\n",
       "      <td>118.0</td>\n",
       "      <td>2.0</td>\n",
       "      <td>2706.0</td>\n",
       "      <td>3659.0</td>\n",
       "      <td>2869.0</td>\n",
       "      <td>1088.0</td>\n",
       "      <td>72.0</td>\n",
       "      <td>594.0</td>\n",
       "      <td>...</td>\n",
       "      <td>0.0</td>\n",
       "      <td>0.0</td>\n",
       "      <td>0.0</td>\n",
       "      <td>0.0</td>\n",
       "      <td>0.0</td>\n",
       "      <td>0.0</td>\n",
       "      <td>0.0</td>\n",
       "      <td>0.0</td>\n",
       "      <td>0.0</td>\n",
       "      <td>0.0</td>\n",
       "    </tr>\n",
       "    <tr>\n",
       "      <th>QEC18RT_F2_20181229083715.mzML</th>\n",
       "      <td>861.0</td>\n",
       "      <td>1626.0</td>\n",
       "      <td>118.0</td>\n",
       "      <td>1.0</td>\n",
       "      <td>2544.0</td>\n",
       "      <td>3482.0</td>\n",
       "      <td>2728.0</td>\n",
       "      <td>1039.0</td>\n",
       "      <td>73.0</td>\n",
       "      <td>571.0</td>\n",
       "      <td>...</td>\n",
       "      <td>0.0</td>\n",
       "      <td>0.0</td>\n",
       "      <td>0.0</td>\n",
       "      <td>0.0</td>\n",
       "      <td>0.0</td>\n",
       "      <td>0.0</td>\n",
       "      <td>0.0</td>\n",
       "      <td>0.0</td>\n",
       "      <td>0.0</td>\n",
       "      <td>0.0</td>\n",
       "    </tr>\n",
       "    <tr>\n",
       "      <th>QEC18RT_F2_20181228211241.mzML</th>\n",
       "      <td>863.0</td>\n",
       "      <td>1631.0</td>\n",
       "      <td>116.0</td>\n",
       "      <td>1.0</td>\n",
       "      <td>2567.0</td>\n",
       "      <td>3493.0</td>\n",
       "      <td>2755.0</td>\n",
       "      <td>1042.0</td>\n",
       "      <td>73.0</td>\n",
       "      <td>583.0</td>\n",
       "      <td>...</td>\n",
       "      <td>0.0</td>\n",
       "      <td>0.0</td>\n",
       "      <td>0.0</td>\n",
       "      <td>0.0</td>\n",
       "      <td>0.0</td>\n",
       "      <td>0.0</td>\n",
       "      <td>0.0</td>\n",
       "      <td>0.0</td>\n",
       "      <td>0.0</td>\n",
       "      <td>0.0</td>\n",
       "    </tr>\n",
       "    <tr>\n",
       "      <th>QEC18RT_F1_20181228113615.mzML</th>\n",
       "      <td>948.0</td>\n",
       "      <td>1698.0</td>\n",
       "      <td>120.0</td>\n",
       "      <td>1.0</td>\n",
       "      <td>2695.0</td>\n",
       "      <td>3628.0</td>\n",
       "      <td>2832.0</td>\n",
       "      <td>1085.0</td>\n",
       "      <td>75.0</td>\n",
       "      <td>561.0</td>\n",
       "      <td>...</td>\n",
       "      <td>0.0</td>\n",
       "      <td>0.0</td>\n",
       "      <td>0.0</td>\n",
       "      <td>0.0</td>\n",
       "      <td>0.0</td>\n",
       "      <td>0.0</td>\n",
       "      <td>0.0</td>\n",
       "      <td>0.0</td>\n",
       "      <td>0.0</td>\n",
       "      <td>0.0</td>\n",
       "    </tr>\n",
       "  </tbody>\n",
       "</table>\n",
       "<p>171 rows × 22806 columns</p>\n",
       "</div>"
      ],
      "text/plain": [
       "                                     peak@71.05  peak@71.09  peak@72.08  \\\n",
       "filename                                                                  \n",
       "QEC18_F1-1_F2-1.mzML                      899.0      1620.0       111.0   \n",
       "QEC18_F1-1_NIST-3.mzML                    878.0      1610.0       107.0   \n",
       "QEC18_F1-1_F2-1_20181227143118.mzML       903.0      1656.0       117.0   \n",
       "QEC18_F1-1_F2-1_20181227084526.mzML       919.0      1680.0       113.0   \n",
       "QEC18_F1-1_F2-1_NIST-2_To-1.mzML         1006.0      1718.0       114.0   \n",
       "...                                         ...         ...         ...   \n",
       "QEC18RT_F1.mzML                           954.0      1713.0       122.0   \n",
       "QEC18RT_F1_20181229114729.mzML            961.0      1711.0       118.0   \n",
       "QEC18RT_F2_20181229083715.mzML            861.0      1626.0       118.0   \n",
       "QEC18RT_F2_20181228211241.mzML            863.0      1631.0       116.0   \n",
       "QEC18RT_F1_20181228113615.mzML            948.0      1698.0       120.0   \n",
       "\n",
       "                                     peak@78.74  peak@79.05  peak@81.07  \\\n",
       "filename                                                                  \n",
       "QEC18_F1-1_F2-1.mzML                        2.0      2559.0      3467.0   \n",
       "QEC18_F1-1_NIST-3.mzML                      2.0      2511.0      3429.0   \n",
       "QEC18_F1-1_F2-1_20181227143118.mzML         1.0      2605.0      3576.0   \n",
       "QEC18_F1-1_F2-1_20181227084526.mzML         3.0      2660.0      3636.0   \n",
       "QEC18_F1-1_F2-1_NIST-2_To-1.mzML            3.0      2996.0      4011.0   \n",
       "...                                         ...         ...         ...   \n",
       "QEC18RT_F1.mzML                             1.0      2700.0      3649.0   \n",
       "QEC18RT_F1_20181229114729.mzML              2.0      2706.0      3659.0   \n",
       "QEC18RT_F2_20181229083715.mzML              1.0      2544.0      3482.0   \n",
       "QEC18RT_F2_20181228211241.mzML              1.0      2567.0      3493.0   \n",
       "QEC18RT_F1_20181228113615.mzML              1.0      2695.0      3628.0   \n",
       "\n",
       "                                     peak@83.09  peak@85.10  peak@86.06  \\\n",
       "filename                                                                  \n",
       "QEC18_F1-1_F2-1.mzML                     2717.0      1047.0        76.0   \n",
       "QEC18_F1-1_NIST-3.mzML                   2669.0      1036.0        75.0   \n",
       "QEC18_F1-1_F2-1_20181227143118.mzML      2764.0      1058.0        73.0   \n",
       "QEC18_F1-1_F2-1_20181227084526.mzML      2816.0      1071.0        74.0   \n",
       "QEC18_F1-1_F2-1_NIST-2_To-1.mzML         2984.0      1096.0        72.0   \n",
       "...                                         ...         ...         ...   \n",
       "QEC18RT_F1.mzML                          2855.0      1101.0        72.0   \n",
       "QEC18RT_F1_20181229114729.mzML           2869.0      1088.0        72.0   \n",
       "QEC18RT_F2_20181229083715.mzML           2728.0      1039.0        73.0   \n",
       "QEC18RT_F2_20181228211241.mzML           2755.0      1042.0        73.0   \n",
       "QEC18RT_F1_20181228113615.mzML           2832.0      1085.0        75.0   \n",
       "\n",
       "                                     peak@86.10  ...  peak@604.26  \\\n",
       "filename                                         ...                \n",
       "QEC18_F1-1_F2-1.mzML                      561.0  ...          0.0   \n",
       "QEC18_F1-1_NIST-3.mzML                    552.0  ...          0.0   \n",
       "QEC18_F1-1_F2-1_20181227143118.mzML       605.0  ...          0.0   \n",
       "QEC18_F1-1_F2-1_20181227084526.mzML       582.0  ...          0.0   \n",
       "QEC18_F1-1_F2-1_NIST-2_To-1.mzML          651.0  ...          0.0   \n",
       "...                                         ...  ...          ...   \n",
       "QEC18RT_F1.mzML                           558.0  ...          0.0   \n",
       "QEC18RT_F1_20181229114729.mzML            594.0  ...          0.0   \n",
       "QEC18RT_F2_20181229083715.mzML            571.0  ...          0.0   \n",
       "QEC18RT_F2_20181228211241.mzML            583.0  ...          0.0   \n",
       "QEC18RT_F1_20181228113615.mzML            561.0  ...          0.0   \n",
       "\n",
       "                                     peak@620.26  peak@679.27  peak@131.23  \\\n",
       "filename                                                                     \n",
       "QEC18_F1-1_F2-1.mzML                         0.0          0.0          0.0   \n",
       "QEC18_F1-1_NIST-3.mzML                       0.0          0.0          0.0   \n",
       "QEC18_F1-1_F2-1_20181227143118.mzML          0.0          0.0          0.0   \n",
       "QEC18_F1-1_F2-1_20181227084526.mzML          0.0          0.0          0.0   \n",
       "QEC18_F1-1_F2-1_NIST-2_To-1.mzML             0.0          0.0          0.0   \n",
       "...                                          ...          ...          ...   \n",
       "QEC18RT_F1.mzML                              0.0          0.0          0.0   \n",
       "QEC18RT_F1_20181229114729.mzML               0.0          0.0          0.0   \n",
       "QEC18RT_F2_20181229083715.mzML               0.0          0.0          0.0   \n",
       "QEC18RT_F2_20181228211241.mzML               0.0          0.0          0.0   \n",
       "QEC18RT_F1_20181228113615.mzML               0.0          0.0          0.0   \n",
       "\n",
       "                                     peak@138.34  peak@177.88  peak@235.22  \\\n",
       "filename                                                                     \n",
       "QEC18_F1-1_F2-1.mzML                         0.0          0.0          0.0   \n",
       "QEC18_F1-1_NIST-3.mzML                       0.0          0.0          0.0   \n",
       "QEC18_F1-1_F2-1_20181227143118.mzML          0.0          0.0          0.0   \n",
       "QEC18_F1-1_F2-1_20181227084526.mzML          0.0          0.0          0.0   \n",
       "QEC18_F1-1_F2-1_NIST-2_To-1.mzML             0.0          0.0          0.0   \n",
       "...                                          ...          ...          ...   \n",
       "QEC18RT_F1.mzML                              0.0          0.0          0.0   \n",
       "QEC18RT_F1_20181229114729.mzML               0.0          0.0          0.0   \n",
       "QEC18RT_F2_20181229083715.mzML               0.0          0.0          0.0   \n",
       "QEC18RT_F2_20181228211241.mzML               0.0          0.0          0.0   \n",
       "QEC18RT_F1_20181228113615.mzML               0.0          0.0          0.0   \n",
       "\n",
       "                                     peak@262.41  peak@345.96  peak@444.82  \n",
       "filename                                                                    \n",
       "QEC18_F1-1_F2-1.mzML                         0.0          0.0          0.0  \n",
       "QEC18_F1-1_NIST-3.mzML                       0.0          0.0          0.0  \n",
       "QEC18_F1-1_F2-1_20181227143118.mzML          0.0          0.0          0.0  \n",
       "QEC18_F1-1_F2-1_20181227084526.mzML          0.0          0.0          0.0  \n",
       "QEC18_F1-1_F2-1_NIST-2_To-1.mzML             0.0          0.0          0.0  \n",
       "...                                          ...          ...          ...  \n",
       "QEC18RT_F1.mzML                              0.0          0.0          0.0  \n",
       "QEC18RT_F1_20181229114729.mzML               0.0          0.0          0.0  \n",
       "QEC18RT_F2_20181229083715.mzML               0.0          0.0          0.0  \n",
       "QEC18RT_F2_20181228211241.mzML               0.0          0.0          0.0  \n",
       "QEC18RT_F1_20181228113615.mzML               0.0          0.0          0.0  \n",
       "\n",
       "[171 rows x 22806 columns]"
      ]
     },
     "execution_count": 31,
     "metadata": {},
     "output_type": "execute_result"
    }
   ],
   "source": [
    "memo_qe.filter_matrix(matrix_to_use='memo_matrix', samples_pattern='blank', max_occurence=100)\n",
    "memo_qe.filter_matrix(matrix_to_use='feature_matrix', samples_pattern='blank', max_occurence=100)\n",
    "memo_qe.filtered_memo_matrix"
   ]
  },
  {
   "cell_type": "markdown",
   "metadata": {},
   "source": [
    "## Plotting\n",
    "\n",
    "We can now use the MEMO matrix to generate the PCoA of our samples"
   ]
  },
  {
   "cell_type": "code",
   "execution_count": 35,
   "metadata": {},
   "outputs": [
    {
     "name": "stderr",
     "output_type": "stream",
     "text": [
      "c:\\users\\gaudrya.farma\\anaconda3\\lib\\site-packages\\skbio\\stats\\ordination\\_principal_coordinate_analysis.py:143: RuntimeWarning:\n",
      "\n",
      "The result contains negative eigenvalues. Please compare their magnitude with the magnitude of some of the largest positive eigenvalues. If the negative ones are smaller, it's probably safe to ignore them, but if they are large in magnitude, the results won't be useful. See the Notes section for more details. The smallest eigenvalue is -0.01928569117614736 and the largest is 0.514687405068449.\n",
      "\n"
     ]
    },
    {
     "data": {
      "application/vnd.plotly.v1+json": {
       "config": {
        "plotlyServerURL": "https://plot.ly"
       },
       "data": [
        {
         "hovertemplate": "<b>%{hovertext}</b><br><br>contains=Plasma<br>PC1 (58.4 %)=%{x}<br>PC2 (15.8 %)=%{y}<extra></extra>",
         "hovertext": [
          "QEC18_NIST_20181227102029.mzML",
          "QEC18_NIST_20181227182328.mzML",
          "QEC18_NIST.mzML",
          "QEC18RT_NIST_20181228191835.mzML",
          "QEC18RT_NIST_20181229031403.mzML",
          "QEC18RT_NIST.mzML"
         ],
         "legendgroup": "Plasma",
         "marker": {
          "color": "#1F77B4",
          "symbol": "circle"
         },
         "mode": "markers",
         "name": "Plasma",
         "orientation": "v",
         "showlegend": true,
         "type": "scatter",
         "x": [
          -0.15464321557967278,
          -0.1588115464474326,
          -0.15111767196653586,
          -0.14552423073577533,
          -0.14382926062012702,
          -0.13934926995368419
         ],
         "xaxis": "x",
         "y": [
          -0.058180461652025,
          -0.05775219918817916,
          -0.06781286026717762,
          -0.04885446961794543,
          -0.04383668226416117,
          -0.05264114648164897
         ],
         "yaxis": "y"
        },
        {
         "hovertemplate": "<b>%{hovertext}</b><br><br>contains=Tomato<br>PC1 (58.4 %)=%{x}<br>PC2 (15.8 %)=%{y}<extra></extra>",
         "hovertext": [
          "QEC18_To_20181227204313.mzML",
          "QEC18_To_20181227231513.mzML",
          "QEC18_To.mzML",
          "QEC18RT_To_20181229050805.mzML",
          "QEC18RT_To_20181229074015.mzML",
          "QEC18RT_To.mzML"
         ],
         "legendgroup": "Tomato",
         "marker": {
          "color": "#FF7F0E",
          "symbol": "circle"
         },
         "mode": "markers",
         "name": "Tomato",
         "orientation": "v",
         "showlegend": true,
         "type": "scatter",
         "x": [
          -0.12152381368942712,
          -0.10132274670723951,
          -0.11242564086657615,
          -0.08833614761991924,
          -0.08757794590904434,
          -0.08348572326334808
         ],
         "xaxis": "x",
         "y": [
          0.04336845992797368,
          0.04056911359139993,
          0.04354288748158614,
          0.0393628166049435,
          0.03884673054355065,
          0.04059183059629471
         ],
         "yaxis": "y"
        },
        {
         "hovertemplate": "<b>%{hovertext}</b><br><br>contains=Tomato + Plasma<br>PC1 (58.4 %)=%{x}<br>PC2 (15.8 %)=%{y}<extra></extra>",
         "hovertext": [
          "QEC18_To-1_NIST-3_20181227172525.mzML",
          "QEC18_To-1_NIST-3_20181227214013.mzML",
          "QEC18_To-1_NIST-3.mzML",
          "QEC18_To-1_NIST-1_20181227111754.mzML",
          "QEC18_To-1_NIST-1_20181228010915.mzML",
          "QEC18_To-1_NIST-1.mzML",
          "QEC18_To-3_NIST-1_20181227074824.mzML",
          "QEC18_To-3_NIST-1_20181227160801.mzML",
          "QEC18_To-3_NIST-1.mzML",
          "QEC18RT_To-1_NIST-3_20181229021701.mzML",
          "QEC18RT_To-1_NIST-3_20181229060507.mzML",
          "QEC18RT_To-1_NIST-3.mzML",
          "QEC18RT_To-1_NIST-1_20181228201537.mzML",
          "QEC18RT_To-1_NIST-1_20181229093419.mzML",
          "QEC18RT_To-1_NIST-1.mzML",
          "QEC18RT_To-3_NIST-1_20181228162117.mzML",
          "QEC18RT_To-3_NIST-1_20181229010055.mzML",
          "QEC18RT_To-3_NIST-1.mzML"
         ],
         "legendgroup": "Tomato + Plasma",
         "marker": {
          "color": "#2CA02C",
          "symbol": "circle"
         },
         "mode": "markers",
         "name": "Tomato + Plasma",
         "orientation": "v",
         "showlegend": true,
         "type": "scatter",
         "x": [
          -0.08284791711874087,
          -0.10210722773194174,
          -0.08621631141129543,
          -0.104662742678115,
          -0.10637643827260854,
          -0.13284122434071866,
          -0.10373670530594911,
          -0.1228368633447553,
          -0.09094255530014622,
          -0.07163955128929077,
          -0.07433022031099393,
          -0.07616564852431384,
          -0.09798882196172544,
          -0.08458519597284359,
          -0.10165413163333685,
          -0.08624755910190739,
          -0.09783761226261004,
          -0.08634508271526711
         ],
         "xaxis": "x",
         "y": [
          0.03033320913239914,
          0.031056939875831295,
          0.03182973396743875,
          0.040333893906556506,
          0.035299784760214996,
          0.04216676522898719,
          0.03897072112864555,
          0.04234032096125274,
          0.03886675790967996,
          0.031094059119478563,
          0.03189085193456472,
          0.03236720666288779,
          0.03700355145646626,
          0.03445882403970301,
          0.037841200741062786,
          0.03998253426093177,
          0.04205411705457093,
          0.034513502871706375
         ],
         "yaxis": "y"
        },
        {
         "hovertemplate": "<b>%{hovertext}</b><br><br>contains=Fecal_2<br>PC1 (58.4 %)=%{x}<br>PC2 (15.8 %)=%{y}<extra></extra>",
         "hovertext": [
          "QEC18_F2_20181227121553.mzML",
          "QEC18_F2_20181228001213.mzML",
          "QEC18_F2.mzML",
          "QEC18RT_F2_20181228211241.mzML",
          "QEC18RT_F2_20181229083715.mzML",
          "QEC18RT_F2.mzML"
         ],
         "legendgroup": "Fecal_2",
         "marker": {
          "color": "#D62728",
          "symbol": "circle"
         },
         "mode": "markers",
         "name": "Fecal_2",
         "orientation": "v",
         "showlegend": true,
         "type": "scatter",
         "x": [
          -0.01536299761364028,
          -0.02542273741153344,
          -0.019327879461397482,
          -0.0036649329202547267,
          -0.009082549779382592,
          -0.012573695199788813
         ],
         "xaxis": "x",
         "y": [
          -0.029084376094014052,
          -0.02971966457357736,
          -0.026989478699475718,
          -0.022919876988043212,
          -0.024987535544428535,
          -0.025299737526679314
         ],
         "yaxis": "y"
        },
        {
         "hovertemplate": "<b>%{hovertext}</b><br><br>contains=Fecal_2 + Plasma<br>PC1 (58.4 %)=%{x}<br>PC2 (15.8 %)=%{y}<extra></extra>",
         "hovertext": [
          "QEC18_F2-1_NIST-3_20181227103932.mzML",
          "QEC18_F2-1_NIST-3_20181227145038.mzML",
          "QEC18_F2-1_NIST-3.mzML",
          "QEC18_F2-1_NIST-1_20181227212113.mzML",
          "QEC18_F2-1_NIST-1_20181227233413.mzML",
          "QEC18_F2-1_NIST-1.mzML",
          "QEC18_F2-3_NIST-1_20181227162723.mzML",
          "QEC18_F2-3_NIST-1_20181228005015.mzML",
          "QEC18_F2-3_NIST-1.mzML",
          "QEC18RT_F2-1_NIST-3_20181228193737.mzML",
          "QEC18RT_F2-1_NIST-3_20181228234449.mzML",
          "QEC18RT_F2-1_NIST-3.mzML",
          "QEC18RT_F2-1_NIST-1_20181229054607.mzML",
          "QEC18RT_F2-1_NIST-1_20181229075915.mzML",
          "QEC18RT_F2-1_NIST-1.mzML",
          "QEC18RT_F2-3_NIST-1_20181229011957.mzML",
          "QEC18RT_F2-3_NIST-1_20181229091519.mzML",
          "QEC18RT_F2-3_NIST-1.mzML"
         ],
         "legendgroup": "Fecal_2 + Plasma",
         "marker": {
          "color": "#9467BD",
          "symbol": "circle"
         },
         "mode": "markers",
         "name": "Fecal_2 + Plasma",
         "orientation": "v",
         "showlegend": true,
         "type": "scatter",
         "x": [
          -0.026604141549262997,
          -0.025346994460717406,
          -0.05912915419968511,
          -0.021576618396399887,
          -0.02285153623553696,
          -0.01322781652571942,
          -0.02463680487697261,
          -0.016321409185692075,
          -0.013295016090366657,
          -0.020489214106838356,
          -0.00838614253204836,
          -0.01496412558134663,
          -0.006505633962953309,
          -0.004011526377330067,
          0.00041150733020566113,
          -0.006378670813243161,
          0.0004960549484515566,
          -0.00900999476038523
         ],
         "xaxis": "x",
         "y": [
          -0.030899188847613876,
          -0.03354586878187578,
          -0.03018646116204416,
          -0.03043251045098735,
          -0.026064262835356265,
          -0.023971042955632044,
          -0.028635791772034038,
          -0.027965088824134256,
          -0.03115799091287269,
          -0.024429605598530017,
          -0.025817671239502855,
          -0.022434574167765856,
          -0.021387643067468515,
          -0.0180219994197639,
          -0.017844443041553866,
          -0.01995625226630501,
          -0.020858138758328,
          -0.024934721828770275
         ],
         "yaxis": "y"
        },
        {
         "hovertemplate": "<b>%{hovertext}</b><br><br>contains=Fecal_2 + Tomato<br>PC1 (58.4 %)=%{x}<br>PC2 (15.8 %)=%{y}<extra></extra>",
         "hovertext": [
          "QEC18_F2-1_To-3_20181226223728.mzML",
          "QEC18_F2-1_To-3_20181227041925.mzML",
          "QEC18_F2-1_To-3.mzML",
          "QEC18_F2-1_To-1_20181227150959.mzML",
          "QEC18_F2-1_To-1_20181228014719.mzML",
          "QEC18_F2-1_To-1.mzML",
          "QEC18_F2-3_To-1_20181227082626.mzML",
          "QEC18_F2-3_To-1_20181227164643.mzML",
          "QEC18_F2-3_To-1.mzML",
          "QEC18RT_F2-1_To-3_20181228071021.mzML",
          "QEC18RT_F2-1_To-3_20181228125213.mzML",
          "QEC18RT_F2-1_To-3.mzML",
          "QEC18RT_F2-1_To-1_20181229000349.mzML",
          "QEC18RT_F2-1_To-1_20181229101223.mzML",
          "QEC18RT_F2-1_To-1.mzML",
          "QEC18RT_F2-3_To-1_20181228165919.mzML",
          "QEC18RT_F2-3_To-1_20181229013857.mzML",
          "QEC18RT_F2-3_To-1.mzML"
         ],
         "legendgroup": "Fecal_2 + Tomato",
         "marker": {
          "color": "#8C564B",
          "symbol": "circle"
         },
         "mode": "markers",
         "name": "Fecal_2 + Tomato",
         "orientation": "v",
         "showlegend": true,
         "type": "scatter",
         "x": [
          -0.003908015053234333,
          0.011863031357821605,
          -0.004195620742542816,
          0.005872706994236502,
          0.00927670654742049,
          0.008145770825422885,
          0.014995287774845777,
          0.006835536798181381,
          0.004217284491053591,
          0.012173526404142432,
          0.012137594909153617,
          0.010203992662532914,
          0.019152261696521424,
          0.021072069769721754,
          0.01777587952002836,
          0.021682751261149026,
          0.018893398539483502,
          0.01647953020188202
         ],
         "xaxis": "x",
         "y": [
          0.022006016283350943,
          0.025602428305153028,
          0.021950916516764892,
          0.01841525003717685,
          0.02156364253664935,
          0.02032728890346792,
          0.016663119148840784,
          0.015241173777677215,
          0.01169448793668618,
          0.025718584521236886,
          0.027997304233850655,
          0.025085393309212296,
          0.023786756697741517,
          0.025078442071608566,
          0.027341445755456505,
          0.024498819475140755,
          0.022735533511236628,
          0.019489053264015968
         ],
         "yaxis": "y"
        },
        {
         "hovertemplate": "<b>%{hovertext}</b><br><br>contains=Fecal_1<br>PC1 (58.4 %)=%{x}<br>PC2 (15.8 %)=%{y}<extra></extra>",
         "hovertext": [
          "QEC18_F1_20181227030329.mzML",
          "QEC18_F1_20181228032223.mzML",
          "QEC18_F1.mzML",
          "QEC18RT_F1_20181228113615.mzML",
          "QEC18RT_F1_20181229114729.mzML",
          "QEC18RT_F1.mzML"
         ],
         "legendgroup": "Fecal_1",
         "marker": {
          "color": "#E377C2",
          "symbol": "circle"
         },
         "mode": "markers",
         "name": "Fecal_1",
         "orientation": "v",
         "showlegend": true,
         "type": "scatter",
         "x": [
          0.0134366407183216,
          0.01202708945561879,
          0.01154315802485146,
          0.02410970956218038,
          0.02985389173989637,
          0.02818996958327563
         ],
         "xaxis": "x",
         "y": [
          -0.0361900516613759,
          -0.03851125939582746,
          -0.036385900236143034,
          -0.03002278441910591,
          -0.029454287349532825,
          -0.028203095164764616
         ],
         "yaxis": "y"
        },
        {
         "hovertemplate": "<b>%{hovertext}</b><br><br>contains=Fecal_1 + Fecal_2 + Tomato + Plasma<br>PC1 (58.4 %)=%{x}<br>PC2 (15.8 %)=%{y}<extra></extra>",
         "hovertext": [
          "QEC18_F1-1_F2-1_NIST-2_To-1_20181227152919.mzML",
          "QEC18_F1-1_F2-1_NIST-2_To-1_20181227225613.mzML",
          "QEC18_F1-1_F2-1_NIST-2_To-1.mzML",
          "QEC18_F1-1_F2-1_NIST-1_To-2_20181227113714.mzML",
          "QEC18_F1-1_F2-1_NIST-1_To-2_20181227184249.mzML",
          "QEC18_F1-1_F2-1_NIST-1_To-2.mzML",
          "QEC18_F1-1_F2-2_NIST-1_To-1_20181227065123.mzML",
          "QEC18_F1-1_F2-2_NIST-1_To-1_20181228034123.mzML",
          "QEC18_F1-1_F2-2_NIST-1_To-1.mzML",
          "QEC18_Qcmix_begin.mzML",
          "QEC18_Qcmix_middle.mzML",
          "QEC18_Qcmix_end.mzML",
          "QEC18_Qcmix_end_20181228041923.mzML",
          "QEC18RT_Qcmix_begin.mzML",
          "QEC18RT_Qcmix_middle.mzML",
          "QEC18RT_Qcmix_end.mzML",
          "QEC18_F1-1_F2-1_NIST-1_To-1_20181227125436.mzML",
          "QEC18_F1-1_F2-1_NIST-1_To-1_20181227135238.mzML",
          "QEC18_F1-1_F2-1_NIST-1_To-1.mzML",
          "QEC18_F1-2_F2-1_NIST-1_To-1_20181228020619.mzML",
          "QEC18_F1-2_F2-1_NIST-1_To-1_20181228022521.mzML",
          "QEC18_F1-2_F2-1_NIST-1_To-1.mzML",
          "QEC18RT_F1-1_F2-1_NIST-2_To-1_20181229002251.mzML",
          "QEC18RT_F1-1_F2-1_NIST-2_To-1_20181229072113.mzML",
          "QEC18RT_F1-1_F2-1_NIST-2_To-1.mzML",
          "QEC18RT_F1-1_F2-1_NIST-1_To-2_20181228203439.mzML",
          "QEC18RT_F1-1_F2-1_NIST-1_To-2_20181229033303.mzML",
          "QEC18RT_F1-1_F2-1_NIST-1_To-2.mzML",
          "QEC18RT_F1-1_F2-2_NIST-1_To-1_20181228152413.mzML",
          "QEC18RT_F1-1_F2-2_NIST-1_To-1_20181229120629.mzML",
          "QEC18RT_F1-1_F2-2_NIST-1_To-1.mzML",
          "QEC18RT_F1-1_F2-1_NIST-1_To-1_20181228215043.mzML",
          "QEC18RT_F1-1_F2-1_NIST-1_To-1_20181228224749.mzML",
          "QEC18RT_F1-1_F2-1_NIST-1_To-1.mzML",
          "QEC18RT_F1-2_F2-1_NIST-1_To-1_20181229103125.mzML",
          "QEC18RT_F1-2_F2-1_NIST-1_To-1_20181229105027.mzML",
          "QEC18RT_F1-2_F2-1_NIST-1_To-1.mzML"
         ],
         "legendgroup": "Fecal_1 + Fecal_2 + Tomato + Plasma",
         "marker": {
          "color": "#7F7F7F",
          "symbol": "circle"
         },
         "mode": "markers",
         "name": "Fecal_1 + Fecal_2 + Tomato + Plasma",
         "orientation": "v",
         "showlegend": true,
         "type": "scatter",
         "x": [
          0.04135586125100193,
          0.04354331428109479,
          0.048746690382717325,
          0.04399254993551052,
          0.04342494273197571,
          0.04388677982165679,
          0.04667255300178829,
          0.04401296065767288,
          0.044876658040849365,
          0.0353359065681276,
          0.04965877778078145,
          0.04728065488098367,
          0.04733759314324805,
          0.032940480302392605,
          0.05406067890115849,
          0.05152831859056876,
          0.046718582861570206,
          0.049551646167622136,
          0.04697260256089204,
          0.040622382037335106,
          0.04728931258483198,
          0.04096507612550341,
          0.05159076809378025,
          0.04859967538980324,
          0.054223110131932796,
          0.05684211250889144,
          0.050059776445284025,
          0.05472723371718479,
          0.05730534238872595,
          0.05143578194124483,
          0.050261309002820304,
          0.05533979995321283,
          0.05256525421497892,
          0.04985799909540833,
          0.053632035999240955,
          0.05515972850878925,
          0.05582411988560703
         ],
         "xaxis": "x",
         "y": [
          0.013924481292531534,
          0.014807413937586368,
          0.018354681724095708,
          0.020056353726699255,
          0.018741414495599313,
          0.020256281709895727,
          0.015301470761836423,
          0.014564200853784275,
          0.014942846346751635,
          0.01138573081380476,
          0.019344739868131778,
          0.017064069984864226,
          0.018858136525887966,
          0.011958465536280424,
          0.02014468818983963,
          0.01921896345267392,
          0.015606045075422433,
          0.01823084718647288,
          0.017840257157807314,
          0.012743945775838829,
          0.015673296764285593,
          0.013370523386147137,
          0.019406749159214018,
          0.018302947188807303,
          0.020554531746309883,
          0.02120299695745768,
          0.019012741589407748,
          0.02223359453282463,
          0.020168075744249864,
          0.01702280498844336,
          0.01713732983219909,
          0.01984223608806819,
          0.019331569397212436,
          0.01724233378813677,
          0.018290026628921995,
          0.01861718773947724,
          0.019407431046634848
         ],
         "yaxis": "y"
        },
        {
         "hovertemplate": "<b>%{hovertext}</b><br><br>contains=Fecal_1 + Plasma<br>PC1 (58.4 %)=%{x}<br>PC2 (15.8 %)=%{y}<extra></extra>",
         "hovertext": [
          "QEC18_F1-1_NIST-3_20181227133316.mzML",
          "QEC18_F1-1_NIST-3_20181228012817.mzML",
          "QEC18_F1-1_NIST-3.mzML",
          "QEC18_F1-1_NIST-1_20181227210213.mzML",
          "QEC18_F1-1_NIST-1_20181227215913.mzML",
          "QEC18_F1-1_NIST-1.mzML",
          "QEC18_F1-3_NIST-1_20181227045725.mzML",
          "QEC18_F1-3_NIST-1_20181227170603.mzML",
          "QEC18_F1-3_NIST-1.mzML",
          "QEC18RT_F1-1_NIST-3_20181228222847.mzML",
          "QEC18RT_F1-1_NIST-3_20181229095321.mzML",
          "QEC18RT_F1-1_NIST-3.mzML",
          "QEC18RT_F1-1_NIST-1_20181229052705.mzML",
          "QEC18RT_F1-1_NIST-1_20181229062407.mzML",
          "QEC18RT_F1-1_NIST-1.mzML",
          "QEC18RT_F1-3_NIST-1_20181228133015.mzML",
          "QEC18RT_F1-3_NIST-1_20181229015759.mzML",
          "QEC18RT_F1-3_NIST-1.mzML"
         ],
         "legendgroup": "Fecal_1 + Plasma",
         "marker": {
          "color": "#BCBD22",
          "symbol": "circle"
         },
         "mode": "markers",
         "name": "Fecal_1 + Plasma",
         "orientation": "v",
         "showlegend": true,
         "type": "scatter",
         "x": [
          -0.0034851857426356036,
          0.0029335676274008815,
          -0.009976027163953504,
          0.00818413680664144,
          0.00547159467156938,
          0.003915893006825687,
          0.021204436948490904,
          0.013728479188440295,
          0.013430563312120124,
          0.019230872181125926,
          0.02429583777537161,
          0.01632585992332819,
          0.023785348380703168,
          0.022627314474061393,
          0.01962654313808101,
          0.028619755403674514,
          0.02460289122576488,
          0.025776491710257296
         ],
         "xaxis": "x",
         "y": [
          -0.03957193434290159,
          -0.03503172513606473,
          -0.043875293667705526,
          -0.03419018736524684,
          -0.037694026039994624,
          -0.03896818996796981,
          -0.03399595769416849,
          -0.03589580164789699,
          -0.037573463457904965,
          -0.03145001967014749,
          -0.027764846464705104,
          -0.03146875400317475,
          -0.028548215976656376,
          -0.02851921865883702,
          -0.0314682702339309,
          -0.026701452914585908,
          -0.030702099412364247,
          -0.029748410259642026
         ],
         "yaxis": "y"
        },
        {
         "hovertemplate": "<b>%{hovertext}</b><br><br>contains=Fecal_1 + Tomato<br>PC1 (58.4 %)=%{x}<br>PC2 (15.8 %)=%{y}<extra></extra>",
         "hovertext": [
          "QEC18_F1-1_To-3_20181227174446.mzML",
          "QEC18_F1-1_To-3_20181227223713.mzML",
          "QEC18_F1-1_To-3.mzML",
          "QEC18_F1-1_To-1_20181227043825.mzML",
          "QEC18_F1-1_To-1_20181227123513.mzML",
          "QEC18_F1-1_To-1.mzML",
          "QEC18_F1-3_To-1_20181228003115.mzML",
          "QEC18_F1-3_To-1_20181228024423.mzML",
          "QEC18_F1-3_To-1.mzML",
          "QEC18RT_F1-1_To-3_20181229023601.mzML",
          "QEC18RT_F1-1_To-3_20181229070211.mzML",
          "QEC18RT_F1-1_To-3.mzML",
          "QEC18RT_F1-1_To-1_20181228131115.mzML",
          "QEC18RT_F1-1_To-1_20181228213143.mzML",
          "QEC18RT_F1-1_To-1.mzML",
          "QEC18RT_F1-3_To-1_20181229085617.mzML",
          "QEC18RT_F1-3_To-1_20181229110929.mzML",
          "QEC18RT_F1-3_To-1.mzML"
         ],
         "legendgroup": "Fecal_1 + Tomato",
         "marker": {
          "color": "#17BECF",
          "symbol": "circle"
         },
         "mode": "markers",
         "name": "Fecal_1 + Tomato",
         "orientation": "v",
         "showlegend": true,
         "type": "scatter",
         "x": [
          0.03588352537417029,
          0.038960626516643074,
          0.02299974624910454,
          0.04295219798764402,
          0.03878185158454152,
          0.04487003108326705,
          0.043189410210727586,
          0.04245993564653895,
          0.046345880115797794,
          0.043939352249207406,
          0.04332360686961341,
          0.047647447221391366,
          0.04729843941561046,
          0.05103989429448983,
          0.04264089966597884,
          0.0513443861083751,
          0.04840825387254178,
          0.04889434412870786
         ],
         "xaxis": "x",
         "y": [
          0.021341848113452952,
          0.02103185877559926,
          0.007806882222078564,
          0.019783952475707467,
          0.017888098778673114,
          0.020790369285760734,
          0.013637275180269599,
          0.016077942930233975,
          0.01654423939213622,
          0.021497014558650964,
          0.021878138020889743,
          0.02210112560390009,
          0.02086341263605718,
          0.01999345168024619,
          0.01926645244783943,
          0.017141424847338205,
          0.014964472352813259,
          0.018426986296464398
         ],
         "yaxis": "y"
        },
        {
         "hovertemplate": "<b>%{hovertext}</b><br><br>contains=Fecal_1 + Fecal_2<br>PC1 (58.4 %)=%{x}<br>PC2 (15.8 %)=%{y}<extra></extra>",
         "hovertext": [
          "QEC18_F1-1_F2-3_20181227012831.mzML",
          "QEC18_F1-1_F2-3_20181227071023.mzML",
          "QEC18_F1-1_F2-3.mzML",
          "QEC18_F1-1_F2-1_20181227084526.mzML",
          "QEC18_F1-1_F2-1_20181227143118.mzML",
          "QEC18_F1-1_F2-1.mzML",
          "QEC18_F1-3_F2-1_20181227131356.mzML",
          "QEC18_F1-3_F2-1_20181227190209.mzML",
          "QEC18_F1-3_F2-1.mzML",
          "QEC18RT_F1-1_F2-3_20181228100117.mzML",
          "QEC18RT_F1-1_F2-3_20181228154315.mzML",
          "QEC18RT_F1-1_F2-3.mzML",
          "QEC18RT_F1-1_F2-1_20181228171821.mzML",
          "QEC18RT_F1-1_F2-1_20181228232549.mzML",
          "QEC18RT_F1-1_F2-1.mzML",
          "QEC18RT_F1-3_F2-1_20181228220945.mzML",
          "QEC18RT_F1-3_F2-1_20181229035205.mzML",
          "QEC18RT_F1-3_F2-1.mzML"
         ],
         "legendgroup": "Fecal_1 + Fecal_2",
         "marker": {
          "color": "#1F77B4",
          "symbol": "circle"
         },
         "mode": "markers",
         "name": "Fecal_1 + Fecal_2",
         "orientation": "v",
         "showlegend": true,
         "type": "scatter",
         "x": [
          0.02151340554695175,
          0.02360684287056478,
          0.017071157999580703,
          0.01972935283792635,
          0.01107572969691772,
          0.0035602375950777995,
          0.02099162725454814,
          0.016924676291328915,
          0.02212144830072049,
          0.03192325217369286,
          0.032365066813964026,
          0.027886665688258903,
          0.029321985536143007,
          0.02816444396943351,
          0.028205102411498546,
          0.03360512634327238,
          0.029462963422561623,
          0.02573124325496867
         ],
         "xaxis": "x",
         "y": [
          -0.02623437749552026,
          -0.02856161123526378,
          -0.03275602354882368,
          -0.03270633846235238,
          -0.03388519915461516,
          -0.0403561315212037,
          -0.03196700646305758,
          -0.03402742989455673,
          -0.03209242695054072,
          -0.021604698356025322,
          -0.02364701780173572,
          -0.02548352927338546,
          -0.025772073844620044,
          -0.027427159521208635,
          -0.027787357497063302,
          -0.02656366235845725,
          -0.027556122230244597,
          -0.02809267105789023
         ],
         "yaxis": "y"
        }
       ],
       "layout": {
        "height": 650,
        "legend": {
         "title": {
          "text": "contains"
         },
         "tracegroupgap": 0
        },
        "template": {
         "data": {
          "bar": [
           {
            "error_x": {
             "color": "rgb(36,36,36)"
            },
            "error_y": {
             "color": "rgb(36,36,36)"
            },
            "marker": {
             "line": {
              "color": "white",
              "width": 0.5
             },
             "pattern": {
              "fillmode": "overlay",
              "size": 10,
              "solidity": 0.2
             }
            },
            "type": "bar"
           }
          ],
          "barpolar": [
           {
            "marker": {
             "line": {
              "color": "white",
              "width": 0.5
             },
             "pattern": {
              "fillmode": "overlay",
              "size": 10,
              "solidity": 0.2
             }
            },
            "type": "barpolar"
           }
          ],
          "carpet": [
           {
            "aaxis": {
             "endlinecolor": "rgb(36,36,36)",
             "gridcolor": "white",
             "linecolor": "white",
             "minorgridcolor": "white",
             "startlinecolor": "rgb(36,36,36)"
            },
            "baxis": {
             "endlinecolor": "rgb(36,36,36)",
             "gridcolor": "white",
             "linecolor": "white",
             "minorgridcolor": "white",
             "startlinecolor": "rgb(36,36,36)"
            },
            "type": "carpet"
           }
          ],
          "choropleth": [
           {
            "colorbar": {
             "outlinewidth": 1,
             "tickcolor": "rgb(36,36,36)",
             "ticks": "outside"
            },
            "type": "choropleth"
           }
          ],
          "contour": [
           {
            "colorbar": {
             "outlinewidth": 1,
             "tickcolor": "rgb(36,36,36)",
             "ticks": "outside"
            },
            "colorscale": [
             [
              0,
              "#440154"
             ],
             [
              0.1111111111111111,
              "#482878"
             ],
             [
              0.2222222222222222,
              "#3e4989"
             ],
             [
              0.3333333333333333,
              "#31688e"
             ],
             [
              0.4444444444444444,
              "#26828e"
             ],
             [
              0.5555555555555556,
              "#1f9e89"
             ],
             [
              0.6666666666666666,
              "#35b779"
             ],
             [
              0.7777777777777778,
              "#6ece58"
             ],
             [
              0.8888888888888888,
              "#b5de2b"
             ],
             [
              1,
              "#fde725"
             ]
            ],
            "type": "contour"
           }
          ],
          "contourcarpet": [
           {
            "colorbar": {
             "outlinewidth": 1,
             "tickcolor": "rgb(36,36,36)",
             "ticks": "outside"
            },
            "type": "contourcarpet"
           }
          ],
          "heatmap": [
           {
            "colorbar": {
             "outlinewidth": 1,
             "tickcolor": "rgb(36,36,36)",
             "ticks": "outside"
            },
            "colorscale": [
             [
              0,
              "#440154"
             ],
             [
              0.1111111111111111,
              "#482878"
             ],
             [
              0.2222222222222222,
              "#3e4989"
             ],
             [
              0.3333333333333333,
              "#31688e"
             ],
             [
              0.4444444444444444,
              "#26828e"
             ],
             [
              0.5555555555555556,
              "#1f9e89"
             ],
             [
              0.6666666666666666,
              "#35b779"
             ],
             [
              0.7777777777777778,
              "#6ece58"
             ],
             [
              0.8888888888888888,
              "#b5de2b"
             ],
             [
              1,
              "#fde725"
             ]
            ],
            "type": "heatmap"
           }
          ],
          "heatmapgl": [
           {
            "colorbar": {
             "outlinewidth": 1,
             "tickcolor": "rgb(36,36,36)",
             "ticks": "outside"
            },
            "colorscale": [
             [
              0,
              "#440154"
             ],
             [
              0.1111111111111111,
              "#482878"
             ],
             [
              0.2222222222222222,
              "#3e4989"
             ],
             [
              0.3333333333333333,
              "#31688e"
             ],
             [
              0.4444444444444444,
              "#26828e"
             ],
             [
              0.5555555555555556,
              "#1f9e89"
             ],
             [
              0.6666666666666666,
              "#35b779"
             ],
             [
              0.7777777777777778,
              "#6ece58"
             ],
             [
              0.8888888888888888,
              "#b5de2b"
             ],
             [
              1,
              "#fde725"
             ]
            ],
            "type": "heatmapgl"
           }
          ],
          "histogram": [
           {
            "marker": {
             "line": {
              "color": "white",
              "width": 0.6
             }
            },
            "type": "histogram"
           }
          ],
          "histogram2d": [
           {
            "colorbar": {
             "outlinewidth": 1,
             "tickcolor": "rgb(36,36,36)",
             "ticks": "outside"
            },
            "colorscale": [
             [
              0,
              "#440154"
             ],
             [
              0.1111111111111111,
              "#482878"
             ],
             [
              0.2222222222222222,
              "#3e4989"
             ],
             [
              0.3333333333333333,
              "#31688e"
             ],
             [
              0.4444444444444444,
              "#26828e"
             ],
             [
              0.5555555555555556,
              "#1f9e89"
             ],
             [
              0.6666666666666666,
              "#35b779"
             ],
             [
              0.7777777777777778,
              "#6ece58"
             ],
             [
              0.8888888888888888,
              "#b5de2b"
             ],
             [
              1,
              "#fde725"
             ]
            ],
            "type": "histogram2d"
           }
          ],
          "histogram2dcontour": [
           {
            "colorbar": {
             "outlinewidth": 1,
             "tickcolor": "rgb(36,36,36)",
             "ticks": "outside"
            },
            "colorscale": [
             [
              0,
              "#440154"
             ],
             [
              0.1111111111111111,
              "#482878"
             ],
             [
              0.2222222222222222,
              "#3e4989"
             ],
             [
              0.3333333333333333,
              "#31688e"
             ],
             [
              0.4444444444444444,
              "#26828e"
             ],
             [
              0.5555555555555556,
              "#1f9e89"
             ],
             [
              0.6666666666666666,
              "#35b779"
             ],
             [
              0.7777777777777778,
              "#6ece58"
             ],
             [
              0.8888888888888888,
              "#b5de2b"
             ],
             [
              1,
              "#fde725"
             ]
            ],
            "type": "histogram2dcontour"
           }
          ],
          "mesh3d": [
           {
            "colorbar": {
             "outlinewidth": 1,
             "tickcolor": "rgb(36,36,36)",
             "ticks": "outside"
            },
            "type": "mesh3d"
           }
          ],
          "parcoords": [
           {
            "line": {
             "colorbar": {
              "outlinewidth": 1,
              "tickcolor": "rgb(36,36,36)",
              "ticks": "outside"
             }
            },
            "type": "parcoords"
           }
          ],
          "pie": [
           {
            "automargin": true,
            "type": "pie"
           }
          ],
          "scatter": [
           {
            "marker": {
             "colorbar": {
              "outlinewidth": 1,
              "tickcolor": "rgb(36,36,36)",
              "ticks": "outside"
             }
            },
            "type": "scatter"
           }
          ],
          "scatter3d": [
           {
            "line": {
             "colorbar": {
              "outlinewidth": 1,
              "tickcolor": "rgb(36,36,36)",
              "ticks": "outside"
             }
            },
            "marker": {
             "colorbar": {
              "outlinewidth": 1,
              "tickcolor": "rgb(36,36,36)",
              "ticks": "outside"
             }
            },
            "type": "scatter3d"
           }
          ],
          "scattercarpet": [
           {
            "marker": {
             "colorbar": {
              "outlinewidth": 1,
              "tickcolor": "rgb(36,36,36)",
              "ticks": "outside"
             }
            },
            "type": "scattercarpet"
           }
          ],
          "scattergeo": [
           {
            "marker": {
             "colorbar": {
              "outlinewidth": 1,
              "tickcolor": "rgb(36,36,36)",
              "ticks": "outside"
             }
            },
            "type": "scattergeo"
           }
          ],
          "scattergl": [
           {
            "marker": {
             "colorbar": {
              "outlinewidth": 1,
              "tickcolor": "rgb(36,36,36)",
              "ticks": "outside"
             }
            },
            "type": "scattergl"
           }
          ],
          "scattermapbox": [
           {
            "marker": {
             "colorbar": {
              "outlinewidth": 1,
              "tickcolor": "rgb(36,36,36)",
              "ticks": "outside"
             }
            },
            "type": "scattermapbox"
           }
          ],
          "scatterpolar": [
           {
            "marker": {
             "colorbar": {
              "outlinewidth": 1,
              "tickcolor": "rgb(36,36,36)",
              "ticks": "outside"
             }
            },
            "type": "scatterpolar"
           }
          ],
          "scatterpolargl": [
           {
            "marker": {
             "colorbar": {
              "outlinewidth": 1,
              "tickcolor": "rgb(36,36,36)",
              "ticks": "outside"
             }
            },
            "type": "scatterpolargl"
           }
          ],
          "scatterternary": [
           {
            "marker": {
             "colorbar": {
              "outlinewidth": 1,
              "tickcolor": "rgb(36,36,36)",
              "ticks": "outside"
             }
            },
            "type": "scatterternary"
           }
          ],
          "surface": [
           {
            "colorbar": {
             "outlinewidth": 1,
             "tickcolor": "rgb(36,36,36)",
             "ticks": "outside"
            },
            "colorscale": [
             [
              0,
              "#440154"
             ],
             [
              0.1111111111111111,
              "#482878"
             ],
             [
              0.2222222222222222,
              "#3e4989"
             ],
             [
              0.3333333333333333,
              "#31688e"
             ],
             [
              0.4444444444444444,
              "#26828e"
             ],
             [
              0.5555555555555556,
              "#1f9e89"
             ],
             [
              0.6666666666666666,
              "#35b779"
             ],
             [
              0.7777777777777778,
              "#6ece58"
             ],
             [
              0.8888888888888888,
              "#b5de2b"
             ],
             [
              1,
              "#fde725"
             ]
            ],
            "type": "surface"
           }
          ],
          "table": [
           {
            "cells": {
             "fill": {
              "color": "rgb(237,237,237)"
             },
             "line": {
              "color": "white"
             }
            },
            "header": {
             "fill": {
              "color": "rgb(217,217,217)"
             },
             "line": {
              "color": "white"
             }
            },
            "type": "table"
           }
          ]
         },
         "layout": {
          "annotationdefaults": {
           "arrowhead": 0,
           "arrowwidth": 1
          },
          "autotypenumbers": "strict",
          "coloraxis": {
           "colorbar": {
            "outlinewidth": 1,
            "tickcolor": "rgb(36,36,36)",
            "ticks": "outside"
           }
          },
          "colorscale": {
           "diverging": [
            [
             0,
             "rgb(103,0,31)"
            ],
            [
             0.1,
             "rgb(178,24,43)"
            ],
            [
             0.2,
             "rgb(214,96,77)"
            ],
            [
             0.3,
             "rgb(244,165,130)"
            ],
            [
             0.4,
             "rgb(253,219,199)"
            ],
            [
             0.5,
             "rgb(247,247,247)"
            ],
            [
             0.6,
             "rgb(209,229,240)"
            ],
            [
             0.7,
             "rgb(146,197,222)"
            ],
            [
             0.8,
             "rgb(67,147,195)"
            ],
            [
             0.9,
             "rgb(33,102,172)"
            ],
            [
             1,
             "rgb(5,48,97)"
            ]
           ],
           "sequential": [
            [
             0,
             "#440154"
            ],
            [
             0.1111111111111111,
             "#482878"
            ],
            [
             0.2222222222222222,
             "#3e4989"
            ],
            [
             0.3333333333333333,
             "#31688e"
            ],
            [
             0.4444444444444444,
             "#26828e"
            ],
            [
             0.5555555555555556,
             "#1f9e89"
            ],
            [
             0.6666666666666666,
             "#35b779"
            ],
            [
             0.7777777777777778,
             "#6ece58"
            ],
            [
             0.8888888888888888,
             "#b5de2b"
            ],
            [
             1,
             "#fde725"
            ]
           ],
           "sequentialminus": [
            [
             0,
             "#440154"
            ],
            [
             0.1111111111111111,
             "#482878"
            ],
            [
             0.2222222222222222,
             "#3e4989"
            ],
            [
             0.3333333333333333,
             "#31688e"
            ],
            [
             0.4444444444444444,
             "#26828e"
            ],
            [
             0.5555555555555556,
             "#1f9e89"
            ],
            [
             0.6666666666666666,
             "#35b779"
            ],
            [
             0.7777777777777778,
             "#6ece58"
            ],
            [
             0.8888888888888888,
             "#b5de2b"
            ],
            [
             1,
             "#fde725"
            ]
           ]
          },
          "colorway": [
           "#1F77B4",
           "#FF7F0E",
           "#2CA02C",
           "#D62728",
           "#9467BD",
           "#8C564B",
           "#E377C2",
           "#7F7F7F",
           "#BCBD22",
           "#17BECF"
          ],
          "font": {
           "color": "rgb(36,36,36)"
          },
          "geo": {
           "bgcolor": "white",
           "lakecolor": "white",
           "landcolor": "white",
           "showlakes": true,
           "showland": true,
           "subunitcolor": "white"
          },
          "hoverlabel": {
           "align": "left"
          },
          "hovermode": "closest",
          "mapbox": {
           "style": "light"
          },
          "paper_bgcolor": "white",
          "plot_bgcolor": "white",
          "polar": {
           "angularaxis": {
            "gridcolor": "rgb(232,232,232)",
            "linecolor": "rgb(36,36,36)",
            "showgrid": false,
            "showline": true,
            "ticks": "outside"
           },
           "bgcolor": "white",
           "radialaxis": {
            "gridcolor": "rgb(232,232,232)",
            "linecolor": "rgb(36,36,36)",
            "showgrid": false,
            "showline": true,
            "ticks": "outside"
           }
          },
          "scene": {
           "xaxis": {
            "backgroundcolor": "white",
            "gridcolor": "rgb(232,232,232)",
            "gridwidth": 2,
            "linecolor": "rgb(36,36,36)",
            "showbackground": true,
            "showgrid": false,
            "showline": true,
            "ticks": "outside",
            "zeroline": false,
            "zerolinecolor": "rgb(36,36,36)"
           },
           "yaxis": {
            "backgroundcolor": "white",
            "gridcolor": "rgb(232,232,232)",
            "gridwidth": 2,
            "linecolor": "rgb(36,36,36)",
            "showbackground": true,
            "showgrid": false,
            "showline": true,
            "ticks": "outside",
            "zeroline": false,
            "zerolinecolor": "rgb(36,36,36)"
           },
           "zaxis": {
            "backgroundcolor": "white",
            "gridcolor": "rgb(232,232,232)",
            "gridwidth": 2,
            "linecolor": "rgb(36,36,36)",
            "showbackground": true,
            "showgrid": false,
            "showline": true,
            "ticks": "outside",
            "zeroline": false,
            "zerolinecolor": "rgb(36,36,36)"
           }
          },
          "shapedefaults": {
           "fillcolor": "black",
           "line": {
            "width": 0
           },
           "opacity": 0.3
          },
          "ternary": {
           "aaxis": {
            "gridcolor": "rgb(232,232,232)",
            "linecolor": "rgb(36,36,36)",
            "showgrid": false,
            "showline": true,
            "ticks": "outside"
           },
           "baxis": {
            "gridcolor": "rgb(232,232,232)",
            "linecolor": "rgb(36,36,36)",
            "showgrid": false,
            "showline": true,
            "ticks": "outside"
           },
           "bgcolor": "white",
           "caxis": {
            "gridcolor": "rgb(232,232,232)",
            "linecolor": "rgb(36,36,36)",
            "showgrid": false,
            "showline": true,
            "ticks": "outside"
           }
          },
          "title": {
           "x": 0.05
          },
          "xaxis": {
           "automargin": true,
           "gridcolor": "rgb(232,232,232)",
           "linecolor": "rgb(36,36,36)",
           "showgrid": false,
           "showline": true,
           "ticks": "outside",
           "title": {
            "standoff": 15
           },
           "zeroline": false,
           "zerolinecolor": "rgb(36,36,36)"
          },
          "yaxis": {
           "automargin": true,
           "gridcolor": "rgb(232,232,232)",
           "linecolor": "rgb(36,36,36)",
           "showgrid": false,
           "showline": true,
           "ticks": "outside",
           "title": {
            "standoff": 15
           },
           "zeroline": false,
           "zerolinecolor": "rgb(36,36,36)"
          }
         }
        },
        "title": {
         "text": "2D PCoA"
        },
        "width": 1000,
        "xaxis": {
         "anchor": "y",
         "domain": [
          0,
          1
         ],
         "title": {
          "text": "PC1 (58.4 %)"
         }
        },
        "yaxis": {
         "anchor": "x",
         "domain": [
          0,
          1
         ],
         "title": {
          "text": "PC2 (15.8 %)"
         }
        }
       }
      }
     },
     "metadata": {},
     "output_type": "display_data"
    }
   ],
   "source": [
    "\n",
    "memo.plot_pcoa_2d(\n",
    "    matrix= memo_qe.filtered_memo_matrix,\n",
    "    df_metadata=df_meta,\n",
    "    metric= 'braycurtis',\n",
    "    filename_col = 'Filename',\n",
    "    group_col='contains',\n",
    "    norm = False,\n",
    "    scaling= False,\n",
    "    pc_to_plot = [1,2]\n",
    ")"
   ]
  },
  {
   "cell_type": "code",
   "execution_count": 33,
   "metadata": {},
   "outputs": [
    {
     "name": "stderr",
     "output_type": "stream",
     "text": [
      "c:\\users\\gaudrya.farma\\anaconda3\\lib\\site-packages\\skbio\\stats\\ordination\\_principal_coordinate_analysis.py:143: RuntimeWarning:\n",
      "\n",
      "The result contains negative eigenvalues. Please compare their magnitude with the magnitude of some of the largest positive eigenvalues. If the negative ones are smaller, it's probably safe to ignore them, but if they are large in magnitude, the results won't be useful. See the Notes section for more details. The smallest eigenvalue is -0.01928569117614736 and the largest is 0.514687405068449.\n",
      "\n"
     ]
    },
    {
     "data": {
      "application/vnd.plotly.v1+json": {
       "config": {
        "plotlyServerURL": "https://plot.ly"
       },
       "data": [
        {
         "hovertemplate": "<b>%{hovertext}</b><br><br>contains=Plasma<br>PC1 (58.4 %)=%{x}<br>PC2 (15.8 %)=%{y}<br>PC3 (12.4 %)=%{z}<extra></extra>",
         "hovertext": [
          "QEC18_NIST_20181227102029.mzML",
          "QEC18_NIST_20181227182328.mzML",
          "QEC18_NIST.mzML",
          "QEC18RT_NIST_20181228191835.mzML",
          "QEC18RT_NIST_20181229031403.mzML",
          "QEC18RT_NIST.mzML"
         ],
         "legendgroup": "Plasma",
         "marker": {
          "color": "#1F77B4",
          "symbol": "circle"
         },
         "mode": "markers",
         "name": "Plasma",
         "scene": "scene",
         "showlegend": true,
         "type": "scatter3d",
         "x": [
          -0.15464321557967278,
          -0.1588115464474326,
          -0.15111767196653586,
          -0.14552423073577533,
          -0.14382926062012702,
          -0.13934926995368419
         ],
         "y": [
          -0.058180461652025,
          -0.05775219918817916,
          -0.06781286026717762,
          -0.04885446961794543,
          -0.04383668226416117,
          -0.05264114648164897
         ],
         "z": [
          0.020420391312341243,
          0.022128068733933085,
          0.01917863781232164,
          -0.04645710892160258,
          -0.04890882032853834,
          -0.045430014695579
         ]
        },
        {
         "hovertemplate": "<b>%{hovertext}</b><br><br>contains=Tomato<br>PC1 (58.4 %)=%{x}<br>PC2 (15.8 %)=%{y}<br>PC3 (12.4 %)=%{z}<extra></extra>",
         "hovertext": [
          "QEC18_To_20181227204313.mzML",
          "QEC18_To_20181227231513.mzML",
          "QEC18_To.mzML",
          "QEC18RT_To_20181229050805.mzML",
          "QEC18RT_To_20181229074015.mzML",
          "QEC18RT_To.mzML"
         ],
         "legendgroup": "Tomato",
         "marker": {
          "color": "#FF7F0E",
          "symbol": "circle"
         },
         "mode": "markers",
         "name": "Tomato",
         "scene": "scene",
         "showlegend": true,
         "type": "scatter3d",
         "x": [
          -0.12152381368942712,
          -0.10132274670723951,
          -0.11242564086657615,
          -0.08833614761991924,
          -0.08757794590904434,
          -0.08348572326334808
         ],
         "y": [
          0.04336845992797368,
          0.04056911359139993,
          0.04354288748158614,
          0.0393628166049435,
          0.03884673054355065,
          0.04059183059629471
         ],
         "z": [
          0.03338534524689722,
          0.026604953291737114,
          0.02612085661884665,
          -0.030666929244338073,
          -0.030235258534968383,
          -0.029687105050282644
         ]
        },
        {
         "hovertemplate": "<b>%{hovertext}</b><br><br>contains=Tomato + Plasma<br>PC1 (58.4 %)=%{x}<br>PC2 (15.8 %)=%{y}<br>PC3 (12.4 %)=%{z}<extra></extra>",
         "hovertext": [
          "QEC18_To-1_NIST-3_20181227172525.mzML",
          "QEC18_To-1_NIST-3_20181227214013.mzML",
          "QEC18_To-1_NIST-3.mzML",
          "QEC18_To-1_NIST-1_20181227111754.mzML",
          "QEC18_To-1_NIST-1_20181228010915.mzML",
          "QEC18_To-1_NIST-1.mzML",
          "QEC18_To-3_NIST-1_20181227074824.mzML",
          "QEC18_To-3_NIST-1_20181227160801.mzML",
          "QEC18_To-3_NIST-1.mzML",
          "QEC18RT_To-1_NIST-3_20181229021701.mzML",
          "QEC18RT_To-1_NIST-3_20181229060507.mzML",
          "QEC18RT_To-1_NIST-3.mzML",
          "QEC18RT_To-1_NIST-1_20181228201537.mzML",
          "QEC18RT_To-1_NIST-1_20181229093419.mzML",
          "QEC18RT_To-1_NIST-1.mzML",
          "QEC18RT_To-3_NIST-1_20181228162117.mzML",
          "QEC18RT_To-3_NIST-1_20181229010055.mzML",
          "QEC18RT_To-3_NIST-1.mzML"
         ],
         "legendgroup": "Tomato + Plasma",
         "marker": {
          "color": "#2CA02C",
          "symbol": "circle"
         },
         "mode": "markers",
         "name": "Tomato + Plasma",
         "scene": "scene",
         "showlegend": true,
         "type": "scatter3d",
         "x": [
          -0.08284791711874087,
          -0.10210722773194174,
          -0.08621631141129543,
          -0.104662742678115,
          -0.10637643827260854,
          -0.13284122434071866,
          -0.10373670530594911,
          -0.1228368633447553,
          -0.09094255530014622,
          -0.07163955128929077,
          -0.07433022031099393,
          -0.07616564852431384,
          -0.09798882196172544,
          -0.08458519597284359,
          -0.10165413163333685,
          -0.08624755910190739,
          -0.09783761226261004,
          -0.08634508271526711
         ],
         "y": [
          0.03033320913239914,
          0.031056939875831295,
          0.03182973396743875,
          0.040333893906556506,
          0.035299784760214996,
          0.04216676522898719,
          0.03897072112864555,
          0.04234032096125274,
          0.03886675790967996,
          0.031094059119478563,
          0.03189085193456472,
          0.03236720666288779,
          0.03700355145646626,
          0.03445882403970301,
          0.037841200741062786,
          0.03998253426093177,
          0.04205411705457093,
          0.034513502871706375
         ],
         "z": [
          0.028479417569119824,
          0.029089865168083654,
          0.026680054027533623,
          0.030296080846470997,
          0.0298224600268357,
          0.03455942098518378,
          0.028812934198734777,
          0.03177154260548024,
          0.027049395259298666,
          -0.0340866636223869,
          -0.03533054607907929,
          -0.03407987165590364,
          -0.03454374899174881,
          -0.03508264757140437,
          -0.037273965998397364,
          -0.031804738447684285,
          -0.035579046478810356,
          -0.03354425818775717
         ]
        },
        {
         "hovertemplate": "<b>%{hovertext}</b><br><br>contains=Fecal_2<br>PC1 (58.4 %)=%{x}<br>PC2 (15.8 %)=%{y}<br>PC3 (12.4 %)=%{z}<extra></extra>",
         "hovertext": [
          "QEC18_F2_20181227121553.mzML",
          "QEC18_F2_20181228001213.mzML",
          "QEC18_F2.mzML",
          "QEC18RT_F2_20181228211241.mzML",
          "QEC18RT_F2_20181229083715.mzML",
          "QEC18RT_F2.mzML"
         ],
         "legendgroup": "Fecal_2",
         "marker": {
          "color": "#D62728",
          "symbol": "circle"
         },
         "mode": "markers",
         "name": "Fecal_2",
         "scene": "scene",
         "showlegend": true,
         "type": "scatter3d",
         "x": [
          -0.01536299761364028,
          -0.02542273741153344,
          -0.019327879461397482,
          -0.0036649329202547267,
          -0.009082549779382592,
          -0.012573695199788813
         ],
         "y": [
          -0.029084376094014052,
          -0.02971966457357736,
          -0.026989478699475718,
          -0.022919876988043212,
          -0.024987535544428535,
          -0.025299737526679314
         ],
         "z": [
          0.01575669605645375,
          0.017138619559066124,
          0.01591706797749024,
          -0.02148703348961272,
          -0.02183272251629359,
          -0.02313639823941875
         ]
        },
        {
         "hovertemplate": "<b>%{hovertext}</b><br><br>contains=Fecal_2 + Plasma<br>PC1 (58.4 %)=%{x}<br>PC2 (15.8 %)=%{y}<br>PC3 (12.4 %)=%{z}<extra></extra>",
         "hovertext": [
          "QEC18_F2-1_NIST-3_20181227103932.mzML",
          "QEC18_F2-1_NIST-3_20181227145038.mzML",
          "QEC18_F2-1_NIST-3.mzML",
          "QEC18_F2-1_NIST-1_20181227212113.mzML",
          "QEC18_F2-1_NIST-1_20181227233413.mzML",
          "QEC18_F2-1_NIST-1.mzML",
          "QEC18_F2-3_NIST-1_20181227162723.mzML",
          "QEC18_F2-3_NIST-1_20181228005015.mzML",
          "QEC18_F2-3_NIST-1.mzML",
          "QEC18RT_F2-1_NIST-3_20181228193737.mzML",
          "QEC18RT_F2-1_NIST-3_20181228234449.mzML",
          "QEC18RT_F2-1_NIST-3.mzML",
          "QEC18RT_F2-1_NIST-1_20181229054607.mzML",
          "QEC18RT_F2-1_NIST-1_20181229075915.mzML",
          "QEC18RT_F2-1_NIST-1.mzML",
          "QEC18RT_F2-3_NIST-1_20181229011957.mzML",
          "QEC18RT_F2-3_NIST-1_20181229091519.mzML",
          "QEC18RT_F2-3_NIST-1.mzML"
         ],
         "legendgroup": "Fecal_2 + Plasma",
         "marker": {
          "color": "#9467BD",
          "symbol": "circle"
         },
         "mode": "markers",
         "name": "Fecal_2 + Plasma",
         "scene": "scene",
         "showlegend": true,
         "type": "scatter3d",
         "x": [
          -0.026604141549262997,
          -0.025346994460717406,
          -0.05912915419968511,
          -0.021576618396399887,
          -0.02285153623553696,
          -0.01322781652571942,
          -0.02463680487697261,
          -0.016321409185692075,
          -0.013295016090366657,
          -0.020489214106838356,
          -0.00838614253204836,
          -0.01496412558134663,
          -0.006505633962953309,
          -0.004011526377330067,
          0.00041150733020566113,
          -0.006378670813243161,
          0.0004960549484515566,
          -0.00900999476038523
         ],
         "y": [
          -0.030899188847613876,
          -0.03354586878187578,
          -0.03018646116204416,
          -0.03043251045098735,
          -0.026064262835356265,
          -0.023971042955632044,
          -0.028635791772034038,
          -0.027965088824134256,
          -0.03115799091287269,
          -0.024429605598530017,
          -0.025817671239502855,
          -0.022434574167765856,
          -0.021387643067468515,
          -0.0180219994197639,
          -0.017844443041553866,
          -0.01995625226630501,
          -0.020858138758328,
          -0.024934721828770275
         ],
         "z": [
          0.01694237381093593,
          0.018596969214832473,
          0.01883982997645182,
          0.019108133572203485,
          0.01883481918936943,
          0.017784640382005213,
          0.017229684573889122,
          0.017056460015004295,
          0.015801856137491303,
          -0.026050519431250533,
          -0.025063085165847526,
          -0.02599831493231067,
          -0.025393441555937254,
          -0.02448975086182018,
          -0.023849747491287942,
          -0.023779595115497765,
          -0.020288953846608525,
          -0.021983180674255462
         ]
        },
        {
         "hovertemplate": "<b>%{hovertext}</b><br><br>contains=Fecal_2 + Tomato<br>PC1 (58.4 %)=%{x}<br>PC2 (15.8 %)=%{y}<br>PC3 (12.4 %)=%{z}<extra></extra>",
         "hovertext": [
          "QEC18_F2-1_To-3_20181226223728.mzML",
          "QEC18_F2-1_To-3_20181227041925.mzML",
          "QEC18_F2-1_To-3.mzML",
          "QEC18_F2-1_To-1_20181227150959.mzML",
          "QEC18_F2-1_To-1_20181228014719.mzML",
          "QEC18_F2-1_To-1.mzML",
          "QEC18_F2-3_To-1_20181227082626.mzML",
          "QEC18_F2-3_To-1_20181227164643.mzML",
          "QEC18_F2-3_To-1.mzML",
          "QEC18RT_F2-1_To-3_20181228071021.mzML",
          "QEC18RT_F2-1_To-3_20181228125213.mzML",
          "QEC18RT_F2-1_To-3.mzML",
          "QEC18RT_F2-1_To-1_20181229000349.mzML",
          "QEC18RT_F2-1_To-1_20181229101223.mzML",
          "QEC18RT_F2-1_To-1.mzML",
          "QEC18RT_F2-3_To-1_20181228165919.mzML",
          "QEC18RT_F2-3_To-1_20181229013857.mzML",
          "QEC18RT_F2-3_To-1.mzML"
         ],
         "legendgroup": "Fecal_2 + Tomato",
         "marker": {
          "color": "#8C564B",
          "symbol": "circle"
         },
         "mode": "markers",
         "name": "Fecal_2 + Tomato",
         "scene": "scene",
         "showlegend": true,
         "type": "scatter3d",
         "x": [
          -0.003908015053234333,
          0.011863031357821605,
          -0.004195620742542816,
          0.005872706994236502,
          0.00927670654742049,
          0.008145770825422885,
          0.014995287774845777,
          0.006835536798181381,
          0.004217284491053591,
          0.012173526404142432,
          0.012137594909153617,
          0.010203992662532914,
          0.019152261696521424,
          0.021072069769721754,
          0.01777587952002836,
          0.021682751261149026,
          0.018893398539483502,
          0.01647953020188202
         ],
         "y": [
          0.022006016283350943,
          0.025602428305153028,
          0.021950916516764892,
          0.01841525003717685,
          0.02156364253664935,
          0.02032728890346792,
          0.016663119148840784,
          0.015241173777677215,
          0.01169448793668618,
          0.025718584521236886,
          0.027997304233850655,
          0.025085393309212296,
          0.023786756697741517,
          0.025078442071608566,
          0.027341445755456505,
          0.024498819475140755,
          0.022735533511236628,
          0.019489053264015968
         ],
         "z": [
          0.02413506818404182,
          0.023895405700163252,
          0.026900733184300207,
          0.02294014308977477,
          0.023192762348812127,
          0.022714478882982916,
          0.022039504897094178,
          0.02109720787126363,
          0.022316150530768852,
          -0.02161104681504097,
          -0.021727324128822115,
          -0.022081444196727692,
          -0.02121189977622341,
          -0.0196475896660095,
          -0.019609217796682128,
          -0.020173079464184125,
          -0.021537210377427153,
          -0.022139104386866854
         ]
        },
        {
         "hovertemplate": "<b>%{hovertext}</b><br><br>contains=Fecal_1<br>PC1 (58.4 %)=%{x}<br>PC2 (15.8 %)=%{y}<br>PC3 (12.4 %)=%{z}<extra></extra>",
         "hovertext": [
          "QEC18_F1_20181227030329.mzML",
          "QEC18_F1_20181228032223.mzML",
          "QEC18_F1.mzML",
          "QEC18RT_F1_20181228113615.mzML",
          "QEC18RT_F1_20181229114729.mzML",
          "QEC18RT_F1.mzML"
         ],
         "legendgroup": "Fecal_1",
         "marker": {
          "color": "#E377C2",
          "symbol": "circle"
         },
         "mode": "markers",
         "name": "Fecal_1",
         "scene": "scene",
         "showlegend": true,
         "type": "scatter3d",
         "x": [
          0.0134366407183216,
          0.01202708945561879,
          0.01154315802485146,
          0.02410970956218038,
          0.02985389173989637,
          0.02818996958327563
         ],
         "y": [
          -0.0361900516613759,
          -0.03851125939582746,
          -0.036385900236143034,
          -0.03002278441910591,
          -0.029454287349532825,
          -0.028203095164764616
         ],
         "z": [
          0.019536523088303424,
          0.01963861425749797,
          0.020948580580589606,
          -0.019641257764460983,
          -0.01854657288176623,
          -0.020348067253492814
         ]
        },
        {
         "hovertemplate": "<b>%{hovertext}</b><br><br>contains=Fecal_1 + Fecal_2 + Tomato + Plasma<br>PC1 (58.4 %)=%{x}<br>PC2 (15.8 %)=%{y}<br>PC3 (12.4 %)=%{z}<extra></extra>",
         "hovertext": [
          "QEC18_F1-1_F2-1_NIST-2_To-1_20181227152919.mzML",
          "QEC18_F1-1_F2-1_NIST-2_To-1_20181227225613.mzML",
          "QEC18_F1-1_F2-1_NIST-2_To-1.mzML",
          "QEC18_F1-1_F2-1_NIST-1_To-2_20181227113714.mzML",
          "QEC18_F1-1_F2-1_NIST-1_To-2_20181227184249.mzML",
          "QEC18_F1-1_F2-1_NIST-1_To-2.mzML",
          "QEC18_F1-1_F2-2_NIST-1_To-1_20181227065123.mzML",
          "QEC18_F1-1_F2-2_NIST-1_To-1_20181228034123.mzML",
          "QEC18_F1-1_F2-2_NIST-1_To-1.mzML",
          "QEC18_Qcmix_begin.mzML",
          "QEC18_Qcmix_middle.mzML",
          "QEC18_Qcmix_end.mzML",
          "QEC18_Qcmix_end_20181228041923.mzML",
          "QEC18RT_Qcmix_begin.mzML",
          "QEC18RT_Qcmix_middle.mzML",
          "QEC18RT_Qcmix_end.mzML",
          "QEC18_F1-1_F2-1_NIST-1_To-1_20181227125436.mzML",
          "QEC18_F1-1_F2-1_NIST-1_To-1_20181227135238.mzML",
          "QEC18_F1-1_F2-1_NIST-1_To-1.mzML",
          "QEC18_F1-2_F2-1_NIST-1_To-1_20181228020619.mzML",
          "QEC18_F1-2_F2-1_NIST-1_To-1_20181228022521.mzML",
          "QEC18_F1-2_F2-1_NIST-1_To-1.mzML",
          "QEC18RT_F1-1_F2-1_NIST-2_To-1_20181229002251.mzML",
          "QEC18RT_F1-1_F2-1_NIST-2_To-1_20181229072113.mzML",
          "QEC18RT_F1-1_F2-1_NIST-2_To-1.mzML",
          "QEC18RT_F1-1_F2-1_NIST-1_To-2_20181228203439.mzML",
          "QEC18RT_F1-1_F2-1_NIST-1_To-2_20181229033303.mzML",
          "QEC18RT_F1-1_F2-1_NIST-1_To-2.mzML",
          "QEC18RT_F1-1_F2-2_NIST-1_To-1_20181228152413.mzML",
          "QEC18RT_F1-1_F2-2_NIST-1_To-1_20181229120629.mzML",
          "QEC18RT_F1-1_F2-2_NIST-1_To-1.mzML",
          "QEC18RT_F1-1_F2-1_NIST-1_To-1_20181228215043.mzML",
          "QEC18RT_F1-1_F2-1_NIST-1_To-1_20181228224749.mzML",
          "QEC18RT_F1-1_F2-1_NIST-1_To-1.mzML",
          "QEC18RT_F1-2_F2-1_NIST-1_To-1_20181229103125.mzML",
          "QEC18RT_F1-2_F2-1_NIST-1_To-1_20181229105027.mzML",
          "QEC18RT_F1-2_F2-1_NIST-1_To-1.mzML"
         ],
         "legendgroup": "Fecal_1 + Fecal_2 + Tomato + Plasma",
         "marker": {
          "color": "#7F7F7F",
          "symbol": "circle"
         },
         "mode": "markers",
         "name": "Fecal_1 + Fecal_2 + Tomato + Plasma",
         "scene": "scene",
         "showlegend": true,
         "type": "scatter3d",
         "x": [
          0.04135586125100193,
          0.04354331428109479,
          0.048746690382717325,
          0.04399254993551052,
          0.04342494273197571,
          0.04388677982165679,
          0.04667255300178829,
          0.04401296065767288,
          0.044876658040849365,
          0.0353359065681276,
          0.04965877778078145,
          0.04728065488098367,
          0.04733759314324805,
          0.032940480302392605,
          0.05406067890115849,
          0.05152831859056876,
          0.046718582861570206,
          0.049551646167622136,
          0.04697260256089204,
          0.040622382037335106,
          0.04728931258483198,
          0.04096507612550341,
          0.05159076809378025,
          0.04859967538980324,
          0.054223110131932796,
          0.05684211250889144,
          0.050059776445284025,
          0.05472723371718479,
          0.05730534238872595,
          0.05143578194124483,
          0.050261309002820304,
          0.05533979995321283,
          0.05256525421497892,
          0.04985799909540833,
          0.053632035999240955,
          0.05515972850878925,
          0.05582411988560703
         ],
         "y": [
          0.013924481292531534,
          0.014807413937586368,
          0.018354681724095708,
          0.020056353726699255,
          0.018741414495599313,
          0.020256281709895727,
          0.015301470761836423,
          0.014564200853784275,
          0.014942846346751635,
          0.01138573081380476,
          0.019344739868131778,
          0.017064069984864226,
          0.018858136525887966,
          0.011958465536280424,
          0.02014468818983963,
          0.01921896345267392,
          0.015606045075422433,
          0.01823084718647288,
          0.017840257157807314,
          0.012743945775838829,
          0.015673296764285593,
          0.013370523386147137,
          0.019406749159214018,
          0.018302947188807303,
          0.020554531746309883,
          0.02120299695745768,
          0.019012741589407748,
          0.02223359453282463,
          0.020168075744249864,
          0.01702280498844336,
          0.01713732983219909,
          0.01984223608806819,
          0.019331569397212436,
          0.01724233378813677,
          0.018290026628921995,
          0.01861718773947724,
          0.019407431046634848
         ],
         "z": [
          0.029196583420348147,
          0.030941407056503032,
          0.030411133007088843,
          0.02900939872890929,
          0.029468510559857785,
          0.029416353585866903,
          0.02658722638527081,
          0.02968140898018795,
          0.03048737013704817,
          0.027438663525355053,
          0.029981430208993423,
          0.031219460958772254,
          0.029390136426139604,
          -0.025368149692444948,
          -0.02453160697687337,
          -0.023575489677727754,
          0.02928279734426242,
          0.0308122491367293,
          0.03051225862464767,
          0.028113405749770993,
          0.028925810474219465,
          0.028025320725107345,
          -0.023792129097520064,
          -0.024265794284078802,
          -0.023911209793741565,
          -0.02321963321631507,
          -0.024477502222623654,
          -0.023276696099333936,
          -0.02334562230227735,
          -0.022433544766426207,
          -0.023981018702797632,
          -0.02431350972789636,
          -0.02332385540855735,
          -0.02466891074734221,
          -0.02308333737029686,
          -0.023147367321170603,
          -0.02334380963502308
         ]
        },
        {
         "hovertemplate": "<b>%{hovertext}</b><br><br>contains=Fecal_1 + Plasma<br>PC1 (58.4 %)=%{x}<br>PC2 (15.8 %)=%{y}<br>PC3 (12.4 %)=%{z}<extra></extra>",
         "hovertext": [
          "QEC18_F1-1_NIST-3_20181227133316.mzML",
          "QEC18_F1-1_NIST-3_20181228012817.mzML",
          "QEC18_F1-1_NIST-3.mzML",
          "QEC18_F1-1_NIST-1_20181227210213.mzML",
          "QEC18_F1-1_NIST-1_20181227215913.mzML",
          "QEC18_F1-1_NIST-1.mzML",
          "QEC18_F1-3_NIST-1_20181227045725.mzML",
          "QEC18_F1-3_NIST-1_20181227170603.mzML",
          "QEC18_F1-3_NIST-1.mzML",
          "QEC18RT_F1-1_NIST-3_20181228222847.mzML",
          "QEC18RT_F1-1_NIST-3_20181229095321.mzML",
          "QEC18RT_F1-1_NIST-3.mzML",
          "QEC18RT_F1-1_NIST-1_20181229052705.mzML",
          "QEC18RT_F1-1_NIST-1_20181229062407.mzML",
          "QEC18RT_F1-1_NIST-1.mzML",
          "QEC18RT_F1-3_NIST-1_20181228133015.mzML",
          "QEC18RT_F1-3_NIST-1_20181229015759.mzML",
          "QEC18RT_F1-3_NIST-1.mzML"
         ],
         "legendgroup": "Fecal_1 + Plasma",
         "marker": {
          "color": "#BCBD22",
          "symbol": "circle"
         },
         "mode": "markers",
         "name": "Fecal_1 + Plasma",
         "scene": "scene",
         "showlegend": true,
         "type": "scatter3d",
         "x": [
          -0.0034851857426356036,
          0.0029335676274008815,
          -0.009976027163953504,
          0.00818413680664144,
          0.00547159467156938,
          0.003915893006825687,
          0.021204436948490904,
          0.013728479188440295,
          0.013430563312120124,
          0.019230872181125926,
          0.02429583777537161,
          0.01632585992332819,
          0.023785348380703168,
          0.022627314474061393,
          0.01962654313808101,
          0.028619755403674514,
          0.02460289122576488,
          0.025776491710257296
         ],
         "y": [
          -0.03957193434290159,
          -0.03503172513606473,
          -0.043875293667705526,
          -0.03419018736524684,
          -0.037694026039994624,
          -0.03896818996796981,
          -0.03399595769416849,
          -0.03589580164789699,
          -0.037573463457904965,
          -0.03145001967014749,
          -0.027764846464705104,
          -0.03146875400317475,
          -0.028548215976656376,
          -0.02851921865883702,
          -0.0314682702339309,
          -0.026701452914585908,
          -0.030702099412364247,
          -0.029748410259642026
         ],
         "z": [
          0.02396035353907405,
          0.021772612080679387,
          0.024331820353575912,
          0.02287628028346303,
          0.02276737035464886,
          0.023361335343112716,
          0.02140187824949062,
          0.0212151642954248,
          0.023446727518352233,
          -0.02361379524881329,
          -0.023764534636212586,
          -0.02472858848277947,
          -0.024333401283088862,
          -0.023955032243782648,
          -0.02223744674966371,
          -0.020929705819914962,
          -0.02264391644797407,
          -0.021699669069062046
         ]
        },
        {
         "hovertemplate": "<b>%{hovertext}</b><br><br>contains=Fecal_1 + Tomato<br>PC1 (58.4 %)=%{x}<br>PC2 (15.8 %)=%{y}<br>PC3 (12.4 %)=%{z}<extra></extra>",
         "hovertext": [
          "QEC18_F1-1_To-3_20181227174446.mzML",
          "QEC18_F1-1_To-3_20181227223713.mzML",
          "QEC18_F1-1_To-3.mzML",
          "QEC18_F1-1_To-1_20181227043825.mzML",
          "QEC18_F1-1_To-1_20181227123513.mzML",
          "QEC18_F1-1_To-1.mzML",
          "QEC18_F1-3_To-1_20181228003115.mzML",
          "QEC18_F1-3_To-1_20181228024423.mzML",
          "QEC18_F1-3_To-1.mzML",
          "QEC18RT_F1-1_To-3_20181229023601.mzML",
          "QEC18RT_F1-1_To-3_20181229070211.mzML",
          "QEC18RT_F1-1_To-3.mzML",
          "QEC18RT_F1-1_To-1_20181228131115.mzML",
          "QEC18RT_F1-1_To-1_20181228213143.mzML",
          "QEC18RT_F1-1_To-1.mzML",
          "QEC18RT_F1-3_To-1_20181229085617.mzML",
          "QEC18RT_F1-3_To-1_20181229110929.mzML",
          "QEC18RT_F1-3_To-1.mzML"
         ],
         "legendgroup": "Fecal_1 + Tomato",
         "marker": {
          "color": "#17BECF",
          "symbol": "circle"
         },
         "mode": "markers",
         "name": "Fecal_1 + Tomato",
         "scene": "scene",
         "showlegend": true,
         "type": "scatter3d",
         "x": [
          0.03588352537417029,
          0.038960626516643074,
          0.02299974624910454,
          0.04295219798764402,
          0.03878185158454152,
          0.04487003108326705,
          0.043189410210727586,
          0.04245993564653895,
          0.046345880115797794,
          0.043939352249207406,
          0.04332360686961341,
          0.047647447221391366,
          0.04729843941561046,
          0.05103989429448983,
          0.04264089966597884,
          0.0513443861083751,
          0.04840825387254178,
          0.04889434412870786
         ],
         "y": [
          0.021341848113452952,
          0.02103185877559926,
          0.007806882222078564,
          0.019783952475707467,
          0.017888098778673114,
          0.020790369285760734,
          0.013637275180269599,
          0.016077942930233975,
          0.01654423939213622,
          0.021497014558650964,
          0.021878138020889743,
          0.02210112560390009,
          0.02086341263605718,
          0.01999345168024619,
          0.01926645244783943,
          0.017141424847338205,
          0.014964472352813259,
          0.018426986296464398
         ],
         "z": [
          0.029559430158190875,
          0.029289529822440916,
          0.024770027858597603,
          0.028425940918576333,
          0.02737607610879858,
          0.029460884871348653,
          0.027637976029362507,
          0.028246103928490737,
          0.02689602236213796,
          -0.022916872822813086,
          -0.02220807103165645,
          -0.021523094113295057,
          -0.021371643912793975,
          -0.021303153361995376,
          -0.021623778227735875,
          -0.021763448630083546,
          -0.021744478247987583,
          -0.021087129989168802
         ]
        },
        {
         "hovertemplate": "<b>%{hovertext}</b><br><br>contains=Fecal_1 + Fecal_2<br>PC1 (58.4 %)=%{x}<br>PC2 (15.8 %)=%{y}<br>PC3 (12.4 %)=%{z}<extra></extra>",
         "hovertext": [
          "QEC18_F1-1_F2-3_20181227012831.mzML",
          "QEC18_F1-1_F2-3_20181227071023.mzML",
          "QEC18_F1-1_F2-3.mzML",
          "QEC18_F1-1_F2-1_20181227084526.mzML",
          "QEC18_F1-1_F2-1_20181227143118.mzML",
          "QEC18_F1-1_F2-1.mzML",
          "QEC18_F1-3_F2-1_20181227131356.mzML",
          "QEC18_F1-3_F2-1_20181227190209.mzML",
          "QEC18_F1-3_F2-1.mzML",
          "QEC18RT_F1-1_F2-3_20181228100117.mzML",
          "QEC18RT_F1-1_F2-3_20181228154315.mzML",
          "QEC18RT_F1-1_F2-3.mzML",
          "QEC18RT_F1-1_F2-1_20181228171821.mzML",
          "QEC18RT_F1-1_F2-1_20181228232549.mzML",
          "QEC18RT_F1-1_F2-1.mzML",
          "QEC18RT_F1-3_F2-1_20181228220945.mzML",
          "QEC18RT_F1-3_F2-1_20181229035205.mzML",
          "QEC18RT_F1-3_F2-1.mzML"
         ],
         "legendgroup": "Fecal_1 + Fecal_2",
         "marker": {
          "color": "#1F77B4",
          "symbol": "circle"
         },
         "mode": "markers",
         "name": "Fecal_1 + Fecal_2",
         "scene": "scene",
         "showlegend": true,
         "type": "scatter3d",
         "x": [
          0.02151340554695175,
          0.02360684287056478,
          0.017071157999580703,
          0.01972935283792635,
          0.01107572969691772,
          0.0035602375950777995,
          0.02099162725454814,
          0.016924676291328915,
          0.02212144830072049,
          0.03192325217369286,
          0.032365066813964026,
          0.027886665688258903,
          0.029321985536143007,
          0.02816444396943351,
          0.028205102411498546,
          0.03360512634327238,
          0.029462963422561623,
          0.02573124325496867
         ],
         "y": [
          -0.02623437749552026,
          -0.02856161123526378,
          -0.03275602354882368,
          -0.03270633846235238,
          -0.03388519915461516,
          -0.0403561315212037,
          -0.03196700646305758,
          -0.03402742989455673,
          -0.03209242695054072,
          -0.021604698356025322,
          -0.02364701780173572,
          -0.02548352927338546,
          -0.025772073844620044,
          -0.027427159521208635,
          -0.027787357497063302,
          -0.02656366235845725,
          -0.027556122230244597,
          -0.02809267105789023
         ],
         "z": [
          0.02113593520884823,
          0.020170538607196822,
          0.02052634214668531,
          0.02085664438132664,
          0.02113464403377427,
          0.019393774520749772,
          0.021816846664797426,
          0.02238860962314065,
          0.02172067967037633,
          -0.021877281571220365,
          -0.021394323495160145,
          -0.02210256936285081,
          -0.021650993392998648,
          -0.020989131277711227,
          -0.020436732045964065,
          -0.0207310769075062,
          -0.022133483876050047,
          -0.020442399824288228
         ]
        }
       ],
       "layout": {
        "height": 650,
        "legend": {
         "title": {
          "text": "contains"
         },
         "tracegroupgap": 0
        },
        "scene": {
         "domain": {
          "x": [
           0,
           1
          ],
          "y": [
           0,
           1
          ]
         },
         "xaxis": {
          "title": {
           "text": "PC1 (58.4 %)"
          }
         },
         "yaxis": {
          "title": {
           "text": "PC2 (15.8 %)"
          }
         },
         "zaxis": {
          "title": {
           "text": "PC3 (12.4 %)"
          }
         }
        },
        "template": {
         "data": {
          "bar": [
           {
            "error_x": {
             "color": "rgb(36,36,36)"
            },
            "error_y": {
             "color": "rgb(36,36,36)"
            },
            "marker": {
             "line": {
              "color": "white",
              "width": 0.5
             },
             "pattern": {
              "fillmode": "overlay",
              "size": 10,
              "solidity": 0.2
             }
            },
            "type": "bar"
           }
          ],
          "barpolar": [
           {
            "marker": {
             "line": {
              "color": "white",
              "width": 0.5
             },
             "pattern": {
              "fillmode": "overlay",
              "size": 10,
              "solidity": 0.2
             }
            },
            "type": "barpolar"
           }
          ],
          "carpet": [
           {
            "aaxis": {
             "endlinecolor": "rgb(36,36,36)",
             "gridcolor": "white",
             "linecolor": "white",
             "minorgridcolor": "white",
             "startlinecolor": "rgb(36,36,36)"
            },
            "baxis": {
             "endlinecolor": "rgb(36,36,36)",
             "gridcolor": "white",
             "linecolor": "white",
             "minorgridcolor": "white",
             "startlinecolor": "rgb(36,36,36)"
            },
            "type": "carpet"
           }
          ],
          "choropleth": [
           {
            "colorbar": {
             "outlinewidth": 1,
             "tickcolor": "rgb(36,36,36)",
             "ticks": "outside"
            },
            "type": "choropleth"
           }
          ],
          "contour": [
           {
            "colorbar": {
             "outlinewidth": 1,
             "tickcolor": "rgb(36,36,36)",
             "ticks": "outside"
            },
            "colorscale": [
             [
              0,
              "#440154"
             ],
             [
              0.1111111111111111,
              "#482878"
             ],
             [
              0.2222222222222222,
              "#3e4989"
             ],
             [
              0.3333333333333333,
              "#31688e"
             ],
             [
              0.4444444444444444,
              "#26828e"
             ],
             [
              0.5555555555555556,
              "#1f9e89"
             ],
             [
              0.6666666666666666,
              "#35b779"
             ],
             [
              0.7777777777777778,
              "#6ece58"
             ],
             [
              0.8888888888888888,
              "#b5de2b"
             ],
             [
              1,
              "#fde725"
             ]
            ],
            "type": "contour"
           }
          ],
          "contourcarpet": [
           {
            "colorbar": {
             "outlinewidth": 1,
             "tickcolor": "rgb(36,36,36)",
             "ticks": "outside"
            },
            "type": "contourcarpet"
           }
          ],
          "heatmap": [
           {
            "colorbar": {
             "outlinewidth": 1,
             "tickcolor": "rgb(36,36,36)",
             "ticks": "outside"
            },
            "colorscale": [
             [
              0,
              "#440154"
             ],
             [
              0.1111111111111111,
              "#482878"
             ],
             [
              0.2222222222222222,
              "#3e4989"
             ],
             [
              0.3333333333333333,
              "#31688e"
             ],
             [
              0.4444444444444444,
              "#26828e"
             ],
             [
              0.5555555555555556,
              "#1f9e89"
             ],
             [
              0.6666666666666666,
              "#35b779"
             ],
             [
              0.7777777777777778,
              "#6ece58"
             ],
             [
              0.8888888888888888,
              "#b5de2b"
             ],
             [
              1,
              "#fde725"
             ]
            ],
            "type": "heatmap"
           }
          ],
          "heatmapgl": [
           {
            "colorbar": {
             "outlinewidth": 1,
             "tickcolor": "rgb(36,36,36)",
             "ticks": "outside"
            },
            "colorscale": [
             [
              0,
              "#440154"
             ],
             [
              0.1111111111111111,
              "#482878"
             ],
             [
              0.2222222222222222,
              "#3e4989"
             ],
             [
              0.3333333333333333,
              "#31688e"
             ],
             [
              0.4444444444444444,
              "#26828e"
             ],
             [
              0.5555555555555556,
              "#1f9e89"
             ],
             [
              0.6666666666666666,
              "#35b779"
             ],
             [
              0.7777777777777778,
              "#6ece58"
             ],
             [
              0.8888888888888888,
              "#b5de2b"
             ],
             [
              1,
              "#fde725"
             ]
            ],
            "type": "heatmapgl"
           }
          ],
          "histogram": [
           {
            "marker": {
             "line": {
              "color": "white",
              "width": 0.6
             }
            },
            "type": "histogram"
           }
          ],
          "histogram2d": [
           {
            "colorbar": {
             "outlinewidth": 1,
             "tickcolor": "rgb(36,36,36)",
             "ticks": "outside"
            },
            "colorscale": [
             [
              0,
              "#440154"
             ],
             [
              0.1111111111111111,
              "#482878"
             ],
             [
              0.2222222222222222,
              "#3e4989"
             ],
             [
              0.3333333333333333,
              "#31688e"
             ],
             [
              0.4444444444444444,
              "#26828e"
             ],
             [
              0.5555555555555556,
              "#1f9e89"
             ],
             [
              0.6666666666666666,
              "#35b779"
             ],
             [
              0.7777777777777778,
              "#6ece58"
             ],
             [
              0.8888888888888888,
              "#b5de2b"
             ],
             [
              1,
              "#fde725"
             ]
            ],
            "type": "histogram2d"
           }
          ],
          "histogram2dcontour": [
           {
            "colorbar": {
             "outlinewidth": 1,
             "tickcolor": "rgb(36,36,36)",
             "ticks": "outside"
            },
            "colorscale": [
             [
              0,
              "#440154"
             ],
             [
              0.1111111111111111,
              "#482878"
             ],
             [
              0.2222222222222222,
              "#3e4989"
             ],
             [
              0.3333333333333333,
              "#31688e"
             ],
             [
              0.4444444444444444,
              "#26828e"
             ],
             [
              0.5555555555555556,
              "#1f9e89"
             ],
             [
              0.6666666666666666,
              "#35b779"
             ],
             [
              0.7777777777777778,
              "#6ece58"
             ],
             [
              0.8888888888888888,
              "#b5de2b"
             ],
             [
              1,
              "#fde725"
             ]
            ],
            "type": "histogram2dcontour"
           }
          ],
          "mesh3d": [
           {
            "colorbar": {
             "outlinewidth": 1,
             "tickcolor": "rgb(36,36,36)",
             "ticks": "outside"
            },
            "type": "mesh3d"
           }
          ],
          "parcoords": [
           {
            "line": {
             "colorbar": {
              "outlinewidth": 1,
              "tickcolor": "rgb(36,36,36)",
              "ticks": "outside"
             }
            },
            "type": "parcoords"
           }
          ],
          "pie": [
           {
            "automargin": true,
            "type": "pie"
           }
          ],
          "scatter": [
           {
            "marker": {
             "colorbar": {
              "outlinewidth": 1,
              "tickcolor": "rgb(36,36,36)",
              "ticks": "outside"
             }
            },
            "type": "scatter"
           }
          ],
          "scatter3d": [
           {
            "line": {
             "colorbar": {
              "outlinewidth": 1,
              "tickcolor": "rgb(36,36,36)",
              "ticks": "outside"
             }
            },
            "marker": {
             "colorbar": {
              "outlinewidth": 1,
              "tickcolor": "rgb(36,36,36)",
              "ticks": "outside"
             }
            },
            "type": "scatter3d"
           }
          ],
          "scattercarpet": [
           {
            "marker": {
             "colorbar": {
              "outlinewidth": 1,
              "tickcolor": "rgb(36,36,36)",
              "ticks": "outside"
             }
            },
            "type": "scattercarpet"
           }
          ],
          "scattergeo": [
           {
            "marker": {
             "colorbar": {
              "outlinewidth": 1,
              "tickcolor": "rgb(36,36,36)",
              "ticks": "outside"
             }
            },
            "type": "scattergeo"
           }
          ],
          "scattergl": [
           {
            "marker": {
             "colorbar": {
              "outlinewidth": 1,
              "tickcolor": "rgb(36,36,36)",
              "ticks": "outside"
             }
            },
            "type": "scattergl"
           }
          ],
          "scattermapbox": [
           {
            "marker": {
             "colorbar": {
              "outlinewidth": 1,
              "tickcolor": "rgb(36,36,36)",
              "ticks": "outside"
             }
            },
            "type": "scattermapbox"
           }
          ],
          "scatterpolar": [
           {
            "marker": {
             "colorbar": {
              "outlinewidth": 1,
              "tickcolor": "rgb(36,36,36)",
              "ticks": "outside"
             }
            },
            "type": "scatterpolar"
           }
          ],
          "scatterpolargl": [
           {
            "marker": {
             "colorbar": {
              "outlinewidth": 1,
              "tickcolor": "rgb(36,36,36)",
              "ticks": "outside"
             }
            },
            "type": "scatterpolargl"
           }
          ],
          "scatterternary": [
           {
            "marker": {
             "colorbar": {
              "outlinewidth": 1,
              "tickcolor": "rgb(36,36,36)",
              "ticks": "outside"
             }
            },
            "type": "scatterternary"
           }
          ],
          "surface": [
           {
            "colorbar": {
             "outlinewidth": 1,
             "tickcolor": "rgb(36,36,36)",
             "ticks": "outside"
            },
            "colorscale": [
             [
              0,
              "#440154"
             ],
             [
              0.1111111111111111,
              "#482878"
             ],
             [
              0.2222222222222222,
              "#3e4989"
             ],
             [
              0.3333333333333333,
              "#31688e"
             ],
             [
              0.4444444444444444,
              "#26828e"
             ],
             [
              0.5555555555555556,
              "#1f9e89"
             ],
             [
              0.6666666666666666,
              "#35b779"
             ],
             [
              0.7777777777777778,
              "#6ece58"
             ],
             [
              0.8888888888888888,
              "#b5de2b"
             ],
             [
              1,
              "#fde725"
             ]
            ],
            "type": "surface"
           }
          ],
          "table": [
           {
            "cells": {
             "fill": {
              "color": "rgb(237,237,237)"
             },
             "line": {
              "color": "white"
             }
            },
            "header": {
             "fill": {
              "color": "rgb(217,217,217)"
             },
             "line": {
              "color": "white"
             }
            },
            "type": "table"
           }
          ]
         },
         "layout": {
          "annotationdefaults": {
           "arrowhead": 0,
           "arrowwidth": 1
          },
          "autotypenumbers": "strict",
          "coloraxis": {
           "colorbar": {
            "outlinewidth": 1,
            "tickcolor": "rgb(36,36,36)",
            "ticks": "outside"
           }
          },
          "colorscale": {
           "diverging": [
            [
             0,
             "rgb(103,0,31)"
            ],
            [
             0.1,
             "rgb(178,24,43)"
            ],
            [
             0.2,
             "rgb(214,96,77)"
            ],
            [
             0.3,
             "rgb(244,165,130)"
            ],
            [
             0.4,
             "rgb(253,219,199)"
            ],
            [
             0.5,
             "rgb(247,247,247)"
            ],
            [
             0.6,
             "rgb(209,229,240)"
            ],
            [
             0.7,
             "rgb(146,197,222)"
            ],
            [
             0.8,
             "rgb(67,147,195)"
            ],
            [
             0.9,
             "rgb(33,102,172)"
            ],
            [
             1,
             "rgb(5,48,97)"
            ]
           ],
           "sequential": [
            [
             0,
             "#440154"
            ],
            [
             0.1111111111111111,
             "#482878"
            ],
            [
             0.2222222222222222,
             "#3e4989"
            ],
            [
             0.3333333333333333,
             "#31688e"
            ],
            [
             0.4444444444444444,
             "#26828e"
            ],
            [
             0.5555555555555556,
             "#1f9e89"
            ],
            [
             0.6666666666666666,
             "#35b779"
            ],
            [
             0.7777777777777778,
             "#6ece58"
            ],
            [
             0.8888888888888888,
             "#b5de2b"
            ],
            [
             1,
             "#fde725"
            ]
           ],
           "sequentialminus": [
            [
             0,
             "#440154"
            ],
            [
             0.1111111111111111,
             "#482878"
            ],
            [
             0.2222222222222222,
             "#3e4989"
            ],
            [
             0.3333333333333333,
             "#31688e"
            ],
            [
             0.4444444444444444,
             "#26828e"
            ],
            [
             0.5555555555555556,
             "#1f9e89"
            ],
            [
             0.6666666666666666,
             "#35b779"
            ],
            [
             0.7777777777777778,
             "#6ece58"
            ],
            [
             0.8888888888888888,
             "#b5de2b"
            ],
            [
             1,
             "#fde725"
            ]
           ]
          },
          "colorway": [
           "#1F77B4",
           "#FF7F0E",
           "#2CA02C",
           "#D62728",
           "#9467BD",
           "#8C564B",
           "#E377C2",
           "#7F7F7F",
           "#BCBD22",
           "#17BECF"
          ],
          "font": {
           "color": "rgb(36,36,36)"
          },
          "geo": {
           "bgcolor": "white",
           "lakecolor": "white",
           "landcolor": "white",
           "showlakes": true,
           "showland": true,
           "subunitcolor": "white"
          },
          "hoverlabel": {
           "align": "left"
          },
          "hovermode": "closest",
          "mapbox": {
           "style": "light"
          },
          "paper_bgcolor": "white",
          "plot_bgcolor": "white",
          "polar": {
           "angularaxis": {
            "gridcolor": "rgb(232,232,232)",
            "linecolor": "rgb(36,36,36)",
            "showgrid": false,
            "showline": true,
            "ticks": "outside"
           },
           "bgcolor": "white",
           "radialaxis": {
            "gridcolor": "rgb(232,232,232)",
            "linecolor": "rgb(36,36,36)",
            "showgrid": false,
            "showline": true,
            "ticks": "outside"
           }
          },
          "scene": {
           "xaxis": {
            "backgroundcolor": "white",
            "gridcolor": "rgb(232,232,232)",
            "gridwidth": 2,
            "linecolor": "rgb(36,36,36)",
            "showbackground": true,
            "showgrid": false,
            "showline": true,
            "ticks": "outside",
            "zeroline": false,
            "zerolinecolor": "rgb(36,36,36)"
           },
           "yaxis": {
            "backgroundcolor": "white",
            "gridcolor": "rgb(232,232,232)",
            "gridwidth": 2,
            "linecolor": "rgb(36,36,36)",
            "showbackground": true,
            "showgrid": false,
            "showline": true,
            "ticks": "outside",
            "zeroline": false,
            "zerolinecolor": "rgb(36,36,36)"
           },
           "zaxis": {
            "backgroundcolor": "white",
            "gridcolor": "rgb(232,232,232)",
            "gridwidth": 2,
            "linecolor": "rgb(36,36,36)",
            "showbackground": true,
            "showgrid": false,
            "showline": true,
            "ticks": "outside",
            "zeroline": false,
            "zerolinecolor": "rgb(36,36,36)"
           }
          },
          "shapedefaults": {
           "fillcolor": "black",
           "line": {
            "width": 0
           },
           "opacity": 0.3
          },
          "ternary": {
           "aaxis": {
            "gridcolor": "rgb(232,232,232)",
            "linecolor": "rgb(36,36,36)",
            "showgrid": false,
            "showline": true,
            "ticks": "outside"
           },
           "baxis": {
            "gridcolor": "rgb(232,232,232)",
            "linecolor": "rgb(36,36,36)",
            "showgrid": false,
            "showline": true,
            "ticks": "outside"
           },
           "bgcolor": "white",
           "caxis": {
            "gridcolor": "rgb(232,232,232)",
            "linecolor": "rgb(36,36,36)",
            "showgrid": false,
            "showline": true,
            "ticks": "outside"
           }
          },
          "title": {
           "x": 0.05
          },
          "xaxis": {
           "automargin": true,
           "gridcolor": "rgb(232,232,232)",
           "linecolor": "rgb(36,36,36)",
           "showgrid": false,
           "showline": true,
           "ticks": "outside",
           "title": {
            "standoff": 15
           },
           "zeroline": false,
           "zerolinecolor": "rgb(36,36,36)"
          },
          "yaxis": {
           "automargin": true,
           "gridcolor": "rgb(232,232,232)",
           "linecolor": "rgb(36,36,36)",
           "showgrid": false,
           "showline": true,
           "ticks": "outside",
           "title": {
            "standoff": 15
           },
           "zeroline": false,
           "zerolinecolor": "rgb(36,36,36)"
          }
         }
        },
        "title": {
         "text": "3D PCoA"
        },
        "width": 1000
       }
      }
     },
     "metadata": {},
     "output_type": "display_data"
    }
   ],
   "source": [
    "memo.plot_pcoa_3d(\n",
    "    matrix= memo_qe.filtered_memo_matrix,\n",
    "    df_metadata=df_meta,\n",
    "    metric= 'braycurtis',\n",
    "    filename_col = 'Filename',\n",
    "    group_col='contains',\n",
    "    norm = False,\n",
    "    scaling= False,\n",
    "    pc_to_plot = [1,2,3]\n",
    ")"
   ]
  },
  {
   "cell_type": "code",
   "execution_count": 39,
   "metadata": {},
   "outputs": [
    {
     "data": {
      "application/vnd.plotly.v1+json": {
       "config": {
        "plotlyServerURL": "https://plot.ly"
       },
       "data": [
        {
         "hoverinfo": "text",
         "marker": {
          "color": "rgb(61,153,112)"
         },
         "mode": "lines",
         "showlegend": false,
         "type": "scatter",
         "x": [
          15,
          15,
          25,
          25
         ],
         "xaxis": "x",
         "y": [
          0,
          440.6064003166545,
          440.6064003166545,
          0
         ],
         "yaxis": "y2"
        },
        {
         "hoverinfo": "text",
         "marker": {
          "color": "rgb(61,153,112)"
         },
         "mode": "lines",
         "showlegend": false,
         "type": "scatter",
         "x": [
          35,
          35,
          45,
          45
         ],
         "xaxis": "x",
         "y": [
          0,
          356.750613173965,
          356.750613173965,
          0
         ],
         "yaxis": "y2"
        },
        {
         "hoverinfo": "text",
         "marker": {
          "color": "rgb(61,153,112)"
         },
         "mode": "lines",
         "showlegend": false,
         "type": "scatter",
         "x": [
          65,
          65,
          75,
          75
         ],
         "xaxis": "x",
         "y": [
          0,
          255.01960708933734,
          255.01960708933734,
          0
         ],
         "yaxis": "y2"
        },
        {
         "hoverinfo": "text",
         "marker": {
          "color": "rgb(61,153,112)"
         },
         "mode": "lines",
         "showlegend": false,
         "type": "scatter",
         "x": [
          55,
          55,
          70,
          70
         ],
         "xaxis": "x",
         "y": [
          0,
          482.5525878077953,
          482.5525878077953,
          255.01960708933734
         ],
         "yaxis": "y2"
        },
        {
         "hoverinfo": "text",
         "marker": {
          "color": "rgb(61,153,112)"
         },
         "mode": "lines",
         "showlegend": false,
         "type": "scatter",
         "x": [
          40,
          40,
          62.5,
          62.5
         ],
         "xaxis": "x",
         "y": [
          356.750613173965,
          595.89546063047,
          595.89546063047,
          482.5525878077953
         ],
         "yaxis": "y2"
        },
        {
         "hoverinfo": "text",
         "marker": {
          "color": "rgb(61,153,112)"
         },
         "mode": "lines",
         "showlegend": false,
         "type": "scatter",
         "x": [
          20,
          20,
          51.25,
          51.25
         ],
         "xaxis": "x",
         "y": [
          440.6064003166545,
          934.4071611760811,
          934.4071611760811,
          595.89546063047
         ],
         "yaxis": "y2"
        },
        {
         "hoverinfo": "text",
         "marker": {
          "color": "rgb(61,153,112)"
         },
         "mode": "lines",
         "showlegend": false,
         "type": "scatter",
         "x": [
          5,
          5,
          35.625,
          35.625
         ],
         "xaxis": "x",
         "y": [
          0,
          1493.4916662448632,
          1493.4916662448632,
          934.4071611760811
         ],
         "yaxis": "y2"
        },
        {
         "hoverinfo": "text",
         "marker": {
          "color": "rgb(61,153,112)"
         },
         "mode": "lines",
         "showlegend": false,
         "type": "scatter",
         "x": [
          95,
          95,
          105,
          105
         ],
         "xaxis": "x",
         "y": [
          0,
          510.18428043208075,
          510.18428043208075,
          0
         ],
         "yaxis": "y2"
        },
        {
         "hoverinfo": "text",
         "marker": {
          "color": "rgb(61,153,112)"
         },
         "mode": "lines",
         "showlegend": false,
         "type": "scatter",
         "x": [
          85,
          85,
          100,
          100
         ],
         "xaxis": "x",
         "y": [
          0,
          1574.5589858750925,
          1574.5589858750925,
          510.18428043208075
         ],
         "yaxis": "y2"
        },
        {
         "hoverinfo": "text",
         "marker": {
          "color": "rgb(61,153,112)"
         },
         "mode": "lines",
         "showlegend": false,
         "type": "scatter",
         "x": [
          20.3125,
          20.3125,
          92.5,
          92.5
         ],
         "xaxis": "x",
         "y": [
          1493.4916662448632,
          3412.6254422498387,
          3412.6254422498387,
          1574.5589858750925
         ],
         "yaxis": "y2"
        },
        {
         "hoverinfo": "text",
         "marker": {
          "color": "rgb(255,65,54)"
         },
         "mode": "lines",
         "showlegend": false,
         "type": "scatter",
         "x": [
          135,
          135,
          145,
          145
         ],
         "xaxis": "x",
         "y": [
          0,
          175.11995888533093,
          175.11995888533093,
          0
         ],
         "yaxis": "y2"
        },
        {
         "hoverinfo": "text",
         "marker": {
          "color": "rgb(255,65,54)"
         },
         "mode": "lines",
         "showlegend": false,
         "type": "scatter",
         "x": [
          125,
          125,
          140,
          140
         ],
         "xaxis": "x",
         "y": [
          0,
          265.9843353783577,
          265.9843353783577,
          175.11995888533093
         ],
         "yaxis": "y2"
        },
        {
         "hoverinfo": "text",
         "marker": {
          "color": "rgb(255,65,54)"
         },
         "mode": "lines",
         "showlegend": false,
         "type": "scatter",
         "x": [
          115,
          115,
          132.5,
          132.5
         ],
         "xaxis": "x",
         "y": [
          0,
          383.3416665760889,
          383.3416665760889,
          265.9843353783577
         ],
         "yaxis": "y2"
        },
        {
         "hoverinfo": "text",
         "marker": {
          "color": "rgb(255,65,54)"
         },
         "mode": "lines",
         "showlegend": false,
         "type": "scatter",
         "x": [
          155,
          155,
          165,
          165
         ],
         "xaxis": "x",
         "y": [
          0,
          177.15812146215595,
          177.15812146215595,
          0
         ],
         "yaxis": "y2"
        },
        {
         "hoverinfo": "text",
         "marker": {
          "color": "rgb(255,65,54)"
         },
         "mode": "lines",
         "showlegend": false,
         "type": "scatter",
         "x": [
          175,
          175,
          185,
          185
         ],
         "xaxis": "x",
         "y": [
          0,
          127.9531164137865,
          127.9531164137865,
          0
         ],
         "yaxis": "y2"
        },
        {
         "hoverinfo": "text",
         "marker": {
          "color": "rgb(255,65,54)"
         },
         "mode": "lines",
         "showlegend": false,
         "type": "scatter",
         "x": [
          205,
          205,
          215,
          215
         ],
         "xaxis": "x",
         "y": [
          0,
          146.4445287472359,
          146.4445287472359,
          0
         ],
         "yaxis": "y2"
        },
        {
         "hoverinfo": "text",
         "marker": {
          "color": "rgb(255,65,54)"
         },
         "mode": "lines",
         "showlegend": false,
         "type": "scatter",
         "x": [
          195,
          195,
          210,
          210
         ],
         "xaxis": "x",
         "y": [
          0,
          167.74385234636767,
          167.74385234636767,
          146.4445287472359
         ],
         "yaxis": "y2"
        },
        {
         "hoverinfo": "text",
         "marker": {
          "color": "rgb(255,65,54)"
         },
         "mode": "lines",
         "showlegend": false,
         "type": "scatter",
         "x": [
          180,
          180,
          202.5,
          202.5
         ],
         "xaxis": "x",
         "y": [
          127.9531164137865,
          225.86013371110892,
          225.86013371110892,
          167.74385234636767
         ],
         "yaxis": "y2"
        },
        {
         "hoverinfo": "text",
         "marker": {
          "color": "rgb(255,65,54)"
         },
         "mode": "lines",
         "showlegend": false,
         "type": "scatter",
         "x": [
          160,
          160,
          191.25,
          191.25
         ],
         "xaxis": "x",
         "y": [
          177.15812146215595,
          425.7603953935996,
          425.7603953935996,
          225.86013371110892
         ],
         "yaxis": "y2"
        },
        {
         "hoverinfo": "text",
         "marker": {
          "color": "rgb(255,65,54)"
         },
         "mode": "lines",
         "showlegend": false,
         "type": "scatter",
         "x": [
          123.75,
          123.75,
          175.625,
          175.625
         ],
         "xaxis": "x",
         "y": [
          383.3416665760889,
          745.3758443568246,
          745.3758443568246,
          425.7603953935996
         ],
         "yaxis": "y2"
        },
        {
         "hoverinfo": "text",
         "marker": {
          "color": "rgb(255,65,54)"
         },
         "mode": "lines",
         "showlegend": false,
         "type": "scatter",
         "x": [
          235,
          235,
          245,
          245
         ],
         "xaxis": "x",
         "y": [
          0,
          260.1691757299469,
          260.1691757299469,
          0
         ],
         "yaxis": "y2"
        },
        {
         "hoverinfo": "text",
         "marker": {
          "color": "rgb(255,65,54)"
         },
         "mode": "lines",
         "showlegend": false,
         "type": "scatter",
         "x": [
          225,
          225,
          240,
          240
         ],
         "xaxis": "x",
         "y": [
          0,
          421.71396309188844,
          421.71396309188844,
          260.1691757299469
         ],
         "yaxis": "y2"
        },
        {
         "hoverinfo": "text",
         "marker": {
          "color": "rgb(255,65,54)"
         },
         "mode": "lines",
         "showlegend": false,
         "type": "scatter",
         "x": [
          265,
          265,
          275,
          275
         ],
         "xaxis": "x",
         "y": [
          0,
          244.0450778032616,
          244.0450778032616,
          0
         ],
         "yaxis": "y2"
        },
        {
         "hoverinfo": "text",
         "marker": {
          "color": "rgb(255,65,54)"
         },
         "mode": "lines",
         "showlegend": false,
         "type": "scatter",
         "x": [
          255,
          255,
          270,
          270
         ],
         "xaxis": "x",
         "y": [
          0,
          305.66757542576653,
          305.66757542576653,
          244.0450778032616
         ],
         "yaxis": "y2"
        },
        {
         "hoverinfo": "text",
         "marker": {
          "color": "rgb(255,65,54)"
         },
         "mode": "lines",
         "showlegend": false,
         "type": "scatter",
         "x": [
          305,
          305,
          315,
          315
         ],
         "xaxis": "x",
         "y": [
          0,
          207.17384004743457,
          207.17384004743457,
          0
         ],
         "yaxis": "y2"
        },
        {
         "hoverinfo": "text",
         "marker": {
          "color": "rgb(255,65,54)"
         },
         "mode": "lines",
         "showlegend": false,
         "type": "scatter",
         "x": [
          295,
          295,
          310,
          310
         ],
         "xaxis": "x",
         "y": [
          0,
          255.8235068688307,
          255.8235068688307,
          207.17384004743457
         ],
         "yaxis": "y2"
        },
        {
         "hoverinfo": "text",
         "marker": {
          "color": "rgb(255,65,54)"
         },
         "mode": "lines",
         "showlegend": false,
         "type": "scatter",
         "x": [
          285,
          285,
          302.5,
          302.5
         ],
         "xaxis": "x",
         "y": [
          0,
          486.25387744812207,
          486.25387744812207,
          255.8235068688307
         ],
         "yaxis": "y2"
        },
        {
         "hoverinfo": "text",
         "marker": {
          "color": "rgb(255,65,54)"
         },
         "mode": "lines",
         "showlegend": false,
         "type": "scatter",
         "x": [
          262.5,
          262.5,
          293.75,
          293.75
         ],
         "xaxis": "x",
         "y": [
          305.66757542576653,
          597.3042815533006,
          597.3042815533006,
          486.25387744812207
         ],
         "yaxis": "y2"
        },
        {
         "hoverinfo": "text",
         "marker": {
          "color": "rgb(255,65,54)"
         },
         "mode": "lines",
         "showlegend": false,
         "type": "scatter",
         "x": [
          232.5,
          232.5,
          278.125,
          278.125
         ],
         "xaxis": "x",
         "y": [
          421.71396309188844,
          976.488075659279,
          976.488075659279,
          597.3042815533006
         ],
         "yaxis": "y2"
        },
        {
         "hoverinfo": "text",
         "marker": {
          "color": "rgb(255,65,54)"
         },
         "mode": "lines",
         "showlegend": false,
         "type": "scatter",
         "x": [
          149.6875,
          149.6875,
          255.3125,
          255.3125
         ],
         "xaxis": "x",
         "y": [
          745.3758443568246,
          2194.9976045505573,
          2194.9976045505573,
          976.488075659279
         ],
         "yaxis": "y2"
        },
        {
         "hoverinfo": "text",
         "marker": {
          "color": "rgb(255,65,54)"
         },
         "mode": "lines",
         "showlegend": false,
         "type": "scatter",
         "x": [
          335,
          335,
          345,
          345
         ],
         "xaxis": "x",
         "y": [
          0,
          163.03680566056244,
          163.03680566056244,
          0
         ],
         "yaxis": "y2"
        },
        {
         "hoverinfo": "text",
         "marker": {
          "color": "rgb(255,65,54)"
         },
         "mode": "lines",
         "showlegend": false,
         "type": "scatter",
         "x": [
          325,
          325,
          340,
          340
         ],
         "xaxis": "x",
         "y": [
          0,
          208.2858612580316,
          208.2858612580316,
          163.03680566056244
         ],
         "yaxis": "y2"
        },
        {
         "hoverinfo": "text",
         "marker": {
          "color": "rgb(255,65,54)"
         },
         "mode": "lines",
         "showlegend": false,
         "type": "scatter",
         "x": [
          375,
          375,
          385,
          385
         ],
         "xaxis": "x",
         "y": [
          0,
          186.46983670288338,
          186.46983670288338,
          0
         ],
         "yaxis": "y2"
        },
        {
         "hoverinfo": "text",
         "marker": {
          "color": "rgb(255,65,54)"
         },
         "mode": "lines",
         "showlegend": false,
         "type": "scatter",
         "x": [
          365,
          365,
          380,
          380
         ],
         "xaxis": "x",
         "y": [
          0,
          206.5744417879424,
          206.5744417879424,
          186.46983670288338
         ],
         "yaxis": "y2"
        },
        {
         "hoverinfo": "text",
         "marker": {
          "color": "rgb(255,65,54)"
         },
         "mode": "lines",
         "showlegend": false,
         "type": "scatter",
         "x": [
          355,
          355,
          372.5,
          372.5
         ],
         "xaxis": "x",
         "y": [
          0,
          256.00292967073636,
          256.00292967073636,
          206.5744417879424
         ],
         "yaxis": "y2"
        },
        {
         "hoverinfo": "text",
         "marker": {
          "color": "rgb(255,65,54)"
         },
         "mode": "lines",
         "showlegend": false,
         "type": "scatter",
         "x": [
          332.5,
          332.5,
          363.75,
          363.75
         ],
         "xaxis": "x",
         "y": [
          208.2858612580316,
          311.06671310186823,
          311.06671310186823,
          256.00292967073636
         ],
         "yaxis": "y2"
        },
        {
         "hoverinfo": "text",
         "marker": {
          "color": "rgb(255,65,54)"
         },
         "mode": "lines",
         "showlegend": false,
         "type": "scatter",
         "x": [
          405,
          405,
          415,
          415
         ],
         "xaxis": "x",
         "y": [
          0,
          134.24231821597837,
          134.24231821597837,
          0
         ],
         "yaxis": "y2"
        },
        {
         "hoverinfo": "text",
         "marker": {
          "color": "rgb(255,65,54)"
         },
         "mode": "lines",
         "showlegend": false,
         "type": "scatter",
         "x": [
          395,
          395,
          410,
          410
         ],
         "xaxis": "x",
         "y": [
          0,
          147.78024225179766,
          147.78024225179766,
          134.24231821597837
         ],
         "yaxis": "y2"
        },
        {
         "hoverinfo": "text",
         "marker": {
          "color": "rgb(255,65,54)"
         },
         "mode": "lines",
         "showlegend": false,
         "type": "scatter",
         "x": [
          435,
          435,
          445,
          445
         ],
         "xaxis": "x",
         "y": [
          0,
          124.97199686329733,
          124.97199686329733,
          0
         ],
         "yaxis": "y2"
        },
        {
         "hoverinfo": "text",
         "marker": {
          "color": "rgb(255,65,54)"
         },
         "mode": "lines",
         "showlegend": false,
         "type": "scatter",
         "x": [
          425,
          425,
          440,
          440
         ],
         "xaxis": "x",
         "y": [
          0,
          192.21689138401268,
          192.21689138401268,
          124.97199686329733
         ],
         "yaxis": "y2"
        },
        {
         "hoverinfo": "text",
         "marker": {
          "color": "rgb(255,65,54)"
         },
         "mode": "lines",
         "showlegend": false,
         "type": "scatter",
         "x": [
          455,
          455,
          465,
          465
         ],
         "xaxis": "x",
         "y": [
          0,
          214.5413713016676,
          214.5413713016676,
          0
         ],
         "yaxis": "y2"
        },
        {
         "hoverinfo": "text",
         "marker": {
          "color": "rgb(255,65,54)"
         },
         "mode": "lines",
         "showlegend": false,
         "type": "scatter",
         "x": [
          432.5,
          432.5,
          460,
          460
         ],
         "xaxis": "x",
         "y": [
          192.21689138401268,
          334.32000638111185,
          334.32000638111185,
          214.5413713016676
         ],
         "yaxis": "y2"
        },
        {
         "hoverinfo": "text",
         "marker": {
          "color": "rgb(255,65,54)"
         },
         "mode": "lines",
         "showlegend": false,
         "type": "scatter",
         "x": [
          402.5,
          402.5,
          446.25,
          446.25
         ],
         "xaxis": "x",
         "y": [
          147.78024225179766,
          603.1623330414457,
          603.1623330414457,
          334.32000638111185
         ],
         "yaxis": "y2"
        },
        {
         "hoverinfo": "text",
         "marker": {
          "color": "rgb(255,65,54)"
         },
         "mode": "lines",
         "showlegend": false,
         "type": "scatter",
         "x": [
          348.125,
          348.125,
          424.375,
          424.375
         ],
         "xaxis": "x",
         "y": [
          311.06671310186823,
          937.9320515545534,
          937.9320515545534,
          603.1623330414457
         ],
         "yaxis": "y2"
        },
        {
         "hoverinfo": "text",
         "marker": {
          "color": "rgb(255,65,54)"
         },
         "mode": "lines",
         "showlegend": false,
         "type": "scatter",
         "x": [
          485,
          485,
          495,
          495
         ],
         "xaxis": "x",
         "y": [
          0,
          397.6996354034034,
          397.6996354034034,
          0
         ],
         "yaxis": "y2"
        },
        {
         "hoverinfo": "text",
         "marker": {
          "color": "rgb(255,65,54)"
         },
         "mode": "lines",
         "showlegend": false,
         "type": "scatter",
         "x": [
          475,
          475,
          490,
          490
         ],
         "xaxis": "x",
         "y": [
          0,
          423.33162729315023,
          423.33162729315023,
          397.6996354034034
         ],
         "yaxis": "y2"
        },
        {
         "hoverinfo": "text",
         "marker": {
          "color": "rgb(255,65,54)"
         },
         "mode": "lines",
         "showlegend": false,
         "type": "scatter",
         "x": [
          515,
          515,
          525,
          525
         ],
         "xaxis": "x",
         "y": [
          0,
          218.58865478336244,
          218.58865478336244,
          0
         ],
         "yaxis": "y2"
        },
        {
         "hoverinfo": "text",
         "marker": {
          "color": "rgb(255,65,54)"
         },
         "mode": "lines",
         "showlegend": false,
         "type": "scatter",
         "x": [
          505,
          505,
          520,
          520
         ],
         "xaxis": "x",
         "y": [
          0,
          293.02388981105275,
          293.02388981105275,
          218.58865478336244
         ],
         "yaxis": "y2"
        },
        {
         "hoverinfo": "text",
         "marker": {
          "color": "rgb(255,65,54)"
         },
         "mode": "lines",
         "showlegend": false,
         "type": "scatter",
         "x": [
          545,
          545,
          555,
          555
         ],
         "xaxis": "x",
         "y": [
          0,
          272.55458168961314,
          272.55458168961314,
          0
         ],
         "yaxis": "y2"
        },
        {
         "hoverinfo": "text",
         "marker": {
          "color": "rgb(255,65,54)"
         },
         "mode": "lines",
         "showlegend": false,
         "type": "scatter",
         "x": [
          535,
          535,
          550,
          550
         ],
         "xaxis": "x",
         "y": [
          0,
          511.47694636871626,
          511.47694636871626,
          272.55458168961314
         ],
         "yaxis": "y2"
        },
        {
         "hoverinfo": "text",
         "marker": {
          "color": "rgb(255,65,54)"
         },
         "mode": "lines",
         "showlegend": false,
         "type": "scatter",
         "x": [
          512.5,
          512.5,
          542.5,
          542.5
         ],
         "xaxis": "x",
         "y": [
          293.02388981105275,
          842.2909236125008,
          842.2909236125008,
          511.47694636871626
         ],
         "yaxis": "y2"
        },
        {
         "hoverinfo": "text",
         "marker": {
          "color": "rgb(255,65,54)"
         },
         "mode": "lines",
         "showlegend": false,
         "type": "scatter",
         "x": [
          482.5,
          482.5,
          527.5,
          527.5
         ],
         "xaxis": "x",
         "y": [
          423.33162729315023,
          1304.6464825555022,
          1304.6464825555022,
          842.2909236125008
         ],
         "yaxis": "y2"
        },
        {
         "hoverinfo": "text",
         "marker": {
          "color": "rgb(255,65,54)"
         },
         "mode": "lines",
         "showlegend": false,
         "type": "scatter",
         "x": [
          386.25,
          386.25,
          505,
          505
         ],
         "xaxis": "x",
         "y": [
          937.9320515545534,
          3183.2941960944936,
          3183.2941960944936,
          1304.6464825555022
         ],
         "yaxis": "y2"
        },
        {
         "hoverinfo": "text",
         "marker": {
          "color": "rgb(255,65,54)"
         },
         "mode": "lines",
         "showlegend": false,
         "type": "scatter",
         "x": [
          202.5,
          202.5,
          445.625,
          445.625
         ],
         "xaxis": "x",
         "y": [
          2194.9976045505573,
          6888.362359172887,
          6888.362359172887,
          3183.2941960944936
         ],
         "yaxis": "y2"
        },
        {
         "hoverinfo": "text",
         "marker": {
          "color": "rgb(0,116,217)"
         },
         "mode": "lines",
         "showlegend": false,
         "type": "scatter",
         "x": [
          56.40625,
          56.40625,
          324.0625,
          324.0625
         ],
         "xaxis": "x",
         "y": [
          3412.6254422498387,
          12135.49398231804,
          12135.49398231804,
          6888.362359172887
         ],
         "yaxis": "y2"
        },
        {
         "hoverinfo": "text",
         "marker": {
          "color": "rgb(61,153,112)"
         },
         "mode": "lines",
         "showlegend": false,
         "type": "scatter",
         "x": [
          0,
          -440.6064003166545,
          -440.6064003166545,
          0
         ],
         "xaxis": "x2",
         "y": [
          15,
          15,
          25,
          25
         ],
         "yaxis": "y"
        },
        {
         "hoverinfo": "text",
         "marker": {
          "color": "rgb(61,153,112)"
         },
         "mode": "lines",
         "showlegend": false,
         "type": "scatter",
         "x": [
          0,
          -356.750613173965,
          -356.750613173965,
          0
         ],
         "xaxis": "x2",
         "y": [
          35,
          35,
          45,
          45
         ],
         "yaxis": "y"
        },
        {
         "hoverinfo": "text",
         "marker": {
          "color": "rgb(61,153,112)"
         },
         "mode": "lines",
         "showlegend": false,
         "type": "scatter",
         "x": [
          0,
          -255.01960708933734,
          -255.01960708933734,
          0
         ],
         "xaxis": "x2",
         "y": [
          65,
          65,
          75,
          75
         ],
         "yaxis": "y"
        },
        {
         "hoverinfo": "text",
         "marker": {
          "color": "rgb(61,153,112)"
         },
         "mode": "lines",
         "showlegend": false,
         "type": "scatter",
         "x": [
          0,
          -482.5525878077953,
          -482.5525878077953,
          -255.01960708933734
         ],
         "xaxis": "x2",
         "y": [
          55,
          55,
          70,
          70
         ],
         "yaxis": "y"
        },
        {
         "hoverinfo": "text",
         "marker": {
          "color": "rgb(61,153,112)"
         },
         "mode": "lines",
         "showlegend": false,
         "type": "scatter",
         "x": [
          -356.750613173965,
          -595.89546063047,
          -595.89546063047,
          -482.5525878077953
         ],
         "xaxis": "x2",
         "y": [
          40,
          40,
          62.5,
          62.5
         ],
         "yaxis": "y"
        },
        {
         "hoverinfo": "text",
         "marker": {
          "color": "rgb(61,153,112)"
         },
         "mode": "lines",
         "showlegend": false,
         "type": "scatter",
         "x": [
          -440.6064003166545,
          -934.4071611760811,
          -934.4071611760811,
          -595.89546063047
         ],
         "xaxis": "x2",
         "y": [
          20,
          20,
          51.25,
          51.25
         ],
         "yaxis": "y"
        },
        {
         "hoverinfo": "text",
         "marker": {
          "color": "rgb(61,153,112)"
         },
         "mode": "lines",
         "showlegend": false,
         "type": "scatter",
         "x": [
          0,
          -1493.4916662448632,
          -1493.4916662448632,
          -934.4071611760811
         ],
         "xaxis": "x2",
         "y": [
          5,
          5,
          35.625,
          35.625
         ],
         "yaxis": "y"
        },
        {
         "hoverinfo": "text",
         "marker": {
          "color": "rgb(61,153,112)"
         },
         "mode": "lines",
         "showlegend": false,
         "type": "scatter",
         "x": [
          0,
          -510.18428043208075,
          -510.18428043208075,
          0
         ],
         "xaxis": "x2",
         "y": [
          95,
          95,
          105,
          105
         ],
         "yaxis": "y"
        },
        {
         "hoverinfo": "text",
         "marker": {
          "color": "rgb(61,153,112)"
         },
         "mode": "lines",
         "showlegend": false,
         "type": "scatter",
         "x": [
          0,
          -1574.5589858750925,
          -1574.5589858750925,
          -510.18428043208075
         ],
         "xaxis": "x2",
         "y": [
          85,
          85,
          100,
          100
         ],
         "yaxis": "y"
        },
        {
         "hoverinfo": "text",
         "marker": {
          "color": "rgb(61,153,112)"
         },
         "mode": "lines",
         "showlegend": false,
         "type": "scatter",
         "x": [
          -1493.4916662448632,
          -3412.6254422498387,
          -3412.6254422498387,
          -1574.5589858750925
         ],
         "xaxis": "x2",
         "y": [
          20.3125,
          20.3125,
          92.5,
          92.5
         ],
         "yaxis": "y"
        },
        {
         "hoverinfo": "text",
         "marker": {
          "color": "rgb(255,65,54)"
         },
         "mode": "lines",
         "showlegend": false,
         "type": "scatter",
         "x": [
          0,
          -175.11995888533093,
          -175.11995888533093,
          0
         ],
         "xaxis": "x2",
         "y": [
          135,
          135,
          145,
          145
         ],
         "yaxis": "y"
        },
        {
         "hoverinfo": "text",
         "marker": {
          "color": "rgb(255,65,54)"
         },
         "mode": "lines",
         "showlegend": false,
         "type": "scatter",
         "x": [
          0,
          -265.9843353783577,
          -265.9843353783577,
          -175.11995888533093
         ],
         "xaxis": "x2",
         "y": [
          125,
          125,
          140,
          140
         ],
         "yaxis": "y"
        },
        {
         "hoverinfo": "text",
         "marker": {
          "color": "rgb(255,65,54)"
         },
         "mode": "lines",
         "showlegend": false,
         "type": "scatter",
         "x": [
          0,
          -383.3416665760889,
          -383.3416665760889,
          -265.9843353783577
         ],
         "xaxis": "x2",
         "y": [
          115,
          115,
          132.5,
          132.5
         ],
         "yaxis": "y"
        },
        {
         "hoverinfo": "text",
         "marker": {
          "color": "rgb(255,65,54)"
         },
         "mode": "lines",
         "showlegend": false,
         "type": "scatter",
         "x": [
          0,
          -177.15812146215595,
          -177.15812146215595,
          0
         ],
         "xaxis": "x2",
         "y": [
          155,
          155,
          165,
          165
         ],
         "yaxis": "y"
        },
        {
         "hoverinfo": "text",
         "marker": {
          "color": "rgb(255,65,54)"
         },
         "mode": "lines",
         "showlegend": false,
         "type": "scatter",
         "x": [
          0,
          -127.9531164137865,
          -127.9531164137865,
          0
         ],
         "xaxis": "x2",
         "y": [
          175,
          175,
          185,
          185
         ],
         "yaxis": "y"
        },
        {
         "hoverinfo": "text",
         "marker": {
          "color": "rgb(255,65,54)"
         },
         "mode": "lines",
         "showlegend": false,
         "type": "scatter",
         "x": [
          0,
          -146.4445287472359,
          -146.4445287472359,
          0
         ],
         "xaxis": "x2",
         "y": [
          205,
          205,
          215,
          215
         ],
         "yaxis": "y"
        },
        {
         "hoverinfo": "text",
         "marker": {
          "color": "rgb(255,65,54)"
         },
         "mode": "lines",
         "showlegend": false,
         "type": "scatter",
         "x": [
          0,
          -167.74385234636767,
          -167.74385234636767,
          -146.4445287472359
         ],
         "xaxis": "x2",
         "y": [
          195,
          195,
          210,
          210
         ],
         "yaxis": "y"
        },
        {
         "hoverinfo": "text",
         "marker": {
          "color": "rgb(255,65,54)"
         },
         "mode": "lines",
         "showlegend": false,
         "type": "scatter",
         "x": [
          -127.9531164137865,
          -225.86013371110892,
          -225.86013371110892,
          -167.74385234636767
         ],
         "xaxis": "x2",
         "y": [
          180,
          180,
          202.5,
          202.5
         ],
         "yaxis": "y"
        },
        {
         "hoverinfo": "text",
         "marker": {
          "color": "rgb(255,65,54)"
         },
         "mode": "lines",
         "showlegend": false,
         "type": "scatter",
         "x": [
          -177.15812146215595,
          -425.7603953935996,
          -425.7603953935996,
          -225.86013371110892
         ],
         "xaxis": "x2",
         "y": [
          160,
          160,
          191.25,
          191.25
         ],
         "yaxis": "y"
        },
        {
         "hoverinfo": "text",
         "marker": {
          "color": "rgb(255,65,54)"
         },
         "mode": "lines",
         "showlegend": false,
         "type": "scatter",
         "x": [
          -383.3416665760889,
          -745.3758443568246,
          -745.3758443568246,
          -425.7603953935996
         ],
         "xaxis": "x2",
         "y": [
          123.75,
          123.75,
          175.625,
          175.625
         ],
         "yaxis": "y"
        },
        {
         "hoverinfo": "text",
         "marker": {
          "color": "rgb(255,65,54)"
         },
         "mode": "lines",
         "showlegend": false,
         "type": "scatter",
         "x": [
          0,
          -260.1691757299469,
          -260.1691757299469,
          0
         ],
         "xaxis": "x2",
         "y": [
          235,
          235,
          245,
          245
         ],
         "yaxis": "y"
        },
        {
         "hoverinfo": "text",
         "marker": {
          "color": "rgb(255,65,54)"
         },
         "mode": "lines",
         "showlegend": false,
         "type": "scatter",
         "x": [
          0,
          -421.71396309188844,
          -421.71396309188844,
          -260.1691757299469
         ],
         "xaxis": "x2",
         "y": [
          225,
          225,
          240,
          240
         ],
         "yaxis": "y"
        },
        {
         "hoverinfo": "text",
         "marker": {
          "color": "rgb(255,65,54)"
         },
         "mode": "lines",
         "showlegend": false,
         "type": "scatter",
         "x": [
          0,
          -244.0450778032616,
          -244.0450778032616,
          0
         ],
         "xaxis": "x2",
         "y": [
          265,
          265,
          275,
          275
         ],
         "yaxis": "y"
        },
        {
         "hoverinfo": "text",
         "marker": {
          "color": "rgb(255,65,54)"
         },
         "mode": "lines",
         "showlegend": false,
         "type": "scatter",
         "x": [
          0,
          -305.66757542576653,
          -305.66757542576653,
          -244.0450778032616
         ],
         "xaxis": "x2",
         "y": [
          255,
          255,
          270,
          270
         ],
         "yaxis": "y"
        },
        {
         "hoverinfo": "text",
         "marker": {
          "color": "rgb(255,65,54)"
         },
         "mode": "lines",
         "showlegend": false,
         "type": "scatter",
         "x": [
          0,
          -207.17384004743457,
          -207.17384004743457,
          0
         ],
         "xaxis": "x2",
         "y": [
          305,
          305,
          315,
          315
         ],
         "yaxis": "y"
        },
        {
         "hoverinfo": "text",
         "marker": {
          "color": "rgb(255,65,54)"
         },
         "mode": "lines",
         "showlegend": false,
         "type": "scatter",
         "x": [
          0,
          -255.8235068688307,
          -255.8235068688307,
          -207.17384004743457
         ],
         "xaxis": "x2",
         "y": [
          295,
          295,
          310,
          310
         ],
         "yaxis": "y"
        },
        {
         "hoverinfo": "text",
         "marker": {
          "color": "rgb(255,65,54)"
         },
         "mode": "lines",
         "showlegend": false,
         "type": "scatter",
         "x": [
          0,
          -486.25387744812207,
          -486.25387744812207,
          -255.8235068688307
         ],
         "xaxis": "x2",
         "y": [
          285,
          285,
          302.5,
          302.5
         ],
         "yaxis": "y"
        },
        {
         "hoverinfo": "text",
         "marker": {
          "color": "rgb(255,65,54)"
         },
         "mode": "lines",
         "showlegend": false,
         "type": "scatter",
         "x": [
          -305.66757542576653,
          -597.3042815533006,
          -597.3042815533006,
          -486.25387744812207
         ],
         "xaxis": "x2",
         "y": [
          262.5,
          262.5,
          293.75,
          293.75
         ],
         "yaxis": "y"
        },
        {
         "hoverinfo": "text",
         "marker": {
          "color": "rgb(255,65,54)"
         },
         "mode": "lines",
         "showlegend": false,
         "type": "scatter",
         "x": [
          -421.71396309188844,
          -976.488075659279,
          -976.488075659279,
          -597.3042815533006
         ],
         "xaxis": "x2",
         "y": [
          232.5,
          232.5,
          278.125,
          278.125
         ],
         "yaxis": "y"
        },
        {
         "hoverinfo": "text",
         "marker": {
          "color": "rgb(255,65,54)"
         },
         "mode": "lines",
         "showlegend": false,
         "type": "scatter",
         "x": [
          -745.3758443568246,
          -2194.9976045505573,
          -2194.9976045505573,
          -976.488075659279
         ],
         "xaxis": "x2",
         "y": [
          149.6875,
          149.6875,
          255.3125,
          255.3125
         ],
         "yaxis": "y"
        },
        {
         "hoverinfo": "text",
         "marker": {
          "color": "rgb(255,65,54)"
         },
         "mode": "lines",
         "showlegend": false,
         "type": "scatter",
         "x": [
          0,
          -163.03680566056244,
          -163.03680566056244,
          0
         ],
         "xaxis": "x2",
         "y": [
          335,
          335,
          345,
          345
         ],
         "yaxis": "y"
        },
        {
         "hoverinfo": "text",
         "marker": {
          "color": "rgb(255,65,54)"
         },
         "mode": "lines",
         "showlegend": false,
         "type": "scatter",
         "x": [
          0,
          -208.2858612580316,
          -208.2858612580316,
          -163.03680566056244
         ],
         "xaxis": "x2",
         "y": [
          325,
          325,
          340,
          340
         ],
         "yaxis": "y"
        },
        {
         "hoverinfo": "text",
         "marker": {
          "color": "rgb(255,65,54)"
         },
         "mode": "lines",
         "showlegend": false,
         "type": "scatter",
         "x": [
          0,
          -186.46983670288338,
          -186.46983670288338,
          0
         ],
         "xaxis": "x2",
         "y": [
          375,
          375,
          385,
          385
         ],
         "yaxis": "y"
        },
        {
         "hoverinfo": "text",
         "marker": {
          "color": "rgb(255,65,54)"
         },
         "mode": "lines",
         "showlegend": false,
         "type": "scatter",
         "x": [
          0,
          -206.5744417879424,
          -206.5744417879424,
          -186.46983670288338
         ],
         "xaxis": "x2",
         "y": [
          365,
          365,
          380,
          380
         ],
         "yaxis": "y"
        },
        {
         "hoverinfo": "text",
         "marker": {
          "color": "rgb(255,65,54)"
         },
         "mode": "lines",
         "showlegend": false,
         "type": "scatter",
         "x": [
          0,
          -256.00292967073636,
          -256.00292967073636,
          -206.5744417879424
         ],
         "xaxis": "x2",
         "y": [
          355,
          355,
          372.5,
          372.5
         ],
         "yaxis": "y"
        },
        {
         "hoverinfo": "text",
         "marker": {
          "color": "rgb(255,65,54)"
         },
         "mode": "lines",
         "showlegend": false,
         "type": "scatter",
         "x": [
          -208.2858612580316,
          -311.06671310186823,
          -311.06671310186823,
          -256.00292967073636
         ],
         "xaxis": "x2",
         "y": [
          332.5,
          332.5,
          363.75,
          363.75
         ],
         "yaxis": "y"
        },
        {
         "hoverinfo": "text",
         "marker": {
          "color": "rgb(255,65,54)"
         },
         "mode": "lines",
         "showlegend": false,
         "type": "scatter",
         "x": [
          0,
          -134.24231821597837,
          -134.24231821597837,
          0
         ],
         "xaxis": "x2",
         "y": [
          405,
          405,
          415,
          415
         ],
         "yaxis": "y"
        },
        {
         "hoverinfo": "text",
         "marker": {
          "color": "rgb(255,65,54)"
         },
         "mode": "lines",
         "showlegend": false,
         "type": "scatter",
         "x": [
          0,
          -147.78024225179766,
          -147.78024225179766,
          -134.24231821597837
         ],
         "xaxis": "x2",
         "y": [
          395,
          395,
          410,
          410
         ],
         "yaxis": "y"
        },
        {
         "hoverinfo": "text",
         "marker": {
          "color": "rgb(255,65,54)"
         },
         "mode": "lines",
         "showlegend": false,
         "type": "scatter",
         "x": [
          0,
          -124.97199686329733,
          -124.97199686329733,
          0
         ],
         "xaxis": "x2",
         "y": [
          435,
          435,
          445,
          445
         ],
         "yaxis": "y"
        },
        {
         "hoverinfo": "text",
         "marker": {
          "color": "rgb(255,65,54)"
         },
         "mode": "lines",
         "showlegend": false,
         "type": "scatter",
         "x": [
          0,
          -192.21689138401268,
          -192.21689138401268,
          -124.97199686329733
         ],
         "xaxis": "x2",
         "y": [
          425,
          425,
          440,
          440
         ],
         "yaxis": "y"
        },
        {
         "hoverinfo": "text",
         "marker": {
          "color": "rgb(255,65,54)"
         },
         "mode": "lines",
         "showlegend": false,
         "type": "scatter",
         "x": [
          0,
          -214.5413713016676,
          -214.5413713016676,
          0
         ],
         "xaxis": "x2",
         "y": [
          455,
          455,
          465,
          465
         ],
         "yaxis": "y"
        },
        {
         "hoverinfo": "text",
         "marker": {
          "color": "rgb(255,65,54)"
         },
         "mode": "lines",
         "showlegend": false,
         "type": "scatter",
         "x": [
          -192.21689138401268,
          -334.32000638111185,
          -334.32000638111185,
          -214.5413713016676
         ],
         "xaxis": "x2",
         "y": [
          432.5,
          432.5,
          460,
          460
         ],
         "yaxis": "y"
        },
        {
         "hoverinfo": "text",
         "marker": {
          "color": "rgb(255,65,54)"
         },
         "mode": "lines",
         "showlegend": false,
         "type": "scatter",
         "x": [
          -147.78024225179766,
          -603.1623330414457,
          -603.1623330414457,
          -334.32000638111185
         ],
         "xaxis": "x2",
         "y": [
          402.5,
          402.5,
          446.25,
          446.25
         ],
         "yaxis": "y"
        },
        {
         "hoverinfo": "text",
         "marker": {
          "color": "rgb(255,65,54)"
         },
         "mode": "lines",
         "showlegend": false,
         "type": "scatter",
         "x": [
          -311.06671310186823,
          -937.9320515545534,
          -937.9320515545534,
          -603.1623330414457
         ],
         "xaxis": "x2",
         "y": [
          348.125,
          348.125,
          424.375,
          424.375
         ],
         "yaxis": "y"
        },
        {
         "hoverinfo": "text",
         "marker": {
          "color": "rgb(255,65,54)"
         },
         "mode": "lines",
         "showlegend": false,
         "type": "scatter",
         "x": [
          0,
          -397.6996354034034,
          -397.6996354034034,
          0
         ],
         "xaxis": "x2",
         "y": [
          485,
          485,
          495,
          495
         ],
         "yaxis": "y"
        },
        {
         "hoverinfo": "text",
         "marker": {
          "color": "rgb(255,65,54)"
         },
         "mode": "lines",
         "showlegend": false,
         "type": "scatter",
         "x": [
          0,
          -423.33162729315023,
          -423.33162729315023,
          -397.6996354034034
         ],
         "xaxis": "x2",
         "y": [
          475,
          475,
          490,
          490
         ],
         "yaxis": "y"
        },
        {
         "hoverinfo": "text",
         "marker": {
          "color": "rgb(255,65,54)"
         },
         "mode": "lines",
         "showlegend": false,
         "type": "scatter",
         "x": [
          0,
          -218.58865478336244,
          -218.58865478336244,
          0
         ],
         "xaxis": "x2",
         "y": [
          515,
          515,
          525,
          525
         ],
         "yaxis": "y"
        },
        {
         "hoverinfo": "text",
         "marker": {
          "color": "rgb(255,65,54)"
         },
         "mode": "lines",
         "showlegend": false,
         "type": "scatter",
         "x": [
          0,
          -293.02388981105275,
          -293.02388981105275,
          -218.58865478336244
         ],
         "xaxis": "x2",
         "y": [
          505,
          505,
          520,
          520
         ],
         "yaxis": "y"
        },
        {
         "hoverinfo": "text",
         "marker": {
          "color": "rgb(255,65,54)"
         },
         "mode": "lines",
         "showlegend": false,
         "type": "scatter",
         "x": [
          0,
          -272.55458168961314,
          -272.55458168961314,
          0
         ],
         "xaxis": "x2",
         "y": [
          545,
          545,
          555,
          555
         ],
         "yaxis": "y"
        },
        {
         "hoverinfo": "text",
         "marker": {
          "color": "rgb(255,65,54)"
         },
         "mode": "lines",
         "showlegend": false,
         "type": "scatter",
         "x": [
          0,
          -511.47694636871626,
          -511.47694636871626,
          -272.55458168961314
         ],
         "xaxis": "x2",
         "y": [
          535,
          535,
          550,
          550
         ],
         "yaxis": "y"
        },
        {
         "hoverinfo": "text",
         "marker": {
          "color": "rgb(255,65,54)"
         },
         "mode": "lines",
         "showlegend": false,
         "type": "scatter",
         "x": [
          -293.02388981105275,
          -842.2909236125008,
          -842.2909236125008,
          -511.47694636871626
         ],
         "xaxis": "x2",
         "y": [
          512.5,
          512.5,
          542.5,
          542.5
         ],
         "yaxis": "y"
        },
        {
         "hoverinfo": "text",
         "marker": {
          "color": "rgb(255,65,54)"
         },
         "mode": "lines",
         "showlegend": false,
         "type": "scatter",
         "x": [
          -423.33162729315023,
          -1304.6464825555022,
          -1304.6464825555022,
          -842.2909236125008
         ],
         "xaxis": "x2",
         "y": [
          482.5,
          482.5,
          527.5,
          527.5
         ],
         "yaxis": "y"
        },
        {
         "hoverinfo": "text",
         "marker": {
          "color": "rgb(255,65,54)"
         },
         "mode": "lines",
         "showlegend": false,
         "type": "scatter",
         "x": [
          -937.9320515545534,
          -3183.2941960944936,
          -3183.2941960944936,
          -1304.6464825555022
         ],
         "xaxis": "x2",
         "y": [
          386.25,
          386.25,
          505,
          505
         ],
         "yaxis": "y"
        },
        {
         "hoverinfo": "text",
         "marker": {
          "color": "rgb(255,65,54)"
         },
         "mode": "lines",
         "showlegend": false,
         "type": "scatter",
         "x": [
          -2194.9976045505573,
          -6888.362359172887,
          -6888.362359172887,
          -3183.2941960944936
         ],
         "xaxis": "x2",
         "y": [
          202.5,
          202.5,
          445.625,
          445.625
         ],
         "yaxis": "y"
        },
        {
         "hoverinfo": "text",
         "marker": {
          "color": "rgb(0,116,217)"
         },
         "mode": "lines",
         "showlegend": false,
         "type": "scatter",
         "x": [
          -3412.6254422498387,
          -12135.49398231804,
          -12135.49398231804,
          -6888.362359172887
         ],
         "xaxis": "x2",
         "y": [
          56.40625,
          56.40625,
          324.0625,
          324.0625
         ],
         "yaxis": "y"
        },
        {
         "colorbar": {
          "len": 0.4,
          "title": {
           "text": "Distance"
          },
          "y": 0.2,
          "ypad": 5
         },
         "colorscale": [
          [
           0,
           "rgb(255,255,204)"
          ],
          [
           0.125,
           "rgb(255,237,160)"
          ],
          [
           0.25,
           "rgb(254,217,118)"
          ],
          [
           0.375,
           "rgb(254,178,76)"
          ],
          [
           0.5,
           "rgb(253,141,60)"
          ],
          [
           0.625,
           "rgb(252,78,42)"
          ],
          [
           0.75,
           "rgb(227,26,28)"
          ],
          [
           0.875,
           "rgb(189,0,38)"
          ],
          [
           1,
           "rgb(128,0,38)"
          ]
         ],
         "reversescale": true,
         "showlegend": false,
         "type": "heatmap",
         "x": [
          5,
          15,
          25,
          35,
          45,
          55,
          65,
          75,
          85,
          95,
          105,
          115,
          125,
          135,
          145,
          155,
          165,
          175,
          185,
          195,
          205,
          215,
          225,
          235,
          245,
          255,
          265,
          275,
          285,
          295,
          305,
          315,
          325,
          335,
          345,
          355,
          365,
          375,
          385,
          395,
          405,
          415,
          425,
          435,
          445,
          455,
          465,
          475,
          485,
          495,
          505,
          515,
          525,
          535,
          545,
          555
         ],
         "y": [
          5,
          15,
          25,
          35,
          45,
          55,
          65,
          75,
          85,
          95,
          105,
          115,
          125,
          135,
          145,
          155,
          165,
          175,
          185,
          195,
          205,
          215,
          225,
          235,
          245,
          255,
          265,
          275,
          285,
          295,
          305,
          315,
          325,
          335,
          345,
          355,
          365,
          375,
          385,
          395,
          405,
          415,
          425,
          435,
          445,
          455,
          465,
          475,
          485,
          495,
          505,
          515,
          525,
          535,
          545,
          555
         ],
         "z": [
          [
           0,
           0.10460316094267495,
           0.10232413768476221,
           0.08604327844870936,
           0.09103291098027512,
           0.09640539485017574,
           0.09611231685997737,
           0.0971684207383117,
           0.11555542967201042,
           0.13568099125947086,
           0.13343529847979235,
           0.09233900997964352,
           0.0856943056943057,
           0.08609675395203378,
           0.08803379308266447,
           0.09933745064594192,
           0.09963035203855114,
           0.10527773792857814,
           0.10469594277267762,
           0.10340735173037886,
           0.10582424713791036,
           0.10423864498188253,
           0.0734130919112439,
           0.07737119786429456,
           0.07909859126241525,
           0.05592369971511593,
           0.062315117147916516,
           0.06221034783949032,
           0.08412372593431483,
           0.07338289924623503,
           0.0747145861014719,
           0.07599881075650239,
           0.12461073978429288,
           0.12885252638813768,
           0.12752428334517887,
           0.12028055834739865,
           0.12351974036418492,
           0.12695453951820676,
           0.12723266339550446,
           0.14173979217948476,
           0.14125696550751216,
           0.14204685631310224,
           0.13577846334794846,
           0.13698315666408703,
           0.137174545945549,
           0.13814891116619643,
           0.13334258293544096,
           0.1125442334079584,
           0.1055344573420156,
           0.12351187237469258,
           0.10701961417586922,
           0.1104489080216327,
           0.10785760729022194,
           0.08386651833132812,
           0.09307088800944248,
           0.0857179923458059
          ],
          [
           0.10460316094267495,
           0,
           0.06214031280358594,
           0.05360914123113176,
           0.04327145553520696,
           0.07674577357937822,
           0.06822854169988168,
           0.06988725327885872,
           0.05553095853137196,
           0.13063028755784517,
           0.12896110249122922,
           0.15555009684938834,
           0.15362017338108566,
           0.15063901001522814,
           0.15259424984657452,
           0.15912835722524304,
           0.161441446074335,
           0.16499573025401804,
           0.16592069901032977,
           0.16388154173100739,
           0.16620843002254168,
           0.16571597896140455,
           0.1411196870149476,
           0.14733910826428145,
           0.14618285726291905,
           0.12541592561140397,
           0.12707342765344617,
           0.12902481888812017,
           0.14377556527111895,
           0.13380641980283056,
           0.13539303705123698,
           0.13906657816726914,
           0.15916003957928684,
           0.1628502810026642,
           0.16196082352051852,
           0.15750899545803101,
           0.160225730759245,
           0.15870827711620814,
           0.1606908833479084,
           0.18030187675984,
           0.1795026893102639,
           0.18080136946556027,
           0.17310630653499373,
           0.17554209882738092,
           0.17504522912023876,
           0.17089464700710907,
           0.16699546091535333,
           0.1541411442155859,
           0.14279248812597903,
           0.16144313053527132,
           0.1367398363157733,
           0.1439353373345684,
           0.1438595597227884,
           0.11448230039113294,
           0.1237972076048426,
           0.12546454777158525
          ],
          [
           0.10232413768476221,
           0.06214031280358594,
           0,
           0.0653333479972725,
           0.06504662835769957,
           0.04375791353429722,
           0.04389263862253327,
           0.034701594052424393,
           0.08122809103113139,
           0.1364792960880733,
           0.10909689689036313,
           0.15365143556491398,
           0.1497298799438089,
           0.14741132215286604,
           0.15034318664892404,
           0.13746124979605157,
           0.1416022711359499,
           0.14587198808487006,
           0.14780458885707437,
           0.14537627245244547,
           0.1474091096397756,
           0.14607992188428856,
           0.13831007556144892,
           0.1440187873082215,
           0.14537852707776472,
           0.12221852151432967,
           0.12520745071493725,
           0.12711595332372938,
           0.12139116249416004,
           0.11017925417039512,
           0.11601146989679201,
           0.11933863354947814,
           0.1622650643236636,
           0.16760591873302122,
           0.1659036607373657,
           0.15972262802158202,
           0.16452729099229824,
           0.16311191181883342,
           0.1633189426094047,
           0.1568758456362178,
           0.1565626176155419,
           0.15822457310412236,
           0.15166053266657317,
           0.15145737908266446,
           0.1505650113292139,
           0.14839964967697014,
           0.14493655289860907,
           0.15561470669845767,
           0.14515747453039046,
           0.13647756539930334,
           0.111328065566454,
           0.12203274815587419,
           0.12008982640290675,
           0.12396596518910084,
           0.13030823781310347,
           0.12846006331193224
          ],
          [
           0.08604327844870936,
           0.05360914123113176,
           0.0653333479972725,
           0,
           0.032993414352637654,
           0.058793605234904,
           0.060059970583534905,
           0.06052125335564999,
           0.06462157832811193,
           0.12620730842666714,
           0.12838133678969818,
           0.12803031244176657,
           0.12511029733411655,
           0.12386121732462999,
           0.12370457693110096,
           0.13226420847934653,
           0.13379949422957385,
           0.1391063900365633,
           0.1391702971423765,
           0.13742007008096926,
           0.13993470193192045,
           0.13778827334899402,
           0.1130726199376144,
           0.11788088200250466,
           0.12077937301550898,
           0.10047963369659801,
           0.09944857508010133,
           0.10323335433192343,
           0.11649913090560395,
           0.10891460808791954,
           0.11320852162685603,
           0.1137938376528594,
           0.12969425156841272,
           0.13363085810999276,
           0.13256748586264538,
           0.12825720252118109,
           0.1317153089994666,
           0.1314574966135127,
           0.1351415717813824,
           0.15165006687713178,
           0.15161954513901144,
           0.15299091836878664,
           0.14607322884726745,
           0.14844290329609944,
           0.14845565154719342,
           0.14685974005566493,
           0.1419302786030822,
           0.12471058749834363,
           0.11520131711690146,
           0.1353895899588071,
           0.11692567819578785,
           0.12116872521302319,
           0.12091294643961775,
           0.09172622451524488,
           0.10229091748378787,
           0.09896349639558431
          ],
          [
           0.09103291098027512,
           0.04327145553520696,
           0.06504662835769957,
           0.032993414352637654,
           0,
           0.06507974240394174,
           0.0582868700120258,
           0.05990924918091217,
           0.060495572587246076,
           0.13377578667173687,
           0.13476007846122318,
           0.13577537615175336,
           0.13235405314124118,
           0.1300515037833026,
           0.13123064211161295,
           0.13926462471363008,
           0.14121165134566396,
           0.14518689349466873,
           0.1459956699158926,
           0.14397347325244572,
           0.14618076384723055,
           0.14513595710198282,
           0.12026499639894023,
           0.12627152224764485,
           0.12714170802098085,
           0.10657816716166832,
           0.10753676945410211,
           0.1104109290637788,
           0.12387673560614179,
           0.11586618257261411,
           0.1173254781233966,
           0.11942005288240133,
           0.13664985897822662,
           0.14207435466771492,
           0.13915508036725663,
           0.13561783384268591,
           0.13756645505058385,
           0.1370694796749136,
           0.14069401236701617,
           0.15853363846995777,
           0.15819704788646885,
           0.159427708773252,
           0.15247223504591415,
           0.15524415426300148,
           0.15493375070191998,
           0.15086678569371653,
           0.1468278674678443,
           0.1302979376536074,
           0.12143972340289304,
           0.1411960173417879,
           0.11925970682103648,
           0.12366117801424432,
           0.12481008679251873,
           0.09316350482151749,
           0.1042743683033145,
           0.10341910468805075
          ],
          [
           0.09640539485017574,
           0.07674577357937822,
           0.04375791353429722,
           0.058793605234904,
           0.06507974240394174,
           0,
           0.03893864442217121,
           0.03573754807393453,
           0.09703903778596037,
           0.14487708993904222,
           0.11601381624850794,
           0.13119310061764108,
           0.1282865116834402,
           0.12619370901233048,
           0.12883119481753832,
           0.11614371525575495,
           0.1194502961166978,
           0.12490515465949291,
           0.12638114746026433,
           0.12416301582728144,
           0.12640989964178928,
           0.12440878795359171,
           0.11821420601882132,
           0.12201557388007557,
           0.12339465243353576,
           0.10294644352542548,
           0.10457939400117225,
           0.1078637542787849,
           0.09843758654199584,
           0.08954429628416755,
           0.09683287215101087,
           0.09730822438780355,
           0.13852279551892258,
           0.143950890913925,
           0.14256517244797295,
           0.1369057386308237,
           0.14162734088167186,
           0.1397516776777203,
           0.14105153368416062,
           0.13197340034723684,
           0.13154319657463015,
           0.1330014208103066,
           0.1272077877594601,
           0.12867930488986545,
           0.12847511462775182,
           0.12617659604720602,
           0.12110814043816631,
           0.13324157378810259,
           0.12241762409261303,
           0.11414565995013791,
           0.09410422703192234,
           0.10027129520155811,
           0.10020216247362161,
           0.10448210167452121,
           0.10943280662672324,
           0.1075169959845744
          ],
          [
           0.09611231685997737,
           0.06822854169988168,
           0.04389263862253327,
           0.060059970583534905,
           0.0582868700120258,
           0.03893864442217121,
           0,
           0.03374160151603403,
           0.09118360590233182,
           0.15113578462158286,
           0.128393173072993,
           0.14049433933971459,
           0.13596841919991953,
           0.13410008347478378,
           0.1380942507926715,
           0.12778673129964072,
           0.1308081721207738,
           0.13343226796012073,
           0.13529183421586974,
           0.13325650452136728,
           0.1351948453505421,
           0.1349042386498598,
           0.12712512805882276,
           0.1312936568049148,
           0.13064990399232965,
           0.10912677216030935,
           0.11379084664182758,
           0.11589104172594873,
           0.1081054941027351,
           0.10142385579320978,
           0.10424130629635885,
           0.10617486592648798,
           0.147159012187606,
           0.15260957306970985,
           0.1506735652464176,
           0.1455756879686873,
           0.1489136499589311,
           0.14695599182688288,
           0.1481410520467108,
           0.1416908160033281,
           0.14182480715536416,
           0.1436502888328222,
           0.13649739033313524,
           0.13986628589666333,
           0.1393941127807539,
           0.13447522912935633,
           0.1308499419760874,
           0.14013859275053306,
           0.13041171007827357,
           0.12466135875160954,
           0.09976114550115675,
           0.10545366197113264,
           0.10770364139105071,
           0.10648542350889997,
           0.11529378872374524,
           0.11301163421544397
          ],
          [
           0.0971684207383117,
           0.06988725327885872,
           0.034701594052424393,
           0.06052125335564999,
           0.05990924918091217,
           0.03573754807393453,
           0.03374160151603403,
           0,
           0.09106736344763405,
           0.14558333506728216,
           0.12006233504500836,
           0.14033860922089803,
           0.13637865167122665,
           0.1340353091458729,
           0.136398100179281,
           0.12528366970256286,
           0.12821623472941698,
           0.13238793708345506,
           0.1339690113219224,
           0.13227196253750492,
           0.13381896566814458,
           0.13255080159041946,
           0.12408823682430675,
           0.13030467343264038,
           0.1314896330426197,
           0.11015633575337526,
           0.11321530004936,
           0.11457741454238828,
           0.10871501905556874,
           0.09871280269634235,
           0.10270481550969356,
           0.10536874011529034,
           0.14977831114049397,
           0.15451572614859518,
           0.15254204870118226,
           0.146953094129779,
           0.1506365771312487,
           0.15017014138509466,
           0.15043839741788603,
           0.14465167319638697,
           0.14458508808351622,
           0.14584459555580845,
           0.13877388877987146,
           0.13900445658767727,
           0.13827198271122096,
           0.13620616388530765,
           0.13328553045502062,
           0.14202271760918422,
           0.13247710580971644,
           0.12393821639882056,
           0.09816394100531754,
           0.10798897112752569,
           0.10613699669538652,
           0.109857851945418,
           0.11772466572703899,
           0.11535022204533604
          ],
          [
           0.11555542967201042,
           0.05553095853137196,
           0.08122809103113139,
           0.06462157832811193,
           0.060495572587246076,
           0.09703903778596037,
           0.09118360590233182,
           0.09106736344763405,
           0,
           0.12355106540682284,
           0.12376249769980985,
           0.17662850827807666,
           0.17133384394246204,
           0.1691260773436776,
           0.17142088266953714,
           0.17911070194902784,
           0.18070231503067324,
           0.18509863791912678,
           0.1855445945314811,
           0.18375366279688446,
           0.18596354369815637,
           0.1846628608302413,
           0.15863765547996608,
           0.16376462445595028,
           0.16816869062945822,
           0.14231032051334405,
           0.14431480604468938,
           0.14892030348226445,
           0.16187424952447746,
           0.15283849874354888,
           0.15462803883410822,
           0.1564818009315163,
           0.17719491938451745,
           0.1833067398913998,
           0.18079931702668361,
           0.1761895112365313,
           0.17929323776877532,
           0.17901681431119537,
           0.18149405857156392,
           0.1996281321016439,
           0.19923477301713144,
           0.2007243328092746,
           0.19340310468435212,
           0.19647483173643046,
           0.19595022147226324,
           0.19287042437475385,
           0.188382470918572,
           0.17022414915685394,
           0.16346449273878044,
           0.1821171649757713,
           0.15850156119981532,
           0.16282411810925934,
           0.16417832979957492,
           0.13074453512172676,
           0.1440717677440853,
           0.14210181570466635
          ],
          [
           0.13568099125947086,
           0.13063028755784517,
           0.1364792960880733,
           0.12620730842666714,
           0.13377578667173687,
           0.14487708993904222,
           0.15113578462158286,
           0.14558333506728216,
           0.12355106540682284,
           0,
           0.06913239735166989,
           0.18124457339466857,
           0.1796991624099577,
           0.17413576203410083,
           0.1727294075243156,
           0.18368565465544523,
           0.18632372072853426,
           0.19471450824515227,
           0.19358561460010734,
           0.1921114025455922,
           0.1939617606868874,
           0.19166334693525985,
           0.15142312647175218,
           0.16586238352592952,
           0.16302892730341656,
           0.16184829243662396,
           0.16187232809216723,
           0.1583272226544789,
           0.18211219343164056,
           0.17170654157476964,
           0.17200597244912594,
           0.17348870190562868,
           0.21849235905997175,
           0.22091107199517665,
           0.21898405179705643,
           0.21355226056234283,
           0.2166801006389077,
           0.21987907691437997,
           0.21988482419722052,
           0.23268747301861398,
           0.23133205202517873,
           0.23192179596938295,
           0.22601585130866947,
           0.22620007732110534,
           0.22628844709735788,
           0.22609913593342876,
           0.22022202997352838,
           0.20943648160897957,
           0.1969705793594909,
           0.2118901040724812,
           0.20594894657444415,
           0.21158544735224144,
           0.20632977652506543,
           0.19155517113013773,
           0.1970903959366803,
           0.19270517046933286
          ],
          [
           0.13343529847979235,
           0.12896110249122922,
           0.10909689689036313,
           0.12838133678969818,
           0.13476007846122318,
           0.11601381624850794,
           0.128393173072993,
           0.12006233504500836,
           0.12376249769980985,
           0.06913239735166989,
           0,
           0.18004895960832312,
           0.17600428494911624,
           0.17229145992250305,
           0.17367479552140694,
           0.16098901246040015,
           0.1669599542150502,
           0.17529194120359817,
           0.17503350443106033,
           0.17235970952367075,
           0.1764093797614181,
           0.17264753850158576,
           0.155250446360604,
           0.16587595259521873,
           0.16589157459885226,
           0.1558030783953176,
           0.15874630279173585,
           0.1558493899409264,
           0.157852755409893,
           0.14622107628517636,
           0.15273922267363663,
           0.1513420933792997,
           0.2139574752987482,
           0.2180649913847691,
           0.21602126044039482,
           0.20866389880549863,
           0.21358011193014664,
           0.214999936569957,
           0.21407900558949033,
           0.21114878420672498,
           0.20925409856644323,
           0.21067037298136723,
           0.2048217800962228,
           0.20496231743359095,
           0.20416256475536582,
           0.20433803303860607,
           0.19889217361061384,
           0.20449010066682113,
           0.1926296756931888,
           0.1878516931722045,
           0.18322836637684248,
           0.1905859882021464,
           0.18580507408202138,
           0.186601061847485,
           0.18961210149780486,
           0.18465275288503208
          ],
          [
           0.09233900997964352,
           0.15555009684938834,
           0.15365143556491398,
           0.12803031244176657,
           0.13577537615175336,
           0.13119310061764108,
           0.14049433933971459,
           0.14033860922089803,
           0.17662850827807666,
           0.18124457339466857,
           0.18004895960832312,
           0,
           0.024069382186708243,
           0.024886237351582147,
           0.022929532267393048,
           0.04856540309539774,
           0.0474502115747371,
           0.04669974661191154,
           0.04504947537261643,
           0.04504048931969208,
           0.04619989408974743,
           0.04654420132601674,
           0.04621841717618578,
           0.03155742040125525,
           0.03607980782630673,
           0.059118580022393945,
           0.054467099517788664,
           0.05093554103233428,
           0.06260617380123326,
           0.07067762296058117,
           0.06976822039268386,
           0.06614096128983192,
           0.05602811141893626,
           0.05666361964338814,
           0.0533947126599279,
           0.04933000803144946,
           0.05121705091098617,
           0.055428023703952944,
           0.05363298006840534,
           0.08050732323010983,
           0.07962027926319437,
           0.07922131156524617,
           0.0737299171149182,
           0.0756865903849761,
           0.0754265646224696,
           0.07586005029248584,
           0.07287803138373752,
           0.05019573376620465,
           0.04562962155484094,
           0.06860425058598103,
           0.07795317222287639,
           0.07787823824704115,
           0.07378916134785597,
           0.0720772513332492,
           0.06437145069695405,
           0.05911040029668776
          ],
          [
           0.0856943056943057,
           0.15362017338108566,
           0.1497298799438089,
           0.12511029733411655,
           0.13235405314124118,
           0.1282865116834402,
           0.13596841919991953,
           0.13637865167122665,
           0.17133384394246204,
           0.1796991624099577,
           0.17600428494911624,
           0.024069382186708243,
           0,
           0.022830319643298316,
           0.02459354741868603,
           0.04814900363269849,
           0.04684157294468033,
           0.04672058748722502,
           0.04552786160935052,
           0.045047418944001036,
           0.0471996480748304,
           0.047282364442549955,
           0.044244175017229416,
           0.029146916630220215,
           0.035622061684725155,
           0.04677842168346368,
           0.04666660301881748,
           0.04392445453761463,
           0.05450623926299296,
           0.06392928155618906,
           0.06203054988347175,
           0.05796609521259812,
           0.058167369676259635,
           0.061192492941371864,
           0.05919375327571044,
           0.0527106917816952,
           0.05531535348354944,
           0.06100120404434266,
           0.05786959605014919,
           0.08213492650946388,
           0.08165047387617036,
           0.08113349332169782,
           0.07552684749484878,
           0.07781463198180709,
           0.07797701659912286,
           0.07820895256185596,
           0.07539778584554704,
           0.048373061853857355,
           0.050138385231601156,
           0.06949629505531947,
           0.0748945319120778,
           0.07434206284140421,
           0.07109096750186632,
           0.06709567032212879,
           0.05973560032261952,
           0.05256287732220694
          ],
          [
           0.08609675395203378,
           0.15063901001522814,
           0.14741132215286604,
           0.12386121732462999,
           0.1300515037833026,
           0.12619370901233048,
           0.13410008347478378,
           0.1340353091458729,
           0.1691260773436776,
           0.17413576203410083,
           0.17229145992250305,
           0.024886237351582147,
           0.022830319643298316,
           0,
           0.01805848251981466,
           0.049535560010164036,
           0.04907091676908868,
           0.05302081803281364,
           0.051809668497344856,
           0.05087005365292015,
           0.05169600145681728,
           0.05153907069423453,
           0.03751877149639103,
           0.022373967612108265,
           0.030773801537252496,
           0.05218960878470753,
           0.05055694246171698,
           0.04713372718156887,
           0.059275706884283026,
           0.06512247161417999,
           0.06318292091217856,
           0.060826628798198515,
           0.06709993115310697,
           0.06996044607541138,
           0.06613536897952788,
           0.06108901335786635,
           0.0639444711678947,
           0.06668461434917217,
           0.06322455338175491,
           0.08986870416136532,
           0.08931687096451552,
           0.08909294453181224,
           0.08247108537935176,
           0.08499237385551922,
           0.08449991717888912,
           0.08367212554751743,
           0.08040149918331108,
           0.057900298853448176,
           0.05461067531755881,
           0.07577237702224007,
           0.08079696572391834,
           0.08102736052125009,
           0.07788539520662235,
           0.07306655795289439,
           0.06743571346774514,
           0.06067023794692911
          ],
          [
           0.08803379308266447,
           0.15259424984657452,
           0.15034318664892404,
           0.12370457693110096,
           0.13123064211161295,
           0.12883119481753832,
           0.1380942507926715,
           0.136398100179281,
           0.17142088266953714,
           0.1727294075243156,
           0.17367479552140694,
           0.022929532267393048,
           0.02459354741868603,
           0.01805848251981466,
           0,
           0.04953857338852472,
           0.049276869667880085,
           0.0535379781255665,
           0.05181007771743927,
           0.0511290108986318,
           0.051659537628753215,
           0.0509908021888462,
           0.034654911437448546,
           0.02367253429915182,
           0.0321038365553393,
           0.05607778006764538,
           0.05317688837700355,
           0.048093595869297165,
           0.061628822742411445,
           0.06831110404654904,
           0.06649224913980081,
           0.06355614510640752,
           0.0659625651711217,
           0.06645184405480647,
           0.06345855130425468,
           0.05911867119552389,
           0.06075253275608231,
           0.06545860386887255,
           0.06356648214966047,
           0.08987346255678245,
           0.08917705558830177,
           0.08866158367122778,
           0.08249400801016796,
           0.0848782532501845,
           0.08443182857895218,
           0.08393341249747945,
           0.08085439901983749,
           0.05731543198408635,
           0.054124894421798686,
           0.07610325487206908,
           0.08258126850989644,
           0.08318519341518064,
           0.07922938073080131,
           0.07391499515675573,
           0.06958085617906332,
           0.06261510128913444
          ],
          [
           0.09933745064594192,
           0.15912835722524304,
           0.13746124979605157,
           0.13226420847934653,
           0.13926462471363008,
           0.11614371525575495,
           0.12778673129964072,
           0.12528366970256286,
           0.17911070194902784,
           0.18368565465544523,
           0.16098901246040015,
           0.04856540309539774,
           0.04814900363269849,
           0.049535560010164036,
           0.04953857338852472,
           0,
           0.018626100776223467,
           0.027155504278523684,
           0.025091908154234708,
           0.02141655264228394,
           0.025381251258875796,
           0.021768187451498198,
           0.06350159198198155,
           0.05262187424648596,
           0.05395158799914483,
           0.06924857721616669,
           0.06363083091683672,
           0.06058203402903702,
           0.04473195513826391,
           0.048908499879028296,
           0.051327314442931975,
           0.048767720516001346,
           0.081084448043353,
           0.0825911540795132,
           0.08168427317363487,
           0.07513543255659985,
           0.0793109291664437,
           0.0811675739191974,
           0.07827269787822363,
           0.0670743393125811,
           0.06458192305911355,
           0.06435349025795163,
           0.05908658505143182,
           0.05876454249381029,
           0.057053656283585136,
           0.060011369589691575,
           0.05467648792249963,
           0.07247918812849823,
           0.06740559585870834,
           0.04766259932537976,
           0.06610760536958873,
           0.06934801581544654,
           0.0631531752231369,
           0.08435388538325049,
           0.07713022983098142,
           0.07297573846300867
          ],
          [
           0.09963035203855114,
           0.161441446074335,
           0.1416022711359499,
           0.13379949422957385,
           0.14121165134566396,
           0.1194502961166978,
           0.1308081721207738,
           0.12821623472941698,
           0.18070231503067324,
           0.18632372072853426,
           0.1669599542150502,
           0.0474502115747371,
           0.04684157294468033,
           0.04907091676908868,
           0.049276869667880085,
           0.018626100776223467,
           0,
           0.024650814765547056,
           0.021123184726312583,
           0.0226362387597973,
           0.019577644577644576,
           0.016770634729652185,
           0.06437292696439235,
           0.051579983802303095,
           0.05473474917490966,
           0.06880646660837855,
           0.06348124168641268,
           0.061105448768560125,
           0.04477597869381791,
           0.052092106270576526,
           0.051628509179656064,
           0.04846372382839544,
           0.0789479531929834,
           0.079976199797831,
           0.07986140379675515,
           0.07358378855412938,
           0.07752785715399332,
           0.07929690712940794,
           0.07675344809152143,
           0.06511492811216878,
           0.06420038060332675,
           0.06282343359637248,
           0.05764683680605664,
           0.05807240823761709,
           0.05758272762156563,
           0.06219603441825664,
           0.05756790272685353,
           0.0709048987201542,
           0.06732203544465479,
           0.05026581250890376,
           0.06831531859533743,
           0.07005276498649823,
           0.06256102937951444,
           0.0840132956498061,
           0.07633973008634459,
           0.07254407122170176
          ],
          [
           0.10527773792857814,
           0.16499573025401804,
           0.14587198808487006,
           0.1391063900365633,
           0.14518689349466873,
           0.12490515465949291,
           0.13343226796012073,
           0.13238793708345506,
           0.18509863791912678,
           0.19471450824515227,
           0.17529194120359817,
           0.04669974661191154,
           0.04672058748722502,
           0.05302081803281364,
           0.0535379781255665,
           0.027155504278523684,
           0.024650814765547056,
           0,
           0.013786848903464575,
           0.019767028989657185,
           0.018604352335410683,
           0.01934962485421201,
           0.0714443749241687,
           0.058606642820165054,
           0.05980713147494757,
           0.07118948583114926,
           0.06709327128175295,
           0.06483982285342688,
           0.04363644866368929,
           0.0539052338773224,
           0.049206421067429784,
           0.04893783303730018,
           0.07216176515996983,
           0.07331434957198717,
           0.07237123116960893,
           0.06684554233698846,
           0.07002942301273081,
           0.07300853226130298,
           0.06941926583599367,
           0.056478492392505644,
           0.05533935583170819,
           0.054629275593475864,
           0.04960609967055609,
           0.04687139127240573,
           0.04813232150444601,
           0.05301871612840484,
           0.050030880516837656,
           0.06400951069953698,
           0.06311310291754374,
           0.04313422754028756,
           0.059017351547741494,
           0.05948810648699725,
           0.05114150439903521,
           0.08015668958321688,
           0.07107517743528494,
           0.06773201020068743
          ],
          [
           0.10469594277267762,
           0.16592069901032977,
           0.14780458885707437,
           0.1391702971423765,
           0.1459956699158926,
           0.12638114746026433,
           0.13529183421586974,
           0.1339690113219224,
           0.1855445945314811,
           0.19358561460010734,
           0.17503350443106033,
           0.04504947537261643,
           0.04552786160935052,
           0.051809668497344856,
           0.05181007771743927,
           0.025091908154234708,
           0.021123184726312583,
           0.013786848903464575,
           0,
           0.017447544042399753,
           0.016708250013759196,
           0.017006865156576966,
           0.069678864291811,
           0.05668875846585682,
           0.05796866215488263,
           0.07037646334096591,
           0.06660301464784206,
           0.06384159618221752,
           0.04513354987965321,
           0.055295166891212354,
           0.05153819226986648,
           0.049721900073371045,
           0.07255245140612532,
           0.07303115612732783,
           0.07288434709514442,
           0.06723253365837442,
           0.07027640861018013,
           0.07290492876217526,
           0.06948102451699574,
           0.05731088107784797,
           0.056404810600101385,
           0.055419318913843364,
           0.04923412361938532,
           0.04908251939492665,
           0.04893209266711699,
           0.05429596380858132,
           0.050845726516601464,
           0.06403040941941593,
           0.06311217680457847,
           0.04361146435387973,
           0.06189334063068429,
           0.0622219991879525,
           0.05415112869220045,
           0.08053644412583441,
           0.07117967082156876,
           0.06776984661981846
          ],
          [
           0.10340735173037886,
           0.16388154173100739,
           0.14537627245244547,
           0.13742007008096926,
           0.14397347325244572,
           0.12416301582728144,
           0.13325650452136728,
           0.13227196253750492,
           0.18375366279688446,
           0.1921114025455922,
           0.17235970952367075,
           0.04504048931969208,
           0.045047418944001036,
           0.05087005365292015,
           0.0511290108986318,
           0.02141655264228394,
           0.0226362387597973,
           0.019767028989657185,
           0.017447544042399753,
           0,
           0.019550003555380207,
           0.01819325194911306,
           0.06827305416563612,
           0.05609258062401064,
           0.05600052706378413,
           0.07070354855196725,
           0.06546483507910955,
           0.0631445836585661,
           0.04592851616462179,
           0.055013417038571315,
           0.05338853054107873,
           0.05172621964644635,
           0.07404557430905423,
           0.07437272839007603,
           0.07406241677359998,
           0.06797425029704375,
           0.071644192223887,
           0.07371495120961338,
           0.07060120980129113,
           0.059995414696987895,
           0.058234963708329056,
           0.05749270474759301,
           0.051645364385758535,
           0.052263322001697546,
           0.050751143331264556,
           0.05393611450514924,
           0.05058531677730423,
           0.06545617824918518,
           0.06298576558352961,
           0.04383115426376762,
           0.06186112414548198,
           0.06462689802297591,
           0.05864169261769555,
           0.0810907710968475,
           0.07266995318208015,
           0.06911991206740883
          ],
          [
           0.10582424713791036,
           0.16620843002254168,
           0.1474091096397756,
           0.13993470193192045,
           0.14618076384723055,
           0.12640989964178928,
           0.1351948453505421,
           0.13381896566814458,
           0.18596354369815637,
           0.1939617606868874,
           0.1764093797614181,
           0.04619989408974743,
           0.0471996480748304,
           0.05169600145681728,
           0.051659537628753215,
           0.025381251258875796,
           0.019577644577644576,
           0.018604352335410683,
           0.016708250013759196,
           0.019550003555380207,
           0,
           0.014377408112407699,
           0.06911724417233452,
           0.05650437111941471,
           0.057677485958333434,
           0.0723115533406861,
           0.06820775850228986,
           0.06584119590274973,
           0.04798475277105274,
           0.058675336774757815,
           0.05426086541558798,
           0.05296034377267747,
           0.07434267769675501,
           0.07422933781196349,
           0.07423557681708957,
           0.06874723849827594,
           0.07140691160293144,
           0.07404257199350485,
           0.07104846064620098,
           0.05980816249764905,
           0.058959765334267326,
           0.05707828986084282,
           0.050560545784708935,
           0.0524588647530784,
           0.05146467218191958,
           0.05503377092425221,
           0.05183451749097979,
           0.06573435961693368,
           0.06436494014513841,
           0.04669541359854213,
           0.064726686250792,
           0.06565926657250858,
           0.05825498799303665,
           0.08163093972127386,
           0.07332207896153121,
           0.07042207912364458
          ],
          [
           0.10423864498188253,
           0.16571597896140455,
           0.14607992188428856,
           0.13778827334899402,
           0.14513595710198282,
           0.12440878795359171,
           0.1349042386498598,
           0.13255080159041946,
           0.1846628608302413,
           0.19166334693525985,
           0.17264753850158576,
           0.04654420132601674,
           0.047282364442549955,
           0.05153907069423453,
           0.0509908021888462,
           0.021768187451498198,
           0.016770634729652185,
           0.01934962485421201,
           0.017006865156576966,
           0.01819325194911306,
           0.014377408112407699,
           0,
           0.06804253462910918,
           0.055448244784344465,
           0.05696126407641059,
           0.07166983853399883,
           0.06675512380049757,
           0.06420115951127409,
           0.04597442637391472,
           0.05574210240946664,
           0.05274115032099261,
           0.05027217115223076,
           0.0758505791318105,
           0.07618337501347182,
           0.07585549737296024,
           0.07007804221343979,
           0.07350573478051924,
           0.07609024816698608,
           0.07292137320044297,
           0.061057210501210026,
           0.05939479424931884,
           0.058037346151236374,
           0.05244706614772248,
           0.052892995418716934,
           0.05223388464566842,
           0.05721624374474115,
           0.05344782304839995,
           0.06781262313285812,
           0.06526284281133642,
           0.04716211203165575,
           0.06643275231282433,
           0.06722400837841917,
           0.05938969452597711,
           0.08317621803248086,
           0.07491957123066373,
           0.07118457351280295
          ],
          [
           0.0734130919112439,
           0.1411196870149476,
           0.13831007556144892,
           0.1130726199376144,
           0.12026499639894023,
           0.11821420601882132,
           0.12712512805882276,
           0.12408823682430675,
           0.15863765547996608,
           0.15142312647175218,
           0.155250446360604,
           0.04621841717618578,
           0.044244175017229416,
           0.03751877149639103,
           0.034654911437448546,
           0.06350159198198155,
           0.06437292696439235,
           0.0714443749241687,
           0.069678864291811,
           0.06827305416563612,
           0.06911724417233452,
           0.06804253462910918,
           0,
           0.02953389314835098,
           0.03258301084632658,
           0.0539213737727074,
           0.05365179793868155,
           0.046412648439793834,
           0.07153876241123552,
           0.06719469015630976,
           0.06439497168226661,
           0.06486658148758133,
           0.0873417461032443,
           0.08831440730036638,
           0.0855961236046095,
           0.08132567518474747,
           0.08284745141180785,
           0.08657422445067639,
           0.08606229528487636,
           0.10926659891215529,
           0.10853768786153362,
           0.10889461504671247,
           0.10146933852353408,
           0.10374846094213143,
           0.10329088502441919,
           0.10214781494831542,
           0.09841847606980361,
           0.0735869129375662,
           0.06781942066360863,
           0.09215898985478231,
           0.09477391208780707,
           0.09687721368140993,
           0.09342109643636778,
           0.08147105146647893,
           0.08226832298729142,
           0.0758974728029458
          ],
          [
           0.07737119786429456,
           0.14733910826428145,
           0.1440187873082215,
           0.11788088200250466,
           0.12627152224764485,
           0.12201557388007557,
           0.1312936568049148,
           0.13030467343264038,
           0.16376462445595028,
           0.16586238352592952,
           0.16587595259521873,
           0.03155742040125525,
           0.029146916630220215,
           0.022373967612108265,
           0.02367253429915182,
           0.05262187424648596,
           0.051579983802303095,
           0.058606642820165054,
           0.05668875846585682,
           0.05609258062401064,
           0.05650437111941471,
           0.055448244784344465,
           0.02953389314835098,
           0,
           0.03168351157314895,
           0.04958099875815268,
           0.045882389938628344,
           0.04258537592113729,
           0.06046932055411678,
           0.06149217780648357,
           0.06123991321095102,
           0.05757112503906638,
           0.07052603360613822,
           0.07341934500186105,
           0.07184025005902922,
           0.0647467348020495,
           0.06954994174441605,
           0.07150744822301851,
           0.06932861823757488,
           0.0951026771674618,
           0.09487056407050602,
           0.09453941819836946,
           0.08758417659980554,
           0.09024208331835663,
           0.0900129515038135,
           0.08993956469422264,
           0.08611060047976651,
           0.060618029474549376,
           0.05797802085959673,
           0.08036815724184738,
           0.0854508244924843,
           0.08590518538564366,
           0.0824665989201137,
           0.07408315928105494,
           0.07038853758931528,
           0.0644724753850187
          ],
          [
           0.07909859126241525,
           0.14618285726291905,
           0.14537852707776472,
           0.12077937301550898,
           0.12714170802098085,
           0.12339465243353576,
           0.13064990399232965,
           0.1314896330426197,
           0.16816869062945822,
           0.16302892730341656,
           0.16589157459885226,
           0.03607980782630673,
           0.035622061684725155,
           0.030773801537252496,
           0.0321038365553393,
           0.05395158799914483,
           0.05473474917490966,
           0.05980713147494757,
           0.05796866215488263,
           0.05600052706378413,
           0.057677485958333434,
           0.05696126407641059,
           0.03258301084632658,
           0.03168351157314895,
           0,
           0.05372708957790772,
           0.05172183256956009,
           0.046365728257448016,
           0.06281435413367426,
           0.06481077031574478,
           0.06202253137388458,
           0.0603319609165569,
           0.07889168264084244,
           0.07963724664254919,
           0.07648758491529367,
           0.07348222453837507,
           0.07344814757683268,
           0.07758070285861773,
           0.07745953242510521,
           0.09795002901642173,
           0.09645020712919165,
           0.09636307397130088,
           0.08998860388553236,
           0.09256851912035532,
           0.09207839381234639,
           0.09034372483868407,
           0.08629381439773087,
           0.06785302220173091,
           0.05827722528360033,
           0.08107448107448108,
           0.08576993443041446,
           0.08803818105527673,
           0.08351331893448524,
           0.07513073029472651,
           0.07330516172719787,
           0.06748177980079408
          ],
          [
           0.05592369971511593,
           0.12541592561140397,
           0.12221852151432967,
           0.10047963369659801,
           0.10657816716166832,
           0.10294644352542548,
           0.10912677216030935,
           0.11015633575337526,
           0.14231032051334405,
           0.16184829243662396,
           0.1558030783953176,
           0.059118580022393945,
           0.04677842168346368,
           0.05218960878470753,
           0.05607778006764538,
           0.06924857721616669,
           0.06880646660837855,
           0.07118948583114926,
           0.07037646334096591,
           0.07070354855196725,
           0.0723115533406861,
           0.07166983853399883,
           0.0539213737727074,
           0.04958099875815268,
           0.05372708957790772,
           0,
           0.028577071683393202,
           0.026945580979240033,
           0.05248132812480938,
           0.0480913400891691,
           0.0452903058837582,
           0.0459941496608732,
           0.09004084312703613,
           0.09321189631850255,
           0.09249994843671581,
           0.08622234125078497,
           0.08748141704522965,
           0.09278075848890195,
           0.09095386598234732,
           0.10711371812849282,
           0.10668908266544122,
           0.10712142155614565,
           0.1008748388635811,
           0.10237684238480946,
           0.10262191852391624,
           0.10374469357937485,
           0.10006407691079892,
           0.0798176262082031,
           0.07655767593359136,
           0.09156575809995793,
           0.07683817530928182,
           0.07875872274921546,
           0.07595571518636685,
           0.05840045680407236,
           0.05788892587793774,
           0.04806508577802512
          ],
          [
           0.062315117147916516,
           0.12707342765344617,
           0.12520745071493725,
           0.09944857508010133,
           0.10753676945410211,
           0.10457939400117225,
           0.11379084664182758,
           0.11321530004936,
           0.14431480604468938,
           0.16187232809216723,
           0.15874630279173585,
           0.054467099517788664,
           0.04666660301881748,
           0.05055694246171698,
           0.05317688837700355,
           0.06363083091683672,
           0.06348124168641268,
           0.06709327128175295,
           0.06660301464784206,
           0.06546483507910955,
           0.06820775850228986,
           0.06675512380049757,
           0.05365179793868155,
           0.045882389938628344,
           0.05172183256956009,
           0.028577071683393202,
           0,
           0.020979226740422525,
           0.04860004442770357,
           0.047158291198524833,
           0.04653504592938373,
           0.04659731464808581,
           0.0800529230433478,
           0.08179643997348195,
           0.08284619853314937,
           0.0740448644533902,
           0.07918141154327303,
           0.08387630854182444,
           0.0817346915521524,
           0.09990907535942241,
           0.09941831387621035,
           0.09947745350326788,
           0.09430568205305248,
           0.09433183787374211,
           0.09528877069657578,
           0.09653019843710842,
           0.09262313104661389,
           0.07166656681613523,
           0.06785494144236696,
           0.08373390110970967,
           0.07247670908862064,
           0.07651475187459965,
           0.07222869623385864,
           0.055478875610166636,
           0.051012667829780776,
           0.047301131621991524
          ],
          [
           0.06221034783949032,
           0.12902481888812017,
           0.12711595332372938,
           0.10323335433192343,
           0.1104109290637788,
           0.1078637542787849,
           0.11589104172594873,
           0.11457741454238828,
           0.14892030348226445,
           0.1583272226544789,
           0.1558493899409264,
           0.05093554103233428,
           0.04392445453761463,
           0.04713372718156887,
           0.048093595869297165,
           0.06058203402903702,
           0.061105448768560125,
           0.06483982285342688,
           0.06384159618221752,
           0.0631445836585661,
           0.06584119590274973,
           0.06420115951127409,
           0.046412648439793834,
           0.04258537592113729,
           0.046365728257448016,
           0.026945580979240033,
           0.020979226740422525,
           0,
           0.04981242184243435,
           0.0467646262521844,
           0.04303341991256404,
           0.04368774680261685,
           0.08497659436622289,
           0.08605356068432345,
           0.08592625653544168,
           0.07931905405312406,
           0.08182244326301949,
           0.08793894732517989,
           0.08569298530467753,
           0.10252125132115014,
           0.10128087459365123,
           0.10180890695210361,
           0.09615660747618819,
           0.09623394792815951,
           0.0964217812539135,
           0.09794651144713559,
           0.09418957433115749,
           0.07517100084633278,
           0.07134555543058524,
           0.08536418257785663,
           0.07470463033804542,
           0.0784786431448182,
           0.07395185644709404,
           0.05984911015537889,
           0.056132353780856854,
           0.05102543853351521
          ],
          [
           0.08412372593431483,
           0.14377556527111895,
           0.12139116249416004,
           0.11649913090560395,
           0.12387673560614179,
           0.09843758654199584,
           0.1081054941027351,
           0.10871501905556874,
           0.16187424952447746,
           0.18211219343164056,
           0.157852755409893,
           0.06260617380123326,
           0.05450623926299296,
           0.059275706884283026,
           0.061628822742411445,
           0.04473195513826391,
           0.04477597869381791,
           0.04363644866368929,
           0.04513354987965321,
           0.04592851616462179,
           0.04798475277105274,
           0.04597442637391472,
           0.07153876241123552,
           0.06046932055411678,
           0.06281435413367426,
           0.05248132812480938,
           0.04860004442770357,
           0.04981242184243435,
           0,
           0.030537015224883304,
           0.03113905631407207,
           0.0261358250389329,
           0.085765044526401,
           0.08902562679207358,
           0.08802876974328122,
           0.08222328246432424,
           0.08520925326102392,
           0.08852808642461356,
           0.08666248878509308,
           0.07566351977199857,
           0.07382577260306947,
           0.07511242474391214,
           0.07110005684409663,
           0.07064445884698448,
           0.07041608587031911,
           0.07675006648246892,
           0.07246422778225843,
           0.07707314405006632,
           0.07281593749134133,
           0.060717661842427516,
           0.05025558662825236,
           0.0505239625541428,
           0.04526533521870727,
           0.06631864709769746,
           0.06197556791014691,
           0.05640815287344941
          ],
          [
           0.07338289924623503,
           0.13380641980283056,
           0.11017925417039512,
           0.10891460808791954,
           0.11586618257261411,
           0.08954429628416755,
           0.10142385579320978,
           0.09871280269634235,
           0.15283849874354888,
           0.17170654157476964,
           0.14622107628517636,
           0.07067762296058117,
           0.06392928155618906,
           0.06512247161417999,
           0.06831110404654904,
           0.048908499879028296,
           0.052092106270576526,
           0.0539052338773224,
           0.055295166891212354,
           0.055013417038571315,
           0.058675336774757815,
           0.05574210240946664,
           0.06719469015630976,
           0.06149217780648357,
           0.06481077031574478,
           0.0480913400891691,
           0.047158291198524833,
           0.0467646262521844,
           0.030537015224883304,
           0,
           0.025482854494902688,
           0.027613373477998204,
           0.09858512303178796,
           0.1023407149068732,
           0.10095871382050874,
           0.09383380476200308,
           0.09841280004390468,
           0.10097337760889162,
           0.09842019082118975,
           0.0915032679738562,
           0.08991273680878963,
           0.09164108090522763,
           0.08618563656296796,
           0.08340632116313405,
           0.08333655910795568,
           0.08805454196274246,
           0.08383555598460923,
           0.08945055961520673,
           0.0828908457800044,
           0.07095293726904701,
           0.057002228604798054,
           0.061888711880911974,
           0.0564840801201375,
           0.07315942924446332,
           0.07099930052294237,
           0.06552975187624445
          ],
          [
           0.0747145861014719,
           0.13539303705123698,
           0.11601146989679201,
           0.11320852162685603,
           0.1173254781233966,
           0.09683287215101087,
           0.10424130629635885,
           0.10270481550969356,
           0.15462803883410822,
           0.17200597244912594,
           0.15273922267363663,
           0.06976822039268386,
           0.06203054988347175,
           0.06318292091217856,
           0.06649224913980081,
           0.051327314442931975,
           0.051628509179656064,
           0.049206421067429784,
           0.05153819226986648,
           0.05338853054107873,
           0.05426086541558798,
           0.05274115032099261,
           0.06439497168226661,
           0.06123991321095102,
           0.06202253137388458,
           0.0452903058837582,
           0.04653504592938373,
           0.04303341991256404,
           0.03113905631407207,
           0.025482854494902688,
           0,
           0.022308361875312852,
           0.09953262146460541,
           0.10279645372290722,
           0.10104942180081787,
           0.0950586978247954,
           0.09781480971399716,
           0.10212730863156737,
           0.09905260813971907,
           0.09358444543684302,
           0.09260725817980481,
           0.09314296858346675,
           0.08738743685482099,
           0.08496529046401169,
           0.0857332236240629,
           0.08929927915233271,
           0.08516318078515972,
           0.08874646288554257,
           0.08394436171939507,
           0.07350863367389288,
           0.05612428031988973,
           0.06039185536896906,
           0.05197848837486246,
           0.07118157784417353,
           0.06887878795116836,
           0.06392763181605218
          ],
          [
           0.07599881075650239,
           0.13906657816726914,
           0.11933863354947814,
           0.1137938376528594,
           0.11942005288240133,
           0.09730822438780355,
           0.10617486592648798,
           0.10536874011529034,
           0.1564818009315163,
           0.17348870190562868,
           0.1513420933792997,
           0.06614096128983192,
           0.05796609521259812,
           0.060826628798198515,
           0.06355614510640752,
           0.048767720516001346,
           0.04846372382839544,
           0.04893783303730018,
           0.049721900073371045,
           0.05172621964644635,
           0.05296034377267747,
           0.05027217115223076,
           0.06486658148758133,
           0.05757112503906638,
           0.0603319609165569,
           0.0459941496608732,
           0.04659731464808581,
           0.04368774680261685,
           0.0261358250389329,
           0.027613373477998204,
           0.022308361875312852,
           0,
           0.09536493193097483,
           0.09841641006120012,
           0.09678944115187434,
           0.09122833524484521,
           0.09362456615148701,
           0.09772412049658037,
           0.09515593834581662,
           0.08845165652467883,
           0.08711856300393901,
           0.08788471120309685,
           0.08197981608390177,
           0.08171146158019837,
           0.08141307780926131,
           0.08671111050270815,
           0.08256725017431832,
           0.08450749726554027,
           0.0805523859406274,
           0.07066291824943044,
           0.055964496281480175,
           0.05755188679245283,
           0.051560595121142895,
           0.06866291306839802,
           0.06635773160633571,
           0.06052906818474881
          ],
          [
           0.12461073978429288,
           0.15916003957928684,
           0.1622650643236636,
           0.12969425156841272,
           0.13664985897822662,
           0.13852279551892258,
           0.147159012187606,
           0.14977831114049397,
           0.17719491938451745,
           0.21849235905997175,
           0.2139574752987482,
           0.05602811141893626,
           0.058167369676259635,
           0.06709993115310697,
           0.0659625651711217,
           0.081084448043353,
           0.0789479531929834,
           0.07216176515996983,
           0.07255245140612532,
           0.07404557430905423,
           0.07434267769675501,
           0.0758505791318105,
           0.0873417461032443,
           0.07052603360613822,
           0.07889168264084244,
           0.09004084312703613,
           0.0800529230433478,
           0.08497659436622289,
           0.085765044526401,
           0.09858512303178796,
           0.09953262146460541,
           0.09536493193097483,
           0,
           0.016040652970346275,
           0.016332906051834056,
           0.017571451466424488,
           0.01875038615015222,
           0.016747088133279176,
           0.01887781409401407,
           0.04783425432980659,
           0.048477464450280984,
           0.04799502838664827,
           0.04694724992300422,
           0.04778463097678935,
           0.0490857042210183,
           0.04777038857907271,
           0.04933937302518346,
           0.024447477535274032,
           0.038049779870101566,
           0.05761328436575238,
           0.0708995130765194,
           0.06410662026417781,
           0.06639358177003989,
           0.0643781054404853,
           0.048764313188027764,
           0.055374042611830494
          ],
          [
           0.12885252638813768,
           0.1628502810026642,
           0.16760591873302122,
           0.13363085810999276,
           0.14207435466771492,
           0.143950890913925,
           0.15260957306970985,
           0.15451572614859518,
           0.1833067398913998,
           0.22091107199517665,
           0.2180649913847691,
           0.05666361964338814,
           0.061192492941371864,
           0.06996044607541138,
           0.06645184405480647,
           0.0825911540795132,
           0.079976199797831,
           0.07331434957198717,
           0.07303115612732783,
           0.07437272839007603,
           0.07422933781196349,
           0.07618337501347182,
           0.08831440730036638,
           0.07341934500186105,
           0.07963724664254919,
           0.09321189631850255,
           0.08179643997348195,
           0.08605356068432345,
           0.08902562679207358,
           0.1023407149068732,
           0.10279645372290722,
           0.09841641006120012,
           0.016040652970346275,
           0,
           0.015735037768739104,
           0.018155360873431562,
           0.01740989615149664,
           0.018551375156147444,
           0.01924215072558457,
           0.04734686859833895,
           0.04810434746109531,
           0.047015986610008095,
           0.047419663173209496,
           0.048066774185376894,
           0.048458112550600445,
           0.049118513444446094,
           0.05206825926928397,
           0.028005615268386252,
           0.041703279894293545,
           0.06015519756917396,
           0.07438559368731953,
           0.06879952408759762,
           0.07034600208048948,
           0.06863958365386545,
           0.054013673400680806,
           0.06006402640702122
          ],
          [
           0.12752428334517887,
           0.16196082352051852,
           0.1659036607373657,
           0.13256748586264538,
           0.13915508036725663,
           0.14256517244797295,
           0.1506735652464176,
           0.15254204870118226,
           0.18079931702668361,
           0.21898405179705643,
           0.21602126044039482,
           0.0533947126599279,
           0.05919375327571044,
           0.06613536897952788,
           0.06345855130425468,
           0.08168427317363487,
           0.07986140379675515,
           0.07237123116960893,
           0.07288434709514442,
           0.07406241677359998,
           0.07423557681708957,
           0.07585549737296024,
           0.0855961236046095,
           0.07184025005902922,
           0.07648758491529367,
           0.09249994843671581,
           0.08284619853314937,
           0.08592625653544168,
           0.08802876974328122,
           0.10095871382050874,
           0.10104942180081787,
           0.09678944115187434,
           0.016332906051834056,
           0.015735037768739104,
           0,
           0.020298103732589817,
           0.015018131932406708,
           0.01932618429405183,
           0.020050114651090568,
           0.04829743753626723,
           0.04831710838099808,
           0.04795755053282662,
           0.04737347670554906,
           0.0485770228078531,
           0.04856310576770298,
           0.04767332564934651,
           0.05059839288767311,
           0.02653376144975005,
           0.03909853614384432,
           0.059690509638395624,
           0.07322076308745157,
           0.06630316535654127,
           0.06884462256614088,
           0.06637565912760353,
           0.053865233202697455,
           0.05804619378314215
          ],
          [
           0.12028055834739865,
           0.15750899545803101,
           0.15972262802158202,
           0.12825720252118109,
           0.13561783384268591,
           0.1369057386308237,
           0.1455756879686873,
           0.146953094129779,
           0.1761895112365313,
           0.21355226056234283,
           0.20866389880549863,
           0.04933000803144946,
           0.0527106917816952,
           0.06108901335786635,
           0.05911867119552389,
           0.07513543255659985,
           0.07358378855412938,
           0.06684554233698846,
           0.06723253365837442,
           0.06797425029704375,
           0.06874723849827594,
           0.07007804221343979,
           0.08132567518474747,
           0.0647467348020495,
           0.07348222453837507,
           0.08622234125078497,
           0.0740448644533902,
           0.07931905405312406,
           0.08222328246432424,
           0.09383380476200308,
           0.0950586978247954,
           0.09122833524484521,
           0.017571451466424488,
           0.018155360873431562,
           0.020298103732589817,
           0,
           0.019544099506578948,
           0.019833346871940452,
           0.016956485421963114,
           0.051816728935364036,
           0.05210255671404932,
           0.05173399511288226,
           0.04802592810842664,
           0.04913854101840564,
           0.04986305577597461,
           0.049366088462831435,
           0.04881224190282312,
           0.02103780138636103,
           0.03363154515794709,
           0.0542606685122972,
           0.06799531588813343,
           0.0628938736291044,
           0.06416047877646015,
           0.06293120341651631,
           0.04768339382193903,
           0.05265157355823272
          ],
          [
           0.12351974036418492,
           0.160225730759245,
           0.16452729099229824,
           0.1317153089994666,
           0.13756645505058385,
           0.14162734088167186,
           0.1489136499589311,
           0.1506365771312487,
           0.17929323776877532,
           0.2166801006389077,
           0.21358011193014664,
           0.05121705091098617,
           0.05531535348354944,
           0.0639444711678947,
           0.06075253275608231,
           0.0793109291664437,
           0.07752785715399332,
           0.07002942301273081,
           0.07027640861018013,
           0.071644192223887,
           0.07140691160293144,
           0.07350573478051924,
           0.08284745141180785,
           0.06954994174441605,
           0.07344814757683268,
           0.08748141704522965,
           0.07918141154327303,
           0.08182244326301949,
           0.08520925326102392,
           0.09841280004390468,
           0.09781480971399716,
           0.09362456615148701,
           0.01875038615015222,
           0.01740989615149664,
           0.015018131932406708,
           0.019544099506578948,
           0,
           0.020421994884910488,
           0.020749386615076137,
           0.0509627134526621,
           0.05093847372590441,
           0.050065024996622076,
           0.04794220199500185,
           0.04974012231038278,
           0.049978094707426104,
           0.04966664745326339,
           0.0510382942752751,
           0.024012082636603916,
           0.03794979783262595,
           0.05874069516538558,
           0.07185405477384704,
           0.06528934173351801,
           0.06712598773179657,
           0.06399049763900459,
           0.05060607201965663,
           0.05359207469073784
          ],
          [
           0.12695453951820676,
           0.15870827711620814,
           0.16311191181883342,
           0.1314574966135127,
           0.1370694796749136,
           0.1397516776777203,
           0.14695599182688288,
           0.15017014138509466,
           0.17901681431119537,
           0.21987907691437997,
           0.214999936569957,
           0.055428023703952944,
           0.06100120404434266,
           0.06668461434917217,
           0.06545860386887255,
           0.0811675739191974,
           0.07929690712940794,
           0.07300853226130298,
           0.07290492876217526,
           0.07371495120961338,
           0.07404257199350485,
           0.07609024816698608,
           0.08657422445067639,
           0.07150744822301851,
           0.07758070285861773,
           0.09278075848890195,
           0.08387630854182444,
           0.08793894732517989,
           0.08852808642461356,
           0.10097337760889162,
           0.10212730863156737,
           0.09772412049658037,
           0.016747088133279176,
           0.018551375156147444,
           0.01932618429405183,
           0.019833346871940452,
           0.020421994884910488,
           0,
           0.01730550753798835,
           0.05007468330696419,
           0.051078698266027595,
           0.05009715121449555,
           0.04759597813984718,
           0.04989182539345862,
           0.05047764615972487,
           0.04792265548918869,
           0.049154629461082976,
           0.027142392570784938,
           0.035655182789228225,
           0.05796186332556299,
           0.07187761666157179,
           0.06624817845533013,
           0.0685831241756836,
           0.064213151896947,
           0.051709077560299244,
           0.05843088861465942
          ],
          [
           0.12723266339550446,
           0.1606908833479084,
           0.1633189426094047,
           0.1351415717813824,
           0.14069401236701617,
           0.14105153368416062,
           0.1481410520467108,
           0.15043839741788603,
           0.18149405857156392,
           0.21988482419722052,
           0.21407900558949033,
           0.05363298006840534,
           0.05786959605014919,
           0.06322455338175491,
           0.06356648214966047,
           0.07827269787822363,
           0.07675344809152143,
           0.06941926583599367,
           0.06948102451699574,
           0.07060120980129113,
           0.07104846064620098,
           0.07292137320044297,
           0.08606229528487636,
           0.06932861823757488,
           0.07745953242510521,
           0.09095386598234732,
           0.0817346915521524,
           0.08569298530467753,
           0.08666248878509308,
           0.09842019082118975,
           0.09905260813971907,
           0.09515593834581662,
           0.01887781409401407,
           0.01924215072558457,
           0.020050114651090568,
           0.016956485421963114,
           0.020749386615076137,
           0.01730550753798835,
           0,
           0.04935686635400001,
           0.04989732365443283,
           0.04928624364206824,
           0.04544090128179745,
           0.0475706759774993,
           0.04807056276227606,
           0.046039540544002736,
           0.047972569937647244,
           0.02599302594555404,
           0.037461823806215676,
           0.05640403427618109,
           0.07064680592271001,
           0.0655620009073411,
           0.06681193081242583,
           0.06738075990299111,
           0.05171657367728326,
           0.05791270095889923
          ],
          [
           0.14173979217948476,
           0.18030187675984,
           0.1568758456362178,
           0.15165006687713178,
           0.15853363846995777,
           0.13197340034723684,
           0.1416908160033281,
           0.14465167319638697,
           0.1996281321016439,
           0.23268747301861398,
           0.21114878420672498,
           0.08050732323010983,
           0.08213492650946388,
           0.08986870416136532,
           0.08987346255678245,
           0.0670743393125811,
           0.06511492811216878,
           0.056478492392505644,
           0.05731088107784797,
           0.059995414696987895,
           0.05980816249764905,
           0.061057210501210026,
           0.10926659891215529,
           0.0951026771674618,
           0.09795002901642173,
           0.10711371812849282,
           0.09990907535942241,
           0.10252125132115014,
           0.07566351977199857,
           0.0915032679738562,
           0.09358444543684302,
           0.08845165652467883,
           0.04783425432980659,
           0.04734686859833895,
           0.04829743753626723,
           0.051816728935364036,
           0.0509627134526621,
           0.05007468330696419,
           0.04935686635400001,
           0,
           0.013799843791114472,
           0.015684514802717396,
           0.020959715515155342,
           0.020351749821982578,
           0.019944205837154203,
           0.024532912423453346,
           0.027876973187551425,
           0.05532833204676018,
           0.06629106765099513,
           0.03679406670249369,
           0.060951516387421585,
           0.052046615664464696,
           0.05518281833008386,
           0.08899062626155081,
           0.07522875530843659,
           0.079368433099599
          ],
          [
           0.14125696550751216,
           0.1795026893102639,
           0.1565626176155419,
           0.15161954513901144,
           0.15819704788646885,
           0.13154319657463015,
           0.14182480715536416,
           0.14458508808351622,
           0.19923477301713144,
           0.23133205202517873,
           0.20925409856644323,
           0.07962027926319437,
           0.08165047387617036,
           0.08931687096451552,
           0.08917705558830177,
           0.06458192305911355,
           0.06420038060332675,
           0.05533935583170819,
           0.056404810600101385,
           0.058234963708329056,
           0.058959765334267326,
           0.05939479424931884,
           0.10853768786153362,
           0.09487056407050602,
           0.09645020712919165,
           0.10668908266544122,
           0.09941831387621035,
           0.10128087459365123,
           0.07382577260306947,
           0.08991273680878963,
           0.09260725817980481,
           0.08711856300393901,
           0.048477464450280984,
           0.04810434746109531,
           0.04831710838099808,
           0.05210255671404932,
           0.05093847372590441,
           0.051078698266027595,
           0.04989732365443283,
           0.013799843791114472,
           0,
           0.012569642756422174,
           0.020743339869377406,
           0.018966224100413133,
           0.018165749576525298,
           0.023440602215219285,
           0.026064992677180397,
           0.05573484964909584,
           0.06593952698468944,
           0.035080162102966675,
           0.060720925179265556,
           0.052697834675680504,
           0.05409534049709232,
           0.08919341373736656,
           0.07516137938287998,
           0.07925185054635178
          ],
          [
           0.14204685631310224,
           0.18080136946556027,
           0.15822457310412236,
           0.15299091836878664,
           0.159427708773252,
           0.1330014208103066,
           0.1436502888328222,
           0.14584459555580845,
           0.2007243328092746,
           0.23192179596938295,
           0.21067037298136723,
           0.07922131156524617,
           0.08113349332169782,
           0.08909294453181224,
           0.08866158367122778,
           0.06435349025795163,
           0.06282343359637248,
           0.054629275593475864,
           0.055419318913843364,
           0.05749270474759301,
           0.05707828986084282,
           0.058037346151236374,
           0.10889461504671247,
           0.09453941819836946,
           0.09636307397130088,
           0.10712142155614565,
           0.09947745350326788,
           0.10180890695210361,
           0.07511242474391214,
           0.09164108090522763,
           0.09314296858346675,
           0.08788471120309685,
           0.04799502838664827,
           0.047015986610008095,
           0.04795755053282662,
           0.05173399511288226,
           0.050065024996622076,
           0.05009715121449555,
           0.04928624364206824,
           0.015684514802717396,
           0.012569642756422174,
           0,
           0.020071901863218073,
           0.0186038106924635,
           0.01882975412387177,
           0.02447962072102689,
           0.026242047944609784,
           0.055758085124991204,
           0.06624171087891136,
           0.036876801754528746,
           0.0630667386125844,
           0.05503934180025466,
           0.05495009500513246,
           0.0900304206301131,
           0.0758079738627928,
           0.08003143927134865
          ],
          [
           0.13577846334794846,
           0.17310630653499373,
           0.15166053266657317,
           0.14607322884726745,
           0.15247223504591415,
           0.1272077877594601,
           0.13649739033313524,
           0.13877388877987146,
           0.19340310468435212,
           0.22601585130866947,
           0.2048217800962228,
           0.0737299171149182,
           0.07552684749484878,
           0.08247108537935176,
           0.08249400801016796,
           0.05908658505143182,
           0.05764683680605664,
           0.04960609967055609,
           0.04923412361938532,
           0.051645364385758535,
           0.050560545784708935,
           0.05244706614772248,
           0.10146933852353408,
           0.08758417659980554,
           0.08998860388553236,
           0.1008748388635811,
           0.09430568205305248,
           0.09615660747618819,
           0.07110005684409663,
           0.08618563656296796,
           0.08738743685482099,
           0.08197981608390177,
           0.04694724992300422,
           0.047419663173209496,
           0.04737347670554906,
           0.04802592810842664,
           0.04794220199500185,
           0.04759597813984718,
           0.04544090128179745,
           0.020959715515155342,
           0.020743339869377406,
           0.020071901863218073,
           0,
           0.01859611807624027,
           0.01731427335603455,
           0.020157454171641647,
           0.02036451214790954,
           0.05079124032325023,
           0.060200297462855254,
           0.03094925445340982,
           0.05603883117112971,
           0.04823453226355245,
           0.04861888188907,
           0.08291796388020349,
           0.06950220527986183,
           0.07418074742571378
          ],
          [
           0.13698315666408703,
           0.17554209882738092,
           0.15145737908266446,
           0.14844290329609944,
           0.15524415426300148,
           0.12867930488986545,
           0.13986628589666333,
           0.13900445658767727,
           0.19647483173643046,
           0.22620007732110534,
           0.20496231743359095,
           0.0756865903849761,
           0.07781463198180709,
           0.08499237385551922,
           0.0848782532501845,
           0.05876454249381029,
           0.05807240823761709,
           0.04687139127240573,
           0.04908251939492665,
           0.052263322001697546,
           0.0524588647530784,
           0.052892995418716934,
           0.10374846094213143,
           0.09024208331835663,
           0.09256851912035532,
           0.10237684238480946,
           0.09433183787374211,
           0.09623394792815951,
           0.07064445884698448,
           0.08340632116313405,
           0.08496529046401169,
           0.08171146158019837,
           0.04778463097678935,
           0.048066774185376894,
           0.0485770228078531,
           0.04913854101840564,
           0.04974012231038278,
           0.04989182539345862,
           0.0475706759774993,
           0.020351749821982578,
           0.018966224100413133,
           0.0186038106924635,
           0.01859611807624027,
           0,
           0.0123776102407369,
           0.021885217864252585,
           0.024244119386541578,
           0.05331572675448484,
           0.06273027438381563,
           0.030854935237405356,
           0.05533963430792333,
           0.04980750563678713,
           0.04659947406840629,
           0.08601658091742381,
           0.07137204067820524,
           0.07600781113197133
          ],
          [
           0.137174545945549,
           0.17504522912023876,
           0.1505650113292139,
           0.14845565154719342,
           0.15493375070191998,
           0.12847511462775182,
           0.1393941127807539,
           0.13827198271122096,
           0.19595022147226324,
           0.22628844709735788,
           0.20416256475536582,
           0.0754265646224696,
           0.07797701659912286,
           0.08449991717888912,
           0.08443182857895218,
           0.057053656283585136,
           0.05758272762156563,
           0.04813232150444601,
           0.04893209266711699,
           0.050751143331264556,
           0.05146467218191958,
           0.05223388464566842,
           0.10329088502441919,
           0.0900129515038135,
           0.09207839381234639,
           0.10262191852391624,
           0.09528877069657578,
           0.0964217812539135,
           0.07041608587031911,
           0.08333655910795568,
           0.0857332236240629,
           0.08141307780926131,
           0.0490857042210183,
           0.048458112550600445,
           0.04856310576770298,
           0.04986305577597461,
           0.049978094707426104,
           0.05047764615972487,
           0.04807056276227606,
           0.019944205837154203,
           0.018165749576525298,
           0.01882975412387177,
           0.01731427335603455,
           0.0123776102407369,
           0,
           0.019985838314376662,
           0.02271770510790429,
           0.05343462236883106,
           0.06208868071071622,
           0.029716386735944487,
           0.054146406153302094,
           0.049329242483721766,
           0.04726107585187011,
           0.08614717937136507,
           0.07174394153690682,
           0.07603089066912774
          ],
          [
           0.13814891116619643,
           0.17089464700710907,
           0.14839964967697014,
           0.14685974005566493,
           0.15086678569371653,
           0.12617659604720602,
           0.13447522912935633,
           0.13620616388530765,
           0.19287042437475385,
           0.22609913593342876,
           0.20433803303860607,
           0.07586005029248584,
           0.07820895256185596,
           0.08367212554751743,
           0.08393341249747945,
           0.060011369589691575,
           0.06219603441825664,
           0.05301871612840484,
           0.05429596380858132,
           0.05393611450514924,
           0.05503377092425221,
           0.05721624374474115,
           0.10214781494831542,
           0.08993956469422264,
           0.09034372483868407,
           0.10374469357937485,
           0.09653019843710842,
           0.09794651144713559,
           0.07675006648246892,
           0.08805454196274246,
           0.08929927915233271,
           0.08671111050270815,
           0.04777038857907271,
           0.049118513444446094,
           0.04767332564934651,
           0.049366088462831435,
           0.04966664745326339,
           0.04792265548918869,
           0.046039540544002736,
           0.024532912423453346,
           0.023440602215219285,
           0.02447962072102689,
           0.020157454171641647,
           0.021885217864252585,
           0.019985838314376662,
           0,
           0.015491936556422654,
           0.052162432693635234,
           0.059772946669986414,
           0.03147953602720587,
           0.0530847185331638,
           0.049379780446241035,
           0.05155436350741999,
           0.08369252873563218,
           0.07001368995139846,
           0.07555995082054846
          ],
          [
           0.13334258293544096,
           0.16699546091535333,
           0.14493655289860907,
           0.1419302786030822,
           0.1468278674678443,
           0.12110814043816631,
           0.1308499419760874,
           0.13328553045502062,
           0.188382470918572,
           0.22022202997352838,
           0.19889217361061384,
           0.07287803138373752,
           0.07539778584554704,
           0.08040149918331108,
           0.08085439901983749,
           0.05467648792249963,
           0.05756790272685353,
           0.050030880516837656,
           0.050845726516601464,
           0.05058531677730423,
           0.05183451749097979,
           0.05344782304839995,
           0.09841847606980361,
           0.08611060047976651,
           0.08629381439773087,
           0.10006407691079892,
           0.09262313104661389,
           0.09418957433115749,
           0.07246422778225843,
           0.08383555598460923,
           0.08516318078515972,
           0.08256725017431832,
           0.04933937302518346,
           0.05206825926928397,
           0.05059839288767311,
           0.04881224190282312,
           0.0510382942752751,
           0.049154629461082976,
           0.047972569937647244,
           0.027876973187551425,
           0.026064992677180397,
           0.026242047944609784,
           0.02036451214790954,
           0.024244119386541578,
           0.02271770510790429,
           0.015491936556422654,
           0,
           0.05082930425167487,
           0.05678485503046907,
           0.02633979401014057,
           0.05152174155486411,
           0.046969053183202325,
           0.04771633574428112,
           0.08110255056215275,
           0.06734742954861235,
           0.07296606260886698
          ],
          [
           0.1125442334079584,
           0.1541411442155859,
           0.15561470669845767,
           0.12471058749834363,
           0.1302979376536074,
           0.13324157378810259,
           0.14013859275053306,
           0.14202271760918422,
           0.17022414915685394,
           0.20943648160897957,
           0.20449010066682113,
           0.05019573376620465,
           0.048373061853857355,
           0.057900298853448176,
           0.05731543198408635,
           0.07247918812849823,
           0.0709048987201542,
           0.06400951069953698,
           0.06403040941941593,
           0.06545617824918518,
           0.06573435961693368,
           0.06781262313285812,
           0.0735869129375662,
           0.060618029474549376,
           0.06785302220173091,
           0.0798176262082031,
           0.07166656681613523,
           0.07517100084633278,
           0.07707314405006632,
           0.08945055961520673,
           0.08874646288554257,
           0.08450749726554027,
           0.024447477535274032,
           0.028005615268386252,
           0.02653376144975005,
           0.02103780138636103,
           0.024012082636603916,
           0.027142392570784938,
           0.02599302594555404,
           0.05532833204676018,
           0.05573484964909584,
           0.055758085124991204,
           0.05079124032325023,
           0.05331572675448484,
           0.05343462236883106,
           0.052162432693635234,
           0.05082930425167487,
           0,
           0.029351891512370894,
           0.05206506436151928,
           0.0637882564632978,
           0.05694875413470571,
           0.059267648169120425,
           0.05605096119793322,
           0.043607971725370565,
           0.0465024098013603
          ],
          [
           0.1055344573420156,
           0.14279248812597903,
           0.14515747453039046,
           0.11520131711690146,
           0.12143972340289304,
           0.12241762409261303,
           0.13041171007827357,
           0.13247710580971644,
           0.16346449273878044,
           0.1969705793594909,
           0.1926296756931888,
           0.04562962155484094,
           0.050138385231601156,
           0.05461067531755881,
           0.054124894421798686,
           0.06740559585870834,
           0.06732203544465479,
           0.06311310291754374,
           0.06311217680457847,
           0.06298576558352961,
           0.06436494014513841,
           0.06526284281133642,
           0.06781942066360863,
           0.05797802085959673,
           0.05827722528360033,
           0.07655767593359136,
           0.06785494144236696,
           0.07134555543058524,
           0.07281593749134133,
           0.0828908457800044,
           0.08394436171939507,
           0.0805523859406274,
           0.038049779870101566,
           0.041703279894293545,
           0.03909853614384432,
           0.03363154515794709,
           0.03794979783262595,
           0.035655182789228225,
           0.037461823806215676,
           0.06629106765099513,
           0.06593952698468944,
           0.06624171087891136,
           0.060200297462855254,
           0.06273027438381563,
           0.06208868071071622,
           0.059772946669986414,
           0.05678485503046907,
           0.029351891512370894,
           0,
           0.052965317239834955,
           0.06167177624805976,
           0.05968527369465236,
           0.05919297729612326,
           0.054865848217365905,
           0.045041652298589814,
           0.046704111476636535
          ],
          [
           0.12351187237469258,
           0.16144313053527132,
           0.13647756539930334,
           0.1353895899588071,
           0.1411960173417879,
           0.11414565995013791,
           0.12466135875160954,
           0.12393821639882056,
           0.1821171649757713,
           0.2118901040724812,
           0.1878516931722045,
           0.06860425058598103,
           0.06949629505531947,
           0.07577237702224007,
           0.07610325487206908,
           0.04766259932537976,
           0.05026581250890376,
           0.04313422754028756,
           0.04361146435387973,
           0.04383115426376762,
           0.04669541359854213,
           0.04716211203165575,
           0.09215898985478231,
           0.08036815724184738,
           0.08107448107448108,
           0.09156575809995793,
           0.08373390110970967,
           0.08536418257785663,
           0.060717661842427516,
           0.07095293726904701,
           0.07350863367389288,
           0.07066291824943044,
           0.05761328436575238,
           0.06015519756917396,
           0.059690509638395624,
           0.0542606685122972,
           0.05874069516538558,
           0.05796186332556299,
           0.05640403427618109,
           0.03679406670249369,
           0.035080162102966675,
           0.036876801754528746,
           0.03094925445340982,
           0.030854935237405356,
           0.029716386735944487,
           0.03147953602720587,
           0.02633979401014057,
           0.05206506436151928,
           0.052965317239834955,
           0,
           0.044058203514021385,
           0.04268384004792571,
           0.03892380785744088,
           0.0765586347624856,
           0.06228421178116516,
           0.06651166051844129
          ],
          [
           0.10701961417586922,
           0.1367398363157733,
           0.111328065566454,
           0.11692567819578785,
           0.11925970682103648,
           0.09410422703192234,
           0.09976114550115675,
           0.09816394100531754,
           0.15850156119981532,
           0.20594894657444415,
           0.18322836637684248,
           0.07795317222287639,
           0.0748945319120778,
           0.08079696572391834,
           0.08258126850989644,
           0.06610760536958873,
           0.06831531859533743,
           0.059017351547741494,
           0.06189334063068429,
           0.06186112414548198,
           0.064726686250792,
           0.06643275231282433,
           0.09477391208780707,
           0.0854508244924843,
           0.08576993443041446,
           0.07683817530928182,
           0.07247670908862064,
           0.07470463033804542,
           0.05025558662825236,
           0.057002228604798054,
           0.05612428031988973,
           0.055964496281480175,
           0.0708995130765194,
           0.07438559368731953,
           0.07322076308745157,
           0.06799531588813343,
           0.07185405477384704,
           0.07187761666157179,
           0.07064680592271001,
           0.060951516387421585,
           0.060720925179265556,
           0.0630667386125844,
           0.05603883117112971,
           0.05533963430792333,
           0.054146406153302094,
           0.0530847185331638,
           0.05152174155486411,
           0.0637882564632978,
           0.06167177624805976,
           0.044058203514021385,
           0,
           0.023222130807537968,
           0.023538016403472053,
           0.053234704640116745,
           0.04437673986295588,
           0.04880951000289939
          ],
          [
           0.1104489080216327,
           0.1439353373345684,
           0.12203274815587419,
           0.12116872521302319,
           0.12366117801424432,
           0.10027129520155811,
           0.10545366197113264,
           0.10798897112752569,
           0.16282411810925934,
           0.21158544735224144,
           0.1905859882021464,
           0.07787823824704115,
           0.07434206284140421,
           0.08102736052125009,
           0.08318519341518064,
           0.06934801581544654,
           0.07005276498649823,
           0.05948810648699725,
           0.0622219991879525,
           0.06462689802297591,
           0.06565926657250858,
           0.06722400837841917,
           0.09687721368140993,
           0.08590518538564366,
           0.08803818105527673,
           0.07875872274921546,
           0.07651475187459965,
           0.0784786431448182,
           0.0505239625541428,
           0.061888711880911974,
           0.06039185536896906,
           0.05755188679245283,
           0.06410662026417781,
           0.06879952408759762,
           0.06630316535654127,
           0.0628938736291044,
           0.06528934173351801,
           0.06624817845533013,
           0.0655620009073411,
           0.052046615664464696,
           0.052697834675680504,
           0.05503934180025466,
           0.04823453226355245,
           0.04980750563678713,
           0.049329242483721766,
           0.049379780446241035,
           0.046969053183202325,
           0.05694875413470571,
           0.05968527369465236,
           0.04268384004792571,
           0.023222130807537968,
           0,
           0.020767789963109396,
           0.05563931399518479,
           0.046595900439238655,
           0.0499744629160129
          ],
          [
           0.10785760729022194,
           0.1438595597227884,
           0.12008982640290675,
           0.12091294643961775,
           0.12481008679251873,
           0.10020216247362161,
           0.10770364139105071,
           0.10613699669538652,
           0.16417832979957492,
           0.20632977652506543,
           0.18580507408202138,
           0.07378916134785597,
           0.07109096750186632,
           0.07788539520662235,
           0.07922938073080131,
           0.0631531752231369,
           0.06256102937951444,
           0.05114150439903521,
           0.05415112869220045,
           0.05864169261769555,
           0.05825498799303665,
           0.05938969452597711,
           0.09342109643636778,
           0.0824665989201137,
           0.08351331893448524,
           0.07595571518636685,
           0.07222869623385864,
           0.07395185644709404,
           0.04526533521870727,
           0.0564840801201375,
           0.05197848837486246,
           0.051560595121142895,
           0.06639358177003989,
           0.07034600208048948,
           0.06884462256614088,
           0.06416047877646015,
           0.06712598773179657,
           0.0685831241756836,
           0.06681193081242583,
           0.05518281833008386,
           0.05409534049709232,
           0.05495009500513246,
           0.04861888188907,
           0.04659947406840629,
           0.04726107585187011,
           0.05155436350741999,
           0.04771633574428112,
           0.059267648169120425,
           0.05919297729612326,
           0.03892380785744088,
           0.023538016403472053,
           0.020767789963109396,
           0,
           0.058549383218993924,
           0.047197254078130205,
           0.04980639441049003
          ],
          [
           0.08386651833132812,
           0.11448230039113294,
           0.12396596518910084,
           0.09172622451524488,
           0.09316350482151749,
           0.10448210167452121,
           0.10648542350889997,
           0.109857851945418,
           0.13074453512172676,
           0.19155517113013773,
           0.186601061847485,
           0.0720772513332492,
           0.06709567032212879,
           0.07306655795289439,
           0.07391499515675573,
           0.08435388538325049,
           0.0840132956498061,
           0.08015668958321688,
           0.08053644412583441,
           0.0810907710968475,
           0.08163093972127386,
           0.08317621803248086,
           0.08147105146647893,
           0.07408315928105494,
           0.07513073029472651,
           0.05840045680407236,
           0.055478875610166636,
           0.05984911015537889,
           0.06631864709769746,
           0.07315942924446332,
           0.07118157784417353,
           0.06866291306839802,
           0.0643781054404853,
           0.06863958365386545,
           0.06637565912760353,
           0.06293120341651631,
           0.06399049763900459,
           0.064213151896947,
           0.06738075990299111,
           0.08899062626155081,
           0.08919341373736656,
           0.0900304206301131,
           0.08291796388020349,
           0.08601658091742381,
           0.08614717937136507,
           0.08369252873563218,
           0.08110255056215275,
           0.05605096119793322,
           0.054865848217365905,
           0.0765586347624856,
           0.053234704640116745,
           0.05563931399518479,
           0.058549383218993924,
           0,
           0.029610193152584473,
           0.029306798651351936
          ],
          [
           0.09307088800944248,
           0.1237972076048426,
           0.13030823781310347,
           0.10229091748378787,
           0.1042743683033145,
           0.10943280662672324,
           0.11529378872374524,
           0.11772466572703899,
           0.1440717677440853,
           0.1970903959366803,
           0.18961210149780486,
           0.06437145069695405,
           0.05973560032261952,
           0.06743571346774514,
           0.06958085617906332,
           0.07713022983098142,
           0.07633973008634459,
           0.07107517743528494,
           0.07117967082156876,
           0.07266995318208015,
           0.07332207896153121,
           0.07491957123066373,
           0.08226832298729142,
           0.07038853758931528,
           0.07330516172719787,
           0.05788892587793774,
           0.051012667829780776,
           0.056132353780856854,
           0.06197556791014691,
           0.07099930052294237,
           0.06887878795116836,
           0.06635773160633571,
           0.048764313188027764,
           0.054013673400680806,
           0.053865233202697455,
           0.04768339382193903,
           0.05060607201965663,
           0.051709077560299244,
           0.05171657367728326,
           0.07522875530843659,
           0.07516137938287998,
           0.0758079738627928,
           0.06950220527986183,
           0.07137204067820524,
           0.07174394153690682,
           0.07001368995139846,
           0.06734742954861235,
           0.043607971725370565,
           0.045041652298589814,
           0.06228421178116516,
           0.04437673986295588,
           0.046595900439238655,
           0.047197254078130205,
           0.029610193152584473,
           0,
           0.022273983894196263
          ],
          [
           0.0857179923458059,
           0.12546454777158525,
           0.12846006331193224,
           0.09896349639558431,
           0.10341910468805075,
           0.1075169959845744,
           0.11301163421544397,
           0.11535022204533604,
           0.14210181570466635,
           0.19270517046933286,
           0.18465275288503208,
           0.05911040029668776,
           0.05256287732220694,
           0.06067023794692911,
           0.06261510128913444,
           0.07297573846300867,
           0.07254407122170176,
           0.06773201020068743,
           0.06776984661981846,
           0.06911991206740883,
           0.07042207912364458,
           0.07118457351280295,
           0.0758974728029458,
           0.0644724753850187,
           0.06748177980079408,
           0.04806508577802512,
           0.047301131621991524,
           0.05102543853351521,
           0.05640815287344941,
           0.06552975187624445,
           0.06392763181605218,
           0.06052906818474881,
           0.055374042611830494,
           0.06006402640702122,
           0.05804619378314215,
           0.05265157355823272,
           0.05359207469073784,
           0.05843088861465942,
           0.05791270095889923,
           0.079368433099599,
           0.07925185054635178,
           0.08003143927134865,
           0.07418074742571378,
           0.07600781113197133,
           0.07603089066912774,
           0.07555995082054846,
           0.07296606260886698,
           0.0465024098013603,
           0.046704111476636535,
           0.06651166051844129,
           0.04880951000289939,
           0.0499744629160129,
           0.04980639441049003,
           0.029306798651351936,
           0.022273983894196263,
           0
          ]
         ]
        },
        {
         "marker": {
          "color": "#636EFA"
         },
         "mode": "markers",
         "name": "Plasma",
         "type": "scatter",
         "x": [
          95,
          105
         ],
         "xaxis": "x",
         "y": [
          1,
          1
         ],
         "yaxis": "y3"
        },
        {
         "marker": {
          "color": "#EF553B"
         },
         "mode": "markers",
         "name": "Tomato",
         "type": "scatter",
         "x": [
          15,
          65
         ],
         "xaxis": "x",
         "y": [
          1,
          1
         ],
         "yaxis": "y3"
        },
        {
         "marker": {
          "color": "#00CC96"
         },
         "mode": "markers",
         "name": "Tomato + Plasma",
         "type": "scatter",
         "x": [
          25,
          35,
          45,
          55,
          75,
          85
         ],
         "xaxis": "x",
         "y": [
          1,
          1,
          1,
          1,
          1,
          1
         ],
         "yaxis": "y3"
        },
        {
         "marker": {
          "color": "#AB63FA"
         },
         "mode": "markers",
         "name": "Fecal_2",
         "type": "scatter",
         "x": [
          255,
          305
         ],
         "xaxis": "x",
         "y": [
          1,
          1
         ],
         "yaxis": "y3"
        },
        {
         "marker": {
          "color": "#FFA15A"
         },
         "mode": "markers",
         "name": "Fecal_2 + Plasma",
         "type": "scatter",
         "x": [
          5,
          265,
          275,
          285,
          295,
          315
         ],
         "xaxis": "x",
         "y": [
          1,
          1,
          1,
          1,
          1,
          1
         ],
         "yaxis": "y3"
        },
        {
         "marker": {
          "color": "#19D3F3"
         },
         "mode": "markers",
         "name": "Fecal_2 + Tomato",
         "type": "scatter",
         "x": [
          505,
          515,
          525,
          535,
          545,
          555
         ],
         "xaxis": "x",
         "y": [
          1,
          1,
          1,
          1,
          1,
          1
         ],
         "yaxis": "y3"
        },
        {
         "marker": {
          "color": "#FF6692"
         },
         "mode": "markers",
         "name": "Fecal_1",
         "type": "scatter",
         "x": [
          135,
          205
         ],
         "xaxis": "x",
         "y": [
          1,
          1
         ],
         "yaxis": "y3"
        },
        {
         "marker": {
          "color": "#B6E880"
         },
         "mode": "markers",
         "name": "Fecal_1 + Fecal_2 + Tomato + Plasma",
         "type": "scatter",
         "x": [
          325,
          335,
          345,
          355,
          365,
          395,
          405,
          415,
          435,
          445,
          475,
          495
         ],
         "xaxis": "x",
         "y": [
          1,
          1,
          1,
          1,
          1,
          1,
          1,
          1,
          1,
          1,
          1,
          1
         ],
         "yaxis": "y3"
        },
        {
         "marker": {
          "color": "#FF97FF"
         },
         "mode": "markers",
         "name": "Fecal_1 + Plasma",
         "type": "scatter",
         "x": [
          145,
          155,
          165,
          215,
          225,
          235
         ],
         "xaxis": "x",
         "y": [
          1,
          1,
          1,
          1,
          1,
          1
         ],
         "yaxis": "y3"
        },
        {
         "marker": {
          "color": "#FECB52"
         },
         "mode": "markers",
         "name": "Fecal_1 + Tomato",
         "type": "scatter",
         "x": [
          375,
          385,
          425,
          455,
          465,
          485
         ],
         "xaxis": "x",
         "y": [
          1,
          1,
          1,
          1,
          1,
          1
         ],
         "yaxis": "y3"
        },
        {
         "marker": {
          "color": "#636EFA"
         },
         "mode": "markers",
         "name": "Fecal_1 + Fecal_2",
         "type": "scatter",
         "x": [
          115,
          125,
          175,
          185,
          195,
          245
         ],
         "xaxis": "x",
         "y": [
          1,
          1,
          1,
          1,
          1,
          1
         ],
         "yaxis": "y3"
        }
       ],
       "layout": {
        "autosize": false,
        "height": 800,
        "hovermode": "closest",
        "legend": {
         "orientation": "v",
         "x": 1,
         "y": 1
        },
        "paper_bgcolor": "rgb(255,255,255)",
        "plot_bgcolor": "rgba(0,0,0,0)",
        "showlegend": true,
        "template": {
         "data": {
          "bar": [
           {
            "error_x": {
             "color": "#2a3f5f"
            },
            "error_y": {
             "color": "#2a3f5f"
            },
            "marker": {
             "line": {
              "color": "#E5ECF6",
              "width": 0.5
             },
             "pattern": {
              "fillmode": "overlay",
              "size": 10,
              "solidity": 0.2
             }
            },
            "type": "bar"
           }
          ],
          "barpolar": [
           {
            "marker": {
             "line": {
              "color": "#E5ECF6",
              "width": 0.5
             },
             "pattern": {
              "fillmode": "overlay",
              "size": 10,
              "solidity": 0.2
             }
            },
            "type": "barpolar"
           }
          ],
          "carpet": [
           {
            "aaxis": {
             "endlinecolor": "#2a3f5f",
             "gridcolor": "white",
             "linecolor": "white",
             "minorgridcolor": "white",
             "startlinecolor": "#2a3f5f"
            },
            "baxis": {
             "endlinecolor": "#2a3f5f",
             "gridcolor": "white",
             "linecolor": "white",
             "minorgridcolor": "white",
             "startlinecolor": "#2a3f5f"
            },
            "type": "carpet"
           }
          ],
          "choropleth": [
           {
            "colorbar": {
             "outlinewidth": 0,
             "ticks": ""
            },
            "type": "choropleth"
           }
          ],
          "contour": [
           {
            "colorbar": {
             "outlinewidth": 0,
             "ticks": ""
            },
            "colorscale": [
             [
              0,
              "#0d0887"
             ],
             [
              0.1111111111111111,
              "#46039f"
             ],
             [
              0.2222222222222222,
              "#7201a8"
             ],
             [
              0.3333333333333333,
              "#9c179e"
             ],
             [
              0.4444444444444444,
              "#bd3786"
             ],
             [
              0.5555555555555556,
              "#d8576b"
             ],
             [
              0.6666666666666666,
              "#ed7953"
             ],
             [
              0.7777777777777778,
              "#fb9f3a"
             ],
             [
              0.8888888888888888,
              "#fdca26"
             ],
             [
              1,
              "#f0f921"
             ]
            ],
            "type": "contour"
           }
          ],
          "contourcarpet": [
           {
            "colorbar": {
             "outlinewidth": 0,
             "ticks": ""
            },
            "type": "contourcarpet"
           }
          ],
          "heatmap": [
           {
            "colorbar": {
             "outlinewidth": 0,
             "ticks": ""
            },
            "colorscale": [
             [
              0,
              "#0d0887"
             ],
             [
              0.1111111111111111,
              "#46039f"
             ],
             [
              0.2222222222222222,
              "#7201a8"
             ],
             [
              0.3333333333333333,
              "#9c179e"
             ],
             [
              0.4444444444444444,
              "#bd3786"
             ],
             [
              0.5555555555555556,
              "#d8576b"
             ],
             [
              0.6666666666666666,
              "#ed7953"
             ],
             [
              0.7777777777777778,
              "#fb9f3a"
             ],
             [
              0.8888888888888888,
              "#fdca26"
             ],
             [
              1,
              "#f0f921"
             ]
            ],
            "type": "heatmap"
           }
          ],
          "heatmapgl": [
           {
            "colorbar": {
             "outlinewidth": 0,
             "ticks": ""
            },
            "colorscale": [
             [
              0,
              "#0d0887"
             ],
             [
              0.1111111111111111,
              "#46039f"
             ],
             [
              0.2222222222222222,
              "#7201a8"
             ],
             [
              0.3333333333333333,
              "#9c179e"
             ],
             [
              0.4444444444444444,
              "#bd3786"
             ],
             [
              0.5555555555555556,
              "#d8576b"
             ],
             [
              0.6666666666666666,
              "#ed7953"
             ],
             [
              0.7777777777777778,
              "#fb9f3a"
             ],
             [
              0.8888888888888888,
              "#fdca26"
             ],
             [
              1,
              "#f0f921"
             ]
            ],
            "type": "heatmapgl"
           }
          ],
          "histogram": [
           {
            "marker": {
             "pattern": {
              "fillmode": "overlay",
              "size": 10,
              "solidity": 0.2
             }
            },
            "type": "histogram"
           }
          ],
          "histogram2d": [
           {
            "colorbar": {
             "outlinewidth": 0,
             "ticks": ""
            },
            "colorscale": [
             [
              0,
              "#0d0887"
             ],
             [
              0.1111111111111111,
              "#46039f"
             ],
             [
              0.2222222222222222,
              "#7201a8"
             ],
             [
              0.3333333333333333,
              "#9c179e"
             ],
             [
              0.4444444444444444,
              "#bd3786"
             ],
             [
              0.5555555555555556,
              "#d8576b"
             ],
             [
              0.6666666666666666,
              "#ed7953"
             ],
             [
              0.7777777777777778,
              "#fb9f3a"
             ],
             [
              0.8888888888888888,
              "#fdca26"
             ],
             [
              1,
              "#f0f921"
             ]
            ],
            "type": "histogram2d"
           }
          ],
          "histogram2dcontour": [
           {
            "colorbar": {
             "outlinewidth": 0,
             "ticks": ""
            },
            "colorscale": [
             [
              0,
              "#0d0887"
             ],
             [
              0.1111111111111111,
              "#46039f"
             ],
             [
              0.2222222222222222,
              "#7201a8"
             ],
             [
              0.3333333333333333,
              "#9c179e"
             ],
             [
              0.4444444444444444,
              "#bd3786"
             ],
             [
              0.5555555555555556,
              "#d8576b"
             ],
             [
              0.6666666666666666,
              "#ed7953"
             ],
             [
              0.7777777777777778,
              "#fb9f3a"
             ],
             [
              0.8888888888888888,
              "#fdca26"
             ],
             [
              1,
              "#f0f921"
             ]
            ],
            "type": "histogram2dcontour"
           }
          ],
          "mesh3d": [
           {
            "colorbar": {
             "outlinewidth": 0,
             "ticks": ""
            },
            "type": "mesh3d"
           }
          ],
          "parcoords": [
           {
            "line": {
             "colorbar": {
              "outlinewidth": 0,
              "ticks": ""
             }
            },
            "type": "parcoords"
           }
          ],
          "pie": [
           {
            "automargin": true,
            "type": "pie"
           }
          ],
          "scatter": [
           {
            "marker": {
             "colorbar": {
              "outlinewidth": 0,
              "ticks": ""
             }
            },
            "type": "scatter"
           }
          ],
          "scatter3d": [
           {
            "line": {
             "colorbar": {
              "outlinewidth": 0,
              "ticks": ""
             }
            },
            "marker": {
             "colorbar": {
              "outlinewidth": 0,
              "ticks": ""
             }
            },
            "type": "scatter3d"
           }
          ],
          "scattercarpet": [
           {
            "marker": {
             "colorbar": {
              "outlinewidth": 0,
              "ticks": ""
             }
            },
            "type": "scattercarpet"
           }
          ],
          "scattergeo": [
           {
            "marker": {
             "colorbar": {
              "outlinewidth": 0,
              "ticks": ""
             }
            },
            "type": "scattergeo"
           }
          ],
          "scattergl": [
           {
            "marker": {
             "colorbar": {
              "outlinewidth": 0,
              "ticks": ""
             }
            },
            "type": "scattergl"
           }
          ],
          "scattermapbox": [
           {
            "marker": {
             "colorbar": {
              "outlinewidth": 0,
              "ticks": ""
             }
            },
            "type": "scattermapbox"
           }
          ],
          "scatterpolar": [
           {
            "marker": {
             "colorbar": {
              "outlinewidth": 0,
              "ticks": ""
             }
            },
            "type": "scatterpolar"
           }
          ],
          "scatterpolargl": [
           {
            "marker": {
             "colorbar": {
              "outlinewidth": 0,
              "ticks": ""
             }
            },
            "type": "scatterpolargl"
           }
          ],
          "scatterternary": [
           {
            "marker": {
             "colorbar": {
              "outlinewidth": 0,
              "ticks": ""
             }
            },
            "type": "scatterternary"
           }
          ],
          "surface": [
           {
            "colorbar": {
             "outlinewidth": 0,
             "ticks": ""
            },
            "colorscale": [
             [
              0,
              "#0d0887"
             ],
             [
              0.1111111111111111,
              "#46039f"
             ],
             [
              0.2222222222222222,
              "#7201a8"
             ],
             [
              0.3333333333333333,
              "#9c179e"
             ],
             [
              0.4444444444444444,
              "#bd3786"
             ],
             [
              0.5555555555555556,
              "#d8576b"
             ],
             [
              0.6666666666666666,
              "#ed7953"
             ],
             [
              0.7777777777777778,
              "#fb9f3a"
             ],
             [
              0.8888888888888888,
              "#fdca26"
             ],
             [
              1,
              "#f0f921"
             ]
            ],
            "type": "surface"
           }
          ],
          "table": [
           {
            "cells": {
             "fill": {
              "color": "#EBF0F8"
             },
             "line": {
              "color": "white"
             }
            },
            "header": {
             "fill": {
              "color": "#C8D4E3"
             },
             "line": {
              "color": "white"
             }
            },
            "type": "table"
           }
          ]
         },
         "layout": {
          "annotationdefaults": {
           "arrowcolor": "#2a3f5f",
           "arrowhead": 0,
           "arrowwidth": 1
          },
          "autotypenumbers": "strict",
          "coloraxis": {
           "colorbar": {
            "outlinewidth": 0,
            "ticks": ""
           }
          },
          "colorscale": {
           "diverging": [
            [
             0,
             "#8e0152"
            ],
            [
             0.1,
             "#c51b7d"
            ],
            [
             0.2,
             "#de77ae"
            ],
            [
             0.3,
             "#f1b6da"
            ],
            [
             0.4,
             "#fde0ef"
            ],
            [
             0.5,
             "#f7f7f7"
            ],
            [
             0.6,
             "#e6f5d0"
            ],
            [
             0.7,
             "#b8e186"
            ],
            [
             0.8,
             "#7fbc41"
            ],
            [
             0.9,
             "#4d9221"
            ],
            [
             1,
             "#276419"
            ]
           ],
           "sequential": [
            [
             0,
             "#0d0887"
            ],
            [
             0.1111111111111111,
             "#46039f"
            ],
            [
             0.2222222222222222,
             "#7201a8"
            ],
            [
             0.3333333333333333,
             "#9c179e"
            ],
            [
             0.4444444444444444,
             "#bd3786"
            ],
            [
             0.5555555555555556,
             "#d8576b"
            ],
            [
             0.6666666666666666,
             "#ed7953"
            ],
            [
             0.7777777777777778,
             "#fb9f3a"
            ],
            [
             0.8888888888888888,
             "#fdca26"
            ],
            [
             1,
             "#f0f921"
            ]
           ],
           "sequentialminus": [
            [
             0,
             "#0d0887"
            ],
            [
             0.1111111111111111,
             "#46039f"
            ],
            [
             0.2222222222222222,
             "#7201a8"
            ],
            [
             0.3333333333333333,
             "#9c179e"
            ],
            [
             0.4444444444444444,
             "#bd3786"
            ],
            [
             0.5555555555555556,
             "#d8576b"
            ],
            [
             0.6666666666666666,
             "#ed7953"
            ],
            [
             0.7777777777777778,
             "#fb9f3a"
            ],
            [
             0.8888888888888888,
             "#fdca26"
            ],
            [
             1,
             "#f0f921"
            ]
           ]
          },
          "colorway": [
           "#636efa",
           "#EF553B",
           "#00cc96",
           "#ab63fa",
           "#FFA15A",
           "#19d3f3",
           "#FF6692",
           "#B6E880",
           "#FF97FF",
           "#FECB52"
          ],
          "font": {
           "color": "#2a3f5f"
          },
          "geo": {
           "bgcolor": "white",
           "lakecolor": "white",
           "landcolor": "#E5ECF6",
           "showlakes": true,
           "showland": true,
           "subunitcolor": "white"
          },
          "hoverlabel": {
           "align": "left"
          },
          "hovermode": "closest",
          "mapbox": {
           "style": "light"
          },
          "paper_bgcolor": "white",
          "plot_bgcolor": "#E5ECF6",
          "polar": {
           "angularaxis": {
            "gridcolor": "white",
            "linecolor": "white",
            "ticks": ""
           },
           "bgcolor": "#E5ECF6",
           "radialaxis": {
            "gridcolor": "white",
            "linecolor": "white",
            "ticks": ""
           }
          },
          "scene": {
           "xaxis": {
            "backgroundcolor": "#E5ECF6",
            "gridcolor": "white",
            "gridwidth": 2,
            "linecolor": "white",
            "showbackground": true,
            "ticks": "",
            "zerolinecolor": "white"
           },
           "yaxis": {
            "backgroundcolor": "#E5ECF6",
            "gridcolor": "white",
            "gridwidth": 2,
            "linecolor": "white",
            "showbackground": true,
            "ticks": "",
            "zerolinecolor": "white"
           },
           "zaxis": {
            "backgroundcolor": "#E5ECF6",
            "gridcolor": "white",
            "gridwidth": 2,
            "linecolor": "white",
            "showbackground": true,
            "ticks": "",
            "zerolinecolor": "white"
           }
          },
          "shapedefaults": {
           "line": {
            "color": "#2a3f5f"
           }
          },
          "ternary": {
           "aaxis": {
            "gridcolor": "white",
            "linecolor": "white",
            "ticks": ""
           },
           "baxis": {
            "gridcolor": "white",
            "linecolor": "white",
            "ticks": ""
           },
           "bgcolor": "#E5ECF6",
           "caxis": {
            "gridcolor": "white",
            "linecolor": "white",
            "ticks": ""
           }
          },
          "title": {
           "x": 0.05
          },
          "xaxis": {
           "automargin": true,
           "gridcolor": "white",
           "linecolor": "white",
           "ticks": "",
           "title": {
            "standoff": 15
           },
           "zerolinecolor": "white",
           "zerolinewidth": 2
          },
          "yaxis": {
           "automargin": true,
           "gridcolor": "white",
           "linecolor": "white",
           "ticks": "",
           "title": {
            "standoff": 15
           },
           "zerolinecolor": "white",
           "zerolinewidth": 2
          }
         }
        },
        "title": {
         "font": {
          "size": 15
         },
         "text": "Heatmap",
         "x": 0.5
        },
        "width": 1200,
        "xaxis": {
         "domain": [
          0.15,
          1
         ],
         "mirror": false,
         "rangemode": "tozero",
         "showgrid": false,
         "showline": false,
         "showticklabels": true,
         "tickangle": 45,
         "tickmode": "array",
         "ticks": "",
         "ticktext": [
          "Fecal_2 + Plasma",
          "Tomato",
          "Tomato + Plasma",
          "Tomato + Plasma",
          "Tomato + Plasma",
          "Tomato + Plasma",
          "Tomato",
          "Tomato + Plasma",
          "Tomato + Plasma",
          "Plasma",
          "Plasma",
          "Fecal_1 + Fecal_2",
          "Fecal_1 + Fecal_2",
          "Fecal_1",
          "Fecal_1 + Plasma",
          "Fecal_1 + Plasma",
          "Fecal_1 + Plasma",
          "Fecal_1 + Fecal_2",
          "Fecal_1 + Fecal_2",
          "Fecal_1 + Fecal_2",
          "Fecal_1",
          "Fecal_1 + Plasma",
          "Fecal_1 + Plasma",
          "Fecal_1 + Plasma",
          "Fecal_1 + Fecal_2",
          "Fecal_2",
          "Fecal_2 + Plasma",
          "Fecal_2 + Plasma",
          "Fecal_2 + Plasma",
          "Fecal_2 + Plasma",
          "Fecal_2",
          "Fecal_2 + Plasma",
          "Fecal_1 + Fecal_2 + Tomato + Plasma",
          "Fecal_1 + Fecal_2 + Tomato + Plasma",
          "Fecal_1 + Fecal_2 + Tomato + Plasma",
          "Fecal_1 + Fecal_2 + Tomato + Plasma",
          "Fecal_1 + Fecal_2 + Tomato + Plasma",
          "Fecal_1 + Tomato",
          "Fecal_1 + Tomato",
          "Fecal_1 + Fecal_2 + Tomato + Plasma",
          "Fecal_1 + Fecal_2 + Tomato + Plasma",
          "Fecal_1 + Fecal_2 + Tomato + Plasma",
          "Fecal_1 + Tomato",
          "Fecal_1 + Fecal_2 + Tomato + Plasma",
          "Fecal_1 + Fecal_2 + Tomato + Plasma",
          "Fecal_1 + Tomato",
          "Fecal_1 + Tomato",
          "Fecal_1 + Fecal_2 + Tomato + Plasma",
          "Fecal_1 + Tomato",
          "Fecal_1 + Fecal_2 + Tomato + Plasma",
          "Fecal_2 + Tomato",
          "Fecal_2 + Tomato",
          "Fecal_2 + Tomato",
          "Fecal_2 + Tomato",
          "Fecal_2 + Tomato",
          "Fecal_2 + Tomato"
         ],
         "tickvals": [
          5,
          15,
          25,
          35,
          45,
          55,
          65,
          75,
          85,
          95,
          105,
          115,
          125,
          135,
          145,
          155,
          165,
          175,
          185,
          195,
          205,
          215,
          225,
          235,
          245,
          255,
          265,
          275,
          285,
          295,
          305,
          315,
          325,
          335,
          345,
          355,
          365,
          375,
          385,
          395,
          405,
          415,
          425,
          435,
          445,
          455,
          465,
          475,
          485,
          495,
          505,
          515,
          525,
          535,
          545,
          555
         ],
         "type": "linear",
         "zeroline": false
        },
        "xaxis2": {
         "domain": [
          0,
          0.14
         ],
         "mirror": false,
         "showgrid": false,
         "showline": false,
         "showticklabels": false,
         "tickangle": 45,
         "ticks": "",
         "zeroline": false
        },
        "yaxis": {
         "domain": [
          0,
          0.87
         ],
         "mirror": false,
         "rangemode": "tozero",
         "showgrid": false,
         "showline": false,
         "showticklabels": false,
         "ticks": "",
         "type": "linear",
         "zeroline": false
        },
        "yaxis2": {
         "domain": [
          0.89,
          1
         ],
         "mirror": false,
         "showgrid": false,
         "showline": false,
         "showticklabels": false,
         "ticks": "",
         "zeroline": false
        },
        "yaxis3": {
         "domain": [
          0.84,
          0.9
         ],
         "mirror": false,
         "showgrid": false,
         "showline": false,
         "showticklabels": false,
         "ticks": "",
         "zeroline": false
        }
       }
      }
     },
     "metadata": {},
     "output_type": "display_data"
    }
   ],
   "source": [
    "df_meta_sub = df_meta[df_meta['Triplicate_number'] == 1]\n",
    "\n",
    "memo.plot_heatmap(\n",
    "    matrix= memo_qe.filtered_memo_matrix,\n",
    "    df_metadata=df_meta_sub,\n",
    "    filename_col = 'Filename',\n",
    "    group_col = 'contains',\n",
    "    plotly_discrete_cm = px.colors.qualitative.Plotly,\n",
    "    linkage_method='ward',\n",
    "    linkage_metric = 'euclidean',\n",
    "    heatmap_metric = 'braycurtis',\n",
    "    norm = False,\n",
    "    scaling= False\n",
    ")"
   ]
  },
  {
   "cell_type": "code",
   "execution_count": 41,
   "metadata": {},
   "outputs": [
    {
     "data": {
      "image/png": "[encoded data removed]",
      "text/plain": [
       "<Figure size 960x640 with 1 Axes>"
      ]
     },
     "metadata": {},
     "output_type": "display_data"
    }
   ],
   "source": [
    "memo.plot_hca(\n",
    "    matrix= memo_qe.filtered_memo_matrix,\n",
    "    df_metadata=df_meta_sub,\n",
    "    filename_col = 'Filename',\n",
    "    group_col = 'contains',\n",
    "    linkage_method='ward',\n",
    "    linkage_metric = 'euclidean',\n",
    "    norm = False,\n",
    "    scaling= False\n",
    ")"
   ]
  },
  {
   "cell_type": "markdown",
   "metadata": {},
   "source": [
    "## Merge MEMO matrix from different MzMine projects"
   ]
  },
  {
   "cell_type": "markdown",
   "metadata": {},
   "source": [
    "First, we load as before the spectra and feature matrix to generate the memo matrix of the different projects to merge.\n",
    "\n",
    "In this case, we will once again use the Qemistree dataset and compare for the same samples data aquired on a QToF with some on a Q-Exactive (Orbitrap)."
   ]
  },
  {
   "cell_type": "code",
   "execution_count": 60,
   "metadata": {},
   "outputs": [
    {
     "name": "stderr",
     "output_type": "stream",
     "text": [
      "  0%|          | 0/99 [00:00<?, ?it/s]"
     ]
    },
    {
     "name": "stdout",
     "output_type": "stream",
     "text": [
      "generating memo_matrix from input featuretable and spectradocument\n"
     ]
    },
    {
     "name": "stderr",
     "output_type": "stream",
     "text": [
      "100%|██████████| 99/99 [00:00<00:00, 107.57it/s]\n"
     ]
    }
   ],
   "source": [
    "# Generate MEMO matrix for QE data\n",
    "\n",
    "feat_table_qe = memo.FeatureTable(path=\"data/qe_qtof_coanalysis/qe_quant_nogapF.csv\")\n",
    "spectra_qe = memo.SpectraDocuments(path=\"data/qe_qtof_coanalysis/qe_spectra_nogapF.mgf\", min_relative_intensity = 0.01,\n",
    "            max_relative_intensity = 1, min_peaks_required=5, losses_from = 10, losses_to = 200, n_decimals = 2)\n",
    "memo_qe = memo.MemoContainer()\n",
    "memo_qe.memo_from_aligned_samples(feat_table_qe, spectra_qe)"
   ]
  },
  {
   "cell_type": "code",
   "execution_count": 61,
   "metadata": {},
   "outputs": [
    {
     "name": "stderr",
     "output_type": "stream",
     "text": [
      " 28%|██▊       | 27/97 [00:00<00:00, 261.96it/s]"
     ]
    },
    {
     "name": "stdout",
     "output_type": "stream",
     "text": [
      "generating memo_matrix from input featuretable and spectradocument\n"
     ]
    },
    {
     "name": "stderr",
     "output_type": "stream",
     "text": [
      "100%|██████████| 97/97 [00:00<00:00, 224.47it/s]\n"
     ]
    }
   ],
   "source": [
    "# Generate MEMO matrix for QToF data\n",
    "\n",
    "feat_table_qtof = memo.FeatureTable(path=\"data/qe_qtof_coanalysis/qtof_quant_nogapF.csv\")\n",
    "spectra_qtof = memo.SpectraDocuments(path=\"data/qe_qtof_coanalysis/qtof_spectra_nogapF.mgf\", min_relative_intensity = 0.01,\n",
    "            max_relative_intensity = 1, min_peaks_required=5, losses_from = 10, losses_to = 200, n_decimals = 2)\n",
    "memo_qtof = memo.MemoContainer()\n",
    "memo_qtof.memo_from_aligned_samples(feat_table_qtof, spectra_qtof)"
   ]
  },
  {
   "cell_type": "code",
   "execution_count": 62,
   "metadata": {},
   "outputs": [],
   "source": [
    "memo_qe.filter_matrix(matrix_to_use='memo_matrix', samples_pattern='blank', max_occurence=100)\n",
    "memo_qtof.filter_matrix(matrix_to_use='memo_matrix', samples_pattern='blank', max_occurence=100)"
   ]
  },
  {
   "cell_type": "markdown",
   "metadata": {},
   "source": [
    "Now, let's merge our 2 MEMO matrix. There is one paramater, drop_not_in_common, to decide wether to keep only shared peaks/losses or all of them."
   ]
  },
  {
   "cell_type": "code",
   "execution_count": 65,
   "metadata": {},
   "outputs": [],
   "source": [
    "memo_merged = memo_qe.merge_memo(memo_qtof, left = 'filtered_memo_matrix', right= 'filtered_memo_matrix', drop_not_in_common=True)"
   ]
  },
  {
   "cell_type": "markdown",
   "metadata": {},
   "source": [
    "PCoA plot of the first 2 components show that the main parameter to discriminate our samples is the Instrument"
   ]
  },
  {
   "cell_type": "code",
   "execution_count": 68,
   "metadata": {},
   "outputs": [
    {
     "data": {
      "application/vnd.plotly.v1+json": {
       "config": {
        "plotlyServerURL": "https://plot.ly"
       },
       "data": [
        {
         "hovertemplate": "<b>%{hovertext}</b><br><br>contains=Plasma<br>PC1 (60.7 %)=%{x}<br>PC2 (13.3 %)=%{y}<extra></extra>",
         "hovertext": [
          "QEC18_NIST_20181227102029.mzML",
          "QEC18_NIST_20181227182328.mzML",
          "QEC18_NIST.mzML",
          "C18_NIST_GA4_01_19419.mzML",
          "C18_NIST_GA4_01_19439.mzML",
          "C18_NIST_GA4_01_19461.mzML"
         ],
         "legendgroup": "Plasma",
         "marker": {
          "color": "#1F77B4",
          "symbol": "circle"
         },
         "mode": "markers",
         "name": "Plasma",
         "orientation": "v",
         "showlegend": true,
         "type": "scatter",
         "x": [
          -0.1649114504931016,
          -0.15669919103716232,
          -0.2438623825985044,
          0.21597887855192838,
          0.22151448021031536,
          0.2200164488442339
         ],
         "xaxis": "x",
         "y": [
          -0.11312288391267292,
          -0.10850456754524394,
          -0.08142185556426329,
          -0.10907606485955798,
          -0.09705950578282273,
          -0.10585435225826172
         ],
         "yaxis": "y"
        },
        {
         "hovertemplate": "<b>%{hovertext}</b><br><br>contains=Tomato<br>PC1 (60.7 %)=%{x}<br>PC2 (13.3 %)=%{y}<extra></extra>",
         "hovertext": [
          "QEC18_To_20181227204313.mzML",
          "QEC18_To_20181227231513.mzML",
          "QEC18_To.mzML",
          "C18_To_GA3_01_19427.mzML",
          "C18_To_GA3_01_19465.mzML",
          "C18_To_GA3_01_19475.mzML"
         ],
         "legendgroup": "Tomato",
         "marker": {
          "color": "#FF7F0E",
          "symbol": "circle"
         },
         "mode": "markers",
         "name": "Tomato",
         "orientation": "v",
         "showlegend": true,
         "type": "scatter",
         "x": [
          -0.21891431740242023,
          -0.2114386016647792,
          -0.21287786317692678,
          0.22536308099563324,
          0.2257816163549609,
          0.22662684421181
         ],
         "xaxis": "x",
         "y": [
          -0.17329296365199792,
          -0.18201159201748157,
          -0.17755554669055584,
          -0.218501402811205,
          -0.22093046420993073,
          -0.22216803373688046
         ],
         "yaxis": "y"
        },
        {
         "hovertemplate": "<b>%{hovertext}</b><br><br>contains=Tomato + Plasma<br>PC1 (60.7 %)=%{x}<br>PC2 (13.3 %)=%{y}<extra></extra>",
         "hovertext": [
          "QEC18_To-1_NIST-3_20181227172525.mzML",
          "QEC18_To-1_NIST-3_20181227214013.mzML",
          "QEC18_To-1_NIST-3.mzML",
          "QEC18_To-1_NIST-1_20181227111754.mzML",
          "QEC18_To-1_NIST-1_20181228010915.mzML",
          "QEC18_To-1_NIST-1.mzML",
          "QEC18_To-3_NIST-1_20181227074824.mzML",
          "QEC18_To-3_NIST-1_20181227160801.mzML",
          "QEC18_To-3_NIST-1.mzML",
          "C18_To-1_NIST-3_GC3_01_19450.mzML",
          "C18_To-1_NIST-3_GC3_01_19459.mzML",
          "C18_To-1_NIST-3_GC3_01_19468.mzML",
          "C18_To-1_NIST-1_GC1_01_19402.mzML",
          "C18_To-1_NIST-1_GC1_01_19442.mzML",
          "C18_To-1_NIST-1_GC1_01_19481.mzML",
          "C18_To-3_NIST-1_GC2_01_19412.mzML",
          "C18_To-3_NIST-1_GC2_01_19432.mzML",
          "C18_To-3_NIST-1_GC2_01_19455.mzML"
         ],
         "legendgroup": "Tomato + Plasma",
         "marker": {
          "color": "#2CA02C",
          "symbol": "circle"
         },
         "mode": "markers",
         "name": "Tomato + Plasma",
         "orientation": "v",
         "showlegend": true,
         "type": "scatter",
         "x": [
          -0.21397327373182903,
          -0.19570818866037143,
          -0.2129438477460193,
          -0.20012277728763525,
          -0.19698736462594485,
          -0.20485728819485036,
          -0.20982998040282916,
          -0.210143307441191,
          -0.19592938847700522,
          0.23997348244320696,
          0.23418329301746021,
          0.24023781222373763,
          0.22828886853120808,
          0.23455665854325047,
          0.23059009242852505,
          0.22730517933595587,
          0.22945980220856055,
          0.22872697069771547
         ],
         "xaxis": "x",
         "y": [
          -0.18428660976100528,
          -0.1979441719077643,
          -0.18331767267727928,
          -0.17517948401522326,
          -0.1896277656751525,
          -0.19217813573426495,
          -0.19029953199962485,
          -0.2014399308348206,
          -0.19227411951914541,
          -0.20701116410679754,
          -0.20583984420932638,
          -0.21112418310380232,
          -0.20666267557710458,
          -0.21273337323056707,
          -0.21117991635255517,
          -0.21284440400571256,
          -0.2102537937253661,
          -0.21506553993615063
         ],
         "yaxis": "y"
        },
        {
         "hovertemplate": "<b>%{hovertext}</b><br><br>contains=Fecal_2<br>PC1 (60.7 %)=%{x}<br>PC2 (13.3 %)=%{y}<extra></extra>",
         "hovertext": [
          "QEC18_F2_20181227121553.mzML",
          "QEC18_F2_20181228001213.mzML",
          "QEC18_F2.mzML",
          "C18_F2_GA2_01_19405.mzML",
          "C18_F2_GA2_01_19444.mzML",
          "C18_F2_GA2_01_19478.mzML"
         ],
         "legendgroup": "Fecal_2",
         "marker": {
          "color": "#D62728",
          "symbol": "circle"
         },
         "mode": "markers",
         "name": "Fecal_2",
         "orientation": "v",
         "showlegend": true,
         "type": "scatter",
         "x": [
          -0.19182665972729018,
          -0.17904334829631113,
          -0.18997186843820074,
          0.20659628805294927,
          0.2056257781335823,
          0.20800215684218837
         ],
         "xaxis": "x",
         "y": [
          0.06353910187710562,
          0.055104350989847825,
          0.0585062377375926,
          0.07631520059342169,
          0.07642464913345016,
          0.08781021664161355
         ],
         "yaxis": "y"
        },
        {
         "hovertemplate": "<b>%{hovertext}</b><br><br>contains=Fecal_2 + Plasma<br>PC1 (60.7 %)=%{x}<br>PC2 (13.3 %)=%{y}<extra></extra>",
         "hovertext": [
          "QEC18_F2-1_NIST-3_20181227103932.mzML",
          "QEC18_F2-1_NIST-3_20181227145038.mzML",
          "QEC18_F2-1_NIST-3.mzML",
          "QEC18_F2-1_NIST-1_20181227212113.mzML",
          "QEC18_F2-1_NIST-1_20181227233413.mzML",
          "QEC18_F2-1_NIST-1.mzML",
          "QEC18_F2-3_NIST-1_20181227162723.mzML",
          "QEC18_F2-3_NIST-1_20181228005015.mzML",
          "QEC18_F2-3_NIST-1.mzML",
          "C18_F2-1_NIST-3_GD4_01_19403.mzML",
          "C18_F2-1_NIST-3_GD4_01_19440.mzML",
          "C18_F2-1_NIST-3_GD4_01_19452.mzML",
          "C18_F2-1_NIST-1_GD2_01_19428.mzML",
          "C18_F2-1_NIST-1_GD2_01_19467.mzML",
          "C18_F2-1_NIST-1_GD2_01_19476.mzML",
          "C18_F2-3_NIST-1_GD3_01_19436.mzML",
          "C18_F2-3_NIST-1_GD3_01_19456.mzML",
          "C18_F2-3_NIST-1_GD3_01_19480.mzML"
         ],
         "legendgroup": "Fecal_2 + Plasma",
         "marker": {
          "color": "#9467BD",
          "symbol": "circle"
         },
         "mode": "markers",
         "name": "Fecal_2 + Plasma",
         "orientation": "v",
         "showlegend": true,
         "type": "scatter",
         "x": [
          -0.19510061568514842,
          -0.16600727873531346,
          -0.22955017053619317,
          -0.18256263042617285,
          -0.17617267349898763,
          -0.1893307088391062,
          -0.18882669481646602,
          -0.17936697625945047,
          -0.1854632580240581,
          0.21719876932603335,
          0.21804625802024527,
          0.21629151975560507,
          0.20844648613720923,
          0.21734527224691277,
          0.21713346125114058,
          0.20840329134216393,
          0.20752018624512944,
          0.21043003532330287
         ],
         "xaxis": "x",
         "y": [
          0.05771627067869635,
          0.03900664050780545,
          -0.033355247570160784,
          0.057290901432473944,
          0.05451776647430856,
          0.06273872411513835,
          0.054366140806304426,
          0.05404296674260901,
          0.05224648757001444,
          0.045998566779261715,
          0.04845274968132834,
          0.04894553909971028,
          0.05999048057965382,
          0.058691206783436346,
          0.05296904009271858,
          0.07109177974588539,
          0.07731846537159184,
          0.07687598445375587
         ],
         "yaxis": "y"
        },
        {
         "hovertemplate": "<b>%{hovertext}</b><br><br>contains=Fecal_2 + Tomato<br>PC1 (60.7 %)=%{x}<br>PC2 (13.3 %)=%{y}<extra></extra>",
         "hovertext": [
          "QEC18_F2-1_To-3_20181226223728.mzML",
          "QEC18_F2-1_To-3_20181227041925.mzML",
          "QEC18_F2-1_To-3.mzML",
          "QEC18_F2-1_To-1_20181227150959.mzML",
          "QEC18_F2-1_To-1_20181228014719.mzML",
          "QEC18_F2-1_To-1.mzML",
          "QEC18_F2-3_To-1_20181227082626.mzML",
          "QEC18_F2-3_To-1_20181227164643.mzML",
          "QEC18_F2-3_To-1.mzML",
          "C18_F2-1_To-3_GB8_01_19401.mzML",
          "C18_F2-1_To-3_GB8_01_19404.mzML",
          "C18_F2-1_To-3_GB8_01_19422.mzML",
          "C18_F2-1_To-1_GB6_01_19438.mzML",
          "C18_F2-1_To-1_GB6_01_19453.mzML",
          "C18_F2-1_To-1_GB6_01_19483.mzML",
          "C18_F2-3_To-1_GB7_01_19409.mzML",
          "C18_F2-3_To-1_GB7_01_19434.mzML",
          "C18_F2-3_To-1_GB7_01_19457.mzML"
         ],
         "legendgroup": "Fecal_2 + Tomato",
         "marker": {
          "color": "#8C564B",
          "symbol": "circle"
         },
         "mode": "markers",
         "name": "Fecal_2 + Tomato",
         "orientation": "v",
         "showlegend": true,
         "type": "scatter",
         "x": [
          -0.20019049615483034,
          -0.1965957145574891,
          -0.20828386014417707,
          -0.18806261879827998,
          -0.1900136127722256,
          -0.19374654363440103,
          -0.19283716573475973,
          -0.19169891831827904,
          -0.19737594535132,
          0.21182568447108063,
          0.21698327939583376,
          0.2172485722167756,
          0.21427076301838868,
          0.21579705074961072,
          0.21774535538527595,
          0.2108754391879157,
          0.21087943525926325,
          0.21183643360881182
         ],
         "xaxis": "x",
         "y": [
          -0.04832959071425057,
          -0.04165798937574414,
          -0.09630950398061858,
          -0.03231645932053099,
          -0.008106589290511392,
          -0.020023196004937252,
          0.0036732762723993054,
          -0.009402589653928092,
          -0.002938197548875916,
          -0.07911258897496444,
          -0.06614643252378699,
          -0.05823273591369805,
          -0.02279262680142836,
          -0.029799608609509518,
          -0.03095702682271553,
          0.008545738870036278,
          0.005856924356509386,
          0.006680687487907058
         ],
         "yaxis": "y"
        },
        {
         "hovertemplate": "<b>%{hovertext}</b><br><br>contains=Fecal_1<br>PC1 (60.7 %)=%{x}<br>PC2 (13.3 %)=%{y}<extra></extra>",
         "hovertext": [
          "QEC18_F1_20181227030329.mzML",
          "QEC18_F1_20181228032223.mzML",
          "QEC18_F1.mzML",
          "C18_F1_GA1_01_19410.mzML",
          "C18_F1_GA1_01_19418.mzML",
          "C18_F1_GA1_01_19488.mzML"
         ],
         "legendgroup": "Fecal_1",
         "marker": {
          "color": "#E377C2",
          "symbol": "circle"
         },
         "mode": "markers",
         "name": "Fecal_1",
         "orientation": "v",
         "showlegend": true,
         "type": "scatter",
         "x": [
          -0.19137351575148764,
          -0.1857413453001179,
          -0.19517178705277505,
          0.1976979984819472,
          0.19571183245351545,
          0.19523022464133655
         ],
         "xaxis": "x",
         "y": [
          0.08075047663637028,
          0.08260794490440326,
          0.08179305855674325,
          0.10021243691011715,
          0.09938914708951553,
          0.10961513434677617
         ],
         "yaxis": "y"
        },
        {
         "hovertemplate": "<b>%{hovertext}</b><br><br>contains=Fecal_1 + Fecal_2 + Tomato + Plasma<br>PC1 (60.7 %)=%{x}<br>PC2 (13.3 %)=%{y}<extra></extra>",
         "hovertext": [
          "QEC18_F1-1_F2-1_NIST-2_To-1_20181227152919.mzML",
          "QEC18_F1-1_F2-1_NIST-2_To-1_20181227225613.mzML",
          "QEC18_F1-1_F2-1_NIST-2_To-1.mzML",
          "QEC18_F1-1_F2-1_NIST-1_To-2_20181227113714.mzML",
          "QEC18_F1-1_F2-1_NIST-1_To-2_20181227184249.mzML",
          "QEC18_F1-1_F2-1_NIST-1_To-2.mzML",
          "QEC18_F1-1_F2-2_NIST-1_To-1_20181227065123.mzML",
          "QEC18_F1-1_F2-2_NIST-1_To-1_20181228034123.mzML",
          "QEC18_F1-1_F2-2_NIST-1_To-1.mzML",
          "QEC18_Qcmix_begin.mzML",
          "QEC18_Qcmix_middle.mzML",
          "QEC18_Qcmix_end.mzML",
          "QEC18_Qcmix_end_20181228041923.mzML",
          "QEC18_F1-1_F2-1_NIST-1_To-1_20181227125436.mzML",
          "QEC18_F1-1_F2-1_NIST-1_To-1_20181227135238.mzML",
          "QEC18_F1-1_F2-1_NIST-1_To-1.mzML",
          "QEC18_F1-2_F2-1_NIST-1_To-1_20181228020619.mzML",
          "QEC18_F1-2_F2-1_NIST-1_To-1_20181228022521.mzML",
          "QEC18_F1-2_F2-1_NIST-1_To-1.mzML",
          "C18_F1-1_F2-1_NIST-2_To-1_GA7_01_19426.mzML",
          "C18_F1-1_F2-1_NIST-2_To-1_GA7_01_19454.mzML",
          "C18_F1-1_F2-1_NIST-2_To-1_GA7_01_19474.mzML",
          "C18_F1-1_F2-1_NIST-1_To-2_GB1_01_19441.mzML",
          "C18_F1-1_F2-1_NIST-1_To-2_GB1_01_19443.mzML",
          "C18_F1-1_F2-1_NIST-1_To-2_GB1_01_19462.mzML",
          "C18_F1-1_F2-2_NIST-1_To-1_GA8_01_19414.mzML",
          "C18_F1-1_F2-2_NIST-1_To-1_GA8_01_19429.mzML",
          "C18_F1-1_F2-2_NIST-1_To-1_GA8_01_19489.mzML",
          "C18_F1-1_F2-1_NIST-1_To-1_GA6_01_19415.mzML",
          "C18_F1-1_F2-1_NIST-1_To-1_GA6_01_19447.mzML",
          "C18_F1-1_F2-1_NIST-1_To-1_GA6_01_19491.mzML",
          "C18_F1-2_F2-1_NIST-1_To-1_GB2_01_19425.mzML",
          "C18_F1-2_F2-1_NIST-1_To-1_GB2_01_19484.mzML",
          "C18_F1-2_F2-1_NIST-1_To-1_GB2_01_19485.mzML"
         ],
         "legendgroup": "Fecal_1 + Fecal_2 + Tomato + Plasma",
         "marker": {
          "color": "#7F7F7F",
          "symbol": "circle"
         },
         "mode": "markers",
         "name": "Fecal_1 + Fecal_2 + Tomato + Plasma",
         "orientation": "v",
         "showlegend": true,
         "type": "scatter",
         "x": [
          -0.19254612808985383,
          -0.19617731511294015,
          -0.1955415090729876,
          -0.19575156061428767,
          -0.19699929255688958,
          -0.19514392030965888,
          -0.19967867643037965,
          -0.18952590105811815,
          -0.1982409490772885,
          -0.21100829344678843,
          -0.1955816376208343,
          -0.19807165847463876,
          -0.18897645767062515,
          -0.1956543064571614,
          -0.1935718722736729,
          -0.19485455831951354,
          -0.1914189794798912,
          -0.19182589989195098,
          -0.19361165276381787,
          0.20013164677848272,
          0.20080501742571077,
          0.20371901527248412,
          0.2019059505159805,
          0.20257451972489607,
          0.19861807224032843,
          0.20188859665312578,
          0.20422770836705123,
          0.20357718469826355,
          0.20636297387166735,
          0.20061072152660273,
          0.2057962358206848,
          0.20311282291545893,
          0.20597737211245723,
          0.20673904526070058
         ],
         "xaxis": "x",
         "y": [
          0.024132117654681793,
          0.026222560891071528,
          0.022832528371208867,
          0.010892611292354611,
          0.012803331847803964,
          0.008168120992410136,
          0.03083616120022973,
          0.03417110820194181,
          0.0314678375160034,
          -0.026951654918087924,
          0.019147475236553555,
          0.02027762632947714,
          0.023956933068385523,
          0.02043873024699288,
          0.020490639161904894,
          0.019183359140332926,
          0.040785061798886774,
          0.04201475488524344,
          0.03493589341346361,
          0.025484347555022296,
          0.03171918662875975,
          0.026016115464525903,
          0.013130607368850052,
          0.007387473756662163,
          0.001994819136061713,
          0.032201688070209,
          0.03521316615729735,
          0.03923823134737191,
          0.02470859802229958,
          0.02729255987413315,
          0.026578032487397606,
          0.04121659835449684,
          0.04796663986762274,
          0.04465368901122387
         ],
         "yaxis": "y"
        },
        {
         "hovertemplate": "<b>%{hovertext}</b><br><br>contains=Fecal_1 + Plasma<br>PC1 (60.7 %)=%{x}<br>PC2 (13.3 %)=%{y}<extra></extra>",
         "hovertext": [
          "QEC18_F1-1_NIST-3_20181227133316.mzML",
          "QEC18_F1-1_NIST-3_20181228012817.mzML",
          "QEC18_F1-1_NIST-3.mzML",
          "QEC18_F1-1_NIST-1_20181227210213.mzML",
          "QEC18_F1-1_NIST-1_20181227215913.mzML",
          "QEC18_F1-1_NIST-1.mzML",
          "QEC18_F1-3_NIST-1_20181227045725.mzML",
          "QEC18_F1-3_NIST-1_20181227170603.mzML",
          "QEC18_F1-3_NIST-1.mzML",
          "C18_F1-1_NIST-3_GD1_01_19400.mzML",
          "C18_F1-1_NIST-3_GD1_01_19449.mzML",
          "C18_F1-1_NIST-3_GD1_01_19482.mzML",
          "C18_F1-1_NIST-1_GC7_01_19464.mzML",
          "C18_F1-1_NIST-1_GC7_01_19466.mzML",
          "C18_F1-1_NIST-1_GC7_01_19469.mzML",
          "C18_F1-3_NIST-1_GC8_01_19407.mzML",
          "C18_F1-3_NIST-1_GC8_01_19424.mzML",
          "C18_F1-3_NIST-1_GC8_01_19458.mzML"
         ],
         "legendgroup": "Fecal_1 + Plasma",
         "marker": {
          "color": "#BCBD22",
          "symbol": "circle"
         },
         "mode": "markers",
         "name": "Fecal_1 + Plasma",
         "orientation": "v",
         "showlegend": true,
         "type": "scatter",
         "x": [
          -0.20868446789079048,
          -0.19552014513067653,
          -0.23673479017934035,
          -0.19802148003185688,
          -0.19507594084070667,
          -0.19989678475259962,
          -0.1966829553471727,
          -0.1957993685051914,
          -0.20152001326235683,
          0.1947778546682136,
          0.19611098987182649,
          0.19480270916498732,
          0.19336846343843556,
          0.19255408042640226,
          0.19440220180263912,
          0.19406649887853566,
          0.19520223565507963,
          0.1936989539527856
         ],
         "xaxis": "x",
         "y": [
          0.07150790319873675,
          0.0727729471799323,
          0.031052702436693305,
          0.07669679013690722,
          0.07466787266418781,
          0.08415248092918837,
          0.08376050320521161,
          0.08409573329596298,
          0.08209671891623732,
          0.0834875281352507,
          0.07679718511868658,
          0.0747171468737178,
          0.09344037494383844,
          0.0962783011655269,
          0.09530435533685677,
          0.10292683323896301,
          0.10125085161564672,
          0.10161314286876315
         ],
         "yaxis": "y"
        },
        {
         "hovertemplate": "<b>%{hovertext}</b><br><br>contains=Fecal_1 + Tomato<br>PC1 (60.7 %)=%{x}<br>PC2 (13.3 %)=%{y}<extra></extra>",
         "hovertext": [
          "QEC18_F1-1_To-3_20181227174446.mzML",
          "QEC18_F1-1_To-3_20181227223713.mzML",
          "QEC18_F1-1_To-3.mzML",
          "QEC18_F1-1_To-1_20181227043825.mzML",
          "QEC18_F1-1_To-1_20181227123513.mzML",
          "QEC18_F1-1_To-1.mzML",
          "QEC18_F1-3_To-1_20181228003115.mzML",
          "QEC18_F1-3_To-1_20181228024423.mzML",
          "QEC18_F1-3_To-1.mzML",
          "C18_F1-1_To-3_GC6_01_19420.mzML",
          "C18_F1-1_To-3_GC6_01_19460.mzML",
          "C18_F1-1_To-3_GC6_01_19473.mzML",
          "C18_F1-1_To-1_GC4_01_19421.mzML",
          "C18_F1-1_To-1_GC4_01_19423.mzML",
          "C18_F1-1_To-1_GC4_01_19445.mzML",
          "C18_F1-3_To-1_GC5_01_19433.mzML",
          "C18_F1-3_To-1_GC5_01_19479.mzML",
          "C18_F1-3_To-1_GC5_01_19486.mzML"
         ],
         "legendgroup": "Fecal_1 + Tomato",
         "marker": {
          "color": "#17BECF",
          "symbol": "circle"
         },
         "mode": "markers",
         "name": "Fecal_1 + Tomato",
         "orientation": "v",
         "showlegend": true,
         "type": "scatter",
         "x": [
          -0.20275937617477308,
          -0.19984144476445628,
          -0.2308080627501786,
          -0.20196577284785666,
          -0.20843602062075103,
          -0.20404214597583176,
          -0.19076702572870938,
          -0.1948483653730356,
          -0.19123827634809631,
          0.20571280656952176,
          0.20357800144863933,
          0.20739094485927093,
          0.20547383496810942,
          0.2016975527051096,
          0.2028017363887432,
          0.20258596919726865,
          0.20234637121694088,
          0.2004051109455349
         ],
         "xaxis": "x",
         "y": [
          -0.009945180093723298,
          -0.012469650389485018,
          -0.04605573996701878,
          0.0005125726661412344,
          -0.014303847313879132,
          -0.004147235140168129,
          0.033977880886438286,
          0.0430290719330098,
          0.03321891715457274,
          -0.0207133345489635,
          -0.03449538041912601,
          -0.03511393119403673,
          0.002633072311796375,
          0.00999374420234205,
          0.011888502938609448,
          0.030725151270963758,
          0.04085979686982423,
          0.035830190551818
         ],
         "yaxis": "y"
        },
        {
         "hovertemplate": "<b>%{hovertext}</b><br><br>contains=Fecal_1 + Fecal_2<br>PC1 (60.7 %)=%{x}<br>PC2 (13.3 %)=%{y}<extra></extra>",
         "hovertext": [
          "QEC18_F1-1_F2-3_20181227012831.mzML",
          "QEC18_F1-1_F2-3_20181227071023.mzML",
          "QEC18_F1-1_F2-3.mzML",
          "QEC18_F1-1_F2-1_20181227084526.mzML",
          "QEC18_F1-1_F2-1_20181227143118.mzML",
          "QEC18_F1-1_F2-1.mzML",
          "QEC18_F1-3_F2-1_20181227131356.mzML",
          "QEC18_F1-3_F2-1_20181227190209.mzML",
          "QEC18_F1-3_F2-1.mzML",
          "C18_F1-1_F2-3_GB5_01_19406.mzML",
          "C18_F1-1_F2-3_GB5_01_19413.mzML",
          "C18_F1-1_F2-3_GB5_01_19430.mzML",
          "C18_F1-1_F2-1_GB3_01_19411.mzML",
          "C18_F1-1_F2-1_GB3_01_19435.mzML",
          "C18_F1-1_F2-1_GB3_01_19451.mzML",
          "C18_F1-3_F2-1_GB4_01_19416.mzML",
          "C18_F1-3_F2-1_GB4_01_19448.mzML",
          "C18_F1-3_F2-1_GB4_01_19463.mzML"
         ],
         "legendgroup": "Fecal_1 + Fecal_2",
         "marker": {
          "color": "#1F77B4",
          "symbol": "circle"
         },
         "mode": "markers",
         "name": "Fecal_1 + Fecal_2",
         "orientation": "v",
         "showlegend": true,
         "type": "scatter",
         "x": [
          -0.1958646881876453,
          -0.20096842336980303,
          -0.2091812385076041,
          -0.21032039390510096,
          -0.2062787451540729,
          -0.26996140319562767,
          -0.20182860440940414,
          -0.19824782037766164,
          -0.19942449700855097,
          0.20194578112477762,
          0.19621649381298178,
          0.19950974674032496,
          0.19382916229810201,
          0.20080601805978845,
          0.19687351386470384,
          0.19691114395567919,
          0.19845565736766624,
          0.19509665244387647
         ],
         "xaxis": "x",
         "y": [
          0.0780659627599938,
          0.07540234172195347,
          0.08711688891690626,
          0.09252785990829837,
          0.08497440586779602,
          0.04485048953474406,
          0.08791536288024795,
          0.07988646588119994,
          0.08420885573082645,
          0.09887165106868732,
          0.10074285086410573,
          0.10162346610085256,
          0.10489566424408824,
          0.09674116134186381,
          0.0994606269083425,
          0.10657130293270188,
          0.10208444038952809,
          0.10056691973534568
         ],
         "yaxis": "y"
        }
       ],
       "layout": {
        "height": 650,
        "legend": {
         "title": {
          "text": "contains"
         },
         "tracegroupgap": 0
        },
        "template": {
         "data": {
          "bar": [
           {
            "error_x": {
             "color": "rgb(36,36,36)"
            },
            "error_y": {
             "color": "rgb(36,36,36)"
            },
            "marker": {
             "line": {
              "color": "white",
              "width": 0.5
             },
             "pattern": {
              "fillmode": "overlay",
              "size": 10,
              "solidity": 0.2
             }
            },
            "type": "bar"
           }
          ],
          "barpolar": [
           {
            "marker": {
             "line": {
              "color": "white",
              "width": 0.5
             },
             "pattern": {
              "fillmode": "overlay",
              "size": 10,
              "solidity": 0.2
             }
            },
            "type": "barpolar"
           }
          ],
          "carpet": [
           {
            "aaxis": {
             "endlinecolor": "rgb(36,36,36)",
             "gridcolor": "white",
             "linecolor": "white",
             "minorgridcolor": "white",
             "startlinecolor": "rgb(36,36,36)"
            },
            "baxis": {
             "endlinecolor": "rgb(36,36,36)",
             "gridcolor": "white",
             "linecolor": "white",
             "minorgridcolor": "white",
             "startlinecolor": "rgb(36,36,36)"
            },
            "type": "carpet"
           }
          ],
          "choropleth": [
           {
            "colorbar": {
             "outlinewidth": 1,
             "tickcolor": "rgb(36,36,36)",
             "ticks": "outside"
            },
            "type": "choropleth"
           }
          ],
          "contour": [
           {
            "colorbar": {
             "outlinewidth": 1,
             "tickcolor": "rgb(36,36,36)",
             "ticks": "outside"
            },
            "colorscale": [
             [
              0,
              "#440154"
             ],
             [
              0.1111111111111111,
              "#482878"
             ],
             [
              0.2222222222222222,
              "#3e4989"
             ],
             [
              0.3333333333333333,
              "#31688e"
             ],
             [
              0.4444444444444444,
              "#26828e"
             ],
             [
              0.5555555555555556,
              "#1f9e89"
             ],
             [
              0.6666666666666666,
              "#35b779"
             ],
             [
              0.7777777777777778,
              "#6ece58"
             ],
             [
              0.8888888888888888,
              "#b5de2b"
             ],
             [
              1,
              "#fde725"
             ]
            ],
            "type": "contour"
           }
          ],
          "contourcarpet": [
           {
            "colorbar": {
             "outlinewidth": 1,
             "tickcolor": "rgb(36,36,36)",
             "ticks": "outside"
            },
            "type": "contourcarpet"
           }
          ],
          "heatmap": [
           {
            "colorbar": {
             "outlinewidth": 1,
             "tickcolor": "rgb(36,36,36)",
             "ticks": "outside"
            },
            "colorscale": [
             [
              0,
              "#440154"
             ],
             [
              0.1111111111111111,
              "#482878"
             ],
             [
              0.2222222222222222,
              "#3e4989"
             ],
             [
              0.3333333333333333,
              "#31688e"
             ],
             [
              0.4444444444444444,
              "#26828e"
             ],
             [
              0.5555555555555556,
              "#1f9e89"
             ],
             [
              0.6666666666666666,
              "#35b779"
             ],
             [
              0.7777777777777778,
              "#6ece58"
             ],
             [
              0.8888888888888888,
              "#b5de2b"
             ],
             [
              1,
              "#fde725"
             ]
            ],
            "type": "heatmap"
           }
          ],
          "heatmapgl": [
           {
            "colorbar": {
             "outlinewidth": 1,
             "tickcolor": "rgb(36,36,36)",
             "ticks": "outside"
            },
            "colorscale": [
             [
              0,
              "#440154"
             ],
             [
              0.1111111111111111,
              "#482878"
             ],
             [
              0.2222222222222222,
              "#3e4989"
             ],
             [
              0.3333333333333333,
              "#31688e"
             ],
             [
              0.4444444444444444,
              "#26828e"
             ],
             [
              0.5555555555555556,
              "#1f9e89"
             ],
             [
              0.6666666666666666,
              "#35b779"
             ],
             [
              0.7777777777777778,
              "#6ece58"
             ],
             [
              0.8888888888888888,
              "#b5de2b"
             ],
             [
              1,
              "#fde725"
             ]
            ],
            "type": "heatmapgl"
           }
          ],
          "histogram": [
           {
            "marker": {
             "line": {
              "color": "white",
              "width": 0.6
             }
            },
            "type": "histogram"
           }
          ],
          "histogram2d": [
           {
            "colorbar": {
             "outlinewidth": 1,
             "tickcolor": "rgb(36,36,36)",
             "ticks": "outside"
            },
            "colorscale": [
             [
              0,
              "#440154"
             ],
             [
              0.1111111111111111,
              "#482878"
             ],
             [
              0.2222222222222222,
              "#3e4989"
             ],
             [
              0.3333333333333333,
              "#31688e"
             ],
             [
              0.4444444444444444,
              "#26828e"
             ],
             [
              0.5555555555555556,
              "#1f9e89"
             ],
             [
              0.6666666666666666,
              "#35b779"
             ],
             [
              0.7777777777777778,
              "#6ece58"
             ],
             [
              0.8888888888888888,
              "#b5de2b"
             ],
             [
              1,
              "#fde725"
             ]
            ],
            "type": "histogram2d"
           }
          ],
          "histogram2dcontour": [
           {
            "colorbar": {
             "outlinewidth": 1,
             "tickcolor": "rgb(36,36,36)",
             "ticks": "outside"
            },
            "colorscale": [
             [
              0,
              "#440154"
             ],
             [
              0.1111111111111111,
              "#482878"
             ],
             [
              0.2222222222222222,
              "#3e4989"
             ],
             [
              0.3333333333333333,
              "#31688e"
             ],
             [
              0.4444444444444444,
              "#26828e"
             ],
             [
              0.5555555555555556,
              "#1f9e89"
             ],
             [
              0.6666666666666666,
              "#35b779"
             ],
             [
              0.7777777777777778,
              "#6ece58"
             ],
             [
              0.8888888888888888,
              "#b5de2b"
             ],
             [
              1,
              "#fde725"
             ]
            ],
            "type": "histogram2dcontour"
           }
          ],
          "mesh3d": [
           {
            "colorbar": {
             "outlinewidth": 1,
             "tickcolor": "rgb(36,36,36)",
             "ticks": "outside"
            },
            "type": "mesh3d"
           }
          ],
          "parcoords": [
           {
            "line": {
             "colorbar": {
              "outlinewidth": 1,
              "tickcolor": "rgb(36,36,36)",
              "ticks": "outside"
             }
            },
            "type": "parcoords"
           }
          ],
          "pie": [
           {
            "automargin": true,
            "type": "pie"
           }
          ],
          "scatter": [
           {
            "marker": {
             "colorbar": {
              "outlinewidth": 1,
              "tickcolor": "rgb(36,36,36)",
              "ticks": "outside"
             }
            },
            "type": "scatter"
           }
          ],
          "scatter3d": [
           {
            "line": {
             "colorbar": {
              "outlinewidth": 1,
              "tickcolor": "rgb(36,36,36)",
              "ticks": "outside"
             }
            },
            "marker": {
             "colorbar": {
              "outlinewidth": 1,
              "tickcolor": "rgb(36,36,36)",
              "ticks": "outside"
             }
            },
            "type": "scatter3d"
           }
          ],
          "scattercarpet": [
           {
            "marker": {
             "colorbar": {
              "outlinewidth": 1,
              "tickcolor": "rgb(36,36,36)",
              "ticks": "outside"
             }
            },
            "type": "scattercarpet"
           }
          ],
          "scattergeo": [
           {
            "marker": {
             "colorbar": {
              "outlinewidth": 1,
              "tickcolor": "rgb(36,36,36)",
              "ticks": "outside"
             }
            },
            "type": "scattergeo"
           }
          ],
          "scattergl": [
           {
            "marker": {
             "colorbar": {
              "outlinewidth": 1,
              "tickcolor": "rgb(36,36,36)",
              "ticks": "outside"
             }
            },
            "type": "scattergl"
           }
          ],
          "scattermapbox": [
           {
            "marker": {
             "colorbar": {
              "outlinewidth": 1,
              "tickcolor": "rgb(36,36,36)",
              "ticks": "outside"
             }
            },
            "type": "scattermapbox"
           }
          ],
          "scatterpolar": [
           {
            "marker": {
             "colorbar": {
              "outlinewidth": 1,
              "tickcolor": "rgb(36,36,36)",
              "ticks": "outside"
             }
            },
            "type": "scatterpolar"
           }
          ],
          "scatterpolargl": [
           {
            "marker": {
             "colorbar": {
              "outlinewidth": 1,
              "tickcolor": "rgb(36,36,36)",
              "ticks": "outside"
             }
            },
            "type": "scatterpolargl"
           }
          ],
          "scatterternary": [
           {
            "marker": {
             "colorbar": {
              "outlinewidth": 1,
              "tickcolor": "rgb(36,36,36)",
              "ticks": "outside"
             }
            },
            "type": "scatterternary"
           }
          ],
          "surface": [
           {
            "colorbar": {
             "outlinewidth": 1,
             "tickcolor": "rgb(36,36,36)",
             "ticks": "outside"
            },
            "colorscale": [
             [
              0,
              "#440154"
             ],
             [
              0.1111111111111111,
              "#482878"
             ],
             [
              0.2222222222222222,
              "#3e4989"
             ],
             [
              0.3333333333333333,
              "#31688e"
             ],
             [
              0.4444444444444444,
              "#26828e"
             ],
             [
              0.5555555555555556,
              "#1f9e89"
             ],
             [
              0.6666666666666666,
              "#35b779"
             ],
             [
              0.7777777777777778,
              "#6ece58"
             ],
             [
              0.8888888888888888,
              "#b5de2b"
             ],
             [
              1,
              "#fde725"
             ]
            ],
            "type": "surface"
           }
          ],
          "table": [
           {
            "cells": {
             "fill": {
              "color": "rgb(237,237,237)"
             },
             "line": {
              "color": "white"
             }
            },
            "header": {
             "fill": {
              "color": "rgb(217,217,217)"
             },
             "line": {
              "color": "white"
             }
            },
            "type": "table"
           }
          ]
         },
         "layout": {
          "annotationdefaults": {
           "arrowhead": 0,
           "arrowwidth": 1
          },
          "autotypenumbers": "strict",
          "coloraxis": {
           "colorbar": {
            "outlinewidth": 1,
            "tickcolor": "rgb(36,36,36)",
            "ticks": "outside"
           }
          },
          "colorscale": {
           "diverging": [
            [
             0,
             "rgb(103,0,31)"
            ],
            [
             0.1,
             "rgb(178,24,43)"
            ],
            [
             0.2,
             "rgb(214,96,77)"
            ],
            [
             0.3,
             "rgb(244,165,130)"
            ],
            [
             0.4,
             "rgb(253,219,199)"
            ],
            [
             0.5,
             "rgb(247,247,247)"
            ],
            [
             0.6,
             "rgb(209,229,240)"
            ],
            [
             0.7,
             "rgb(146,197,222)"
            ],
            [
             0.8,
             "rgb(67,147,195)"
            ],
            [
             0.9,
             "rgb(33,102,172)"
            ],
            [
             1,
             "rgb(5,48,97)"
            ]
           ],
           "sequential": [
            [
             0,
             "#440154"
            ],
            [
             0.1111111111111111,
             "#482878"
            ],
            [
             0.2222222222222222,
             "#3e4989"
            ],
            [
             0.3333333333333333,
             "#31688e"
            ],
            [
             0.4444444444444444,
             "#26828e"
            ],
            [
             0.5555555555555556,
             "#1f9e89"
            ],
            [
             0.6666666666666666,
             "#35b779"
            ],
            [
             0.7777777777777778,
             "#6ece58"
            ],
            [
             0.8888888888888888,
             "#b5de2b"
            ],
            [
             1,
             "#fde725"
            ]
           ],
           "sequentialminus": [
            [
             0,
             "#440154"
            ],
            [
             0.1111111111111111,
             "#482878"
            ],
            [
             0.2222222222222222,
             "#3e4989"
            ],
            [
             0.3333333333333333,
             "#31688e"
            ],
            [
             0.4444444444444444,
             "#26828e"
            ],
            [
             0.5555555555555556,
             "#1f9e89"
            ],
            [
             0.6666666666666666,
             "#35b779"
            ],
            [
             0.7777777777777778,
             "#6ece58"
            ],
            [
             0.8888888888888888,
             "#b5de2b"
            ],
            [
             1,
             "#fde725"
            ]
           ]
          },
          "colorway": [
           "#1F77B4",
           "#FF7F0E",
           "#2CA02C",
           "#D62728",
           "#9467BD",
           "#8C564B",
           "#E377C2",
           "#7F7F7F",
           "#BCBD22",
           "#17BECF"
          ],
          "font": {
           "color": "rgb(36,36,36)"
          },
          "geo": {
           "bgcolor": "white",
           "lakecolor": "white",
           "landcolor": "white",
           "showlakes": true,
           "showland": true,
           "subunitcolor": "white"
          },
          "hoverlabel": {
           "align": "left"
          },
          "hovermode": "closest",
          "mapbox": {
           "style": "light"
          },
          "paper_bgcolor": "white",
          "plot_bgcolor": "white",
          "polar": {
           "angularaxis": {
            "gridcolor": "rgb(232,232,232)",
            "linecolor": "rgb(36,36,36)",
            "showgrid": false,
            "showline": true,
            "ticks": "outside"
           },
           "bgcolor": "white",
           "radialaxis": {
            "gridcolor": "rgb(232,232,232)",
            "linecolor": "rgb(36,36,36)",
            "showgrid": false,
            "showline": true,
            "ticks": "outside"
           }
          },
          "scene": {
           "xaxis": {
            "backgroundcolor": "white",
            "gridcolor": "rgb(232,232,232)",
            "gridwidth": 2,
            "linecolor": "rgb(36,36,36)",
            "showbackground": true,
            "showgrid": false,
            "showline": true,
            "ticks": "outside",
            "zeroline": false,
            "zerolinecolor": "rgb(36,36,36)"
           },
           "yaxis": {
            "backgroundcolor": "white",
            "gridcolor": "rgb(232,232,232)",
            "gridwidth": 2,
            "linecolor": "rgb(36,36,36)",
            "showbackground": true,
            "showgrid": false,
            "showline": true,
            "ticks": "outside",
            "zeroline": false,
            "zerolinecolor": "rgb(36,36,36)"
           },
           "zaxis": {
            "backgroundcolor": "white",
            "gridcolor": "rgb(232,232,232)",
            "gridwidth": 2,
            "linecolor": "rgb(36,36,36)",
            "showbackground": true,
            "showgrid": false,
            "showline": true,
            "ticks": "outside",
            "zeroline": false,
            "zerolinecolor": "rgb(36,36,36)"
           }
          },
          "shapedefaults": {
           "fillcolor": "black",
           "line": {
            "width": 0
           },
           "opacity": 0.3
          },
          "ternary": {
           "aaxis": {
            "gridcolor": "rgb(232,232,232)",
            "linecolor": "rgb(36,36,36)",
            "showgrid": false,
            "showline": true,
            "ticks": "outside"
           },
           "baxis": {
            "gridcolor": "rgb(232,232,232)",
            "linecolor": "rgb(36,36,36)",
            "showgrid": false,
            "showline": true,
            "ticks": "outside"
           },
           "bgcolor": "white",
           "caxis": {
            "gridcolor": "rgb(232,232,232)",
            "linecolor": "rgb(36,36,36)",
            "showgrid": false,
            "showline": true,
            "ticks": "outside"
           }
          },
          "title": {
           "x": 0.05
          },
          "xaxis": {
           "automargin": true,
           "gridcolor": "rgb(232,232,232)",
           "linecolor": "rgb(36,36,36)",
           "showgrid": false,
           "showline": true,
           "ticks": "outside",
           "title": {
            "standoff": 15
           },
           "zeroline": false,
           "zerolinecolor": "rgb(36,36,36)"
          },
          "yaxis": {
           "automargin": true,
           "gridcolor": "rgb(232,232,232)",
           "linecolor": "rgb(36,36,36)",
           "showgrid": false,
           "showline": true,
           "ticks": "outside",
           "title": {
            "standoff": 15
           },
           "zeroline": false,
           "zerolinecolor": "rgb(36,36,36)"
          }
         }
        },
        "title": {
         "text": "2D PCoA"
        },
        "width": 1000,
        "xaxis": {
         "anchor": "y",
         "domain": [
          0,
          1
         ],
         "title": {
          "text": "PC1 (60.7 %)"
         }
        },
        "yaxis": {
         "anchor": "x",
         "domain": [
          0,
          1
         ],
         "title": {
          "text": "PC2 (13.3 %)"
         }
        }
       }
      }
     },
     "metadata": {},
     "output_type": "display_data"
    }
   ],
   "source": [
    "\n",
    "memo.plot_pcoa_2d(\n",
    "    matrix= memo_merged.memo_matrix,\n",
    "    df_metadata=df_meta,\n",
    "    metric= 'braycurtis',\n",
    "    filename_col = 'Filename',\n",
    "    group_col='contains',\n",
    "    norm = True,\n",
    "    scaling= False,\n",
    "    pc_to_plot = [1,2]\n",
    ")"
   ]
  },
  {
   "cell_type": "markdown",
   "metadata": {},
   "source": [
    "But when looking at component 2 and 3, we see that it is possible to cluster chemically related samples using this approach."
   ]
  },
  {
   "cell_type": "code",
   "execution_count": 69,
   "metadata": {},
   "outputs": [
    {
     "data": {
      "application/vnd.plotly.v1+json": {
       "config": {
        "plotlyServerURL": "https://plot.ly"
       },
       "data": [
        {
         "hovertemplate": "<b>%{hovertext}</b><br><br>contains=Plasma<br>PC2 (13.3 %)=%{x}<br>PC3 (9.4 %)=%{y}<extra></extra>",
         "hovertext": [
          "QEC18_NIST_20181227102029.mzML",
          "QEC18_NIST_20181227182328.mzML",
          "QEC18_NIST.mzML",
          "C18_NIST_GA4_01_19419.mzML",
          "C18_NIST_GA4_01_19439.mzML",
          "C18_NIST_GA4_01_19461.mzML"
         ],
         "legendgroup": "Plasma",
         "marker": {
          "color": "#1F77B4",
          "symbol": "circle"
         },
         "mode": "markers",
         "name": "Plasma",
         "orientation": "v",
         "showlegend": true,
         "type": "scatter",
         "x": [
          -0.11312288391267292,
          -0.10850456754524394,
          -0.08142185556426329,
          -0.10907606485955798,
          -0.09705950578282273,
          -0.10585435225826172
         ],
         "xaxis": "x",
         "y": [
          -0.35264603713448844,
          -0.32828380136351576,
          -0.2538783160098286,
          -0.3998240186566248,
          -0.3783391629537366,
          -0.3900532523623737
         ],
         "yaxis": "y"
        },
        {
         "hovertemplate": "<b>%{hovertext}</b><br><br>contains=Tomato<br>PC2 (13.3 %)=%{x}<br>PC3 (9.4 %)=%{y}<extra></extra>",
         "hovertext": [
          "QEC18_To_20181227204313.mzML",
          "QEC18_To_20181227231513.mzML",
          "QEC18_To.mzML",
          "C18_To_GA3_01_19427.mzML",
          "C18_To_GA3_01_19465.mzML",
          "C18_To_GA3_01_19475.mzML"
         ],
         "legendgroup": "Tomato",
         "marker": {
          "color": "#FF7F0E",
          "symbol": "circle"
         },
         "mode": "markers",
         "name": "Tomato",
         "orientation": "v",
         "showlegend": true,
         "type": "scatter",
         "x": [
          -0.17329296365199792,
          -0.18201159201748157,
          -0.17755554669055584,
          -0.218501402811205,
          -0.22093046420993073,
          -0.22216803373688046
         ],
         "xaxis": "x",
         "y": [
          0.04591865846962937,
          0.03874203292694415,
          0.05080573711135603,
          0.08066089792699038,
          0.09473815295899717,
          0.09815745267318454
         ],
         "yaxis": "y"
        },
        {
         "hovertemplate": "<b>%{hovertext}</b><br><br>contains=Tomato + Plasma<br>PC2 (13.3 %)=%{x}<br>PC3 (9.4 %)=%{y}<extra></extra>",
         "hovertext": [
          "QEC18_To-1_NIST-3_20181227172525.mzML",
          "QEC18_To-1_NIST-3_20181227214013.mzML",
          "QEC18_To-1_NIST-3.mzML",
          "QEC18_To-1_NIST-1_20181227111754.mzML",
          "QEC18_To-1_NIST-1_20181228010915.mzML",
          "QEC18_To-1_NIST-1.mzML",
          "QEC18_To-3_NIST-1_20181227074824.mzML",
          "QEC18_To-3_NIST-1_20181227160801.mzML",
          "QEC18_To-3_NIST-1.mzML",
          "C18_To-1_NIST-3_GC3_01_19450.mzML",
          "C18_To-1_NIST-3_GC3_01_19459.mzML",
          "C18_To-1_NIST-3_GC3_01_19468.mzML",
          "C18_To-1_NIST-1_GC1_01_19402.mzML",
          "C18_To-1_NIST-1_GC1_01_19442.mzML",
          "C18_To-1_NIST-1_GC1_01_19481.mzML",
          "C18_To-3_NIST-1_GC2_01_19412.mzML",
          "C18_To-3_NIST-1_GC2_01_19432.mzML",
          "C18_To-3_NIST-1_GC2_01_19455.mzML"
         ],
         "legendgroup": "Tomato + Plasma",
         "marker": {
          "color": "#2CA02C",
          "symbol": "circle"
         },
         "mode": "markers",
         "name": "Tomato + Plasma",
         "orientation": "v",
         "showlegend": true,
         "type": "scatter",
         "x": [
          -0.18428660976100528,
          -0.1979441719077643,
          -0.18331767267727928,
          -0.17517948401522326,
          -0.1896277656751525,
          -0.19217813573426495,
          -0.19029953199962485,
          -0.2014399308348206,
          -0.19227411951914541,
          -0.20701116410679754,
          -0.20583984420932638,
          -0.21112418310380232,
          -0.20666267557710458,
          -0.21273337323056707,
          -0.21117991635255517,
          -0.21284440400571256,
          -0.2102537937253661,
          -0.21506553993615063
         ],
         "xaxis": "x",
         "y": [
          -0.012213221179863142,
          -0.02217672186116118,
          -0.011475030368650293,
          0.016007723771017227,
          0.021446459410905276,
          0.01806299277712528,
          0.025360946062430438,
          0.01186982277175385,
          0.03677590245241217,
          -0.011927272912164404,
          0.0055526295534681636,
          -0.003205161448527795,
          0.042035796913023546,
          0.024888826034732362,
          0.03498887256976293,
          0.05776139699529066,
          0.057983702098901115,
          0.05467246580121277
         ],
         "yaxis": "y"
        },
        {
         "hovertemplate": "<b>%{hovertext}</b><br><br>contains=Fecal_2<br>PC2 (13.3 %)=%{x}<br>PC3 (9.4 %)=%{y}<extra></extra>",
         "hovertext": [
          "QEC18_F2_20181227121553.mzML",
          "QEC18_F2_20181228001213.mzML",
          "QEC18_F2.mzML",
          "C18_F2_GA2_01_19405.mzML",
          "C18_F2_GA2_01_19444.mzML",
          "C18_F2_GA2_01_19478.mzML"
         ],
         "legendgroup": "Fecal_2",
         "marker": {
          "color": "#D62728",
          "symbol": "circle"
         },
         "mode": "markers",
         "name": "Fecal_2",
         "orientation": "v",
         "showlegend": true,
         "type": "scatter",
         "x": [
          0.06353910187710562,
          0.055104350989847825,
          0.0585062377375926,
          0.07631520059342169,
          0.07642464913345016,
          0.08781021664161355
         ],
         "xaxis": "x",
         "y": [
          0.007571000079299647,
          0.009665840070653865,
          0.02210609947360458,
          0.013724789255257986,
          0.013421243072997338,
          0.00845816234164636
         ],
         "yaxis": "y"
        },
        {
         "hovertemplate": "<b>%{hovertext}</b><br><br>contains=Fecal_2 + Plasma<br>PC2 (13.3 %)=%{x}<br>PC3 (9.4 %)=%{y}<extra></extra>",
         "hovertext": [
          "QEC18_F2-1_NIST-3_20181227103932.mzML",
          "QEC18_F2-1_NIST-3_20181227145038.mzML",
          "QEC18_F2-1_NIST-3.mzML",
          "QEC18_F2-1_NIST-1_20181227212113.mzML",
          "QEC18_F2-1_NIST-1_20181227233413.mzML",
          "QEC18_F2-1_NIST-1.mzML",
          "QEC18_F2-3_NIST-1_20181227162723.mzML",
          "QEC18_F2-3_NIST-1_20181228005015.mzML",
          "QEC18_F2-3_NIST-1.mzML",
          "C18_F2-1_NIST-3_GD4_01_19403.mzML",
          "C18_F2-1_NIST-3_GD4_01_19440.mzML",
          "C18_F2-1_NIST-3_GD4_01_19452.mzML",
          "C18_F2-1_NIST-1_GD2_01_19428.mzML",
          "C18_F2-1_NIST-1_GD2_01_19467.mzML",
          "C18_F2-1_NIST-1_GD2_01_19476.mzML",
          "C18_F2-3_NIST-1_GD3_01_19436.mzML",
          "C18_F2-3_NIST-1_GD3_01_19456.mzML",
          "C18_F2-3_NIST-1_GD3_01_19480.mzML"
         ],
         "legendgroup": "Fecal_2 + Plasma",
         "marker": {
          "color": "#9467BD",
          "symbol": "circle"
         },
         "mode": "markers",
         "name": "Fecal_2 + Plasma",
         "orientation": "v",
         "showlegend": true,
         "type": "scatter",
         "x": [
          0.05771627067869635,
          0.03900664050780545,
          -0.033355247570160784,
          0.057290901432473944,
          0.05451776647430856,
          0.06273872411513835,
          0.054366140806304426,
          0.05404296674260901,
          0.05224648757001444,
          0.045998566779261715,
          0.04845274968132834,
          0.04894553909971028,
          0.05999048057965382,
          0.058691206783436346,
          0.05296904009271858,
          0.07109177974588539,
          0.07731846537159184,
          0.07687598445375587
         ],
         "xaxis": "x",
         "y": [
          -0.07062094207449722,
          -0.07748039164551877,
          -0.23786392541107645,
          -0.012131743686193072,
          -0.0126392315268335,
          -0.021610131838148652,
          0.0023310120401443214,
          0.00482651918053301,
          0.0025704139398573266,
          -0.06902783194691507,
          -0.07955587382888234,
          -0.06542713616969499,
          -0.026913759514238123,
          -0.032384816300803,
          -0.03360754725649784,
          -0.003440768327084258,
          0.0007803933857793347,
          -0.005847786673833284
         ],
         "yaxis": "y"
        },
        {
         "hovertemplate": "<b>%{hovertext}</b><br><br>contains=Fecal_2 + Tomato<br>PC2 (13.3 %)=%{x}<br>PC3 (9.4 %)=%{y}<extra></extra>",
         "hovertext": [
          "QEC18_F2-1_To-3_20181226223728.mzML",
          "QEC18_F2-1_To-3_20181227041925.mzML",
          "QEC18_F2-1_To-3.mzML",
          "QEC18_F2-1_To-1_20181227150959.mzML",
          "QEC18_F2-1_To-1_20181228014719.mzML",
          "QEC18_F2-1_To-1.mzML",
          "QEC18_F2-3_To-1_20181227082626.mzML",
          "QEC18_F2-3_To-1_20181227164643.mzML",
          "QEC18_F2-3_To-1.mzML",
          "C18_F2-1_To-3_GB8_01_19401.mzML",
          "C18_F2-1_To-3_GB8_01_19404.mzML",
          "C18_F2-1_To-3_GB8_01_19422.mzML",
          "C18_F2-1_To-1_GB6_01_19438.mzML",
          "C18_F2-1_To-1_GB6_01_19453.mzML",
          "C18_F2-1_To-1_GB6_01_19483.mzML",
          "C18_F2-3_To-1_GB7_01_19409.mzML",
          "C18_F2-3_To-1_GB7_01_19434.mzML",
          "C18_F2-3_To-1_GB7_01_19457.mzML"
         ],
         "legendgroup": "Fecal_2 + Tomato",
         "marker": {
          "color": "#8C564B",
          "symbol": "circle"
         },
         "mode": "markers",
         "name": "Fecal_2 + Tomato",
         "orientation": "v",
         "showlegend": true,
         "type": "scatter",
         "x": [
          -0.04832959071425057,
          -0.04165798937574414,
          -0.09630950398061858,
          -0.03231645932053099,
          -0.008106589290511392,
          -0.020023196004937252,
          0.0036732762723993054,
          -0.009402589653928092,
          -0.002938197548875916,
          -0.07911258897496444,
          -0.06614643252378699,
          -0.05823273591369805,
          -0.02279262680142836,
          -0.029799608609509518,
          -0.03095702682271553,
          0.008545738870036278,
          0.005856924356509386,
          0.006680687487907058
         ],
         "xaxis": "x",
         "y": [
          0.047874087667952155,
          0.050777808457755605,
          0.05505324048697737,
          0.043818716584055686,
          0.044465865054702264,
          0.04522399998180031,
          0.04011569363922789,
          0.045146227920066506,
          0.045617042165537566,
          0.07412578927034895,
          0.07061116313216913,
          0.07319244516683271,
          0.07019298268204105,
          0.0714313487086277,
          0.06987069858716626,
          0.06260596603375028,
          0.06213685630876601,
          0.06433216042966015
         ],
         "yaxis": "y"
        },
        {
         "hovertemplate": "<b>%{hovertext}</b><br><br>contains=Fecal_1<br>PC2 (13.3 %)=%{x}<br>PC3 (9.4 %)=%{y}<extra></extra>",
         "hovertext": [
          "QEC18_F1_20181227030329.mzML",
          "QEC18_F1_20181228032223.mzML",
          "QEC18_F1.mzML",
          "C18_F1_GA1_01_19410.mzML",
          "C18_F1_GA1_01_19418.mzML",
          "C18_F1_GA1_01_19488.mzML"
         ],
         "legendgroup": "Fecal_1",
         "marker": {
          "color": "#E377C2",
          "symbol": "circle"
         },
         "mode": "markers",
         "name": "Fecal_1",
         "orientation": "v",
         "showlegend": true,
         "type": "scatter",
         "x": [
          0.08075047663637028,
          0.08260794490440326,
          0.08179305855674325,
          0.10021243691011715,
          0.09938914708951553,
          0.10961513434677617
         ],
         "xaxis": "x",
         "y": [
          0.014415023664441383,
          0.013939755333123725,
          0.017412191153145025,
          -0.011949008117609685,
          -0.0066769402402408985,
          -0.01657649358933381
         ],
         "yaxis": "y"
        },
        {
         "hovertemplate": "<b>%{hovertext}</b><br><br>contains=Fecal_1 + Fecal_2 + Tomato + Plasma<br>PC2 (13.3 %)=%{x}<br>PC3 (9.4 %)=%{y}<extra></extra>",
         "hovertext": [
          "QEC18_F1-1_F2-1_NIST-2_To-1_20181227152919.mzML",
          "QEC18_F1-1_F2-1_NIST-2_To-1_20181227225613.mzML",
          "QEC18_F1-1_F2-1_NIST-2_To-1.mzML",
          "QEC18_F1-1_F2-1_NIST-1_To-2_20181227113714.mzML",
          "QEC18_F1-1_F2-1_NIST-1_To-2_20181227184249.mzML",
          "QEC18_F1-1_F2-1_NIST-1_To-2.mzML",
          "QEC18_F1-1_F2-2_NIST-1_To-1_20181227065123.mzML",
          "QEC18_F1-1_F2-2_NIST-1_To-1_20181228034123.mzML",
          "QEC18_F1-1_F2-2_NIST-1_To-1.mzML",
          "QEC18_Qcmix_begin.mzML",
          "QEC18_Qcmix_middle.mzML",
          "QEC18_Qcmix_end.mzML",
          "QEC18_Qcmix_end_20181228041923.mzML",
          "QEC18_F1-1_F2-1_NIST-1_To-1_20181227125436.mzML",
          "QEC18_F1-1_F2-1_NIST-1_To-1_20181227135238.mzML",
          "QEC18_F1-1_F2-1_NIST-1_To-1.mzML",
          "QEC18_F1-2_F2-1_NIST-1_To-1_20181228020619.mzML",
          "QEC18_F1-2_F2-1_NIST-1_To-1_20181228022521.mzML",
          "QEC18_F1-2_F2-1_NIST-1_To-1.mzML",
          "C18_F1-1_F2-1_NIST-2_To-1_GA7_01_19426.mzML",
          "C18_F1-1_F2-1_NIST-2_To-1_GA7_01_19454.mzML",
          "C18_F1-1_F2-1_NIST-2_To-1_GA7_01_19474.mzML",
          "C18_F1-1_F2-1_NIST-1_To-2_GB1_01_19441.mzML",
          "C18_F1-1_F2-1_NIST-1_To-2_GB1_01_19443.mzML",
          "C18_F1-1_F2-1_NIST-1_To-2_GB1_01_19462.mzML",
          "C18_F1-1_F2-2_NIST-1_To-1_GA8_01_19414.mzML",
          "C18_F1-1_F2-2_NIST-1_To-1_GA8_01_19429.mzML",
          "C18_F1-1_F2-2_NIST-1_To-1_GA8_01_19489.mzML",
          "C18_F1-1_F2-1_NIST-1_To-1_GA6_01_19415.mzML",
          "C18_F1-1_F2-1_NIST-1_To-1_GA6_01_19447.mzML",
          "C18_F1-1_F2-1_NIST-1_To-1_GA6_01_19491.mzML",
          "C18_F1-2_F2-1_NIST-1_To-1_GB2_01_19425.mzML",
          "C18_F1-2_F2-1_NIST-1_To-1_GB2_01_19484.mzML",
          "C18_F1-2_F2-1_NIST-1_To-1_GB2_01_19485.mzML"
         ],
         "legendgroup": "Fecal_1 + Fecal_2 + Tomato + Plasma",
         "marker": {
          "color": "#7F7F7F",
          "symbol": "circle"
         },
         "mode": "markers",
         "name": "Fecal_1 + Fecal_2 + Tomato + Plasma",
         "orientation": "v",
         "showlegend": true,
         "type": "scatter",
         "x": [
          0.024132117654681793,
          0.026222560891071528,
          0.022832528371208867,
          0.010892611292354611,
          0.012803331847803964,
          0.008168120992410136,
          0.03083616120022973,
          0.03417110820194181,
          0.0314678375160034,
          -0.026951654918087924,
          0.019147475236553555,
          0.02027762632947714,
          0.023956933068385523,
          0.02043873024699288,
          0.020490639161904894,
          0.019183359140332926,
          0.040785061798886774,
          0.04201475488524344,
          0.03493589341346361,
          0.025484347555022296,
          0.03171918662875975,
          0.026016115464525903,
          0.013130607368850052,
          0.007387473756662163,
          0.001994819136061713,
          0.032201688070209,
          0.03521316615729735,
          0.03923823134737191,
          0.02470859802229958,
          0.02729255987413315,
          0.026578032487397606,
          0.04121659835449684,
          0.04796663986762274,
          0.04465368901122387
         ],
         "xaxis": "x",
         "y": [
          0.027041495510793316,
          0.03244053945972537,
          0.032555442190464974,
          0.035145373303770135,
          0.039935659060990766,
          0.035949638321163414,
          0.03382128247248213,
          0.036511329628046464,
          0.03381716106026164,
          -0.00957385519781122,
          0.03018729597167846,
          0.03252440898412152,
          0.03185861428989189,
          0.037587183100270864,
          0.03685411255380081,
          0.03858137191755501,
          0.02761195402491017,
          0.02956915995415874,
          0.03077821846722119,
          0.028792758969993507,
          0.021053830002713242,
          0.02142047720512806,
          0.035432346737530304,
          0.03879923494983977,
          0.04352284511686776,
          0.031065641762178648,
          0.033614649009171535,
          0.027058538104143527,
          0.024569802511190314,
          0.02761957066273792,
          0.025384290678067738,
          0.022165803629899557,
          0.019008839882196208,
          0.021030417245536167
         ],
         "yaxis": "y"
        },
        {
         "hovertemplate": "<b>%{hovertext}</b><br><br>contains=Fecal_1 + Plasma<br>PC2 (13.3 %)=%{x}<br>PC3 (9.4 %)=%{y}<extra></extra>",
         "hovertext": [
          "QEC18_F1-1_NIST-3_20181227133316.mzML",
          "QEC18_F1-1_NIST-3_20181228012817.mzML",
          "QEC18_F1-1_NIST-3.mzML",
          "QEC18_F1-1_NIST-1_20181227210213.mzML",
          "QEC18_F1-1_NIST-1_20181227215913.mzML",
          "QEC18_F1-1_NIST-1.mzML",
          "QEC18_F1-3_NIST-1_20181227045725.mzML",
          "QEC18_F1-3_NIST-1_20181227170603.mzML",
          "QEC18_F1-3_NIST-1.mzML",
          "C18_F1-1_NIST-3_GD1_01_19400.mzML",
          "C18_F1-1_NIST-3_GD1_01_19449.mzML",
          "C18_F1-1_NIST-3_GD1_01_19482.mzML",
          "C18_F1-1_NIST-1_GC7_01_19464.mzML",
          "C18_F1-1_NIST-1_GC7_01_19466.mzML",
          "C18_F1-1_NIST-1_GC7_01_19469.mzML",
          "C18_F1-3_NIST-1_GC8_01_19407.mzML",
          "C18_F1-3_NIST-1_GC8_01_19424.mzML",
          "C18_F1-3_NIST-1_GC8_01_19458.mzML"
         ],
         "legendgroup": "Fecal_1 + Plasma",
         "marker": {
          "color": "#BCBD22",
          "symbol": "circle"
         },
         "mode": "markers",
         "name": "Fecal_1 + Plasma",
         "orientation": "v",
         "showlegend": true,
         "type": "scatter",
         "x": [
          0.07150790319873675,
          0.0727729471799323,
          0.031052702436693305,
          0.07669679013690722,
          0.07466787266418781,
          0.08415248092918837,
          0.08376050320521161,
          0.08409573329596298,
          0.08209671891623732,
          0.0834875281352507,
          0.07679718511868658,
          0.0747171468737178,
          0.09344037494383844,
          0.0962783011655269,
          0.09530435533685677,
          0.10292683323896301,
          0.10125085161564672,
          0.10161314286876315
         ],
         "xaxis": "x",
         "y": [
          -0.03258870201389609,
          -0.02194507971362348,
          -0.13104149017491362,
          -0.006872013795374206,
          -0.008547878227165307,
          -0.0023923726681390344,
          0.0056296058927258925,
          0.0033683130786221287,
          0.004982791605355379,
          -0.07208873645995013,
          -0.08072804443701621,
          -0.0849135581880286,
          -0.04571633255366196,
          -0.04568556514570554,
          -0.04110196068406817,
          -0.02224914016295577,
          -0.02030667614748382,
          -0.024305675982973583
         ],
         "yaxis": "y"
        },
        {
         "hovertemplate": "<b>%{hovertext}</b><br><br>contains=Fecal_1 + Tomato<br>PC2 (13.3 %)=%{x}<br>PC3 (9.4 %)=%{y}<extra></extra>",
         "hovertext": [
          "QEC18_F1-1_To-3_20181227174446.mzML",
          "QEC18_F1-1_To-3_20181227223713.mzML",
          "QEC18_F1-1_To-3.mzML",
          "QEC18_F1-1_To-1_20181227043825.mzML",
          "QEC18_F1-1_To-1_20181227123513.mzML",
          "QEC18_F1-1_To-1.mzML",
          "QEC18_F1-3_To-1_20181228003115.mzML",
          "QEC18_F1-3_To-1_20181228024423.mzML",
          "QEC18_F1-3_To-1.mzML",
          "C18_F1-1_To-3_GC6_01_19420.mzML",
          "C18_F1-1_To-3_GC6_01_19460.mzML",
          "C18_F1-1_To-3_GC6_01_19473.mzML",
          "C18_F1-1_To-1_GC4_01_19421.mzML",
          "C18_F1-1_To-1_GC4_01_19423.mzML",
          "C18_F1-1_To-1_GC4_01_19445.mzML",
          "C18_F1-3_To-1_GC5_01_19433.mzML",
          "C18_F1-3_To-1_GC5_01_19479.mzML",
          "C18_F1-3_To-1_GC5_01_19486.mzML"
         ],
         "legendgroup": "Fecal_1 + Tomato",
         "marker": {
          "color": "#17BECF",
          "symbol": "circle"
         },
         "mode": "markers",
         "name": "Fecal_1 + Tomato",
         "orientation": "v",
         "showlegend": true,
         "type": "scatter",
         "x": [
          -0.009945180093723298,
          -0.012469650389485018,
          -0.04605573996701878,
          0.0005125726661412344,
          -0.014303847313879132,
          -0.004147235140168129,
          0.033977880886438286,
          0.0430290719330098,
          0.03321891715457274,
          -0.0207133345489635,
          -0.03449538041912601,
          -0.03511393119403673,
          0.002633072311796375,
          0.00999374420234205,
          0.011888502938609448,
          0.030725151270963758,
          0.04085979686982423,
          0.035830190551818
         ],
         "xaxis": "x",
         "y": [
          0.046913202057232456,
          0.042681338539514085,
          -0.03369644775397847,
          0.0405588041717668,
          0.023170340525058047,
          0.040794356254634935,
          0.043694753219905916,
          0.01855241013260606,
          0.04054675664777666,
          0.04513291477990143,
          0.04308407595805577,
          0.041800883480192834,
          0.044756547414147696,
          0.04873539808947923,
          0.044150830576502056,
          0.030867594514025862,
          0.02652883799073035,
          0.029475558156061052
         ],
         "yaxis": "y"
        },
        {
         "hovertemplate": "<b>%{hovertext}</b><br><br>contains=Fecal_1 + Fecal_2<br>PC2 (13.3 %)=%{x}<br>PC3 (9.4 %)=%{y}<extra></extra>",
         "hovertext": [
          "QEC18_F1-1_F2-3_20181227012831.mzML",
          "QEC18_F1-1_F2-3_20181227071023.mzML",
          "QEC18_F1-1_F2-3.mzML",
          "QEC18_F1-1_F2-1_20181227084526.mzML",
          "QEC18_F1-1_F2-1_20181227143118.mzML",
          "QEC18_F1-1_F2-1.mzML",
          "QEC18_F1-3_F2-1_20181227131356.mzML",
          "QEC18_F1-3_F2-1_20181227190209.mzML",
          "QEC18_F1-3_F2-1.mzML",
          "C18_F1-1_F2-3_GB5_01_19406.mzML",
          "C18_F1-1_F2-3_GB5_01_19413.mzML",
          "C18_F1-1_F2-3_GB5_01_19430.mzML",
          "C18_F1-1_F2-1_GB3_01_19411.mzML",
          "C18_F1-1_F2-1_GB3_01_19435.mzML",
          "C18_F1-1_F2-1_GB3_01_19451.mzML",
          "C18_F1-3_F2-1_GB4_01_19416.mzML",
          "C18_F1-3_F2-1_GB4_01_19448.mzML",
          "C18_F1-3_F2-1_GB4_01_19463.mzML"
         ],
         "legendgroup": "Fecal_1 + Fecal_2",
         "marker": {
          "color": "#1F77B4",
          "symbol": "circle"
         },
         "mode": "markers",
         "name": "Fecal_1 + Fecal_2",
         "orientation": "v",
         "showlegend": true,
         "type": "scatter",
         "x": [
          0.0780659627599938,
          0.07540234172195347,
          0.08711688891690626,
          0.09252785990829837,
          0.08497440586779602,
          0.04485048953474406,
          0.08791536288024795,
          0.07988646588119994,
          0.08420885573082645,
          0.09887165106868732,
          0.10074285086410573,
          0.10162346610085256,
          0.10489566424408824,
          0.09674116134186381,
          0.0994606269083425,
          0.10657130293270188,
          0.10208444038952809,
          0.10056691973534568
         ],
         "xaxis": "x",
         "y": [
          0.015457800161688082,
          0.015290396410260105,
          0.011540544556020532,
          0.006592967829458806,
          -0.015546909214960863,
          -0.08199285258372642,
          0.01340460224666229,
          0.005085260966002836,
          0.011468290529531593,
          0.003590435289530956,
          0.0006007262889702233,
          0.0010199777911524778,
          -0.0031549041211328495,
          -0.0035119682581260087,
          -0.00012659013904999596,
          -0.00998908100382274,
          -0.0073304831582487896,
          -0.0038479642549872446
         ],
         "yaxis": "y"
        }
       ],
       "layout": {
        "height": 650,
        "legend": {
         "title": {
          "text": "contains"
         },
         "tracegroupgap": 0
        },
        "template": {
         "data": {
          "bar": [
           {
            "error_x": {
             "color": "rgb(36,36,36)"
            },
            "error_y": {
             "color": "rgb(36,36,36)"
            },
            "marker": {
             "line": {
              "color": "white",
              "width": 0.5
             },
             "pattern": {
              "fillmode": "overlay",
              "size": 10,
              "solidity": 0.2
             }
            },
            "type": "bar"
           }
          ],
          "barpolar": [
           {
            "marker": {
             "line": {
              "color": "white",
              "width": 0.5
             },
             "pattern": {
              "fillmode": "overlay",
              "size": 10,
              "solidity": 0.2
             }
            },
            "type": "barpolar"
           }
          ],
          "carpet": [
           {
            "aaxis": {
             "endlinecolor": "rgb(36,36,36)",
             "gridcolor": "white",
             "linecolor": "white",
             "minorgridcolor": "white",
             "startlinecolor": "rgb(36,36,36)"
            },
            "baxis": {
             "endlinecolor": "rgb(36,36,36)",
             "gridcolor": "white",
             "linecolor": "white",
             "minorgridcolor": "white",
             "startlinecolor": "rgb(36,36,36)"
            },
            "type": "carpet"
           }
          ],
          "choropleth": [
           {
            "colorbar": {
             "outlinewidth": 1,
             "tickcolor": "rgb(36,36,36)",
             "ticks": "outside"
            },
            "type": "choropleth"
           }
          ],
          "contour": [
           {
            "colorbar": {
             "outlinewidth": 1,
             "tickcolor": "rgb(36,36,36)",
             "ticks": "outside"
            },
            "colorscale": [
             [
              0,
              "#440154"
             ],
             [
              0.1111111111111111,
              "#482878"
             ],
             [
              0.2222222222222222,
              "#3e4989"
             ],
             [
              0.3333333333333333,
              "#31688e"
             ],
             [
              0.4444444444444444,
              "#26828e"
             ],
             [
              0.5555555555555556,
              "#1f9e89"
             ],
             [
              0.6666666666666666,
              "#35b779"
             ],
             [
              0.7777777777777778,
              "#6ece58"
             ],
             [
              0.8888888888888888,
              "#b5de2b"
             ],
             [
              1,
              "#fde725"
             ]
            ],
            "type": "contour"
           }
          ],
          "contourcarpet": [
           {
            "colorbar": {
             "outlinewidth": 1,
             "tickcolor": "rgb(36,36,36)",
             "ticks": "outside"
            },
            "type": "contourcarpet"
           }
          ],
          "heatmap": [
           {
            "colorbar": {
             "outlinewidth": 1,
             "tickcolor": "rgb(36,36,36)",
             "ticks": "outside"
            },
            "colorscale": [
             [
              0,
              "#440154"
             ],
             [
              0.1111111111111111,
              "#482878"
             ],
             [
              0.2222222222222222,
              "#3e4989"
             ],
             [
              0.3333333333333333,
              "#31688e"
             ],
             [
              0.4444444444444444,
              "#26828e"
             ],
             [
              0.5555555555555556,
              "#1f9e89"
             ],
             [
              0.6666666666666666,
              "#35b779"
             ],
             [
              0.7777777777777778,
              "#6ece58"
             ],
             [
              0.8888888888888888,
              "#b5de2b"
             ],
             [
              1,
              "#fde725"
             ]
            ],
            "type": "heatmap"
           }
          ],
          "heatmapgl": [
           {
            "colorbar": {
             "outlinewidth": 1,
             "tickcolor": "rgb(36,36,36)",
             "ticks": "outside"
            },
            "colorscale": [
             [
              0,
              "#440154"
             ],
             [
              0.1111111111111111,
              "#482878"
             ],
             [
              0.2222222222222222,
              "#3e4989"
             ],
             [
              0.3333333333333333,
              "#31688e"
             ],
             [
              0.4444444444444444,
              "#26828e"
             ],
             [
              0.5555555555555556,
              "#1f9e89"
             ],
             [
              0.6666666666666666,
              "#35b779"
             ],
             [
              0.7777777777777778,
              "#6ece58"
             ],
             [
              0.8888888888888888,
              "#b5de2b"
             ],
             [
              1,
              "#fde725"
             ]
            ],
            "type": "heatmapgl"
           }
          ],
          "histogram": [
           {
            "marker": {
             "line": {
              "color": "white",
              "width": 0.6
             }
            },
            "type": "histogram"
           }
          ],
          "histogram2d": [
           {
            "colorbar": {
             "outlinewidth": 1,
             "tickcolor": "rgb(36,36,36)",
             "ticks": "outside"
            },
            "colorscale": [
             [
              0,
              "#440154"
             ],
             [
              0.1111111111111111,
              "#482878"
             ],
             [
              0.2222222222222222,
              "#3e4989"
             ],
             [
              0.3333333333333333,
              "#31688e"
             ],
             [
              0.4444444444444444,
              "#26828e"
             ],
             [
              0.5555555555555556,
              "#1f9e89"
             ],
             [
              0.6666666666666666,
              "#35b779"
             ],
             [
              0.7777777777777778,
              "#6ece58"
             ],
             [
              0.8888888888888888,
              "#b5de2b"
             ],
             [
              1,
              "#fde725"
             ]
            ],
            "type": "histogram2d"
           }
          ],
          "histogram2dcontour": [
           {
            "colorbar": {
             "outlinewidth": 1,
             "tickcolor": "rgb(36,36,36)",
             "ticks": "outside"
            },
            "colorscale": [
             [
              0,
              "#440154"
             ],
             [
              0.1111111111111111,
              "#482878"
             ],
             [
              0.2222222222222222,
              "#3e4989"
             ],
             [
              0.3333333333333333,
              "#31688e"
             ],
             [
              0.4444444444444444,
              "#26828e"
             ],
             [
              0.5555555555555556,
              "#1f9e89"
             ],
             [
              0.6666666666666666,
              "#35b779"
             ],
             [
              0.7777777777777778,
              "#6ece58"
             ],
             [
              0.8888888888888888,
              "#b5de2b"
             ],
             [
              1,
              "#fde725"
             ]
            ],
            "type": "histogram2dcontour"
           }
          ],
          "mesh3d": [
           {
            "colorbar": {
             "outlinewidth": 1,
             "tickcolor": "rgb(36,36,36)",
             "ticks": "outside"
            },
            "type": "mesh3d"
           }
          ],
          "parcoords": [
           {
            "line": {
             "colorbar": {
              "outlinewidth": 1,
              "tickcolor": "rgb(36,36,36)",
              "ticks": "outside"
             }
            },
            "type": "parcoords"
           }
          ],
          "pie": [
           {
            "automargin": true,
            "type": "pie"
           }
          ],
          "scatter": [
           {
            "marker": {
             "colorbar": {
              "outlinewidth": 1,
              "tickcolor": "rgb(36,36,36)",
              "ticks": "outside"
             }
            },
            "type": "scatter"
           }
          ],
          "scatter3d": [
           {
            "line": {
             "colorbar": {
              "outlinewidth": 1,
              "tickcolor": "rgb(36,36,36)",
              "ticks": "outside"
             }
            },
            "marker": {
             "colorbar": {
              "outlinewidth": 1,
              "tickcolor": "rgb(36,36,36)",
              "ticks": "outside"
             }
            },
            "type": "scatter3d"
           }
          ],
          "scattercarpet": [
           {
            "marker": {
             "colorbar": {
              "outlinewidth": 1,
              "tickcolor": "rgb(36,36,36)",
              "ticks": "outside"
             }
            },
            "type": "scattercarpet"
           }
          ],
          "scattergeo": [
           {
            "marker": {
             "colorbar": {
              "outlinewidth": 1,
              "tickcolor": "rgb(36,36,36)",
              "ticks": "outside"
             }
            },
            "type": "scattergeo"
           }
          ],
          "scattergl": [
           {
            "marker": {
             "colorbar": {
              "outlinewidth": 1,
              "tickcolor": "rgb(36,36,36)",
              "ticks": "outside"
             }
            },
            "type": "scattergl"
           }
          ],
          "scattermapbox": [
           {
            "marker": {
             "colorbar": {
              "outlinewidth": 1,
              "tickcolor": "rgb(36,36,36)",
              "ticks": "outside"
             }
            },
            "type": "scattermapbox"
           }
          ],
          "scatterpolar": [
           {
            "marker": {
             "colorbar": {
              "outlinewidth": 1,
              "tickcolor": "rgb(36,36,36)",
              "ticks": "outside"
             }
            },
            "type": "scatterpolar"
           }
          ],
          "scatterpolargl": [
           {
            "marker": {
             "colorbar": {
              "outlinewidth": 1,
              "tickcolor": "rgb(36,36,36)",
              "ticks": "outside"
             }
            },
            "type": "scatterpolargl"
           }
          ],
          "scatterternary": [
           {
            "marker": {
             "colorbar": {
              "outlinewidth": 1,
              "tickcolor": "rgb(36,36,36)",
              "ticks": "outside"
             }
            },
            "type": "scatterternary"
           }
          ],
          "surface": [
           {
            "colorbar": {
             "outlinewidth": 1,
             "tickcolor": "rgb(36,36,36)",
             "ticks": "outside"
            },
            "colorscale": [
             [
              0,
              "#440154"
             ],
             [
              0.1111111111111111,
              "#482878"
             ],
             [
              0.2222222222222222,
              "#3e4989"
             ],
             [
              0.3333333333333333,
              "#31688e"
             ],
             [
              0.4444444444444444,
              "#26828e"
             ],
             [
              0.5555555555555556,
              "#1f9e89"
             ],
             [
              0.6666666666666666,
              "#35b779"
             ],
             [
              0.7777777777777778,
              "#6ece58"
             ],
             [
              0.8888888888888888,
              "#b5de2b"
             ],
             [
              1,
              "#fde725"
             ]
            ],
            "type": "surface"
           }
          ],
          "table": [
           {
            "cells": {
             "fill": {
              "color": "rgb(237,237,237)"
             },
             "line": {
              "color": "white"
             }
            },
            "header": {
             "fill": {
              "color": "rgb(217,217,217)"
             },
             "line": {
              "color": "white"
             }
            },
            "type": "table"
           }
          ]
         },
         "layout": {
          "annotationdefaults": {
           "arrowhead": 0,
           "arrowwidth": 1
          },
          "autotypenumbers": "strict",
          "coloraxis": {
           "colorbar": {
            "outlinewidth": 1,
            "tickcolor": "rgb(36,36,36)",
            "ticks": "outside"
           }
          },
          "colorscale": {
           "diverging": [
            [
             0,
             "rgb(103,0,31)"
            ],
            [
             0.1,
             "rgb(178,24,43)"
            ],
            [
             0.2,
             "rgb(214,96,77)"
            ],
            [
             0.3,
             "rgb(244,165,130)"
            ],
            [
             0.4,
             "rgb(253,219,199)"
            ],
            [
             0.5,
             "rgb(247,247,247)"
            ],
            [
             0.6,
             "rgb(209,229,240)"
            ],
            [
             0.7,
             "rgb(146,197,222)"
            ],
            [
             0.8,
             "rgb(67,147,195)"
            ],
            [
             0.9,
             "rgb(33,102,172)"
            ],
            [
             1,
             "rgb(5,48,97)"
            ]
           ],
           "sequential": [
            [
             0,
             "#440154"
            ],
            [
             0.1111111111111111,
             "#482878"
            ],
            [
             0.2222222222222222,
             "#3e4989"
            ],
            [
             0.3333333333333333,
             "#31688e"
            ],
            [
             0.4444444444444444,
             "#26828e"
            ],
            [
             0.5555555555555556,
             "#1f9e89"
            ],
            [
             0.6666666666666666,
             "#35b779"
            ],
            [
             0.7777777777777778,
             "#6ece58"
            ],
            [
             0.8888888888888888,
             "#b5de2b"
            ],
            [
             1,
             "#fde725"
            ]
           ],
           "sequentialminus": [
            [
             0,
             "#440154"
            ],
            [
             0.1111111111111111,
             "#482878"
            ],
            [
             0.2222222222222222,
             "#3e4989"
            ],
            [
             0.3333333333333333,
             "#31688e"
            ],
            [
             0.4444444444444444,
             "#26828e"
            ],
            [
             0.5555555555555556,
             "#1f9e89"
            ],
            [
             0.6666666666666666,
             "#35b779"
            ],
            [
             0.7777777777777778,
             "#6ece58"
            ],
            [
             0.8888888888888888,
             "#b5de2b"
            ],
            [
             1,
             "#fde725"
            ]
           ]
          },
          "colorway": [
           "#1F77B4",
           "#FF7F0E",
           "#2CA02C",
           "#D62728",
           "#9467BD",
           "#8C564B",
           "#E377C2",
           "#7F7F7F",
           "#BCBD22",
           "#17BECF"
          ],
          "font": {
           "color": "rgb(36,36,36)"
          },
          "geo": {
           "bgcolor": "white",
           "lakecolor": "white",
           "landcolor": "white",
           "showlakes": true,
           "showland": true,
           "subunitcolor": "white"
          },
          "hoverlabel": {
           "align": "left"
          },
          "hovermode": "closest",
          "mapbox": {
           "style": "light"
          },
          "paper_bgcolor": "white",
          "plot_bgcolor": "white",
          "polar": {
           "angularaxis": {
            "gridcolor": "rgb(232,232,232)",
            "linecolor": "rgb(36,36,36)",
            "showgrid": false,
            "showline": true,
            "ticks": "outside"
           },
           "bgcolor": "white",
           "radialaxis": {
            "gridcolor": "rgb(232,232,232)",
            "linecolor": "rgb(36,36,36)",
            "showgrid": false,
            "showline": true,
            "ticks": "outside"
           }
          },
          "scene": {
           "xaxis": {
            "backgroundcolor": "white",
            "gridcolor": "rgb(232,232,232)",
            "gridwidth": 2,
            "linecolor": "rgb(36,36,36)",
            "showbackground": true,
            "showgrid": false,
            "showline": true,
            "ticks": "outside",
            "zeroline": false,
            "zerolinecolor": "rgb(36,36,36)"
           },
           "yaxis": {
            "backgroundcolor": "white",
            "gridcolor": "rgb(232,232,232)",
            "gridwidth": 2,
            "linecolor": "rgb(36,36,36)",
            "showbackground": true,
            "showgrid": false,
            "showline": true,
            "ticks": "outside",
            "zeroline": false,
            "zerolinecolor": "rgb(36,36,36)"
           },
           "zaxis": {
            "backgroundcolor": "white",
            "gridcolor": "rgb(232,232,232)",
            "gridwidth": 2,
            "linecolor": "rgb(36,36,36)",
            "showbackground": true,
            "showgrid": false,
            "showline": true,
            "ticks": "outside",
            "zeroline": false,
            "zerolinecolor": "rgb(36,36,36)"
           }
          },
          "shapedefaults": {
           "fillcolor": "black",
           "line": {
            "width": 0
           },
           "opacity": 0.3
          },
          "ternary": {
           "aaxis": {
            "gridcolor": "rgb(232,232,232)",
            "linecolor": "rgb(36,36,36)",
            "showgrid": false,
            "showline": true,
            "ticks": "outside"
           },
           "baxis": {
            "gridcolor": "rgb(232,232,232)",
            "linecolor": "rgb(36,36,36)",
            "showgrid": false,
            "showline": true,
            "ticks": "outside"
           },
           "bgcolor": "white",
           "caxis": {
            "gridcolor": "rgb(232,232,232)",
            "linecolor": "rgb(36,36,36)",
            "showgrid": false,
            "showline": true,
            "ticks": "outside"
           }
          },
          "title": {
           "x": 0.05
          },
          "xaxis": {
           "automargin": true,
           "gridcolor": "rgb(232,232,232)",
           "linecolor": "rgb(36,36,36)",
           "showgrid": false,
           "showline": true,
           "ticks": "outside",
           "title": {
            "standoff": 15
           },
           "zeroline": false,
           "zerolinecolor": "rgb(36,36,36)"
          },
          "yaxis": {
           "automargin": true,
           "gridcolor": "rgb(232,232,232)",
           "linecolor": "rgb(36,36,36)",
           "showgrid": false,
           "showline": true,
           "ticks": "outside",
           "title": {
            "standoff": 15
           },
           "zeroline": false,
           "zerolinecolor": "rgb(36,36,36)"
          }
         }
        },
        "title": {
         "text": "2D PCoA"
        },
        "width": 1000,
        "xaxis": {
         "anchor": "y",
         "domain": [
          0,
          1
         ],
         "title": {
          "text": "PC2 (13.3 %)"
         }
        },
        "yaxis": {
         "anchor": "x",
         "domain": [
          0,
          1
         ],
         "title": {
          "text": "PC3 (9.4 %)"
         }
        }
       }
      }
     },
     "metadata": {},
     "output_type": "display_data"
    }
   ],
   "source": [
    "\n",
    "memo.plot_pcoa_2d(\n",
    "    matrix= memo_merged.memo_matrix,\n",
    "    df_metadata=df_meta,\n",
    "    metric= 'braycurtis',\n",
    "    filename_col = 'Filename',\n",
    "    group_col='contains',\n",
    "    norm = True,\n",
    "    scaling= False,\n",
    "    pc_to_plot = [2,3]\n",
    ")"
   ]
  },
  {
   "cell_type": "code",
   "execution_count": null,
   "metadata": {},
   "outputs": [],
   "source": []
  }
 ],
 "metadata": {
  "celltoolbar": "Tags",
  "interpreter": {
   "hash": "bf27a2d4a0753834bb94f8ff78247bd00bc6063ee2884368a40f3120b4342aed"
  },
  "kernelspec": {
   "display_name": "Python 3.9.6 64-bit ('memo': conda)",
   "name": "python3"
  },
  "language_info": {
   "codemirror_mode": {
    "name": "ipython",
    "version": 3
   },
   "file_extension": ".py",
   "mimetype": "text/x-python",
   "name": "python",
   "nbconvert_exporter": "python",
   "pygments_lexer": "ipython3",
   "version": "3.9.6"
  }
 },
 "nbformat": 4,
 "nbformat_minor": 4
}
